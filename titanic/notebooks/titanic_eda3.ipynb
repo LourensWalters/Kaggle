{
 "cells": [
  {
   "cell_type": "markdown",
   "metadata": {
    "collapsed": true,
    "pycharm": {
     "name": "#%% md\n"
    }
   },
   "source": [
    "# Titanic Exploratory Data Analysis\n",
    "### Prediction of survival rate using 9 variables"
   ]
  },
  {
   "cell_type": "markdown",
   "metadata": {},
   "source": [
    "For this analysis we use the <b>Titanic Kaggle Competition</b> dataset found on the Kaggle Data\n",
    "Repository at the following location:\n",
    "\n",
    "<a href=https://www.kaggle.com/c/titanic/data>Titanic Kaggle Competition Dataset</a>\n",
    "\n",
    "The objective of the analysis is to classify passengers on the Titanic during the disaster\n",
    "of 1912 according to survival\n",
    "\n",
    "We aim to achieve this by following the ML pipeline approach of deploying a variety of ML\n",
    "techniques to build a final predictive model with the highest possible accuracy. This\n",
    "particular analysis comprises 4 notebooks as follows:\n",
    "\n",
    " 1. <i>titanic_baseline</i> - Baseline predictive models (quick and dirty) to\n",
    " compare later results against\n",
    " 2. <i>titanic_eda</i> - <b>This notebook</b>, Exploratory Descriptive Analysis (EDA)\n",
    " 3. <i>titanic_features</i> - Perform feature engineering\n",
    " 4. <i>titanic_final_model</i> - Final model\n",
    "\n",
    "We hope to gain valuable insights by following this process. The various steps in the\n",
    "process can be elaborated on as follows (the various notebooks will focus on different parts\n",
    " of the process as indicated):\n",
    "\n",
    "- Load data (<i>all notebooks</i>)\n",
    "- Prepare data\n",
    "    - Clean data (<i>notebook 2</i>)\n",
    "        - Missing values\n",
    "        - Outliers\n",
    "        - Erroneous values\n",
    "    - Explore data (<i>notebook 2</i>)\n",
    "        - Exploratory descriptive analysis (EDA)\n",
    "        - Correlation analysis\n",
    "        - Variable cluster analysis\n",
    "    - Transform Data (<i>notebook 3</i>)\n",
    "        - Engineer features\n",
    "        - Encode data\n",
    "        - Scale & normalise data\n",
    "        - Impute data (if not done in previous steps)\n",
    "        - Feature selection/ importance analysis\n",
    "- Build model (<i>notebooks 1 & 4</i>)\n",
    "    - Model selection\n",
    "    - Data sampling (validation strategy, imbalanced classification)\n",
    "    - Hyperparameter optimisation\n",
    "- Validate model (<i>notebooks 1 & 4</i>)\n",
    "    - Accuracy testing\n",
    "- Analysis of results (<i>notebook 1 & 4</i>)\n",
    "    - Response curves\n",
    "    - Accuracy analysis\n",
    "    - Commentary\n",
    "\n",
    "The data dictionary for this dataset is as follows:\n",
    "\n",
    "| Variable | Definition | Key |\n",
    "|----------|------------|-----|\n",
    "| survival | Survival\t| 0 = No, 1 = Yes |\n",
    "| pclass   | Ticket class |\t1 = 1st, 2 = 2nd, 3 = 3rd |\n",
    "|sex | Sex | male, female |\n",
    "|Age | Age in years | Continuous |\n",
    "|sibsp | # of siblings / spouses aboard the Titanic | 0, 1, 2, ..|\n",
    "|parch | # of parents / children aboard the Titanic | 0, 1, 2 ..|\n",
    "|ticket | Ticket number | PC 17599, STON/O2. 3101282, 330877 |\n",
    "|fare | Passenger fare | Continuous |\n",
    "|cabin | Cabin number | C123, C85, E46 |\n",
    "|embarked | Port of Embarkation\t| C = Cherbourg, Q = Queenstown, S = Southampton |\n",
    "\n",
    "Let us start the analysis for <b>notebook 2</b>!\n",
    "\n",
    "This notebook follows on the previous notebook. We previously concluded that there is a very\n",
    " strong signal in the data, even without any pre-processing. We also found that\n",
    " several variables have potential for improving the model if pre-processed. The analysis\n",
    " also suggests that improvement could be gained by feature engineering. In this notebook we\n",
    " will gain an understanding of the data and consider ways of improving our existing score by\n",
    "  re-doing our missing data imputation and performing feature engineering.\n",
    "\n",
    "We will also learn more about the domain i.e. the events surrounding the accident.\n",
    "\n",
    "We will perform an analysis on the entire training dataset i.e. 891 records. We will sense\n",
    "check our findings against the test set to ensure the two are aligned. We will then make\n",
    "some high level improvements to our models based on our findings and see if our accuracy\n",
    "improves.\n",
    "\n",
    "We start by discussing the data with domain experts, to build up an intuition about the data\n",
    ". In my case I consulted the most knowledgeable person in our household regarding the matter\n",
    " i.e. my daughter whom has watched the movie several times. On asking her the question as to\n",
    "  who the most likely people to survive the Titanic accident she came up with the following\n",
    "  (without any hesitation or thought):\n",
    "\n",
    "- The wealthier passengers, as they would have cabins on the higher decks, closer to the\n",
    "lifeboats.\n",
    "- Woman, children and older passengers, as at the time chivalry still existed, and it is\n",
    "likely that able-bodied younger men would have assisted these passengers with evacuation\n",
    "(which is not the case anymore today she however added :( ).\n",
    "- She also stated that individuals working on the Titanic staying on the lower decks\n",
    "were less likely to survive (which prompted me to think that these individuals probably also\n",
    " did not pay a fare, or at least a very low fare...).\n",
    "\n",
    "This is a nice place to start! Let us see what the data says."
   ]
  },
  {
   "cell_type": "code",
   "execution_count": 1,
   "metadata": {
    "pycharm": {
     "name": "#%%\n"
    }
   },
   "outputs": [],
   "source": [
    "# Import libraries\n",
    "import pandas as pd\n",
    "import matplotlib.pyplot as plt\n",
    "import seaborn as sns\n",
    "import numpy as np\n",
    "from sklearn.linear_model import LogisticRegression\n",
    "from src.visualization.visualize_titanic import plot_confusion_matrix, plot_roc_curve, \\\n",
    "    plotVar, plotAge\n",
    "from sklearn.ensemble import RandomForestClassifier\n",
    "from sklearn.tree import DecisionTreeClassifier\n",
    "from sklearn.preprocessing import OneHotEncoder\n",
    "from sklearn.preprocessing import StandardScaler\n",
    "from sklearn.neural_network import MLPClassifier\n",
    "from sklearn.model_selection import train_test_split, cross_val_score\n",
    "from sklearn.metrics import accuracy_score, confusion_matrix, roc_curve\n",
    "from IPython.core.interactiveshell import InteractiveShell\n",
    "InteractiveShell.ast_node_interactivity = \"all\"\n",
    "from scipy.stats import chi2_contingency\n",
    "from scipy.stats import chi2\n",
    "from pandasql import sqldf"
   ]
  },
  {
   "cell_type": "markdown",
   "metadata": {},
   "source": [
    "<div class=\"alert alert-block alert-info\">\n",
    "<b>Load data</b>\n",
    "</div>"
   ]
  },
  {
   "cell_type": "code",
   "execution_count": 2,
   "metadata": {
    "pycharm": {
     "name": "#%%\n"
    }
   },
   "outputs": [],
   "source": [
    "# Import data\n",
    "df_train = pd.read_csv('../data/external/train.csv', header = None,\n",
    "                       names = ['passenger_id', 'survived', 'p_class', 'name', 'sex', 'age',\n",
    "                                'sib_sp', 'parch', 'ticket', 'fare', 'cabin', 'embarked'],\n",
    "                       index_col=False, usecols = [0, 1, 2, 3, 4, 5, 6, 7, 8, 9, 10, 11],\n",
    "                       skiprows=1, sep=',', skipinitialspace=True)"
   ]
  },
  {
   "cell_type": "markdown",
   "metadata": {},
   "source": [
    "#### Train Data"
   ]
  },
  {
   "cell_type": "code",
   "execution_count": 3,
   "metadata": {
    "pycharm": {
     "name": "#%%\n"
    }
   },
   "outputs": [
    {
     "data": {
      "text/plain": "    passenger_id  survived  p_class  \\\n0              1         0        3   \n1              2         1        1   \n2              3         1        3   \n3              4         1        1   \n4              5         0        3   \n5              6         0        3   \n6              7         0        1   \n7              8         0        3   \n8              9         1        3   \n9             10         1        2   \n10            11         1        3   \n11            12         1        1   \n12            13         0        3   \n13            14         0        3   \n14            15         0        3   \n15            16         1        2   \n16            17         0        3   \n17            18         1        2   \n18            19         0        3   \n19            20         1        3   \n\n                                                 name     sex   age  sib_sp  \\\n0                             Braund, Mr. Owen Harris    male  22.0       1   \n1   Cumings, Mrs. John Bradley (Florence Briggs Th...  female  38.0       1   \n2                              Heikkinen, Miss. Laina  female  26.0       0   \n3        Futrelle, Mrs. Jacques Heath (Lily May Peel)  female  35.0       1   \n4                            Allen, Mr. William Henry    male  35.0       0   \n5                                    Moran, Mr. James    male   NaN       0   \n6                             McCarthy, Mr. Timothy J    male  54.0       0   \n7                      Palsson, Master. Gosta Leonard    male   2.0       3   \n8   Johnson, Mrs. Oscar W (Elisabeth Vilhelmina Berg)  female  27.0       0   \n9                 Nasser, Mrs. Nicholas (Adele Achem)  female  14.0       1   \n10                    Sandstrom, Miss. Marguerite Rut  female   4.0       1   \n11                           Bonnell, Miss. Elizabeth  female  58.0       0   \n12                     Saundercock, Mr. William Henry    male  20.0       0   \n13                        Andersson, Mr. Anders Johan    male  39.0       1   \n14               Vestrom, Miss. Hulda Amanda Adolfina  female  14.0       0   \n15                   Hewlett, Mrs. (Mary D Kingcome)   female  55.0       0   \n16                               Rice, Master. Eugene    male   2.0       4   \n17                       Williams, Mr. Charles Eugene    male   NaN       0   \n18  Vander Planke, Mrs. Julius (Emelia Maria Vande...  female  31.0       1   \n19                            Masselmani, Mrs. Fatima  female   NaN       0   \n\n    parch            ticket     fare cabin embarked  \n0       0         A/5 21171   7.2500   NaN        S  \n1       0          PC 17599  71.2833   C85        C  \n2       0  STON/O2. 3101282   7.9250   NaN        S  \n3       0            113803  53.1000  C123        S  \n4       0            373450   8.0500   NaN        S  \n5       0            330877   8.4583   NaN        Q  \n6       0             17463  51.8625   E46        S  \n7       1            349909  21.0750   NaN        S  \n8       2            347742  11.1333   NaN        S  \n9       0            237736  30.0708   NaN        C  \n10      1           PP 9549  16.7000    G6        S  \n11      0            113783  26.5500  C103        S  \n12      0         A/5. 2151   8.0500   NaN        S  \n13      5            347082  31.2750   NaN        S  \n14      0            350406   7.8542   NaN        S  \n15      0            248706  16.0000   NaN        S  \n16      1            382652  29.1250   NaN        Q  \n17      0            244373  13.0000   NaN        S  \n18      0            345763  18.0000   NaN        S  \n19      0              2649   7.2250   NaN        C  ",
      "text/html": "<div>\n<style scoped>\n    .dataframe tbody tr th:only-of-type {\n        vertical-align: middle;\n    }\n\n    .dataframe tbody tr th {\n        vertical-align: top;\n    }\n\n    .dataframe thead th {\n        text-align: right;\n    }\n</style>\n<table border=\"1\" class=\"dataframe\">\n  <thead>\n    <tr style=\"text-align: right;\">\n      <th></th>\n      <th>passenger_id</th>\n      <th>survived</th>\n      <th>p_class</th>\n      <th>name</th>\n      <th>sex</th>\n      <th>age</th>\n      <th>sib_sp</th>\n      <th>parch</th>\n      <th>ticket</th>\n      <th>fare</th>\n      <th>cabin</th>\n      <th>embarked</th>\n    </tr>\n  </thead>\n  <tbody>\n    <tr>\n      <th>0</th>\n      <td>1</td>\n      <td>0</td>\n      <td>3</td>\n      <td>Braund, Mr. Owen Harris</td>\n      <td>male</td>\n      <td>22.0</td>\n      <td>1</td>\n      <td>0</td>\n      <td>A/5 21171</td>\n      <td>7.2500</td>\n      <td>NaN</td>\n      <td>S</td>\n    </tr>\n    <tr>\n      <th>1</th>\n      <td>2</td>\n      <td>1</td>\n      <td>1</td>\n      <td>Cumings, Mrs. John Bradley (Florence Briggs Th...</td>\n      <td>female</td>\n      <td>38.0</td>\n      <td>1</td>\n      <td>0</td>\n      <td>PC 17599</td>\n      <td>71.2833</td>\n      <td>C85</td>\n      <td>C</td>\n    </tr>\n    <tr>\n      <th>2</th>\n      <td>3</td>\n      <td>1</td>\n      <td>3</td>\n      <td>Heikkinen, Miss. Laina</td>\n      <td>female</td>\n      <td>26.0</td>\n      <td>0</td>\n      <td>0</td>\n      <td>STON/O2. 3101282</td>\n      <td>7.9250</td>\n      <td>NaN</td>\n      <td>S</td>\n    </tr>\n    <tr>\n      <th>3</th>\n      <td>4</td>\n      <td>1</td>\n      <td>1</td>\n      <td>Futrelle, Mrs. Jacques Heath (Lily May Peel)</td>\n      <td>female</td>\n      <td>35.0</td>\n      <td>1</td>\n      <td>0</td>\n      <td>113803</td>\n      <td>53.1000</td>\n      <td>C123</td>\n      <td>S</td>\n    </tr>\n    <tr>\n      <th>4</th>\n      <td>5</td>\n      <td>0</td>\n      <td>3</td>\n      <td>Allen, Mr. William Henry</td>\n      <td>male</td>\n      <td>35.0</td>\n      <td>0</td>\n      <td>0</td>\n      <td>373450</td>\n      <td>8.0500</td>\n      <td>NaN</td>\n      <td>S</td>\n    </tr>\n    <tr>\n      <th>5</th>\n      <td>6</td>\n      <td>0</td>\n      <td>3</td>\n      <td>Moran, Mr. James</td>\n      <td>male</td>\n      <td>NaN</td>\n      <td>0</td>\n      <td>0</td>\n      <td>330877</td>\n      <td>8.4583</td>\n      <td>NaN</td>\n      <td>Q</td>\n    </tr>\n    <tr>\n      <th>6</th>\n      <td>7</td>\n      <td>0</td>\n      <td>1</td>\n      <td>McCarthy, Mr. Timothy J</td>\n      <td>male</td>\n      <td>54.0</td>\n      <td>0</td>\n      <td>0</td>\n      <td>17463</td>\n      <td>51.8625</td>\n      <td>E46</td>\n      <td>S</td>\n    </tr>\n    <tr>\n      <th>7</th>\n      <td>8</td>\n      <td>0</td>\n      <td>3</td>\n      <td>Palsson, Master. Gosta Leonard</td>\n      <td>male</td>\n      <td>2.0</td>\n      <td>3</td>\n      <td>1</td>\n      <td>349909</td>\n      <td>21.0750</td>\n      <td>NaN</td>\n      <td>S</td>\n    </tr>\n    <tr>\n      <th>8</th>\n      <td>9</td>\n      <td>1</td>\n      <td>3</td>\n      <td>Johnson, Mrs. Oscar W (Elisabeth Vilhelmina Berg)</td>\n      <td>female</td>\n      <td>27.0</td>\n      <td>0</td>\n      <td>2</td>\n      <td>347742</td>\n      <td>11.1333</td>\n      <td>NaN</td>\n      <td>S</td>\n    </tr>\n    <tr>\n      <th>9</th>\n      <td>10</td>\n      <td>1</td>\n      <td>2</td>\n      <td>Nasser, Mrs. Nicholas (Adele Achem)</td>\n      <td>female</td>\n      <td>14.0</td>\n      <td>1</td>\n      <td>0</td>\n      <td>237736</td>\n      <td>30.0708</td>\n      <td>NaN</td>\n      <td>C</td>\n    </tr>\n    <tr>\n      <th>10</th>\n      <td>11</td>\n      <td>1</td>\n      <td>3</td>\n      <td>Sandstrom, Miss. Marguerite Rut</td>\n      <td>female</td>\n      <td>4.0</td>\n      <td>1</td>\n      <td>1</td>\n      <td>PP 9549</td>\n      <td>16.7000</td>\n      <td>G6</td>\n      <td>S</td>\n    </tr>\n    <tr>\n      <th>11</th>\n      <td>12</td>\n      <td>1</td>\n      <td>1</td>\n      <td>Bonnell, Miss. Elizabeth</td>\n      <td>female</td>\n      <td>58.0</td>\n      <td>0</td>\n      <td>0</td>\n      <td>113783</td>\n      <td>26.5500</td>\n      <td>C103</td>\n      <td>S</td>\n    </tr>\n    <tr>\n      <th>12</th>\n      <td>13</td>\n      <td>0</td>\n      <td>3</td>\n      <td>Saundercock, Mr. William Henry</td>\n      <td>male</td>\n      <td>20.0</td>\n      <td>0</td>\n      <td>0</td>\n      <td>A/5. 2151</td>\n      <td>8.0500</td>\n      <td>NaN</td>\n      <td>S</td>\n    </tr>\n    <tr>\n      <th>13</th>\n      <td>14</td>\n      <td>0</td>\n      <td>3</td>\n      <td>Andersson, Mr. Anders Johan</td>\n      <td>male</td>\n      <td>39.0</td>\n      <td>1</td>\n      <td>5</td>\n      <td>347082</td>\n      <td>31.2750</td>\n      <td>NaN</td>\n      <td>S</td>\n    </tr>\n    <tr>\n      <th>14</th>\n      <td>15</td>\n      <td>0</td>\n      <td>3</td>\n      <td>Vestrom, Miss. Hulda Amanda Adolfina</td>\n      <td>female</td>\n      <td>14.0</td>\n      <td>0</td>\n      <td>0</td>\n      <td>350406</td>\n      <td>7.8542</td>\n      <td>NaN</td>\n      <td>S</td>\n    </tr>\n    <tr>\n      <th>15</th>\n      <td>16</td>\n      <td>1</td>\n      <td>2</td>\n      <td>Hewlett, Mrs. (Mary D Kingcome)</td>\n      <td>female</td>\n      <td>55.0</td>\n      <td>0</td>\n      <td>0</td>\n      <td>248706</td>\n      <td>16.0000</td>\n      <td>NaN</td>\n      <td>S</td>\n    </tr>\n    <tr>\n      <th>16</th>\n      <td>17</td>\n      <td>0</td>\n      <td>3</td>\n      <td>Rice, Master. Eugene</td>\n      <td>male</td>\n      <td>2.0</td>\n      <td>4</td>\n      <td>1</td>\n      <td>382652</td>\n      <td>29.1250</td>\n      <td>NaN</td>\n      <td>Q</td>\n    </tr>\n    <tr>\n      <th>17</th>\n      <td>18</td>\n      <td>1</td>\n      <td>2</td>\n      <td>Williams, Mr. Charles Eugene</td>\n      <td>male</td>\n      <td>NaN</td>\n      <td>0</td>\n      <td>0</td>\n      <td>244373</td>\n      <td>13.0000</td>\n      <td>NaN</td>\n      <td>S</td>\n    </tr>\n    <tr>\n      <th>18</th>\n      <td>19</td>\n      <td>0</td>\n      <td>3</td>\n      <td>Vander Planke, Mrs. Julius (Emelia Maria Vande...</td>\n      <td>female</td>\n      <td>31.0</td>\n      <td>1</td>\n      <td>0</td>\n      <td>345763</td>\n      <td>18.0000</td>\n      <td>NaN</td>\n      <td>S</td>\n    </tr>\n    <tr>\n      <th>19</th>\n      <td>20</td>\n      <td>1</td>\n      <td>3</td>\n      <td>Masselmani, Mrs. Fatima</td>\n      <td>female</td>\n      <td>NaN</td>\n      <td>0</td>\n      <td>0</td>\n      <td>2649</td>\n      <td>7.2250</td>\n      <td>NaN</td>\n      <td>C</td>\n    </tr>\n  </tbody>\n</table>\n</div>"
     },
     "execution_count": 3,
     "metadata": {},
     "output_type": "execute_result"
    },
    {
     "name": "stdout",
     "output_type": "stream",
     "text": [
      "(891, 12)\n"
     ]
    }
   ],
   "source": [
    "df_train.head(20)\n",
    "print(df_train.shape)\n"
   ]
  },
  {
   "cell_type": "code",
   "execution_count": 4,
   "metadata": {
    "pycharm": {
     "name": "#%%\n"
    }
   },
   "outputs": [],
   "source": [
    "# Import data\n",
    "df_test = pd.read_csv('../data/external/test.csv', header = None,\n",
    "                      names = ['passenger_id', 'p_class', 'name', 'sex', 'age', 'sib_sp',\n",
    "                               'parch', 'ticket', 'fare', 'cabin', 'embarked'],\n",
    "                      index_col=False, usecols = [0, 1, 2, 3, 4, 5, 6, 7, 8, 9, 10],\n",
    "                      skiprows=1, sep=',', skipinitialspace=True)"
   ]
  },
  {
   "cell_type": "markdown",
   "metadata": {},
   "source": [
    "#### Test Data"
   ]
  },
  {
   "cell_type": "code",
   "execution_count": 5,
   "metadata": {
    "pycharm": {
     "name": "#%%\n"
    }
   },
   "outputs": [
    {
     "data": {
      "text/plain": "    passenger_id  p_class                                               name  \\\n0            892        3                                   Kelly, Mr. James   \n1            893        3                   Wilkes, Mrs. James (Ellen Needs)   \n2            894        2                          Myles, Mr. Thomas Francis   \n3            895        3                                   Wirz, Mr. Albert   \n4            896        3       Hirvonen, Mrs. Alexander (Helga E Lindqvist)   \n5            897        3                         Svensson, Mr. Johan Cervin   \n6            898        3                               Connolly, Miss. Kate   \n7            899        2                       Caldwell, Mr. Albert Francis   \n8            900        3          Abrahim, Mrs. Joseph (Sophie Halaut Easu)   \n9            901        3                            Davies, Mr. John Samuel   \n10           902        3                                   Ilieff, Mr. Ylio   \n11           903        1                         Jones, Mr. Charles Cresson   \n12           904        1      Snyder, Mrs. John Pillsbury (Nelle Stevenson)   \n13           905        2                               Howard, Mr. Benjamin   \n14           906        1  Chaffee, Mrs. Herbert Fuller (Carrie Constance...   \n15           907        2      del Carlo, Mrs. Sebastiano (Argenia Genovesi)   \n16           908        2                                  Keane, Mr. Daniel   \n17           909        3                                  Assaf, Mr. Gerios   \n18           910        3                       Ilmakangas, Miss. Ida Livija   \n19           911        3              Assaf Khalil, Mrs. Mariana (Miriam\")\"   \n\n       sex   age  sib_sp  parch            ticket     fare cabin embarked  \n0     male  34.5       0      0            330911   7.8292   NaN        Q  \n1   female  47.0       1      0            363272   7.0000   NaN        S  \n2     male  62.0       0      0            240276   9.6875   NaN        Q  \n3     male  27.0       0      0            315154   8.6625   NaN        S  \n4   female  22.0       1      1           3101298  12.2875   NaN        S  \n5     male  14.0       0      0              7538   9.2250   NaN        S  \n6   female  30.0       0      0            330972   7.6292   NaN        Q  \n7     male  26.0       1      1            248738  29.0000   NaN        S  \n8   female  18.0       0      0              2657   7.2292   NaN        C  \n9     male  21.0       2      0         A/4 48871  24.1500   NaN        S  \n10    male   NaN       0      0            349220   7.8958   NaN        S  \n11    male  46.0       0      0               694  26.0000   NaN        S  \n12  female  23.0       1      0             21228  82.2667   B45        S  \n13    male  63.0       1      0             24065  26.0000   NaN        S  \n14  female  47.0       1      0       W.E.P. 5734  61.1750   E31        S  \n15  female  24.0       1      0     SC/PARIS 2167  27.7208   NaN        C  \n16    male  35.0       0      0            233734  12.3500   NaN        Q  \n17    male  21.0       0      0              2692   7.2250   NaN        C  \n18  female  27.0       1      0  STON/O2. 3101270   7.9250   NaN        S  \n19  female  45.0       0      0              2696   7.2250   NaN        C  ",
      "text/html": "<div>\n<style scoped>\n    .dataframe tbody tr th:only-of-type {\n        vertical-align: middle;\n    }\n\n    .dataframe tbody tr th {\n        vertical-align: top;\n    }\n\n    .dataframe thead th {\n        text-align: right;\n    }\n</style>\n<table border=\"1\" class=\"dataframe\">\n  <thead>\n    <tr style=\"text-align: right;\">\n      <th></th>\n      <th>passenger_id</th>\n      <th>p_class</th>\n      <th>name</th>\n      <th>sex</th>\n      <th>age</th>\n      <th>sib_sp</th>\n      <th>parch</th>\n      <th>ticket</th>\n      <th>fare</th>\n      <th>cabin</th>\n      <th>embarked</th>\n    </tr>\n  </thead>\n  <tbody>\n    <tr>\n      <th>0</th>\n      <td>892</td>\n      <td>3</td>\n      <td>Kelly, Mr. James</td>\n      <td>male</td>\n      <td>34.5</td>\n      <td>0</td>\n      <td>0</td>\n      <td>330911</td>\n      <td>7.8292</td>\n      <td>NaN</td>\n      <td>Q</td>\n    </tr>\n    <tr>\n      <th>1</th>\n      <td>893</td>\n      <td>3</td>\n      <td>Wilkes, Mrs. James (Ellen Needs)</td>\n      <td>female</td>\n      <td>47.0</td>\n      <td>1</td>\n      <td>0</td>\n      <td>363272</td>\n      <td>7.0000</td>\n      <td>NaN</td>\n      <td>S</td>\n    </tr>\n    <tr>\n      <th>2</th>\n      <td>894</td>\n      <td>2</td>\n      <td>Myles, Mr. Thomas Francis</td>\n      <td>male</td>\n      <td>62.0</td>\n      <td>0</td>\n      <td>0</td>\n      <td>240276</td>\n      <td>9.6875</td>\n      <td>NaN</td>\n      <td>Q</td>\n    </tr>\n    <tr>\n      <th>3</th>\n      <td>895</td>\n      <td>3</td>\n      <td>Wirz, Mr. Albert</td>\n      <td>male</td>\n      <td>27.0</td>\n      <td>0</td>\n      <td>0</td>\n      <td>315154</td>\n      <td>8.6625</td>\n      <td>NaN</td>\n      <td>S</td>\n    </tr>\n    <tr>\n      <th>4</th>\n      <td>896</td>\n      <td>3</td>\n      <td>Hirvonen, Mrs. Alexander (Helga E Lindqvist)</td>\n      <td>female</td>\n      <td>22.0</td>\n      <td>1</td>\n      <td>1</td>\n      <td>3101298</td>\n      <td>12.2875</td>\n      <td>NaN</td>\n      <td>S</td>\n    </tr>\n    <tr>\n      <th>5</th>\n      <td>897</td>\n      <td>3</td>\n      <td>Svensson, Mr. Johan Cervin</td>\n      <td>male</td>\n      <td>14.0</td>\n      <td>0</td>\n      <td>0</td>\n      <td>7538</td>\n      <td>9.2250</td>\n      <td>NaN</td>\n      <td>S</td>\n    </tr>\n    <tr>\n      <th>6</th>\n      <td>898</td>\n      <td>3</td>\n      <td>Connolly, Miss. Kate</td>\n      <td>female</td>\n      <td>30.0</td>\n      <td>0</td>\n      <td>0</td>\n      <td>330972</td>\n      <td>7.6292</td>\n      <td>NaN</td>\n      <td>Q</td>\n    </tr>\n    <tr>\n      <th>7</th>\n      <td>899</td>\n      <td>2</td>\n      <td>Caldwell, Mr. Albert Francis</td>\n      <td>male</td>\n      <td>26.0</td>\n      <td>1</td>\n      <td>1</td>\n      <td>248738</td>\n      <td>29.0000</td>\n      <td>NaN</td>\n      <td>S</td>\n    </tr>\n    <tr>\n      <th>8</th>\n      <td>900</td>\n      <td>3</td>\n      <td>Abrahim, Mrs. Joseph (Sophie Halaut Easu)</td>\n      <td>female</td>\n      <td>18.0</td>\n      <td>0</td>\n      <td>0</td>\n      <td>2657</td>\n      <td>7.2292</td>\n      <td>NaN</td>\n      <td>C</td>\n    </tr>\n    <tr>\n      <th>9</th>\n      <td>901</td>\n      <td>3</td>\n      <td>Davies, Mr. John Samuel</td>\n      <td>male</td>\n      <td>21.0</td>\n      <td>2</td>\n      <td>0</td>\n      <td>A/4 48871</td>\n      <td>24.1500</td>\n      <td>NaN</td>\n      <td>S</td>\n    </tr>\n    <tr>\n      <th>10</th>\n      <td>902</td>\n      <td>3</td>\n      <td>Ilieff, Mr. Ylio</td>\n      <td>male</td>\n      <td>NaN</td>\n      <td>0</td>\n      <td>0</td>\n      <td>349220</td>\n      <td>7.8958</td>\n      <td>NaN</td>\n      <td>S</td>\n    </tr>\n    <tr>\n      <th>11</th>\n      <td>903</td>\n      <td>1</td>\n      <td>Jones, Mr. Charles Cresson</td>\n      <td>male</td>\n      <td>46.0</td>\n      <td>0</td>\n      <td>0</td>\n      <td>694</td>\n      <td>26.0000</td>\n      <td>NaN</td>\n      <td>S</td>\n    </tr>\n    <tr>\n      <th>12</th>\n      <td>904</td>\n      <td>1</td>\n      <td>Snyder, Mrs. John Pillsbury (Nelle Stevenson)</td>\n      <td>female</td>\n      <td>23.0</td>\n      <td>1</td>\n      <td>0</td>\n      <td>21228</td>\n      <td>82.2667</td>\n      <td>B45</td>\n      <td>S</td>\n    </tr>\n    <tr>\n      <th>13</th>\n      <td>905</td>\n      <td>2</td>\n      <td>Howard, Mr. Benjamin</td>\n      <td>male</td>\n      <td>63.0</td>\n      <td>1</td>\n      <td>0</td>\n      <td>24065</td>\n      <td>26.0000</td>\n      <td>NaN</td>\n      <td>S</td>\n    </tr>\n    <tr>\n      <th>14</th>\n      <td>906</td>\n      <td>1</td>\n      <td>Chaffee, Mrs. Herbert Fuller (Carrie Constance...</td>\n      <td>female</td>\n      <td>47.0</td>\n      <td>1</td>\n      <td>0</td>\n      <td>W.E.P. 5734</td>\n      <td>61.1750</td>\n      <td>E31</td>\n      <td>S</td>\n    </tr>\n    <tr>\n      <th>15</th>\n      <td>907</td>\n      <td>2</td>\n      <td>del Carlo, Mrs. Sebastiano (Argenia Genovesi)</td>\n      <td>female</td>\n      <td>24.0</td>\n      <td>1</td>\n      <td>0</td>\n      <td>SC/PARIS 2167</td>\n      <td>27.7208</td>\n      <td>NaN</td>\n      <td>C</td>\n    </tr>\n    <tr>\n      <th>16</th>\n      <td>908</td>\n      <td>2</td>\n      <td>Keane, Mr. Daniel</td>\n      <td>male</td>\n      <td>35.0</td>\n      <td>0</td>\n      <td>0</td>\n      <td>233734</td>\n      <td>12.3500</td>\n      <td>NaN</td>\n      <td>Q</td>\n    </tr>\n    <tr>\n      <th>17</th>\n      <td>909</td>\n      <td>3</td>\n      <td>Assaf, Mr. Gerios</td>\n      <td>male</td>\n      <td>21.0</td>\n      <td>0</td>\n      <td>0</td>\n      <td>2692</td>\n      <td>7.2250</td>\n      <td>NaN</td>\n      <td>C</td>\n    </tr>\n    <tr>\n      <th>18</th>\n      <td>910</td>\n      <td>3</td>\n      <td>Ilmakangas, Miss. Ida Livija</td>\n      <td>female</td>\n      <td>27.0</td>\n      <td>1</td>\n      <td>0</td>\n      <td>STON/O2. 3101270</td>\n      <td>7.9250</td>\n      <td>NaN</td>\n      <td>S</td>\n    </tr>\n    <tr>\n      <th>19</th>\n      <td>911</td>\n      <td>3</td>\n      <td>Assaf Khalil, Mrs. Mariana (Miriam\")\"</td>\n      <td>female</td>\n      <td>45.0</td>\n      <td>0</td>\n      <td>0</td>\n      <td>2696</td>\n      <td>7.2250</td>\n      <td>NaN</td>\n      <td>C</td>\n    </tr>\n  </tbody>\n</table>\n</div>"
     },
     "execution_count": 5,
     "metadata": {},
     "output_type": "execute_result"
    },
    {
     "name": "stdout",
     "output_type": "stream",
     "text": [
      "(418, 11)\n"
     ]
    }
   ],
   "source": [
    "df_test.head(20)\n",
    "print(df_test.shape)\n",
    "df_orig = df_test.copy()"
   ]
  },
  {
   "cell_type": "markdown",
   "metadata": {
    "pycharm": {
     "name": "#%% md\n"
    }
   },
   "source": [
    "We will peform our analysis as follows:\n",
    "\n",
    "- Missing data checks.\n",
    "- Model accuracy check.\n",
    "- EDA (without missing data replacement).\n",
    "- Variable adjustments & missing value imputation.\n",
    "- Model accuracy check\n",
    "\n",
    "First thing we will attend to is to bring the data we ignored in the first round, back into our\n",
    "dataset i.e. name, ticket and cabin."
   ]
  },
  {
   "cell_type": "markdown",
   "metadata": {},
   "source": [
    "<div class=\"alert alert-block alert-info\">\n",
    "<b>Missing values</b>\n",
    "</div>"
   ]
  },
  {
   "cell_type": "code",
   "execution_count": 6,
   "metadata": {
    "pycharm": {
     "name": "#%%\n"
    }
   },
   "outputs": [],
   "source": [
    "# We use will use all of the variables from here onwards.\n",
    "df_train = df_train.loc[:, ['survived', 'p_class', 'name', 'sex', 'age', 'sib_sp', 'parch',\n",
    "                            'ticket', 'fare', 'cabin', 'embarked']]"
   ]
  },
  {
   "cell_type": "code",
   "execution_count": 7,
   "metadata": {
    "pycharm": {
     "name": "#%%\n"
    }
   },
   "outputs": [],
   "source": [
    "df_test = df_test.loc[:, ['p_class', 'name', 'sex', 'age', 'sib_sp', 'parch', 'ticket',\n",
    "                          'fare', 'cabin', 'embarked']]"
   ]
  },
  {
   "cell_type": "markdown",
   "metadata": {},
   "source": [
    "We previously noted that there are missing values in the following fields: age, fare and\n",
    "embarked.\n",
    "\n",
    "We quantify the exact number of missing values in the training set:"
   ]
  },
  {
   "cell_type": "code",
   "execution_count": 8,
   "metadata": {
    "pycharm": {
     "name": "#%%\n"
    }
   },
   "outputs": [
    {
     "name": "stdout",
     "output_type": "stream",
     "text": [
      "For \"age\" the number of missing values are: 177 (20%)\n",
      "For \"cabin\" the number of missing values are: 687 (77%)\n",
      "For \"embarked\" the number of missing values are: 2 (0%)\n"
     ]
    }
   ],
   "source": [
    "# Check for null values\n",
    "missing_values_train = df_train.isnull().sum()\n",
    "missing_values_train = missing_values_train.to_frame(name='num_missing')\n",
    "missing_values_train['perc_missing'] = (missing_values_train['num_missing']/df_train.shape[0])*100\n",
    "for index, row in missing_values_train.iterrows():\n",
    "    if (row['num_missing'] > 0):\n",
    "        print (\"For \\\"%s\\\" the number of missing values are: %d (%.0f%%)\" %  (index,\n",
    "                                                                     row['num_missing'],\n",
    "                                                                    row['perc_missing']))"
   ]
  },
  {
   "cell_type": "markdown",
   "metadata": {},
   "source": [
    "Consider a sample of missing values from the training set:\n"
   ]
  },
  {
   "cell_type": "code",
   "execution_count": 9,
   "metadata": {
    "pycharm": {
     "name": "#%%\n"
    }
   },
   "outputs": [
    {
     "data": {
      "text/plain": "     survived  p_class                                      name     sex  \\\n0           0        3                   Braund, Mr. Owen Harris    male   \n2           1        3                    Heikkinen, Miss. Laina  female   \n4           0        3                  Allen, Mr. William Henry    male   \n5           0        3                          Moran, Mr. James    male   \n7           0        3            Palsson, Master. Gosta Leonard    male   \n..        ...      ...                                       ...     ...   \n884         0        3                    Sutehall, Mr. Henry Jr    male   \n885         0        3      Rice, Mrs. William (Margaret Norton)  female   \n886         0        2                     Montvila, Rev. Juozas    male   \n888         0        3  Johnston, Miss. Catherine Helen \"Carrie\"  female   \n890         0        3                       Dooley, Mr. Patrick    male   \n\n      age  sib_sp  parch            ticket     fare cabin embarked  \n0    22.0       1      0         A/5 21171   7.2500   NaN        S  \n2    26.0       0      0  STON/O2. 3101282   7.9250   NaN        S  \n4    35.0       0      0            373450   8.0500   NaN        S  \n5     NaN       0      0            330877   8.4583   NaN        Q  \n7     2.0       3      1            349909  21.0750   NaN        S  \n..    ...     ...    ...               ...      ...   ...      ...  \n884  25.0       0      0   SOTON/OQ 392076   7.0500   NaN        S  \n885  39.0       0      5            382652  29.1250   NaN        Q  \n886  27.0       0      0            211536  13.0000   NaN        S  \n888   NaN       1      2        W./C. 6607  23.4500   NaN        S  \n890  32.0       0      0            370376   7.7500   NaN        Q  \n\n[708 rows x 11 columns]",
      "text/html": "<div>\n<style scoped>\n    .dataframe tbody tr th:only-of-type {\n        vertical-align: middle;\n    }\n\n    .dataframe tbody tr th {\n        vertical-align: top;\n    }\n\n    .dataframe thead th {\n        text-align: right;\n    }\n</style>\n<table border=\"1\" class=\"dataframe\">\n  <thead>\n    <tr style=\"text-align: right;\">\n      <th></th>\n      <th>survived</th>\n      <th>p_class</th>\n      <th>name</th>\n      <th>sex</th>\n      <th>age</th>\n      <th>sib_sp</th>\n      <th>parch</th>\n      <th>ticket</th>\n      <th>fare</th>\n      <th>cabin</th>\n      <th>embarked</th>\n    </tr>\n  </thead>\n  <tbody>\n    <tr>\n      <th>0</th>\n      <td>0</td>\n      <td>3</td>\n      <td>Braund, Mr. Owen Harris</td>\n      <td>male</td>\n      <td>22.0</td>\n      <td>1</td>\n      <td>0</td>\n      <td>A/5 21171</td>\n      <td>7.2500</td>\n      <td>NaN</td>\n      <td>S</td>\n    </tr>\n    <tr>\n      <th>2</th>\n      <td>1</td>\n      <td>3</td>\n      <td>Heikkinen, Miss. Laina</td>\n      <td>female</td>\n      <td>26.0</td>\n      <td>0</td>\n      <td>0</td>\n      <td>STON/O2. 3101282</td>\n      <td>7.9250</td>\n      <td>NaN</td>\n      <td>S</td>\n    </tr>\n    <tr>\n      <th>4</th>\n      <td>0</td>\n      <td>3</td>\n      <td>Allen, Mr. William Henry</td>\n      <td>male</td>\n      <td>35.0</td>\n      <td>0</td>\n      <td>0</td>\n      <td>373450</td>\n      <td>8.0500</td>\n      <td>NaN</td>\n      <td>S</td>\n    </tr>\n    <tr>\n      <th>5</th>\n      <td>0</td>\n      <td>3</td>\n      <td>Moran, Mr. James</td>\n      <td>male</td>\n      <td>NaN</td>\n      <td>0</td>\n      <td>0</td>\n      <td>330877</td>\n      <td>8.4583</td>\n      <td>NaN</td>\n      <td>Q</td>\n    </tr>\n    <tr>\n      <th>7</th>\n      <td>0</td>\n      <td>3</td>\n      <td>Palsson, Master. Gosta Leonard</td>\n      <td>male</td>\n      <td>2.0</td>\n      <td>3</td>\n      <td>1</td>\n      <td>349909</td>\n      <td>21.0750</td>\n      <td>NaN</td>\n      <td>S</td>\n    </tr>\n    <tr>\n      <th>...</th>\n      <td>...</td>\n      <td>...</td>\n      <td>...</td>\n      <td>...</td>\n      <td>...</td>\n      <td>...</td>\n      <td>...</td>\n      <td>...</td>\n      <td>...</td>\n      <td>...</td>\n      <td>...</td>\n    </tr>\n    <tr>\n      <th>884</th>\n      <td>0</td>\n      <td>3</td>\n      <td>Sutehall, Mr. Henry Jr</td>\n      <td>male</td>\n      <td>25.0</td>\n      <td>0</td>\n      <td>0</td>\n      <td>SOTON/OQ 392076</td>\n      <td>7.0500</td>\n      <td>NaN</td>\n      <td>S</td>\n    </tr>\n    <tr>\n      <th>885</th>\n      <td>0</td>\n      <td>3</td>\n      <td>Rice, Mrs. William (Margaret Norton)</td>\n      <td>female</td>\n      <td>39.0</td>\n      <td>0</td>\n      <td>5</td>\n      <td>382652</td>\n      <td>29.1250</td>\n      <td>NaN</td>\n      <td>Q</td>\n    </tr>\n    <tr>\n      <th>886</th>\n      <td>0</td>\n      <td>2</td>\n      <td>Montvila, Rev. Juozas</td>\n      <td>male</td>\n      <td>27.0</td>\n      <td>0</td>\n      <td>0</td>\n      <td>211536</td>\n      <td>13.0000</td>\n      <td>NaN</td>\n      <td>S</td>\n    </tr>\n    <tr>\n      <th>888</th>\n      <td>0</td>\n      <td>3</td>\n      <td>Johnston, Miss. Catherine Helen \"Carrie\"</td>\n      <td>female</td>\n      <td>NaN</td>\n      <td>1</td>\n      <td>2</td>\n      <td>W./C. 6607</td>\n      <td>23.4500</td>\n      <td>NaN</td>\n      <td>S</td>\n    </tr>\n    <tr>\n      <th>890</th>\n      <td>0</td>\n      <td>3</td>\n      <td>Dooley, Mr. Patrick</td>\n      <td>male</td>\n      <td>32.0</td>\n      <td>0</td>\n      <td>0</td>\n      <td>370376</td>\n      <td>7.7500</td>\n      <td>NaN</td>\n      <td>Q</td>\n    </tr>\n  </tbody>\n</table>\n<p>708 rows × 11 columns</p>\n</div>"
     },
     "execution_count": 9,
     "metadata": {},
     "output_type": "execute_result"
    }
   ],
   "source": [
    "df_train[df_train.isnull().any(axis=1)]\n"
   ]
  },
  {
   "cell_type": "markdown",
   "metadata": {
    "pycharm": {
     "name": "#%% md\n"
    }
   },
   "source": [
    "Quantify the exact number of missing values in the test set:"
   ]
  },
  {
   "cell_type": "code",
   "execution_count": 10,
   "metadata": {
    "pycharm": {
     "name": "#%%\n"
    }
   },
   "outputs": [
    {
     "name": "stdout",
     "output_type": "stream",
     "text": [
      "For \"age\" the number of missing values are: 86 (21%)\n",
      "For \"fare\" the number of missing values are: 1 (0%)\n",
      "For \"cabin\" the number of missing values are: 327 (78%)\n"
     ]
    }
   ],
   "source": [
    "# Check for null values\n",
    "missing_values_test = df_test.isnull().sum()\n",
    "missing_values_test = missing_values_test.to_frame(name='num_missing')\n",
    "missing_values_test['perc_missing'] = (missing_values_test['num_missing']/df_test.shape[0])*100\n",
    "for index, row in missing_values_test.iterrows():\n",
    "    if (row['num_missing'] > 0):\n",
    "        print (\"For \\\"%s\\\" the number of missing values are: %d (%.0f%%)\" %  (index,\n",
    "                                                                     row['num_missing'],\n",
    "                                                                    row['perc_missing']))\n"
   ]
  },
  {
   "cell_type": "markdown",
   "metadata": {
    "pycharm": {
     "name": "#%% md\n"
    }
   },
   "source": [
    "Consider a sample of missing values from the test set:"
   ]
  },
  {
   "cell_type": "code",
   "execution_count": 11,
   "metadata": {
    "pycharm": {
     "name": "#%%\n"
    }
   },
   "outputs": [
    {
     "data": {
      "text/plain": "     p_class                                          name     sex   age  \\\n0          3                              Kelly, Mr. James    male  34.5   \n1          3              Wilkes, Mrs. James (Ellen Needs)  female  47.0   \n2          2                     Myles, Mr. Thomas Francis    male  62.0   \n3          3                              Wirz, Mr. Albert    male  27.0   \n4          3  Hirvonen, Mrs. Alexander (Helga E Lindqvist)  female  22.0   \n..       ...                                           ...     ...   ...   \n412        3                Henriksson, Miss. Jenny Lovisa  female  28.0   \n413        3                            Spector, Mr. Woolf    male   NaN   \n415        3                  Saether, Mr. Simon Sivertsen    male  38.5   \n416        3                           Ware, Mr. Frederick    male   NaN   \n417        3                      Peter, Master. Michael J    male   NaN   \n\n     sib_sp  parch              ticket     fare cabin embarked  \n0         0      0              330911   7.8292   NaN        Q  \n1         1      0              363272   7.0000   NaN        S  \n2         0      0              240276   9.6875   NaN        Q  \n3         0      0              315154   8.6625   NaN        S  \n4         1      1             3101298  12.2875   NaN        S  \n..      ...    ...                 ...      ...   ...      ...  \n412       0      0              347086   7.7750   NaN        S  \n413       0      0           A.5. 3236   8.0500   NaN        S  \n415       0      0  SOTON/O.Q. 3101262   7.2500   NaN        S  \n416       0      0              359309   8.0500   NaN        S  \n417       1      1                2668  22.3583   NaN        C  \n\n[331 rows x 10 columns]",
      "text/html": "<div>\n<style scoped>\n    .dataframe tbody tr th:only-of-type {\n        vertical-align: middle;\n    }\n\n    .dataframe tbody tr th {\n        vertical-align: top;\n    }\n\n    .dataframe thead th {\n        text-align: right;\n    }\n</style>\n<table border=\"1\" class=\"dataframe\">\n  <thead>\n    <tr style=\"text-align: right;\">\n      <th></th>\n      <th>p_class</th>\n      <th>name</th>\n      <th>sex</th>\n      <th>age</th>\n      <th>sib_sp</th>\n      <th>parch</th>\n      <th>ticket</th>\n      <th>fare</th>\n      <th>cabin</th>\n      <th>embarked</th>\n    </tr>\n  </thead>\n  <tbody>\n    <tr>\n      <th>0</th>\n      <td>3</td>\n      <td>Kelly, Mr. James</td>\n      <td>male</td>\n      <td>34.5</td>\n      <td>0</td>\n      <td>0</td>\n      <td>330911</td>\n      <td>7.8292</td>\n      <td>NaN</td>\n      <td>Q</td>\n    </tr>\n    <tr>\n      <th>1</th>\n      <td>3</td>\n      <td>Wilkes, Mrs. James (Ellen Needs)</td>\n      <td>female</td>\n      <td>47.0</td>\n      <td>1</td>\n      <td>0</td>\n      <td>363272</td>\n      <td>7.0000</td>\n      <td>NaN</td>\n      <td>S</td>\n    </tr>\n    <tr>\n      <th>2</th>\n      <td>2</td>\n      <td>Myles, Mr. Thomas Francis</td>\n      <td>male</td>\n      <td>62.0</td>\n      <td>0</td>\n      <td>0</td>\n      <td>240276</td>\n      <td>9.6875</td>\n      <td>NaN</td>\n      <td>Q</td>\n    </tr>\n    <tr>\n      <th>3</th>\n      <td>3</td>\n      <td>Wirz, Mr. Albert</td>\n      <td>male</td>\n      <td>27.0</td>\n      <td>0</td>\n      <td>0</td>\n      <td>315154</td>\n      <td>8.6625</td>\n      <td>NaN</td>\n      <td>S</td>\n    </tr>\n    <tr>\n      <th>4</th>\n      <td>3</td>\n      <td>Hirvonen, Mrs. Alexander (Helga E Lindqvist)</td>\n      <td>female</td>\n      <td>22.0</td>\n      <td>1</td>\n      <td>1</td>\n      <td>3101298</td>\n      <td>12.2875</td>\n      <td>NaN</td>\n      <td>S</td>\n    </tr>\n    <tr>\n      <th>...</th>\n      <td>...</td>\n      <td>...</td>\n      <td>...</td>\n      <td>...</td>\n      <td>...</td>\n      <td>...</td>\n      <td>...</td>\n      <td>...</td>\n      <td>...</td>\n      <td>...</td>\n    </tr>\n    <tr>\n      <th>412</th>\n      <td>3</td>\n      <td>Henriksson, Miss. Jenny Lovisa</td>\n      <td>female</td>\n      <td>28.0</td>\n      <td>0</td>\n      <td>0</td>\n      <td>347086</td>\n      <td>7.7750</td>\n      <td>NaN</td>\n      <td>S</td>\n    </tr>\n    <tr>\n      <th>413</th>\n      <td>3</td>\n      <td>Spector, Mr. Woolf</td>\n      <td>male</td>\n      <td>NaN</td>\n      <td>0</td>\n      <td>0</td>\n      <td>A.5. 3236</td>\n      <td>8.0500</td>\n      <td>NaN</td>\n      <td>S</td>\n    </tr>\n    <tr>\n      <th>415</th>\n      <td>3</td>\n      <td>Saether, Mr. Simon Sivertsen</td>\n      <td>male</td>\n      <td>38.5</td>\n      <td>0</td>\n      <td>0</td>\n      <td>SOTON/O.Q. 3101262</td>\n      <td>7.2500</td>\n      <td>NaN</td>\n      <td>S</td>\n    </tr>\n    <tr>\n      <th>416</th>\n      <td>3</td>\n      <td>Ware, Mr. Frederick</td>\n      <td>male</td>\n      <td>NaN</td>\n      <td>0</td>\n      <td>0</td>\n      <td>359309</td>\n      <td>8.0500</td>\n      <td>NaN</td>\n      <td>S</td>\n    </tr>\n    <tr>\n      <th>417</th>\n      <td>3</td>\n      <td>Peter, Master. Michael J</td>\n      <td>male</td>\n      <td>NaN</td>\n      <td>1</td>\n      <td>1</td>\n      <td>2668</td>\n      <td>22.3583</td>\n      <td>NaN</td>\n      <td>C</td>\n    </tr>\n  </tbody>\n</table>\n<p>331 rows × 10 columns</p>\n</div>"
     },
     "execution_count": 11,
     "metadata": {},
     "output_type": "execute_result"
    }
   ],
   "source": [
    "# Actual null values\n",
    "df_test[df_test.isnull().any(axis=1)]"
   ]
  },
  {
   "cell_type": "markdown",
   "metadata": {},
   "source": [
    "We observed 177 (20%) null values for <i>age</i>, 687 (77%) for <i>cabin</i> and 2 (0%) for\n",
    "<i>embarked</i> for <i>training data</i> and 86 (21%) null values for <i>age</i>, 327 (78%)\n",
    " for <i>cabin</i> and 1 (0%) for <i>fare</i> for <i>testing data</i>.\n",
    "\n",
    "The visualised missing values look as follows for the training set:"
   ]
  },
  {
   "cell_type": "code",
   "source": [
    "#%matplotlib inline\n",
    "_ = plt.figure(figsize=(20, 10))\n",
    "\n",
    "# cubehelix palette is a part of seaborn that produces a colormap\n",
    "cmap = sns.cubehelix_palette(light=1, as_cmap=True, reverse=True)\n",
    "_ = sns.heatmap(df_train.isnull(), cmap=cmap)"
   ],
   "metadata": {
    "collapsed": false,
    "pycharm": {
     "name": "#%%\n"
    }
   },
   "execution_count": 12,
   "outputs": [
    {
     "data": {
      "text/plain": "<Figure size 1440x720 with 2 Axes>",
      "image/png": "[encoded data removed]"
     },
     "metadata": {
      "needs_background": "light"
     },
     "output_type": "display_data"
    }
   ]
  },
  {
   "cell_type": "markdown",
   "source": [
    "And as follows for the testing set:"
   ],
   "metadata": {
    "collapsed": false
   }
  },
  {
   "cell_type": "code",
   "execution_count": 13,
   "outputs": [
    {
     "data": {
      "text/plain": "<Figure size 1440x720 with 2 Axes>",
      "image/png": "[encoded data removed]"
     },
     "metadata": {
      "needs_background": "light"
     },
     "output_type": "display_data"
    }
   ],
   "source": [
    "#%matplotlib inline\n",
    "_ = plt.figure(figsize=(20, 10))\n",
    "\n",
    "# cubehelix palette is a part of seaborn that produces a colormap\n",
    "cmap = sns.cubehelix_palette(light=1, as_cmap=True, reverse=True)\n",
    "_ = sns.heatmap(df_test.isnull(), cmap=cmap)\n",
    "\n"
   ],
   "metadata": {
    "collapsed": false,
    "pycharm": {
     "name": "#%%\n"
    }
   }
  },
  {
   "cell_type": "markdown",
   "source": [
    "From the evidence we have thus far we can conclude the following:\n",
    "\n",
    "- The age (continuous) and cabin (categorical) variables have a significant number of missing\n",
    "values.\n",
    "- The cabin variable has in excess of 70% missing entries, which is substantive.\n",
    "- The missing values for these variables seem to be randomly scattered throughout the data.\n",
    "Without more information it is difficult to tell whether these variables are missing at\n",
    "random or for some systemic reason. We will do some more analysis to try and ascertain this.\n",
    "\n",
    "It is important for us to decide on a missing value replacement strategy for age and cabin.\n",
    "The other variables have an insignficant number of missing values and hence simple\n",
    "imputation will be performed.\n",
    "\n",
    "We will start by analysing the distributions for age first to get a feel for the data."
   ],
   "metadata": {
    "collapsed": false,
    "pycharm": {
     "name": "#%% md\n"
    }
   }
  },
  {
   "cell_type": "code",
   "execution_count": 14,
   "metadata": {
    "pycharm": {
     "name": "#%%\n"
    }
   },
   "outputs": [
    {
     "data": {
      "text/plain": "<Figure size 1080x864 with 1 Axes>",
      "image/png": "[encoded data removed]"
     },
     "metadata": {
      "needs_background": "light"
     },
     "output_type": "display_data"
    }
   ],
   "source": [
    "# Continuous density plot\n",
    "fig_missing, axes = plt.subplots(1, 1, figsize=(15, 12))\n",
    "\n",
    "# Plot frequency plot/ histogram\n",
    "_ = sns.histplot(x=\"age\", kde=True, data=df_train, ax=axes, bins=40);\n",
    "_ = axes.set(xlabel=\"Age\", ylabel='Density');\n",
    "axes.xaxis.label.set_size(24)\n",
    "axes.yaxis.label.set_size(24)\n",
    "axes.tick_params('y', labelsize = 20);\n",
    "axes.tick_params('x', labelsize = 20);\n",
    "\n",
    "## Continuous density plot\n",
    "#fig_missing, axes = plt.subplots(1, 1, figsize=(15, 12))\n",
    "#\n",
    "## Plot frequency plot/ histogram\n",
    "#_ = sns.histplot(x=\"age\", kde=True, data=df_test, ax=axes, bins=40);\n",
    "#_ = axes.set(xlabel=\"Age\", ylabel='Density');\n",
    "#axes.xaxis.label.set_size(24)\n",
    "#axes.yaxis.label.set_size(24)\n",
    "#axes.tick_params('y', labelsize = 20);\n",
    "#axes.tick_params('x', labelsize = 20);\n",
    "#"
   ]
  },
  {
   "cell_type": "code",
   "execution_count": 15,
   "outputs": [
    {
     "name": "stdout",
     "output_type": "stream",
     "text": [
      "Age summary statistics (training set):\n",
      "\n",
      "count    714.000000\n",
      "mean      29.699118\n",
      "std       14.526497\n",
      "min        0.420000\n",
      "25%       20.125000\n",
      "50%       28.000000\n",
      "75%       38.000000\n",
      "max       80.000000\n",
      "Name: age, dtype: float64\n",
      "\n",
      "Age summary statistics (testing set):\n",
      "\n",
      "count    332.000000\n",
      "mean      30.272590\n",
      "std       14.181209\n",
      "min        0.170000\n",
      "25%       21.000000\n",
      "50%       27.000000\n",
      "75%       39.000000\n",
      "max       76.000000\n",
      "Name: age, dtype: float64\n"
     ]
    }
   ],
   "source": [
    "print(\"Age summary statistics (training set):\\n\")\n",
    "print(df_train['age'].describe())\n",
    "print(\"\\nAge summary statistics (testing set):\\n\")\n",
    "print(df_test['age'].describe())"
   ],
   "metadata": {
    "collapsed": false,
    "pycharm": {
     "name": "#%%\n"
    }
   }
  },
  {
   "cell_type": "markdown",
   "source": [
    "The age variable is similarly distributed for both the training and test set i.e. there is a\n",
    " skew to the right with a slight bump on the left for lower ages. Maximum age was 80 and\n",
    " minimum age was around 2 months.\n",
    "\n",
    "High level analysis does not seem to show any specific problematic values within either set\n",
    "of data.\n",
    "\n",
    "Next we consider whether there is correlation between missing age values and the outcome\n",
    "variable i.e. survival. There are a significant number of missing age values, and if the\n",
    "missing values are correlated with the outcome we should consider a more complex mechanism\n",
    "for missing value substitution such as multiple imputation."
   ],
   "metadata": {
    "collapsed": false
   }
  },
  {
   "cell_type": "code",
   "execution_count": 16,
   "outputs": [
    {
     "data": {
      "text/plain": "<Figure size 720x576 with 1 Axes>",
      "image/png": "[encoded data removed]"
     },
     "metadata": {
      "needs_background": "light"
     },
     "output_type": "display_data"
    }
   ],
   "source": [
    "fig_age, axes = plt.subplots(nrows=1, ncols=1, figsize=(10, 8), squeeze=False)\n",
    "legend_labels = ['Died', 'Survived']\n",
    "colors = [\"lightslategrey\", \"#1F77B4\"]\n",
    "\n",
    "df_train['age_missing'] = df_train.apply(lambda row: 1 if np.isnan(row['age']) else 0, axis=1)\n",
    "\n",
    "age_missing_stacked = df_train.loc[:, [\"survived\", \"age_missing\"]]\n",
    "age_missing_stacked.index.name = \"passenger_num\"\n",
    "ctable_survival_missing = pd.crosstab(age_missing_stacked.survived, age_missing_stacked\n",
    "                         .age_missing, colnames=[\"Missing Age\"], rownames=[\"Survived\"])\n",
    "ctable_survival_missing_perc = pd.crosstab(age_missing_stacked.survived, age_missing_stacked\n",
    "                         .age_missing, colnames=[\"Missing Age\"], rownames=[\"Survived\"],\n",
    "                                           normalize=\"index\")\n",
    "\n",
    "#ctable_survival_missing.columns = [\"Not Missing\", \"Missing\"]\n",
    "#ctable_survival_missing[\"Survived\"] = [\"Died\", \"Survived\"]\n",
    "#ctable_survival_missing = ctable_survival_missing.set_index(\"Survived\")\n",
    "#print(ctable_survival_missing)\n",
    "\n",
    "ctable_survival_missing_perc.columns = [\"Not Missing\", \"Missing\"]\n",
    "ctable_survival_missing_perc[\"Survived\"] = [\"Died\", \"Survived\"]\n",
    "ctable_survival_missing_perc = ctable_survival_missing_perc.set_index(\"Survived\")\n",
    "\n",
    "axs = plt.gca()\n",
    "axs.set_frame_on(False)\n",
    "#age_miss_stack = ctable_survival_missing.plot.bar(stacked=True, ax=axs, color=colors)\n",
    "age_miss_stack = ctable_survival_missing_perc.plot.bar(stacked=True, ax=axs, color=colors)\n",
    "_ = plt.xlabel('Survival class', fontsize=20)\n",
    "#_ = plt.ylabel('Percentage Missing', fontsize=20)\n",
    "_ = plt.xticks([0, 1], legend_labels, fontsize=15, alpha=0.8)\n",
    "_ = plt.xticks(fontsize=20)\n",
    "#_ = plt.yticks(fontsize=20)\n",
    "\n",
    "# remove all the ticks (both axes), and tick labels on the Y axis\n",
    "plt.tick_params(top=False, bottom=False, left=False, right=False, labelleft=False,\n",
    "                labelbottom=True)\n",
    "\n",
    "# Bit of a hack - TODO, clean up here.\n",
    "#totals = ctable_survival_missing.iloc[:,0] + ctable_survival_missing_.iloc[:,1]\n",
    "totals = ctable_survival_missing_perc.iloc[:,0] + ctable_survival_missing_perc.iloc[:,1]\n",
    "#tot_arr = totals.to_numpy()\n",
    "\n",
    "for i, rec in enumerate(age_miss_stack.patches):\n",
    "    height = rec.get_height()\n",
    "    j = i//2\n",
    "    _ = age_miss_stack.text(rec.get_x() + rec.get_width() / 2,\n",
    "              rec.get_y() + height / 2,\n",
    "              \"{:.0f}%\".format(height/totals[j]*100),\n",
    "              ha='center',\n",
    "              va='bottom',\n",
    "              color=\"w\",\n",
    "              fontsize = 15)\n",
    "\n",
    "plt.tight_layout()"
   ],
   "metadata": {
    "collapsed": false,
    "pycharm": {
     "name": "#%%\n"
    }
   }
  },
  {
   "cell_type": "markdown",
   "source": [
    "We observe that there is a larger proportion of missing values in the group of individuals\n",
    "that died compared to the survival group, which suggests correlation between the\n",
    "missing values and outcome variable (survival).\n",
    "\n",
    "We will now perform a Chi-Squared test for independence to determine whether there is\n",
    "correlation between missing age values and survival."
   ],
   "metadata": {
    "collapsed": false,
    "pycharm": {
     "name": "#%% md\n"
    }
   }
  },
  {
   "cell_type": "code",
   "execution_count": 17,
   "outputs": [
    {
     "name": "stdout",
     "output_type": "stream",
     "text": [
      "Missing Age    0    1\n",
      "Survived             \n",
      "0            424  125\n",
      "1            290   52\n",
      "dof=1\n",
      "[[439.93939394 109.06060606]\n",
      " [274.06060606  67.93939394]]\n",
      "probability=0.950, critical=3.841, stat=7.106\n",
      "Dependent (reject H0)\n",
      "significance=0.050, p=0.008\n",
      "Dependent (reject H0)\n"
     ]
    }
   ],
   "source": [
    "survived = df_train.loc[df_train[\"survived\"] == 1,:]\n",
    "died = df_train.loc[df_train[\"survived\"] == 0,:]\n",
    "\n",
    "survived_cont = survived[\"age_missing\"].value_counts(normalize=False)\n",
    "died_cont = died[\"age_missing\"].value_counts(normalize=False)\n",
    "\n",
    "_ = survived_cont.rename(\"survived\", inplace=True)\n",
    "_ = died_cont.rename(\"died\", inplace=True)\n",
    "\n",
    "#cont_table = pd.concat([survived_cont, died_cont], axis=1)\n",
    "\n",
    "print(ctable_survival_missing)\n",
    "\n",
    "#stat, p, dof, expected = chi2_contingency(cont_table)\n",
    "stat, p, dof, expected = chi2_contingency(ctable_survival_missing)\n",
    "print('dof=%d' % dof)\n",
    "print(expected)\n",
    "# interpret test-statistic\n",
    "prob = 0.95\n",
    "critical = chi2.ppf(prob, dof)\n",
    "print('probability=%.3f, critical=%.3f, stat=%.3f' % (prob, critical, stat))\n",
    "if abs(stat) >= critical:\n",
    "\tprint('Dependent (reject H0)')\n",
    "else:\n",
    "\tprint('Independent (fail to reject H0)')\n",
    "# interpret p-value\n",
    "alpha = 1.0 - prob\n",
    "print('significance=%.3f, p=%.3f' % (alpha, p))\n",
    "if p <= alpha:\n",
    "\tprint('Dependent (reject H0)')\n",
    "else:\n",
    "\tprint('Independent (fail to reject H0)')\n",
    "\n"
   ],
   "metadata": {
    "collapsed": false,
    "pycharm": {
     "name": "#%%\n"
    }
   }
  },
  {
   "cell_type": "markdown",
   "source": [
    "We can see from the results of the Chi-Squared test that the missing values in the age data\n",
    "is strongly correlated with the outcome of survival (p=0.008).\n",
    "\n",
    "This suggests strongly that we will have to take care when imputing values for age i.e.\n",
    "inaccurate imputation might lead to an adverse effect on model accuracy. It is therefore\n",
    "important to ensure that missing values are imputed as accurately as possible, especially\n",
    "taking other variables into account i.e. missing values in particular groupings of values\n",
    "might have strong correlation with the response. An advance technique such as multiple\n",
    "imputation is required to ensure age is imputed correctly for these sub-groupings of values.\n",
    "\n",
    "This also indicates that we could use the missing values later during feature engineering\n",
    "and assess possibility of improved model performance based on additional variables built\n",
    "using the missing value information.\n",
    "\n",
    "Next we will look at the distribution of missing age values in relation to the other\n",
    "variables to gain more insight into the missing values. We start with the continuous variables\n",
    "and therefore we consider the fare variable first. We start with some simple distribution\n",
    "plots (histograms)."
   ],
   "metadata": {
    "collapsed": false,
    "pycharm": {
     "name": "#%% md\n"
    }
   }
  },
  {
   "cell_type": "code",
   "execution_count": 18,
   "outputs": [
    {
     "data": {
      "text/plain": "<Figure size 1440x864 with 1 Axes>",
      "image/png": "[encoded data removed]"
     },
     "metadata": {
      "needs_background": "light"
     },
     "output_type": "display_data"
    }
   ],
   "source": [
    "fig_age, axes = plt.subplots(nrows=1, ncols=1, figsize=(20, 12), squeeze=False)\n",
    "\n",
    "ax1 = sns.histplot(data = df_train, x = \"fare\", hue = \"age_missing\", ax=axes[0][0],\n",
    "                   legend=True)\n",
    "\n",
    "_ = plt.xlabel('Fare', fontsize=20)\n",
    "_ = plt.ylabel('Count', fontsize=20)\n",
    "_ = plt.xticks(fontsize=20)\n",
    "_ = plt.yticks(fontsize=20)\n",
    "#ax1.legend.set_title(\"Missing Age\")\n",
    "\n",
    "plt.tight_layout()"
   ],
   "metadata": {
    "collapsed": false,
    "pycharm": {
     "name": "#%%\n"
    }
   }
  },
  {
   "cell_type": "code",
   "execution_count": 19,
   "outputs": [
    {
     "data": {
      "text/plain": "<Figure size 1440x864 with 1 Axes>",
      "image/png": "[encoded data removed]"
     },
     "metadata": {
      "needs_background": "light"
     },
     "output_type": "display_data"
    }
   ],
   "source": [
    "fig_age, axes = plt.subplots(nrows=1, ncols=1, figsize=(20, 12), squeeze=False)\n",
    "\n",
    "df_test['age_missing'] = df_test.apply(lambda row: 1 if np.isnan(row['age']) else 0, axis=1)\n",
    "_ = sns.histplot(data = df_test, x = \"fare\", hue = \"age_missing\", ax=axes[0][0])\n",
    "\n",
    "_ = plt.xlabel('Fare', fontsize=20)\n",
    "_ = plt.ylabel('Count', fontsize=20)\n",
    "_ = plt.xticks(fontsize=20)\n",
    "_ = plt.yticks(fontsize=20)\n",
    "plt.tight_layout()"
   ],
   "metadata": {
    "collapsed": false,
    "pycharm": {
     "name": "#%%\n"
    }
   }
  },
  {
   "cell_type": "markdown",
   "source": [
    "It is evident by inspection that the number of missing age values is higher for lower fares\n",
    "in both the testing and training datasets. We now look at the same data plotted on\n",
    "histograms to further explore the relationship between missing values and fare. We now\n",
    "however add another dimension in that we also consider survival rate as an additional factor."
   ],
   "metadata": {
    "collapsed": false,
    "pycharm": {
     "name": "#%% md\n"
    }
   }
  },
  {
   "cell_type": "code",
   "execution_count": 20,
   "outputs": [
    {
     "data": {
      "text/plain": "<Figure size 540x360 with 1 Axes>",
      "image/png": "[encoded data removed]"
     },
     "metadata": {},
     "output_type": "display_data"
    }
   ],
   "source": [
    "sns.set_style(\"white\")\n",
    "ax = sns.catplot(x=\"survived\", y=\"fare\", hue=\"age_missing\", kind=\"box\", data=df_train,\n",
    "                 height = 5, aspect = 1.5, legend=False)\n",
    "_ = ax.set(ylim=(0, 300))\n",
    "_ = plt.xlabel('Survived', fontsize=20)\n",
    "_ = plt.ylabel('Fare', fontsize=20)\n",
    "_ = plt.legend(title='Missing Age')\n",
    "plt.show()"
   ],
   "metadata": {
    "collapsed": false,
    "pycharm": {
     "name": "#%%\n"
    }
   }
  },
  {
   "cell_type": "markdown",
   "source": [
    "It must be noted that we adapted the y-axis to cut off outlier values above 300. There were\n",
    "a few values clustered at approximately 500.\n",
    "\n",
    "The boxplots shows the same pattern we observed when considering the histograms i.e. the\n",
    "distribution of fare values is different for the missing and non-missing (age) groups. For the\n",
    "missing age group values are concentrated around smaller fare values.\n",
    "\n",
    "Additionally and interestingly this plot also shows that when taking survival into account\n",
    "the effect is enlarged i.e. for those who survived and paid higher fares age is typically\n",
    "not missing.\n",
    "\n",
    "At this point we could do a correlation test between missing values and fare by means of\n",
    "using a logistic regression. We however leave as a later exercise as we have enough evidence\n",
    "to include fare in any imputation method used to impute missing values.\n",
    "\n",
    "Next we look at the categorical variables. We start with passenger class travelled first."
   ],
   "metadata": {
    "collapsed": false,
    "pycharm": {
     "name": "#%% md\n"
    }
   }
  },
  {
   "cell_type": "code",
   "execution_count": 21,
   "outputs": [
    {
     "name": "stdout",
     "output_type": "stream",
     "text": [
      "Missing Age        0    1\n",
      "Passenger Class          \n",
      "1                186   30\n",
      "2                173   11\n",
      "3                355  136\n"
     ]
    },
    {
     "data": {
      "text/plain": "<Figure size 720x576 with 1 Axes>",
      "image/png": "[encoded data removed]"
     },
     "metadata": {},
     "output_type": "display_data"
    }
   ],
   "source": [
    "sns.set_style(\"white\")\n",
    "fig_age, axes = plt.subplots(nrows=1, ncols=1, figsize=(10, 8), squeeze=False)\n",
    "legend_labels = ['Third', 'First', 'Second']\n",
    "colors = [\"lightslategrey\", \"#1F77B4\"]\n",
    "\n",
    "age_pclass_stacked = df_train.loc[:, [\"p_class\", \"age_missing\"]]\n",
    "age_pclass_stacked.index.name = \"passenger_num\"\n",
    "ctable_pclass_missing = pd.crosstab(age_pclass_stacked.p_class, age_pclass_stacked\n",
    "                         .age_missing, colnames=[\"Missing Age\"], rownames=[\"Passenger Class\"])\n",
    "ctable_pclass_missing_perc = pd.crosstab(age_pclass_stacked.p_class, age_pclass_stacked\n",
    "                         .age_missing, colnames=[\"Missing Age\"], rownames=[\"Passenger Class\"],\n",
    "                                           normalize=\"index\")\n",
    "\n",
    "#ctable_pclass_missing.columns = [\"Not Missing\", \"Missing\"]\n",
    "#ctable_pclass_missing[\"Passenger Class\"] = [\"First\", \"Second\", \"Third\"]\n",
    "#ctable_pclass_missing = ctable_pclass_missing.set_index(\"Passenger Class\")\n",
    "#ctable_pclass_missing = ctable_pclass_missing.sort_values(by= 'Missing', axis=0,\n",
    "#                                                          ascending=False)\n",
    "print(ctable_pclass_missing)\n",
    "\n",
    "ctable_pclass_missing_perc.columns = [\"Not Missing\", \"Missing\"]\n",
    "ctable_pclass_missing_perc[\"Passenger Class\"] = [\"First\", \"Second\", \"Third\"]\n",
    "ctable_pclass_missing_perc = ctable_pclass_missing_perc.set_index(\"Passenger Class\")\n",
    "ctable_pclass_missing_perc = ctable_pclass_missing_perc.sort_values(by= 'Missing', axis=0,\n",
    "                                                          ascending=False)\n",
    "\n",
    "axs = plt.gca()\n",
    "axs.set_frame_on(False)\n",
    "\n",
    "age_pclass_stack = ctable_pclass_missing_perc.plot.bar(stacked=True, ax=axs, color=colors)\n",
    "_ = plt.xlabel('Passenger Class', fontsize=20)\n",
    "#_ = plt.ylabel('Percentage Missing', fontsize=20)\n",
    "_ = plt.xticks([0, 1, 2], legend_labels, fontsize=15, alpha=0.8)\n",
    "_ = plt.xticks(fontsize=20)\n",
    "#_ = plt.yticks(fontsize=20)\n",
    "\n",
    "# remove all the ticks (both axes), and tick labels on the Y axis\n",
    "plt.tick_params(top=False, bottom=False, left=False, right=False, labelleft=False,\n",
    "                labelbottom=True)\n",
    "\n",
    "# Bit of a hack - TODO, clean up here.\n",
    "totals = [ctable_pclass_missing_perc.iloc[0,:].sum(), ctable_pclass_missing_perc.iloc[1,:].sum(),\n",
    "          pd.Series(ctable_pclass_missing_perc.iloc[2,:]).sum()]\n",
    "\n",
    "for i, rec in enumerate(age_pclass_stack.patches):\n",
    "    height = rec.get_height()\n",
    "    j = i%3\n",
    "    bar_height = height/totals[j]*100\n",
    "    #print (\"Debug\\n j: {}\\nheight: {}\\ntotals: {}\\n\".format(j, height, totals[j]))\n",
    "    _ = age_pclass_stack.text(rec.get_x() + rec.get_width()/2,\n",
    "              rec.get_y() + height/2,\n",
    "              \"{:.0f}%\".format(bar_height),\n",
    "              ha='center',\n",
    "              va='bottom',\n",
    "              color=\"w\",\n",
    "              fontsize = 15)\n",
    "\n",
    "plt.tight_layout()"
   ],
   "metadata": {
    "collapsed": false,
    "pycharm": {
     "name": "#%%\n"
    }
   }
  },
  {
   "cell_type": "markdown",
   "source": [
    "It is evident by inspection that the number of missing age values is higher in the third\n",
    "passenger class than the other two classes.\n",
    "\n",
    "Next we perform a Chi-Squared test of correlation."
   ],
   "metadata": {
    "collapsed": false
   }
  },
  {
   "cell_type": "code",
   "execution_count": 22,
   "outputs": [
    {
     "name": "stdout",
     "output_type": "stream",
     "text": [
      "dof=2\n",
      "[[173.09090909  42.90909091]\n",
      " [147.44781145  36.55218855]\n",
      " [393.46127946  97.53872054]]\n",
      "probability=0.950, critical=5.991, stat=46.063\n",
      "Dependent (reject H0)\n",
      "significance=0.050, p=0.000\n",
      "Dependent (reject H0)\n"
     ]
    }
   ],
   "source": [
    "#stat, p, dof, expected = chi2_contingency(cont_table)\n",
    "stat, p, dof, expected = chi2_contingency(ctable_pclass_missing)\n",
    "print('dof=%d' % dof)\n",
    "print(expected)\n",
    "# interpret test-statistic\n",
    "prob = 0.95\n",
    "critical = chi2.ppf(prob, dof)\n",
    "print('probability=%.3f, critical=%.3f, stat=%.3f' % (prob, critical, stat))\n",
    "if abs(stat) >= critical:\n",
    "\tprint('Dependent (reject H0)')\n",
    "else:\n",
    "\tprint('Independent (fail to reject H0)')\n",
    "# interpret p-value\n",
    "alpha = 1.0 - prob\n",
    "print('significance=%.3f, p=%.3f' % (alpha, p))\n",
    "if p <= alpha:\n",
    "\tprint('Dependent (reject H0)')\n",
    "else:\n",
    "\tprint('Independent (fail to reject H0)')\n",
    "\n"
   ],
   "metadata": {
    "collapsed": false,
    "pycharm": {
     "name": "#%%\n"
    }
   }
  },
  {
   "cell_type": "markdown",
   "metadata": {
    "pycharm": {
     "name": "#%% md\n"
    }
   },
   "source": [
    "We can see from the results of the Chi-Squared test that passenger class is strongly\n",
    "correlated with a value being missing (p=0.000).\n",
    "\n",
    "We will now replace missing values by using KNN imputation."
   ]
  },
  {
   "cell_type": "code",
   "execution_count": 23,
   "metadata": {
    "pycharm": {
     "name": "#%%\n"
    }
   },
   "outputs": [
    {
     "name": "stdout",
     "output_type": "stream",
     "text": [
      "Number of null values in age column: 0\n",
      "Number of null values in embarked column: 0\n",
      "Dataframe dimension: (891, 12)\n"
     ]
    },
    {
     "ename": "NameError",
     "evalue": "name 'IterativeImputer' is not defined",
     "output_type": "error",
     "traceback": [
      "\u001B[1;31m---------------------------------------------------------------------------\u001B[0m",
      "\u001B[1;31mNameError\u001B[0m                                 Traceback (most recent call last)",
      "\u001B[1;32m<ipython-input-23-a92f1fcaa30c>\u001B[0m in \u001B[0;36m<module>\u001B[1;34m\u001B[0m\n\u001B[0;32m     13\u001B[0m \u001B[1;33m\u001B[0m\u001B[0m\n\u001B[0;32m     14\u001B[0m \u001B[1;31m# Define imputer\u001B[0m\u001B[1;33m\u001B[0m\u001B[1;33m\u001B[0m\u001B[1;33m\u001B[0m\u001B[0m\n\u001B[1;32m---> 15\u001B[1;33m \u001B[0mimputer\u001B[0m \u001B[1;33m=\u001B[0m \u001B[0mIterativeImputer\u001B[0m\u001B[1;33m(\u001B[0m\u001B[1;33m)\u001B[0m\u001B[1;33m\u001B[0m\u001B[1;33m\u001B[0m\u001B[0m\n\u001B[0m\u001B[0;32m     16\u001B[0m \u001B[1;31m# fit on the dataset\u001B[0m\u001B[1;33m\u001B[0m\u001B[1;33m\u001B[0m\u001B[1;33m\u001B[0m\u001B[0m\n\u001B[0;32m     17\u001B[0m \u001B[0mimputer\u001B[0m\u001B[1;33m.\u001B[0m\u001B[0mfit\u001B[0m\u001B[1;33m(\u001B[0m\u001B[0mdf_train\u001B[0m\u001B[1;33m)\u001B[0m\u001B[1;33m\u001B[0m\u001B[1;33m\u001B[0m\u001B[0m\n",
      "\u001B[1;31mNameError\u001B[0m: name 'IterativeImputer' is not defined"
     ]
    }
   ],
   "source": [
    "# Replace missing values for training set\n",
    "df_train = df_train.copy()\n",
    "median = df_train['age'].median()\n",
    "df_train['age'].fillna(median, inplace=True)\n",
    "print(\"Number of null values in age column: {}\".format(df_train['age'].isnull().sum()))\n",
    "\n",
    "mode = df_train['embarked'].mode()\n",
    "df_train['embarked'].fillna(mode.iloc[0], inplace=True)\n",
    "print(\"Number of null values in embarked column: {}\".format(df_train['embarked'].isnull().sum()))\n",
    "print(\"Dataframe dimension: {}\".format(df_train.shape))\n",
    "\n",
    "\n",
    "\n",
    "# Define imputer\n",
    "imputer = IterativeImputer()\n",
    "# fit on the dataset\n",
    "imputer.fit(df_train)\n",
    "# transform the dataset\n",
    "Xtrans = imputer.transform(X)\n",
    "# summarize total missing\n",
    "print('Missing: %d' % sum(isnan(Xtrans).flatten()))\n",
    "\n"
   ]
  },
  {
   "cell_type": "markdown",
   "metadata": {
    "pycharm": {
     "name": "#%% md\n"
    }
   },
   "source": [
    "The number of null values after missing values have been replaced in the test set is:"
   ]
  },
  {
   "cell_type": "code",
   "execution_count": null,
   "metadata": {
    "pycharm": {
     "name": "#%%\n"
    }
   },
   "outputs": [],
   "source": [
    "# Replace missing values for test set\n",
    "df_test = df_test.copy()\n",
    "median = df_test['age'].median()\n",
    "df_test['age'].fillna(median, inplace=True)\n",
    "print(\"Number of null values in age column: {}\".format(df_test['age'].isnull().sum()))\n",
    "\n",
    "median = df_test['fare'].median()\n",
    "df_test['fare'].fillna(median, inplace=True)\n",
    "print(\"Number of null values in fare column: {}\".format(df_test['fare'].isnull().sum()))\n",
    "print(\"Dataframe dimension: {}\".format(df_test.shape))\n",
    "df_test = df_test.copy()"
   ]
  },
  {
   "cell_type": "markdown",
   "metadata": {},
   "source": [
    "We observe that the null values have been removed. We now have a dataset ready for further analysis -\n",
    "albeit a bit of a black box hack :) We will now do some very limited EDA just to get a feel for the data\n",
    "as previously discussed."
   ]
  },
  {
   "cell_type": "markdown",
   "metadata": {},
   "source": [
    "<div class=\"alert alert-block alert-info\">\n",
    "<b>Exploration of data</b>\n",
    "</div>"
   ]
  },
  {
   "cell_type": "markdown",
   "metadata": {},
   "source": [
    "We start by looking at the number of unique records per variable."
   ]
  },
  {
   "cell_type": "code",
   "execution_count": null,
   "metadata": {
    "pycharm": {
     "name": "#%%\n"
    }
   },
   "outputs": [],
   "source": [
    "print(df_train.nunique())"
   ]
  },
  {
   "cell_type": "markdown",
   "metadata": {},
   "source": [
    "There are no columns with only one value. We therefore retain all columns for ML purposes as there is\n",
    "enough variability to warrant using the data. There are many variables with fewer than 10 levels which\n",
    "could be considered as categorical. Based on our initial assessment of the data we will work with\n",
    "levels of measurement for the data as follows:\n",
    "\n",
    "- p_class (ordinal) - we will revisit type of encoding later\n",
    "- sex (binary) - recode (female - yes or no)\n",
    "- age (continuous)\n",
    "- sib_sp (ordinal) - check correlation - revisit encoding\n",
    "- parch (ordinal) - check correlation - revisit encoding\n",
    "- fare (continuous)\n",
    "- embarked (nominal) - recode (one hot encode) - probably categorical\n",
    "\n",
    "At this point we have nominal and binary categorical data. We need to One Hot Encode one variable i.e.\n",
    "embarked as it is categorical and non-binary. We will leave the ordinal data as is for the initial\n",
    "analysis i.e. label encode it. Next we look at the distribution of the data.\n",
    "\n",
    "We start by separating continuous and categorical variables for further high level analysis before\n",
    "running our quick and dirty models."
   ]
  },
  {
   "cell_type": "code",
   "execution_count": null,
   "metadata": {
    "pycharm": {
     "name": "#%%\n"
    }
   },
   "outputs": [],
   "source": [
    "# Separate continuous and categorical variables\n",
    "names_con = ('fare', 'age')\n",
    "names_con_plot = ('survived', 'fare', 'age')\n",
    "names_cat = ('survived', 'p_class', 'sex', 'sib_sp', 'parch', 'embarked')\n",
    "names_cat_test = ('p_class', 'sex', 'sib_sp', 'parch', 'embarked')\n",
    "\n",
    "df_train_con = df_train.loc[:, names_con]\n",
    "df_train_con_plot = df_train.loc[:, names_con_plot]\n",
    "df_train_cat = df_train.loc[:, names_cat]\n",
    "\n",
    "df_test_con = df_test.loc[:, names_con]\n",
    "df_test_cat = df_test.loc[:, names_cat_test]\n",
    "\n",
    "# Plotting label dictionary\n",
    "plot_con = [('fare', 'Fare'),\n",
    "            ('age', 'Age')]\n",
    "plot_con_plot = [('survived', 'Survived'),\n",
    "            ('fare', 'Fare'),\n",
    "            ('age', 'Age')]\n",
    "plot_cat = {'survived': ['Died', 'Survived'],\n",
    "            'p_class': ['3rd', '1st', '2nd'],\n",
    "            'sex': ['Male', 'Female'],\n",
    "            'sib_sp': ['0', '1', '2', '4', '3', '8', '5'],\n",
    "            'parch': ['0', '1', '2', '3', '5', '4', '6'],\n",
    "            'embarked': ['Southampton', 'Cherbourg', 'Queenstown']}\n",
    "plot_cat_plot = {'survived': 'Survival Rate',\n",
    "            'p_class': 'Passenger Class Travelled',\n",
    "            'sex': 'Gender',\n",
    "            'sib_sp': '# Siblings or spouses',\n",
    "            'parch': '# Parents or children',\n",
    "            'embarked': 'Port of Embarkation'}"
   ]
  },
  {
   "cell_type": "markdown",
   "metadata": {},
   "source": [
    "### High level overview\n"
   ]
  },
  {
   "cell_type": "markdown",
   "metadata": {
    "pycharm": {
     "name": "#%% md\n"
    }
   },
   "source": [
    "We observe that we have two candidates for continuous variables here (age and fare). With all the\n",
    "categorical variables present, it is likely that a tree model would be better suited to this problem\n",
    "unless significant feature engineering on categorical features is performed to ensure features are\n",
    "optimally encoded, transformed and scaled for a linear model or neural network.\n",
    "\n",
    "Let's continue with the high level analysis.\n",
    "\n",
    "The overall survival rate was as follows (based on the training dataset):"
   ]
  },
  {
   "cell_type": "code",
   "execution_count": null,
   "metadata": {
    "pycharm": {
     "name": "#%%\n"
    }
   },
   "outputs": [],
   "source": [
    "_ = plt.figure()\n",
    "\n",
    "# Plot outcome counts.a\n",
    "outcome_counts = df_train_cat['survived'].value_counts(normalize = True)\n",
    "legend_labels = ['Died', 'Survived']\n",
    "\n",
    "# change the background bar colors to be light grey\n",
    "bars = plt.bar(outcome_counts.index, outcome_counts.values, align='center', linewidth=0,\n",
    "               color='lightslategrey')\n",
    "# make one bar, the survived bar, a contrasting color\n",
    "bars[1].set_color('#1F77B4')\n",
    "\n",
    "# soften all labels by turning grey\n",
    "_ = plt.xticks(outcome_counts.index, legend_labels, fontsize=15, alpha=0.8)\n",
    "_ = plt.title('Survival Rate', fontsize=15, pad=30, alpha=0.8)\n",
    "\n",
    "# remove all the ticks (both axes), and tick labels on the Y axis\n",
    "plt.tick_params(top=False, bottom=False, left=False, right=False, labelleft=False,\n",
    "                labelbottom=True)\n",
    "\n",
    "# Remove the frame - my method\n",
    "ax = plt.gca()\n",
    "ax.set_frame_on(False)\n",
    "\n",
    "# Remove the frame of the chart - instructor's method\n",
    "#for spine in plt.gca().spines.values():\n",
    "#    spine.set_visible(False)\n",
    "\n",
    "# direct label each bar with Y axis values\n",
    "for bar in bars:\n",
    "    _ = plt.gca().text(bar.get_x() + bar.get_width()/2, bar.get_height() - 0.05,\n",
    "                       str(round((bar.get_height()*100))) + '%', ha='center', color='w',\n",
    "                       fontsize=15)\n",
    "\n",
    "plt.show()"
   ]
  },
  {
   "cell_type": "markdown",
   "metadata": {
    "pycharm": {
     "name": "#%% md\n"
    }
   },
   "source": [
    "The survival statistics are as follows:\n"
   ]
  },
  {
   "cell_type": "code",
   "execution_count": null,
   "metadata": {
    "pycharm": {
     "name": "#%%\n"
    }
   },
   "outputs": [],
   "source": [
    "print(df_train_cat['survived'].value_counts())\n",
    "print(\"\\n\")\n",
    "\n",
    "#print(df_train_cat['survived'].value_counts(normalize = True).mul(100).round(1).astype(str) + '%')\n",
    "#print(\"\\n\")\n",
    "#"
   ]
  },
  {
   "cell_type": "markdown",
   "metadata": {
    "pycharm": {
     "name": "#%% md\n"
    }
   },
   "source": [
    "We observe that 38% of passengers survived and 62% died. These statistics correspond with the narrative on survival\n",
    "rate quoted in the background information on Kaggle. There it is quoted that around 32% survived and 68% died. The\n",
    "sample we are working with is thus representative of the overall population, which is important to note.\n",
    "\n",
    "We observe that the target variable contains unbalanced classes. We need to consider revisiting the unbalanced\n",
    "classes at a later stage - depending on the accuracy of our models. For now, we will forge ahead.\n",
    "\n",
    "Next we will consider class level counts for categorical variables."
   ]
  },
  {
   "cell_type": "markdown",
   "metadata": {},
   "source": [
    "#### Categorical variable overview\n",
    "\n",
    "Class percentages:"
   ]
  },
  {
   "cell_type": "code",
   "execution_count": null,
   "metadata": {
    "pycharm": {
     "name": "#%%\n"
    }
   },
   "outputs": [],
   "source": [
    "# Bar chart plot of categorical variables.\n",
    "fig, ax = plt.subplots(2, 3, figsize=(20, 15));\n",
    "base_color = '#1F77B4'\n",
    "for variable, subplot in zip(names_cat, ax.flatten()):\n",
    "    subplot.xaxis.label.set_size(24)\n",
    "    subplot.yaxis.label.set_size(24)\n",
    "    subplot.tick_params('y', labelsize = 20);\n",
    "    subplot.tick_params('x', labelsize = 20);\n",
    "    subplot.tick_params(top=False, bottom=False, left=False, right=False, labelleft=False,\n",
    "                        labelbottom=True)\n",
    "    subplot.set_frame_on(False)\n",
    "\n",
    "    outcome_counts = df_train_cat[variable].value_counts(normalize=True)\n",
    "    bars = subplot.bar(outcome_counts.index.sort_values(), outcome_counts.values, align='center',\n",
    "                       linewidth=0,\n",
    "               color='lightslategrey')\n",
    "    # make one bar, the highest value bar, a contrasting color\n",
    "    bars[0].set_color('#1F77B4')\n",
    "\n",
    "    plt.sca(subplot)\n",
    "    _ = plt.xticks(outcome_counts.index.sort_values(), plot_cat[variable], fontsize=15, alpha=0.8)\n",
    "    _ = plt.title(plot_cat_plot[variable], fontsize=15, pad=30, alpha=0.8)\n",
    "\n",
    "    # direct label each bar with Y axis values\n",
    "    for bar in bars:\n",
    "        _ = plt.gca().text(bar.get_x() + bar.get_width()/2, bar.get_height() - 0.05,\n",
    "                           str(round((bar.get_height()*100))) + '%', ha='center', color='w',\n",
    "                           fontsize=15)\n",
    "\n",
    "    plt.tight_layout()\n"
   ]
  },
  {
   "cell_type": "markdown",
   "metadata": {
    "pycharm": {
     "name": "#%% md\n"
    }
   },
   "source": [
    "Class counts:\n"
   ]
  },
  {
   "cell_type": "code",
   "execution_count": null,
   "metadata": {
    "pycharm": {
     "name": "#%%\n"
    }
   },
   "outputs": [],
   "source": [
    "# Class level counts for categorical variables.\n",
    "for variable in names_cat:\n",
    "    #print(df_train_cat[variable].value_counts(normalize = True).mul(100).round(1).astype(str) +\n",
    "    # '%')\n",
    "    print(df_train_cat[variable].value_counts())\n",
    "    print(\"\\n\")"
   ]
  },
  {
   "cell_type": "markdown",
   "metadata": {
    "pycharm": {
     "name": "#%% md\n"
    }
   },
   "source": [
    "From the categorical variables we observe that there were approximately twice as many passengers in class 3 than either\n",
    "class 1 or 2. We also observe that there were nearly twice as many males as females on the Titanic. We also observe\n",
    "that more than two thirds of passengers did not have any siblings on board. Likewise we observe that more than two\n",
    "thirds did not have a father or child on board.\n",
    "\n",
    "It is therefore fair to say that the majority of passengers were either couples or single travellers without children\n",
    ". In the case where families did travel, the majority of families had one or two children. Very few families with\n",
    "more children were on board the Titanic.\n",
    "\n",
    "We also see that more than two thirds of passengers departed from Southampton.\n",
    "\n",
    "Many of these variables could contribute o correlation with survival at face value e.g. it stands to reason that\n",
    "preference would have been given in lifeboats to women and children, and that more affluent travellers would have had\n",
    "access to better lifeboats. We will however test these hypotheses in this analysis."
   ]
  },
  {
   "cell_type": "markdown",
   "metadata": {
    "pycharm": {
     "name": "#%% md\n"
    }
   },
   "source": [
    "#### Continuous variable overview\n",
    "\n",
    "We start by considering the age distribution of the passengers. At this point we do some limited\n",
    "EDA in that we will consider the age profiles of those who survived vs. those who died. As with\n",
    "many natural phenomena we expect age to have some influence on mortality."
   ]
  },
  {
   "cell_type": "code",
   "execution_count": null,
   "metadata": {
    "pycharm": {
     "name": "#%%\n"
    }
   },
   "outputs": [],
   "source": [
    "fig_age, axes = plt.subplots(nrows=1, ncols=1, figsize=(10, 6), squeeze=False)\n",
    "\n",
    "_ = sns.kdeplot(data=df_train_con_plot.loc[(df_train_con_plot['survived'] == 0), 'age'], shade =\n",
    "True, label = 'Died')\n",
    "_ = sns.kdeplot(data=df_train_con_plot.loc[(df_train_con_plot['survived'] == 1), 'age'], shade =\n",
    "True, label = 'Survived')\n",
    "_ = plt.xlabel('Age', fontsize=20)\n",
    "_ = plt.ylabel('Density', fontsize=20)\n",
    "_ = plt.xticks(fontsize=20)\n",
    "_ = plt.yticks(fontsize=20)\n",
    "_ = plt.legend(fontsize=15)\n",
    "plt.show()\n"
   ]
  },
  {
   "cell_type": "markdown",
   "metadata": {
    "pycharm": {
     "name": "#%% md\n"
    }
   },
   "source": [
    "From the age distribution plot we can see that more children under the age of 15 survived than\n",
    "died in the incident. We can see that more individuals between the ages of 20 and 40 died than\n",
    "survived. We can also see that more individuals above the age of 80 survived compared to dying.\n",
    "\n",
    "We can also see that the majority of individuals on the cruise were between the ages of 20 to 40.\n",
    "There were fewer teenagers compared to children under 10. There were comparatively fewer elderly\n",
    "people on board i.e. above 60."
   ]
  },
  {
   "cell_type": "code",
   "execution_count": null,
   "metadata": {
    "pycharm": {
     "name": "#%%\n"
    }
   },
   "outputs": [],
   "source": [
    "# 5 number summary.\n",
    "df_train_con.describe()\n"
   ]
  },
  {
   "cell_type": "markdown",
   "metadata": {
    "pycharm": {
     "name": "#%% md\n"
    }
   },
   "source": [
    "We now consider the fare distribution too. As with age, our assumption would be that fare has a\n",
    "correlation with mortality too.\n",
    "\n",
    "The fare distribution is severely skewed to the right. The kurtosis of the plot is very high with\n",
    " most values clustered closely around the median value of 14. There was a non-significant but\n",
    " relatively smaller number of fares spread between teh values of 30 and 500.\n",
    "\n",
    "The age distribution was as previously discussed, with a minimum of 6 months and maximum of 80\n",
    "years old. The distribution is fairly symmetrical with a slight skew to the right. There is a\n",
    "young child bump to the left of the distribution.\n",
    "\n",
    "We now do a more in depth visual analysis of the correlation between survival and fare and age\n",
    "respectively. We do this by creating a set of Violin plots."
   ]
  },
  {
   "cell_type": "code",
   "execution_count": null,
   "metadata": {
    "pycharm": {
     "name": "#%%\n"
    }
   },
   "outputs": [],
   "source": [
    "# Continuous density plot\n",
    "fig_continuous, axes = plt.subplots(nrows=len(names_con_plot)-1, ncols=2, figsize=(15, 12))\n",
    "\n",
    "# Plot frequency plot/ histogram\n",
    "_ = sns.histplot(x=plot_con[0][0], kde=True, data=df_train_con_plot, ax=axes[0][0], bins=40);\n",
    "_ = axes[0][0].set(xlabel=plot_con[0][1], ylabel='Density');\n",
    "axes[0][0].xaxis.label.set_size(24)\n",
    "axes[0][0].yaxis.label.set_size(24)\n",
    "axes[0][0].tick_params('y', labelsize = 20);\n",
    "axes[0][0].tick_params('x', labelsize = 20);\n",
    "\n",
    "# Plot violin plot\n",
    "_ = sns.violinplot(x='survived', y=plot_con[0][0], data=df_train_con_plot, ax=axes[0][1]);\n",
    "_ = axes[0][1].set(xlabel='', ylabel=plot_con[0][1]);\n",
    "axes[0][1].xaxis.label.set_size(24)\n",
    "axes[0][1].yaxis.label.set_size(24)\n",
    "axes[0][1].tick_params('y', labelsize = 20);\n",
    "axes[0][1].tick_params('x', labelsize = 20);\n",
    "_ = axes[0][1].set_xticklabels(['Died', 'Survived'])\n",
    "\n",
    "# Plot frequency plot/ histogram\n",
    "_ = sns.histplot(x=plot_con[1][0], kde=True, data=df_train_con_plot, ax=axes[1][0], bins=40);\n",
    "_ = axes[1][0].set(xlabel=plot_con[1][1], ylabel='Density');\n",
    "axes[1][0].xaxis.label.set_size(24)\n",
    "axes[1][0].yaxis.label.set_size(24)\n",
    "axes[1][0].tick_params('y', labelsize = 20);\n",
    "axes[1][0].tick_params('x', labelsize = 20);\n",
    "\n",
    "# Plot violin plot\n",
    "_ = sns.violinplot(x='survived', y=plot_con[1][0], data=df_train_con_plot, ax=axes[1][1]);\n",
    "_ = axes[1][1].set(ylabel=plot_con[1][1], xlabel='');\n",
    "axes[1][1].xaxis.label.set_size(24)\n",
    "axes[1][1].yaxis.label.set_size(24)\n",
    "axes[1][1].tick_params('y', labelsize = 20);\n",
    "axes[1][1].tick_params('x', labelsize = 20);\n",
    "_ = axes[1][1].set_xticklabels(['Died', 'Survived'])\n",
    "\n",
    "plt.tight_layout()\n",
    "\n"
   ]
  },
  {
   "cell_type": "markdown",
   "metadata": {
    "pycharm": {
     "name": "#%% md\n"
    }
   },
   "source": [
    "The violin plot for <i>fare</i> indicates that there is correlation between fare and survival as\n",
    "more people paying a low fare died and chances of survival increased for higher fares, as well as\n",
    " lower fares close to zero (possibly for children travelling at very low cost).\n",
    "\n",
    "The plot for <i>age</i> indicates a similar pattern with higher survival for children below 10\n",
    "and higher mortality between ages of 20 and 40. The relative likelihood of survival increases\n",
    "again around 40 years of age as you go into the older ages.\n",
    "\n",
    "We will investigate these observations in more detail in our next Notebook.\n",
    "\n",
    "Lastly we will look at the Box plots for both age and fare. We do this to get a better feel for\n",
    "the spread of the data and the possibility of outliers. This will be important for us to consider\n",
    " whether further analysis and possible processing of variables are required in later stages."
   ]
  },
  {
   "cell_type": "code",
   "execution_count": null,
   "metadata": {
    "pycharm": {
     "name": "#%%\n"
    }
   },
   "outputs": [],
   "source": [
    "# Boxplot of continuous variables\n",
    "medianprops = {'color': 'magenta', 'linewidth': 2}\n",
    "boxprops = {'color': 'black', 'linestyle': '-', 'linewidth': 2}\n",
    "whiskerprops = {'color': 'black', 'linestyle': '-', 'linewidth': 2}\n",
    "capprops = {'color': 'black', 'linestyle': '-', 'linewidth': 2}\n",
    "flierprops = {'color': 'black', 'marker': 'x', 'markersize': 20}\n",
    "\n",
    "_ = df_train_con.plot(kind='box', subplots=True, figsize=(20, 8), layout=(1,2), fontsize = 20,\n",
    "                      medianprops=medianprops, boxprops=boxprops, whiskerprops=whiskerprops,\n",
    "                      capprops=capprops, flierprops=flierprops);\n",
    "_ = plt.tight_layout();\n",
    "_ = plt.show();\n"
   ]
  },
  {
   "cell_type": "markdown",
   "metadata": {
    "pycharm": {
     "name": "#%% md\n"
    }
   },
   "source": [
    "The distributions of the <i>fare</i> and <i>age</i> variables show that fare is skewed heavily to\n",
    " the right, with the median skewed to the left of the distribution as expected. The values in the\n",
    "  final quintile are spread over wide area with quite a few outliers. This distribution is heavy\n",
    "  tailed, as can be expected of many financial distributions. We observe that there are zero\n",
    "  values, and there is a large peak in the bin containing zero. We will need to investigate this\n",
    "  group of travellers as they could be different from the general population. The heavy tail and\n",
    "  many outliers are also good candidates for further processing.\n",
    "\n",
    "The <i>age</i> distribution is fairly symmetrical, with a few outliers to the right, but nothing\n",
    "out of the ordinary. Most of the values are bundled symmetrically around the median of 28, which\n",
    "is quite a young age for the average traveller. The large spike in ages at this interval is also\n",
    "concerning and seems out of place. This will need to be further investigated."
   ]
  },
  {
   "cell_type": "markdown",
   "metadata": {},
   "source": [
    "<div class=\"alert alert-block alert-info\">\n",
    "<b>Transform variables</b>\n",
    "</div>"
   ]
  },
  {
   "cell_type": "markdown",
   "metadata": {},
   "source": [
    "We will now build the following models as previously discussed:\n",
    "\n",
    " 1. Logistic regression\n",
    " 2. Multi-layer Perceptron (MLP)\n",
    " 3. Decision Tree\n",
    " 4. Random Forest\n",
    "\n",
    "Our strategy is to build our own <i>validation strategy</i> based on the training set for which\n",
    "we have labels. We will do this by splitting this set into training and testing sets according to\n",
    "a 75%/ 25% split. Any hyper-parameter optimisation will be done by using <i>cross validation</i>\n",
    "on the 75% test set. The 25% testing set will be used for our final test before we apply the\n",
    "results to the provided test set for submission.\n",
    "\n",
    "We therefore now start by splitting the response and features for the training set as previously\n",
    "discussed.\n",
    "\n",
    "We will be using this dataset for all our models from here onwards. We also perform minor\n",
    "transformations such as encoding the <i>sex</i> variable for test and training sets. We also One\n",
    "Hot Encode the <i>embarked</i> variable. We drop one of the categories for embarked to avoid\n",
    "multi-collinearity (dummy variable trap)."
   ]
  },
  {
   "cell_type": "code",
   "execution_count": null,
   "metadata": {
    "pycharm": {
     "name": "#%%\n"
    }
   },
   "outputs": [],
   "source": [
    "# Group response values to form binary response\n",
    "y = df_train.loc[:, 'survived']\n",
    "\n",
    "# Split data into features (X) and response (y)\n",
    "X = df_train.loc[:, ('p_class', 'sex', 'age', 'sib_sp', 'parch', 'fare', 'embarked')]\n",
    "df_test = df_test.loc[:, ('p_class', 'sex', 'age', 'sib_sp', 'parch', 'fare', 'embarked')]\n",
    "\n",
    "# Put the response y into an array\n",
    "y = np.ravel(y)\n",
    "\n",
    "# Transform sex variable\n",
    "X['sex'] = X['sex'].apply(lambda x: 1 if x == 'female' else 0)\n",
    "\n",
    "# Same transformation for test set.\n",
    "df_test['sex'] = df_test['sex'].apply(lambda x: 1 if x == 'female' else 0)\n",
    "\n",
    "# Transform embarked variable\n",
    "ohe = OneHotEncoder(categories='auto', drop='first')\n",
    "Xd = ohe.fit_transform(X.embarked.values.reshape(-1, 1)).toarray()\n",
    "df_ohe = pd.DataFrame(Xd, columns = ohe.get_feature_names())\n",
    "\n",
    "X = pd.concat([X.loc[:, ['p_class', 'sex', 'age', 'sib_sp', 'parch', 'fare']], df_ohe], axis=1)\n",
    "\n",
    "# Transform embarked variable for test set\n",
    "ohe2 = OneHotEncoder(categories='auto', drop='first')\n",
    "Xd2 = ohe2.fit_transform(df_test.embarked.values.reshape(-1, 1)).toarray()\n",
    "df_ohe2 = pd.DataFrame(Xd2, columns = ohe.get_feature_names())\n",
    "\n",
    "df_test = pd.concat([df_test.loc[:, ['p_class', 'sex', 'age', 'sib_sp', 'parch', 'fare']],\n",
    "                     df_ohe2], axis=1)"
   ]
  },
  {
   "cell_type": "markdown",
   "metadata": {
    "pycharm": {
     "name": "#%% md\n"
    }
   },
   "source": [
    "#### Split and scale the data"
   ]
  },
  {
   "cell_type": "markdown",
   "metadata": {
    "pycharm": {
     "name": "#%% md\n"
    }
   },
   "source": [
    "We now split the data into training and test sets according to a 75/ 25% split. We then scale the\n",
    " data by using the Standard Scaler to account for the differences between continuous and \n",
    " categorical variable scales of measurement. We will refine this process in our next Notebook. \n",
    " We also scale the final test set provided for submission of our results. "
   ]
  },
  {
   "cell_type": "code",
   "execution_count": null,
   "metadata": {
    "pycharm": {
     "name": "#%%\n"
    }
   },
   "outputs": [],
   "source": [
    "X_train, X_test, y_train, y_test = train_test_split(X, y, random_state=0)\n",
    "#print('Percentage holdout data: {}%'.format(round(100*(len(X_test)/len(X)),0)))\n",
    "\n",
    "# Scale data\n",
    "scaler = StandardScaler()\n",
    "\n",
    "# Fit on training data set\n",
    "_ = scaler.fit(X_train)\n",
    "X_train = scaler.transform(X_train)\n",
    "\n",
    "# Apply to test data (training)\n",
    "X_test = scaler.transform(X_test)\n",
    "\n",
    "# Apply to final test data\n",
    "df_test = scaler.transform(df_test)\n"
   ]
  },
  {
   "cell_type": "markdown",
   "metadata": {},
   "source": [
    "<div class=\"alert alert-block alert-info\">\n",
    "<b>Build models</b>\n",
    "</div>"
   ]
  },
  {
   "cell_type": "markdown",
   "metadata": {},
   "source": [
    "We can now start building our first model, yay! We build and test a naive logistic regression \n",
    "model - without any transformations or optimisations.\n",
    "\n",
    "The objective is to ascertain the strength of association between features and responses on \n",
    "unprocessed data. "
   ]
  },
  {
   "cell_type": "markdown",
   "metadata": {},
   "source": [
    "#### Naive Logistic Regression"
   ]
  },
  {
   "cell_type": "code",
   "execution_count": null,
   "metadata": {
    "pycharm": {
     "name": "#%%\n"
    }
   },
   "outputs": [],
   "source": [
    "# Initial model\n",
    "log_reg = LogisticRegression(max_iter=2000000, fit_intercept = False)\n",
    "\n",
    "# Probability scores for test set\n",
    "y_score_init = log_reg.fit(X_train, y_train).decision_function(X_test)\n",
    "\n",
    "# False positive Rate and true positive rate\n",
    "fpr_roc, tpr_roc, thresholds = roc_curve(y_test, y_score_init)\n",
    "\n",
    "plot_roc_curve(fpr = fpr_roc, tpr = tpr_roc)"
   ]
  },
  {
   "cell_type": "code",
   "execution_count": null,
   "metadata": {
    "pycharm": {
     "name": "#%%\n"
    }
   },
   "outputs": [],
   "source": [
    "y_pred = log_reg.predict(X_test)\n",
    "# Accuracy before model parameter optimisation\n",
    "cnf_matrix = confusion_matrix(y_pred, y_test)\n",
    "plot_confusion_matrix(cnf_matrix, classes=[0,1], normalize=True)"
   ]
  },
  {
   "cell_type": "markdown",
   "metadata": {},
   "source": [
    "As can be seen from the accuracy measurements the baseline model performs exceptionally well. A\n",
    "C-statistic (Area Under the Curve - AUC) of 86% on data that has only been scaled without any\n",
    "transformation is an excellent result.\n",
    "\n",
    "This result is somewhat surprising given our high level EDA outcomes which showed only slight\n",
    "correlation between age and fare and survival rate.\n",
    "\n",
    "Based on this result it is evident that there must be stronger correlation for at least a few of\n",
    "the categorical variables. Our more in-depth analysis will hopefully shed more light on this!\n",
    "\n",
    "The model has a precision of 83% which is high. At a given threshold the ability to correctly\n",
    "predict sub-population survival rates would in all likelihood be very good for this model.\n",
    "\n",
    "The sensitivity of 68% is not very high, but is to be expected for this type of problem. Out of\n",
    "the entire population 32% of survivors will not be identified. For some applications this might\n",
    "be problematic.\n",
    "\n",
    "We will now investigate correlation amongst the predictors further, but first, we will build a\n",
    "few more models to further investigate the raw strength of signal in the data.\n",
    "\n",
    "Next we build a simple Multi Layer Perceptron using scikit-learn to see if it does any better\n",
    "than the Logistic Regression."
   ]
  },
  {
   "cell_type": "markdown",
   "metadata": {
    "pycharm": {
     "name": "#%% md\n"
    }
   },
   "source": [
    "#### Naive MLP"
   ]
  },
  {
   "cell_type": "code",
   "execution_count": null,
   "metadata": {
    "pycharm": {
     "name": "#%%\n"
    }
   },
   "outputs": [],
   "source": [
    "# Fit and check MSE before regularisation\n",
    "mlp_reg = MLPClassifier(max_iter=50000, solver=\"adam\", activation=\"tanh\", hidden_layer_sizes=(5, 5),\n",
    "                    random_state=1)\n",
    "mlp_reg = mlp_reg.fit(X_train, y_train)\n",
    "\n",
    "# Predict\n",
    "y_pred = mlp_reg.predict(X_test)\n",
    "\n",
    "# Accuracy before model parameter optimisation\n",
    "print (\"Accuracy Score: %0.5f\" % accuracy_score(y_pred,y_test))\n",
    "\n",
    "# False positive Rate and true positive rate\n",
    "fpr_roc, tpr_roc, thresholds = roc_curve(y_test, y_pred)\n",
    "\n",
    "plot_roc_curve(fpr = fpr_roc, tpr = tpr_roc)\n",
    "\n",
    "# Accuracy before model parameter optimisation\n",
    "cnf_matrix = confusion_matrix(y_pred, y_test)\n",
    "plot_confusion_matrix(cnf_matrix, classes=[0,1], normalize=True)"
   ]
  },
  {
   "cell_type": "markdown",
   "metadata": {},
   "source": [
    "The naive MLP has an accuracy score of 82% which is higher than the accuracy of the Logistic\n",
    "Regression of 77%.\n",
    "\n",
    "The C-Statistic is however lower, which is surprising. Care should be taken when comparing this\n",
    "ROC curve to the Logistic Regression one as the X-axis scale is not standardised - another TODO\n",
    "for later.\n",
    "\n",
    "The accuracy for the MLP improves much faster at first, but then all of a sudden plateaus and\n",
    "increases much slower, which is also odd. We will have to investigate this further.\n",
    "\n",
    "We now see if further optimisation of the NN architecture can result in higher scores.\n",
    "\n",
    "We will experiment with different numbers of hidden layers and nodes per layer to obtain an\n",
    "optimal configuration. As previously discussed we use cross validation to simulate \"out of set\"\n",
    "characteristics for the dataset."
   ]
  },
  {
   "cell_type": "code",
   "execution_count": null,
   "metadata": {
    "pycharm": {
     "name": "#%%\n"
    }
   },
   "outputs": [],
   "source": [
    "# Optimise numbers of nodes on both layers\n",
    "validation_scores = {}\n",
    "print(\"Nodes |Validation\")\n",
    "print(\"      | score\")\n",
    "\n",
    "for hidden_layer_size in [(i,j) for i in range(2,6) for j in range(2,6)]:\n",
    "\n",
    "    reg = MLPClassifier(max_iter=1000000, hidden_layer_sizes=hidden_layer_size, random_state=1)\n",
    "\n",
    "    score = cross_val_score(estimator=reg, X=X_train, y=y_train, cv=2)\n",
    "    validation_scores[hidden_layer_size] = score.mean()\n",
    "    print(hidden_layer_size, \": %0.5f\" % validation_scores[hidden_layer_size])"
   ]
  },
  {
   "cell_type": "code",
   "execution_count": null,
   "metadata": {
    "pycharm": {
     "name": "#%%\n"
    }
   },
   "outputs": [],
   "source": [
    "# Check scores\n",
    "print(\"The highest validation score is: %0.4f\" % max(validation_scores.values()))\n",
    "optimal_hidden_layer_size = [name for name, score in validation_scores.items()\n",
    "                              if score==max(validation_scores.values())][0]\n",
    "print(\"This corresponds to nodes\", optimal_hidden_layer_size )\n"
   ]
  },
  {
   "cell_type": "markdown",
   "metadata": {
    "pycharm": {
     "name": "#%% md\n"
    }
   },
   "source": [
    "Now we optimise the neural network regularisation parameter."
   ]
  },
  {
   "cell_type": "code",
   "execution_count": null,
   "metadata": {
    "pycharm": {
     "name": "#%%\n"
    }
   },
   "outputs": [],
   "source": [
    "# Select range over which to find regularisation parameter - exponential used for even\n",
    "# distribution of values\n",
    "reg_par = [np.e**n for n in np.arange(-2,4,0.5)]\n",
    "\n",
    "validation_scores = {}\n",
    "print(\" alpha  |  Accuracy\")\n",
    "for param in reg_par:\n",
    "    reg = MLPClassifier(max_iter=1000000, solver=\"adam\", activation=\"tanh\",\n",
    "                        hidden_layer_sizes=optimal_hidden_layer_size, alpha=param, random_state=1)\n",
    "    score = cross_val_score(estimator=reg, X=X_train, y=y_train, cv=2, scoring=\"accuracy\")\n",
    "    validation_scores[param] = score.mean()\n",
    "    print(\"%0.5f |  %s\" % (param, score.mean()))\n",
    "\n",
    "# Plot the accuracy function against regularisation parameter\n",
    "plt.plot([np.log(i) for i in validation_scores.keys()], list(validation_scores.values()));\n",
    "plt.xlabel(\"Ln of alpha\");\n",
    "plt.ylabel(\"Accuracy\");"
   ]
  },
  {
   "cell_type": "markdown",
   "metadata": {},
   "source": [
    "The highest cross-validation accuracy score and hence the value to use for the `alpha` parameter\n",
    "is as follows."
   ]
  },
  {
   "cell_type": "code",
   "execution_count": null,
   "metadata": {
    "pycharm": {
     "name": "#%%\n"
    }
   },
   "outputs": [],
   "source": [
    "max_score = ([np.log(name) for name, score in validation_scores.items() if score==max\n",
    "(validation_scores.values())][0])\n",
    "# Find lowest value.\n",
    "print(\"The highest accuracy score is: %s\" % (max(validation_scores.values())))\n",
    "print(\"This corresponds to regularisation parameter e**%s\" % max_score)"
   ]
  },
  {
   "cell_type": "markdown",
   "metadata": {},
   "source": [
    "#### MSE after regularisation"
   ]
  },
  {
   "cell_type": "code",
   "execution_count": null,
   "metadata": {
    "pycharm": {
     "name": "#%%\n"
    }
   },
   "outputs": [],
   "source": [
    "# Fit data with the best parameter\n",
    "mlp_reg_optim = MLPClassifier(max_iter=1000000, solver=\"adam\", activation=\"tanh\",\n",
    "                    hidden_layer_sizes=optimal_hidden_layer_size, alpha=np.e**(2), random_state=1)\n",
    "\n",
    "mlp_reg_optim.fit(X_train, y_train)\n",
    "\n",
    "# Predict\n",
    "y_pred = mlp_reg_optim.predict(X_test)\n",
    "\n",
    "# Accuracy after model parameter optimisation\n",
    "accuracy_score(y_pred,y_test)"
   ]
  },
  {
   "cell_type": "markdown",
   "metadata": {},
   "source": [
    "#### Accuracy analysis"
   ]
  },
  {
   "cell_type": "code",
   "execution_count": null,
   "metadata": {
    "pycharm": {
     "name": "#%%\n"
    }
   },
   "outputs": [],
   "source": [
    "# False positive Rate and true positive rate\n",
    "fpr_roc, tpr_roc, thresholds = roc_curve(y_test, y_pred)\n",
    "plot_roc_curve(fpr = fpr_roc, tpr = tpr_roc)\n",
    "\n",
    "cnf_matrix = confusion_matrix(y_pred, y_test)\n",
    "plot_confusion_matrix(cnf_matrix, classes=[0,1], normalize=True)"
   ]
  },
  {
   "cell_type": "markdown",
   "metadata": {},
   "source": [
    "Well this is a bit disappointing. The accuracy drops to 78% from 81% after optimisation.\n",
    "This is however not uncommon when working with smaller datasets, and given that our parameter\n",
    "optmisation approach is very crude to say the least. The variance in the smaller datasets during\n",
    "cross validation is too large and causes fluctuations in the optimal hyper-parameters. In the\n",
    "next notebook will focus on more advanced hyperparameter optimisation approaches.\n",
    "\n",
    "This is however not a major issue as we can observe that improvements to accuracy for different\n",
    "architectures and regularisation parameters are marginal at best. We will continue with the\n",
    "parameters we found during cross-validation for the moments."
   ]
  },
  {
   "cell_type": "markdown",
   "metadata": {},
   "source": [
    "#### Naive Decision Tree\n",
    "\n",
    "We now build a naive Decision Tree to see it performs against the previous models. We also use\n",
    "the Decision Tree to calculate feature importance. This will provide us with a better feeling for\n",
    " strength of association between features and the response."
   ]
  },
  {
   "cell_type": "code",
   "execution_count": null,
   "metadata": {
    "pycharm": {
     "name": "#%%\n"
    }
   },
   "outputs": [],
   "source": [
    "# Fit a Decision Tree to data\n",
    "samples = [sample for sample in range(1,30)]\n",
    "validation_scores = []\n",
    "for sample in samples:\n",
    "    classifier1 = DecisionTreeClassifier(random_state=1, min_samples_leaf=sample)\n",
    "    score = cross_val_score(estimator=classifier1, X=X_train, y=y_train, cv=5)\n",
    "    validation_scores.append(score.mean())\n",
    "\n",
    "# Obtain the minimum leaf samples with the highest validation score\n",
    "samples_optimum = samples[validation_scores.index(max(validation_scores))]\n",
    "print(samples_optimum)\n",
    "\n",
    "classifier2 = DecisionTreeClassifier(random_state=0, min_samples_leaf=samples_optimum)\n",
    "classifier2.fit(X_train, y_train)"
   ]
  },
  {
   "cell_type": "markdown",
   "metadata": {
    "pycharm": {
     "name": "#%% md\n"
    }
   },
   "source": [
    "Feature importances for the Decision Tree is as follows:"
   ]
  },
  {
   "cell_type": "code",
   "execution_count": null,
   "metadata": {
    "pycharm": {
     "name": "#%%\n"
    }
   },
   "outputs": [],
   "source": [
    "importances = np.array(classifier2.feature_importances_)\n",
    "feature_list = np.array(X.columns)\n",
    "\n",
    "# summarize feature importance\n",
    "for i,v in enumerate(importances):\n",
    "\tprint('Feature: %10s\\tScore:\\t%.5f' % (feature_list[i],v))\n",
    "# plot feature importance\n",
    "sorted_ID=np.array(np.argsort(importances)[::-1])\n",
    "plt.figure(figsize=[10,10])\n",
    "plt.xticks(rotation='vertical')\n",
    "_ = plt.bar(feature_list[sorted_ID], importances[sorted_ID]);\n",
    "plt.show();"
   ]
  },
  {
   "cell_type": "markdown",
   "metadata": {
    "pycharm": {
     "name": "#%% md\n"
    }
   },
   "source": [
    "According to these results sex is by far the most important feature, followed by fare and\n",
    "passenger class.\n",
    "These observations all make perfect sense, but we will investigate thus further in the next\n",
    "Notebook."
   ]
  },
  {
   "cell_type": "markdown",
   "metadata": {},
   "source": [
    "#### Accuracy analysis"
   ]
  },
  {
   "cell_type": "code",
   "execution_count": null,
   "metadata": {
    "pycharm": {
     "name": "#%%\n"
    }
   },
   "outputs": [],
   "source": [
    "# False positive Rate and true positive rate\n",
    "fpr_roc, tpr_roc, thresholds = roc_curve(y_test, y_pred)\n",
    "plot_roc_curve(fpr = fpr_roc, tpr = tpr_roc)\n",
    "\n",
    "cnf_matrix = confusion_matrix(y_pred, y_test)\n",
    "plot_confusion_matrix(cnf_matrix, classes=[0,1], normalize=True)\n"
   ]
  },
  {
   "cell_type": "markdown",
   "metadata": {
    "pycharm": {
     "name": "#%% md\n"
    }
   },
   "source": [
    "We have ballpark similar accuracies for the Decision Tree as for the previous two models.\n"
   ]
  },
  {
   "cell_type": "markdown",
   "metadata": {},
   "source": [
    "#### Naive Random Forest\n",
    "Now we build a Random Forest and see what happens!"
   ]
  },
  {
   "cell_type": "code",
   "execution_count": null,
   "metadata": {
    "pycharm": {
     "name": "#%%\n"
    }
   },
   "outputs": [],
   "source": [
    "rand_forest = RandomForestClassifier(criterion= 'gini', random_state=0)\n",
    "rand_forest.fit(X_train, y_train)\n",
    "\n",
    "# Probability scores for test set\n",
    "y_pred = rand_forest.predict(X_test)\n",
    "\n",
    "accuracy_score(y_pred,y_test)"
   ]
  },
  {
   "cell_type": "code",
   "execution_count": null,
   "metadata": {
    "pycharm": {
     "name": "#%%\n"
    }
   },
   "outputs": [],
   "source": [
    "# Final prediction - MLP\n",
    "#y_pred = mlp_reg_optim.predict(df_test)\n",
    "\n",
    "# Final prediction - Random Forest\n",
    "#y_pred = rand_forest.predict(X_test)"
   ]
  },
  {
   "cell_type": "markdown",
   "metadata": {},
   "source": [
    "#### Accuracy analysis"
   ]
  },
  {
   "cell_type": "code",
   "execution_count": null,
   "metadata": {
    "pycharm": {
     "name": "#%%\n"
    }
   },
   "outputs": [],
   "source": [
    "# False positive Rate and true positive rate\n",
    "fpr_roc, tpr_roc, thresholds = roc_curve(y_test, y_pred)\n",
    "plot_roc_curve(fpr = fpr_roc, tpr = tpr_roc)\n",
    "\n",
    "cnf_matrix = confusion_matrix(y_pred, y_test)\n",
    "plot_confusion_matrix(cnf_matrix, classes=[0,1], normalize=True)\n",
    "\n"
   ]
  },
  {
   "cell_type": "markdown",
   "metadata": {
    "pycharm": {
     "name": "#%% md\n"
    }
   },
   "source": [
    "This looks pretty promising. In the same ballpark as the Logistic Regression. More accurate than\n",
    "the Decision Tree. Will be interesting to see what the feature importances look like! We will\n",
    "look at that in our next Notebook."
   ]
  },
  {
   "cell_type": "markdown",
   "metadata": {},
   "source": [
    "<div class=\"alert alert-block alert-info\">\n",
    "<b>Conclusion</b>\n",
    "</div>\n"
   ]
  },
  {
   "cell_type": "markdown",
   "metadata": {
    "pycharm": {
     "name": "#%% md\n"
    }
   },
   "source": [
    "We can conclude that there is a strong signal in the data with regards to correlation with\n",
    "survival rate. Counter-intuitively, the Logistic Regression proved to be the best model scoring\n",
    "approximately 86% for the C-Statistic. The Random Forest classifier is second with 84% for the\n",
    "C-Statistic. We would have expected the Random Forest to outperform the Logistic Regression given\n",
    " all the categorical variables. The strong correlation between age, fare and survival probably\n",
    " outweighed the categorical variable influence on survival rate. We expect the Random\n",
    " Forest to improve once we add names and cabins back into the mix. Also, in the name of speed we\n",
    " used scaled values for the Random Forest and it might do better on the original data. We will\n",
    " need to test this in the next notebook.\n",
    "\n",
    "All in all, this was an insightful analysis. We found that the few variables we have are very\n",
    "strong predictors for survival. In a real world setting further analysis is probably not\n",
    "necessary, as the gains from over-engineering variables for a model which does not have much\n",
    "practical value is probably not worthwhile.\n",
    "\n",
    "This is however an educational exercise and hence we will go ahead and try to squeeze more\n",
    "accuracy and insight out of the remaining variables. Focusing more on the insight than accuracy,\n",
    "as at this point the model is probably accurate enough for any practical application that might\n",
    "exist (which there obviously doesn't!).\n",
    "\n",
    "For submission to Kaggle we chose the optimised (regularised) MLP, as Kaggle assesses performance\n",
    " based on overall <i>accuracy</i>, not the C-Statistic. This is a crude measure but\n",
    " understandably the easiest way to assess performance when clear model objectives do not exist.\n",
    " The MLP scored best on <i>accuracy</i> according to the Kaggle validator. It obtained an 0.78 on\n",
    " the test set when submitted to the leaderboard, which is in the top 24% and corresponds more or\n",
    " less with our validation scores, so looks sensible! Not bad for a model with absolutely no\n",
    " fine-tuning.\n",
    "\n",
    "Interestingly the MLP score of 0.78 was lower than the non-optimised one for accuracy during our\n",
    "validation i.e. 0.78 vs 0.81. This clearly shows that overfitting is an issue on this very small\n",
    "dataset. We need to be aware of this. Interesting however that the MLP outperformed the Logistic\n",
    "Regression, which also means that there are probably more complex interactions in the features\n",
    "that we need to understand better (which the Logistic Regression cannot pick up by itself).\n",
    "\n",
    "Let us see if we can improve on this!\n",
    "\n",
    "On to the next notebook!"
   ]
  },
  {
   "cell_type": "code",
   "execution_count": null,
   "metadata": {
    "pycharm": {
     "name": "#%%\n"
    }
   },
   "outputs": [],
   "source": [
    "# Gender submission - Score: 0.77\n",
    "\n",
    "# Final prediction - Random Forest - Score: 0.76\n",
    "y_pred = rand_forest.predict(df_test)\n",
    "\n",
    "#Prepare submission code\n",
    "my_submission = pd.DataFrame({'PassengerId': df_orig.passenger_id, 'Survived': y_pred})\n",
    "# you could use any filename. We choose submission here\n",
    "my_submission.to_csv('submission_rand_forest.csv', index=False)\n",
    "\n",
    "# Final prediction - MLP (optimised) - Score: 0.78\n",
    "y_pred = mlp_reg_optim.predict(df_test)\n",
    "\n",
    "#Prepare submission code\n",
    "my_submission = pd.DataFrame({'PassengerId': df_orig.passenger_id, 'Survived': y_pred})\n",
    "# you could use any filename. We choose submission here\n",
    "my_submission.to_csv('submission_mlp_optim.csv', index=False)\n",
    "\n",
    "# TODO: Final prediction - MLP (non-optimised) - Score: 0.77\n",
    "y_pred = mlp_reg.predict(df_test)\n",
    "\n",
    "#Prepare submission code\n",
    "my_submission = pd.DataFrame({'PassengerId': df_orig.passenger_id, 'Survived': y_pred})\n",
    "# you could use any filename. We choose submission here\n",
    "my_submission.to_csv('submission_mlp.csv', index=False)\n",
    "\n",
    "# Final prediction - Logistic Regression - Score: 0.74\n",
    "y_pred = log_reg.predict(df_test)\n",
    "\n",
    "#Prepare submission code\n",
    "my_submission = pd.DataFrame({'PassengerId': df_orig.passenger_id, 'Survived': y_pred})\n",
    "# you could use any filename. We choose submission here\n",
    "my_submission.to_csv('submission_logreg.csv', index=False)\n",
    "\n",
    "# Final prediction - Decision Tree - Score: 0.77\n",
    "y_pred = classifier2.predict(df_test)\n",
    "\n",
    "#Prepare submission code\n",
    "my_submission = pd.DataFrame({'PassengerId': df_orig.passenger_id, 'Survived': y_pred})\n",
    "# you could use any filename. We choose submission here\n",
    "my_submission.to_csv('submission_dec_tree.csv', index=False)\n"
   ]
  }
 ],
 "metadata": {
  "kernelspec": {
   "display_name": "PyCharm (kaggle_01_titanic)",
   "language": "python",
   "name": "pycharm-23af598f"
  },
  "language_info": {
   "codemirror_mode": {
    "name": "ipython",
    "version": 3
   },
   "file_extension": ".py",
   "mimetype": "text/x-python",
   "name": "python",
   "nbconvert_exporter": "python",
   "pygments_lexer": "ipython3",
   "version": "3.8.1"
  }
 },
 "nbformat": 4,
 "nbformat_minor": 1
}