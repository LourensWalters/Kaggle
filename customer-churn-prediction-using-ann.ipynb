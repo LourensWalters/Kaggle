{
 "cells": [
  {
   "cell_type": "markdown",
   "id": "nuclear-warning",
   "metadata": {
    "papermill": {
     "duration": 0.023268,
     "end_time": "2021-05-20T19:23:27.582893",
     "exception": false,
     "start_time": "2021-05-20T19:23:27.559625",
     "status": "completed"
    },
    "tags": []
   },
   "source": [
    "<p style = \"font-size : 50px; color : #532e1c ; font-family : 'Comic Sans MS'; text-align : center; background-color : #bedcfa; border-radius: 5px 5px;\"><strong>Churn Modelling Using ANN</strong></p>"
   ]
  },
  {
   "cell_type": "code",
   "execution_count": 1,
   "id": "musical-discipline",
   "metadata": {
    "execution": {
     "iopub.execute_input": "2021-05-20T19:23:27.638845Z",
     "iopub.status.busy": "2021-05-20T19:23:27.638190Z",
     "iopub.status.idle": "2021-05-20T19:23:28.514570Z",
     "shell.execute_reply": "2021-05-20T19:23:28.513730Z",
     "shell.execute_reply.started": "2021-05-20T18:51:08.041044Z"
    },
    "papermill": {
     "duration": 0.909345,
     "end_time": "2021-05-20T19:23:28.514740",
     "exception": false,
     "start_time": "2021-05-20T19:23:27.605395",
     "status": "completed"
    },
    "tags": []
   },
   "outputs": [],
   "source": [
    "# necessary imports \n",
    "\n",
    "import pandas as pd\n",
    "import numpy as np\n",
    "import matplotlib.pyplot as plt\n",
    "import seaborn as sns\n",
    "\n",
    "import warnings\n",
    "warnings.filterwarnings('ignore')\n",
    "\n",
    "plt.style.use('fivethirtyeight')\n",
    "%matplotlib inline"
   ]
  },
  {
   "cell_type": "code",
   "execution_count": 2,
   "id": "parallel-cable",
   "metadata": {
    "execution": {
     "iopub.execute_input": "2021-05-20T19:23:28.563153Z",
     "iopub.status.busy": "2021-05-20T19:23:28.562501Z",
     "iopub.status.idle": "2021-05-20T19:23:28.644346Z",
     "shell.execute_reply": "2021-05-20T19:23:28.643801Z",
     "shell.execute_reply.started": "2021-05-20T18:51:08.052875Z"
    },
    "papermill": {
     "duration": 0.108263,
     "end_time": "2021-05-20T19:23:28.644490",
     "exception": false,
     "start_time": "2021-05-20T19:23:28.536227",
     "status": "completed"
    },
    "tags": []
   },
   "outputs": [
    {
     "data": {
      "text/html": [
       "<div>\n",
       "<style scoped>\n",
       "    .dataframe tbody tr th:only-of-type {\n",
       "        vertical-align: middle;\n",
       "    }\n",
       "\n",
       "    .dataframe tbody tr th {\n",
       "        vertical-align: top;\n",
       "    }\n",
       "\n",
       "    .dataframe thead th {\n",
       "        text-align: right;\n",
       "    }\n",
       "</style>\n",
       "<table border=\"1\" class=\"dataframe\">\n",
       "  <thead>\n",
       "    <tr style=\"text-align: right;\">\n",
       "      <th></th>\n",
       "      <th>RowNumber</th>\n",
       "      <th>CustomerId</th>\n",
       "      <th>Surname</th>\n",
       "      <th>CreditScore</th>\n",
       "      <th>Geography</th>\n",
       "      <th>Gender</th>\n",
       "      <th>Age</th>\n",
       "      <th>Tenure</th>\n",
       "      <th>Balance</th>\n",
       "      <th>NumOfProducts</th>\n",
       "      <th>HasCrCard</th>\n",
       "      <th>IsActiveMember</th>\n",
       "      <th>EstimatedSalary</th>\n",
       "      <th>Exited</th>\n",
       "    </tr>\n",
       "  </thead>\n",
       "  <tbody>\n",
       "    <tr>\n",
       "      <th>0</th>\n",
       "      <td>1</td>\n",
       "      <td>15634602</td>\n",
       "      <td>Hargrave</td>\n",
       "      <td>619</td>\n",
       "      <td>France</td>\n",
       "      <td>Female</td>\n",
       "      <td>42</td>\n",
       "      <td>2</td>\n",
       "      <td>0.00</td>\n",
       "      <td>1</td>\n",
       "      <td>1</td>\n",
       "      <td>1</td>\n",
       "      <td>101348.88</td>\n",
       "      <td>1</td>\n",
       "    </tr>\n",
       "    <tr>\n",
       "      <th>1</th>\n",
       "      <td>2</td>\n",
       "      <td>15647311</td>\n",
       "      <td>Hill</td>\n",
       "      <td>608</td>\n",
       "      <td>Spain</td>\n",
       "      <td>Female</td>\n",
       "      <td>41</td>\n",
       "      <td>1</td>\n",
       "      <td>83807.86</td>\n",
       "      <td>1</td>\n",
       "      <td>0</td>\n",
       "      <td>1</td>\n",
       "      <td>112542.58</td>\n",
       "      <td>0</td>\n",
       "    </tr>\n",
       "    <tr>\n",
       "      <th>2</th>\n",
       "      <td>3</td>\n",
       "      <td>15619304</td>\n",
       "      <td>Onio</td>\n",
       "      <td>502</td>\n",
       "      <td>France</td>\n",
       "      <td>Female</td>\n",
       "      <td>42</td>\n",
       "      <td>8</td>\n",
       "      <td>159660.80</td>\n",
       "      <td>3</td>\n",
       "      <td>1</td>\n",
       "      <td>0</td>\n",
       "      <td>113931.57</td>\n",
       "      <td>1</td>\n",
       "    </tr>\n",
       "    <tr>\n",
       "      <th>3</th>\n",
       "      <td>4</td>\n",
       "      <td>15701354</td>\n",
       "      <td>Boni</td>\n",
       "      <td>699</td>\n",
       "      <td>France</td>\n",
       "      <td>Female</td>\n",
       "      <td>39</td>\n",
       "      <td>1</td>\n",
       "      <td>0.00</td>\n",
       "      <td>2</td>\n",
       "      <td>0</td>\n",
       "      <td>0</td>\n",
       "      <td>93826.63</td>\n",
       "      <td>0</td>\n",
       "    </tr>\n",
       "    <tr>\n",
       "      <th>4</th>\n",
       "      <td>5</td>\n",
       "      <td>15737888</td>\n",
       "      <td>Mitchell</td>\n",
       "      <td>850</td>\n",
       "      <td>Spain</td>\n",
       "      <td>Female</td>\n",
       "      <td>43</td>\n",
       "      <td>2</td>\n",
       "      <td>125510.82</td>\n",
       "      <td>1</td>\n",
       "      <td>1</td>\n",
       "      <td>1</td>\n",
       "      <td>79084.10</td>\n",
       "      <td>0</td>\n",
       "    </tr>\n",
       "  </tbody>\n",
       "</table>\n",
       "</div>"
      ],
      "text/plain": [
       "   RowNumber  CustomerId   Surname  CreditScore Geography  Gender  Age  \\\n",
       "0          1    15634602  Hargrave          619    France  Female   42   \n",
       "1          2    15647311      Hill          608     Spain  Female   41   \n",
       "2          3    15619304      Onio          502    France  Female   42   \n",
       "3          4    15701354      Boni          699    France  Female   39   \n",
       "4          5    15737888  Mitchell          850     Spain  Female   43   \n",
       "\n",
       "   Tenure    Balance  NumOfProducts  HasCrCard  IsActiveMember  \\\n",
       "0       2       0.00              1          1               1   \n",
       "1       1   83807.86              1          0               1   \n",
       "2       8  159660.80              3          1               0   \n",
       "3       1       0.00              2          0               0   \n",
       "4       2  125510.82              1          1               1   \n",
       "\n",
       "   EstimatedSalary  Exited  \n",
       "0        101348.88       1  \n",
       "1        112542.58       0  \n",
       "2        113931.57       1  \n",
       "3         93826.63       0  \n",
       "4         79084.10       0  "
      ]
     },
     "execution_count": 2,
     "metadata": {},
     "output_type": "execute_result"
    }
   ],
   "source": [
    "df = pd.read_csv('../input/churn-modelling/Churn_Modelling.csv')\n",
    "df.head()"
   ]
  },
  {
   "cell_type": "code",
   "execution_count": 3,
   "id": "active-ceremony",
   "metadata": {
    "execution": {
     "iopub.execute_input": "2021-05-20T19:23:28.699697Z",
     "iopub.status.busy": "2021-05-20T19:23:28.699066Z",
     "iopub.status.idle": "2021-05-20T19:23:28.752215Z",
     "shell.execute_reply": "2021-05-20T19:23:28.751636Z",
     "shell.execute_reply.started": "2021-05-20T18:51:08.100138Z"
    },
    "papermill": {
     "duration": 0.085553,
     "end_time": "2021-05-20T19:23:28.752370",
     "exception": false,
     "start_time": "2021-05-20T19:23:28.666817",
     "status": "completed"
    },
    "tags": []
   },
   "outputs": [
    {
     "data": {
      "text/html": [
       "<div>\n",
       "<style scoped>\n",
       "    .dataframe tbody tr th:only-of-type {\n",
       "        vertical-align: middle;\n",
       "    }\n",
       "\n",
       "    .dataframe tbody tr th {\n",
       "        vertical-align: top;\n",
       "    }\n",
       "\n",
       "    .dataframe thead th {\n",
       "        text-align: right;\n",
       "    }\n",
       "</style>\n",
       "<table border=\"1\" class=\"dataframe\">\n",
       "  <thead>\n",
       "    <tr style=\"text-align: right;\">\n",
       "      <th></th>\n",
       "      <th>RowNumber</th>\n",
       "      <th>CustomerId</th>\n",
       "      <th>CreditScore</th>\n",
       "      <th>Age</th>\n",
       "      <th>Tenure</th>\n",
       "      <th>Balance</th>\n",
       "      <th>NumOfProducts</th>\n",
       "      <th>HasCrCard</th>\n",
       "      <th>IsActiveMember</th>\n",
       "      <th>EstimatedSalary</th>\n",
       "      <th>Exited</th>\n",
       "    </tr>\n",
       "  </thead>\n",
       "  <tbody>\n",
       "    <tr>\n",
       "      <th>count</th>\n",
       "      <td>10000.00000</td>\n",
       "      <td>1.000000e+04</td>\n",
       "      <td>10000.000000</td>\n",
       "      <td>10000.000000</td>\n",
       "      <td>10000.000000</td>\n",
       "      <td>10000.000000</td>\n",
       "      <td>10000.000000</td>\n",
       "      <td>10000.00000</td>\n",
       "      <td>10000.000000</td>\n",
       "      <td>10000.000000</td>\n",
       "      <td>10000.000000</td>\n",
       "    </tr>\n",
       "    <tr>\n",
       "      <th>mean</th>\n",
       "      <td>5000.50000</td>\n",
       "      <td>1.569094e+07</td>\n",
       "      <td>650.528800</td>\n",
       "      <td>38.921800</td>\n",
       "      <td>5.012800</td>\n",
       "      <td>76485.889288</td>\n",
       "      <td>1.530200</td>\n",
       "      <td>0.70550</td>\n",
       "      <td>0.515100</td>\n",
       "      <td>100090.239881</td>\n",
       "      <td>0.203700</td>\n",
       "    </tr>\n",
       "    <tr>\n",
       "      <th>std</th>\n",
       "      <td>2886.89568</td>\n",
       "      <td>7.193619e+04</td>\n",
       "      <td>96.653299</td>\n",
       "      <td>10.487806</td>\n",
       "      <td>2.892174</td>\n",
       "      <td>62397.405202</td>\n",
       "      <td>0.581654</td>\n",
       "      <td>0.45584</td>\n",
       "      <td>0.499797</td>\n",
       "      <td>57510.492818</td>\n",
       "      <td>0.402769</td>\n",
       "    </tr>\n",
       "    <tr>\n",
       "      <th>min</th>\n",
       "      <td>1.00000</td>\n",
       "      <td>1.556570e+07</td>\n",
       "      <td>350.000000</td>\n",
       "      <td>18.000000</td>\n",
       "      <td>0.000000</td>\n",
       "      <td>0.000000</td>\n",
       "      <td>1.000000</td>\n",
       "      <td>0.00000</td>\n",
       "      <td>0.000000</td>\n",
       "      <td>11.580000</td>\n",
       "      <td>0.000000</td>\n",
       "    </tr>\n",
       "    <tr>\n",
       "      <th>25%</th>\n",
       "      <td>2500.75000</td>\n",
       "      <td>1.562853e+07</td>\n",
       "      <td>584.000000</td>\n",
       "      <td>32.000000</td>\n",
       "      <td>3.000000</td>\n",
       "      <td>0.000000</td>\n",
       "      <td>1.000000</td>\n",
       "      <td>0.00000</td>\n",
       "      <td>0.000000</td>\n",
       "      <td>51002.110000</td>\n",
       "      <td>0.000000</td>\n",
       "    </tr>\n",
       "    <tr>\n",
       "      <th>50%</th>\n",
       "      <td>5000.50000</td>\n",
       "      <td>1.569074e+07</td>\n",
       "      <td>652.000000</td>\n",
       "      <td>37.000000</td>\n",
       "      <td>5.000000</td>\n",
       "      <td>97198.540000</td>\n",
       "      <td>1.000000</td>\n",
       "      <td>1.00000</td>\n",
       "      <td>1.000000</td>\n",
       "      <td>100193.915000</td>\n",
       "      <td>0.000000</td>\n",
       "    </tr>\n",
       "    <tr>\n",
       "      <th>75%</th>\n",
       "      <td>7500.25000</td>\n",
       "      <td>1.575323e+07</td>\n",
       "      <td>718.000000</td>\n",
       "      <td>44.000000</td>\n",
       "      <td>7.000000</td>\n",
       "      <td>127644.240000</td>\n",
       "      <td>2.000000</td>\n",
       "      <td>1.00000</td>\n",
       "      <td>1.000000</td>\n",
       "      <td>149388.247500</td>\n",
       "      <td>0.000000</td>\n",
       "    </tr>\n",
       "    <tr>\n",
       "      <th>max</th>\n",
       "      <td>10000.00000</td>\n",
       "      <td>1.581569e+07</td>\n",
       "      <td>850.000000</td>\n",
       "      <td>92.000000</td>\n",
       "      <td>10.000000</td>\n",
       "      <td>250898.090000</td>\n",
       "      <td>4.000000</td>\n",
       "      <td>1.00000</td>\n",
       "      <td>1.000000</td>\n",
       "      <td>199992.480000</td>\n",
       "      <td>1.000000</td>\n",
       "    </tr>\n",
       "  </tbody>\n",
       "</table>\n",
       "</div>"
      ],
      "text/plain": [
       "         RowNumber    CustomerId   CreditScore           Age        Tenure  \\\n",
       "count  10000.00000  1.000000e+04  10000.000000  10000.000000  10000.000000   \n",
       "mean    5000.50000  1.569094e+07    650.528800     38.921800      5.012800   \n",
       "std     2886.89568  7.193619e+04     96.653299     10.487806      2.892174   \n",
       "min        1.00000  1.556570e+07    350.000000     18.000000      0.000000   \n",
       "25%     2500.75000  1.562853e+07    584.000000     32.000000      3.000000   \n",
       "50%     5000.50000  1.569074e+07    652.000000     37.000000      5.000000   \n",
       "75%     7500.25000  1.575323e+07    718.000000     44.000000      7.000000   \n",
       "max    10000.00000  1.581569e+07    850.000000     92.000000     10.000000   \n",
       "\n",
       "             Balance  NumOfProducts    HasCrCard  IsActiveMember  \\\n",
       "count   10000.000000   10000.000000  10000.00000    10000.000000   \n",
       "mean    76485.889288       1.530200      0.70550        0.515100   \n",
       "std     62397.405202       0.581654      0.45584        0.499797   \n",
       "min         0.000000       1.000000      0.00000        0.000000   \n",
       "25%         0.000000       1.000000      0.00000        0.000000   \n",
       "50%     97198.540000       1.000000      1.00000        1.000000   \n",
       "75%    127644.240000       2.000000      1.00000        1.000000   \n",
       "max    250898.090000       4.000000      1.00000        1.000000   \n",
       "\n",
       "       EstimatedSalary        Exited  \n",
       "count     10000.000000  10000.000000  \n",
       "mean     100090.239881      0.203700  \n",
       "std       57510.492818      0.402769  \n",
       "min          11.580000      0.000000  \n",
       "25%       51002.110000      0.000000  \n",
       "50%      100193.915000      0.000000  \n",
       "75%      149388.247500      0.000000  \n",
       "max      199992.480000      1.000000  "
      ]
     },
     "execution_count": 3,
     "metadata": {},
     "output_type": "execute_result"
    }
   ],
   "source": [
    "df.describe()"
   ]
  },
  {
   "cell_type": "code",
   "execution_count": 4,
   "id": "proved-homeless",
   "metadata": {
    "execution": {
     "iopub.execute_input": "2021-05-20T19:23:28.807879Z",
     "iopub.status.busy": "2021-05-20T19:23:28.806880Z",
     "iopub.status.idle": "2021-05-20T19:23:28.824908Z",
     "shell.execute_reply": "2021-05-20T19:23:28.825426Z",
     "shell.execute_reply.started": "2021-05-20T18:51:08.149969Z"
    },
    "papermill": {
     "duration": 0.050006,
     "end_time": "2021-05-20T19:23:28.825604",
     "exception": false,
     "start_time": "2021-05-20T19:23:28.775598",
     "status": "completed"
    },
    "tags": []
   },
   "outputs": [
    {
     "name": "stdout",
     "output_type": "stream",
     "text": [
      "<class 'pandas.core.frame.DataFrame'>\n",
      "RangeIndex: 10000 entries, 0 to 9999\n",
      "Data columns (total 14 columns):\n",
      " #   Column           Non-Null Count  Dtype  \n",
      "---  ------           --------------  -----  \n",
      " 0   RowNumber        10000 non-null  int64  \n",
      " 1   CustomerId       10000 non-null  int64  \n",
      " 2   Surname          10000 non-null  object \n",
      " 3   CreditScore      10000 non-null  int64  \n",
      " 4   Geography        10000 non-null  object \n",
      " 5   Gender           10000 non-null  object \n",
      " 6   Age              10000 non-null  int64  \n",
      " 7   Tenure           10000 non-null  int64  \n",
      " 8   Balance          10000 non-null  float64\n",
      " 9   NumOfProducts    10000 non-null  int64  \n",
      " 10  HasCrCard        10000 non-null  int64  \n",
      " 11  IsActiveMember   10000 non-null  int64  \n",
      " 12  EstimatedSalary  10000 non-null  float64\n",
      " 13  Exited           10000 non-null  int64  \n",
      "dtypes: float64(2), int64(9), object(3)\n",
      "memory usage: 1.1+ MB\n"
     ]
    }
   ],
   "source": [
    "df.info()"
   ]
  },
  {
   "cell_type": "markdown",
   "id": "employed-footage",
   "metadata": {
    "papermill": {
     "duration": 0.023261,
     "end_time": "2021-05-20T19:23:28.871895",
     "exception": false,
     "start_time": "2021-05-20T19:23:28.848634",
     "status": "completed"
    },
    "tags": []
   },
   "source": [
    "<p style = \"font-size : 35px; color : #34656d ; font-family : 'Comic Sans MS'; text-align : center; background-color : #f9b208; border-radius: 5px 5px;\"><strong>Exploratory Data Analysis (EDA)</strong></p> "
   ]
  },
  {
   "cell_type": "code",
   "execution_count": 5,
   "id": "european-haven",
   "metadata": {
    "execution": {
     "iopub.execute_input": "2021-05-20T19:23:28.938965Z",
     "iopub.status.busy": "2021-05-20T19:23:28.938213Z",
     "iopub.status.idle": "2021-05-20T19:23:28.941859Z",
     "shell.execute_reply": "2021-05-20T19:23:28.942649Z",
     "shell.execute_reply.started": "2021-05-20T18:51:08.168923Z"
    },
    "papermill": {
     "duration": 0.045843,
     "end_time": "2021-05-20T19:23:28.942916",
     "exception": false,
     "start_time": "2021-05-20T19:23:28.897073",
     "status": "completed"
    },
    "tags": []
   },
   "outputs": [
    {
     "data": {
      "text/plain": [
       "RowNumber          0\n",
       "CustomerId         0\n",
       "Surname            0\n",
       "CreditScore        0\n",
       "Geography          0\n",
       "Gender             0\n",
       "Age                0\n",
       "Tenure             0\n",
       "Balance            0\n",
       "NumOfProducts      0\n",
       "HasCrCard          0\n",
       "IsActiveMember     0\n",
       "EstimatedSalary    0\n",
       "Exited             0\n",
       "dtype: int64"
      ]
     },
     "execution_count": 5,
     "metadata": {},
     "output_type": "execute_result"
    }
   ],
   "source": [
    "# checking for null values\n",
    "\n",
    "df.isna().sum()"
   ]
  },
  {
   "cell_type": "code",
   "execution_count": 6,
   "id": "dynamic-purple",
   "metadata": {
    "execution": {
     "iopub.execute_input": "2021-05-20T19:23:29.031569Z",
     "iopub.status.busy": "2021-05-20T19:23:29.030884Z",
     "iopub.status.idle": "2021-05-20T19:23:29.183905Z",
     "shell.execute_reply": "2021-05-20T19:23:29.183269Z",
     "shell.execute_reply.started": "2021-05-20T18:51:08.184805Z"
    },
    "papermill": {
     "duration": 0.2051,
     "end_time": "2021-05-20T19:23:29.184046",
     "exception": false,
     "start_time": "2021-05-20T19:23:28.978946",
     "status": "completed"
    },
    "tags": []
   },
   "outputs": [
    {
     "data": {
      "image/png": "[encoded data removed]",
      "text/plain": [
       "<Figure size 400x300 with 1 Axes>"
      ]
     },
     "metadata": {},
     "output_type": "display_data"
    }
   ],
   "source": [
    "values = df.Exited.value_counts()\n",
    "labels = ['Not Exited', 'Exited']\n",
    "\n",
    "fig, ax = plt.subplots(figsize = (4, 3), dpi = 100)\n",
    "explode = (0, 0.09)\n",
    "\n",
    "patches, texts, autotexts = ax.pie(values, labels = labels, autopct = '%1.2f%%', shadow = True,\n",
    "                                   startangle = 90, explode = explode)\n",
    "\n",
    "plt.setp(texts, color = 'grey')\n",
    "plt.setp(autotexts, size = 8, color = 'white')\n",
    "autotexts[1].set_color('black')\n",
    "plt.show()"
   ]
  },
  {
   "cell_type": "markdown",
   "id": "widespread-machine",
   "metadata": {
    "papermill": {
     "duration": 0.024246,
     "end_time": "2021-05-20T19:23:29.232708",
     "exception": false,
     "start_time": "2021-05-20T19:23:29.208462",
     "status": "completed"
    },
    "tags": []
   },
   "source": [
    "<p style = \"font-size : 20px; color : #34656d ; font-family : 'Comic Sans MS'; \"><strong>20% of the customers have churned and 80% haven't.</strong></p> "
   ]
  },
  {
   "cell_type": "code",
   "execution_count": 7,
   "id": "waiting-building",
   "metadata": {
    "execution": {
     "iopub.execute_input": "2021-05-20T19:23:29.350550Z",
     "iopub.status.busy": "2021-05-20T19:23:29.330182Z",
     "iopub.status.idle": "2021-05-20T19:23:30.682421Z",
     "shell.execute_reply": "2021-05-20T19:23:30.681792Z",
     "shell.execute_reply.started": "2021-05-20T18:51:08.312962Z"
    },
    "papermill": {
     "duration": 1.424463,
     "end_time": "2021-05-20T19:23:30.682588",
     "exception": false,
     "start_time": "2021-05-20T19:23:29.258125",
     "status": "completed"
    },
    "tags": []
   },
   "outputs": [
    {
     "data": {
      "image/png": "[encoded data removed]",
      "text/plain": [
       "<Figure size 1296x1080 with 6 Axes>"
      ]
     },
     "metadata": {
      "needs_background": "light"
     },
     "output_type": "display_data"
    }
   ],
   "source": [
    "# visualizing categorical variables\n",
    "\n",
    "fig, ax = plt.subplots(3, 2, figsize = (18, 15))\n",
    "\n",
    "sns.countplot('Geography', hue = 'Exited', data = df, ax = ax[0][0])\n",
    "sns.countplot('Gender', hue = 'Exited', data = df, ax = ax[0][1])\n",
    "sns.countplot('Tenure', hue = 'Exited', data = df, ax = ax[1][0])\n",
    "sns.countplot('NumOfProducts', hue = 'Exited', data = df, ax = ax[1][1])\n",
    "sns.countplot('HasCrCard', hue = 'Exited', data = df, ax = ax[2][0])\n",
    "sns.countplot('IsActiveMember', hue = 'Exited', data = df, ax = ax[2][1])\n",
    "\n",
    "plt.tight_layout()\n",
    "plt.show()"
   ]
  },
  {
   "cell_type": "markdown",
   "id": "square-catalog",
   "metadata": {
    "papermill": {
     "duration": 0.026843,
     "end_time": "2021-05-20T19:23:30.735367",
     "exception": false,
     "start_time": "2021-05-20T19:23:30.708524",
     "status": "completed"
    },
    "tags": []
   },
   "source": [
    "<p style = \"font-size : 30px; color : #4e8d7c ; font-family : 'Comic Sans MS';\"><strong>From above Plots we can conclude that:-</strong></p>\n",
    "\n",
    "<ul>\n",
    "    <li style = \"color : #03506f; font-size : 18px; font-family : 'Comic Sans MS';\"><strong>Majority of the customers are from france but most customers which churned are from germany maybe because of lack of resources as there are not many customers.</strong></li>\n",
    "    <li style = \"color : #03506f; font-size : 18px; font-family : 'Comic Sans MS';\"><strong>The proportion of female customers churning is also greater than that of female customers.</strong></li>\n",
    "    <li style = \"color : #03506f; font-size : 18px; font-family : 'Comic Sans MS';\"><strong>Majority of customers have tenure between 1 to 9 and churing rate is also high between these tenures.</strong></li>\n",
    "    <li style = \"color : #03506f; font-size : 18px; font-family : 'Comic Sans MS';\"><strong>Most of the customers have 1 or 2 products and most customers which churned are having 1 products maybe they are not satisfied so they are churning.</strong></li>\n",
    "    <li style = \"color : #03506f; font-size : 18px; font-family : 'Comic Sans MS';\"><strong>Interestingly, majority of customers that churned are those with credit cards but this can be a coincidence as majority of customers have credit cards.</strong></li>\n",
    "    <li style = \"color : #03506f; font-size : 18px; font-family : 'Comic Sans MS';\"><strong>Unsurprisingly the inactive members have a greater churn and the overall proportion of inactive members is also very high.</strong></li>\n"
   ]
  },
  {
   "cell_type": "code",
   "execution_count": 8,
   "id": "crucial-purchase",
   "metadata": {
    "execution": {
     "iopub.execute_input": "2021-05-20T19:23:30.823154Z",
     "iopub.status.busy": "2021-05-20T19:23:30.817841Z",
     "iopub.status.idle": "2021-05-20T19:23:31.544944Z",
     "shell.execute_reply": "2021-05-20T19:23:31.545614Z",
     "shell.execute_reply.started": "2021-05-20T18:51:09.472033Z"
    },
    "papermill": {
     "duration": 0.782379,
     "end_time": "2021-05-20T19:23:31.545787",
     "exception": false,
     "start_time": "2021-05-20T19:23:30.763408",
     "status": "completed"
    },
    "tags": []
   },
   "outputs": [
    {
     "data": {
      "image/png": "[encoded data removed]",
      "text/plain": [
       "<Figure size 1152x720 with 4 Axes>"
      ]
     },
     "metadata": {
      "needs_background": "light"
     },
     "output_type": "display_data"
    }
   ],
   "source": [
    "# visualizing continuous variables\n",
    "\n",
    "fig, ax = plt.subplots(2, 2, figsize = (16, 10))\n",
    "\n",
    "sns.boxplot(x = 'Exited', y = 'CreditScore', data = df, ax = ax[0][0])\n",
    "sns.boxplot(x = 'Exited', y = 'Age', data = df, ax = ax[0][1])\n",
    "sns.boxplot(x = 'Exited', y = 'Balance', data = df, ax = ax[1][0])\n",
    "sns.boxplot(x = 'Exited', y = 'EstimatedSalary', data = df, ax = ax[1][1])\n",
    "\n",
    "plt.tight_layout()\n",
    "plt.show()"
   ]
  },
  {
   "cell_type": "markdown",
   "id": "designed-circumstances",
   "metadata": {
    "papermill": {
     "duration": 0.027231,
     "end_time": "2021-05-20T19:23:31.600637",
     "exception": false,
     "start_time": "2021-05-20T19:23:31.573406",
     "status": "completed"
    },
    "tags": []
   },
   "source": [
    "<p style = \"font-size : 30px; color : #4e8d7c ; font-family : 'Comic Sans MS';\"><strong>From above Plots we can conclude that:-</strong></p>\n",
    "\n",
    "<ul>\n",
    "    <li style = \"color : #03506f; font-size : 18px; font-family : 'Comic Sans MS';\"><strong>There is no significant difference in credit score distribution etween custers which are churned or not.</strong></li>\n",
    "    <li style = \"color : #03506f; font-size : 18px; font-family : 'Comic Sans MS';\"><strong>The older customers are churning more than younger ones.</strong></li>\n",
    "    <li style = \"color : #03506f; font-size : 18px; font-family : 'Comic Sans MS';\"><strong>Bank is loosing customers with significant bank balance.</strong></li>\n",
    "    <li style = \"color : #03506f; font-size : 18px; font-family : 'Comic Sans MS';\"><strong>Estimated Salary does not have a significant on the likelihood to churn.</strong></li>\n",
    "    <li style = \"color : #03506f; font-size : 18px; font-family : 'Comic Sans MS';\"><strong>Interestingly, majority of customers that churned are those with credit cards but this can be a coincidence as majority of customers have credit cards.</strong></li>\n",
    "    <li style = \"color : #03506f; font-size : 18px; font-family : 'Comic Sans MS';\"><strong>Unsurprisingly the inactive members have a greater churn and the overall proportion of inactive members is also very high.</strong></li>"
   ]
  },
  {
   "cell_type": "code",
   "execution_count": 9,
   "id": "consolidated-tooth",
   "metadata": {
    "execution": {
     "iopub.execute_input": "2021-05-20T19:23:31.661944Z",
     "iopub.status.busy": "2021-05-20T19:23:31.661244Z",
     "iopub.status.idle": "2021-05-20T19:23:32.615187Z",
     "shell.execute_reply": "2021-05-20T19:23:32.614579Z",
     "shell.execute_reply.started": "2021-05-20T18:51:10.101470Z"
    },
    "papermill": {
     "duration": 0.987217,
     "end_time": "2021-05-20T19:23:32.615337",
     "exception": false,
     "start_time": "2021-05-20T19:23:31.628120",
     "status": "completed"
    },
    "tags": []
   },
   "outputs": [
    {
     "data": {
      "image/png": "[encoded data removed]",
      "text/plain": [
       "<Figure size 1440x864 with 2 Axes>"
      ]
     },
     "metadata": {
      "needs_background": "light"
     },
     "output_type": "display_data"
    }
   ],
   "source": [
    "# heatmap \n",
    "\n",
    "plt.figure(figsize = (20, 12))\n",
    "\n",
    "corr = df.corr()\n",
    "\n",
    "sns.heatmap(corr, linewidths = 1, annot = True, fmt = \".2f\")\n",
    "plt.show()"
   ]
  },
  {
   "cell_type": "markdown",
   "id": "laughing-atlas",
   "metadata": {
    "papermill": {
     "duration": 0.02921,
     "end_time": "2021-05-20T19:23:32.674370",
     "exception": false,
     "start_time": "2021-05-20T19:23:32.645160",
     "status": "completed"
    },
    "tags": []
   },
   "source": [
    "<p style = \"font-size : 20px; color : #34656d ; font-family : 'Comic Sans MS'; \"><strong>We can say that there is no multicolinearity present in data.</strong></p> "
   ]
  },
  {
   "cell_type": "code",
   "execution_count": 10,
   "id": "considered-render",
   "metadata": {
    "execution": {
     "iopub.execute_input": "2021-05-20T19:23:32.750349Z",
     "iopub.status.busy": "2021-05-20T19:23:32.749632Z",
     "iopub.status.idle": "2021-05-20T19:23:32.753617Z",
     "shell.execute_reply": "2021-05-20T19:23:32.754152Z",
     "shell.execute_reply.started": "2021-05-20T18:51:10.927646Z"
    },
    "papermill": {
     "duration": 0.050893,
     "end_time": "2021-05-20T19:23:32.754336",
     "exception": false,
     "start_time": "2021-05-20T19:23:32.703443",
     "status": "completed"
    },
    "tags": []
   },
   "outputs": [
    {
     "data": {
      "text/html": [
       "<div>\n",
       "<style scoped>\n",
       "    .dataframe tbody tr th:only-of-type {\n",
       "        vertical-align: middle;\n",
       "    }\n",
       "\n",
       "    .dataframe tbody tr th {\n",
       "        vertical-align: top;\n",
       "    }\n",
       "\n",
       "    .dataframe thead th {\n",
       "        text-align: right;\n",
       "    }\n",
       "</style>\n",
       "<table border=\"1\" class=\"dataframe\">\n",
       "  <thead>\n",
       "    <tr style=\"text-align: right;\">\n",
       "      <th></th>\n",
       "      <th>CreditScore</th>\n",
       "      <th>Geography</th>\n",
       "      <th>Gender</th>\n",
       "      <th>Age</th>\n",
       "      <th>Tenure</th>\n",
       "      <th>Balance</th>\n",
       "      <th>NumOfProducts</th>\n",
       "      <th>HasCrCard</th>\n",
       "      <th>IsActiveMember</th>\n",
       "      <th>EstimatedSalary</th>\n",
       "      <th>Exited</th>\n",
       "    </tr>\n",
       "  </thead>\n",
       "  <tbody>\n",
       "    <tr>\n",
       "      <th>0</th>\n",
       "      <td>619</td>\n",
       "      <td>France</td>\n",
       "      <td>Female</td>\n",
       "      <td>42</td>\n",
       "      <td>2</td>\n",
       "      <td>0.00</td>\n",
       "      <td>1</td>\n",
       "      <td>1</td>\n",
       "      <td>1</td>\n",
       "      <td>101348.88</td>\n",
       "      <td>1</td>\n",
       "    </tr>\n",
       "    <tr>\n",
       "      <th>1</th>\n",
       "      <td>608</td>\n",
       "      <td>Spain</td>\n",
       "      <td>Female</td>\n",
       "      <td>41</td>\n",
       "      <td>1</td>\n",
       "      <td>83807.86</td>\n",
       "      <td>1</td>\n",
       "      <td>0</td>\n",
       "      <td>1</td>\n",
       "      <td>112542.58</td>\n",
       "      <td>0</td>\n",
       "    </tr>\n",
       "    <tr>\n",
       "      <th>2</th>\n",
       "      <td>502</td>\n",
       "      <td>France</td>\n",
       "      <td>Female</td>\n",
       "      <td>42</td>\n",
       "      <td>8</td>\n",
       "      <td>159660.80</td>\n",
       "      <td>3</td>\n",
       "      <td>1</td>\n",
       "      <td>0</td>\n",
       "      <td>113931.57</td>\n",
       "      <td>1</td>\n",
       "    </tr>\n",
       "    <tr>\n",
       "      <th>3</th>\n",
       "      <td>699</td>\n",
       "      <td>France</td>\n",
       "      <td>Female</td>\n",
       "      <td>39</td>\n",
       "      <td>1</td>\n",
       "      <td>0.00</td>\n",
       "      <td>2</td>\n",
       "      <td>0</td>\n",
       "      <td>0</td>\n",
       "      <td>93826.63</td>\n",
       "      <td>0</td>\n",
       "    </tr>\n",
       "    <tr>\n",
       "      <th>4</th>\n",
       "      <td>850</td>\n",
       "      <td>Spain</td>\n",
       "      <td>Female</td>\n",
       "      <td>43</td>\n",
       "      <td>2</td>\n",
       "      <td>125510.82</td>\n",
       "      <td>1</td>\n",
       "      <td>1</td>\n",
       "      <td>1</td>\n",
       "      <td>79084.10</td>\n",
       "      <td>0</td>\n",
       "    </tr>\n",
       "  </tbody>\n",
       "</table>\n",
       "</div>"
      ],
      "text/plain": [
       "   CreditScore Geography  Gender  Age  Tenure    Balance  NumOfProducts  \\\n",
       "0          619    France  Female   42       2       0.00              1   \n",
       "1          608     Spain  Female   41       1   83807.86              1   \n",
       "2          502    France  Female   42       8  159660.80              3   \n",
       "3          699    France  Female   39       1       0.00              2   \n",
       "4          850     Spain  Female   43       2  125510.82              1   \n",
       "\n",
       "   HasCrCard  IsActiveMember  EstimatedSalary  Exited  \n",
       "0          1               1        101348.88       1  \n",
       "1          0               1        112542.58       0  \n",
       "2          1               0        113931.57       1  \n",
       "3          0               0         93826.63       0  \n",
       "4          1               1         79084.10       0  "
      ]
     },
     "execution_count": 10,
     "metadata": {},
     "output_type": "execute_result"
    }
   ],
   "source": [
    "# dropping useless columns \n",
    "\n",
    "df.drop(columns = ['RowNumber', 'CustomerId', 'Surname'], axis = 1, inplace = True)\n",
    "df.head()"
   ]
  },
  {
   "cell_type": "code",
   "execution_count": 11,
   "id": "understanding-stamp",
   "metadata": {
    "execution": {
     "iopub.execute_input": "2021-05-20T19:23:32.816853Z",
     "iopub.status.busy": "2021-05-20T19:23:32.816222Z",
     "iopub.status.idle": "2021-05-20T19:23:32.825751Z",
     "shell.execute_reply": "2021-05-20T19:23:32.825164Z",
     "shell.execute_reply.started": "2021-05-20T18:51:10.946217Z"
    },
    "papermill": {
     "duration": 0.041587,
     "end_time": "2021-05-20T19:23:32.825940",
     "exception": false,
     "start_time": "2021-05-20T19:23:32.784353",
     "status": "completed"
    },
    "tags": []
   },
   "outputs": [
    {
     "data": {
      "text/plain": [
       "France     5014\n",
       "Germany    2509\n",
       "Spain      2477\n",
       "Name: Geography, dtype: int64"
      ]
     },
     "execution_count": 11,
     "metadata": {},
     "output_type": "execute_result"
    }
   ],
   "source": [
    "df.Geography.value_counts()"
   ]
  },
  {
   "cell_type": "code",
   "execution_count": 12,
   "id": "swedish-polish",
   "metadata": {
    "execution": {
     "iopub.execute_input": "2021-05-20T19:23:32.889361Z",
     "iopub.status.busy": "2021-05-20T19:23:32.888683Z",
     "iopub.status.idle": "2021-05-20T19:23:32.898251Z",
     "shell.execute_reply": "2021-05-20T19:23:32.898780Z",
     "shell.execute_reply.started": "2021-05-20T18:51:10.962931Z"
    },
    "papermill": {
     "duration": 0.042552,
     "end_time": "2021-05-20T19:23:32.898972",
     "exception": false,
     "start_time": "2021-05-20T19:23:32.856420",
     "status": "completed"
    },
    "tags": []
   },
   "outputs": [],
   "source": [
    "# Encoding categorical variables\n",
    "\n",
    "df['Geography'] = df['Geography'].map({'France' : 0, 'Germany' : 1, 'Spain' : 2})\n",
    "df['Gender'] = df['Gender'].map({'Male' : 0, 'Female' : 1})"
   ]
  },
  {
   "cell_type": "code",
   "execution_count": 13,
   "id": "furnished-montreal",
   "metadata": {
    "execution": {
     "iopub.execute_input": "2021-05-20T19:23:32.975696Z",
     "iopub.status.busy": "2021-05-20T19:23:32.974978Z",
     "iopub.status.idle": "2021-05-20T19:23:32.978320Z",
     "shell.execute_reply": "2021-05-20T19:23:32.978815Z",
     "shell.execute_reply.started": "2021-05-20T18:51:10.979493Z"
    },
    "papermill": {
     "duration": 0.048649,
     "end_time": "2021-05-20T19:23:32.979008",
     "exception": false,
     "start_time": "2021-05-20T19:23:32.930359",
     "status": "completed"
    },
    "tags": []
   },
   "outputs": [
    {
     "data": {
      "text/html": [
       "<div>\n",
       "<style scoped>\n",
       "    .dataframe tbody tr th:only-of-type {\n",
       "        vertical-align: middle;\n",
       "    }\n",
       "\n",
       "    .dataframe tbody tr th {\n",
       "        vertical-align: top;\n",
       "    }\n",
       "\n",
       "    .dataframe thead th {\n",
       "        text-align: right;\n",
       "    }\n",
       "</style>\n",
       "<table border=\"1\" class=\"dataframe\">\n",
       "  <thead>\n",
       "    <tr style=\"text-align: right;\">\n",
       "      <th></th>\n",
       "      <th>CreditScore</th>\n",
       "      <th>Geography</th>\n",
       "      <th>Gender</th>\n",
       "      <th>Age</th>\n",
       "      <th>Tenure</th>\n",
       "      <th>Balance</th>\n",
       "      <th>NumOfProducts</th>\n",
       "      <th>HasCrCard</th>\n",
       "      <th>IsActiveMember</th>\n",
       "      <th>EstimatedSalary</th>\n",
       "      <th>Exited</th>\n",
       "    </tr>\n",
       "  </thead>\n",
       "  <tbody>\n",
       "    <tr>\n",
       "      <th>0</th>\n",
       "      <td>619</td>\n",
       "      <td>0</td>\n",
       "      <td>1</td>\n",
       "      <td>42</td>\n",
       "      <td>2</td>\n",
       "      <td>0.00</td>\n",
       "      <td>1</td>\n",
       "      <td>1</td>\n",
       "      <td>1</td>\n",
       "      <td>101348.88</td>\n",
       "      <td>1</td>\n",
       "    </tr>\n",
       "    <tr>\n",
       "      <th>1</th>\n",
       "      <td>608</td>\n",
       "      <td>2</td>\n",
       "      <td>1</td>\n",
       "      <td>41</td>\n",
       "      <td>1</td>\n",
       "      <td>83807.86</td>\n",
       "      <td>1</td>\n",
       "      <td>0</td>\n",
       "      <td>1</td>\n",
       "      <td>112542.58</td>\n",
       "      <td>0</td>\n",
       "    </tr>\n",
       "    <tr>\n",
       "      <th>2</th>\n",
       "      <td>502</td>\n",
       "      <td>0</td>\n",
       "      <td>1</td>\n",
       "      <td>42</td>\n",
       "      <td>8</td>\n",
       "      <td>159660.80</td>\n",
       "      <td>3</td>\n",
       "      <td>1</td>\n",
       "      <td>0</td>\n",
       "      <td>113931.57</td>\n",
       "      <td>1</td>\n",
       "    </tr>\n",
       "    <tr>\n",
       "      <th>3</th>\n",
       "      <td>699</td>\n",
       "      <td>0</td>\n",
       "      <td>1</td>\n",
       "      <td>39</td>\n",
       "      <td>1</td>\n",
       "      <td>0.00</td>\n",
       "      <td>2</td>\n",
       "      <td>0</td>\n",
       "      <td>0</td>\n",
       "      <td>93826.63</td>\n",
       "      <td>0</td>\n",
       "    </tr>\n",
       "    <tr>\n",
       "      <th>4</th>\n",
       "      <td>850</td>\n",
       "      <td>2</td>\n",
       "      <td>1</td>\n",
       "      <td>43</td>\n",
       "      <td>2</td>\n",
       "      <td>125510.82</td>\n",
       "      <td>1</td>\n",
       "      <td>1</td>\n",
       "      <td>1</td>\n",
       "      <td>79084.10</td>\n",
       "      <td>0</td>\n",
       "    </tr>\n",
       "  </tbody>\n",
       "</table>\n",
       "</div>"
      ],
      "text/plain": [
       "   CreditScore  Geography  Gender  Age  Tenure    Balance  NumOfProducts  \\\n",
       "0          619          0       1   42       2       0.00              1   \n",
       "1          608          2       1   41       1   83807.86              1   \n",
       "2          502          0       1   42       8  159660.80              3   \n",
       "3          699          0       1   39       1       0.00              2   \n",
       "4          850          2       1   43       2  125510.82              1   \n",
       "\n",
       "   HasCrCard  IsActiveMember  EstimatedSalary  Exited  \n",
       "0          1               1        101348.88       1  \n",
       "1          0               1        112542.58       0  \n",
       "2          1               0        113931.57       1  \n",
       "3          0               0         93826.63       0  \n",
       "4          1               1         79084.10       0  "
      ]
     },
     "execution_count": 13,
     "metadata": {},
     "output_type": "execute_result"
    }
   ],
   "source": [
    "df.head()"
   ]
  },
  {
   "cell_type": "code",
   "execution_count": 14,
   "id": "referenced-strengthening",
   "metadata": {
    "execution": {
     "iopub.execute_input": "2021-05-20T19:23:33.044034Z",
     "iopub.status.busy": "2021-05-20T19:23:33.043320Z",
     "iopub.status.idle": "2021-05-20T19:23:38.847927Z",
     "shell.execute_reply": "2021-05-20T19:23:38.847336Z",
     "shell.execute_reply.started": "2021-05-20T18:51:37.308644Z"
    },
    "papermill": {
     "duration": 5.838699,
     "end_time": "2021-05-20T19:23:38.848072",
     "exception": false,
     "start_time": "2021-05-20T19:23:33.009373",
     "status": "completed"
    },
    "tags": []
   },
   "outputs": [],
   "source": [
    "# creating features and label \n",
    "\n",
    "from tensorflow.keras.utils import to_categorical\n",
    "\n",
    "X = df.drop('Exited', axis = 1)\n",
    "y = to_categorical(df.Exited)"
   ]
  },
  {
   "cell_type": "code",
   "execution_count": 15,
   "id": "theoretical-paragraph",
   "metadata": {
    "execution": {
     "iopub.execute_input": "2021-05-20T19:23:38.917916Z",
     "iopub.status.busy": "2021-05-20T19:23:38.917199Z",
     "iopub.status.idle": "2021-05-20T19:23:39.131956Z",
     "shell.execute_reply": "2021-05-20T19:23:39.131301Z",
     "shell.execute_reply.started": "2021-05-20T18:51:40.046952Z"
    },
    "papermill": {
     "duration": 0.253297,
     "end_time": "2021-05-20T19:23:39.132100",
     "exception": false,
     "start_time": "2021-05-20T19:23:38.878803",
     "status": "completed"
    },
    "tags": []
   },
   "outputs": [],
   "source": [
    "# splitting data into training set and test set\n",
    "\n",
    "from sklearn.model_selection import train_test_split\n",
    "\n",
    "X_train, X_test, y_train, y_test = train_test_split(X, y, test_size = 0.25)"
   ]
  },
  {
   "cell_type": "code",
   "execution_count": 16,
   "id": "reported-priest",
   "metadata": {
    "execution": {
     "iopub.execute_input": "2021-05-20T19:23:39.200373Z",
     "iopub.status.busy": "2021-05-20T19:23:39.199701Z",
     "iopub.status.idle": "2021-05-20T19:23:39.210394Z",
     "shell.execute_reply": "2021-05-20T19:23:39.209708Z",
     "shell.execute_reply.started": "2021-05-20T18:51:41.088693Z"
    },
    "papermill": {
     "duration": 0.047893,
     "end_time": "2021-05-20T19:23:39.210534",
     "exception": false,
     "start_time": "2021-05-20T19:23:39.162641",
     "status": "completed"
    },
    "tags": []
   },
   "outputs": [],
   "source": [
    "# Scaling data\n",
    "\n",
    "from sklearn.preprocessing import StandardScaler\n",
    "\n",
    "sc = StandardScaler()\n",
    "X_train = sc.fit_transform(X_train)\n",
    "X_test = sc.transform(X_test)"
   ]
  },
  {
   "cell_type": "markdown",
   "id": "junior-newark",
   "metadata": {
    "papermill": {
     "duration": 0.031162,
     "end_time": "2021-05-20T19:23:39.273317",
     "exception": false,
     "start_time": "2021-05-20T19:23:39.242155",
     "status": "completed"
    },
    "tags": []
   },
   "source": [
    "<p style = \"font-size : 35px; color : #34656d ; font-family : 'Comic Sans MS'; text-align : center; background-color : #f9b208; border-radius: 5px 5px;\"><strong>Building ANN </strong></p> "
   ]
  },
  {
   "cell_type": "code",
   "execution_count": 17,
   "id": "decreased-grenada",
   "metadata": {
    "execution": {
     "iopub.execute_input": "2021-05-20T19:23:39.342916Z",
     "iopub.status.busy": "2021-05-20T19:23:39.342178Z",
     "iopub.status.idle": "2021-05-20T19:24:20.453815Z",
     "shell.execute_reply": "2021-05-20T19:24:20.453258Z",
     "shell.execute_reply.started": "2021-05-20T19:08:57.191248Z"
    },
    "papermill": {
     "duration": 41.15026,
     "end_time": "2021-05-20T19:24:20.454018",
     "exception": false,
     "start_time": "2021-05-20T19:23:39.303758",
     "status": "completed"
    },
    "tags": []
   },
   "outputs": [
    {
     "name": "stdout",
     "output_type": "stream",
     "text": [
      "Epoch 1/100\n",
      "188/188 [==============================] - 2s 6ms/step - loss: 0.6607 - accuracy: 0.6695 - val_loss: 0.5775 - val_accuracy: 0.7767\n",
      "Epoch 2/100\n",
      "188/188 [==============================] - 0s 2ms/step - loss: 0.4969 - accuracy: 0.7862 - val_loss: 0.4570 - val_accuracy: 0.7920\n",
      "Epoch 3/100\n",
      "188/188 [==============================] - 0s 2ms/step - loss: 0.4018 - accuracy: 0.8398 - val_loss: 0.4045 - val_accuracy: 0.8300\n",
      "Epoch 4/100\n",
      "188/188 [==============================] - 0s 2ms/step - loss: 0.3772 - accuracy: 0.8476 - val_loss: 0.3992 - val_accuracy: 0.8407\n",
      "Epoch 5/100\n",
      "188/188 [==============================] - 0s 2ms/step - loss: 0.3777 - accuracy: 0.8430 - val_loss: 0.3884 - val_accuracy: 0.8433\n",
      "Epoch 6/100\n",
      "188/188 [==============================] - 0s 2ms/step - loss: 0.3753 - accuracy: 0.8482 - val_loss: 0.3855 - val_accuracy: 0.8413\n",
      "Epoch 7/100\n",
      "188/188 [==============================] - 0s 2ms/step - loss: 0.3696 - accuracy: 0.8457 - val_loss: 0.3871 - val_accuracy: 0.8453\n",
      "Epoch 8/100\n",
      "188/188 [==============================] - 0s 2ms/step - loss: 0.3771 - accuracy: 0.8498 - val_loss: 0.3837 - val_accuracy: 0.8453\n",
      "Epoch 9/100\n",
      "188/188 [==============================] - 0s 2ms/step - loss: 0.3627 - accuracy: 0.8528 - val_loss: 0.3847 - val_accuracy: 0.8447\n",
      "Epoch 10/100\n",
      "188/188 [==============================] - 0s 2ms/step - loss: 0.3720 - accuracy: 0.8422 - val_loss: 0.3853 - val_accuracy: 0.8467\n",
      "Epoch 11/100\n",
      "188/188 [==============================] - 0s 2ms/step - loss: 0.3591 - accuracy: 0.8554 - val_loss: 0.3850 - val_accuracy: 0.8467\n",
      "Epoch 12/100\n",
      "188/188 [==============================] - 0s 2ms/step - loss: 0.3668 - accuracy: 0.8460 - val_loss: 0.3858 - val_accuracy: 0.8473\n",
      "Epoch 13/100\n",
      "188/188 [==============================] - 0s 2ms/step - loss: 0.3662 - accuracy: 0.8468 - val_loss: 0.3823 - val_accuracy: 0.8487\n",
      "Epoch 14/100\n",
      "188/188 [==============================] - 0s 2ms/step - loss: 0.3669 - accuracy: 0.8506 - val_loss: 0.3877 - val_accuracy: 0.8487\n",
      "Epoch 15/100\n",
      "188/188 [==============================] - 0s 2ms/step - loss: 0.3771 - accuracy: 0.8425 - val_loss: 0.3870 - val_accuracy: 0.8487\n",
      "Epoch 16/100\n",
      "188/188 [==============================] - 0s 2ms/step - loss: 0.3679 - accuracy: 0.8531 - val_loss: 0.3896 - val_accuracy: 0.8453\n",
      "Epoch 17/100\n",
      "188/188 [==============================] - 0s 2ms/step - loss: 0.3741 - accuracy: 0.8415 - val_loss: 0.3906 - val_accuracy: 0.8420\n",
      "Epoch 18/100\n",
      "188/188 [==============================] - 0s 2ms/step - loss: 0.3706 - accuracy: 0.8468 - val_loss: 0.4013 - val_accuracy: 0.8400\n",
      "Epoch 19/100\n",
      "188/188 [==============================] - 0s 2ms/step - loss: 0.3651 - accuracy: 0.8445 - val_loss: 0.3863 - val_accuracy: 0.8440\n",
      "Epoch 20/100\n",
      "188/188 [==============================] - 0s 2ms/step - loss: 0.3632 - accuracy: 0.8441 - val_loss: 0.3822 - val_accuracy: 0.8460\n",
      "Epoch 21/100\n",
      "188/188 [==============================] - 0s 2ms/step - loss: 0.3693 - accuracy: 0.8443 - val_loss: 0.3936 - val_accuracy: 0.8440\n",
      "Epoch 22/100\n",
      "188/188 [==============================] - 0s 2ms/step - loss: 0.3658 - accuracy: 0.8464 - val_loss: 0.3872 - val_accuracy: 0.8433\n",
      "Epoch 23/100\n",
      "188/188 [==============================] - 0s 2ms/step - loss: 0.3601 - accuracy: 0.8528 - val_loss: 0.3909 - val_accuracy: 0.8427\n",
      "Epoch 24/100\n",
      "188/188 [==============================] - 0s 2ms/step - loss: 0.3693 - accuracy: 0.8474 - val_loss: 0.3901 - val_accuracy: 0.8467\n",
      "Epoch 25/100\n",
      "188/188 [==============================] - 0s 2ms/step - loss: 0.3655 - accuracy: 0.8520 - val_loss: 0.3866 - val_accuracy: 0.8467\n",
      "Epoch 26/100\n",
      "188/188 [==============================] - 0s 2ms/step - loss: 0.3858 - accuracy: 0.8372 - val_loss: 0.3893 - val_accuracy: 0.8427\n",
      "Epoch 27/100\n",
      "188/188 [==============================] - 0s 2ms/step - loss: 0.3583 - accuracy: 0.8525 - val_loss: 0.3839 - val_accuracy: 0.8493\n",
      "Epoch 28/100\n",
      "188/188 [==============================] - 0s 2ms/step - loss: 0.3561 - accuracy: 0.8579 - val_loss: 0.3850 - val_accuracy: 0.8427\n",
      "Epoch 29/100\n",
      "188/188 [==============================] - 0s 2ms/step - loss: 0.3655 - accuracy: 0.8458 - val_loss: 0.3884 - val_accuracy: 0.8440\n",
      "Epoch 30/100\n",
      "188/188 [==============================] - 0s 2ms/step - loss: 0.3725 - accuracy: 0.8448 - val_loss: 0.3960 - val_accuracy: 0.8467\n",
      "Epoch 31/100\n",
      "188/188 [==============================] - 0s 2ms/step - loss: 0.3644 - accuracy: 0.8487 - val_loss: 0.3899 - val_accuracy: 0.8440\n",
      "Epoch 32/100\n",
      "188/188 [==============================] - 0s 2ms/step - loss: 0.3530 - accuracy: 0.8490 - val_loss: 0.3852 - val_accuracy: 0.8467\n",
      "Epoch 33/100\n",
      "188/188 [==============================] - 0s 2ms/step - loss: 0.3425 - accuracy: 0.8553 - val_loss: 0.3873 - val_accuracy: 0.8427\n",
      "Epoch 34/100\n",
      "188/188 [==============================] - 0s 2ms/step - loss: 0.3615 - accuracy: 0.8499 - val_loss: 0.3896 - val_accuracy: 0.8507\n",
      "Epoch 35/100\n",
      "188/188 [==============================] - 0s 2ms/step - loss: 0.3509 - accuracy: 0.8549 - val_loss: 0.3872 - val_accuracy: 0.8447\n",
      "Epoch 36/100\n",
      "188/188 [==============================] - 0s 2ms/step - loss: 0.3621 - accuracy: 0.8501 - val_loss: 0.3919 - val_accuracy: 0.8460\n",
      "Epoch 37/100\n",
      "188/188 [==============================] - 0s 2ms/step - loss: 0.3601 - accuracy: 0.8508 - val_loss: 0.3879 - val_accuracy: 0.8447\n",
      "Epoch 38/100\n",
      "188/188 [==============================] - 0s 2ms/step - loss: 0.3549 - accuracy: 0.8508 - val_loss: 0.3854 - val_accuracy: 0.8473\n",
      "Epoch 39/100\n",
      "188/188 [==============================] - 0s 2ms/step - loss: 0.3649 - accuracy: 0.8484 - val_loss: 0.3928 - val_accuracy: 0.8460\n",
      "Epoch 40/100\n",
      "188/188 [==============================] - 0s 2ms/step - loss: 0.3638 - accuracy: 0.8504 - val_loss: 0.3864 - val_accuracy: 0.8473\n",
      "Epoch 41/100\n",
      "188/188 [==============================] - 0s 2ms/step - loss: 0.3491 - accuracy: 0.8592 - val_loss: 0.3873 - val_accuracy: 0.8473\n",
      "Epoch 42/100\n",
      "188/188 [==============================] - 0s 2ms/step - loss: 0.3715 - accuracy: 0.8459 - val_loss: 0.3867 - val_accuracy: 0.8473\n",
      "Epoch 43/100\n",
      "188/188 [==============================] - 0s 2ms/step - loss: 0.3666 - accuracy: 0.8476 - val_loss: 0.3892 - val_accuracy: 0.8467\n",
      "Epoch 44/100\n",
      "188/188 [==============================] - 0s 2ms/step - loss: 0.3776 - accuracy: 0.8434 - val_loss: 0.3890 - val_accuracy: 0.8433\n",
      "Epoch 45/100\n",
      "188/188 [==============================] - 0s 2ms/step - loss: 0.3590 - accuracy: 0.8532 - val_loss: 0.3957 - val_accuracy: 0.8473\n",
      "Epoch 46/100\n",
      "188/188 [==============================] - 0s 2ms/step - loss: 0.3573 - accuracy: 0.8532 - val_loss: 0.3922 - val_accuracy: 0.8467\n",
      "Epoch 47/100\n",
      "188/188 [==============================] - 0s 2ms/step - loss: 0.3590 - accuracy: 0.8491 - val_loss: 0.3865 - val_accuracy: 0.8467\n",
      "Epoch 48/100\n",
      "188/188 [==============================] - 0s 2ms/step - loss: 0.3582 - accuracy: 0.8490 - val_loss: 0.3919 - val_accuracy: 0.8467\n",
      "Epoch 49/100\n",
      "188/188 [==============================] - 0s 2ms/step - loss: 0.3619 - accuracy: 0.8481 - val_loss: 0.3881 - val_accuracy: 0.8467\n",
      "Epoch 50/100\n",
      "188/188 [==============================] - 0s 2ms/step - loss: 0.3499 - accuracy: 0.8533 - val_loss: 0.3882 - val_accuracy: 0.8467\n",
      "Epoch 51/100\n",
      "188/188 [==============================] - 0s 2ms/step - loss: 0.3430 - accuracy: 0.8573 - val_loss: 0.3904 - val_accuracy: 0.8487\n",
      "Epoch 52/100\n",
      "188/188 [==============================] - 0s 2ms/step - loss: 0.3565 - accuracy: 0.8502 - val_loss: 0.3825 - val_accuracy: 0.8473\n",
      "Epoch 53/100\n",
      "188/188 [==============================] - 0s 2ms/step - loss: 0.3547 - accuracy: 0.8573 - val_loss: 0.3855 - val_accuracy: 0.8480\n",
      "Epoch 54/100\n",
      "188/188 [==============================] - 0s 2ms/step - loss: 0.3467 - accuracy: 0.8567 - val_loss: 0.3842 - val_accuracy: 0.8480\n",
      "Epoch 55/100\n",
      "188/188 [==============================] - 0s 2ms/step - loss: 0.3613 - accuracy: 0.8561 - val_loss: 0.3919 - val_accuracy: 0.8460\n",
      "Epoch 56/100\n",
      "188/188 [==============================] - 0s 2ms/step - loss: 0.3558 - accuracy: 0.8544 - val_loss: 0.3881 - val_accuracy: 0.8493\n",
      "Epoch 57/100\n",
      "188/188 [==============================] - 0s 2ms/step - loss: 0.3548 - accuracy: 0.8555 - val_loss: 0.3873 - val_accuracy: 0.8460\n",
      "Epoch 58/100\n",
      "188/188 [==============================] - 0s 2ms/step - loss: 0.3645 - accuracy: 0.8470 - val_loss: 0.3864 - val_accuracy: 0.8473\n",
      "Epoch 59/100\n",
      "188/188 [==============================] - 0s 2ms/step - loss: 0.3506 - accuracy: 0.8570 - val_loss: 0.3831 - val_accuracy: 0.8500\n",
      "Epoch 60/100\n",
      "188/188 [==============================] - 0s 2ms/step - loss: 0.3664 - accuracy: 0.8526 - val_loss: 0.3876 - val_accuracy: 0.8467\n",
      "Epoch 61/100\n",
      "188/188 [==============================] - 0s 2ms/step - loss: 0.3656 - accuracy: 0.8480 - val_loss: 0.3890 - val_accuracy: 0.8467\n",
      "Epoch 62/100\n",
      "188/188 [==============================] - 0s 2ms/step - loss: 0.3562 - accuracy: 0.8555 - val_loss: 0.3886 - val_accuracy: 0.8440\n",
      "Epoch 63/100\n",
      "188/188 [==============================] - 0s 2ms/step - loss: 0.3578 - accuracy: 0.8592 - val_loss: 0.3938 - val_accuracy: 0.8427\n",
      "Epoch 64/100\n",
      "188/188 [==============================] - 0s 2ms/step - loss: 0.3526 - accuracy: 0.8508 - val_loss: 0.3946 - val_accuracy: 0.8487\n",
      "Epoch 65/100\n",
      "188/188 [==============================] - 0s 2ms/step - loss: 0.3587 - accuracy: 0.8605 - val_loss: 0.3890 - val_accuracy: 0.8487\n",
      "Epoch 66/100\n",
      "188/188 [==============================] - 0s 3ms/step - loss: 0.3632 - accuracy: 0.8464 - val_loss: 0.3864 - val_accuracy: 0.8453\n",
      "Epoch 67/100\n",
      "188/188 [==============================] - 0s 2ms/step - loss: 0.3538 - accuracy: 0.8501 - val_loss: 0.3835 - val_accuracy: 0.8473\n",
      "Epoch 68/100\n",
      "188/188 [==============================] - 0s 2ms/step - loss: 0.3541 - accuracy: 0.8528 - val_loss: 0.3850 - val_accuracy: 0.8440\n",
      "Epoch 69/100\n",
      "188/188 [==============================] - 0s 2ms/step - loss: 0.3513 - accuracy: 0.8544 - val_loss: 0.3888 - val_accuracy: 0.8473\n",
      "Epoch 70/100\n",
      "188/188 [==============================] - 0s 2ms/step - loss: 0.3635 - accuracy: 0.8501 - val_loss: 0.3921 - val_accuracy: 0.8447\n",
      "Epoch 71/100\n",
      "188/188 [==============================] - 0s 2ms/step - loss: 0.3559 - accuracy: 0.8522 - val_loss: 0.3867 - val_accuracy: 0.8460\n",
      "Epoch 72/100\n",
      "188/188 [==============================] - 0s 2ms/step - loss: 0.3473 - accuracy: 0.8586 - val_loss: 0.3890 - val_accuracy: 0.8453\n",
      "Epoch 73/100\n",
      "188/188 [==============================] - 0s 2ms/step - loss: 0.3563 - accuracy: 0.8532 - val_loss: 0.3896 - val_accuracy: 0.8460\n",
      "Epoch 74/100\n",
      "188/188 [==============================] - 0s 2ms/step - loss: 0.3563 - accuracy: 0.8515 - val_loss: 0.3882 - val_accuracy: 0.8433\n",
      "Epoch 75/100\n",
      "188/188 [==============================] - 0s 2ms/step - loss: 0.3507 - accuracy: 0.8543 - val_loss: 0.3869 - val_accuracy: 0.8480\n",
      "Epoch 76/100\n",
      "188/188 [==============================] - 0s 2ms/step - loss: 0.3598 - accuracy: 0.8491 - val_loss: 0.3903 - val_accuracy: 0.8480\n",
      "Epoch 77/100\n",
      "188/188 [==============================] - 0s 2ms/step - loss: 0.3599 - accuracy: 0.8514 - val_loss: 0.3968 - val_accuracy: 0.8500\n",
      "Epoch 78/100\n",
      "188/188 [==============================] - 0s 2ms/step - loss: 0.3489 - accuracy: 0.8557 - val_loss: 0.3954 - val_accuracy: 0.8453\n",
      "Epoch 79/100\n",
      "188/188 [==============================] - 0s 2ms/step - loss: 0.3728 - accuracy: 0.8404 - val_loss: 0.3921 - val_accuracy: 0.8473\n",
      "Epoch 80/100\n",
      "188/188 [==============================] - 0s 2ms/step - loss: 0.3511 - accuracy: 0.8535 - val_loss: 0.3962 - val_accuracy: 0.8467\n",
      "Epoch 81/100\n",
      "188/188 [==============================] - 0s 2ms/step - loss: 0.3531 - accuracy: 0.8514 - val_loss: 0.3938 - val_accuracy: 0.8473\n",
      "Epoch 82/100\n",
      "188/188 [==============================] - 0s 2ms/step - loss: 0.3553 - accuracy: 0.8542 - val_loss: 0.3865 - val_accuracy: 0.8480\n",
      "Epoch 83/100\n",
      "188/188 [==============================] - 0s 2ms/step - loss: 0.3553 - accuracy: 0.8558 - val_loss: 0.3919 - val_accuracy: 0.8473\n",
      "Epoch 84/100\n",
      "188/188 [==============================] - 0s 2ms/step - loss: 0.3633 - accuracy: 0.8521 - val_loss: 0.3953 - val_accuracy: 0.8480\n",
      "Epoch 85/100\n",
      "188/188 [==============================] - 0s 2ms/step - loss: 0.3492 - accuracy: 0.8526 - val_loss: 0.3885 - val_accuracy: 0.8487\n",
      "Epoch 86/100\n",
      "188/188 [==============================] - 0s 2ms/step - loss: 0.3617 - accuracy: 0.8536 - val_loss: 0.3906 - val_accuracy: 0.8447\n",
      "Epoch 87/100\n",
      "188/188 [==============================] - 0s 2ms/step - loss: 0.3604 - accuracy: 0.8446 - val_loss: 0.3932 - val_accuracy: 0.8407\n",
      "Epoch 88/100\n",
      "188/188 [==============================] - 0s 2ms/step - loss: 0.3623 - accuracy: 0.8441 - val_loss: 0.3843 - val_accuracy: 0.8493\n",
      "Epoch 89/100\n",
      "188/188 [==============================] - 0s 2ms/step - loss: 0.3590 - accuracy: 0.8550 - val_loss: 0.3877 - val_accuracy: 0.8473\n",
      "Epoch 90/100\n",
      "188/188 [==============================] - 0s 2ms/step - loss: 0.3554 - accuracy: 0.8512 - val_loss: 0.3943 - val_accuracy: 0.8480\n",
      "Epoch 91/100\n",
      "188/188 [==============================] - 0s 2ms/step - loss: 0.3499 - accuracy: 0.8560 - val_loss: 0.3931 - val_accuracy: 0.8467\n",
      "Epoch 92/100\n",
      "188/188 [==============================] - 0s 2ms/step - loss: 0.3645 - accuracy: 0.8499 - val_loss: 0.3943 - val_accuracy: 0.8467\n",
      "Epoch 93/100\n",
      "188/188 [==============================] - 0s 2ms/step - loss: 0.3717 - accuracy: 0.8411 - val_loss: 0.3922 - val_accuracy: 0.8480\n",
      "Epoch 94/100\n",
      "188/188 [==============================] - 0s 2ms/step - loss: 0.3520 - accuracy: 0.8539 - val_loss: 0.3889 - val_accuracy: 0.8487\n",
      "Epoch 95/100\n",
      "188/188 [==============================] - 0s 2ms/step - loss: 0.3615 - accuracy: 0.8516 - val_loss: 0.3929 - val_accuracy: 0.8453\n",
      "Epoch 96/100\n",
      "188/188 [==============================] - 0s 2ms/step - loss: 0.3391 - accuracy: 0.8603 - val_loss: 0.3924 - val_accuracy: 0.8487\n",
      "Epoch 97/100\n",
      "188/188 [==============================] - 0s 2ms/step - loss: 0.3560 - accuracy: 0.8540 - val_loss: 0.3911 - val_accuracy: 0.8460\n",
      "Epoch 98/100\n",
      "188/188 [==============================] - 0s 2ms/step - loss: 0.3644 - accuracy: 0.8526 - val_loss: 0.3930 - val_accuracy: 0.8473\n",
      "Epoch 99/100\n",
      "188/188 [==============================] - 0s 3ms/step - loss: 0.3668 - accuracy: 0.8487 - val_loss: 0.3921 - val_accuracy: 0.8453\n",
      "Epoch 100/100\n",
      "188/188 [==============================] - 0s 2ms/step - loss: 0.3569 - accuracy: 0.8512 - val_loss: 0.3918 - val_accuracy: 0.8473\n"
     ]
    }
   ],
   "source": [
    "import keras\n",
    "from keras.models import Sequential\n",
    "from keras.layers import Dense\n",
    "from keras.layers import Dropout\n",
    "from keras.layers import BatchNormalization\n",
    "\n",
    "# initializing ann\n",
    "model = Sequential()\n",
    "\n",
    "# adding the first input layer and the first hidden layer\n",
    "model.add(Dense(10, kernel_initializer = 'normal', activation = 'relu', input_shape = (10, )))\n",
    "\n",
    "# adding batch normalization and dropout layer\n",
    "model.add(Dropout(rate = 0.1))\n",
    "model.add(BatchNormalization())\n",
    "\n",
    "# adding the third hidden layer\n",
    "model.add(Dense(7, kernel_initializer = 'normal', activation = 'relu'))\n",
    "\n",
    "# adding batch normalization and dropout layer\n",
    "model.add(Dropout(rate = 0.1))\n",
    "model.add(BatchNormalization())\n",
    "\n",
    "# adding the output layer\n",
    "model.add(Dense(2, kernel_initializer = 'normal', activation = 'sigmoid'))\n",
    "\n",
    "# compiling the model\n",
    "model.compile(optimizer = 'adam', loss = 'binary_crossentropy', metrics = ['accuracy'])\n",
    "\n",
    "# fitting the model to the training set \n",
    "\n",
    "model_history = model.fit(X_train, y_train, validation_split = 0.20, validation_data = (X_test, y_test), epochs = 100)"
   ]
  },
  {
   "cell_type": "markdown",
   "id": "gentle-third",
   "metadata": {
    "papermill": {
     "duration": 0.245532,
     "end_time": "2021-05-20T19:24:20.944955",
     "exception": false,
     "start_time": "2021-05-20T19:24:20.699423",
     "status": "completed"
    },
    "tags": []
   },
   "source": [
    "<p style = \"font-size : 35px; color : #34656d ; font-family : 'Comic Sans MS'; text-align : center; background-color : #f9b208; border-radius: 5px 5px;\"><strong>Visualizing Training and Validation Loss</strong></p> "
   ]
  },
  {
   "cell_type": "code",
   "execution_count": 18,
   "id": "stretch-relations",
   "metadata": {
    "execution": {
     "iopub.execute_input": "2021-05-20T19:24:21.505495Z",
     "iopub.status.busy": "2021-05-20T19:24:21.490082Z",
     "iopub.status.idle": "2021-05-20T19:24:21.711277Z",
     "shell.execute_reply": "2021-05-20T19:24:21.710678Z",
     "shell.execute_reply.started": "2021-05-20T19:09:30.966486Z"
    },
    "papermill": {
     "duration": 0.513305,
     "end_time": "2021-05-20T19:24:21.711423",
     "exception": false,
     "start_time": "2021-05-20T19:24:21.198118",
     "status": "completed"
    },
    "tags": []
   },
   "outputs": [
    {
     "data": {
      "image/png": "[encoded data removed]",
      "text/plain": [
       "<Figure size 864x432 with 1 Axes>"
      ]
     },
     "metadata": {
      "needs_background": "light"
     },
     "output_type": "display_data"
    }
   ],
   "source": [
    "plt.figure(figsize = (12, 6))\n",
    "\n",
    "train_loss = model_history.history['loss']\n",
    "val_loss = model_history.history['val_loss'] \n",
    "epoch = range(1, 101)\n",
    "sns.lineplot(epoch, train_loss, label = 'Training Loss')\n",
    "sns.lineplot(epoch, val_loss, label = 'Validation Loss')\n",
    "plt.title('Training and Validation Loss\\n')\n",
    "plt.xlabel('Epochs')\n",
    "plt.ylabel('Loss')\n",
    "plt.legend()\n",
    "plt.show()"
   ]
  },
  {
   "cell_type": "markdown",
   "id": "wanted-grace",
   "metadata": {
    "papermill": {
     "duration": 0.249566,
     "end_time": "2021-05-20T19:24:22.205125",
     "exception": false,
     "start_time": "2021-05-20T19:24:21.955559",
     "status": "completed"
    },
    "tags": []
   },
   "source": [
    "<p style = \"font-size : 35px; color : #34656d ; font-family : 'Comic Sans MS'; text-align : center; background-color : #f9b208; border-radius: 5px 5px;\"><strong>Visualizing Training and Validation accuracy</strong></p> "
   ]
  },
  {
   "cell_type": "code",
   "execution_count": 19,
   "id": "conscious-handy",
   "metadata": {
    "execution": {
     "iopub.execute_input": "2021-05-20T19:24:22.738033Z",
     "iopub.status.busy": "2021-05-20T19:24:22.728940Z",
     "iopub.status.idle": "2021-05-20T19:24:22.975193Z",
     "shell.execute_reply": "2021-05-20T19:24:22.974661Z",
     "shell.execute_reply.started": "2021-05-20T19:09:31.189198Z"
    },
    "papermill": {
     "duration": 0.522024,
     "end_time": "2021-05-20T19:24:22.975329",
     "exception": false,
     "start_time": "2021-05-20T19:24:22.453305",
     "status": "completed"
    },
    "tags": []
   },
   "outputs": [
    {
     "data": {
      "image/png": "[encoded data removed]",
      "text/plain": [
       "<Figure size 864x432 with 1 Axes>"
      ]
     },
     "metadata": {
      "needs_background": "light"
     },
     "output_type": "display_data"
    }
   ],
   "source": [
    "plt.figure(figsize = (12, 6))\n",
    "\n",
    "train_loss = model_history.history['accuracy']\n",
    "val_loss = model_history.history['val_accuracy'] \n",
    "epoch = range(1, 101)\n",
    "sns.lineplot(epoch, train_loss, label = 'Training accuracy')\n",
    "sns.lineplot(epoch, val_loss, label = 'Validation accuracy')\n",
    "plt.title('Training and Validation Accuracy\\n')\n",
    "plt.xlabel('Epochs')\n",
    "plt.ylabel('Accuracy')\n",
    "plt.legend()\n",
    "plt.show()"
   ]
  },
  {
   "cell_type": "code",
   "execution_count": 20,
   "id": "significant-segment",
   "metadata": {
    "execution": {
     "iopub.execute_input": "2021-05-20T19:24:23.485080Z",
     "iopub.status.busy": "2021-05-20T19:24:23.484101Z",
     "iopub.status.idle": "2021-05-20T19:24:23.613256Z",
     "shell.execute_reply": "2021-05-20T19:24:23.612576Z",
     "shell.execute_reply.started": "2021-05-20T19:09:31.432034Z"
    },
    "papermill": {
     "duration": 0.387392,
     "end_time": "2021-05-20T19:24:23.613400",
     "exception": false,
     "start_time": "2021-05-20T19:24:23.226008",
     "status": "completed"
    },
    "tags": []
   },
   "outputs": [
    {
     "name": "stdout",
     "output_type": "stream",
     "text": [
      "79/79 [==============================] - 0s 1ms/step - loss: 0.3508 - accuracy: 0.8612\n",
      "Accuracy of model is 0.8611999750137329\n"
     ]
    }
   ],
   "source": [
    "acc = model.evaluate(X_test, y_test)[1]\n",
    "\n",
    "print(f'Accuracy of model is {acc}')"
   ]
  },
  {
   "cell_type": "markdown",
   "id": "integral-norfolk",
   "metadata": {
    "papermill": {
     "duration": 0.276645,
     "end_time": "2021-05-20T19:24:24.163227",
     "exception": false,
     "start_time": "2021-05-20T19:24:23.886582",
     "status": "completed"
    },
    "tags": []
   },
   "source": [
    "<p style = \"font-size : 25px; color : #f55c47 ; font-family : 'Comic Sans MS'; \"><strong>If you like my work, please do Upvote.</strong></p> "
   ]
  }
 ],
 "metadata": {
  "kernelspec": {
   "display_name": "Python 3",
   "language": "python",
   "name": "python3"
  },
  "language_info": {
   "codemirror_mode": {
    "name": "ipython",
    "version": 3
   },
   "file_extension": ".py",
   "mimetype": "text/x-python",
   "name": "python",
   "nbconvert_exporter": "python",
   "pygments_lexer": "ipython3",
   "version": "3.7.10"
  },
  "papermill": {
   "default_parameters": {},
   "duration": 66.905073,
   "end_time": "2021-05-20T19:24:26.285700",
   "environment_variables": {},
   "exception": null,
   "input_path": "__notebook__.ipynb",
   "output_path": "__notebook__.ipynb",
   "parameters": {},
   "start_time": "2021-05-20T19:23:19.380627",
   "version": "2.3.3"
  }
 },
 "nbformat": 4,
 "nbformat_minor": 5
}
