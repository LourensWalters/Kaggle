{
 "cells": [
  {
   "cell_type": "markdown",
   "metadata": {
    "colab_type": "text",
    "id": "ZKbu-pJeWYvg"
   },
   "source": [
    "# Module 5 Unit 3\n",
    "## Improve a neural network with regularisation\n",
    "\n",
    "Insert your code after `# YOUR CODE HERE`.  \n",
    "**NOTE:** This notebook will not be graded, but you should submit it when you submit your assignment, so that the Tutor Team can see how you arrived at your answers."
   ]
  },
  {
   "cell_type": "code",
   "execution_count": 1,
   "metadata": {
    "colab": {},
    "colab_type": "code",
    "id": "aVfQP0N9WYvk"
   },
   "outputs": [],
   "source": [
    "# Import libraries\n",
    "import pandas as pd\n",
    "from sklearn.preprocessing import StandardScaler\n",
    "from sklearn.neural_network import MLPRegressor\n",
    "from sklearn.model_selection import train_test_split, cross_val_score\n",
    "from sklearn.metrics import mean_squared_error\n",
    "import matplotlib.pyplot as plt\n",
    "import numpy as np\n",
    "import itertools"
   ]
  },
  {
   "cell_type": "code",
   "execution_count": 2,
   "metadata": {
    "colab": {},
    "colab_type": "code",
    "id": "qezUc3xFWYvn"
   },
   "outputs": [],
   "source": [
    "# Import data\n",
    "df = pd.read_csv('../data/processed/auto-mpg.csv', delimiter = \",\")\n",
    "\n",
    "# Drop missing entries\n",
    "df = df.replace(\"?\", np.nan)\n",
    "df = df.dropna()"
   ]
  },
  {
   "cell_type": "code",
   "execution_count": 3,
   "metadata": {
    "colab": {},
    "colab_type": "code",
    "id": "mE2OMP4xWYvp",
    "outputId": "2e8af59b-f56f-43bc-ddc2-f56441cdeb00"
   },
   "outputs": [
    {
     "data": {
      "text/plain": "(392, 9)"
     },
     "execution_count": 3,
     "metadata": {},
     "output_type": "execute_result"
    }
   ],
   "source": [
    "# Explore the size of the data set\n",
    "df.shape "
   ]
  },
  {
   "cell_type": "code",
   "execution_count": 4,
   "metadata": {
    "colab": {},
    "colab_type": "code",
    "id": "aWzLsNMqWYvs",
    "outputId": "05bb75ea-fc18-4e65-86f8-8fe27faeec05"
   },
   "outputs": [
    {
     "data": {
      "text/plain": "    mpg  cylinders  displacement horsepower  weight  acceleration  model year  \\\n0  18.0          8         307.0        130    3504          12.0          70   \n1  15.0          8         350.0        165    3693          11.5          70   \n2  18.0          8         318.0        150    3436          11.0          70   \n3  16.0          8         304.0        150    3433          12.0          70   \n4  17.0          8         302.0        140    3449          10.5          70   \n\n   origin                   car name  \n0       1  chevrolet chevelle malibu  \n1       1          buick skylark 320  \n2       1         plymouth satellite  \n3       1              amc rebel sst  \n4       1                ford torino  ",
      "text/html": "<div>\n<style scoped>\n    .dataframe tbody tr th:only-of-type {\n        vertical-align: middle;\n    }\n\n    .dataframe tbody tr th {\n        vertical-align: top;\n    }\n\n    .dataframe thead th {\n        text-align: right;\n    }\n</style>\n<table border=\"1\" class=\"dataframe\">\n  <thead>\n    <tr style=\"text-align: right;\">\n      <th></th>\n      <th>mpg</th>\n      <th>cylinders</th>\n      <th>displacement</th>\n      <th>horsepower</th>\n      <th>weight</th>\n      <th>acceleration</th>\n      <th>model year</th>\n      <th>origin</th>\n      <th>car name</th>\n    </tr>\n  </thead>\n  <tbody>\n    <tr>\n      <th>0</th>\n      <td>18.0</td>\n      <td>8</td>\n      <td>307.0</td>\n      <td>130</td>\n      <td>3504</td>\n      <td>12.0</td>\n      <td>70</td>\n      <td>1</td>\n      <td>chevrolet chevelle malibu</td>\n    </tr>\n    <tr>\n      <th>1</th>\n      <td>15.0</td>\n      <td>8</td>\n      <td>350.0</td>\n      <td>165</td>\n      <td>3693</td>\n      <td>11.5</td>\n      <td>70</td>\n      <td>1</td>\n      <td>buick skylark 320</td>\n    </tr>\n    <tr>\n      <th>2</th>\n      <td>18.0</td>\n      <td>8</td>\n      <td>318.0</td>\n      <td>150</td>\n      <td>3436</td>\n      <td>11.0</td>\n      <td>70</td>\n      <td>1</td>\n      <td>plymouth satellite</td>\n    </tr>\n    <tr>\n      <th>3</th>\n      <td>16.0</td>\n      <td>8</td>\n      <td>304.0</td>\n      <td>150</td>\n      <td>3433</td>\n      <td>12.0</td>\n      <td>70</td>\n      <td>1</td>\n      <td>amc rebel sst</td>\n    </tr>\n    <tr>\n      <th>4</th>\n      <td>17.0</td>\n      <td>8</td>\n      <td>302.0</td>\n      <td>140</td>\n      <td>3449</td>\n      <td>10.5</td>\n      <td>70</td>\n      <td>1</td>\n      <td>ford torino</td>\n    </tr>\n  </tbody>\n</table>\n</div>"
     },
     "execution_count": 4,
     "metadata": {},
     "output_type": "execute_result"
    }
   ],
   "source": [
    "# Explore type of data and feature names\n",
    "df.head() # or df.sample()"
   ]
  },
  {
   "cell_type": "code",
   "execution_count": 5,
   "metadata": {
    "colab": {},
    "colab_type": "code",
    "id": "cailT0GvWYvv"
   },
   "outputs": [],
   "source": [
    "# Split data into features (X) and response (y)\n",
    "# Predict mpg vs other variables (excluding car name)\n",
    "X = df.iloc[:, 1:8] \n",
    "y = df.iloc[:, 0]"
   ]
  },
  {
   "cell_type": "code",
   "execution_count": 6,
   "metadata": {
    "colab": {},
    "colab_type": "code",
    "id": "nq28a2CCWYvx",
    "outputId": "0101aad8-25ef-42e6-e7bd-d1cc49f9798b"
   },
   "outputs": [
    {
     "data": {
      "text/plain": "   cylinders  displacement horsepower  weight  acceleration  model year  \\\n0          8         307.0        130    3504          12.0          70   \n1          8         350.0        165    3693          11.5          70   \n2          8         318.0        150    3436          11.0          70   \n3          8         304.0        150    3433          12.0          70   \n4          8         302.0        140    3449          10.5          70   \n\n   origin  \n0       1  \n1       1  \n2       1  \n3       1  \n4       1  ",
      "text/html": "<div>\n<style scoped>\n    .dataframe tbody tr th:only-of-type {\n        vertical-align: middle;\n    }\n\n    .dataframe tbody tr th {\n        vertical-align: top;\n    }\n\n    .dataframe thead th {\n        text-align: right;\n    }\n</style>\n<table border=\"1\" class=\"dataframe\">\n  <thead>\n    <tr style=\"text-align: right;\">\n      <th></th>\n      <th>cylinders</th>\n      <th>displacement</th>\n      <th>horsepower</th>\n      <th>weight</th>\n      <th>acceleration</th>\n      <th>model year</th>\n      <th>origin</th>\n    </tr>\n  </thead>\n  <tbody>\n    <tr>\n      <th>0</th>\n      <td>8</td>\n      <td>307.0</td>\n      <td>130</td>\n      <td>3504</td>\n      <td>12.0</td>\n      <td>70</td>\n      <td>1</td>\n    </tr>\n    <tr>\n      <th>1</th>\n      <td>8</td>\n      <td>350.0</td>\n      <td>165</td>\n      <td>3693</td>\n      <td>11.5</td>\n      <td>70</td>\n      <td>1</td>\n    </tr>\n    <tr>\n      <th>2</th>\n      <td>8</td>\n      <td>318.0</td>\n      <td>150</td>\n      <td>3436</td>\n      <td>11.0</td>\n      <td>70</td>\n      <td>1</td>\n    </tr>\n    <tr>\n      <th>3</th>\n      <td>8</td>\n      <td>304.0</td>\n      <td>150</td>\n      <td>3433</td>\n      <td>12.0</td>\n      <td>70</td>\n      <td>1</td>\n    </tr>\n    <tr>\n      <th>4</th>\n      <td>8</td>\n      <td>302.0</td>\n      <td>140</td>\n      <td>3449</td>\n      <td>10.5</td>\n      <td>70</td>\n      <td>1</td>\n    </tr>\n  </tbody>\n</table>\n</div>"
     },
     "execution_count": 6,
     "metadata": {},
     "output_type": "execute_result"
    }
   ],
   "source": [
    "X.head()"
   ]
  },
  {
   "cell_type": "code",
   "execution_count": 7,
   "metadata": {
    "colab": {},
    "colab_type": "code",
    "id": "pczly2W5WYvz",
    "outputId": "66f8e7cc-07d0-4737-846d-56aa678f6d27"
   },
   "outputs": [
    {
     "data": {
      "text/plain": "0    18.0\n1    15.0\n2    18.0\n3    16.0\n4    17.0\nName: mpg, dtype: float64"
     },
     "execution_count": 7,
     "metadata": {},
     "output_type": "execute_result"
    }
   ],
   "source": [
    "y.head()"
   ]
  },
  {
   "cell_type": "code",
   "execution_count": 8,
   "metadata": {
    "colab": {},
    "colab_type": "code",
    "id": "2sailnW2WYv1"
   },
   "outputs": [],
   "source": [
    "# Put the response y into an array\n",
    "y = np.ravel(y)"
   ]
  },
  {
   "cell_type": "code",
   "execution_count": 9,
   "metadata": {
    "colab": {},
    "colab_type": "code",
    "id": "ESbDHQI1WYv3"
   },
   "outputs": [],
   "source": [
    "# Split the data into the training and testing sets\n",
    "X_train, X_test, y_train, y_test = train_test_split(X, y, random_state=0)"
   ]
  },
  {
   "cell_type": "code",
   "execution_count": 10,
   "metadata": {
    "colab": {},
    "colab_type": "code",
    "id": "-LPnrh79WYv5"
   },
   "outputs": [],
   "source": [
    "# Scale data\n",
    "scaler = StandardScaler()  \n",
    "\n",
    "# Remember to fit using only the training data\n",
    "scaler.fit(X_train)  \n",
    "X_train = scaler.transform(X_train) \n",
    "\n",
    "# Apply the same transformation to test data\n",
    "X_test = scaler.transform(X_test)"
   ]
  },
  {
   "cell_type": "markdown",
   "metadata": {
    "colab_type": "text",
    "id": "6cc1Hiy-wv9g"
   },
   "source": [
    "### Before regularisation"
   ]
  },
  {
   "cell_type": "markdown",
   "metadata": {
    "colab_type": "text",
    "id": "aQY6iYfkWYv7"
   },
   "source": [
    "Use the `solver=lbfgs`, `activation=\"tanh\"` and `hidden_layer_sizes=(5)` to train the network."
   ]
  },
  {
   "cell_type": "code",
   "execution_count": 11,
   "metadata": {
    "colab": {},
    "colab_type": "code",
    "id": "dYpph0WWWYv7",
    "nbgrader": {
     "grade": true,
     "grade_id": "cell-7e7c5d2895c9805e",
     "locked": false,
     "points": 0,
     "schema_version": 3,
     "solution": true,
     "task": false
    },
    "outputId": "532ed4ca-9c0f-4ab4-b69d-66ee31d06281"
   },
   "outputs": [
    {
     "data": {
      "text/plain": "9.266193699832291"
     },
     "execution_count": 11,
     "metadata": {},
     "output_type": "execute_result"
    }
   ],
   "source": [
    "# Fit and check MSE before regularisation\n",
    "### BEGIN SOLUTION\n",
    "reg = MLPRegressor(max_iter=100000, solver=\"lbfgs\", activation=\"tanh\",hidden_layer_sizes=(5), random_state=1)\n",
    "reg.fit(X_train, y_train)\n",
    "### END SOLUTION\n",
    "\n",
    "# Predict\n",
    "### BEGIN SOLUTION\n",
    "y_pred = reg.predict(X_test)\n",
    "### END SOLUTION\n",
    "\n",
    "# MSE before regularisation\n",
    "### BEGIN SOLUTION\n",
    "mean_squared_error(y_pred,y_test)\n",
    "### END SOLUTION"
   ]
  },
  {
   "cell_type": "markdown",
   "metadata": {
    "colab_type": "text",
    "id": "DNxASXFhwv9-"
   },
   "source": [
    "### Regularisation\n",
    "Train the model using the list of potential alpha values in `reg_par`, and determine the validation score as you learnt in Unit 2."
   ]
  },
  {
   "cell_type": "code",
   "execution_count": 12,
   "metadata": {
    "colab": {},
    "colab_type": "code",
    "id": "cW_2EufNWYv9",
    "nbgrader": {
     "grade": true,
     "grade_id": "cell-60c9b81327275fac",
     "locked": false,
     "points": 0,
     "schema_version": 3,
     "solution": true,
     "task": false
    },
    "outputId": "73b6e4c6-6275-4fde-abe3-5a829516daf3"
   },
   "outputs": [
    {
     "name": "stdout",
     "output_type": "stream",
     "text": [
      " alpha  |  Sq.Error\n",
      "0.04979 |  18.92533011894209\n",
      "0.13534 |  15.350778955370483\n",
      "0.36788 |  11.45356730499708\n",
      "1.00000 |  10.852725438080643\n",
      "2.71828 |  9.26795673111382\n",
      "7.38906 |  8.960920663575006\n",
      "20.08554 |  8.968556092855481\n",
      "54.59815 |  11.834228229242118\n",
      "148.41316 |  17.8814137831762\n"
     ]
    }
   ],
   "source": [
    "# Find regularisation parameter\n",
    "reg_par = [np.e**n for n in np.arange(-3,6,1)] \n",
    "\n",
    "# Optimise neural network with regularisation\n",
    "validation_scores = {}\n",
    "print(\" alpha  |  Sq.Error\")  \n",
    "### BEGIN SOLUTION\n",
    "for param in reg_par:\n",
    "    reg = MLPRegressor(max_iter=100000, solver=\"lbfgs\", activation=\"tanh\", hidden_layer_sizes=(5), alpha=param, random_state=1)\n",
    "    score = cross_val_score(estimator=reg, X=X_train, y=y_train, cv=2, scoring=\"neg_mean_squared_error\")\n",
    "    validation_scores[param] = -score.mean()\n",
    "    print(\"%0.5f |  %s\" % (param, -score.mean()))   \n",
    "### END SOLUTION\n"
   ]
  },
  {
   "cell_type": "code",
   "execution_count": 13,
   "metadata": {
    "colab": {},
    "colab_type": "code",
    "id": "PgM1Y-MefycG",
    "outputId": "177a3700-bf6b-48ef-d64f-a3dd0a516f0a"
   },
   "outputs": [
    {
     "data": {
      "text/plain": "Text(0, 0.5, 'Mean Sq Error')"
     },
     "execution_count": 13,
     "metadata": {},
     "output_type": "execute_result"
    },
    {
     "data": {
      "text/plain": "<Figure size 432x288 with 1 Axes>",
      "image/png": "[encoded data removed]"
     },
     "metadata": {
      "needs_background": "light"
     },
     "output_type": "display_data"
    }
   ],
   "source": [
    "# Plot the error function    \n",
    "plt.plot([np.log(i) for i in validation_scores.keys()], list(validation_scores.values()))\n",
    "plt.xlabel(\"Ln of alpha\")\n",
    "plt.ylabel(\"Mean Sq Error\")\n"
   ]
  },
  {
   "cell_type": "markdown",
   "metadata": {
    "colab_type": "text",
    "id": "VAt2Rwp5wv-R"
   },
   "source": [
    "Print the lowest cross-validation error and the value to use for the `alpha` parameter in the following cell."
   ]
  },
  {
   "cell_type": "code",
   "execution_count": 14,
   "metadata": {
    "colab": {},
    "colab_type": "code",
    "id": "Tnu2eSt2WYwA",
    "nbgrader": {
     "grade": true,
     "grade_id": "cell-34d7892d5ec76e33",
     "locked": false,
     "points": 0,
     "schema_version": 3,
     "solution": true,
     "task": false
    },
    "outputId": "e7fad062-eb5a-4c81-d706-f827cc3af536"
   },
   "outputs": [
    {
     "name": "stdout",
     "output_type": "stream",
     "text": [
      "The lowest cross validation error is: 8.960920663575006\n",
      "This corresponds to regularisation parameter e**-2.0\n"
     ]
    }
   ],
   "source": [
    "# Check errors\n",
    "### BEGIN SOLUTION\n",
    "print(\"The lowest cross validation error is: %s\" % (min(validation_scores.values())))        \n",
    "print(\"This corresponds to regularisation parameter e**-%s\" % \n",
    "      ([np.log(name) for name, score in validation_scores.items()\n",
    "                         if score==min(validation_scores.values())][0]))\n",
    "### END SOLUTION"
   ]
  },
  {
   "cell_type": "markdown",
   "metadata": {
    "colab_type": "text",
    "id": "nLWW2pYSP9E1"
   },
   "source": [
    " ### After regularisation"
   ]
  },
  {
   "cell_type": "code",
   "execution_count": 15,
   "metadata": {
    "colab": {},
    "colab_type": "code",
    "id": "CekkMxB_WYwC",
    "nbgrader": {
     "grade": true,
     "grade_id": "cell-82d1303c6a65f726",
     "locked": false,
     "points": 0,
     "schema_version": 3,
     "solution": true,
     "task": false
    },
    "outputId": "2ee6df5c-8c1f-4195-f470-44eaf4ac74bc"
   },
   "outputs": [
    {
     "data": {
      "text/plain": "8.369514642310802"
     },
     "execution_count": 15,
     "metadata": {},
     "output_type": "execute_result"
    }
   ],
   "source": [
    "# Fit data with the best parameter\n",
    "### BEGIN SOLUTION\n",
    "reg = MLPRegressor(max_iter=100000, solver=\"lbfgs\", activation=\"tanh\", hidden_layer_sizes=(5), alpha=np.e**(2.0), random_state=1)\n",
    "reg.fit(X_train, y_train)\n",
    "### END SOLUTION\n",
    "\n",
    "# Predict\n",
    "### BEGIN SOLUTION\n",
    "y_pred = reg.predict(X_test)\n",
    "### END SOLUTION\n",
    "\n",
    "# MSE final\n",
    "### BEGIN SOLUTION\n",
    "mean_squared_error(y_pred,y_test)\n",
    "### END SOLUTION"
   ]
  },
  {
   "cell_type": "markdown",
   "metadata": {
    "colab_type": "text",
    "id": "9RSS22ltwv-q"
   },
   "source": [
    "Did you notice a decrease in error?"
   ]
  },
  {
   "cell_type": "markdown",
   "metadata": {
    "colab_type": "text",
    "id": "LP6pDJFpWYwI"
   },
   "source": [
    "Use a response function to interpret the fitted model by observing mpg vs weight. Remember to fix other variables to the median for that column. "
   ]
  },
  {
   "cell_type": "markdown",
   "metadata": {
    "colab_type": "text",
    "id": "ctr--i16fybt"
   },
   "source": [
    "### Steps for setting up a response function\n",
    "1. Find the minimum and maximum weight values\n",
    "2. Set up a list of moving resultants\n",
    "3. Predict using the above two sets of values\n",
    "4. Plot miles per gallon against car weight"
   ]
  },
  {
   "cell_type": "markdown",
   "metadata": {
    "colab_type": "text",
    "id": "Of9waZ0_fyce"
   },
   "source": [
    "### Response function after regularisation"
   ]
  },
  {
   "cell_type": "code",
   "execution_count": 16,
   "metadata": {
    "colab": {},
    "colab_type": "code",
    "id": "FKZol-ldWYwJ",
    "outputId": "297cd2b8-b801-43cf-bf36-009d0ec0aa72"
   },
   "outputs": [
    {
     "data": {
      "text/plain": "   cylinders  displacement  horsepower  weight  acceleration  model year  \\\n0        4.0         151.0        93.5  2803.5          15.5        76.0   \n\n   origin  \n0     1.0  ",
      "text/html": "<div>\n<style scoped>\n    .dataframe tbody tr th:only-of-type {\n        vertical-align: middle;\n    }\n\n    .dataframe tbody tr th {\n        vertical-align: top;\n    }\n\n    .dataframe thead th {\n        text-align: right;\n    }\n</style>\n<table border=\"1\" class=\"dataframe\">\n  <thead>\n    <tr style=\"text-align: right;\">\n      <th></th>\n      <th>cylinders</th>\n      <th>displacement</th>\n      <th>horsepower</th>\n      <th>weight</th>\n      <th>acceleration</th>\n      <th>model year</th>\n      <th>origin</th>\n    </tr>\n  </thead>\n  <tbody>\n    <tr>\n      <th>0</th>\n      <td>4.0</td>\n      <td>151.0</td>\n      <td>93.5</td>\n      <td>2803.5</td>\n      <td>15.5</td>\n      <td>76.0</td>\n      <td>1.0</td>\n    </tr>\n  </tbody>\n</table>\n</div>"
     },
     "execution_count": 16,
     "metadata": {},
     "output_type": "execute_result"
    }
   ],
   "source": [
    "# Draw a response function\n",
    "\n",
    "# Prepare data for graph\n",
    "# Copy dataframe so as not to change original, and obtain medians\n",
    "X_design = X.copy()\n",
    "X_design_vec = pd.DataFrame(X_design.median()).transpose()\n",
    "\n",
    "# View X_design_vec, which should contain the median of each respective column\n",
    "X_design_vec.head()"
   ]
  },
  {
   "cell_type": "code",
   "execution_count": 17,
   "metadata": {
    "colab": {},
    "colab_type": "code",
    "id": "v2BHBMXeWYwM",
    "nbgrader": {
     "grade": true,
     "grade_id": "cell-d4328c4044750f56",
     "locked": false,
     "points": 0,
     "schema_version": 3,
     "solution": true,
     "task": false
    },
    "outputId": "e0a0758e-4e6d-4669-f706-ef5771de51e2"
   },
   "outputs": [
    {
     "data": {
      "text/plain": "<Figure size 432x288 with 1 Axes>",
      "image/png": "[encoded data removed]"
     },
     "metadata": {
      "needs_background": "light"
     },
     "output_type": "display_data"
    }
   ],
   "source": [
    "# Obtain the min and max of the weight variable and set up a sequence\n",
    "### BEGIN SOLUTION\n",
    "min_res = min(X.loc[:,\"weight\"])\n",
    "max_res = max(X.loc[:,\"weight\"])\n",
    "seq = np.linspace(start=min_res,stop=max_res,num=50)\n",
    "### END SOLUTION\n",
    "\n",
    "# Set up a list of moving resultants\n",
    "to_predict = []\n",
    "### BEGIN SOLUTION\n",
    "for result in seq:\n",
    "    X_design_vec.loc[0,\"weight\"] = result\n",
    "    to_predict.append(X_design_vec.copy())\n",
    "### END SOLUTION\n",
    "\n",
    "# Convert back to dataframe\n",
    "to_predict = pd.concat(to_predict)\n",
    "\n",
    "# Scale and predict\n",
    "### BEGIN SOLUTION\n",
    "to_predict = scaler.transform(to_predict)\n",
    "predictions = reg.predict(to_predict)\n",
    "### END SOLUTION\n",
    "\n",
    "# Plot \n",
    "plt.plot(seq,predictions)\n",
    "plt.xlabel(\"weight (lbs)\")\n",
    "plt.ylabel(\"miles per gallon\")\n",
    "plt.title(\"mpg vs weight\")\n",
    "plt.show()"
   ]
  },
  {
   "cell_type": "code",
   "execution_count": 18,
   "outputs": [
    {
     "name": "stdout",
     "output_type": "stream",
     "text": [
      "[29.67892047 29.45517305 29.20056393 28.91358681 28.59326848 28.23928124\n",
      " 27.85202358 27.43265522 26.98307875 26.50586969 26.00416796 25.48155347\n",
      " 24.94193282 24.3894609  23.82850897 23.26367344 22.6998014  22.14199742\n",
      " 21.59557515 21.06593034 20.5583336  20.07766702 19.62814717 19.21308408\n",
      " 18.83471757 18.49415451 18.19140831 17.92552335 17.69475607 17.49678162\n",
      " 17.3288989  17.18821463 17.07179525 16.97678294 16.90047691 16.84038466\n",
      " 16.79424886 16.76005592 16.73603157 16.7206279  16.71250542 16.71051267\n",
      " 16.71366514 16.72112477 16.73218069 16.74623165 16.76277027 16.78136916\n",
      " 16.80166878 16.82336699]\n"
     ]
    }
   ],
   "source": [
    "print(predictions)"
   ],
   "metadata": {
    "collapsed": false,
    "pycharm": {
     "name": "#%%\n"
    }
   }
  },
  {
   "cell_type": "markdown",
   "metadata": {
    "colab_type": "text",
    "id": "VmnxGPoNWYwO"
   },
   "source": [
    "Continue to the activity submission to answer questions about this notebook."
   ]
  }
 ],
 "metadata": {
  "celltoolbar": "Create Assignment",
  "colab": {
   "collapsed_sections": [],
   "name": "UCT DSS M5U3 IDE Notebook (code)_v14_ed.ipynb",
   "provenance": []
  },
  "kernelspec": {
   "display_name": "Python 3",
   "language": "python",
   "name": "python3"
  },
  "language_info": {
   "codemirror_mode": {
    "name": "ipython",
    "version": 3
   },
   "file_extension": ".py",
   "mimetype": "text/x-python",
   "name": "python",
   "nbconvert_exporter": "python",
   "pygments_lexer": "ipython3",
   "version": "3.7.4"
  }
 },
 "nbformat": 4,
 "nbformat_minor": 1
}