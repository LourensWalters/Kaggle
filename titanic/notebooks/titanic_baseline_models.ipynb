{
 "cells": [
  {
   "cell_type": "markdown",
   "metadata": {
    "collapsed": true,
    "pycharm": {
     "name": "#%% md\n"
    }
   },
   "source": [
    "# Titanic baseline models\n",
    "### Prediction of survival rate using 9 variables"
   ]
  },
  {
   "cell_type": "markdown",
   "metadata": {},
   "source": [
    "For this analysis we use the <b>Titanic Kaggle Competition</b> dataset found on the Kaggle Data\n",
    "Repository at the following location:\n",
    "\n",
    "<a href=https://www.kaggle.com/c/titanic/data>Titanic Kaggle Competition Dataset</a>\n",
    "\n",
    "The objective of the analysis is to classify passengers on the Titanic during the disaster of 1912\n",
    "according to survival.\n",
    "\n",
    "We aim to achieve this by following the ML pipeline approach of deploying a variety of ML\n",
    "techniques to build a final predictive model with the highest possible accuracy. This\n",
    "particular analysis comprises 4 notebooks as follows:\n",
    "\n",
    " 1. <i>titanic_baseline</i> - <b>This notebook</b>, baseline predictive models (quick and dirty) to\n",
    " compare later results against\n",
    " 2. <i>titanic_eda</i> - Exploratory Descriptive Analysis (EDA)\n",
    " 3. <i>titanic_features</i> - Perform feature engineering\n",
    " 4. <i>titanic_final_model</i> - Final model\n",
    "\n",
    "We hope to gain valuable insights by following this process. The various steps in the process can be\n",
    "elaborated on as follows (the various notebooks will focus on different parts of the process as\n",
    "indicated):\n",
    "\n",
    "- Load data (<i>all notebooks</i>)\n",
    "- Prepare data\n",
    "    - Clean data (<i>notebook 2</i>)\n",
    "        - Missing values\n",
    "        - Outliers\n",
    "        - Erroneous values\n",
    "    - Explore data (<i>notebook 2</i>)\n",
    "        - Exploratory descriptive analysis (EDA)\n",
    "        - Correlation analysis\n",
    "        - Variable cluster analysis\n",
    "    - Transform Data (<i>notebook 3</i>)\n",
    "        - Engineer features\n",
    "        - Encode data\n",
    "        - Scale & normalise data\n",
    "        - Impute data (if not done in previous steps)\n",
    "        - Feature selection/ importance analysis\n",
    "- Build model (<i>notebooks 1 & 4</i>)\n",
    "    - Model selection\n",
    "    - Data sampling (validation strategy, imbalanced classification)\n",
    "    - Hyperparameter optimisation\n",
    "- Validate model (<i>notebooks 1 & 4</i>)\n",
    "    - Accuracy testing\n",
    "- Analysis of results (<i>notebook 1 & 4</i>)\n",
    "    - Response curves\n",
    "    - Accuracy analysis\n",
    "    - Commentary\n",
    "\n",
    "The data dictionary for this dataset is as follows:\n",
    "\n",
    "| Variable | Definition | Key |\n",
    "|----------|------------|-----|\n",
    "| survival | Survival\t| 0 = No, 1 = Yes |\n",
    "| pclass   | Ticket class |\t1 = 1st, 2 = 2nd, 3 = 3rd |\n",
    "|sex | Sex | male, female |\n",
    "|Age | Age in years | Continuous |\n",
    "|sibsp | # of siblings / spouses aboard the Titanic | 0, 1, 2, ..|\n",
    "|parch | # of parents / children aboard the Titanic | 0, 1, 2 ..|\n",
    "|ticket | Ticket number | PC 17599, STON/O2. 3101282, 330877 |\n",
    "|fare | Passenger fare | Continuous |\n",
    "|cabin | Cabin number | C123, C85, E46 |\n",
    "|embarked | Port of Embarkation\t| C = Cherbourg, Q = Queenstown, S = Southampton |\n",
    "\n",
    "Let us start the analysis for <b>notebook 1</b>!\n",
    "\n",
    "Our approach for this notebook will be to take shortcuts i.e. drop variables that require\n",
    "pre-processing, e.g. unstructured text, or where replacement of missing values is required, without\n",
    "any thought to the best strategy. We will not do any feature engineering or attempt to understand\n",
    "the data (we will do this in the next notebook). We will rapidly build 4 models to get an idea of the\n",
    "strength of the signal in the data as well as where there might be issues with the data, or obvious\n",
    "areas for improvement for the model. The models we will build are the following:\n",
    "\n",
    " 1. Logistic regression: Bread and butter classification model - Aim is to obtain an idea of how a\n",
    " classical linear model performs\n",
    " 2. Multi-layer Perceptron (MLP): Understand how a simple non-linear model performs\n",
    " 3. Decision Tree: Provide visual analysis of variable importance and strength of association\n",
    " 4. Random Forest: Use model that good at dealing with unprocessed categorical variables in order to\n",
    " ascertain potential gains of pre-processing in next steps\n",
    "\n",
    "We will use the scikit-learn libraries to build the prototype models from first principles. In later\n",
    "notebooks we will use Keras and PyTorch to build the final models."
   ]
  },
  {
   "cell_type": "code",
   "execution_count": 1,
   "metadata": {
    "pycharm": {
     "name": "#%%\n"
    }
   },
   "outputs": [],
   "source": [
    "# Import libraries\n",
    "import pandas as pd\n",
    "import matplotlib.pyplot as plt\n",
    "import seaborn as sns\n",
    "import numpy as np\n",
    "from sklearn.linear_model import LogisticRegression\n",
    "from src.visualization.visualize_titanic import plot_confusion_matrix, plot_roc_curve, \\\n",
    "    plotVar, plotAge\n",
    "from sklearn.ensemble import RandomForestClassifier\n",
    "from sklearn.tree import DecisionTreeClassifier\n",
    "from sklearn.preprocessing import OneHotEncoder\n",
    "from sklearn.preprocessing import StandardScaler\n",
    "from sklearn.neural_network import MLPClassifier\n",
    "from sklearn.model_selection import train_test_split, cross_val_score\n",
    "from sklearn.metrics import accuracy_score, confusion_matrix, roc_curve\n",
    "from IPython.core.interactiveshell import InteractiveShell\n",
    "InteractiveShell.ast_node_interactivity = \"all\""
   ]
  },
  {
   "cell_type": "markdown",
   "metadata": {},
   "source": [
    "<div class=\"alert alert-block alert-info\">\n",
    "<b>Load data</b>\n",
    "</div>"
   ]
  },
  {
   "cell_type": "code",
   "execution_count": 2,
   "metadata": {
    "pycharm": {
     "name": "#%%\n"
    }
   },
   "outputs": [],
   "source": [
    "# Import data\n",
    "df_train = pd.read_csv('../data/external/train.csv', header = None,\n",
    "                       names = ['passenger_id', 'survived', 'p_class', 'name', 'sex', 'age',\n",
    "                                'sib_sp', 'parch', 'ticket', 'fare', 'cabin', 'embarked'],\n",
    "                       index_col=False, usecols = [0, 1, 2, 3, 4, 5, 6, 7, 8, 9, 10, 11],\n",
    "                       skiprows=1, sep=',', skipinitialspace=True)"
   ]
  },
  {
   "cell_type": "markdown",
   "metadata": {},
   "source": [
    "#### Train Data"
   ]
  },
  {
   "cell_type": "code",
   "execution_count": 3,
   "metadata": {
    "pycharm": {
     "name": "#%%\n"
    }
   },
   "outputs": [
    {
     "data": {
      "text/html": [
       "<div>\n",
       "<style scoped>\n",
       "    .dataframe tbody tr th:only-of-type {\n",
       "        vertical-align: middle;\n",
       "    }\n",
       "\n",
       "    .dataframe tbody tr th {\n",
       "        vertical-align: top;\n",
       "    }\n",
       "\n",
       "    .dataframe thead th {\n",
       "        text-align: right;\n",
       "    }\n",
       "</style>\n",
       "<table border=\"1\" class=\"dataframe\">\n",
       "  <thead>\n",
       "    <tr style=\"text-align: right;\">\n",
       "      <th></th>\n",
       "      <th>passenger_id</th>\n",
       "      <th>survived</th>\n",
       "      <th>p_class</th>\n",
       "      <th>name</th>\n",
       "      <th>sex</th>\n",
       "      <th>age</th>\n",
       "      <th>sib_sp</th>\n",
       "      <th>parch</th>\n",
       "      <th>ticket</th>\n",
       "      <th>fare</th>\n",
       "      <th>cabin</th>\n",
       "      <th>embarked</th>\n",
       "    </tr>\n",
       "  </thead>\n",
       "  <tbody>\n",
       "    <tr>\n",
       "      <th>0</th>\n",
       "      <td>1</td>\n",
       "      <td>0</td>\n",
       "      <td>3</td>\n",
       "      <td>Braund, Mr. Owen Harris</td>\n",
       "      <td>male</td>\n",
       "      <td>22.0</td>\n",
       "      <td>1</td>\n",
       "      <td>0</td>\n",
       "      <td>A/5 21171</td>\n",
       "      <td>7.2500</td>\n",
       "      <td>NaN</td>\n",
       "      <td>S</td>\n",
       "    </tr>\n",
       "    <tr>\n",
       "      <th>1</th>\n",
       "      <td>2</td>\n",
       "      <td>1</td>\n",
       "      <td>1</td>\n",
       "      <td>Cumings, Mrs. John Bradley (Florence Briggs Th...</td>\n",
       "      <td>female</td>\n",
       "      <td>38.0</td>\n",
       "      <td>1</td>\n",
       "      <td>0</td>\n",
       "      <td>PC 17599</td>\n",
       "      <td>71.2833</td>\n",
       "      <td>C85</td>\n",
       "      <td>C</td>\n",
       "    </tr>\n",
       "    <tr>\n",
       "      <th>2</th>\n",
       "      <td>3</td>\n",
       "      <td>1</td>\n",
       "      <td>3</td>\n",
       "      <td>Heikkinen, Miss. Laina</td>\n",
       "      <td>female</td>\n",
       "      <td>26.0</td>\n",
       "      <td>0</td>\n",
       "      <td>0</td>\n",
       "      <td>STON/O2. 3101282</td>\n",
       "      <td>7.9250</td>\n",
       "      <td>NaN</td>\n",
       "      <td>S</td>\n",
       "    </tr>\n",
       "    <tr>\n",
       "      <th>3</th>\n",
       "      <td>4</td>\n",
       "      <td>1</td>\n",
       "      <td>1</td>\n",
       "      <td>Futrelle, Mrs. Jacques Heath (Lily May Peel)</td>\n",
       "      <td>female</td>\n",
       "      <td>35.0</td>\n",
       "      <td>1</td>\n",
       "      <td>0</td>\n",
       "      <td>113803</td>\n",
       "      <td>53.1000</td>\n",
       "      <td>C123</td>\n",
       "      <td>S</td>\n",
       "    </tr>\n",
       "    <tr>\n",
       "      <th>4</th>\n",
       "      <td>5</td>\n",
       "      <td>0</td>\n",
       "      <td>3</td>\n",
       "      <td>Allen, Mr. William Henry</td>\n",
       "      <td>male</td>\n",
       "      <td>35.0</td>\n",
       "      <td>0</td>\n",
       "      <td>0</td>\n",
       "      <td>373450</td>\n",
       "      <td>8.0500</td>\n",
       "      <td>NaN</td>\n",
       "      <td>S</td>\n",
       "    </tr>\n",
       "    <tr>\n",
       "      <th>5</th>\n",
       "      <td>6</td>\n",
       "      <td>0</td>\n",
       "      <td>3</td>\n",
       "      <td>Moran, Mr. James</td>\n",
       "      <td>male</td>\n",
       "      <td>NaN</td>\n",
       "      <td>0</td>\n",
       "      <td>0</td>\n",
       "      <td>330877</td>\n",
       "      <td>8.4583</td>\n",
       "      <td>NaN</td>\n",
       "      <td>Q</td>\n",
       "    </tr>\n",
       "    <tr>\n",
       "      <th>6</th>\n",
       "      <td>7</td>\n",
       "      <td>0</td>\n",
       "      <td>1</td>\n",
       "      <td>McCarthy, Mr. Timothy J</td>\n",
       "      <td>male</td>\n",
       "      <td>54.0</td>\n",
       "      <td>0</td>\n",
       "      <td>0</td>\n",
       "      <td>17463</td>\n",
       "      <td>51.8625</td>\n",
       "      <td>E46</td>\n",
       "      <td>S</td>\n",
       "    </tr>\n",
       "    <tr>\n",
       "      <th>7</th>\n",
       "      <td>8</td>\n",
       "      <td>0</td>\n",
       "      <td>3</td>\n",
       "      <td>Palsson, Master. Gosta Leonard</td>\n",
       "      <td>male</td>\n",
       "      <td>2.0</td>\n",
       "      <td>3</td>\n",
       "      <td>1</td>\n",
       "      <td>349909</td>\n",
       "      <td>21.0750</td>\n",
       "      <td>NaN</td>\n",
       "      <td>S</td>\n",
       "    </tr>\n",
       "    <tr>\n",
       "      <th>8</th>\n",
       "      <td>9</td>\n",
       "      <td>1</td>\n",
       "      <td>3</td>\n",
       "      <td>Johnson, Mrs. Oscar W (Elisabeth Vilhelmina Berg)</td>\n",
       "      <td>female</td>\n",
       "      <td>27.0</td>\n",
       "      <td>0</td>\n",
       "      <td>2</td>\n",
       "      <td>347742</td>\n",
       "      <td>11.1333</td>\n",
       "      <td>NaN</td>\n",
       "      <td>S</td>\n",
       "    </tr>\n",
       "    <tr>\n",
       "      <th>9</th>\n",
       "      <td>10</td>\n",
       "      <td>1</td>\n",
       "      <td>2</td>\n",
       "      <td>Nasser, Mrs. Nicholas (Adele Achem)</td>\n",
       "      <td>female</td>\n",
       "      <td>14.0</td>\n",
       "      <td>1</td>\n",
       "      <td>0</td>\n",
       "      <td>237736</td>\n",
       "      <td>30.0708</td>\n",
       "      <td>NaN</td>\n",
       "      <td>C</td>\n",
       "    </tr>\n",
       "    <tr>\n",
       "      <th>10</th>\n",
       "      <td>11</td>\n",
       "      <td>1</td>\n",
       "      <td>3</td>\n",
       "      <td>Sandstrom, Miss. Marguerite Rut</td>\n",
       "      <td>female</td>\n",
       "      <td>4.0</td>\n",
       "      <td>1</td>\n",
       "      <td>1</td>\n",
       "      <td>PP 9549</td>\n",
       "      <td>16.7000</td>\n",
       "      <td>G6</td>\n",
       "      <td>S</td>\n",
       "    </tr>\n",
       "    <tr>\n",
       "      <th>11</th>\n",
       "      <td>12</td>\n",
       "      <td>1</td>\n",
       "      <td>1</td>\n",
       "      <td>Bonnell, Miss. Elizabeth</td>\n",
       "      <td>female</td>\n",
       "      <td>58.0</td>\n",
       "      <td>0</td>\n",
       "      <td>0</td>\n",
       "      <td>113783</td>\n",
       "      <td>26.5500</td>\n",
       "      <td>C103</td>\n",
       "      <td>S</td>\n",
       "    </tr>\n",
       "    <tr>\n",
       "      <th>12</th>\n",
       "      <td>13</td>\n",
       "      <td>0</td>\n",
       "      <td>3</td>\n",
       "      <td>Saundercock, Mr. William Henry</td>\n",
       "      <td>male</td>\n",
       "      <td>20.0</td>\n",
       "      <td>0</td>\n",
       "      <td>0</td>\n",
       "      <td>A/5. 2151</td>\n",
       "      <td>8.0500</td>\n",
       "      <td>NaN</td>\n",
       "      <td>S</td>\n",
       "    </tr>\n",
       "    <tr>\n",
       "      <th>13</th>\n",
       "      <td>14</td>\n",
       "      <td>0</td>\n",
       "      <td>3</td>\n",
       "      <td>Andersson, Mr. Anders Johan</td>\n",
       "      <td>male</td>\n",
       "      <td>39.0</td>\n",
       "      <td>1</td>\n",
       "      <td>5</td>\n",
       "      <td>347082</td>\n",
       "      <td>31.2750</td>\n",
       "      <td>NaN</td>\n",
       "      <td>S</td>\n",
       "    </tr>\n",
       "    <tr>\n",
       "      <th>14</th>\n",
       "      <td>15</td>\n",
       "      <td>0</td>\n",
       "      <td>3</td>\n",
       "      <td>Vestrom, Miss. Hulda Amanda Adolfina</td>\n",
       "      <td>female</td>\n",
       "      <td>14.0</td>\n",
       "      <td>0</td>\n",
       "      <td>0</td>\n",
       "      <td>350406</td>\n",
       "      <td>7.8542</td>\n",
       "      <td>NaN</td>\n",
       "      <td>S</td>\n",
       "    </tr>\n",
       "    <tr>\n",
       "      <th>15</th>\n",
       "      <td>16</td>\n",
       "      <td>1</td>\n",
       "      <td>2</td>\n",
       "      <td>Hewlett, Mrs. (Mary D Kingcome)</td>\n",
       "      <td>female</td>\n",
       "      <td>55.0</td>\n",
       "      <td>0</td>\n",
       "      <td>0</td>\n",
       "      <td>248706</td>\n",
       "      <td>16.0000</td>\n",
       "      <td>NaN</td>\n",
       "      <td>S</td>\n",
       "    </tr>\n",
       "    <tr>\n",
       "      <th>16</th>\n",
       "      <td>17</td>\n",
       "      <td>0</td>\n",
       "      <td>3</td>\n",
       "      <td>Rice, Master. Eugene</td>\n",
       "      <td>male</td>\n",
       "      <td>2.0</td>\n",
       "      <td>4</td>\n",
       "      <td>1</td>\n",
       "      <td>382652</td>\n",
       "      <td>29.1250</td>\n",
       "      <td>NaN</td>\n",
       "      <td>Q</td>\n",
       "    </tr>\n",
       "    <tr>\n",
       "      <th>17</th>\n",
       "      <td>18</td>\n",
       "      <td>1</td>\n",
       "      <td>2</td>\n",
       "      <td>Williams, Mr. Charles Eugene</td>\n",
       "      <td>male</td>\n",
       "      <td>NaN</td>\n",
       "      <td>0</td>\n",
       "      <td>0</td>\n",
       "      <td>244373</td>\n",
       "      <td>13.0000</td>\n",
       "      <td>NaN</td>\n",
       "      <td>S</td>\n",
       "    </tr>\n",
       "    <tr>\n",
       "      <th>18</th>\n",
       "      <td>19</td>\n",
       "      <td>0</td>\n",
       "      <td>3</td>\n",
       "      <td>Vander Planke, Mrs. Julius (Emelia Maria Vande...</td>\n",
       "      <td>female</td>\n",
       "      <td>31.0</td>\n",
       "      <td>1</td>\n",
       "      <td>0</td>\n",
       "      <td>345763</td>\n",
       "      <td>18.0000</td>\n",
       "      <td>NaN</td>\n",
       "      <td>S</td>\n",
       "    </tr>\n",
       "    <tr>\n",
       "      <th>19</th>\n",
       "      <td>20</td>\n",
       "      <td>1</td>\n",
       "      <td>3</td>\n",
       "      <td>Masselmani, Mrs. Fatima</td>\n",
       "      <td>female</td>\n",
       "      <td>NaN</td>\n",
       "      <td>0</td>\n",
       "      <td>0</td>\n",
       "      <td>2649</td>\n",
       "      <td>7.2250</td>\n",
       "      <td>NaN</td>\n",
       "      <td>C</td>\n",
       "    </tr>\n",
       "  </tbody>\n",
       "</table>\n",
       "</div>"
      ],
      "text/plain": [
       "    passenger_id  survived  p_class  \\\n",
       "0              1         0        3   \n",
       "1              2         1        1   \n",
       "2              3         1        3   \n",
       "3              4         1        1   \n",
       "4              5         0        3   \n",
       "5              6         0        3   \n",
       "6              7         0        1   \n",
       "7              8         0        3   \n",
       "8              9         1        3   \n",
       "9             10         1        2   \n",
       "10            11         1        3   \n",
       "11            12         1        1   \n",
       "12            13         0        3   \n",
       "13            14         0        3   \n",
       "14            15         0        3   \n",
       "15            16         1        2   \n",
       "16            17         0        3   \n",
       "17            18         1        2   \n",
       "18            19         0        3   \n",
       "19            20         1        3   \n",
       "\n",
       "                                                 name     sex   age  sib_sp  \\\n",
       "0                             Braund, Mr. Owen Harris    male  22.0       1   \n",
       "1   Cumings, Mrs. John Bradley (Florence Briggs Th...  female  38.0       1   \n",
       "2                              Heikkinen, Miss. Laina  female  26.0       0   \n",
       "3        Futrelle, Mrs. Jacques Heath (Lily May Peel)  female  35.0       1   \n",
       "4                            Allen, Mr. William Henry    male  35.0       0   \n",
       "5                                    Moran, Mr. James    male   NaN       0   \n",
       "6                             McCarthy, Mr. Timothy J    male  54.0       0   \n",
       "7                      Palsson, Master. Gosta Leonard    male   2.0       3   \n",
       "8   Johnson, Mrs. Oscar W (Elisabeth Vilhelmina Berg)  female  27.0       0   \n",
       "9                 Nasser, Mrs. Nicholas (Adele Achem)  female  14.0       1   \n",
       "10                    Sandstrom, Miss. Marguerite Rut  female   4.0       1   \n",
       "11                           Bonnell, Miss. Elizabeth  female  58.0       0   \n",
       "12                     Saundercock, Mr. William Henry    male  20.0       0   \n",
       "13                        Andersson, Mr. Anders Johan    male  39.0       1   \n",
       "14               Vestrom, Miss. Hulda Amanda Adolfina  female  14.0       0   \n",
       "15                   Hewlett, Mrs. (Mary D Kingcome)   female  55.0       0   \n",
       "16                               Rice, Master. Eugene    male   2.0       4   \n",
       "17                       Williams, Mr. Charles Eugene    male   NaN       0   \n",
       "18  Vander Planke, Mrs. Julius (Emelia Maria Vande...  female  31.0       1   \n",
       "19                            Masselmani, Mrs. Fatima  female   NaN       0   \n",
       "\n",
       "    parch            ticket     fare cabin embarked  \n",
       "0       0         A/5 21171   7.2500   NaN        S  \n",
       "1       0          PC 17599  71.2833   C85        C  \n",
       "2       0  STON/O2. 3101282   7.9250   NaN        S  \n",
       "3       0            113803  53.1000  C123        S  \n",
       "4       0            373450   8.0500   NaN        S  \n",
       "5       0            330877   8.4583   NaN        Q  \n",
       "6       0             17463  51.8625   E46        S  \n",
       "7       1            349909  21.0750   NaN        S  \n",
       "8       2            347742  11.1333   NaN        S  \n",
       "9       0            237736  30.0708   NaN        C  \n",
       "10      1           PP 9549  16.7000    G6        S  \n",
       "11      0            113783  26.5500  C103        S  \n",
       "12      0         A/5. 2151   8.0500   NaN        S  \n",
       "13      5            347082  31.2750   NaN        S  \n",
       "14      0            350406   7.8542   NaN        S  \n",
       "15      0            248706  16.0000   NaN        S  \n",
       "16      1            382652  29.1250   NaN        Q  \n",
       "17      0            244373  13.0000   NaN        S  \n",
       "18      0            345763  18.0000   NaN        S  \n",
       "19      0              2649   7.2250   NaN        C  "
      ]
     },
     "execution_count": 3,
     "metadata": {},
     "output_type": "execute_result"
    },
    {
     "name": "stdout",
     "output_type": "stream",
     "text": [
      "(891, 12)\n"
     ]
    }
   ],
   "source": [
    "df_train.head(20)\n",
    "print(df_train.shape)\n"
   ]
  },
  {
   "cell_type": "code",
   "execution_count": 4,
   "metadata": {
    "pycharm": {
     "name": "#%%\n"
    }
   },
   "outputs": [],
   "source": [
    "# Import data\n",
    "df_test = pd.read_csv('../data/external/test.csv', header = None,\n",
    "                      names = ['passenger_id', 'p_class', 'name', 'sex', 'age', 'sib_sp',\n",
    "                               'parch', 'ticket', 'fare', 'cabin', 'embarked'],\n",
    "                      index_col=False, usecols = [0, 1, 2, 3, 4, 5, 6, 7, 8, 9, 10],\n",
    "                      skiprows=1, sep=',', skipinitialspace=True)"
   ]
  },
  {
   "cell_type": "markdown",
   "metadata": {},
   "source": [
    "#### Test Data"
   ]
  },
  {
   "cell_type": "code",
   "execution_count": 5,
   "metadata": {
    "pycharm": {
     "name": "#%%\n"
    }
   },
   "outputs": [
    {
     "data": {
      "text/html": [
       "<div>\n",
       "<style scoped>\n",
       "    .dataframe tbody tr th:only-of-type {\n",
       "        vertical-align: middle;\n",
       "    }\n",
       "\n",
       "    .dataframe tbody tr th {\n",
       "        vertical-align: top;\n",
       "    }\n",
       "\n",
       "    .dataframe thead th {\n",
       "        text-align: right;\n",
       "    }\n",
       "</style>\n",
       "<table border=\"1\" class=\"dataframe\">\n",
       "  <thead>\n",
       "    <tr style=\"text-align: right;\">\n",
       "      <th></th>\n",
       "      <th>passenger_id</th>\n",
       "      <th>p_class</th>\n",
       "      <th>name</th>\n",
       "      <th>sex</th>\n",
       "      <th>age</th>\n",
       "      <th>sib_sp</th>\n",
       "      <th>parch</th>\n",
       "      <th>ticket</th>\n",
       "      <th>fare</th>\n",
       "      <th>cabin</th>\n",
       "      <th>embarked</th>\n",
       "    </tr>\n",
       "  </thead>\n",
       "  <tbody>\n",
       "    <tr>\n",
       "      <th>0</th>\n",
       "      <td>892</td>\n",
       "      <td>3</td>\n",
       "      <td>Kelly, Mr. James</td>\n",
       "      <td>male</td>\n",
       "      <td>34.5</td>\n",
       "      <td>0</td>\n",
       "      <td>0</td>\n",
       "      <td>330911</td>\n",
       "      <td>7.8292</td>\n",
       "      <td>NaN</td>\n",
       "      <td>Q</td>\n",
       "    </tr>\n",
       "    <tr>\n",
       "      <th>1</th>\n",
       "      <td>893</td>\n",
       "      <td>3</td>\n",
       "      <td>Wilkes, Mrs. James (Ellen Needs)</td>\n",
       "      <td>female</td>\n",
       "      <td>47.0</td>\n",
       "      <td>1</td>\n",
       "      <td>0</td>\n",
       "      <td>363272</td>\n",
       "      <td>7.0000</td>\n",
       "      <td>NaN</td>\n",
       "      <td>S</td>\n",
       "    </tr>\n",
       "    <tr>\n",
       "      <th>2</th>\n",
       "      <td>894</td>\n",
       "      <td>2</td>\n",
       "      <td>Myles, Mr. Thomas Francis</td>\n",
       "      <td>male</td>\n",
       "      <td>62.0</td>\n",
       "      <td>0</td>\n",
       "      <td>0</td>\n",
       "      <td>240276</td>\n",
       "      <td>9.6875</td>\n",
       "      <td>NaN</td>\n",
       "      <td>Q</td>\n",
       "    </tr>\n",
       "    <tr>\n",
       "      <th>3</th>\n",
       "      <td>895</td>\n",
       "      <td>3</td>\n",
       "      <td>Wirz, Mr. Albert</td>\n",
       "      <td>male</td>\n",
       "      <td>27.0</td>\n",
       "      <td>0</td>\n",
       "      <td>0</td>\n",
       "      <td>315154</td>\n",
       "      <td>8.6625</td>\n",
       "      <td>NaN</td>\n",
       "      <td>S</td>\n",
       "    </tr>\n",
       "    <tr>\n",
       "      <th>4</th>\n",
       "      <td>896</td>\n",
       "      <td>3</td>\n",
       "      <td>Hirvonen, Mrs. Alexander (Helga E Lindqvist)</td>\n",
       "      <td>female</td>\n",
       "      <td>22.0</td>\n",
       "      <td>1</td>\n",
       "      <td>1</td>\n",
       "      <td>3101298</td>\n",
       "      <td>12.2875</td>\n",
       "      <td>NaN</td>\n",
       "      <td>S</td>\n",
       "    </tr>\n",
       "    <tr>\n",
       "      <th>5</th>\n",
       "      <td>897</td>\n",
       "      <td>3</td>\n",
       "      <td>Svensson, Mr. Johan Cervin</td>\n",
       "      <td>male</td>\n",
       "      <td>14.0</td>\n",
       "      <td>0</td>\n",
       "      <td>0</td>\n",
       "      <td>7538</td>\n",
       "      <td>9.2250</td>\n",
       "      <td>NaN</td>\n",
       "      <td>S</td>\n",
       "    </tr>\n",
       "    <tr>\n",
       "      <th>6</th>\n",
       "      <td>898</td>\n",
       "      <td>3</td>\n",
       "      <td>Connolly, Miss. Kate</td>\n",
       "      <td>female</td>\n",
       "      <td>30.0</td>\n",
       "      <td>0</td>\n",
       "      <td>0</td>\n",
       "      <td>330972</td>\n",
       "      <td>7.6292</td>\n",
       "      <td>NaN</td>\n",
       "      <td>Q</td>\n",
       "    </tr>\n",
       "    <tr>\n",
       "      <th>7</th>\n",
       "      <td>899</td>\n",
       "      <td>2</td>\n",
       "      <td>Caldwell, Mr. Albert Francis</td>\n",
       "      <td>male</td>\n",
       "      <td>26.0</td>\n",
       "      <td>1</td>\n",
       "      <td>1</td>\n",
       "      <td>248738</td>\n",
       "      <td>29.0000</td>\n",
       "      <td>NaN</td>\n",
       "      <td>S</td>\n",
       "    </tr>\n",
       "    <tr>\n",
       "      <th>8</th>\n",
       "      <td>900</td>\n",
       "      <td>3</td>\n",
       "      <td>Abrahim, Mrs. Joseph (Sophie Halaut Easu)</td>\n",
       "      <td>female</td>\n",
       "      <td>18.0</td>\n",
       "      <td>0</td>\n",
       "      <td>0</td>\n",
       "      <td>2657</td>\n",
       "      <td>7.2292</td>\n",
       "      <td>NaN</td>\n",
       "      <td>C</td>\n",
       "    </tr>\n",
       "    <tr>\n",
       "      <th>9</th>\n",
       "      <td>901</td>\n",
       "      <td>3</td>\n",
       "      <td>Davies, Mr. John Samuel</td>\n",
       "      <td>male</td>\n",
       "      <td>21.0</td>\n",
       "      <td>2</td>\n",
       "      <td>0</td>\n",
       "      <td>A/4 48871</td>\n",
       "      <td>24.1500</td>\n",
       "      <td>NaN</td>\n",
       "      <td>S</td>\n",
       "    </tr>\n",
       "    <tr>\n",
       "      <th>10</th>\n",
       "      <td>902</td>\n",
       "      <td>3</td>\n",
       "      <td>Ilieff, Mr. Ylio</td>\n",
       "      <td>male</td>\n",
       "      <td>NaN</td>\n",
       "      <td>0</td>\n",
       "      <td>0</td>\n",
       "      <td>349220</td>\n",
       "      <td>7.8958</td>\n",
       "      <td>NaN</td>\n",
       "      <td>S</td>\n",
       "    </tr>\n",
       "    <tr>\n",
       "      <th>11</th>\n",
       "      <td>903</td>\n",
       "      <td>1</td>\n",
       "      <td>Jones, Mr. Charles Cresson</td>\n",
       "      <td>male</td>\n",
       "      <td>46.0</td>\n",
       "      <td>0</td>\n",
       "      <td>0</td>\n",
       "      <td>694</td>\n",
       "      <td>26.0000</td>\n",
       "      <td>NaN</td>\n",
       "      <td>S</td>\n",
       "    </tr>\n",
       "    <tr>\n",
       "      <th>12</th>\n",
       "      <td>904</td>\n",
       "      <td>1</td>\n",
       "      <td>Snyder, Mrs. John Pillsbury (Nelle Stevenson)</td>\n",
       "      <td>female</td>\n",
       "      <td>23.0</td>\n",
       "      <td>1</td>\n",
       "      <td>0</td>\n",
       "      <td>21228</td>\n",
       "      <td>82.2667</td>\n",
       "      <td>B45</td>\n",
       "      <td>S</td>\n",
       "    </tr>\n",
       "    <tr>\n",
       "      <th>13</th>\n",
       "      <td>905</td>\n",
       "      <td>2</td>\n",
       "      <td>Howard, Mr. Benjamin</td>\n",
       "      <td>male</td>\n",
       "      <td>63.0</td>\n",
       "      <td>1</td>\n",
       "      <td>0</td>\n",
       "      <td>24065</td>\n",
       "      <td>26.0000</td>\n",
       "      <td>NaN</td>\n",
       "      <td>S</td>\n",
       "    </tr>\n",
       "    <tr>\n",
       "      <th>14</th>\n",
       "      <td>906</td>\n",
       "      <td>1</td>\n",
       "      <td>Chaffee, Mrs. Herbert Fuller (Carrie Constance...</td>\n",
       "      <td>female</td>\n",
       "      <td>47.0</td>\n",
       "      <td>1</td>\n",
       "      <td>0</td>\n",
       "      <td>W.E.P. 5734</td>\n",
       "      <td>61.1750</td>\n",
       "      <td>E31</td>\n",
       "      <td>S</td>\n",
       "    </tr>\n",
       "    <tr>\n",
       "      <th>15</th>\n",
       "      <td>907</td>\n",
       "      <td>2</td>\n",
       "      <td>del Carlo, Mrs. Sebastiano (Argenia Genovesi)</td>\n",
       "      <td>female</td>\n",
       "      <td>24.0</td>\n",
       "      <td>1</td>\n",
       "      <td>0</td>\n",
       "      <td>SC/PARIS 2167</td>\n",
       "      <td>27.7208</td>\n",
       "      <td>NaN</td>\n",
       "      <td>C</td>\n",
       "    </tr>\n",
       "    <tr>\n",
       "      <th>16</th>\n",
       "      <td>908</td>\n",
       "      <td>2</td>\n",
       "      <td>Keane, Mr. Daniel</td>\n",
       "      <td>male</td>\n",
       "      <td>35.0</td>\n",
       "      <td>0</td>\n",
       "      <td>0</td>\n",
       "      <td>233734</td>\n",
       "      <td>12.3500</td>\n",
       "      <td>NaN</td>\n",
       "      <td>Q</td>\n",
       "    </tr>\n",
       "    <tr>\n",
       "      <th>17</th>\n",
       "      <td>909</td>\n",
       "      <td>3</td>\n",
       "      <td>Assaf, Mr. Gerios</td>\n",
       "      <td>male</td>\n",
       "      <td>21.0</td>\n",
       "      <td>0</td>\n",
       "      <td>0</td>\n",
       "      <td>2692</td>\n",
       "      <td>7.2250</td>\n",
       "      <td>NaN</td>\n",
       "      <td>C</td>\n",
       "    </tr>\n",
       "    <tr>\n",
       "      <th>18</th>\n",
       "      <td>910</td>\n",
       "      <td>3</td>\n",
       "      <td>Ilmakangas, Miss. Ida Livija</td>\n",
       "      <td>female</td>\n",
       "      <td>27.0</td>\n",
       "      <td>1</td>\n",
       "      <td>0</td>\n",
       "      <td>STON/O2. 3101270</td>\n",
       "      <td>7.9250</td>\n",
       "      <td>NaN</td>\n",
       "      <td>S</td>\n",
       "    </tr>\n",
       "    <tr>\n",
       "      <th>19</th>\n",
       "      <td>911</td>\n",
       "      <td>3</td>\n",
       "      <td>Assaf Khalil, Mrs. Mariana (Miriam\")\"</td>\n",
       "      <td>female</td>\n",
       "      <td>45.0</td>\n",
       "      <td>0</td>\n",
       "      <td>0</td>\n",
       "      <td>2696</td>\n",
       "      <td>7.2250</td>\n",
       "      <td>NaN</td>\n",
       "      <td>C</td>\n",
       "    </tr>\n",
       "  </tbody>\n",
       "</table>\n",
       "</div>"
      ],
      "text/plain": [
       "    passenger_id  p_class                                               name  \\\n",
       "0            892        3                                   Kelly, Mr. James   \n",
       "1            893        3                   Wilkes, Mrs. James (Ellen Needs)   \n",
       "2            894        2                          Myles, Mr. Thomas Francis   \n",
       "3            895        3                                   Wirz, Mr. Albert   \n",
       "4            896        3       Hirvonen, Mrs. Alexander (Helga E Lindqvist)   \n",
       "5            897        3                         Svensson, Mr. Johan Cervin   \n",
       "6            898        3                               Connolly, Miss. Kate   \n",
       "7            899        2                       Caldwell, Mr. Albert Francis   \n",
       "8            900        3          Abrahim, Mrs. Joseph (Sophie Halaut Easu)   \n",
       "9            901        3                            Davies, Mr. John Samuel   \n",
       "10           902        3                                   Ilieff, Mr. Ylio   \n",
       "11           903        1                         Jones, Mr. Charles Cresson   \n",
       "12           904        1      Snyder, Mrs. John Pillsbury (Nelle Stevenson)   \n",
       "13           905        2                               Howard, Mr. Benjamin   \n",
       "14           906        1  Chaffee, Mrs. Herbert Fuller (Carrie Constance...   \n",
       "15           907        2      del Carlo, Mrs. Sebastiano (Argenia Genovesi)   \n",
       "16           908        2                                  Keane, Mr. Daniel   \n",
       "17           909        3                                  Assaf, Mr. Gerios   \n",
       "18           910        3                       Ilmakangas, Miss. Ida Livija   \n",
       "19           911        3              Assaf Khalil, Mrs. Mariana (Miriam\")\"   \n",
       "\n",
       "       sex   age  sib_sp  parch            ticket     fare cabin embarked  \n",
       "0     male  34.5       0      0            330911   7.8292   NaN        Q  \n",
       "1   female  47.0       1      0            363272   7.0000   NaN        S  \n",
       "2     male  62.0       0      0            240276   9.6875   NaN        Q  \n",
       "3     male  27.0       0      0            315154   8.6625   NaN        S  \n",
       "4   female  22.0       1      1           3101298  12.2875   NaN        S  \n",
       "5     male  14.0       0      0              7538   9.2250   NaN        S  \n",
       "6   female  30.0       0      0            330972   7.6292   NaN        Q  \n",
       "7     male  26.0       1      1            248738  29.0000   NaN        S  \n",
       "8   female  18.0       0      0              2657   7.2292   NaN        C  \n",
       "9     male  21.0       2      0         A/4 48871  24.1500   NaN        S  \n",
       "10    male   NaN       0      0            349220   7.8958   NaN        S  \n",
       "11    male  46.0       0      0               694  26.0000   NaN        S  \n",
       "12  female  23.0       1      0             21228  82.2667   B45        S  \n",
       "13    male  63.0       1      0             24065  26.0000   NaN        S  \n",
       "14  female  47.0       1      0       W.E.P. 5734  61.1750   E31        S  \n",
       "15  female  24.0       1      0     SC/PARIS 2167  27.7208   NaN        C  \n",
       "16    male  35.0       0      0            233734  12.3500   NaN        Q  \n",
       "17    male  21.0       0      0              2692   7.2250   NaN        C  \n",
       "18  female  27.0       1      0  STON/O2. 3101270   7.9250   NaN        S  \n",
       "19  female  45.0       0      0              2696   7.2250   NaN        C  "
      ]
     },
     "execution_count": 5,
     "metadata": {},
     "output_type": "execute_result"
    },
    {
     "name": "stdout",
     "output_type": "stream",
     "text": [
      "(418, 11)\n"
     ]
    }
   ],
   "source": [
    "df_test.head(20)\n",
    "print(df_test.shape)\n",
    "df_orig = df_test.copy()"
   ]
  },
  {
   "cell_type": "markdown",
   "metadata": {
    "pycharm": {
     "name": "#%% md\n"
    }
   },
   "source": [
    "The first thing to note is that the dataset read from csv file has 891 rows and 12 data columns. This\n",
    "is different to the Kaggle data dictionary claiming 891 rows and 10 data columns.\n",
    "\n",
    "The two extra fields are name and ticket. These unstructured text variables will require\n",
    "pre-processing and hence I leave them out for the moment. We will also leave cabin out, as it requires\n",
    "pre-processing too. Excluding the dependent variable we therefore have 9 feature variables for this\n",
    "analysis.\n",
    "\n",
    "Let us do minimal exploration of the data and then start building our baseline models!"
   ]
  },
  {
   "cell_type": "markdown",
   "metadata": {},
   "source": [
    "<div class=\"alert alert-block alert-info\">\n",
    "<b>Basic data cleaning</b>\n",
    "</div>\n",
    "\n",
    "We will do some basic cleaning of the data before embarking on the building of a few base models. Let \n",
    "us start with replacing missing values."
   ]
  },
  {
   "cell_type": "code",
   "execution_count": 6,
   "metadata": {
    "pycharm": {
     "name": "#%%\n"
    }
   },
   "outputs": [],
   "source": [
    "# Create first stab at an improvement, start with the obvious variables to create a quick model. Leave\n",
    "# ticket out for now, as some parsing will be necessary\n",
    "df_train = df_train.loc[:, ['survived', 'p_class', 'sex', 'age', 'sib_sp', 'parch', 'fare',\n",
    "                            'embarked']]"
   ]
  },
  {
   "cell_type": "code",
   "execution_count": 7,
   "metadata": {
    "pycharm": {
     "name": "#%%\n"
    }
   },
   "outputs": [],
   "source": [
    "df_test = df_test.loc[:, ['p_class', 'sex', 'age', 'sib_sp', 'parch', 'fare', 'embarked']]\n"
   ]
  },
  {
   "cell_type": "markdown",
   "metadata": {
    "pycharm": {
     "name": "#%% md\n"
    }
   },
   "source": [
    "We first consider the training dataset:"
   ]
  },
  {
   "cell_type": "code",
   "execution_count": 8,
   "metadata": {
    "pycharm": {
     "name": "#%%\n"
    }
   },
   "outputs": [
    {
     "name": "stdout",
     "output_type": "stream",
     "text": [
      "<class 'pandas.core.frame.DataFrame'>\n",
      "RangeIndex: 891 entries, 0 to 890\n",
      "Data columns (total 8 columns):\n",
      " #   Column    Non-Null Count  Dtype  \n",
      "---  ------    --------------  -----  \n",
      " 0   survived  891 non-null    int64  \n",
      " 1   p_class   891 non-null    int64  \n",
      " 2   sex       891 non-null    object \n",
      " 3   age       714 non-null    float64\n",
      " 4   sib_sp    891 non-null    int64  \n",
      " 5   parch     891 non-null    int64  \n",
      " 6   fare      891 non-null    float64\n",
      " 7   embarked  889 non-null    object \n",
      "dtypes: float64(2), int64(4), object(2)\n",
      "memory usage: 55.8+ KB\n"
     ]
    }
   ],
   "source": [
    "# Type of data\n",
    "df_train.info()"
   ]
  },
  {
   "cell_type": "markdown",
   "metadata": {},
   "source": [
    "We then consider the test dataset:"
   ]
  },
  {
   "cell_type": "code",
   "execution_count": 9,
   "metadata": {
    "pycharm": {
     "name": "#%%\n"
    }
   },
   "outputs": [
    {
     "name": "stdout",
     "output_type": "stream",
     "text": [
      "<class 'pandas.core.frame.DataFrame'>\n",
      "RangeIndex: 418 entries, 0 to 417\n",
      "Data columns (total 7 columns):\n",
      " #   Column    Non-Null Count  Dtype  \n",
      "---  ------    --------------  -----  \n",
      " 0   p_class   418 non-null    int64  \n",
      " 1   sex       418 non-null    object \n",
      " 2   age       332 non-null    float64\n",
      " 3   sib_sp    418 non-null    int64  \n",
      " 4   parch     418 non-null    int64  \n",
      " 5   fare      417 non-null    float64\n",
      " 6   embarked  418 non-null    object \n",
      "dtypes: float64(2), int64(3), object(2)\n",
      "memory usage: 23.0+ KB\n"
     ]
    }
   ],
   "source": [
    "# Type of data\n",
    "df_test.info()\n"
   ]
  },
  {
   "cell_type": "markdown",
   "metadata": {},
   "source": [
    "From the high level checks we can see that there are missing values in the following fields: age, fare\n",
    "and embarked. The missing values are fairly equally distributed between training and test datasets,\n",
    "which is good as it shows no systematic problematics between the two datasets.\n",
    "\n",
    "We will impute these values with simple measures of centrality for these variables (median, mode) at\n",
    "present. During the next stage of the analysis we will revisit this decision by performing EDA before\n",
    "removing missing values in order to make a more informed decision, for now we forge ahead!\n",
    "\n",
    "We do some final sense checks on the missing values in both datasets before imputing the values.\n",
    "\n",
    "We quantify the exact number of missing values in the training set:"
   ]
  },
  {
   "cell_type": "code",
   "execution_count": 10,
   "metadata": {
    "pycharm": {
     "name": "#%%\n"
    }
   },
   "outputs": [
    {
     "data": {
      "text/plain": [
       "survived      0\n",
       "p_class       0\n",
       "sex           0\n",
       "age         177\n",
       "sib_sp        0\n",
       "parch         0\n",
       "fare          0\n",
       "embarked      2\n",
       "dtype: int64"
      ]
     },
     "execution_count": 10,
     "metadata": {},
     "output_type": "execute_result"
    }
   ],
   "source": [
    "# Check for null values\n",
    "df_train.isnull().sum()"
   ]
  },
  {
   "cell_type": "markdown",
   "metadata": {},
   "source": [
    "Consider a sample of missing values from the training set:\n"
   ]
  },
  {
   "cell_type": "code",
   "execution_count": 11,
   "metadata": {
    "pycharm": {
     "name": "#%%\n"
    }
   },
   "outputs": [
    {
     "data": {
      "text/html": [
       "<div>\n",
       "<style scoped>\n",
       "    .dataframe tbody tr th:only-of-type {\n",
       "        vertical-align: middle;\n",
       "    }\n",
       "\n",
       "    .dataframe tbody tr th {\n",
       "        vertical-align: top;\n",
       "    }\n",
       "\n",
       "    .dataframe thead th {\n",
       "        text-align: right;\n",
       "    }\n",
       "</style>\n",
       "<table border=\"1\" class=\"dataframe\">\n",
       "  <thead>\n",
       "    <tr style=\"text-align: right;\">\n",
       "      <th></th>\n",
       "      <th>survived</th>\n",
       "      <th>p_class</th>\n",
       "      <th>sex</th>\n",
       "      <th>age</th>\n",
       "      <th>sib_sp</th>\n",
       "      <th>parch</th>\n",
       "      <th>fare</th>\n",
       "      <th>embarked</th>\n",
       "    </tr>\n",
       "  </thead>\n",
       "  <tbody>\n",
       "    <tr>\n",
       "      <th>5</th>\n",
       "      <td>0</td>\n",
       "      <td>3</td>\n",
       "      <td>male</td>\n",
       "      <td>NaN</td>\n",
       "      <td>0</td>\n",
       "      <td>0</td>\n",
       "      <td>8.4583</td>\n",
       "      <td>Q</td>\n",
       "    </tr>\n",
       "    <tr>\n",
       "      <th>17</th>\n",
       "      <td>1</td>\n",
       "      <td>2</td>\n",
       "      <td>male</td>\n",
       "      <td>NaN</td>\n",
       "      <td>0</td>\n",
       "      <td>0</td>\n",
       "      <td>13.0000</td>\n",
       "      <td>S</td>\n",
       "    </tr>\n",
       "    <tr>\n",
       "      <th>19</th>\n",
       "      <td>1</td>\n",
       "      <td>3</td>\n",
       "      <td>female</td>\n",
       "      <td>NaN</td>\n",
       "      <td>0</td>\n",
       "      <td>0</td>\n",
       "      <td>7.2250</td>\n",
       "      <td>C</td>\n",
       "    </tr>\n",
       "    <tr>\n",
       "      <th>26</th>\n",
       "      <td>0</td>\n",
       "      <td>3</td>\n",
       "      <td>male</td>\n",
       "      <td>NaN</td>\n",
       "      <td>0</td>\n",
       "      <td>0</td>\n",
       "      <td>7.2250</td>\n",
       "      <td>C</td>\n",
       "    </tr>\n",
       "    <tr>\n",
       "      <th>28</th>\n",
       "      <td>1</td>\n",
       "      <td>3</td>\n",
       "      <td>female</td>\n",
       "      <td>NaN</td>\n",
       "      <td>0</td>\n",
       "      <td>0</td>\n",
       "      <td>7.8792</td>\n",
       "      <td>Q</td>\n",
       "    </tr>\n",
       "    <tr>\n",
       "      <th>...</th>\n",
       "      <td>...</td>\n",
       "      <td>...</td>\n",
       "      <td>...</td>\n",
       "      <td>...</td>\n",
       "      <td>...</td>\n",
       "      <td>...</td>\n",
       "      <td>...</td>\n",
       "      <td>...</td>\n",
       "    </tr>\n",
       "    <tr>\n",
       "      <th>859</th>\n",
       "      <td>0</td>\n",
       "      <td>3</td>\n",
       "      <td>male</td>\n",
       "      <td>NaN</td>\n",
       "      <td>0</td>\n",
       "      <td>0</td>\n",
       "      <td>7.2292</td>\n",
       "      <td>C</td>\n",
       "    </tr>\n",
       "    <tr>\n",
       "      <th>863</th>\n",
       "      <td>0</td>\n",
       "      <td>3</td>\n",
       "      <td>female</td>\n",
       "      <td>NaN</td>\n",
       "      <td>8</td>\n",
       "      <td>2</td>\n",
       "      <td>69.5500</td>\n",
       "      <td>S</td>\n",
       "    </tr>\n",
       "    <tr>\n",
       "      <th>868</th>\n",
       "      <td>0</td>\n",
       "      <td>3</td>\n",
       "      <td>male</td>\n",
       "      <td>NaN</td>\n",
       "      <td>0</td>\n",
       "      <td>0</td>\n",
       "      <td>9.5000</td>\n",
       "      <td>S</td>\n",
       "    </tr>\n",
       "    <tr>\n",
       "      <th>878</th>\n",
       "      <td>0</td>\n",
       "      <td>3</td>\n",
       "      <td>male</td>\n",
       "      <td>NaN</td>\n",
       "      <td>0</td>\n",
       "      <td>0</td>\n",
       "      <td>7.8958</td>\n",
       "      <td>S</td>\n",
       "    </tr>\n",
       "    <tr>\n",
       "      <th>888</th>\n",
       "      <td>0</td>\n",
       "      <td>3</td>\n",
       "      <td>female</td>\n",
       "      <td>NaN</td>\n",
       "      <td>1</td>\n",
       "      <td>2</td>\n",
       "      <td>23.4500</td>\n",
       "      <td>S</td>\n",
       "    </tr>\n",
       "  </tbody>\n",
       "</table>\n",
       "<p>179 rows × 8 columns</p>\n",
       "</div>"
      ],
      "text/plain": [
       "     survived  p_class     sex  age  sib_sp  parch     fare embarked\n",
       "5           0        3    male  NaN       0      0   8.4583        Q\n",
       "17          1        2    male  NaN       0      0  13.0000        S\n",
       "19          1        3  female  NaN       0      0   7.2250        C\n",
       "26          0        3    male  NaN       0      0   7.2250        C\n",
       "28          1        3  female  NaN       0      0   7.8792        Q\n",
       "..        ...      ...     ...  ...     ...    ...      ...      ...\n",
       "859         0        3    male  NaN       0      0   7.2292        C\n",
       "863         0        3  female  NaN       8      2  69.5500        S\n",
       "868         0        3    male  NaN       0      0   9.5000        S\n",
       "878         0        3    male  NaN       0      0   7.8958        S\n",
       "888         0        3  female  NaN       1      2  23.4500        S\n",
       "\n",
       "[179 rows x 8 columns]"
      ]
     },
     "execution_count": 11,
     "metadata": {},
     "output_type": "execute_result"
    }
   ],
   "source": [
    "df_train[df_train.isnull().any(axis=1)]\n"
   ]
  },
  {
   "cell_type": "markdown",
   "metadata": {
    "pycharm": {
     "name": "#%% md\n"
    }
   },
   "source": [
    "Quantify the exact number of missing values in the test set:"
   ]
  },
  {
   "cell_type": "code",
   "execution_count": 12,
   "metadata": {
    "pycharm": {
     "name": "#%%\n"
    }
   },
   "outputs": [
    {
     "data": {
      "text/plain": [
       "p_class      0\n",
       "sex          0\n",
       "age         86\n",
       "sib_sp       0\n",
       "parch        0\n",
       "fare         1\n",
       "embarked     0\n",
       "dtype: int64"
      ]
     },
     "execution_count": 12,
     "metadata": {},
     "output_type": "execute_result"
    }
   ],
   "source": [
    "# Check for null values for test data\n",
    "df_test.isnull().sum()\n"
   ]
  },
  {
   "cell_type": "markdown",
   "metadata": {
    "pycharm": {
     "name": "#%% md\n"
    }
   },
   "source": [
    "Consider a sample of missing values from the test set:"
   ]
  },
  {
   "cell_type": "code",
   "execution_count": 13,
   "metadata": {
    "pycharm": {
     "name": "#%%\n"
    }
   },
   "outputs": [
    {
     "data": {
      "text/html": [
       "<div>\n",
       "<style scoped>\n",
       "    .dataframe tbody tr th:only-of-type {\n",
       "        vertical-align: middle;\n",
       "    }\n",
       "\n",
       "    .dataframe tbody tr th {\n",
       "        vertical-align: top;\n",
       "    }\n",
       "\n",
       "    .dataframe thead th {\n",
       "        text-align: right;\n",
       "    }\n",
       "</style>\n",
       "<table border=\"1\" class=\"dataframe\">\n",
       "  <thead>\n",
       "    <tr style=\"text-align: right;\">\n",
       "      <th></th>\n",
       "      <th>p_class</th>\n",
       "      <th>sex</th>\n",
       "      <th>age</th>\n",
       "      <th>sib_sp</th>\n",
       "      <th>parch</th>\n",
       "      <th>fare</th>\n",
       "      <th>embarked</th>\n",
       "    </tr>\n",
       "  </thead>\n",
       "  <tbody>\n",
       "    <tr>\n",
       "      <th>10</th>\n",
       "      <td>3</td>\n",
       "      <td>male</td>\n",
       "      <td>NaN</td>\n",
       "      <td>0</td>\n",
       "      <td>0</td>\n",
       "      <td>7.8958</td>\n",
       "      <td>S</td>\n",
       "    </tr>\n",
       "    <tr>\n",
       "      <th>22</th>\n",
       "      <td>1</td>\n",
       "      <td>female</td>\n",
       "      <td>NaN</td>\n",
       "      <td>0</td>\n",
       "      <td>0</td>\n",
       "      <td>31.6833</td>\n",
       "      <td>S</td>\n",
       "    </tr>\n",
       "    <tr>\n",
       "      <th>29</th>\n",
       "      <td>3</td>\n",
       "      <td>male</td>\n",
       "      <td>NaN</td>\n",
       "      <td>2</td>\n",
       "      <td>0</td>\n",
       "      <td>21.6792</td>\n",
       "      <td>C</td>\n",
       "    </tr>\n",
       "    <tr>\n",
       "      <th>33</th>\n",
       "      <td>3</td>\n",
       "      <td>female</td>\n",
       "      <td>NaN</td>\n",
       "      <td>1</td>\n",
       "      <td>2</td>\n",
       "      <td>23.4500</td>\n",
       "      <td>S</td>\n",
       "    </tr>\n",
       "    <tr>\n",
       "      <th>36</th>\n",
       "      <td>3</td>\n",
       "      <td>female</td>\n",
       "      <td>NaN</td>\n",
       "      <td>0</td>\n",
       "      <td>0</td>\n",
       "      <td>8.0500</td>\n",
       "      <td>S</td>\n",
       "    </tr>\n",
       "    <tr>\n",
       "      <th>...</th>\n",
       "      <td>...</td>\n",
       "      <td>...</td>\n",
       "      <td>...</td>\n",
       "      <td>...</td>\n",
       "      <td>...</td>\n",
       "      <td>...</td>\n",
       "      <td>...</td>\n",
       "    </tr>\n",
       "    <tr>\n",
       "      <th>408</th>\n",
       "      <td>3</td>\n",
       "      <td>female</td>\n",
       "      <td>NaN</td>\n",
       "      <td>0</td>\n",
       "      <td>0</td>\n",
       "      <td>7.7208</td>\n",
       "      <td>Q</td>\n",
       "    </tr>\n",
       "    <tr>\n",
       "      <th>410</th>\n",
       "      <td>3</td>\n",
       "      <td>female</td>\n",
       "      <td>NaN</td>\n",
       "      <td>0</td>\n",
       "      <td>0</td>\n",
       "      <td>7.7500</td>\n",
       "      <td>Q</td>\n",
       "    </tr>\n",
       "    <tr>\n",
       "      <th>413</th>\n",
       "      <td>3</td>\n",
       "      <td>male</td>\n",
       "      <td>NaN</td>\n",
       "      <td>0</td>\n",
       "      <td>0</td>\n",
       "      <td>8.0500</td>\n",
       "      <td>S</td>\n",
       "    </tr>\n",
       "    <tr>\n",
       "      <th>416</th>\n",
       "      <td>3</td>\n",
       "      <td>male</td>\n",
       "      <td>NaN</td>\n",
       "      <td>0</td>\n",
       "      <td>0</td>\n",
       "      <td>8.0500</td>\n",
       "      <td>S</td>\n",
       "    </tr>\n",
       "    <tr>\n",
       "      <th>417</th>\n",
       "      <td>3</td>\n",
       "      <td>male</td>\n",
       "      <td>NaN</td>\n",
       "      <td>1</td>\n",
       "      <td>1</td>\n",
       "      <td>22.3583</td>\n",
       "      <td>C</td>\n",
       "    </tr>\n",
       "  </tbody>\n",
       "</table>\n",
       "<p>87 rows × 7 columns</p>\n",
       "</div>"
      ],
      "text/plain": [
       "     p_class     sex  age  sib_sp  parch     fare embarked\n",
       "10         3    male  NaN       0      0   7.8958        S\n",
       "22         1  female  NaN       0      0  31.6833        S\n",
       "29         3    male  NaN       2      0  21.6792        C\n",
       "33         3  female  NaN       1      2  23.4500        S\n",
       "36         3  female  NaN       0      0   8.0500        S\n",
       "..       ...     ...  ...     ...    ...      ...      ...\n",
       "408        3  female  NaN       0      0   7.7208        Q\n",
       "410        3  female  NaN       0      0   7.7500        Q\n",
       "413        3    male  NaN       0      0   8.0500        S\n",
       "416        3    male  NaN       0      0   8.0500        S\n",
       "417        3    male  NaN       1      1  22.3583        C\n",
       "\n",
       "[87 rows x 7 columns]"
      ]
     },
     "execution_count": 13,
     "metadata": {},
     "output_type": "execute_result"
    }
   ],
   "source": [
    "# Actual null values\n",
    "df_test[df_test.isnull().any(axis=1)]\n"
   ]
  },
  {
   "cell_type": "markdown",
   "metadata": {},
   "source": [
    "We observed 177 null values for <i>age</i> and 2 for <i>embarked</i> for <i>training data</i> and 86\n",
    "null values for <i>age</i> and 1 for <i>fare</i> for <i>testing data</i>.\n",
    "\n",
    "We will substitute missing values for <i>age</i> with the median values to allow for skewness or\n",
    "outliers in the distribution as it is a robust measure for central tendency. For <i>embarked</i> we\n",
    "will use the mode seeing as it is a categorical variable with few classes.\n",
    "\n",
    "The number of null values after missing values have been replaced in the training set is:"
   ]
  },
  {
   "cell_type": "code",
   "execution_count": 14,
   "metadata": {
    "pycharm": {
     "name": "#%%\n"
    }
   },
   "outputs": [
    {
     "name": "stdout",
     "output_type": "stream",
     "text": [
      "Number of null values in age column: 0\n",
      "Number of null values in embarked column: 0\n",
      "Dataframe dimension: (891, 8)\n"
     ]
    }
   ],
   "source": [
    "# Replace missing values for training set\n",
    "df_train = df_train.copy()\n",
    "median = df_train['age'].median()\n",
    "df_train['age'].fillna(median, inplace=True)\n",
    "print(\"Number of null values in age column: {}\".format(df_train['age'].isnull().sum()))\n",
    "\n",
    "mode = df_train['embarked'].mode()\n",
    "df_train['embarked'].fillna(mode.iloc[0], inplace=True)\n",
    "print(\"Number of null values in embarked column: {}\".format(df_train['embarked'].isnull().sum()))\n",
    "print(\"Dataframe dimension: {}\".format(df_train.shape))\n"
   ]
  },
  {
   "cell_type": "markdown",
   "metadata": {
    "pycharm": {
     "name": "#%% md\n"
    }
   },
   "source": [
    "The number of null values after missing values have been replaced in the test set is:"
   ]
  },
  {
   "cell_type": "code",
   "execution_count": 15,
   "metadata": {
    "pycharm": {
     "name": "#%%\n"
    }
   },
   "outputs": [
    {
     "name": "stdout",
     "output_type": "stream",
     "text": [
      "Number of null values in age column: 0\n",
      "Number of null values in fare column: 0\n",
      "Dataframe dimension: (418, 7)\n"
     ]
    }
   ],
   "source": [
    "# Replace missing values for test set\n",
    "df_test = df_test.copy()\n",
    "median = df_test['age'].median()\n",
    "df_test['age'].fillna(median, inplace=True)\n",
    "print(\"Number of null values in age column: {}\".format(df_test['age'].isnull().sum()))\n",
    "\n",
    "median = df_test['fare'].median()\n",
    "df_test['fare'].fillna(median, inplace=True)\n",
    "print(\"Number of null values in fare column: {}\".format(df_test['fare'].isnull().sum()))\n",
    "print(\"Dataframe dimension: {}\".format(df_test.shape))\n",
    "df_test = df_test.copy()"
   ]
  },
  {
   "cell_type": "markdown",
   "metadata": {},
   "source": [
    "We observe that the null values have been removed. We now have a dataset ready for further analysis -\n",
    "albeit a bit of a black box hack :) We will now do some very limited EDA just to get a feel for the data\n",
    "as previously discussed."
   ]
  },
  {
   "cell_type": "markdown",
   "metadata": {},
   "source": [
    "<div class=\"alert alert-block alert-info\">\n",
    "<b>Exploration of data</b>\n",
    "</div>"
   ]
  },
  {
   "cell_type": "markdown",
   "metadata": {},
   "source": [
    "We start by looking at the number of unique records per variable."
   ]
  },
  {
   "cell_type": "code",
   "execution_count": 16,
   "metadata": {
    "pycharm": {
     "name": "#%%\n"
    }
   },
   "outputs": [
    {
     "name": "stdout",
     "output_type": "stream",
     "text": [
      "survived      2\n",
      "p_class       3\n",
      "sex           2\n",
      "age          88\n",
      "sib_sp        7\n",
      "parch         7\n",
      "fare        248\n",
      "embarked      3\n",
      "dtype: int64\n"
     ]
    }
   ],
   "source": [
    "print(df_train.nunique())"
   ]
  },
  {
   "cell_type": "markdown",
   "metadata": {},
   "source": [
    "There are no columns with only one value. We therefore retain all columns for ML purposes as there is\n",
    "enough variability to warrant using the data. There are many variables with fewer than 10 levels which\n",
    "could be considered as categorical. Based on our initial assessment of the data we will work with\n",
    "levels of measurement for the data as follows:\n",
    "\n",
    "- p_class (ordinal) - we will revisit type of encoding later\n",
    "- sex (binary) - recode (female - yes or no)\n",
    "- age (continuous)\n",
    "- sib_sp (ordinal) - check correlation - revisit encoding\n",
    "- parch (ordinal) - check correlation - revisit encoding\n",
    "- fare (continuous)\n",
    "- embarked (nominal) - recode (one hot encode) - probably categorical\n",
    "\n",
    "At this point we have nominal and binary categorical data. We need to One Hot Encode one variable i.e.\n",
    "embarked as it is categorical and non-binary. We will leave the ordinal data as is for the initial\n",
    "analysis i.e. label encode it. Next we look at the distribution of the data.\n",
    "\n",
    "We start by separating continuous and categorical variables for further high level analysis before\n",
    "running our quick and dirty models."
   ]
  },
  {
   "cell_type": "code",
   "execution_count": 17,
   "metadata": {
    "pycharm": {
     "name": "#%%\n"
    }
   },
   "outputs": [],
   "source": [
    "# Separate continuous and categorical variables\n",
    "names_con = ('fare', 'age')\n",
    "names_con_plot = ('survived', 'fare', 'age')\n",
    "names_cat = ('survived', 'p_class', 'sex', 'sib_sp', 'parch', 'embarked')\n",
    "names_cat_test = ('p_class', 'sex', 'sib_sp', 'parch', 'embarked')\n",
    "\n",
    "df_train_con = df_train.loc[:, names_con]\n",
    "df_train_con_plot = df_train.loc[:, names_con_plot]\n",
    "df_train_cat = df_train.loc[:, names_cat]\n",
    "\n",
    "df_test_con = df_test.loc[:, names_con]\n",
    "df_test_cat = df_test.loc[:, names_cat_test]\n",
    "\n",
    "# Plotting label dictionary\n",
    "plot_con = [('fare', 'Fare'),\n",
    "            ('age', 'Age')]\n",
    "plot_con_plot = [('survived', 'Survived'),\n",
    "            ('fare', 'Fare'),\n",
    "            ('age', 'Age')]\n",
    "plot_cat = {'survived': ['Died', 'Survived'],\n",
    "            'p_class': ['3rd', '1st', '2nd'],\n",
    "            'sex': ['Male', 'Female'],\n",
    "            'sib_sp': ['0', '1', '2', '4', '3', '8', '5'],\n",
    "            'parch': ['0', '1', '2', '3', '5', '4', '6'],\n",
    "            'embarked': ['Southampton', 'Cherbourg', 'Queenstown']}\n",
    "plot_cat_plot = {'survived': 'Survival Rate',\n",
    "            'p_class': 'Passenger Class Travelled',\n",
    "            'sex': 'Gender',\n",
    "            'sib_sp': '# Siblings or spouses',\n",
    "            'parch': '# Parents or children',\n",
    "            'embarked': 'Port of Embarkation'}"
   ]
  },
  {
   "cell_type": "markdown",
   "metadata": {},
   "source": [
    "### High level overview\n"
   ]
  },
  {
   "cell_type": "markdown",
   "metadata": {
    "pycharm": {
     "name": "#%% md\n"
    }
   },
   "source": [
    "We observe that we have two candidates for continuous variables here (age and fare). With all the\n",
    "categorical variables present, it is likely that a tree model would be better suited to this problem\n",
    "unless significant feature engineering on categorical features is performed to ensure features are\n",
    "optimally encoded, transformed and scaled for a linear model or neural network.\n",
    "\n",
    "Let's continue with the high level analysis.\n",
    "\n",
    "The overall survival rate was as follows (based on the training dataset):"
   ]
  },
  {
   "cell_type": "code",
   "execution_count": 18,
   "metadata": {
    "pycharm": {
     "name": "#%%\n"
    }
   },
   "outputs": [
    {
     "data": {
      "image/png": "[encoded data removed]",
      "text/plain": [
       "<Figure size 432x288 with 1 Axes>"
      ]
     },
     "metadata": {
      "needs_background": "light"
     },
     "output_type": "display_data"
    }
   ],
   "source": [
    "_ = plt.figure()\n",
    "\n",
    "# Plot outcome counts.a\n",
    "outcome_counts = df_train_cat['survived'].value_counts(normalize = True)\n",
    "legend_labels = ['Died', 'Survived']\n",
    "\n",
    "# change the background bar colors to be light grey\n",
    "bars = plt.bar(outcome_counts.index, outcome_counts.values, align='center', linewidth=0,\n",
    "               color='lightslategrey')\n",
    "# make one bar, the survived bar, a contrasting color\n",
    "bars[1].set_color('#1F77B4')\n",
    "\n",
    "# soften all labels by turning grey\n",
    "_ = plt.xticks(outcome_counts.index, legend_labels, fontsize=15, alpha=0.8)\n",
    "_ = plt.title('Survival Rate', fontsize=15, pad=30, alpha=0.8)\n",
    "\n",
    "# remove all the ticks (both axes), and tick labels on the Y axis\n",
    "plt.tick_params(top=False, bottom=False, left=False, right=False, labelleft=False,\n",
    "                labelbottom=True)\n",
    "\n",
    "# Remove the frame - my method\n",
    "ax = plt.gca()\n",
    "ax.set_frame_on(False)\n",
    "\n",
    "# Remove the frame of the chart - instructor's method\n",
    "#for spine in plt.gca().spines.values():\n",
    "#    spine.set_visible(False)\n",
    "\n",
    "# direct label each bar with Y axis values\n",
    "for bar in bars:\n",
    "    _ = plt.gca().text(bar.get_x() + bar.get_width()/2, bar.get_height() - 0.05,\n",
    "                       str(round((bar.get_height()*100))) + '%', ha='center', color='w',\n",
    "                       fontsize=15)\n",
    "\n",
    "plt.show()"
   ]
  },
  {
   "cell_type": "markdown",
   "metadata": {
    "pycharm": {
     "name": "#%% md\n"
    }
   },
   "source": [
    "The survival statistics are as follows:\n"
   ]
  },
  {
   "cell_type": "code",
   "execution_count": 19,
   "metadata": {
    "pycharm": {
     "name": "#%%\n"
    }
   },
   "outputs": [
    {
     "name": "stdout",
     "output_type": "stream",
     "text": [
      "0    549\n",
      "1    342\n",
      "Name: survived, dtype: int64\n",
      "\n",
      "\n"
     ]
    }
   ],
   "source": [
    "print(df_train_cat['survived'].value_counts())\n",
    "print(\"\\n\")\n",
    "\n",
    "#print(df_train_cat['survived'].value_counts(normalize = True).mul(100).round(1).astype(str) + '%')\n",
    "#print(\"\\n\")\n",
    "#"
   ]
  },
  {
   "cell_type": "markdown",
   "metadata": {
    "pycharm": {
     "name": "#%% md\n"
    }
   },
   "source": [
    "We observe that 38% of passengers survived and 62% died. These statistics correspond with the narrative on survival\n",
    "rate quoted in the background information on Kaggle. There it is quoted that around 32% survived and 68% died. The\n",
    "sample we are working with is thus representative of the overall population, which is important to note.\n",
    "\n",
    "We observe that the target variable contains unbalanced classes. We need to consider revisiting the unbalanced\n",
    "classes at a later stage - depending on the accuracy of our models. For now, we will forge ahead.\n",
    "\n",
    "Next we will consider class level counts for categorical variables."
   ]
  },
  {
   "cell_type": "markdown",
   "metadata": {},
   "source": [
    "#### Categorical variable overview\n",
    "\n",
    "Class percentages:"
   ]
  },
  {
   "cell_type": "code",
   "execution_count": 20,
   "metadata": {
    "pycharm": {
     "name": "#%%\n"
    }
   },
   "outputs": [
    {
     "data": {
      "image/png": "[encoded data removed]",
      "text/plain": [
       "<Figure size 1440x1080 with 6 Axes>"
      ]
     },
     "metadata": {
      "needs_background": "light"
     },
     "output_type": "display_data"
    }
   ],
   "source": [
    "# Bar chart plot of categorical variables.\n",
    "fig, ax = plt.subplots(2, 3, figsize=(20, 15));\n",
    "base_color = '#1F77B4'\n",
    "for variable, subplot in zip(names_cat, ax.flatten()):\n",
    "    subplot.xaxis.label.set_size(24)\n",
    "    subplot.yaxis.label.set_size(24)\n",
    "    subplot.tick_params('y', labelsize = 20);\n",
    "    subplot.tick_params('x', labelsize = 20);\n",
    "    subplot.tick_params(top=False, bottom=False, left=False, right=False, labelleft=False,\n",
    "                        labelbottom=True)\n",
    "    subplot.set_frame_on(False)\n",
    "\n",
    "    outcome_counts = df_train_cat[variable].value_counts(normalize=True)\n",
    "    bars = subplot.bar(outcome_counts.index.sort_values(), outcome_counts.values, align='center',\n",
    "                       linewidth=0,\n",
    "               color='lightslategrey')\n",
    "    # make one bar, the highest value bar, a contrasting color\n",
    "    bars[0].set_color('#1F77B4')\n",
    "\n",
    "    plt.sca(subplot)\n",
    "    _ = plt.xticks(outcome_counts.index.sort_values(), plot_cat[variable], fontsize=15, alpha=0.8)\n",
    "    _ = plt.title(plot_cat_plot[variable], fontsize=15, pad=30, alpha=0.8)\n",
    "\n",
    "    # direct label each bar with Y axis values\n",
    "    for bar in bars:\n",
    "        _ = plt.gca().text(bar.get_x() + bar.get_width()/2, bar.get_height() - 0.05,\n",
    "                           str(round((bar.get_height()*100))) + '%', ha='center', color='w',\n",
    "                           fontsize=15)\n",
    "\n",
    "    plt.tight_layout()\n"
   ]
  },
  {
   "cell_type": "markdown",
   "metadata": {
    "pycharm": {
     "name": "#%% md\n"
    }
   },
   "source": [
    "Class counts:\n"
   ]
  },
  {
   "cell_type": "code",
   "execution_count": 21,
   "metadata": {
    "pycharm": {
     "name": "#%%\n"
    }
   },
   "outputs": [
    {
     "name": "stdout",
     "output_type": "stream",
     "text": [
      "0    549\n",
      "1    342\n",
      "Name: survived, dtype: int64\n",
      "\n",
      "\n",
      "3    491\n",
      "1    216\n",
      "2    184\n",
      "Name: p_class, dtype: int64\n",
      "\n",
      "\n",
      "male      577\n",
      "female    314\n",
      "Name: sex, dtype: int64\n",
      "\n",
      "\n",
      "0    608\n",
      "1    209\n",
      "2     28\n",
      "4     18\n",
      "3     16\n",
      "8      7\n",
      "5      5\n",
      "Name: sib_sp, dtype: int64\n",
      "\n",
      "\n",
      "0    678\n",
      "1    118\n",
      "2     80\n",
      "5      5\n",
      "3      5\n",
      "4      4\n",
      "6      1\n",
      "Name: parch, dtype: int64\n",
      "\n",
      "\n",
      "S    646\n",
      "C    168\n",
      "Q     77\n",
      "Name: embarked, dtype: int64\n",
      "\n",
      "\n"
     ]
    }
   ],
   "source": [
    "# Class level counts for categorical variables.\n",
    "for variable in names_cat:\n",
    "    #print(df_train_cat[variable].value_counts(normalize = True).mul(100).round(1).astype(str) +\n",
    "    # '%')\n",
    "    print(df_train_cat[variable].value_counts())\n",
    "    print(\"\\n\")"
   ]
  },
  {
   "cell_type": "markdown",
   "metadata": {
    "pycharm": {
     "name": "#%% md\n"
    }
   },
   "source": [
    "From the categorical variables we observe that there were approximately twice as many passengers in class 3 than either\n",
    "class 1 or 2. We also observe that there were nearly twice as many males as females on the Titanic. We also observe\n",
    "that more than two thirds of passengers did not have any siblings on board. Likewise we observe that more than two\n",
    "thirds did not have a father or child on board.\n",
    "\n",
    "It is therefore fair to say that the majority of passengers were either couples or single travellers without children\n",
    ". In the case where families did travel, the majority of families had one or two children. Very few families with\n",
    "more children were on board the Titanic.\n",
    "\n",
    "We also see that more than two thirds of passengers departed from Southampton.\n",
    "\n",
    "Many of these variables could contribute o correlation with survival at face value e.g. it stands to reason that\n",
    "preference would have been given in lifeboats to women and children, and that more affluent travellers would have had\n",
    "access to better lifeboats. We will however test these hypotheses in this analysis."
   ]
  },
  {
   "cell_type": "markdown",
   "metadata": {
    "pycharm": {
     "name": "#%% md\n"
    }
   },
   "source": [
    "#### Continuous variable overview\n",
    "\n",
    "We start by considering the age distribution of the passengers. At this point we do some limited\n",
    "EDA in that we will consider the age profiles of those who survived vs. those who died. As with\n",
    "many natural phenomena we expect age to have some influence on mortality."
   ]
  },
  {
   "cell_type": "code",
   "execution_count": 22,
   "metadata": {
    "pycharm": {
     "name": "#%%\n"
    }
   },
   "outputs": [
    {
     "data": {
      "image/png": "[encoded data removed]",
      "text/plain": [
       "<Figure size 720x432 with 1 Axes>"
      ]
     },
     "metadata": {
      "needs_background": "light"
     },
     "output_type": "display_data"
    }
   ],
   "source": [
    "fig_age, axes = plt.subplots(nrows=1, ncols=1, figsize=(10, 6), squeeze=False)\n",
    "\n",
    "_ = sns.kdeplot(data=df_train_con_plot.loc[(df_train_con_plot['survived'] == 0), 'age'], shade =\n",
    "True, label = 'Died')\n",
    "_ = sns.kdeplot(data=df_train_con_plot.loc[(df_train_con_plot['survived'] == 1), 'age'], shade =\n",
    "True, label = 'Survived')\n",
    "_ = plt.xlabel('Age', fontsize=20)\n",
    "_ = plt.ylabel('Density', fontsize=20)\n",
    "_ = plt.xticks(fontsize=20)\n",
    "_ = plt.yticks(fontsize=20)\n",
    "_ = plt.legend(fontsize=15)\n",
    "plt.show()\n"
   ]
  },
  {
   "cell_type": "markdown",
   "metadata": {
    "pycharm": {
     "name": "#%% md\n"
    }
   },
   "source": [
    "From the age distribution plot we can see that more children under the age of 15 survived than\n",
    "died in the incident. We can see that more individuals between the ages of 20 and 40 died than\n",
    "survived. We can also see that more individuals above the age of 80 survived compared to dying.\n",
    "\n",
    "We can also see that the majority of individuals on the cruise were between the ages of 20 to 40.\n",
    "There were fewer teenagers compared to children under 10. There were comparatively fewer elderly\n",
    "people on board i.e. above 60."
   ]
  },
  {
   "cell_type": "code",
   "execution_count": 23,
   "metadata": {
    "pycharm": {
     "name": "#%%\n"
    }
   },
   "outputs": [
    {
     "data": {
      "text/html": [
       "<div>\n",
       "<style scoped>\n",
       "    .dataframe tbody tr th:only-of-type {\n",
       "        vertical-align: middle;\n",
       "    }\n",
       "\n",
       "    .dataframe tbody tr th {\n",
       "        vertical-align: top;\n",
       "    }\n",
       "\n",
       "    .dataframe thead th {\n",
       "        text-align: right;\n",
       "    }\n",
       "</style>\n",
       "<table border=\"1\" class=\"dataframe\">\n",
       "  <thead>\n",
       "    <tr style=\"text-align: right;\">\n",
       "      <th></th>\n",
       "      <th>fare</th>\n",
       "      <th>age</th>\n",
       "    </tr>\n",
       "  </thead>\n",
       "  <tbody>\n",
       "    <tr>\n",
       "      <th>count</th>\n",
       "      <td>891.000000</td>\n",
       "      <td>891.000000</td>\n",
       "    </tr>\n",
       "    <tr>\n",
       "      <th>mean</th>\n",
       "      <td>32.204208</td>\n",
       "      <td>29.361582</td>\n",
       "    </tr>\n",
       "    <tr>\n",
       "      <th>std</th>\n",
       "      <td>49.693429</td>\n",
       "      <td>13.019697</td>\n",
       "    </tr>\n",
       "    <tr>\n",
       "      <th>min</th>\n",
       "      <td>0.000000</td>\n",
       "      <td>0.420000</td>\n",
       "    </tr>\n",
       "    <tr>\n",
       "      <th>25%</th>\n",
       "      <td>7.910400</td>\n",
       "      <td>22.000000</td>\n",
       "    </tr>\n",
       "    <tr>\n",
       "      <th>50%</th>\n",
       "      <td>14.454200</td>\n",
       "      <td>28.000000</td>\n",
       "    </tr>\n",
       "    <tr>\n",
       "      <th>75%</th>\n",
       "      <td>31.000000</td>\n",
       "      <td>35.000000</td>\n",
       "    </tr>\n",
       "    <tr>\n",
       "      <th>max</th>\n",
       "      <td>512.329200</td>\n",
       "      <td>80.000000</td>\n",
       "    </tr>\n",
       "  </tbody>\n",
       "</table>\n",
       "</div>"
      ],
      "text/plain": [
       "             fare         age\n",
       "count  891.000000  891.000000\n",
       "mean    32.204208   29.361582\n",
       "std     49.693429   13.019697\n",
       "min      0.000000    0.420000\n",
       "25%      7.910400   22.000000\n",
       "50%     14.454200   28.000000\n",
       "75%     31.000000   35.000000\n",
       "max    512.329200   80.000000"
      ]
     },
     "execution_count": 23,
     "metadata": {},
     "output_type": "execute_result"
    }
   ],
   "source": [
    "# 5 number summary.\n",
    "df_train_con.describe()\n"
   ]
  },
  {
   "cell_type": "markdown",
   "metadata": {
    "pycharm": {
     "name": "#%% md\n"
    }
   },
   "source": [
    "We now consider the fare distribution too. As with age, our assumption would be that fare has a\n",
    "correlation with mortality too.\n",
    "\n",
    "The fare distribution is severely skewed to the right. The kurtosis of the plot is very high with\n",
    " most values clustered closely around the median value of 14. There was a non-significant but\n",
    " relatively smaller number of fares spread between teh values of 30 and 500.\n",
    "\n",
    "The age distribution was as previously discussed, with a minimum of 6 months and maximum of 80\n",
    "years old. The distribution is fairly symmetrical with a slight skew to the right. There is a\n",
    "young child bump to the left of the distribution.\n",
    "\n",
    "We now do a more in depth visual analysis of the correlation between survival and fare and age\n",
    "respectively. We do this by creating a set of Violin plots."
   ]
  },
  {
   "cell_type": "code",
   "execution_count": 24,
   "metadata": {
    "pycharm": {
     "name": "#%%\n"
    }
   },
   "outputs": [
    {
     "data": {
      "image/png": "[encoded data removed]",
      "text/plain": [
       "<Figure size 1080x864 with 4 Axes>"
      ]
     },
     "metadata": {
      "needs_background": "light"
     },
     "output_type": "display_data"
    }
   ],
   "source": [
    "# Continuous density plot\n",
    "fig_continuous, axes = plt.subplots(nrows=len(names_con_plot)-1, ncols=2, figsize=(15, 12))\n",
    "\n",
    "# Plot frequency plot/ histogram\n",
    "_ = sns.histplot(x=plot_con[0][0], kde=True, data=df_train_con_plot, ax=axes[0][0], bins=40);\n",
    "_ = axes[0][0].set(xlabel=plot_con[0][1], ylabel='Density');\n",
    "axes[0][0].xaxis.label.set_size(24)\n",
    "axes[0][0].yaxis.label.set_size(24)\n",
    "axes[0][0].tick_params('y', labelsize = 20);\n",
    "axes[0][0].tick_params('x', labelsize = 20);\n",
    "\n",
    "# Plot violin plot\n",
    "_ = sns.violinplot(x='survived', y=plot_con[0][0], data=df_train_con_plot, ax=axes[0][1]);\n",
    "_ = axes[0][1].set(xlabel='', ylabel=plot_con[0][1]);\n",
    "axes[0][1].xaxis.label.set_size(24)\n",
    "axes[0][1].yaxis.label.set_size(24)\n",
    "axes[0][1].tick_params('y', labelsize = 20);\n",
    "axes[0][1].tick_params('x', labelsize = 20);\n",
    "_ = axes[0][1].set_xticklabels(['Died', 'Survived'])\n",
    "\n",
    "# Plot frequency plot/ histogram\n",
    "_ = sns.histplot(x=plot_con[1][0], kde=True, data=df_train_con_plot, ax=axes[1][0], bins=40);\n",
    "_ = axes[1][0].set(xlabel=plot_con[1][1], ylabel='Density');\n",
    "axes[1][0].xaxis.label.set_size(24)\n",
    "axes[1][0].yaxis.label.set_size(24)\n",
    "axes[1][0].tick_params('y', labelsize = 20);\n",
    "axes[1][0].tick_params('x', labelsize = 20);\n",
    "\n",
    "# Plot violin plot\n",
    "_ = sns.violinplot(x='survived', y=plot_con[1][0], data=df_train_con_plot, ax=axes[1][1]);\n",
    "_ = axes[1][1].set(ylabel=plot_con[1][1], xlabel='');\n",
    "axes[1][1].xaxis.label.set_size(24)\n",
    "axes[1][1].yaxis.label.set_size(24)\n",
    "axes[1][1].tick_params('y', labelsize = 20);\n",
    "axes[1][1].tick_params('x', labelsize = 20);\n",
    "_ = axes[1][1].set_xticklabels(['Died', 'Survived'])\n",
    "\n",
    "plt.tight_layout()\n",
    "\n"
   ]
  },
  {
   "cell_type": "markdown",
   "metadata": {
    "pycharm": {
     "name": "#%% md\n"
    }
   },
   "source": [
    "The violin plot for <i>fare</i> indicates that there is correlation between fare and survival as\n",
    "more people paying a low fare died and chances of survival increased for higher fares, as well as\n",
    " lower fares close to zero (possibly for children travelling at very low cost).\n",
    "\n",
    "The plot for <i>age</i> indicates a similar pattern with higher survival for children below 10\n",
    "and higher mortality between ages of 20 and 40. The relative likelihood of survival increases\n",
    "again around 40 years of age as you go into the older ages.\n",
    "\n",
    "We will investigate these observations in more detail in our next Notebook.\n",
    "\n",
    "Lastly we will look at the Box plots for both age and fare. We do this to get a better feel for\n",
    "the spread of the data and the possibility of outliers. This will be important for us to consider\n",
    " whether further analysis and possible processing of variables are required in later stages."
   ]
  },
  {
   "cell_type": "code",
   "execution_count": 25,
   "metadata": {
    "pycharm": {
     "name": "#%%\n"
    }
   },
   "outputs": [
    {
     "data": {
      "image/png": "[encoded data removed]",
      "text/plain": [
       "<Figure size 1440x576 with 2 Axes>"
      ]
     },
     "metadata": {
      "needs_background": "light"
     },
     "output_type": "display_data"
    }
   ],
   "source": [
    "# Boxplot of continuous variables\n",
    "medianprops = {'color': 'magenta', 'linewidth': 2}\n",
    "boxprops = {'color': 'black', 'linestyle': '-', 'linewidth': 2}\n",
    "whiskerprops = {'color': 'black', 'linestyle': '-', 'linewidth': 2}\n",
    "capprops = {'color': 'black', 'linestyle': '-', 'linewidth': 2}\n",
    "flierprops = {'color': 'black', 'marker': 'x', 'markersize': 20}\n",
    "\n",
    "_ = df_train_con.plot(kind='box', subplots=True, figsize=(20, 8), layout=(1,2), fontsize = 20,\n",
    "                      medianprops=medianprops, boxprops=boxprops, whiskerprops=whiskerprops,\n",
    "                      capprops=capprops, flierprops=flierprops);\n",
    "_ = plt.tight_layout();\n",
    "_ = plt.show();\n"
   ]
  },
  {
   "cell_type": "markdown",
   "metadata": {
    "pycharm": {
     "name": "#%% md\n"
    }
   },
   "source": [
    "The distributions of the <i>fare</i> and <i>age</i> variables show that fare is skewed heavily to\n",
    " the right, with the median skewed to the left of the distribution as expected. The values in the\n",
    "  final quintile are spread over wide area with quite a few outliers. This distribution is heavy\n",
    "  tailed, as can be expected of many financial distributions. We observe that there are zero\n",
    "  values, and there is a large peak in the bin containing zero. We will need to investigate this\n",
    "  group of travellers as they could be different from the general population. The heavy tail and\n",
    "  many outliers are also good candidates for further processing.\n",
    "\n",
    "The <i>age</i> distribution is fairly symmetrical, with a few outliers to the right, but nothing\n",
    "out of the ordinary. Most of the values are bundled symmetrically around the median of 28, which\n",
    "is quite a young age for the average traveller. The large spike in ages at this interval is also\n",
    "concerning and seems out of place. This will need to be further investigated."
   ]
  },
  {
   "cell_type": "markdown",
   "metadata": {},
   "source": [
    "<div class=\"alert alert-block alert-info\">\n",
    "<b>Transform variables</b>\n",
    "</div>"
   ]
  },
  {
   "cell_type": "markdown",
   "metadata": {},
   "source": [
    "We will now build the following models as previously discussed:\n",
    "\n",
    " 1. Logistic regression\n",
    " 2. Multi-layer Perceptron (MLP)\n",
    " 3. Decision Tree\n",
    " 4. Random Forest\n",
    "\n",
    "Our strategy is to build our own <i>validation strategy</i> based on the training set for which\n",
    "we have labels. We will do this by splitting this set into training and testing sets according to\n",
    "a 75%/ 25% split. Any hyper-parameter optimisation will be done by using <i>cross validation</i>\n",
    "on the 75% test set. The 25% testing set will be used for our final test before we apply the\n",
    "results to the provided test set for submission.\n",
    "\n",
    "We therefore now start by splitting the response and features for the training set as previously\n",
    "discussed.\n",
    "\n",
    "We will be using this dataset for all our models from here onwards. We also perform minor\n",
    "transformations such as encoding the <i>sex</i> variable for test and training sets. We also One\n",
    "Hot Encode the <i>embarked</i> variable. We drop one of the categories for embarked to avoid\n",
    "multi-collinearity (dummy variable trap)."
   ]
  },
  {
   "cell_type": "code",
   "execution_count": 26,
   "metadata": {
    "pycharm": {
     "name": "#%%\n"
    }
   },
   "outputs": [],
   "source": [
    "# Group response values to form binary response\n",
    "y = df_train.loc[:, 'survived']\n",
    "\n",
    "# Split data into features (X) and response (y)\n",
    "X = df_train.loc[:, ('p_class', 'sex', 'age', 'sib_sp', 'parch', 'fare', 'embarked')]\n",
    "df_test = df_test.loc[:, ('p_class', 'sex', 'age', 'sib_sp', 'parch', 'fare', 'embarked')]\n",
    "\n",
    "# Put the response y into an array\n",
    "y = np.ravel(y)\n",
    "\n",
    "# Transform sex variable\n",
    "X['sex'] = X['sex'].apply(lambda x: 1 if x == 'female' else 0)\n",
    "\n",
    "# Same transformation for test set.\n",
    "df_test['sex'] = df_test['sex'].apply(lambda x: 1 if x == 'female' else 0)\n",
    "\n",
    "# Transform embarked variable\n",
    "ohe = OneHotEncoder(categories='auto', drop='first')\n",
    "Xd = ohe.fit_transform(X.embarked.values.reshape(-1, 1)).toarray()\n",
    "df_ohe = pd.DataFrame(Xd, columns = ohe.get_feature_names())\n",
    "\n",
    "X = pd.concat([X.loc[:, ['p_class', 'sex', 'age', 'sib_sp', 'parch', 'fare']], df_ohe], axis=1)\n",
    "\n",
    "# Transform embarked variable for test set\n",
    "ohe2 = OneHotEncoder(categories='auto', drop='first')\n",
    "Xd2 = ohe2.fit_transform(df_test.embarked.values.reshape(-1, 1)).toarray()\n",
    "df_ohe2 = pd.DataFrame(Xd2, columns = ohe.get_feature_names())\n",
    "\n",
    "df_test = pd.concat([df_test.loc[:, ['p_class', 'sex', 'age', 'sib_sp', 'parch', 'fare']],\n",
    "                     df_ohe2], axis=1)"
   ]
  },
  {
   "cell_type": "markdown",
   "metadata": {
    "pycharm": {
     "name": "#%% md\n"
    }
   },
   "source": [
    "#### Split and scale the data"
   ]
  },
  {
   "cell_type": "markdown",
   "metadata": {
    "pycharm": {
     "name": "#%% md\n"
    }
   },
   "source": [
    "We now split the data into training and test sets according to a 75/ 25% split. We then scale the\n",
    " data by using the Standard Scaler to account for the differences between continuous and \n",
    " categorical variable scales of measurement. We will refine this process in our next Notebook. \n",
    " We also scale the final test set provided for submission of our results. "
   ]
  },
  {
   "cell_type": "code",
   "execution_count": 27,
   "metadata": {
    "pycharm": {
     "name": "#%%\n"
    }
   },
   "outputs": [],
   "source": [
    "X_train, X_test, y_train, y_test = train_test_split(X, y, random_state=0)\n",
    "#print('Percentage holdout data: {}%'.format(round(100*(len(X_test)/len(X)),0)))\n",
    "\n",
    "# Scale data\n",
    "scaler = StandardScaler()\n",
    "\n",
    "# Fit on training data set\n",
    "_ = scaler.fit(X_train)\n",
    "X_train = scaler.transform(X_train)\n",
    "\n",
    "# Apply to test data (training)\n",
    "X_test = scaler.transform(X_test)\n",
    "\n",
    "# Apply to final test data\n",
    "df_test = scaler.transform(df_test)\n"
   ]
  },
  {
   "cell_type": "markdown",
   "metadata": {},
   "source": [
    "<div class=\"alert alert-block alert-info\">\n",
    "<b>Build models</b>\n",
    "</div>"
   ]
  },
  {
   "cell_type": "markdown",
   "metadata": {},
   "source": [
    "We can now start building our first model, yay! We build and test a naive logistic regression \n",
    "model - without any transformations or optimisations.\n",
    "\n",
    "The objective is to ascertain the strength of association between features and responses on \n",
    "unprocessed data. "
   ]
  },
  {
   "cell_type": "markdown",
   "metadata": {},
   "source": [
    "#### Naive Logistic Regression"
   ]
  },
  {
   "cell_type": "code",
   "execution_count": 28,
   "metadata": {
    "pycharm": {
     "name": "#%%\n"
    }
   },
   "outputs": [
    {
     "name": "stdout",
     "output_type": "stream",
     "text": [
      "AUC: 0.8642086330935251\n"
     ]
    },
    {
     "data": {
      "image/png": "[encoded data removed]",
      "text/plain": [
       "<Figure size 720x576 with 1 Axes>"
      ]
     },
     "metadata": {
      "needs_background": "light"
     },
     "output_type": "display_data"
    }
   ],
   "source": [
    "# Initial model\n",
    "log_reg = LogisticRegression(max_iter=2000000, fit_intercept = False)\n",
    "\n",
    "# Probability scores for test set\n",
    "y_score_init = log_reg.fit(X_train, y_train).decision_function(X_test)\n",
    "\n",
    "# False positive Rate and true positive rate\n",
    "fpr_roc, tpr_roc, thresholds = roc_curve(y_test, y_score_init)\n",
    "\n",
    "plot_roc_curve(fpr = fpr_roc, tpr = tpr_roc)"
   ]
  },
  {
   "cell_type": "code",
   "execution_count": 29,
   "metadata": {
    "pycharm": {
     "name": "#%%\n"
    }
   },
   "outputs": [
    {
     "name": "stdout",
     "output_type": "stream",
     "text": [
      "Normalized confusion matrix\n",
      "\n",
      "accuracy:\t\t\t0.77  \n",
      "precision:\t\t\t0.832 \n",
      "sensitivity:\t\t\t0.677\n",
      "\n",
      "specificity:\t\t\t0.863 \n",
      "negative predictive value:\t0.727\n",
      "\n",
      "false positive rate:\t\t0.137  \n",
      "false negative rate:\t\t0.323 \n",
      "false discovery rate:\t\t0.168\n"
     ]
    },
    {
     "data": {
      "image/png": "[encoded data removed]",
      "text/plain": [
       "<Figure size 432x432 with 2 Axes>"
      ]
     },
     "metadata": {
      "needs_background": "light"
     },
     "output_type": "display_data"
    }
   ],
   "source": [
    "y_pred = log_reg.predict(X_test)\n",
    "# Accuracy before model parameter optimisation\n",
    "cnf_matrix = confusion_matrix(y_pred, y_test)\n",
    "plot_confusion_matrix(cnf_matrix, classes=[0,1], normalize=True)"
   ]
  },
  {
   "cell_type": "markdown",
   "metadata": {},
   "source": [
    "As can be seen from the accuracy measurements the baseline model performs exceptionally well. A\n",
    "C-statistic (Area Under the Curve - AUC) of 86% on data that has only been scaled without any\n",
    "transformation is an excellent result.\n",
    "\n",
    "This result is somewhat surprising given our high level EDA outcomes which showed only slight\n",
    "correlation between age and fare and survival rate.\n",
    "\n",
    "Based on this result it is evident that there must be stronger correlation for at least a few of\n",
    "the categorical variables. Our more in-depth analysis will hopefully shed more light on this!\n",
    "\n",
    "The model has a precision of 83% which is high. At a given threshold the ability to correctly\n",
    "predict sub-population survival rates would in all likelihood be very good for this model.\n",
    "\n",
    "The sensitivity of 68% is not very high, but is to be expected for this type of problem. Out of\n",
    "the entire population 32% of survivors will not be identified. For some applications this might\n",
    "be problematic.\n",
    "\n",
    "We will now investigate correlation amongst the predictors further, but first, we will build a\n",
    "few more models to further investigate the raw strength of signal in the data.\n",
    "\n",
    "Next we build a simple Multi Layer Perceptron using scikit-learn to see if it does any better\n",
    "than the Logistic Regression."
   ]
  },
  {
   "cell_type": "markdown",
   "metadata": {
    "pycharm": {
     "name": "#%% md\n"
    }
   },
   "source": [
    "#### Naive MLP"
   ]
  },
  {
   "cell_type": "code",
   "execution_count": 30,
   "metadata": {
    "pycharm": {
     "name": "#%%\n"
    }
   },
   "outputs": [
    {
     "name": "stdout",
     "output_type": "stream",
     "text": [
      "Accuracy Score: 0.81614\n",
      "AUC: 0.7936365193559438\n",
      "Normalized confusion matrix\n",
      "\n",
      "accuracy:\t\t\t0.809  \n",
      "precision:\t\t\t0.823 \n",
      "sensitivity:\t\t\t0.787\n",
      "\n",
      "specificity:\t\t\t0.831 \n",
      "negative predictive value:\t0.796\n",
      "\n",
      "false positive rate:\t\t0.169  \n",
      "false negative rate:\t\t0.213 \n",
      "false discovery rate:\t\t0.177\n"
     ]
    },
    {
     "data": {
      "image/png": "[encoded data removed]",
      "text/plain": [
       "<Figure size 720x576 with 1 Axes>"
      ]
     },
     "metadata": {
      "needs_background": "light"
     },
     "output_type": "display_data"
    },
    {
     "data": {
      "image/png": "[encoded data removed]",
      "text/plain": [
       "<Figure size 432x432 with 2 Axes>"
      ]
     },
     "metadata": {
      "needs_background": "light"
     },
     "output_type": "display_data"
    }
   ],
   "source": [
    "# Fit and check MSE before regularisation\n",
    "mlp_reg = MLPClassifier(max_iter=50000, solver=\"adam\", activation=\"tanh\", hidden_layer_sizes=(5, 5),\n",
    "                    random_state=1)\n",
    "mlp_reg = mlp_reg.fit(X_train, y_train)\n",
    "\n",
    "# Predict\n",
    "y_pred = mlp_reg.predict(X_test)\n",
    "\n",
    "# Accuracy before model parameter optimisation\n",
    "print (\"Accuracy Score: %0.5f\" % accuracy_score(y_pred,y_test))\n",
    "\n",
    "# False positive Rate and true positive rate\n",
    "fpr_roc, tpr_roc, thresholds = roc_curve(y_test, y_pred)\n",
    "\n",
    "plot_roc_curve(fpr = fpr_roc, tpr = tpr_roc)\n",
    "\n",
    "# Accuracy before model parameter optimisation\n",
    "cnf_matrix = confusion_matrix(y_pred, y_test)\n",
    "plot_confusion_matrix(cnf_matrix, classes=[0,1], normalize=True)"
   ]
  },
  {
   "cell_type": "markdown",
   "metadata": {},
   "source": [
    "The naive MLP has an accuracy score of 82% which is higher than the accuracy of the Logistic\n",
    "Regression of 77%.\n",
    "\n",
    "The C-Statistic is however lower, which is surprising. Care should be taken when comparing this\n",
    "ROC curve to the Logistic Regression one as the X-axis scale is not standardised - another TODO\n",
    "for later.\n",
    "\n",
    "The accuracy for the MLP improves much faster at first, but then all of a sudden plateaus and\n",
    "increases much slower, which is also odd. We will have to investigate this further.\n",
    "\n",
    "We now see if further optimisation of the NN architecture can result in higher scores.\n",
    "\n",
    "We will experiment with different numbers of hidden layers and nodes per layer to obtain an\n",
    "optimal configuration. As previously discussed we use cross validation to simulate \"out of set\"\n",
    "characteristics for the dataset."
   ]
  },
  {
   "cell_type": "code",
   "execution_count": 31,
   "metadata": {
    "pycharm": {
     "name": "#%%\n"
    }
   },
   "outputs": [
    {
     "name": "stdout",
     "output_type": "stream",
     "text": [
      "Nodes |Validation\n",
      "      | score\n",
      "(2, 2) : 0.80689\n",
      "(2, 3) : 0.75000\n",
      "(2, 4) : 0.79790\n",
      "(2, 5) : 0.82186\n",
      "(3, 2) : 0.78593\n",
      "(3, 3) : 0.77246\n",
      "(3, 4) : 0.79341\n",
      "(3, 5) : 0.79042\n",
      "(4, 2) : 0.79790\n",
      "(4, 3) : 0.80988\n",
      "(4, 4) : 0.80240\n",
      "(4, 5) : 0.80539\n",
      "(5, 2) : 0.79192\n",
      "(5, 3) : 0.76796\n",
      "(5, 4) : 0.80389\n",
      "(5, 5) : 0.79790\n"
     ]
    }
   ],
   "source": [
    "# Optimise numbers of nodes on both layers\n",
    "validation_scores = {}\n",
    "print(\"Nodes |Validation\")\n",
    "print(\"      | score\")\n",
    "\n",
    "for hidden_layer_size in [(i,j) for i in range(2,6) for j in range(2,6)]:\n",
    "\n",
    "    reg = MLPClassifier(max_iter=1000000, hidden_layer_sizes=hidden_layer_size, random_state=1)\n",
    "\n",
    "    score = cross_val_score(estimator=reg, X=X_train, y=y_train, cv=2)\n",
    "    validation_scores[hidden_layer_size] = score.mean()\n",
    "    print(hidden_layer_size, \": %0.5f\" % validation_scores[hidden_layer_size])"
   ]
  },
  {
   "cell_type": "code",
   "execution_count": 32,
   "metadata": {
    "pycharm": {
     "name": "#%%\n"
    }
   },
   "outputs": [
    {
     "name": "stdout",
     "output_type": "stream",
     "text": [
      "The highest validation score is: 0.8219\n",
      "This corresponds to nodes (2, 5)\n"
     ]
    }
   ],
   "source": [
    "# Check scores\n",
    "print(\"The highest validation score is: %0.4f\" % max(validation_scores.values()))\n",
    "optimal_hidden_layer_size = [name for name, score in validation_scores.items()\n",
    "                              if score==max(validation_scores.values())][0]\n",
    "print(\"This corresponds to nodes\", optimal_hidden_layer_size )\n"
   ]
  },
  {
   "cell_type": "markdown",
   "metadata": {
    "pycharm": {
     "name": "#%% md\n"
    }
   },
   "source": [
    "Now we optimise the neural network regularisation parameter."
   ]
  },
  {
   "cell_type": "code",
   "execution_count": 33,
   "metadata": {
    "pycharm": {
     "name": "#%%\n"
    }
   },
   "outputs": [
    {
     "name": "stdout",
     "output_type": "stream",
     "text": [
      " alpha  |  Accuracy\n",
      "0.13534 |  0.7964071856287425\n",
      "0.22313 |  0.7964071856287425\n",
      "0.36788 |  0.7934131736526946\n",
      "0.60653 |  0.7964071856287425\n",
      "1.00000 |  0.7919161676646707\n",
      "1.64872 |  0.7964071856287425\n",
      "2.71828 |  0.7934131736526946\n",
      "4.48169 |  0.7994011976047904\n",
      "7.38906 |  0.8083832335329342\n",
      "12.18249 |  0.8023952095808383\n",
      "20.08554 |  0.6137724550898204\n",
      "33.11545 |  0.6137724550898204\n"
     ]
    },
    {
     "data": {
      "image/png": "[encoded data removed]",
      "text/plain": [
       "<Figure size 432x288 with 1 Axes>"
      ]
     },
     "metadata": {
      "needs_background": "light"
     },
     "output_type": "display_data"
    }
   ],
   "source": [
    "# Select range over which to find regularisation parameter - exponential used for even\n",
    "# distribution of values\n",
    "reg_par = [np.e**n for n in np.arange(-2,4,0.5)]\n",
    "\n",
    "validation_scores = {}\n",
    "print(\" alpha  |  Accuracy\")\n",
    "for param in reg_par:\n",
    "    reg = MLPClassifier(max_iter=1000000, solver=\"adam\", activation=\"tanh\",\n",
    "                        hidden_layer_sizes=optimal_hidden_layer_size, alpha=param, random_state=1)\n",
    "    score = cross_val_score(estimator=reg, X=X_train, y=y_train, cv=2, scoring=\"accuracy\")\n",
    "    validation_scores[param] = score.mean()\n",
    "    print(\"%0.5f |  %s\" % (param, score.mean()))\n",
    "\n",
    "# Plot the accuracy function against regularisation parameter\n",
    "plt.plot([np.log(i) for i in validation_scores.keys()], list(validation_scores.values()));\n",
    "plt.xlabel(\"Ln of alpha\");\n",
    "plt.ylabel(\"Accuracy\");"
   ]
  },
  {
   "cell_type": "markdown",
   "metadata": {},
   "source": [
    "The highest cross-validation accuracy score and hence the value to use for the `alpha` parameter\n",
    "is as follows."
   ]
  },
  {
   "cell_type": "code",
   "execution_count": 34,
   "metadata": {
    "pycharm": {
     "name": "#%%\n"
    }
   },
   "outputs": [
    {
     "name": "stdout",
     "output_type": "stream",
     "text": [
      "The highest accuracy score is: 0.8083832335329342\n",
      "This corresponds to regularisation parameter e**2.0\n"
     ]
    }
   ],
   "source": [
    "max_score = ([np.log(name) for name, score in validation_scores.items() if score==max\n",
    "(validation_scores.values())][0])\n",
    "# Find lowest value.\n",
    "print(\"The highest accuracy score is: %s\" % (max(validation_scores.values())))\n",
    "print(\"This corresponds to regularisation parameter e**%s\" % max_score)"
   ]
  },
  {
   "cell_type": "markdown",
   "metadata": {},
   "source": [
    "#### MSE after regularisation"
   ]
  },
  {
   "cell_type": "code",
   "execution_count": 35,
   "metadata": {
    "pycharm": {
     "name": "#%%\n"
    }
   },
   "outputs": [
    {
     "data": {
      "text/plain": [
       "MLPClassifier(activation='tanh', alpha=7.3890560989306495, batch_size='auto',\n",
       "              beta_1=0.9, beta_2=0.999, early_stopping=False, epsilon=1e-08,\n",
       "              hidden_layer_sizes=(2, 5), learning_rate='constant',\n",
       "              learning_rate_init=0.001, max_fun=15000, max_iter=1000000,\n",
       "              momentum=0.9, n_iter_no_change=10, nesterovs_momentum=True,\n",
       "              power_t=0.5, random_state=1, shuffle=True, solver='adam',\n",
       "              tol=0.0001, validation_fraction=0.1, verbose=False,\n",
       "              warm_start=False)"
      ]
     },
     "execution_count": 35,
     "metadata": {},
     "output_type": "execute_result"
    },
    {
     "data": {
      "text/plain": [
       "0.7937219730941704"
      ]
     },
     "execution_count": 35,
     "metadata": {},
     "output_type": "execute_result"
    }
   ],
   "source": [
    "# Fit data with the best parameter\n",
    "mlp_reg_optim = MLPClassifier(max_iter=1000000, solver=\"adam\", activation=\"tanh\",\n",
    "                    hidden_layer_sizes=optimal_hidden_layer_size, alpha=np.e**(2), random_state=1)\n",
    "\n",
    "mlp_reg_optim.fit(X_train, y_train)\n",
    "\n",
    "# Predict\n",
    "y_pred = mlp_reg_optim.predict(X_test)\n",
    "\n",
    "# Accuracy after model parameter optimisation\n",
    "accuracy_score(y_pred,y_test)"
   ]
  },
  {
   "cell_type": "markdown",
   "metadata": {},
   "source": [
    "#### Accuracy analysis"
   ]
  },
  {
   "cell_type": "code",
   "execution_count": 36,
   "metadata": {
    "pycharm": {
     "name": "#%%\n"
    }
   },
   "outputs": [
    {
     "name": "stdout",
     "output_type": "stream",
     "text": [
      "AUC: 0.7709403905447071\n",
      "Normalized confusion matrix\n",
      "\n",
      "accuracy:\t\t\t0.783  \n",
      "precision:\t\t\t0.803 \n",
      "sensitivity:\t\t\t0.75\n",
      "\n",
      "specificity:\t\t\t0.816 \n",
      "negative predictive value:\t0.766\n",
      "\n",
      "false positive rate:\t\t0.184  \n",
      "false negative rate:\t\t0.25 \n",
      "false discovery rate:\t\t0.197\n"
     ]
    },
    {
     "data": {
      "image/png": "[encoded data removed]",
      "text/plain": [
       "<Figure size 720x576 with 1 Axes>"
      ]
     },
     "metadata": {
      "needs_background": "light"
     },
     "output_type": "display_data"
    },
    {
     "data": {
      "image/png": "[encoded data removed]",
      "text/plain": [
       "<Figure size 432x432 with 2 Axes>"
      ]
     },
     "metadata": {
      "needs_background": "light"
     },
     "output_type": "display_data"
    }
   ],
   "source": [
    "# False positive Rate and true positive rate\n",
    "fpr_roc, tpr_roc, thresholds = roc_curve(y_test, y_pred)\n",
    "plot_roc_curve(fpr = fpr_roc, tpr = tpr_roc)\n",
    "\n",
    "cnf_matrix = confusion_matrix(y_pred, y_test)\n",
    "plot_confusion_matrix(cnf_matrix, classes=[0,1], normalize=True)"
   ]
  },
  {
   "cell_type": "markdown",
   "metadata": {},
   "source": [
    "Well this is a bit disappointing. The accuracy drops to 78% from 81% after optimisation.\n",
    "This is however not uncommon when working with smaller datasets, and given that our parameter\n",
    "optmisation approach is very crude to say the least. The variance in the smaller datasets during\n",
    "cross validation is too large and causes fluctuations in the optimal hyper-parameters. In the\n",
    "next notebook will focus on more advanced hyperparameter optimisation approaches.\n",
    "\n",
    "This is however not a major issue as we can observe that improvements to accuracy for different\n",
    "architectures and regularisation parameters are marginal at best. We will continue with the\n",
    "parameters we found during cross-validation for the moments."
   ]
  },
  {
   "cell_type": "markdown",
   "metadata": {},
   "source": [
    "#### Naive Decision Tree\n",
    "\n",
    "We now build a naive Decision Tree to see it performs against the previous models. We also use\n",
    "the Decision Tree to calculate feature importance. This will provide us with a better feeling for\n",
    " strength of association between features and the response."
   ]
  },
  {
   "cell_type": "code",
   "execution_count": 37,
   "metadata": {
    "pycharm": {
     "name": "#%%\n"
    }
   },
   "outputs": [
    {
     "name": "stdout",
     "output_type": "stream",
     "text": [
      "7\n"
     ]
    },
    {
     "data": {
      "text/plain": [
       "DecisionTreeClassifier(ccp_alpha=0.0, class_weight=None, criterion='gini',\n",
       "                       max_depth=None, max_features=None, max_leaf_nodes=None,\n",
       "                       min_impurity_decrease=0.0, min_impurity_split=None,\n",
       "                       min_samples_leaf=7, min_samples_split=2,\n",
       "                       min_weight_fraction_leaf=0.0, presort='deprecated',\n",
       "                       random_state=0, splitter='best')"
      ]
     },
     "execution_count": 37,
     "metadata": {},
     "output_type": "execute_result"
    }
   ],
   "source": [
    "# Fit a Decision Tree to data\n",
    "samples = [sample for sample in range(1,30)]\n",
    "validation_scores = []\n",
    "for sample in samples:\n",
    "    classifier1 = DecisionTreeClassifier(random_state=1, min_samples_leaf=sample)\n",
    "    score = cross_val_score(estimator=classifier1, X=X_train, y=y_train, cv=5)\n",
    "    validation_scores.append(score.mean())\n",
    "\n",
    "# Obtain the minimum leaf samples with the highest validation score\n",
    "samples_optimum = samples[validation_scores.index(max(validation_scores))]\n",
    "print(samples_optimum)\n",
    "\n",
    "classifier2 = DecisionTreeClassifier(random_state=0, min_samples_leaf=samples_optimum)\n",
    "classifier2.fit(X_train, y_train)"
   ]
  },
  {
   "cell_type": "markdown",
   "metadata": {
    "pycharm": {
     "name": "#%% md\n"
    }
   },
   "source": [
    "Feature importances for the Decision Tree is as follows:"
   ]
  },
  {
   "cell_type": "code",
   "execution_count": 38,
   "metadata": {
    "pycharm": {
     "name": "#%%\n"
    }
   },
   "outputs": [
    {
     "name": "stdout",
     "output_type": "stream",
     "text": [
      "Feature:    p_class\tScore:\t0.13526\n",
      "Feature:        sex\tScore:\t0.49185\n",
      "Feature:        age\tScore:\t0.11971\n",
      "Feature:     sib_sp\tScore:\t0.07073\n",
      "Feature:      parch\tScore:\t0.00574\n",
      "Feature:       fare\tScore:\t0.15124\n",
      "Feature:       x0_Q\tScore:\t0.01817\n",
      "Feature:       x0_S\tScore:\t0.00729\n"
     ]
    },
    {
     "data": {
      "image/png": "[encoded data removed]",
      "text/plain": [
       "<Figure size 720x720 with 1 Axes>"
      ]
     },
     "metadata": {
      "needs_background": "light"
     },
     "output_type": "display_data"
    }
   ],
   "source": [
    "importances = np.array(classifier2.feature_importances_)\n",
    "feature_list = np.array(X.columns)\n",
    "\n",
    "# summarize feature importance\n",
    "for i,v in enumerate(importances):\n",
    "\tprint('Feature: %10s\\tScore:\\t%.5f' % (feature_list[i],v))\n",
    "# plot feature importance\n",
    "sorted_ID=np.array(np.argsort(importances)[::-1])\n",
    "plt.figure(figsize=[10,10])\n",
    "plt.xticks(rotation='vertical')\n",
    "_ = plt.bar(feature_list[sorted_ID], importances[sorted_ID]);\n",
    "plt.show();"
   ]
  },
  {
   "cell_type": "markdown",
   "metadata": {
    "pycharm": {
     "name": "#%% md\n"
    }
   },
   "source": [
    "According to these results sex is by far the most important feature, followed by fare and\n",
    "passenger class.\n",
    "These observations all make perfect sense, but we will investigate thus further in the next\n",
    "Notebook."
   ]
  },
  {
   "cell_type": "markdown",
   "metadata": {},
   "source": [
    "#### Accuracy analysis"
   ]
  },
  {
   "cell_type": "code",
   "execution_count": 39,
   "metadata": {
    "pycharm": {
     "name": "#%%\n"
    }
   },
   "outputs": [
    {
     "name": "stdout",
     "output_type": "stream",
     "text": [
      "AUC: 0.7709403905447071\n",
      "Normalized confusion matrix\n",
      "\n",
      "accuracy:\t\t\t0.783  \n",
      "precision:\t\t\t0.803 \n",
      "sensitivity:\t\t\t0.75\n",
      "\n",
      "specificity:\t\t\t0.816 \n",
      "negative predictive value:\t0.766\n",
      "\n",
      "false positive rate:\t\t0.184  \n",
      "false negative rate:\t\t0.25 \n",
      "false discovery rate:\t\t0.197\n"
     ]
    },
    {
     "data": {
      "image/png": "[encoded data removed]",
      "text/plain": [
       "<Figure size 720x576 with 1 Axes>"
      ]
     },
     "metadata": {
      "needs_background": "light"
     },
     "output_type": "display_data"
    },
    {
     "data": {
      "image/png": "[encoded data removed]",
      "text/plain": [
       "<Figure size 432x432 with 2 Axes>"
      ]
     },
     "metadata": {
      "needs_background": "light"
     },
     "output_type": "display_data"
    }
   ],
   "source": [
    "# False positive Rate and true positive rate\n",
    "fpr_roc, tpr_roc, thresholds = roc_curve(y_test, y_pred)\n",
    "plot_roc_curve(fpr = fpr_roc, tpr = tpr_roc)\n",
    "\n",
    "cnf_matrix = confusion_matrix(y_pred, y_test)\n",
    "plot_confusion_matrix(cnf_matrix, classes=[0,1], normalize=True)\n"
   ]
  },
  {
   "cell_type": "markdown",
   "metadata": {
    "pycharm": {
     "name": "#%% md\n"
    }
   },
   "source": [
    "We have ballpark similar accuracies for the Decision Tree as for the previous two models.\n"
   ]
  },
  {
   "cell_type": "markdown",
   "metadata": {},
   "source": [
    "#### Naive Random Forest\n",
    "Now we build a Random Forest and see what happens!"
   ]
  },
  {
   "cell_type": "code",
   "execution_count": 40,
   "metadata": {
    "pycharm": {
     "name": "#%%\n"
    }
   },
   "outputs": [
    {
     "data": {
      "text/plain": [
       "RandomForestClassifier(bootstrap=True, ccp_alpha=0.0, class_weight=None,\n",
       "                       criterion='gini', max_depth=None, max_features='auto',\n",
       "                       max_leaf_nodes=None, max_samples=None,\n",
       "                       min_impurity_decrease=0.0, min_impurity_split=None,\n",
       "                       min_samples_leaf=1, min_samples_split=2,\n",
       "                       min_weight_fraction_leaf=0.0, n_estimators=100,\n",
       "                       n_jobs=None, oob_score=False, random_state=0, verbose=0,\n",
       "                       warm_start=False)"
      ]
     },
     "execution_count": 40,
     "metadata": {},
     "output_type": "execute_result"
    },
    {
     "data": {
      "text/plain": [
       "0.8385650224215246"
      ]
     },
     "execution_count": 40,
     "metadata": {},
     "output_type": "execute_result"
    }
   ],
   "source": [
    "rand_forest = RandomForestClassifier(criterion= 'gini', random_state=0)\n",
    "rand_forest.fit(X_train, y_train)\n",
    "\n",
    "# Probability scores for test set\n",
    "y_pred = rand_forest.predict(X_test)\n",
    "\n",
    "accuracy_score(y_pred,y_test)"
   ]
  },
  {
   "cell_type": "code",
   "execution_count": 41,
   "metadata": {
    "pycharm": {
     "name": "#%%\n"
    }
   },
   "outputs": [],
   "source": [
    "# Final prediction - MLP\n",
    "#y_pred = mlp_reg_optim.predict(df_test)\n",
    "\n",
    "# Final prediction - Random Forest\n",
    "#y_pred = rand_forest.predict(X_test)"
   ]
  },
  {
   "cell_type": "markdown",
   "metadata": {},
   "source": [
    "#### Accuracy analysis"
   ]
  },
  {
   "cell_type": "code",
   "execution_count": 42,
   "metadata": {
    "pycharm": {
     "name": "#%%\n"
    }
   },
   "outputs": [
    {
     "name": "stdout",
     "output_type": "stream",
     "text": [
      "AUC: 0.8186879068174032\n",
      "Normalized confusion matrix\n",
      "\n",
      "accuracy:\t\t\t0.833  \n",
      "precision:\t\t\t0.845 \n",
      "sensitivity:\t\t\t0.816\n",
      "\n",
      "specificity:\t\t\t0.85 \n",
      "negative predictive value:\t0.822\n",
      "\n",
      "false positive rate:\t\t0.15  \n",
      "false negative rate:\t\t0.184 \n",
      "false discovery rate:\t\t0.155\n"
     ]
    },
    {
     "data": {
      "image/png": "[encoded data removed]",
      "text/plain": [
       "<Figure size 720x576 with 1 Axes>"
      ]
     },
     "metadata": {
      "needs_background": "light"
     },
     "output_type": "display_data"
    },
    {
     "data": {
      "image/png": "[encoded data removed]",
      "text/plain": [
       "<Figure size 432x432 with 2 Axes>"
      ]
     },
     "metadata": {
      "needs_background": "light"
     },
     "output_type": "display_data"
    }
   ],
   "source": [
    "# False positive Rate and true positive rate\n",
    "fpr_roc, tpr_roc, thresholds = roc_curve(y_test, y_pred)\n",
    "plot_roc_curve(fpr = fpr_roc, tpr = tpr_roc)\n",
    "\n",
    "cnf_matrix = confusion_matrix(y_pred, y_test)\n",
    "plot_confusion_matrix(cnf_matrix, classes=[0,1], normalize=True)\n",
    "\n"
   ]
  },
  {
   "cell_type": "markdown",
   "metadata": {
    "pycharm": {
     "name": "#%% md\n"
    }
   },
   "source": [
    "This looks pretty promising. In the same ballpark as the Logistic Regression. More accurate than\n",
    "the Decision Tree. Will be interesting to see what the feature importances look like! We will\n",
    "look at that in our next Notebook."
   ]
  },
  {
   "cell_type": "markdown",
   "metadata": {},
   "source": [
    "<div class=\"alert alert-block alert-info\">\n",
    "<b>Conclusion</b>\n",
    "</div>\n"
   ]
  },
  {
   "cell_type": "markdown",
   "metadata": {
    "pycharm": {
     "name": "#%% md\n"
    }
   },
   "source": [
    "We can conclude that there is a strong signal in the data with regards to correlation with\n",
    "survival rate. Counter-intuitively, the Logistic Regression proved to be the best model scoring\n",
    "approximately 86% for the C-Statistic. The Random Forest classifier is second with 84% for the\n",
    "C-Statistic. We would have expected the Random Forest to outperform the Logistic Regression given\n",
    " all the categorical variables. The strong correlation between age, fare and survival probably\n",
    " outweighed the categorical variable influence on survival rate. We expect the Random\n",
    " Forest to improve once we add names and cabins back into the mix. Also, in the name of speed we\n",
    " used scaled values for the Random Forest and it might do better on the original data. We will\n",
    " need to test this in the next notebook.\n",
    "\n",
    "All in all, this was an insightful analysis. We found that the few variables we have are very\n",
    "strong predictors for survival. In a real world setting further analysis is probably not\n",
    "necessary, as the gains from over-engineering variables for a model which does not have much\n",
    "practical value is probably not worthwhile.\n",
    "\n",
    "This is however an educational exercise and hence we will go ahead and try to squeeze more\n",
    "accuracy and insight out of the remaining variables. Focusing more on the insight than accuracy,\n",
    "as at this point the model is probably accurate enough for any practical application that might\n",
    "exist (which there obviously doesn't!).\n",
    "\n",
    "For submission to Kaggle we chose the optimised (regularised) MLP, as Kaggle assesses performance\n",
    " based on overall <i>accuracy</i>, not the C-Statistic. This is a crude measure but\n",
    " understandably the easiest way to assess performance when clear model objectives do not exist.\n",
    " The MLP scored best on <i>accuracy</i> according to the Kaggle validator. It obtained an 0.78 on\n",
    " the test set when submitted to the leaderboard, which is in the top 24% and corresponds more or\n",
    " less with our validation scores, so looks sensible! Not bad for a model with absolutely no\n",
    " fine-tuning.\n",
    "\n",
    "Interestingly the MLP score of 0.78 was lower than the non-optimised one for accuracy during our\n",
    "validation i.e. 0.78 vs 0.81. This clearly shows that overfitting is an issue on this very small\n",
    "dataset. We need to be aware of this. Interesting however that the MLP outperformed the Logistic\n",
    "Regression, which also means that there are probably more complex interactions in the features\n",
    "that we need to understand better (which the Logistic Regression cannot pick up by itself).\n",
    "\n",
    "Let us see if we can improve on this!\n",
    "\n",
    "On to the next notebook!"
   ]
  },
  {
   "cell_type": "code",
   "execution_count": 43,
   "metadata": {
    "pycharm": {
     "name": "#%%\n"
    }
   },
   "outputs": [],
   "source": [
    "# Gender submission - Score: 0.77\n",
    "\n",
    "# Final prediction - Random Forest - Score: 0.76\n",
    "y_pred = rand_forest.predict(df_test)\n",
    "\n",
    "#Prepare submission code\n",
    "my_submission = pd.DataFrame({'PassengerId': df_orig.passenger_id, 'Survived': y_pred})\n",
    "# you could use any filename. We choose submission here\n",
    "my_submission.to_csv('submission_rand_forest.csv', index=False)\n",
    "\n",
    "# Final prediction - MLP (optimised) - Score: 0.78\n",
    "y_pred = mlp_reg_optim.predict(df_test)\n",
    "\n",
    "#Prepare submission code\n",
    "my_submission = pd.DataFrame({'PassengerId': df_orig.passenger_id, 'Survived': y_pred})\n",
    "# you could use any filename. We choose submission here\n",
    "my_submission.to_csv('submission_mlp_optim.csv', index=False)\n",
    "\n",
    "# TODO: Final prediction - MLP (non-optimised) - Score: 0.77\n",
    "y_pred = mlp_reg.predict(df_test)\n",
    "\n",
    "#Prepare submission code\n",
    "my_submission = pd.DataFrame({'PassengerId': df_orig.passenger_id, 'Survived': y_pred})\n",
    "# you could use any filename. We choose submission here\n",
    "my_submission.to_csv('submission_mlp.csv', index=False)\n",
    "\n",
    "# Final prediction - Logistic Regression - Score: 0.74\n",
    "y_pred = log_reg.predict(df_test)\n",
    "\n",
    "#Prepare submission code\n",
    "my_submission = pd.DataFrame({'PassengerId': df_orig.passenger_id, 'Survived': y_pred})\n",
    "# you could use any filename. We choose submission here\n",
    "my_submission.to_csv('submission_logreg.csv', index=False)\n",
    "\n",
    "# Final prediction - Decision Tree - Score: 0.77\n",
    "y_pred = classifier2.predict(df_test)\n",
    "\n",
    "#Prepare submission code\n",
    "my_submission = pd.DataFrame({'PassengerId': df_orig.passenger_id, 'Survived': y_pred})\n",
    "# you could use any filename. We choose submission here\n",
    "my_submission.to_csv('submission_dec_tree.csv', index=False)\n"
   ]
  }
 ],
 "metadata": {
  "kernelspec": {
   "display_name": "PyCharm (kaggle_01_titanic)",
   "language": "python",
   "name": "pycharm-23af598f"
  },
  "language_info": {
   "codemirror_mode": {
    "name": "ipython",
    "version": 3
   },
   "file_extension": ".py",
   "mimetype": "text/x-python",
   "name": "python",
   "nbconvert_exporter": "python",
   "pygments_lexer": "ipython3",
   "version": "3.8.1"
  }
 },
 "nbformat": 4,
 "nbformat_minor": 1
}