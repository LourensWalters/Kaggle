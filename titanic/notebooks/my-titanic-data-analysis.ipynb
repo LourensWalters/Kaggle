{
 "cells": [
  {
   "cell_type": "markdown",
   "id": "synthetic-chrome",
   "metadata": {
    "papermill": {
     "duration": 0.062102,
     "end_time": "2021-06-02T14:37:39.309364",
     "exception": false,
     "start_time": "2021-06-02T14:37:39.247262",
     "status": "completed"
    },
    "tags": []
   },
   "source": [
    "# Content"
   ]
  },
  {
   "cell_type": "markdown",
   "id": "bigger-millennium",
   "metadata": {
    "papermill": {
     "duration": 0.06105,
     "end_time": "2021-06-02T14:37:39.430717",
     "exception": false,
     "start_time": "2021-06-02T14:37:39.369667",
     "status": "completed"
    },
    "tags": []
   },
   "source": [
    "1. [Load and Check Data](#1)\n",
    "1. [Veriable Description](#2)\n",
    "1. [Checking Missing Values](#3)\n",
    "1. [Analysing The Features](#4)\n",
    "    * [Categorical Variable Analysis](#5)\n",
    "        * [Sex](#6)\n",
    "        * [Pclass](#7)\n",
    "        * [SibSp](#8)\n",
    "        * [Parch](#9)\n",
    "        * [Embarked](#10)\n",
    "    * [Numerical Variable Analysis](#11)\n",
    "        * [Age](#12)\n",
    "        * [Fare](#13)\n",
    "1. [Filling Missing Values](#14)\n",
    "    * [Filling Age Feature](#15)\n",
    "    * [Filling Embarked Feature](#16)\n",
    "    * [Filling Fare Feature](#17)\n",
    "1. [Label Encoding](#18)\n",
    "1. [Modeling](#19)"
   ]
  },
  {
   "cell_type": "code",
   "execution_count": 1,
   "id": "wired-billy",
   "metadata": {
    "_cell_guid": "b1076dfc-b9ad-4769-8c92-a6c4dae69d19",
    "_uuid": "8f2839f25d086af736a60e9eeb907d3b93b6e0e5",
    "execution": {
     "iopub.execute_input": "2021-06-02T14:37:39.561705Z",
     "iopub.status.busy": "2021-06-02T14:37:39.561076Z",
     "iopub.status.idle": "2021-06-02T14:37:40.439823Z",
     "shell.execute_reply": "2021-06-02T14:37:40.440385Z",
     "shell.execute_reply.started": "2021-06-02T14:35:36.382067Z"
    },
    "papermill": {
     "duration": 0.949941,
     "end_time": "2021-06-02T14:37:40.440703",
     "exception": false,
     "start_time": "2021-06-02T14:37:39.490762",
     "status": "completed"
    },
    "tags": []
   },
   "outputs": [],
   "source": [
    "import numpy as np\n",
    "import pandas as pd\n",
    "import matplotlib.pyplot as plt\n",
    "import seaborn as sns\n",
    "import warnings\n",
    "warnings.filterwarnings(\"ignore\")\n",
    "\n",
    "plt.style.use('fivethirtyeight')"
   ]
  },
  {
   "cell_type": "markdown",
   "id": "missing-january",
   "metadata": {
    "papermill": {
     "duration": 0.060022,
     "end_time": "2021-06-02T14:37:40.560820",
     "exception": false,
     "start_time": "2021-06-02T14:37:40.500798",
     "status": "completed"
    },
    "tags": []
   },
   "source": [
    "<a id='1'></a><br>\n",
    "# Load and Check Data"
   ]
  },
  {
   "cell_type": "code",
   "execution_count": 2,
   "id": "palestinian-retreat",
   "metadata": {
    "execution": {
     "iopub.execute_input": "2021-06-02T14:37:40.684070Z",
     "iopub.status.busy": "2021-06-02T14:37:40.683432Z",
     "iopub.status.idle": "2021-06-02T14:37:40.720209Z",
     "shell.execute_reply": "2021-06-02T14:37:40.720745Z",
     "shell.execute_reply.started": "2021-06-02T14:35:36.391525Z"
    },
    "papermill": {
     "duration": 0.099642,
     "end_time": "2021-06-02T14:37:40.720922",
     "exception": false,
     "start_time": "2021-06-02T14:37:40.621280",
     "status": "completed"
    },
    "tags": []
   },
   "outputs": [],
   "source": [
    "train_df = pd.read_csv(\"../input/titanic/train.csv\")\n",
    "test_df = pd.read_csv(\"../input/titanic/test.csv\")\n",
    "test_PassengerId = test_df[\"PassengerId\"]"
   ]
  },
  {
   "cell_type": "code",
   "execution_count": 3,
   "id": "sixth-participation",
   "metadata": {
    "execution": {
     "iopub.execute_input": "2021-06-02T14:37:40.845142Z",
     "iopub.status.busy": "2021-06-02T14:37:40.844158Z",
     "iopub.status.idle": "2021-06-02T14:37:40.851056Z",
     "shell.execute_reply": "2021-06-02T14:37:40.851602Z",
     "shell.execute_reply.started": "2021-06-02T14:35:36.421115Z"
    },
    "papermill": {
     "duration": 0.071055,
     "end_time": "2021-06-02T14:37:40.851770",
     "exception": false,
     "start_time": "2021-06-02T14:37:40.780715",
     "status": "completed"
    },
    "tags": []
   },
   "outputs": [
    {
     "data": {
      "text/plain": [
       "Index(['PassengerId', 'Survived', 'Pclass', 'Name', 'Sex', 'Age', 'SibSp',\n",
       "       'Parch', 'Ticket', 'Fare', 'Cabin', 'Embarked'],\n",
       "      dtype='object')"
      ]
     },
     "execution_count": 3,
     "metadata": {},
     "output_type": "execute_result"
    }
   ],
   "source": [
    "train_df.columns"
   ]
  },
  {
   "cell_type": "code",
   "execution_count": 4,
   "id": "wooden-crystal",
   "metadata": {
    "execution": {
     "iopub.execute_input": "2021-06-02T14:37:40.980726Z",
     "iopub.status.busy": "2021-06-02T14:37:40.980018Z",
     "iopub.status.idle": "2021-06-02T14:37:41.001905Z",
     "shell.execute_reply": "2021-06-02T14:37:41.001323Z",
     "shell.execute_reply.started": "2021-06-02T14:35:36.443133Z"
    },
    "papermill": {
     "duration": 0.088972,
     "end_time": "2021-06-02T14:37:41.002061",
     "exception": false,
     "start_time": "2021-06-02T14:37:40.913089",
     "status": "completed"
    },
    "tags": []
   },
   "outputs": [
    {
     "data": {
      "text/html": [
       "<div>\n",
       "<style scoped>\n",
       "    .dataframe tbody tr th:only-of-type {\n",
       "        vertical-align: middle;\n",
       "    }\n",
       "\n",
       "    .dataframe tbody tr th {\n",
       "        vertical-align: top;\n",
       "    }\n",
       "\n",
       "    .dataframe thead th {\n",
       "        text-align: right;\n",
       "    }\n",
       "</style>\n",
       "<table border=\"1\" class=\"dataframe\">\n",
       "  <thead>\n",
       "    <tr style=\"text-align: right;\">\n",
       "      <th></th>\n",
       "      <th>PassengerId</th>\n",
       "      <th>Survived</th>\n",
       "      <th>Pclass</th>\n",
       "      <th>Name</th>\n",
       "      <th>Sex</th>\n",
       "      <th>Age</th>\n",
       "      <th>SibSp</th>\n",
       "      <th>Parch</th>\n",
       "      <th>Ticket</th>\n",
       "      <th>Fare</th>\n",
       "      <th>Cabin</th>\n",
       "      <th>Embarked</th>\n",
       "    </tr>\n",
       "  </thead>\n",
       "  <tbody>\n",
       "    <tr>\n",
       "      <th>0</th>\n",
       "      <td>1</td>\n",
       "      <td>0</td>\n",
       "      <td>3</td>\n",
       "      <td>Braund, Mr. Owen Harris</td>\n",
       "      <td>male</td>\n",
       "      <td>22.0</td>\n",
       "      <td>1</td>\n",
       "      <td>0</td>\n",
       "      <td>A/5 21171</td>\n",
       "      <td>7.2500</td>\n",
       "      <td>NaN</td>\n",
       "      <td>S</td>\n",
       "    </tr>\n",
       "    <tr>\n",
       "      <th>1</th>\n",
       "      <td>2</td>\n",
       "      <td>1</td>\n",
       "      <td>1</td>\n",
       "      <td>Cumings, Mrs. John Bradley (Florence Briggs Th...</td>\n",
       "      <td>female</td>\n",
       "      <td>38.0</td>\n",
       "      <td>1</td>\n",
       "      <td>0</td>\n",
       "      <td>PC 17599</td>\n",
       "      <td>71.2833</td>\n",
       "      <td>C85</td>\n",
       "      <td>C</td>\n",
       "    </tr>\n",
       "    <tr>\n",
       "      <th>2</th>\n",
       "      <td>3</td>\n",
       "      <td>1</td>\n",
       "      <td>3</td>\n",
       "      <td>Heikkinen, Miss. Laina</td>\n",
       "      <td>female</td>\n",
       "      <td>26.0</td>\n",
       "      <td>0</td>\n",
       "      <td>0</td>\n",
       "      <td>STON/O2. 3101282</td>\n",
       "      <td>7.9250</td>\n",
       "      <td>NaN</td>\n",
       "      <td>S</td>\n",
       "    </tr>\n",
       "    <tr>\n",
       "      <th>3</th>\n",
       "      <td>4</td>\n",
       "      <td>1</td>\n",
       "      <td>1</td>\n",
       "      <td>Futrelle, Mrs. Jacques Heath (Lily May Peel)</td>\n",
       "      <td>female</td>\n",
       "      <td>35.0</td>\n",
       "      <td>1</td>\n",
       "      <td>0</td>\n",
       "      <td>113803</td>\n",
       "      <td>53.1000</td>\n",
       "      <td>C123</td>\n",
       "      <td>S</td>\n",
       "    </tr>\n",
       "    <tr>\n",
       "      <th>4</th>\n",
       "      <td>5</td>\n",
       "      <td>0</td>\n",
       "      <td>3</td>\n",
       "      <td>Allen, Mr. William Henry</td>\n",
       "      <td>male</td>\n",
       "      <td>35.0</td>\n",
       "      <td>0</td>\n",
       "      <td>0</td>\n",
       "      <td>373450</td>\n",
       "      <td>8.0500</td>\n",
       "      <td>NaN</td>\n",
       "      <td>S</td>\n",
       "    </tr>\n",
       "  </tbody>\n",
       "</table>\n",
       "</div>"
      ],
      "text/plain": [
       "   PassengerId  Survived  Pclass  \\\n",
       "0            1         0       3   \n",
       "1            2         1       1   \n",
       "2            3         1       3   \n",
       "3            4         1       1   \n",
       "4            5         0       3   \n",
       "\n",
       "                                                Name     Sex   Age  SibSp  \\\n",
       "0                            Braund, Mr. Owen Harris    male  22.0      1   \n",
       "1  Cumings, Mrs. John Bradley (Florence Briggs Th...  female  38.0      1   \n",
       "2                             Heikkinen, Miss. Laina  female  26.0      0   \n",
       "3       Futrelle, Mrs. Jacques Heath (Lily May Peel)  female  35.0      1   \n",
       "4                           Allen, Mr. William Henry    male  35.0      0   \n",
       "\n",
       "   Parch            Ticket     Fare Cabin Embarked  \n",
       "0      0         A/5 21171   7.2500   NaN        S  \n",
       "1      0          PC 17599  71.2833   C85        C  \n",
       "2      0  STON/O2. 3101282   7.9250   NaN        S  \n",
       "3      0            113803  53.1000  C123        S  \n",
       "4      0            373450   8.0500   NaN        S  "
      ]
     },
     "execution_count": 4,
     "metadata": {},
     "output_type": "execute_result"
    }
   ],
   "source": [
    "train_df.head()"
   ]
  },
  {
   "cell_type": "code",
   "execution_count": 5,
   "id": "cellular-audio",
   "metadata": {
    "execution": {
     "iopub.execute_input": "2021-06-02T14:37:41.134373Z",
     "iopub.status.busy": "2021-06-02T14:37:41.130020Z",
     "iopub.status.idle": "2021-06-02T14:37:41.164510Z",
     "shell.execute_reply": "2021-06-02T14:37:41.163964Z",
     "shell.execute_reply.started": "2021-06-02T14:35:36.473322Z"
    },
    "papermill": {
     "duration": 0.10114,
     "end_time": "2021-06-02T14:37:41.164649",
     "exception": false,
     "start_time": "2021-06-02T14:37:41.063509",
     "status": "completed"
    },
    "tags": []
   },
   "outputs": [
    {
     "data": {
      "text/html": [
       "<div>\n",
       "<style scoped>\n",
       "    .dataframe tbody tr th:only-of-type {\n",
       "        vertical-align: middle;\n",
       "    }\n",
       "\n",
       "    .dataframe tbody tr th {\n",
       "        vertical-align: top;\n",
       "    }\n",
       "\n",
       "    .dataframe thead th {\n",
       "        text-align: right;\n",
       "    }\n",
       "</style>\n",
       "<table border=\"1\" class=\"dataframe\">\n",
       "  <thead>\n",
       "    <tr style=\"text-align: right;\">\n",
       "      <th></th>\n",
       "      <th>PassengerId</th>\n",
       "      <th>Survived</th>\n",
       "      <th>Pclass</th>\n",
       "      <th>Age</th>\n",
       "      <th>SibSp</th>\n",
       "      <th>Parch</th>\n",
       "      <th>Fare</th>\n",
       "    </tr>\n",
       "  </thead>\n",
       "  <tbody>\n",
       "    <tr>\n",
       "      <th>count</th>\n",
       "      <td>891.000000</td>\n",
       "      <td>891.000000</td>\n",
       "      <td>891.000000</td>\n",
       "      <td>714.000000</td>\n",
       "      <td>891.000000</td>\n",
       "      <td>891.000000</td>\n",
       "      <td>891.000000</td>\n",
       "    </tr>\n",
       "    <tr>\n",
       "      <th>mean</th>\n",
       "      <td>446.000000</td>\n",
       "      <td>0.383838</td>\n",
       "      <td>2.308642</td>\n",
       "      <td>29.699118</td>\n",
       "      <td>0.523008</td>\n",
       "      <td>0.381594</td>\n",
       "      <td>32.204208</td>\n",
       "    </tr>\n",
       "    <tr>\n",
       "      <th>std</th>\n",
       "      <td>257.353842</td>\n",
       "      <td>0.486592</td>\n",
       "      <td>0.836071</td>\n",
       "      <td>14.526497</td>\n",
       "      <td>1.102743</td>\n",
       "      <td>0.806057</td>\n",
       "      <td>49.693429</td>\n",
       "    </tr>\n",
       "    <tr>\n",
       "      <th>min</th>\n",
       "      <td>1.000000</td>\n",
       "      <td>0.000000</td>\n",
       "      <td>1.000000</td>\n",
       "      <td>0.420000</td>\n",
       "      <td>0.000000</td>\n",
       "      <td>0.000000</td>\n",
       "      <td>0.000000</td>\n",
       "    </tr>\n",
       "    <tr>\n",
       "      <th>25%</th>\n",
       "      <td>223.500000</td>\n",
       "      <td>0.000000</td>\n",
       "      <td>2.000000</td>\n",
       "      <td>20.125000</td>\n",
       "      <td>0.000000</td>\n",
       "      <td>0.000000</td>\n",
       "      <td>7.910400</td>\n",
       "    </tr>\n",
       "    <tr>\n",
       "      <th>50%</th>\n",
       "      <td>446.000000</td>\n",
       "      <td>0.000000</td>\n",
       "      <td>3.000000</td>\n",
       "      <td>28.000000</td>\n",
       "      <td>0.000000</td>\n",
       "      <td>0.000000</td>\n",
       "      <td>14.454200</td>\n",
       "    </tr>\n",
       "    <tr>\n",
       "      <th>75%</th>\n",
       "      <td>668.500000</td>\n",
       "      <td>1.000000</td>\n",
       "      <td>3.000000</td>\n",
       "      <td>38.000000</td>\n",
       "      <td>1.000000</td>\n",
       "      <td>0.000000</td>\n",
       "      <td>31.000000</td>\n",
       "    </tr>\n",
       "    <tr>\n",
       "      <th>max</th>\n",
       "      <td>891.000000</td>\n",
       "      <td>1.000000</td>\n",
       "      <td>3.000000</td>\n",
       "      <td>80.000000</td>\n",
       "      <td>8.000000</td>\n",
       "      <td>6.000000</td>\n",
       "      <td>512.329200</td>\n",
       "    </tr>\n",
       "  </tbody>\n",
       "</table>\n",
       "</div>"
      ],
      "text/plain": [
       "       PassengerId    Survived      Pclass         Age       SibSp  \\\n",
       "count   891.000000  891.000000  891.000000  714.000000  891.000000   \n",
       "mean    446.000000    0.383838    2.308642   29.699118    0.523008   \n",
       "std     257.353842    0.486592    0.836071   14.526497    1.102743   \n",
       "min       1.000000    0.000000    1.000000    0.420000    0.000000   \n",
       "25%     223.500000    0.000000    2.000000   20.125000    0.000000   \n",
       "50%     446.000000    0.000000    3.000000   28.000000    0.000000   \n",
       "75%     668.500000    1.000000    3.000000   38.000000    1.000000   \n",
       "max     891.000000    1.000000    3.000000   80.000000    8.000000   \n",
       "\n",
       "            Parch        Fare  \n",
       "count  891.000000  891.000000  \n",
       "mean     0.381594   32.204208  \n",
       "std      0.806057   49.693429  \n",
       "min      0.000000    0.000000  \n",
       "25%      0.000000    7.910400  \n",
       "50%      0.000000   14.454200  \n",
       "75%      0.000000   31.000000  \n",
       "max      6.000000  512.329200  "
      ]
     },
     "execution_count": 5,
     "metadata": {},
     "output_type": "execute_result"
    }
   ],
   "source": [
    "train_df.describe()"
   ]
  },
  {
   "cell_type": "markdown",
   "id": "united-spanish",
   "metadata": {
    "papermill": {
     "duration": 0.061431,
     "end_time": "2021-06-02T14:37:41.287578",
     "exception": false,
     "start_time": "2021-06-02T14:37:41.226147",
     "status": "completed"
    },
    "tags": []
   },
   "source": [
    "<a id='2'></a><br>\n",
    "# Veriable Description"
   ]
  },
  {
   "cell_type": "markdown",
   "id": "colonial-black",
   "metadata": {
    "papermill": {
     "duration": 0.061829,
     "end_time": "2021-06-02T14:37:41.411441",
     "exception": false,
     "start_time": "2021-06-02T14:37:41.349612",
     "status": "completed"
    },
    "tags": []
   },
   "source": [
    "Feature Name   | Description\n",
    "---------------|-------------\n",
    "PassengerId    | Specific passenger number\n",
    "Survived       | Survived (1) or died (0)\n",
    "Pclass         | Passenger's class\n",
    "Name           | Passenger's name\n",
    "Sex            | Passenger's gender\n",
    "Age            | Passenger's age\n",
    "SibSp          | Number of siblings/spouses on board\n",
    "Parch          | Number of parents/children on board\n",
    "Ticket         | Ticket number\n",
    "Fare           | Fare\n",
    "Cabin          | Passenger's Cabin\n",
    "Embarked       | Embarkation port"
   ]
  },
  {
   "cell_type": "code",
   "execution_count": 6,
   "id": "initial-activation",
   "metadata": {
    "execution": {
     "iopub.execute_input": "2021-06-02T14:37:41.552583Z",
     "iopub.status.busy": "2021-06-02T14:37:41.546667Z",
     "iopub.status.idle": "2021-06-02T14:37:41.559713Z",
     "shell.execute_reply": "2021-06-02T14:37:41.559177Z",
     "shell.execute_reply.started": "2021-06-02T14:35:36.508448Z"
    },
    "papermill": {
     "duration": 0.085589,
     "end_time": "2021-06-02T14:37:41.559866",
     "exception": false,
     "start_time": "2021-06-02T14:37:41.474277",
     "status": "completed"
    },
    "tags": []
   },
   "outputs": [
    {
     "name": "stdout",
     "output_type": "stream",
     "text": [
      "<class 'pandas.core.frame.DataFrame'>\n",
      "RangeIndex: 891 entries, 0 to 890\n",
      "Data columns (total 12 columns):\n",
      " #   Column       Non-Null Count  Dtype  \n",
      "---  ------       --------------  -----  \n",
      " 0   PassengerId  891 non-null    int64  \n",
      " 1   Survived     891 non-null    int64  \n",
      " 2   Pclass       891 non-null    int64  \n",
      " 3   Name         891 non-null    object \n",
      " 4   Sex          891 non-null    object \n",
      " 5   Age          714 non-null    float64\n",
      " 6   SibSp        891 non-null    int64  \n",
      " 7   Parch        891 non-null    int64  \n",
      " 8   Ticket       891 non-null    object \n",
      " 9   Fare         891 non-null    float64\n",
      " 10  Cabin        204 non-null    object \n",
      " 11  Embarked     889 non-null    object \n",
      "dtypes: float64(2), int64(5), object(5)\n",
      "memory usage: 83.7+ KB\n"
     ]
    }
   ],
   "source": [
    "train_df.info()"
   ]
  },
  {
   "cell_type": "markdown",
   "id": "interstate-offer",
   "metadata": {
    "papermill": {
     "duration": 0.062128,
     "end_time": "2021-06-02T14:37:41.685190",
     "exception": false,
     "start_time": "2021-06-02T14:37:41.623062",
     "status": "completed"
    },
    "tags": []
   },
   "source": [
    "<a id='3'></a><br>\n",
    "# Checking Missing Values"
   ]
  },
  {
   "cell_type": "code",
   "execution_count": 7,
   "id": "stunning-pepper",
   "metadata": {
    "execution": {
     "iopub.execute_input": "2021-06-02T14:37:41.817049Z",
     "iopub.status.busy": "2021-06-02T14:37:41.816284Z",
     "iopub.status.idle": "2021-06-02T14:37:41.820663Z",
     "shell.execute_reply": "2021-06-02T14:37:41.820141Z",
     "shell.execute_reply.started": "2021-06-02T14:35:36.526868Z"
    },
    "papermill": {
     "duration": 0.073639,
     "end_time": "2021-06-02T14:37:41.820818",
     "exception": false,
     "start_time": "2021-06-02T14:37:41.747179",
     "status": "completed"
    },
    "tags": []
   },
   "outputs": [
    {
     "data": {
      "text/plain": [
       "PassengerId      0\n",
       "Survived         0\n",
       "Pclass           0\n",
       "Name             0\n",
       "Sex              0\n",
       "Age            177\n",
       "SibSp            0\n",
       "Parch            0\n",
       "Ticket           0\n",
       "Fare             0\n",
       "Cabin          687\n",
       "Embarked         2\n",
       "dtype: int64"
      ]
     },
     "execution_count": 7,
     "metadata": {},
     "output_type": "execute_result"
    }
   ],
   "source": [
    "train_df.isnull().sum()"
   ]
  },
  {
   "cell_type": "code",
   "execution_count": 8,
   "id": "hearing-video",
   "metadata": {
    "execution": {
     "iopub.execute_input": "2021-06-02T14:37:41.956555Z",
     "iopub.status.busy": "2021-06-02T14:37:41.955241Z",
     "iopub.status.idle": "2021-06-02T14:37:42.296679Z",
     "shell.execute_reply": "2021-06-02T14:37:42.296147Z",
     "shell.execute_reply.started": "2021-06-02T14:35:36.546708Z"
    },
    "papermill": {
     "duration": 0.41251,
     "end_time": "2021-06-02T14:37:42.296821",
     "exception": false,
     "start_time": "2021-06-02T14:37:41.884311",
     "status": "completed"
    },
    "tags": []
   },
   "outputs": [
    {
     "data": {
      "image/png": "[encoded data removed]",
      "text/plain": [
       "<Figure size 864x432 with 1 Axes>"
      ]
     },
     "metadata": {},
     "output_type": "display_data"
    }
   ],
   "source": [
    "fig = plt.figure(figsize=(12,6))\n",
    "sns.heatmap(train_df.isnull(), cbar=False)\n",
    "plt.show()"
   ]
  },
  {
   "cell_type": "markdown",
   "id": "peaceful-tongue",
   "metadata": {
    "papermill": {
     "duration": 0.063025,
     "end_time": "2021-06-02T14:37:42.423636",
     "exception": false,
     "start_time": "2021-06-02T14:37:42.360611",
     "status": "completed"
    },
    "tags": []
   },
   "source": [
    "> * As you can see, there are NaN values in the Age and Embarked properties.\n",
    "> * Let's examine the features in the data set one by one. And let's try to fill in these NaN values at the end of the review."
   ]
  },
  {
   "cell_type": "markdown",
   "id": "conceptual-crime",
   "metadata": {
    "papermill": {
     "duration": 0.06295,
     "end_time": "2021-06-02T14:37:42.550315",
     "exception": false,
     "start_time": "2021-06-02T14:37:42.487365",
     "status": "completed"
    },
    "tags": []
   },
   "source": [
    "<a id='4'></a><br>\n",
    "# Analysing The Features"
   ]
  },
  {
   "cell_type": "markdown",
   "id": "narrative-exhaust",
   "metadata": {
    "papermill": {
     "duration": 0.063519,
     "end_time": "2021-06-02T14:37:42.677096",
     "exception": false,
     "start_time": "2021-06-02T14:37:42.613577",
     "status": "completed"
    },
    "tags": []
   },
   "source": [
    "* Categorical Variables : Survived, Pclass, Name, Sex, SibSp, Parch ,Ticket, Embarked\n",
    "* Numerical Variables   : PassengerId, Age, Fare"
   ]
  },
  {
   "cell_type": "markdown",
   "id": "right-piano",
   "metadata": {
    "papermill": {
     "duration": 0.063177,
     "end_time": "2021-06-02T14:37:42.803934",
     "exception": false,
     "start_time": "2021-06-02T14:37:42.740757",
     "status": "completed"
    },
    "tags": []
   },
   "source": [
    "> * Let's look at the correlation map before starting to examine our features. Then we will examine them one by one."
   ]
  },
  {
   "cell_type": "code",
   "execution_count": 9,
   "id": "earned-orlando",
   "metadata": {
    "execution": {
     "iopub.execute_input": "2021-06-02T14:37:42.967794Z",
     "iopub.status.busy": "2021-06-02T14:37:42.941399Z",
     "iopub.status.idle": "2021-06-02T14:37:43.196930Z",
     "shell.execute_reply": "2021-06-02T14:37:43.196276Z",
     "shell.execute_reply.started": "2021-06-02T14:35:36.884624Z"
    },
    "papermill": {
     "duration": 0.32903,
     "end_time": "2021-06-02T14:37:43.197083",
     "exception": false,
     "start_time": "2021-06-02T14:37:42.868053",
     "status": "completed"
    },
    "tags": []
   },
   "outputs": [
    {
     "data": {
      "image/png": "[encoded data removed]",
      "text/plain": [
       "<Figure size 576x432 with 2 Axes>"
      ]
     },
     "metadata": {},
     "output_type": "display_data"
    }
   ],
   "source": [
    "features = ['Survived', 'Pclass', 'SibSp', 'Parch','Age', 'Fare']\n",
    "mask = np.triu(np.ones_like(train_df[features].corr(), dtype=np.bool))\n",
    "fig, ax = plt.subplots(1,1,figsize=(8,6))\n",
    "ax = sns.heatmap(train_df[features].corr() , mask = mask , annot = True, fmt='.2f', vmin=-1.0, vmax=1.0, cbar_kws=dict(ticks=[-1.0, -0.5, 0.00, 0.50, 1.0]))\n",
    "cbar = ax.collections[0].colorbar\n",
    "cbar.ax.tick_params(labelsize=12.5)\n",
    "plt.show()"
   ]
  },
  {
   "cell_type": "markdown",
   "id": "recognized-mention",
   "metadata": {
    "papermill": {
     "duration": 0.065834,
     "end_time": "2021-06-02T14:37:43.328891",
     "exception": false,
     "start_time": "2021-06-02T14:37:43.263057",
     "status": "completed"
    },
    "tags": []
   },
   "source": [
    "<a id='5'></a><br>\n",
    "## Categorical Variable Analysis"
   ]
  },
  {
   "cell_type": "markdown",
   "id": "level-hurricane",
   "metadata": {
    "papermill": {
     "duration": 0.064535,
     "end_time": "2021-06-02T14:37:43.459555",
     "exception": false,
     "start_time": "2021-06-02T14:37:43.395020",
     "status": "completed"
    },
    "tags": []
   },
   "source": [
    "> * First of all, let's have a look how many passengers survived."
   ]
  },
  {
   "cell_type": "markdown",
   "id": "standing-render",
   "metadata": {
    "papermill": {
     "duration": 0.065004,
     "end_time": "2021-06-02T14:37:43.589278",
     "exception": false,
     "start_time": "2021-06-02T14:37:43.524274",
     "status": "completed"
    },
    "tags": []
   },
   "source": [
    "<a id='6'></a><br>\n",
    "### 1. Sex"
   ]
  },
  {
   "cell_type": "code",
   "execution_count": 10,
   "id": "verified-commitment",
   "metadata": {
    "execution": {
     "iopub.execute_input": "2021-06-02T14:37:43.755516Z",
     "iopub.status.busy": "2021-06-02T14:37:43.754816Z",
     "iopub.status.idle": "2021-06-02T14:37:43.828303Z",
     "shell.execute_reply": "2021-06-02T14:37:43.827556Z",
     "shell.execute_reply.started": "2021-06-02T14:35:37.117356Z"
    },
    "papermill": {
     "duration": 0.174403,
     "end_time": "2021-06-02T14:37:43.828470",
     "exception": false,
     "start_time": "2021-06-02T14:37:43.654067",
     "status": "completed"
    },
    "tags": []
   },
   "outputs": [
    {
     "data": {
      "image/png": "[encoded data removed]",
      "text/plain": [
       "<Figure size 432x432 with 1 Axes>"
      ]
     },
     "metadata": {},
     "output_type": "display_data"
    }
   ],
   "source": [
    "sizes = train_df['Sex'].value_counts()\n",
    "def make_autopct(values):\n",
    "    def my_autopct(pct):\n",
    "        total = sum(values)\n",
    "        val = int(round(pct*total/100.0))\n",
    "        return '{p:.2f}%\\n{v:d}'.format(p=pct, v=val)\n",
    "    return my_autopct\n",
    "\n",
    "fig ,ax = plt.subplots(nrows=1, ncols=1, figsize=(6,6))\n",
    "ax.pie(sizes, labels=sizes.index, autopct=make_autopct(sizes), explode=[0.03,0.03])\n",
    "ax.set_title('Gender Distribution')\n",
    "plt.show()"
   ]
  },
  {
   "cell_type": "markdown",
   "id": "iraqi-french",
   "metadata": {
    "papermill": {
     "duration": 0.066976,
     "end_time": "2021-06-02T14:37:43.961369",
     "exception": false,
     "start_time": "2021-06-02T14:37:43.894393",
     "status": "completed"
    },
    "tags": []
   },
   "source": [
    "> * As you can see, the number of men on the ship is much more than women."
   ]
  },
  {
   "cell_type": "code",
   "execution_count": 11,
   "id": "premier-terminal",
   "metadata": {
    "execution": {
     "iopub.execute_input": "2021-06-02T14:37:44.113908Z",
     "iopub.status.busy": "2021-06-02T14:37:44.102058Z",
     "iopub.status.idle": "2021-06-02T14:37:44.437195Z",
     "shell.execute_reply": "2021-06-02T14:37:44.436588Z",
     "shell.execute_reply.started": "2021-06-02T14:35:37.206741Z"
    },
    "papermill": {
     "duration": 0.409728,
     "end_time": "2021-06-02T14:37:44.437327",
     "exception": false,
     "start_time": "2021-06-02T14:37:44.027599",
     "status": "completed"
    },
    "tags": []
   },
   "outputs": [
    {
     "data": {
      "image/png": "[encoded data removed]",
      "text/plain": [
       "<Figure size 1296x576 with 3 Axes>"
      ]
     },
     "metadata": {},
     "output_type": "display_data"
    }
   ],
   "source": [
    "size_male  = train_df[train_df['Sex']== 'male']['Survived'].value_counts()\n",
    "size_female =train_df[train_df['Sex']== 'female']['Survived'].value_counts()[::-1]\n",
    "fig, ax = plt.subplots(nrows=1, ncols=3, figsize=(18,8))\n",
    "ax[0].pie(size_male, labels=size_male.index, autopct=make_autopct(size_male), explode=[0.03,0.03], startangle=90)\n",
    "sns.countplot('Sex',hue='Survived',data=train_df,ax=ax[1])\n",
    "ax[2].pie(size_female, labels=size_female.index, autopct=make_autopct(size_female), explode=[0.03,0.03], startangle=90)\n",
    "ax[0].set_title('Males vs Survived')\n",
    "ax[1].set_title('Survived vs Dead')\n",
    "ax[2].set_title('Females vs Survived')\n",
    "plt.show()"
   ]
  },
  {
   "cell_type": "markdown",
   "id": "convinced-wilderness",
   "metadata": {
    "papermill": {
     "duration": 0.067771,
     "end_time": "2021-06-02T14:37:44.572344",
     "exception": false,
     "start_time": "2021-06-02T14:37:44.504573",
     "status": "completed"
    },
    "tags": []
   },
   "source": [
    "> * We've seen a lot more men on the ship.\n",
    "> * Despite this, the number of women saved is almost twice the number of males saved.\n",
    "> * The survival rates for a women on the ship is around **74-75%** while that for men in around **18-19%**."
   ]
  },
  {
   "cell_type": "code",
   "execution_count": 12,
   "id": "ordinary-camcorder",
   "metadata": {
    "execution": {
     "iopub.execute_input": "2021-06-02T14:37:44.724629Z",
     "iopub.status.busy": "2021-06-02T14:37:44.715613Z",
     "iopub.status.idle": "2021-06-02T14:37:44.728174Z",
     "shell.execute_reply": "2021-06-02T14:37:44.728758Z",
     "shell.execute_reply.started": "2021-06-02T14:35:37.496679Z"
    },
    "papermill": {
     "duration": 0.088922,
     "end_time": "2021-06-02T14:37:44.728950",
     "exception": false,
     "start_time": "2021-06-02T14:37:44.640028",
     "status": "completed"
    },
    "tags": []
   },
   "outputs": [
    {
     "data": {
      "text/html": [
       "<div>\n",
       "<style scoped>\n",
       "    .dataframe tbody tr th:only-of-type {\n",
       "        vertical-align: middle;\n",
       "    }\n",
       "\n",
       "    .dataframe tbody tr th {\n",
       "        vertical-align: top;\n",
       "    }\n",
       "\n",
       "    .dataframe thead th {\n",
       "        text-align: right;\n",
       "    }\n",
       "</style>\n",
       "<table border=\"1\" class=\"dataframe\">\n",
       "  <thead>\n",
       "    <tr style=\"text-align: right;\">\n",
       "      <th></th>\n",
       "      <th>PassengerId</th>\n",
       "      <th>Survived</th>\n",
       "      <th>Age</th>\n",
       "      <th>SibSp</th>\n",
       "      <th>Parch</th>\n",
       "      <th>Fare</th>\n",
       "    </tr>\n",
       "    <tr>\n",
       "      <th>Pclass</th>\n",
       "      <th></th>\n",
       "      <th></th>\n",
       "      <th></th>\n",
       "      <th></th>\n",
       "      <th></th>\n",
       "      <th></th>\n",
       "    </tr>\n",
       "  </thead>\n",
       "  <tbody>\n",
       "    <tr>\n",
       "      <th>1</th>\n",
       "      <td>461.597222</td>\n",
       "      <td>0.629630</td>\n",
       "      <td>38.233441</td>\n",
       "      <td>0.416667</td>\n",
       "      <td>0.356481</td>\n",
       "      <td>84.154687</td>\n",
       "    </tr>\n",
       "    <tr>\n",
       "      <th>2</th>\n",
       "      <td>445.956522</td>\n",
       "      <td>0.472826</td>\n",
       "      <td>29.877630</td>\n",
       "      <td>0.402174</td>\n",
       "      <td>0.380435</td>\n",
       "      <td>20.662183</td>\n",
       "    </tr>\n",
       "    <tr>\n",
       "      <th>3</th>\n",
       "      <td>439.154786</td>\n",
       "      <td>0.242363</td>\n",
       "      <td>25.140620</td>\n",
       "      <td>0.615071</td>\n",
       "      <td>0.393075</td>\n",
       "      <td>13.675550</td>\n",
       "    </tr>\n",
       "  </tbody>\n",
       "</table>\n",
       "</div>"
      ],
      "text/plain": [
       "        PassengerId  Survived        Age     SibSp     Parch       Fare\n",
       "Pclass                                                                 \n",
       "1        461.597222  0.629630  38.233441  0.416667  0.356481  84.154687\n",
       "2        445.956522  0.472826  29.877630  0.402174  0.380435  20.662183\n",
       "3        439.154786  0.242363  25.140620  0.615071  0.393075  13.675550"
      ]
     },
     "execution_count": 12,
     "metadata": {},
     "output_type": "execute_result"
    }
   ],
   "source": [
    "train_df.groupby('Pclass').mean()"
   ]
  },
  {
   "cell_type": "markdown",
   "id": "incorrect-thinking",
   "metadata": {
    "papermill": {
     "duration": 0.067254,
     "end_time": "2021-06-02T14:37:44.864262",
     "exception": false,
     "start_time": "2021-06-02T14:37:44.797008",
     "status": "completed"
    },
    "tags": []
   },
   "source": [
    "<a id='7'></a><br>\n",
    "### 2. Pclass"
   ]
  },
  {
   "cell_type": "code",
   "execution_count": 13,
   "id": "coated-native",
   "metadata": {
    "execution": {
     "iopub.execute_input": "2021-06-02T14:37:45.164367Z",
     "iopub.status.busy": "2021-06-02T14:37:45.158716Z",
     "iopub.status.idle": "2021-06-02T14:37:45.402551Z",
     "shell.execute_reply": "2021-06-02T14:37:45.402033Z",
     "shell.execute_reply.started": "2021-06-02T14:35:37.514534Z"
    },
    "papermill": {
     "duration": 0.470489,
     "end_time": "2021-06-02T14:37:45.402694",
     "exception": false,
     "start_time": "2021-06-02T14:37:44.932205",
     "status": "completed"
    },
    "tags": []
   },
   "outputs": [
    {
     "data": {
      "image/png": "[encoded data removed]",
      "text/plain": [
       "<Figure size 1296x576 with 2 Axes>"
      ]
     },
     "metadata": {},
     "output_type": "display_data"
    }
   ],
   "source": [
    "fig ,ax =plt.subplots(nrows=1, ncols=2, figsize=(18,8))\n",
    "\n",
    "sns.countplot(x='Pclass', data=train_df, ax=ax[0], color='#30A2DA')\n",
    "sns.countplot(x='Pclass', hue='Survived', data=train_df, ax=ax[1])\n",
    "\n",
    "ax[0].set_title('Number Of Passengers By Class')\n",
    "ax[1].set_title('Survived vs Dead')\n",
    "plt.show()"
   ]
  },
  {
   "cell_type": "markdown",
   "id": "interracial-entertainment",
   "metadata": {
    "papermill": {
     "duration": 0.068449,
     "end_time": "2021-06-02T14:37:45.540297",
     "exception": false,
     "start_time": "2021-06-02T14:37:45.471848",
     "status": "completed"
    },
    "tags": []
   },
   "source": [
    "> * As can be seen, the number of 3rd class passengers is quite higher than the others. However, it is not possible to say the same for the number of surviving passengers.\n",
    "> * The survival rate of 1st class passengers is around 63%, 2nd class passengers 48% and 3rd class passengers 25%.\n",
    "> * Let's add the gender factor to these graphs."
   ]
  },
  {
   "cell_type": "code",
   "execution_count": 14,
   "id": "modified-pharmacy",
   "metadata": {
    "execution": {
     "iopub.execute_input": "2021-06-02T14:37:45.697066Z",
     "iopub.status.busy": "2021-06-02T14:37:45.696027Z",
     "iopub.status.idle": "2021-06-02T14:37:46.046117Z",
     "shell.execute_reply": "2021-06-02T14:37:46.046689Z",
     "shell.execute_reply.started": "2021-06-02T14:35:37.786656Z"
    },
    "papermill": {
     "duration": 0.437161,
     "end_time": "2021-06-02T14:37:46.046858",
     "exception": false,
     "start_time": "2021-06-02T14:37:45.609697",
     "status": "completed"
    },
    "tags": []
   },
   "outputs": [
    {
     "data": {
      "image/png": "[encoded data removed]",
      "text/plain": [
       "<Figure size 576x432 with 1 Axes>"
      ]
     },
     "metadata": {},
     "output_type": "display_data"
    }
   ],
   "source": [
    "fig ,ax =plt.subplots(nrows=1, ncols=1, figsize=(8,6))\n",
    "sns.barplot(x='Pclass', y='Survived', hue='Sex', data=train_df, ax=ax)\n",
    "plt.show()"
   ]
  },
  {
   "cell_type": "markdown",
   "id": "excellent-writing",
   "metadata": {
    "papermill": {
     "duration": 0.06954,
     "end_time": "2021-06-02T14:37:46.185813",
     "exception": false,
     "start_time": "2021-06-02T14:37:46.116273",
     "status": "completed"
    },
    "tags": []
   },
   "source": [
    "> * Among 1st and 2nd class passengers, the survival rate of women is really high.\n",
    "> * But regardless of class, the survival rate of men is much lower than that of women."
   ]
  },
  {
   "cell_type": "markdown",
   "id": "proper-caribbean",
   "metadata": {
    "papermill": {
     "duration": 0.069634,
     "end_time": "2021-06-02T14:37:46.325497",
     "exception": false,
     "start_time": "2021-06-02T14:37:46.255863",
     "status": "completed"
    },
    "tags": []
   },
   "source": [
    "<a id='8'></a><br>\n",
    "### SibSp"
   ]
  },
  {
   "cell_type": "code",
   "execution_count": 15,
   "id": "narrative-blame",
   "metadata": {
    "execution": {
     "iopub.execute_input": "2021-06-02T14:37:46.468513Z",
     "iopub.status.busy": "2021-06-02T14:37:46.467569Z",
     "iopub.status.idle": "2021-06-02T14:37:47.642863Z",
     "shell.execute_reply": "2021-06-02T14:37:47.642190Z",
     "shell.execute_reply.started": "2021-06-02T14:35:38.083336Z"
    },
    "papermill": {
     "duration": 1.247761,
     "end_time": "2021-06-02T14:37:47.643019",
     "exception": false,
     "start_time": "2021-06-02T14:37:46.395258",
     "status": "completed"
    },
    "tags": []
   },
   "outputs": [
    {
     "data": {
      "image/png": "[encoded data removed]",
      "text/plain": [
       "<Figure size 1296x576 with 3 Axes>"
      ]
     },
     "metadata": {},
     "output_type": "display_data"
    }
   ],
   "source": [
    "fig, ax = plt.subplots(1, 3, figsize=(18,8))\n",
    "\n",
    "sns.countplot(x='SibSp', data=train_df, ax=ax[0])\n",
    "sns.barplot(x='SibSp', y='Survived', data=train_df, ax=ax[1], errwidth=3)\n",
    "sns.barplot(x='SibSp', y='Survived', hue='Sex',data=train_df, ax=ax[2], errwidth=3)\n",
    "ax[0].set_title('Number of Passengers By SibSp')\n",
    "ax[1].set_title('SibSp vs Survived Ratio')\n",
    "ax[2].set_title('SibSp and Sex vs Survived Ratio')\n",
    "plt.show()"
   ]
  },
  {
   "cell_type": "markdown",
   "id": "chinese-strand",
   "metadata": {
    "papermill": {
     "duration": 0.074415,
     "end_time": "2021-06-02T14:37:47.789799",
     "exception": false,
     "start_time": "2021-06-02T14:37:47.715384",
     "status": "completed"
    },
    "tags": []
   },
   "source": [
    "<a id='9'></a><br>\n",
    "### Parch"
   ]
  },
  {
   "cell_type": "code",
   "execution_count": 16,
   "id": "forced-coupon",
   "metadata": {
    "execution": {
     "iopub.execute_input": "2021-06-02T14:37:48.004549Z",
     "iopub.status.busy": "2021-06-02T14:37:48.003822Z",
     "iopub.status.idle": "2021-06-02T14:37:48.951275Z",
     "shell.execute_reply": "2021-06-02T14:37:48.950720Z",
     "shell.execute_reply.started": "2021-06-02T14:35:39.033210Z"
    },
    "papermill": {
     "duration": 1.090277,
     "end_time": "2021-06-02T14:37:48.951423",
     "exception": false,
     "start_time": "2021-06-02T14:37:47.861146",
     "status": "completed"
    },
    "tags": []
   },
   "outputs": [
    {
     "data": {
      "image/png": "[encoded data removed]",
      "text/plain": [
       "<Figure size 1296x576 with 3 Axes>"
      ]
     },
     "metadata": {},
     "output_type": "display_data"
    }
   ],
   "source": [
    "fig, ax = plt.subplots(1, 3, figsize=(18,8))\n",
    "\n",
    "sns.countplot(x='Parch', data=train_df, ax=ax[0])\n",
    "sns.barplot(x='Parch', y='Survived', data=train_df, ax=ax[1], errwidth=3)\n",
    "sns.barplot(x='Parch', y='Survived', hue='Sex',data=train_df, ax=ax[2], errwidth=3, )\n",
    "ax[2].legend(loc='upper right', title='Sex')\n",
    "ax[0].set_title('Number of Passengers By Parch')\n",
    "ax[1].set_title('Parch vs Survived Ratio')\n",
    "ax[2].set_title('Parch and Sex vs Survived Ratio')\n",
    "plt.show()"
   ]
  },
  {
   "cell_type": "markdown",
   "id": "automotive-understanding",
   "metadata": {
    "papermill": {
     "duration": 0.073608,
     "end_time": "2021-06-02T14:37:49.100173",
     "exception": false,
     "start_time": "2021-06-02T14:37:49.026565",
     "status": "completed"
    },
    "tags": []
   },
   "source": [
    "<a id='10'></a><br>\n",
    "### Embarked"
   ]
  },
  {
   "cell_type": "code",
   "execution_count": 17,
   "id": "constant-cheat",
   "metadata": {
    "execution": {
     "iopub.execute_input": "2021-06-02T14:37:49.257278Z",
     "iopub.status.busy": "2021-06-02T14:37:49.256621Z",
     "iopub.status.idle": "2021-06-02T14:37:50.812278Z",
     "shell.execute_reply": "2021-06-02T14:37:50.811763Z",
     "shell.execute_reply.started": "2021-06-02T14:35:39.891033Z"
    },
    "papermill": {
     "duration": 1.637974,
     "end_time": "2021-06-02T14:37:50.812422",
     "exception": false,
     "start_time": "2021-06-02T14:37:49.174448",
     "status": "completed"
    },
    "tags": []
   },
   "outputs": [
    {
     "data": {
      "image/png": "[encoded data removed]",
      "text/plain": [
       "<Figure size 1296x1800 with 6 Axes>"
      ]
     },
     "metadata": {},
     "output_type": "display_data"
    }
   ],
   "source": [
    "fig ,ax =plt.subplots(nrows=3, ncols=2, figsize=(18,25))\n",
    "\n",
    "sns.countplot(x='Embarked', data=train_df, ax=ax[0,0], color='#30A2DA')\n",
    "sns.countplot(x='Embarked', hue='Sex', data=train_df, ax=ax[0,1])\n",
    "sns.countplot(x='Embarked', hue='Survived', data=train_df, ax=ax[1,0])\n",
    "sns.barplot(x='Embarked', y='Survived', data=train_df, ax=ax[1,1], errwidth=3)\n",
    "sns.barplot(x='Embarked', y='Survived', hue='Sex', data=train_df, ax=ax[2,0], errwidth=3)\n",
    "sns.pointplot(data=train_df, x=\"Embarked\",y=\"Survived\",hue=\"Pclass\", ax=ax[2,1], ci=0)\n",
    "\n",
    "\n",
    "ax[0,0].set_title('Number Of Passengers By Embarked')\n",
    "ax[0,1].set_title('Embarked and Sex')\n",
    "ax[1,0].set_title('Embarked and Survived')\n",
    "ax[1,1].set_title('Embarked vs Survived Ratio')\n",
    "ax[2,0].set_title('Embarked and Sex vs Survived Ratio')\n",
    "ax[2,1].set_title('Embarked and Pclass vs Survived Ratio')\n",
    "plt.show()"
   ]
  },
  {
   "cell_type": "code",
   "execution_count": 18,
   "id": "incomplete-recording",
   "metadata": {
    "_kg_hide-input": true,
    "execution": {
     "iopub.execute_input": "2021-06-02T14:37:50.973282Z",
     "iopub.status.busy": "2021-06-02T14:37:50.972298Z",
     "iopub.status.idle": "2021-06-02T14:37:52.204927Z",
     "shell.execute_reply": "2021-06-02T14:37:52.204381Z",
     "shell.execute_reply.started": "2021-06-02T14:35:41.254364Z"
    },
    "papermill": {
     "duration": 1.314903,
     "end_time": "2021-06-02T14:37:52.205078",
     "exception": false,
     "start_time": "2021-06-02T14:37:50.890175",
     "status": "completed"
    },
    "tags": []
   },
   "outputs": [
    {
     "data": {
      "image/png": "[encoded data removed]",
      "text/plain": [
       "<Figure size 1178.9x360 with 3 Axes>"
      ]
     },
     "metadata": {},
     "output_type": "display_data"
    }
   ],
   "source": [
    "sns.factorplot('Pclass','Survived',hue='Sex',col='Embarked',data=train_df, errwidth=3)\n",
    "plt.show()"
   ]
  },
  {
   "cell_type": "markdown",
   "id": "nearby-cisco",
   "metadata": {
    "papermill": {
     "duration": 0.078178,
     "end_time": "2021-06-02T14:37:52.362428",
     "exception": false,
     "start_time": "2021-06-02T14:37:52.284250",
     "status": "completed"
    },
    "tags": []
   },
   "source": [
    "<a id='11'></a><br>\n",
    "## Numerical Variable Analysis"
   ]
  },
  {
   "cell_type": "markdown",
   "id": "decimal-luxury",
   "metadata": {
    "papermill": {
     "duration": 0.077629,
     "end_time": "2021-06-02T14:37:52.519775",
     "exception": false,
     "start_time": "2021-06-02T14:37:52.442146",
     "status": "completed"
    },
    "tags": []
   },
   "source": [
    "<a id='12'></a><br>\n",
    "### Age"
   ]
  },
  {
   "cell_type": "code",
   "execution_count": 19,
   "id": "respiratory-divorce",
   "metadata": {
    "execution": {
     "iopub.execute_input": "2021-06-02T14:37:52.845269Z",
     "iopub.status.busy": "2021-06-02T14:37:52.844567Z",
     "iopub.status.idle": "2021-06-02T14:37:53.419550Z",
     "shell.execute_reply": "2021-06-02T14:37:53.418877Z",
     "shell.execute_reply.started": "2021-06-02T14:35:42.313773Z"
    },
    "papermill": {
     "duration": 0.820267,
     "end_time": "2021-06-02T14:37:53.419691",
     "exception": false,
     "start_time": "2021-06-02T14:37:52.599424",
     "status": "completed"
    },
    "tags": []
   },
   "outputs": [
    {
     "data": {
      "image/png": "[encoded data removed]",
      "text/plain": [
       "<Figure size 1152x432 with 2 Axes>"
      ]
     },
     "metadata": {},
     "output_type": "display_data"
    }
   ],
   "source": [
    "female = train_df[train_df['Sex']=='female']\n",
    "male = train_df[train_df['Sex']=='male']\n",
    "\n",
    "fig, ax = plt.subplots(nrows=1, ncols=2,figsize=(16, 6))\n",
    "\n",
    "sns.distplot(female[female['Survived']==1].Age.dropna(), bins=18, label='survived: 1', ax=ax[0], kde=False, color=\"green\")\n",
    "sns.distplot(female[female['Survived']==0].Age.dropna(), bins=40, label='survived: 0', ax=ax[0], kde=False, color=\"red\")\n",
    "\n",
    "sns.distplot(male[male['Survived']==1].Age.dropna(), bins=18, label ='survived: 1', ax=ax[1], kde=False, color=\"green\")\n",
    "sns.distplot(male[male['Survived']==0].Age.dropna(), bins=40, label ='survived: 0', ax=ax[1], kde=False, color=\"red\")\n",
    "ax[0].legend()\n",
    "ax[1].legend()\n",
    "ax[0].set_title('Female')\n",
    "ax[1].set_title('Male')\n",
    "plt.show()"
   ]
  },
  {
   "cell_type": "code",
   "execution_count": 20,
   "id": "gross-tattoo",
   "metadata": {
    "_kg_hide-input": true,
    "execution": {
     "iopub.execute_input": "2021-06-02T14:37:53.612237Z",
     "iopub.status.busy": "2021-06-02T14:37:53.606054Z",
     "iopub.status.idle": "2021-06-02T14:37:55.069139Z",
     "shell.execute_reply": "2021-06-02T14:37:55.068527Z",
     "shell.execute_reply.started": "2021-06-02T14:35:43.120617Z"
    },
    "papermill": {
     "duration": 1.570829,
     "end_time": "2021-06-02T14:37:55.069273",
     "exception": false,
     "start_time": "2021-06-02T14:37:53.498444",
     "status": "completed"
    },
    "tags": []
   },
   "outputs": [
    {
     "data": {
      "image/png": "[encoded data removed]",
      "text/plain": [
       "<Figure size 1296x1080 with 6 Axes>"
      ]
     },
     "metadata": {},
     "output_type": "display_data"
    }
   ],
   "source": [
    "female = train_df[train_df['Sex']=='female']\n",
    "male = train_df[train_df['Sex']=='male']\n",
    "\n",
    "def draw_plot(df1, df2, i):\n",
    "    sns.distplot(df1[(df1['Survived']==1) & (df1['Pclass']==i+1)].Age.dropna(), bins=18, label='survived: 1', ax=ax[0,i], kde=False, color=\"green\")\n",
    "    sns.distplot(df1[(df1['Survived']==0) & (df1['Pclass']==i+1)].Age.dropna(), bins=40, label='survived: 0', ax=ax[0,i], kde=False, color=\"red\")  \n",
    "    sns.distplot(df2[(df2['Survived']==1) & (df2['Pclass']==i+1)].Age.dropna(), bins=18, label='survived: 1', ax=ax[1,i], kde=False, color=\"green\")\n",
    "    sns.distplot(df2[(df2['Survived']==0) & (df2['Pclass']==i+1)].Age.dropna(), bins=40, label='survived: 0', ax=ax[1,i], kde=False, color=\"red\")\n",
    "    \n",
    "fig, ax = plt.subplots(nrows=2, ncols=3,figsize=(18, 15))\n",
    "for i in range(3):\n",
    "    draw_plot(female, male, i)\n",
    "    ax[0,i].legend(loc='upper right')\n",
    "    ax[1,i].legend(loc='upper right')\n",
    "    ax[0,i].set_title('Pclass {} vs Survived - Female'.format(i+1))\n",
    "    ax[1,i].set_title('Pclass {} vs Survived - Male'.format(i+1))\n",
    "plt.show()"
   ]
  },
  {
   "cell_type": "markdown",
   "id": "after-polyester",
   "metadata": {
    "papermill": {
     "duration": 0.081072,
     "end_time": "2021-06-02T14:37:55.231945",
     "exception": false,
     "start_time": "2021-06-02T14:37:55.150873",
     "status": "completed"
    },
    "tags": []
   },
   "source": [
    "> * It seems that the survival rate at young ages is really high."
   ]
  },
  {
   "cell_type": "markdown",
   "id": "satisfied-comparative",
   "metadata": {
    "papermill": {
     "duration": 0.080003,
     "end_time": "2021-06-02T14:37:55.392448",
     "exception": false,
     "start_time": "2021-06-02T14:37:55.312445",
     "status": "completed"
    },
    "tags": []
   },
   "source": [
    "<a id='13'></a><br>\n",
    "### Fare"
   ]
  },
  {
   "cell_type": "code",
   "execution_count": 21,
   "id": "measured-intensity",
   "metadata": {
    "execution": {
     "iopub.execute_input": "2021-06-02T14:37:55.613865Z",
     "iopub.status.busy": "2021-06-02T14:37:55.575899Z",
     "iopub.status.idle": "2021-06-02T14:37:56.177072Z",
     "shell.execute_reply": "2021-06-02T14:37:56.176050Z",
     "shell.execute_reply.started": "2021-06-02T14:35:44.446048Z"
    },
    "papermill": {
     "duration": 0.704272,
     "end_time": "2021-06-02T14:37:56.177228",
     "exception": false,
     "start_time": "2021-06-02T14:37:55.472956",
     "status": "completed"
    },
    "tags": []
   },
   "outputs": [
    {
     "data": {
      "image/png": "[encoded data removed]",
      "text/plain": [
       "<Figure size 1440x576 with 3 Axes>"
      ]
     },
     "metadata": {},
     "output_type": "display_data"
    }
   ],
   "source": [
    "fig, ax= plt.subplots(nrows=1, ncols=3, figsize=(20,8))\n",
    "sns.distplot(train_df[train_df['Pclass']==1].Fare,ax=ax[0])\n",
    "ax[0].set_title('Fares in Pclass 1')\n",
    "sns.distplot(train_df[train_df['Pclass']==2].Fare,ax=ax[1])\n",
    "ax[1].set_title('Fares in Pclass 2')\n",
    "sns.distplot(train_df[train_df['Pclass']==3].Fare,ax=ax[2])\n",
    "ax[2].set_title('Fares in Pclass 3')\n",
    "plt.show()"
   ]
  },
  {
   "cell_type": "markdown",
   "id": "charming-tower",
   "metadata": {
    "papermill": {
     "duration": 0.082194,
     "end_time": "2021-06-02T14:37:56.342549",
     "exception": false,
     "start_time": "2021-06-02T14:37:56.260355",
     "status": "completed"
    },
    "tags": []
   },
   "source": [
    "<a id='14'></a><br>\n",
    "# Filling Missing Values"
   ]
  },
  {
   "cell_type": "code",
   "execution_count": 22,
   "id": "separate-elements",
   "metadata": {
    "execution": {
     "iopub.execute_input": "2021-06-02T14:37:56.532811Z",
     "iopub.status.busy": "2021-06-02T14:37:56.532130Z",
     "iopub.status.idle": "2021-06-02T14:37:56.535957Z",
     "shell.execute_reply": "2021-06-02T14:37:56.536531Z",
     "shell.execute_reply.started": "2021-06-02T14:35:45.022724Z"
    },
    "papermill": {
     "duration": 0.111877,
     "end_time": "2021-06-02T14:37:56.536699",
     "exception": false,
     "start_time": "2021-06-02T14:37:56.424822",
     "status": "completed"
    },
    "tags": []
   },
   "outputs": [
    {
     "data": {
      "text/html": [
       "<div>\n",
       "<style scoped>\n",
       "    .dataframe tbody tr th:only-of-type {\n",
       "        vertical-align: middle;\n",
       "    }\n",
       "\n",
       "    .dataframe tbody tr th {\n",
       "        vertical-align: top;\n",
       "    }\n",
       "\n",
       "    .dataframe thead th {\n",
       "        text-align: right;\n",
       "    }\n",
       "</style>\n",
       "<table border=\"1\" class=\"dataframe\">\n",
       "  <thead>\n",
       "    <tr style=\"text-align: right;\">\n",
       "      <th></th>\n",
       "      <th>PassengerId</th>\n",
       "      <th>Survived</th>\n",
       "      <th>Pclass</th>\n",
       "      <th>Name</th>\n",
       "      <th>Sex</th>\n",
       "      <th>Age</th>\n",
       "      <th>SibSp</th>\n",
       "      <th>Parch</th>\n",
       "      <th>Ticket</th>\n",
       "      <th>Fare</th>\n",
       "      <th>Cabin</th>\n",
       "      <th>Embarked</th>\n",
       "    </tr>\n",
       "  </thead>\n",
       "  <tbody>\n",
       "    <tr>\n",
       "      <th>0</th>\n",
       "      <td>1</td>\n",
       "      <td>0</td>\n",
       "      <td>3</td>\n",
       "      <td>Braund, Mr. Owen Harris</td>\n",
       "      <td>male</td>\n",
       "      <td>22.0</td>\n",
       "      <td>1</td>\n",
       "      <td>0</td>\n",
       "      <td>A/5 21171</td>\n",
       "      <td>7.2500</td>\n",
       "      <td>NaN</td>\n",
       "      <td>S</td>\n",
       "    </tr>\n",
       "    <tr>\n",
       "      <th>1</th>\n",
       "      <td>2</td>\n",
       "      <td>1</td>\n",
       "      <td>1</td>\n",
       "      <td>Cumings, Mrs. John Bradley (Florence Briggs Th...</td>\n",
       "      <td>female</td>\n",
       "      <td>38.0</td>\n",
       "      <td>1</td>\n",
       "      <td>0</td>\n",
       "      <td>PC 17599</td>\n",
       "      <td>71.2833</td>\n",
       "      <td>C85</td>\n",
       "      <td>C</td>\n",
       "    </tr>\n",
       "    <tr>\n",
       "      <th>2</th>\n",
       "      <td>3</td>\n",
       "      <td>1</td>\n",
       "      <td>3</td>\n",
       "      <td>Heikkinen, Miss. Laina</td>\n",
       "      <td>female</td>\n",
       "      <td>26.0</td>\n",
       "      <td>0</td>\n",
       "      <td>0</td>\n",
       "      <td>STON/O2. 3101282</td>\n",
       "      <td>7.9250</td>\n",
       "      <td>NaN</td>\n",
       "      <td>S</td>\n",
       "    </tr>\n",
       "    <tr>\n",
       "      <th>3</th>\n",
       "      <td>4</td>\n",
       "      <td>1</td>\n",
       "      <td>1</td>\n",
       "      <td>Futrelle, Mrs. Jacques Heath (Lily May Peel)</td>\n",
       "      <td>female</td>\n",
       "      <td>35.0</td>\n",
       "      <td>1</td>\n",
       "      <td>0</td>\n",
       "      <td>113803</td>\n",
       "      <td>53.1000</td>\n",
       "      <td>C123</td>\n",
       "      <td>S</td>\n",
       "    </tr>\n",
       "    <tr>\n",
       "      <th>4</th>\n",
       "      <td>5</td>\n",
       "      <td>0</td>\n",
       "      <td>3</td>\n",
       "      <td>Allen, Mr. William Henry</td>\n",
       "      <td>male</td>\n",
       "      <td>35.0</td>\n",
       "      <td>0</td>\n",
       "      <td>0</td>\n",
       "      <td>373450</td>\n",
       "      <td>8.0500</td>\n",
       "      <td>NaN</td>\n",
       "      <td>S</td>\n",
       "    </tr>\n",
       "    <tr>\n",
       "      <th>...</th>\n",
       "      <td>...</td>\n",
       "      <td>...</td>\n",
       "      <td>...</td>\n",
       "      <td>...</td>\n",
       "      <td>...</td>\n",
       "      <td>...</td>\n",
       "      <td>...</td>\n",
       "      <td>...</td>\n",
       "      <td>...</td>\n",
       "      <td>...</td>\n",
       "      <td>...</td>\n",
       "      <td>...</td>\n",
       "    </tr>\n",
       "    <tr>\n",
       "      <th>886</th>\n",
       "      <td>887</td>\n",
       "      <td>0</td>\n",
       "      <td>2</td>\n",
       "      <td>Montvila, Rev. Juozas</td>\n",
       "      <td>male</td>\n",
       "      <td>27.0</td>\n",
       "      <td>0</td>\n",
       "      <td>0</td>\n",
       "      <td>211536</td>\n",
       "      <td>13.0000</td>\n",
       "      <td>NaN</td>\n",
       "      <td>S</td>\n",
       "    </tr>\n",
       "    <tr>\n",
       "      <th>887</th>\n",
       "      <td>888</td>\n",
       "      <td>1</td>\n",
       "      <td>1</td>\n",
       "      <td>Graham, Miss. Margaret Edith</td>\n",
       "      <td>female</td>\n",
       "      <td>19.0</td>\n",
       "      <td>0</td>\n",
       "      <td>0</td>\n",
       "      <td>112053</td>\n",
       "      <td>30.0000</td>\n",
       "      <td>B42</td>\n",
       "      <td>S</td>\n",
       "    </tr>\n",
       "    <tr>\n",
       "      <th>888</th>\n",
       "      <td>889</td>\n",
       "      <td>0</td>\n",
       "      <td>3</td>\n",
       "      <td>Johnston, Miss. Catherine Helen \"Carrie\"</td>\n",
       "      <td>female</td>\n",
       "      <td>NaN</td>\n",
       "      <td>1</td>\n",
       "      <td>2</td>\n",
       "      <td>W./C. 6607</td>\n",
       "      <td>23.4500</td>\n",
       "      <td>NaN</td>\n",
       "      <td>S</td>\n",
       "    </tr>\n",
       "    <tr>\n",
       "      <th>889</th>\n",
       "      <td>890</td>\n",
       "      <td>1</td>\n",
       "      <td>1</td>\n",
       "      <td>Behr, Mr. Karl Howell</td>\n",
       "      <td>male</td>\n",
       "      <td>26.0</td>\n",
       "      <td>0</td>\n",
       "      <td>0</td>\n",
       "      <td>111369</td>\n",
       "      <td>30.0000</td>\n",
       "      <td>C148</td>\n",
       "      <td>C</td>\n",
       "    </tr>\n",
       "    <tr>\n",
       "      <th>890</th>\n",
       "      <td>891</td>\n",
       "      <td>0</td>\n",
       "      <td>3</td>\n",
       "      <td>Dooley, Mr. Patrick</td>\n",
       "      <td>male</td>\n",
       "      <td>32.0</td>\n",
       "      <td>0</td>\n",
       "      <td>0</td>\n",
       "      <td>370376</td>\n",
       "      <td>7.7500</td>\n",
       "      <td>NaN</td>\n",
       "      <td>Q</td>\n",
       "    </tr>\n",
       "  </tbody>\n",
       "</table>\n",
       "<p>891 rows × 12 columns</p>\n",
       "</div>"
      ],
      "text/plain": [
       "     PassengerId  Survived  Pclass  \\\n",
       "0              1         0       3   \n",
       "1              2         1       1   \n",
       "2              3         1       3   \n",
       "3              4         1       1   \n",
       "4              5         0       3   \n",
       "..           ...       ...     ...   \n",
       "886          887         0       2   \n",
       "887          888         1       1   \n",
       "888          889         0       3   \n",
       "889          890         1       1   \n",
       "890          891         0       3   \n",
       "\n",
       "                                                  Name     Sex   Age  SibSp  \\\n",
       "0                              Braund, Mr. Owen Harris    male  22.0      1   \n",
       "1    Cumings, Mrs. John Bradley (Florence Briggs Th...  female  38.0      1   \n",
       "2                               Heikkinen, Miss. Laina  female  26.0      0   \n",
       "3         Futrelle, Mrs. Jacques Heath (Lily May Peel)  female  35.0      1   \n",
       "4                             Allen, Mr. William Henry    male  35.0      0   \n",
       "..                                                 ...     ...   ...    ...   \n",
       "886                              Montvila, Rev. Juozas    male  27.0      0   \n",
       "887                       Graham, Miss. Margaret Edith  female  19.0      0   \n",
       "888           Johnston, Miss. Catherine Helen \"Carrie\"  female   NaN      1   \n",
       "889                              Behr, Mr. Karl Howell    male  26.0      0   \n",
       "890                                Dooley, Mr. Patrick    male  32.0      0   \n",
       "\n",
       "     Parch            Ticket     Fare Cabin Embarked  \n",
       "0        0         A/5 21171   7.2500   NaN        S  \n",
       "1        0          PC 17599  71.2833   C85        C  \n",
       "2        0  STON/O2. 3101282   7.9250   NaN        S  \n",
       "3        0            113803  53.1000  C123        S  \n",
       "4        0            373450   8.0500   NaN        S  \n",
       "..     ...               ...      ...   ...      ...  \n",
       "886      0            211536  13.0000   NaN        S  \n",
       "887      0            112053  30.0000   B42        S  \n",
       "888      2        W./C. 6607  23.4500   NaN        S  \n",
       "889      0            111369  30.0000  C148        C  \n",
       "890      0            370376   7.7500   NaN        Q  \n",
       "\n",
       "[891 rows x 12 columns]"
      ]
     },
     "execution_count": 22,
     "metadata": {},
     "output_type": "execute_result"
    }
   ],
   "source": [
    "train_df"
   ]
  },
  {
   "cell_type": "code",
   "execution_count": 23,
   "id": "accessible-lemon",
   "metadata": {
    "execution": {
     "iopub.execute_input": "2021-06-02T14:37:56.709490Z",
     "iopub.status.busy": "2021-06-02T14:37:56.708827Z",
     "iopub.status.idle": "2021-06-02T14:37:56.735169Z",
     "shell.execute_reply": "2021-06-02T14:37:56.734592Z",
     "shell.execute_reply.started": "2021-06-02T14:35:45.053499Z"
    },
    "papermill": {
     "duration": 0.113238,
     "end_time": "2021-06-02T14:37:56.735310",
     "exception": false,
     "start_time": "2021-06-02T14:37:56.622072",
     "status": "completed"
    },
    "tags": []
   },
   "outputs": [
    {
     "data": {
      "text/html": [
       "<div>\n",
       "<style scoped>\n",
       "    .dataframe tbody tr th:only-of-type {\n",
       "        vertical-align: middle;\n",
       "    }\n",
       "\n",
       "    .dataframe tbody tr th {\n",
       "        vertical-align: top;\n",
       "    }\n",
       "\n",
       "    .dataframe thead th {\n",
       "        text-align: right;\n",
       "    }\n",
       "</style>\n",
       "<table border=\"1\" class=\"dataframe\">\n",
       "  <thead>\n",
       "    <tr style=\"text-align: right;\">\n",
       "      <th></th>\n",
       "      <th>PassengerId</th>\n",
       "      <th>Survived</th>\n",
       "      <th>Pclass</th>\n",
       "      <th>Name</th>\n",
       "      <th>Sex</th>\n",
       "      <th>Age</th>\n",
       "      <th>SibSp</th>\n",
       "      <th>Parch</th>\n",
       "      <th>Ticket</th>\n",
       "      <th>Fare</th>\n",
       "      <th>Cabin</th>\n",
       "      <th>Embarked</th>\n",
       "    </tr>\n",
       "  </thead>\n",
       "  <tbody>\n",
       "    <tr>\n",
       "      <th>342</th>\n",
       "      <td>343</td>\n",
       "      <td>0.0</td>\n",
       "      <td>2</td>\n",
       "      <td>Collander, Mr. Erik Gustaf</td>\n",
       "      <td>male</td>\n",
       "      <td>28.0</td>\n",
       "      <td>0</td>\n",
       "      <td>0</td>\n",
       "      <td>248740</td>\n",
       "      <td>13.0000</td>\n",
       "      <td>NaN</td>\n",
       "      <td>S</td>\n",
       "    </tr>\n",
       "    <tr>\n",
       "      <th>660</th>\n",
       "      <td>661</td>\n",
       "      <td>1.0</td>\n",
       "      <td>1</td>\n",
       "      <td>Frauenthal, Dr. Henry William</td>\n",
       "      <td>male</td>\n",
       "      <td>50.0</td>\n",
       "      <td>2</td>\n",
       "      <td>0</td>\n",
       "      <td>PC 17611</td>\n",
       "      <td>133.6500</td>\n",
       "      <td>NaN</td>\n",
       "      <td>S</td>\n",
       "    </tr>\n",
       "    <tr>\n",
       "      <th>127</th>\n",
       "      <td>128</td>\n",
       "      <td>1.0</td>\n",
       "      <td>3</td>\n",
       "      <td>Madsen, Mr. Fridtjof Arne</td>\n",
       "      <td>male</td>\n",
       "      <td>24.0</td>\n",
       "      <td>0</td>\n",
       "      <td>0</td>\n",
       "      <td>C 17369</td>\n",
       "      <td>7.1417</td>\n",
       "      <td>NaN</td>\n",
       "      <td>S</td>\n",
       "    </tr>\n",
       "    <tr>\n",
       "      <th>116</th>\n",
       "      <td>117</td>\n",
       "      <td>0.0</td>\n",
       "      <td>3</td>\n",
       "      <td>Connors, Mr. Patrick</td>\n",
       "      <td>male</td>\n",
       "      <td>70.5</td>\n",
       "      <td>0</td>\n",
       "      <td>0</td>\n",
       "      <td>370369</td>\n",
       "      <td>7.7500</td>\n",
       "      <td>NaN</td>\n",
       "      <td>Q</td>\n",
       "    </tr>\n",
       "    <tr>\n",
       "      <th>130</th>\n",
       "      <td>131</td>\n",
       "      <td>0.0</td>\n",
       "      <td>3</td>\n",
       "      <td>Drazenoic, Mr. Jozef</td>\n",
       "      <td>male</td>\n",
       "      <td>33.0</td>\n",
       "      <td>0</td>\n",
       "      <td>0</td>\n",
       "      <td>349241</td>\n",
       "      <td>7.8958</td>\n",
       "      <td>NaN</td>\n",
       "      <td>C</td>\n",
       "    </tr>\n",
       "    <tr>\n",
       "      <th>1148</th>\n",
       "      <td>1149</td>\n",
       "      <td>NaN</td>\n",
       "      <td>3</td>\n",
       "      <td>Niklasson, Mr. Samuel</td>\n",
       "      <td>male</td>\n",
       "      <td>28.0</td>\n",
       "      <td>0</td>\n",
       "      <td>0</td>\n",
       "      <td>363611</td>\n",
       "      <td>8.0500</td>\n",
       "      <td>NaN</td>\n",
       "      <td>S</td>\n",
       "    </tr>\n",
       "    <tr>\n",
       "      <th>1116</th>\n",
       "      <td>1117</td>\n",
       "      <td>NaN</td>\n",
       "      <td>3</td>\n",
       "      <td>Moubarek, Mrs. George (Omine Amenia\" Alexander)\"</td>\n",
       "      <td>female</td>\n",
       "      <td>NaN</td>\n",
       "      <td>0</td>\n",
       "      <td>2</td>\n",
       "      <td>2661</td>\n",
       "      <td>15.2458</td>\n",
       "      <td>NaN</td>\n",
       "      <td>C</td>\n",
       "    </tr>\n",
       "    <tr>\n",
       "      <th>618</th>\n",
       "      <td>619</td>\n",
       "      <td>1.0</td>\n",
       "      <td>2</td>\n",
       "      <td>Becker, Miss. Marion Louise</td>\n",
       "      <td>female</td>\n",
       "      <td>4.0</td>\n",
       "      <td>2</td>\n",
       "      <td>1</td>\n",
       "      <td>230136</td>\n",
       "      <td>39.0000</td>\n",
       "      <td>F4</td>\n",
       "      <td>S</td>\n",
       "    </tr>\n",
       "    <tr>\n",
       "      <th>1206</th>\n",
       "      <td>1207</td>\n",
       "      <td>NaN</td>\n",
       "      <td>3</td>\n",
       "      <td>Hagardon, Miss. Kate</td>\n",
       "      <td>female</td>\n",
       "      <td>17.0</td>\n",
       "      <td>0</td>\n",
       "      <td>0</td>\n",
       "      <td>AQ/3. 30631</td>\n",
       "      <td>7.7333</td>\n",
       "      <td>NaN</td>\n",
       "      <td>Q</td>\n",
       "    </tr>\n",
       "    <tr>\n",
       "      <th>877</th>\n",
       "      <td>878</td>\n",
       "      <td>0.0</td>\n",
       "      <td>3</td>\n",
       "      <td>Petroff, Mr. Nedelio</td>\n",
       "      <td>male</td>\n",
       "      <td>19.0</td>\n",
       "      <td>0</td>\n",
       "      <td>0</td>\n",
       "      <td>349212</td>\n",
       "      <td>7.8958</td>\n",
       "      <td>NaN</td>\n",
       "      <td>S</td>\n",
       "    </tr>\n",
       "  </tbody>\n",
       "</table>\n",
       "</div>"
      ],
      "text/plain": [
       "      PassengerId  Survived  Pclass  \\\n",
       "342           343       0.0       2   \n",
       "660           661       1.0       1   \n",
       "127           128       1.0       3   \n",
       "116           117       0.0       3   \n",
       "130           131       0.0       3   \n",
       "1148         1149       NaN       3   \n",
       "1116         1117       NaN       3   \n",
       "618           619       1.0       2   \n",
       "1206         1207       NaN       3   \n",
       "877           878       0.0       3   \n",
       "\n",
       "                                                  Name     Sex   Age  SibSp  \\\n",
       "342                         Collander, Mr. Erik Gustaf    male  28.0      0   \n",
       "660                      Frauenthal, Dr. Henry William    male  50.0      2   \n",
       "127                          Madsen, Mr. Fridtjof Arne    male  24.0      0   \n",
       "116                               Connors, Mr. Patrick    male  70.5      0   \n",
       "130                               Drazenoic, Mr. Jozef    male  33.0      0   \n",
       "1148                             Niklasson, Mr. Samuel    male  28.0      0   \n",
       "1116  Moubarek, Mrs. George (Omine Amenia\" Alexander)\"  female   NaN      0   \n",
       "618                        Becker, Miss. Marion Louise  female   4.0      2   \n",
       "1206                              Hagardon, Miss. Kate  female  17.0      0   \n",
       "877                               Petroff, Mr. Nedelio    male  19.0      0   \n",
       "\n",
       "      Parch       Ticket      Fare Cabin Embarked  \n",
       "342       0       248740   13.0000   NaN        S  \n",
       "660       0     PC 17611  133.6500   NaN        S  \n",
       "127       0      C 17369    7.1417   NaN        S  \n",
       "116       0       370369    7.7500   NaN        Q  \n",
       "130       0       349241    7.8958   NaN        C  \n",
       "1148      0       363611    8.0500   NaN        S  \n",
       "1116      2         2661   15.2458   NaN        C  \n",
       "618       1       230136   39.0000    F4        S  \n",
       "1206      0  AQ/3. 30631    7.7333   NaN        Q  \n",
       "877       0       349212    7.8958   NaN        S  "
      ]
     },
     "execution_count": 23,
     "metadata": {},
     "output_type": "execute_result"
    }
   ],
   "source": [
    "train_df_len = len(train_df)\n",
    "df = pd.concat([train_df,test_df],axis = 0).reset_index(drop = True)\n",
    "df.sample(10)"
   ]
  },
  {
   "cell_type": "markdown",
   "id": "absent-wayne",
   "metadata": {
    "papermill": {
     "duration": 0.08546,
     "end_time": "2021-06-02T14:37:56.905423",
     "exception": false,
     "start_time": "2021-06-02T14:37:56.819963",
     "status": "completed"
    },
    "tags": []
   },
   "source": [
    "* Now that we have examined our properties, let's try to fill in the NaN values.\n",
    "* Let's take a look again"
   ]
  },
  {
   "cell_type": "code",
   "execution_count": 24,
   "id": "dying-violence",
   "metadata": {
    "execution": {
     "iopub.execute_input": "2021-06-02T14:37:57.085718Z",
     "iopub.status.busy": "2021-06-02T14:37:57.085043Z",
     "iopub.status.idle": "2021-06-02T14:37:57.087753Z",
     "shell.execute_reply": "2021-06-02T14:37:57.088319Z",
     "shell.execute_reply.started": "2021-06-02T14:35:45.086456Z"
    },
    "papermill": {
     "duration": 0.097158,
     "end_time": "2021-06-02T14:37:57.088500",
     "exception": false,
     "start_time": "2021-06-02T14:37:56.991342",
     "status": "completed"
    },
    "tags": []
   },
   "outputs": [
    {
     "data": {
      "text/plain": [
       "PassengerId       0\n",
       "Survived        418\n",
       "Pclass            0\n",
       "Name              0\n",
       "Sex               0\n",
       "Age             263\n",
       "SibSp             0\n",
       "Parch             0\n",
       "Ticket            0\n",
       "Fare              1\n",
       "Cabin          1014\n",
       "Embarked          2\n",
       "dtype: int64"
      ]
     },
     "execution_count": 24,
     "metadata": {},
     "output_type": "execute_result"
    }
   ],
   "source": [
    "df.isnull().sum()"
   ]
  },
  {
   "cell_type": "markdown",
   "id": "disabled-europe",
   "metadata": {
    "papermill": {
     "duration": 0.08637,
     "end_time": "2021-06-02T14:37:57.261942",
     "exception": false,
     "start_time": "2021-06-02T14:37:57.175572",
     "status": "completed"
    },
    "tags": []
   },
   "source": [
    "<a id='15'></a><br>\n",
    "### Filling Age Feature"
   ]
  },
  {
   "cell_type": "code",
   "execution_count": 25,
   "id": "violent-brush",
   "metadata": {
    "execution": {
     "iopub.execute_input": "2021-06-02T14:37:57.678749Z",
     "iopub.status.busy": "2021-06-02T14:37:57.677631Z",
     "iopub.status.idle": "2021-06-02T14:37:57.682274Z",
     "shell.execute_reply": "2021-06-02T14:37:57.681731Z",
     "shell.execute_reply.started": "2021-06-02T14:35:45.103133Z"
    },
    "papermill": {
     "duration": 0.335081,
     "end_time": "2021-06-02T14:37:57.682416",
     "exception": false,
     "start_time": "2021-06-02T14:37:57.347335",
     "status": "completed"
    },
    "tags": []
   },
   "outputs": [
    {
     "data": {
      "text/plain": [
       "Mr        770\n",
       "Miss      265\n",
       "Mrs       199\n",
       "Master     61\n",
       "Other      14\n",
       "Name: Appellation, dtype: int64"
      ]
     },
     "execution_count": 25,
     "metadata": {},
     "output_type": "execute_result"
    }
   ],
   "source": [
    "df['Appellation']=0\n",
    "for i in df:\n",
    "    df['Appellation']=df.Name.str.extract('([A-Za-z]+)\\.')\n",
    "df['Appellation'].replace(['Mlle','Mme','Ms','Dr','Major','Lady','Countess','Jonkheer','Col','Rev','Capt','Sir','Don', 'Dona'],\n",
    "                        ['Miss','Miss','Miss','Mr','Mr','Mrs','Mrs','Other','Other','Other','Mr','Mr','Mr', 'Other'],inplace=True)\n",
    "df['Appellation'].value_counts()"
   ]
  },
  {
   "cell_type": "code",
   "execution_count": 26,
   "id": "adopted-prerequisite",
   "metadata": {
    "execution": {
     "iopub.execute_input": "2021-06-02T14:37:57.883880Z",
     "iopub.status.busy": "2021-06-02T14:37:57.875981Z",
     "iopub.status.idle": "2021-06-02T14:37:57.888802Z",
     "shell.execute_reply": "2021-06-02T14:37:57.888137Z",
     "shell.execute_reply.started": "2021-06-02T14:35:45.177282Z"
    },
    "papermill": {
     "duration": 0.119616,
     "end_time": "2021-06-02T14:37:57.888948",
     "exception": false,
     "start_time": "2021-06-02T14:37:57.769332",
     "status": "completed"
    },
    "tags": []
   },
   "outputs": [
    {
     "data": {
      "text/html": [
       "<div>\n",
       "<style scoped>\n",
       "    .dataframe tbody tr th:only-of-type {\n",
       "        vertical-align: middle;\n",
       "    }\n",
       "\n",
       "    .dataframe tbody tr th {\n",
       "        vertical-align: top;\n",
       "    }\n",
       "\n",
       "    .dataframe thead th {\n",
       "        text-align: right;\n",
       "    }\n",
       "</style>\n",
       "<table border=\"1\" class=\"dataframe\">\n",
       "  <thead>\n",
       "    <tr style=\"text-align: right;\">\n",
       "      <th></th>\n",
       "      <th>PassengerId</th>\n",
       "      <th>Survived</th>\n",
       "      <th>Pclass</th>\n",
       "      <th>Name</th>\n",
       "      <th>Sex</th>\n",
       "      <th>Age</th>\n",
       "      <th>SibSp</th>\n",
       "      <th>Parch</th>\n",
       "      <th>Ticket</th>\n",
       "      <th>Fare</th>\n",
       "      <th>Cabin</th>\n",
       "      <th>Embarked</th>\n",
       "      <th>Appellation</th>\n",
       "    </tr>\n",
       "  </thead>\n",
       "  <tbody>\n",
       "    <tr>\n",
       "      <th>5</th>\n",
       "      <td>6</td>\n",
       "      <td>0.0</td>\n",
       "      <td>3</td>\n",
       "      <td>Moran, Mr. James</td>\n",
       "      <td>male</td>\n",
       "      <td>NaN</td>\n",
       "      <td>0</td>\n",
       "      <td>0</td>\n",
       "      <td>330877</td>\n",
       "      <td>8.4583</td>\n",
       "      <td>NaN</td>\n",
       "      <td>Q</td>\n",
       "      <td>Mr</td>\n",
       "    </tr>\n",
       "    <tr>\n",
       "      <th>17</th>\n",
       "      <td>18</td>\n",
       "      <td>1.0</td>\n",
       "      <td>2</td>\n",
       "      <td>Williams, Mr. Charles Eugene</td>\n",
       "      <td>male</td>\n",
       "      <td>NaN</td>\n",
       "      <td>0</td>\n",
       "      <td>0</td>\n",
       "      <td>244373</td>\n",
       "      <td>13.0000</td>\n",
       "      <td>NaN</td>\n",
       "      <td>S</td>\n",
       "      <td>Mr</td>\n",
       "    </tr>\n",
       "    <tr>\n",
       "      <th>19</th>\n",
       "      <td>20</td>\n",
       "      <td>1.0</td>\n",
       "      <td>3</td>\n",
       "      <td>Masselmani, Mrs. Fatima</td>\n",
       "      <td>female</td>\n",
       "      <td>NaN</td>\n",
       "      <td>0</td>\n",
       "      <td>0</td>\n",
       "      <td>2649</td>\n",
       "      <td>7.2250</td>\n",
       "      <td>NaN</td>\n",
       "      <td>C</td>\n",
       "      <td>Mrs</td>\n",
       "    </tr>\n",
       "    <tr>\n",
       "      <th>26</th>\n",
       "      <td>27</td>\n",
       "      <td>0.0</td>\n",
       "      <td>3</td>\n",
       "      <td>Emir, Mr. Farred Chehab</td>\n",
       "      <td>male</td>\n",
       "      <td>NaN</td>\n",
       "      <td>0</td>\n",
       "      <td>0</td>\n",
       "      <td>2631</td>\n",
       "      <td>7.2250</td>\n",
       "      <td>NaN</td>\n",
       "      <td>C</td>\n",
       "      <td>Mr</td>\n",
       "    </tr>\n",
       "    <tr>\n",
       "      <th>28</th>\n",
       "      <td>29</td>\n",
       "      <td>1.0</td>\n",
       "      <td>3</td>\n",
       "      <td>O'Dwyer, Miss. Ellen \"Nellie\"</td>\n",
       "      <td>female</td>\n",
       "      <td>NaN</td>\n",
       "      <td>0</td>\n",
       "      <td>0</td>\n",
       "      <td>330959</td>\n",
       "      <td>7.8792</td>\n",
       "      <td>NaN</td>\n",
       "      <td>Q</td>\n",
       "      <td>Miss</td>\n",
       "    </tr>\n",
       "    <tr>\n",
       "      <th>...</th>\n",
       "      <td>...</td>\n",
       "      <td>...</td>\n",
       "      <td>...</td>\n",
       "      <td>...</td>\n",
       "      <td>...</td>\n",
       "      <td>...</td>\n",
       "      <td>...</td>\n",
       "      <td>...</td>\n",
       "      <td>...</td>\n",
       "      <td>...</td>\n",
       "      <td>...</td>\n",
       "      <td>...</td>\n",
       "      <td>...</td>\n",
       "    </tr>\n",
       "    <tr>\n",
       "      <th>1299</th>\n",
       "      <td>1300</td>\n",
       "      <td>NaN</td>\n",
       "      <td>3</td>\n",
       "      <td>Riordan, Miss. Johanna Hannah\"\"</td>\n",
       "      <td>female</td>\n",
       "      <td>NaN</td>\n",
       "      <td>0</td>\n",
       "      <td>0</td>\n",
       "      <td>334915</td>\n",
       "      <td>7.7208</td>\n",
       "      <td>NaN</td>\n",
       "      <td>Q</td>\n",
       "      <td>Miss</td>\n",
       "    </tr>\n",
       "    <tr>\n",
       "      <th>1301</th>\n",
       "      <td>1302</td>\n",
       "      <td>NaN</td>\n",
       "      <td>3</td>\n",
       "      <td>Naughton, Miss. Hannah</td>\n",
       "      <td>female</td>\n",
       "      <td>NaN</td>\n",
       "      <td>0</td>\n",
       "      <td>0</td>\n",
       "      <td>365237</td>\n",
       "      <td>7.7500</td>\n",
       "      <td>NaN</td>\n",
       "      <td>Q</td>\n",
       "      <td>Miss</td>\n",
       "    </tr>\n",
       "    <tr>\n",
       "      <th>1304</th>\n",
       "      <td>1305</td>\n",
       "      <td>NaN</td>\n",
       "      <td>3</td>\n",
       "      <td>Spector, Mr. Woolf</td>\n",
       "      <td>male</td>\n",
       "      <td>NaN</td>\n",
       "      <td>0</td>\n",
       "      <td>0</td>\n",
       "      <td>A.5. 3236</td>\n",
       "      <td>8.0500</td>\n",
       "      <td>NaN</td>\n",
       "      <td>S</td>\n",
       "      <td>Mr</td>\n",
       "    </tr>\n",
       "    <tr>\n",
       "      <th>1307</th>\n",
       "      <td>1308</td>\n",
       "      <td>NaN</td>\n",
       "      <td>3</td>\n",
       "      <td>Ware, Mr. Frederick</td>\n",
       "      <td>male</td>\n",
       "      <td>NaN</td>\n",
       "      <td>0</td>\n",
       "      <td>0</td>\n",
       "      <td>359309</td>\n",
       "      <td>8.0500</td>\n",
       "      <td>NaN</td>\n",
       "      <td>S</td>\n",
       "      <td>Mr</td>\n",
       "    </tr>\n",
       "    <tr>\n",
       "      <th>1308</th>\n",
       "      <td>1309</td>\n",
       "      <td>NaN</td>\n",
       "      <td>3</td>\n",
       "      <td>Peter, Master. Michael J</td>\n",
       "      <td>male</td>\n",
       "      <td>NaN</td>\n",
       "      <td>1</td>\n",
       "      <td>1</td>\n",
       "      <td>2668</td>\n",
       "      <td>22.3583</td>\n",
       "      <td>NaN</td>\n",
       "      <td>C</td>\n",
       "      <td>Master</td>\n",
       "    </tr>\n",
       "  </tbody>\n",
       "</table>\n",
       "<p>263 rows × 13 columns</p>\n",
       "</div>"
      ],
      "text/plain": [
       "      PassengerId  Survived  Pclass                             Name     Sex  \\\n",
       "5               6       0.0       3                 Moran, Mr. James    male   \n",
       "17             18       1.0       2     Williams, Mr. Charles Eugene    male   \n",
       "19             20       1.0       3          Masselmani, Mrs. Fatima  female   \n",
       "26             27       0.0       3          Emir, Mr. Farred Chehab    male   \n",
       "28             29       1.0       3    O'Dwyer, Miss. Ellen \"Nellie\"  female   \n",
       "...           ...       ...     ...                              ...     ...   \n",
       "1299         1300       NaN       3  Riordan, Miss. Johanna Hannah\"\"  female   \n",
       "1301         1302       NaN       3           Naughton, Miss. Hannah  female   \n",
       "1304         1305       NaN       3               Spector, Mr. Woolf    male   \n",
       "1307         1308       NaN       3              Ware, Mr. Frederick    male   \n",
       "1308         1309       NaN       3         Peter, Master. Michael J    male   \n",
       "\n",
       "      Age  SibSp  Parch     Ticket     Fare Cabin Embarked Appellation  \n",
       "5     NaN      0      0     330877   8.4583   NaN        Q          Mr  \n",
       "17    NaN      0      0     244373  13.0000   NaN        S          Mr  \n",
       "19    NaN      0      0       2649   7.2250   NaN        C         Mrs  \n",
       "26    NaN      0      0       2631   7.2250   NaN        C          Mr  \n",
       "28    NaN      0      0     330959   7.8792   NaN        Q        Miss  \n",
       "...   ...    ...    ...        ...      ...   ...      ...         ...  \n",
       "1299  NaN      0      0     334915   7.7208   NaN        Q        Miss  \n",
       "1301  NaN      0      0     365237   7.7500   NaN        Q        Miss  \n",
       "1304  NaN      0      0  A.5. 3236   8.0500   NaN        S          Mr  \n",
       "1307  NaN      0      0     359309   8.0500   NaN        S          Mr  \n",
       "1308  NaN      1      1       2668  22.3583   NaN        C      Master  \n",
       "\n",
       "[263 rows x 13 columns]"
      ]
     },
     "execution_count": 26,
     "metadata": {},
     "output_type": "execute_result"
    }
   ],
   "source": [
    "df[df['Age'].isnull()]"
   ]
  },
  {
   "cell_type": "markdown",
   "id": "placed-nelson",
   "metadata": {
    "papermill": {
     "duration": 0.091004,
     "end_time": "2021-06-02T14:37:58.066625",
     "exception": false,
     "start_time": "2021-06-02T14:37:57.975621",
     "status": "completed"
    },
    "tags": []
   },
   "source": [
    "* We filtered the appellations. I think we can take advantage of this to fill the Age section."
   ]
  },
  {
   "cell_type": "code",
   "execution_count": 27,
   "id": "outdoor-mexico",
   "metadata": {
    "execution": {
     "iopub.execute_input": "2021-06-02T14:37:58.246393Z",
     "iopub.status.busy": "2021-06-02T14:37:58.243559Z",
     "iopub.status.idle": "2021-06-02T14:37:58.250496Z",
     "shell.execute_reply": "2021-06-02T14:37:58.249953Z",
     "shell.execute_reply.started": "2021-06-02T14:35:45.204606Z"
    },
    "papermill": {
     "duration": 0.097683,
     "end_time": "2021-06-02T14:37:58.250634",
     "exception": false,
     "start_time": "2021-06-02T14:37:58.152951",
     "status": "completed"
    },
    "tags": []
   },
   "outputs": [
    {
     "data": {
      "text/plain": [
       "Appellation\n",
       "Master     5.482642\n",
       "Miss      21.834533\n",
       "Mr        32.545531\n",
       "Mrs       37.034884\n",
       "Other     44.500000\n",
       "Name: Age, dtype: float64"
      ]
     },
     "execution_count": 27,
     "metadata": {},
     "output_type": "execute_result"
    }
   ],
   "source": [
    "df.groupby('Appellation')['Age'].mean()"
   ]
  },
  {
   "cell_type": "code",
   "execution_count": 28,
   "id": "racial-belize",
   "metadata": {
    "execution": {
     "iopub.execute_input": "2021-06-02T14:37:58.438152Z",
     "iopub.status.busy": "2021-06-02T14:37:58.437350Z",
     "iopub.status.idle": "2021-06-02T14:37:58.440275Z",
     "shell.execute_reply": "2021-06-02T14:37:58.439674Z",
     "shell.execute_reply.started": "2021-06-02T14:35:45.215677Z"
    },
    "papermill": {
     "duration": 0.1031,
     "end_time": "2021-06-02T14:37:58.440412",
     "exception": false,
     "start_time": "2021-06-02T14:37:58.337312",
     "status": "completed"
    },
    "tags": []
   },
   "outputs": [],
   "source": [
    "df.loc[(df.Age.isnull())&(df.Appellation=='Master'),'Age']=5\n",
    "df.loc[(df.Age.isnull())&(df.Appellation=='Miss'),'Age']=22\n",
    "df.loc[(df.Age.isnull())&(df.Appellation=='Mr'),'Age']=33\n",
    "df.loc[(df.Age.isnull())&(df.Appellation=='Mrs'),'Age']=37\n",
    "df.loc[(df.Age.isnull())&(df.Appellation=='Other'),'Age']=45"
   ]
  },
  {
   "cell_type": "code",
   "execution_count": 29,
   "id": "neutral-fifty",
   "metadata": {
    "execution": {
     "iopub.execute_input": "2021-06-02T14:37:58.621549Z",
     "iopub.status.busy": "2021-06-02T14:37:58.620679Z",
     "iopub.status.idle": "2021-06-02T14:37:58.624614Z",
     "shell.execute_reply": "2021-06-02T14:37:58.624118Z",
     "shell.execute_reply.started": "2021-06-02T14:35:45.235752Z"
    },
    "papermill": {
     "duration": 0.096924,
     "end_time": "2021-06-02T14:37:58.624753",
     "exception": false,
     "start_time": "2021-06-02T14:37:58.527829",
     "status": "completed"
    },
    "tags": []
   },
   "outputs": [
    {
     "data": {
      "text/plain": [
       "False"
      ]
     },
     "execution_count": 29,
     "metadata": {},
     "output_type": "execute_result"
    }
   ],
   "source": [
    "df['Age'].isnull().any()"
   ]
  },
  {
   "cell_type": "markdown",
   "id": "hungry-telephone",
   "metadata": {
    "papermill": {
     "duration": 0.088926,
     "end_time": "2021-06-02T14:37:58.801880",
     "exception": false,
     "start_time": "2021-06-02T14:37:58.712954",
     "status": "completed"
    },
    "tags": []
   },
   "source": [
    "<a id='16'></a><br>\n",
    "### Filling Embarked Feature"
   ]
  },
  {
   "cell_type": "code",
   "execution_count": 30,
   "id": "pleasant-station",
   "metadata": {
    "execution": {
     "iopub.execute_input": "2021-06-02T14:37:58.994627Z",
     "iopub.status.busy": "2021-06-02T14:37:58.993695Z",
     "iopub.status.idle": "2021-06-02T14:37:58.998176Z",
     "shell.execute_reply": "2021-06-02T14:37:58.997661Z",
     "shell.execute_reply.started": "2021-06-02T14:35:45.259332Z"
    },
    "papermill": {
     "duration": 0.107816,
     "end_time": "2021-06-02T14:37:58.998312",
     "exception": false,
     "start_time": "2021-06-02T14:37:58.890496",
     "status": "completed"
    },
    "tags": []
   },
   "outputs": [
    {
     "data": {
      "text/html": [
       "<div>\n",
       "<style scoped>\n",
       "    .dataframe tbody tr th:only-of-type {\n",
       "        vertical-align: middle;\n",
       "    }\n",
       "\n",
       "    .dataframe tbody tr th {\n",
       "        vertical-align: top;\n",
       "    }\n",
       "\n",
       "    .dataframe thead th {\n",
       "        text-align: right;\n",
       "    }\n",
       "</style>\n",
       "<table border=\"1\" class=\"dataframe\">\n",
       "  <thead>\n",
       "    <tr style=\"text-align: right;\">\n",
       "      <th></th>\n",
       "      <th>PassengerId</th>\n",
       "      <th>Survived</th>\n",
       "      <th>Pclass</th>\n",
       "      <th>Name</th>\n",
       "      <th>Sex</th>\n",
       "      <th>Age</th>\n",
       "      <th>SibSp</th>\n",
       "      <th>Parch</th>\n",
       "      <th>Ticket</th>\n",
       "      <th>Fare</th>\n",
       "      <th>Cabin</th>\n",
       "      <th>Embarked</th>\n",
       "      <th>Appellation</th>\n",
       "    </tr>\n",
       "  </thead>\n",
       "  <tbody>\n",
       "    <tr>\n",
       "      <th>61</th>\n",
       "      <td>62</td>\n",
       "      <td>1.0</td>\n",
       "      <td>1</td>\n",
       "      <td>Icard, Miss. Amelie</td>\n",
       "      <td>female</td>\n",
       "      <td>38.0</td>\n",
       "      <td>0</td>\n",
       "      <td>0</td>\n",
       "      <td>113572</td>\n",
       "      <td>80.0</td>\n",
       "      <td>B28</td>\n",
       "      <td>NaN</td>\n",
       "      <td>Miss</td>\n",
       "    </tr>\n",
       "    <tr>\n",
       "      <th>829</th>\n",
       "      <td>830</td>\n",
       "      <td>1.0</td>\n",
       "      <td>1</td>\n",
       "      <td>Stone, Mrs. George Nelson (Martha Evelyn)</td>\n",
       "      <td>female</td>\n",
       "      <td>62.0</td>\n",
       "      <td>0</td>\n",
       "      <td>0</td>\n",
       "      <td>113572</td>\n",
       "      <td>80.0</td>\n",
       "      <td>B28</td>\n",
       "      <td>NaN</td>\n",
       "      <td>Mrs</td>\n",
       "    </tr>\n",
       "  </tbody>\n",
       "</table>\n",
       "</div>"
      ],
      "text/plain": [
       "     PassengerId  Survived  Pclass                                       Name  \\\n",
       "61            62       1.0       1                        Icard, Miss. Amelie   \n",
       "829          830       1.0       1  Stone, Mrs. George Nelson (Martha Evelyn)   \n",
       "\n",
       "        Sex   Age  SibSp  Parch  Ticket  Fare Cabin Embarked Appellation  \n",
       "61   female  38.0      0      0  113572  80.0   B28      NaN        Miss  \n",
       "829  female  62.0      0      0  113572  80.0   B28      NaN         Mrs  "
      ]
     },
     "execution_count": 30,
     "metadata": {},
     "output_type": "execute_result"
    }
   ],
   "source": [
    "df[df['Embarked'].isnull()]"
   ]
  },
  {
   "cell_type": "markdown",
   "id": "recent-metro",
   "metadata": {
    "papermill": {
     "duration": 0.087344,
     "end_time": "2021-06-02T14:37:59.175845",
     "exception": false,
     "start_time": "2021-06-02T14:37:59.088501",
     "status": "completed"
    },
    "tags": []
   },
   "source": [
    "* The first thing that strikes me with these people is that the fare part is quite high. Let's go over this point."
   ]
  },
  {
   "cell_type": "code",
   "execution_count": 31,
   "id": "blank-blank",
   "metadata": {
    "execution": {
     "iopub.execute_input": "2021-06-02T14:37:59.368524Z",
     "iopub.status.busy": "2021-06-02T14:37:59.362394Z",
     "iopub.status.idle": "2021-06-02T14:37:59.512754Z",
     "shell.execute_reply": "2021-06-02T14:37:59.513221Z",
     "shell.execute_reply.started": "2021-06-02T14:35:45.285241Z"
    },
    "papermill": {
     "duration": 0.248593,
     "end_time": "2021-06-02T14:37:59.513401",
     "exception": false,
     "start_time": "2021-06-02T14:37:59.264808",
     "status": "completed"
    },
    "tags": []
   },
   "outputs": [
    {
     "data": {
      "image/png": "[encoded data removed]",
      "text/plain": [
       "<Figure size 360x432 with 1 Axes>"
      ]
     },
     "metadata": {},
     "output_type": "display_data"
    }
   ],
   "source": [
    "fig = plt.figure(figsize=(5, 6))\n",
    "sns.boxplot(y=\"Fare\",x = \"Embarked\", data=df)\n",
    "plt.show()"
   ]
  },
  {
   "cell_type": "markdown",
   "id": "hybrid-techno",
   "metadata": {
    "papermill": {
     "duration": 0.087189,
     "end_time": "2021-06-02T14:37:59.688528",
     "exception": false,
     "start_time": "2021-06-02T14:37:59.601339",
     "status": "completed"
    },
    "tags": []
   },
   "source": [
    "* As can be seen, option C looks very suitable for us."
   ]
  },
  {
   "cell_type": "code",
   "execution_count": 32,
   "id": "potential-playlist",
   "metadata": {
    "execution": {
     "iopub.execute_input": "2021-06-02T14:37:59.871432Z",
     "iopub.status.busy": "2021-06-02T14:37:59.870732Z",
     "iopub.status.idle": "2021-06-02T14:37:59.874420Z",
     "shell.execute_reply": "2021-06-02T14:37:59.873826Z",
     "shell.execute_reply.started": "2021-06-02T14:35:45.451412Z"
    },
    "papermill": {
     "duration": 0.098437,
     "end_time": "2021-06-02T14:37:59.874572",
     "exception": false,
     "start_time": "2021-06-02T14:37:59.776135",
     "status": "completed"
    },
    "tags": []
   },
   "outputs": [
    {
     "data": {
      "text/plain": [
       "False"
      ]
     },
     "execution_count": 32,
     "metadata": {},
     "output_type": "execute_result"
    }
   ],
   "source": [
    "df[\"Embarked\"] = df[\"Embarked\"].fillna(\"C\")\n",
    "df[\"Embarked\"].isnull().any()"
   ]
  },
  {
   "cell_type": "markdown",
   "id": "academic-strain",
   "metadata": {
    "papermill": {
     "duration": 0.090649,
     "end_time": "2021-06-02T14:38:00.053312",
     "exception": false,
     "start_time": "2021-06-02T14:37:59.962663",
     "status": "completed"
    },
    "tags": []
   },
   "source": [
    "<a id='17'></a><br>\n",
    "### Filling Fare Feature"
   ]
  },
  {
   "cell_type": "code",
   "execution_count": 33,
   "id": "noticed-transmission",
   "metadata": {
    "execution": {
     "iopub.execute_input": "2021-06-02T14:38:00.237485Z",
     "iopub.status.busy": "2021-06-02T14:38:00.236765Z",
     "iopub.status.idle": "2021-06-02T14:38:00.249353Z",
     "shell.execute_reply": "2021-06-02T14:38:00.248847Z",
     "shell.execute_reply.started": "2021-06-02T14:35:45.461924Z"
    },
    "papermill": {
     "duration": 0.107313,
     "end_time": "2021-06-02T14:38:00.249509",
     "exception": false,
     "start_time": "2021-06-02T14:38:00.142196",
     "status": "completed"
    },
    "tags": []
   },
   "outputs": [
    {
     "data": {
      "text/html": [
       "<div>\n",
       "<style scoped>\n",
       "    .dataframe tbody tr th:only-of-type {\n",
       "        vertical-align: middle;\n",
       "    }\n",
       "\n",
       "    .dataframe tbody tr th {\n",
       "        vertical-align: top;\n",
       "    }\n",
       "\n",
       "    .dataframe thead th {\n",
       "        text-align: right;\n",
       "    }\n",
       "</style>\n",
       "<table border=\"1\" class=\"dataframe\">\n",
       "  <thead>\n",
       "    <tr style=\"text-align: right;\">\n",
       "      <th></th>\n",
       "      <th>PassengerId</th>\n",
       "      <th>Survived</th>\n",
       "      <th>Pclass</th>\n",
       "      <th>Name</th>\n",
       "      <th>Sex</th>\n",
       "      <th>Age</th>\n",
       "      <th>SibSp</th>\n",
       "      <th>Parch</th>\n",
       "      <th>Ticket</th>\n",
       "      <th>Fare</th>\n",
       "      <th>Cabin</th>\n",
       "      <th>Embarked</th>\n",
       "      <th>Appellation</th>\n",
       "    </tr>\n",
       "  </thead>\n",
       "  <tbody>\n",
       "    <tr>\n",
       "      <th>1043</th>\n",
       "      <td>1044</td>\n",
       "      <td>NaN</td>\n",
       "      <td>3</td>\n",
       "      <td>Storey, Mr. Thomas</td>\n",
       "      <td>male</td>\n",
       "      <td>60.5</td>\n",
       "      <td>0</td>\n",
       "      <td>0</td>\n",
       "      <td>3701</td>\n",
       "      <td>NaN</td>\n",
       "      <td>NaN</td>\n",
       "      <td>S</td>\n",
       "      <td>Mr</td>\n",
       "    </tr>\n",
       "  </tbody>\n",
       "</table>\n",
       "</div>"
      ],
      "text/plain": [
       "      PassengerId  Survived  Pclass                Name   Sex   Age  SibSp  \\\n",
       "1043         1044       NaN       3  Storey, Mr. Thomas  male  60.5      0   \n",
       "\n",
       "      Parch Ticket  Fare Cabin Embarked Appellation  \n",
       "1043      0   3701   NaN   NaN        S          Mr  "
      ]
     },
     "execution_count": 33,
     "metadata": {},
     "output_type": "execute_result"
    }
   ],
   "source": [
    "df[df[\"Fare\"].isnull()]"
   ]
  },
  {
   "cell_type": "code",
   "execution_count": 34,
   "id": "iraqi-infrastructure",
   "metadata": {
    "execution": {
     "iopub.execute_input": "2021-06-02T14:38:00.436547Z",
     "iopub.status.busy": "2021-06-02T14:38:00.433420Z",
     "iopub.status.idle": "2021-06-02T14:38:00.439867Z",
     "shell.execute_reply": "2021-06-02T14:38:00.440376Z",
     "shell.execute_reply.started": "2021-06-02T14:35:45.485292Z"
    },
    "papermill": {
     "duration": 0.10181,
     "end_time": "2021-06-02T14:38:00.440558",
     "exception": false,
     "start_time": "2021-06-02T14:38:00.338748",
     "status": "completed"
    },
    "tags": []
   },
   "outputs": [
    {
     "data": {
      "text/plain": [
       "False"
      ]
     },
     "execution_count": 34,
     "metadata": {},
     "output_type": "execute_result"
    }
   ],
   "source": [
    "df[\"Fare\"] = df[\"Fare\"].fillna(np.mean(df[df[\"Pclass\"] == 3][\"Fare\"]))\n",
    "df[\"Fare\"].isnull().any()"
   ]
  },
  {
   "cell_type": "code",
   "execution_count": 35,
   "id": "herbal-atlas",
   "metadata": {
    "execution": {
     "iopub.execute_input": "2021-06-02T14:38:00.630829Z",
     "iopub.status.busy": "2021-06-02T14:38:00.630131Z",
     "iopub.status.idle": "2021-06-02T14:38:00.632871Z",
     "shell.execute_reply": "2021-06-02T14:38:00.633437Z",
     "shell.execute_reply.started": "2021-06-02T14:35:45.505955Z"
    },
    "papermill": {
     "duration": 0.103384,
     "end_time": "2021-06-02T14:38:00.633618",
     "exception": false,
     "start_time": "2021-06-02T14:38:00.530234",
     "status": "completed"
    },
    "tags": []
   },
   "outputs": [
    {
     "data": {
      "text/plain": [
       "PassengerId    False\n",
       "Survived        True\n",
       "Pclass         False\n",
       "Name           False\n",
       "Sex            False\n",
       "Age            False\n",
       "SibSp          False\n",
       "Parch          False\n",
       "Ticket         False\n",
       "Fare           False\n",
       "Cabin           True\n",
       "Embarked       False\n",
       "Appellation    False\n",
       "dtype: bool"
      ]
     },
     "execution_count": 35,
     "metadata": {},
     "output_type": "execute_result"
    }
   ],
   "source": [
    "df.isnull().any()"
   ]
  },
  {
   "cell_type": "markdown",
   "id": "agricultural-throat",
   "metadata": {
    "papermill": {
     "duration": 0.089809,
     "end_time": "2021-06-02T14:38:00.815681",
     "exception": false,
     "start_time": "2021-06-02T14:38:00.725872",
     "status": "completed"
    },
    "tags": []
   },
   "source": [
    "<a id='18'></a><br>\n",
    "# Label Encoding"
   ]
  },
  {
   "cell_type": "code",
   "execution_count": 36,
   "id": "german-dubai",
   "metadata": {
    "execution": {
     "iopub.execute_input": "2021-06-02T14:38:01.000954Z",
     "iopub.status.busy": "2021-06-02T14:38:00.999998Z",
     "iopub.status.idle": "2021-06-02T14:38:01.018836Z",
     "shell.execute_reply": "2021-06-02T14:38:01.019291Z",
     "shell.execute_reply.started": "2021-06-02T14:35:45.519948Z"
    },
    "papermill": {
     "duration": 0.114595,
     "end_time": "2021-06-02T14:38:01.019488",
     "exception": false,
     "start_time": "2021-06-02T14:38:00.904893",
     "status": "completed"
    },
    "tags": []
   },
   "outputs": [
    {
     "data": {
      "text/html": [
       "<div>\n",
       "<style scoped>\n",
       "    .dataframe tbody tr th:only-of-type {\n",
       "        vertical-align: middle;\n",
       "    }\n",
       "\n",
       "    .dataframe tbody tr th {\n",
       "        vertical-align: top;\n",
       "    }\n",
       "\n",
       "    .dataframe thead th {\n",
       "        text-align: right;\n",
       "    }\n",
       "</style>\n",
       "<table border=\"1\" class=\"dataframe\">\n",
       "  <thead>\n",
       "    <tr style=\"text-align: right;\">\n",
       "      <th></th>\n",
       "      <th>PassengerId</th>\n",
       "      <th>Survived</th>\n",
       "      <th>Pclass</th>\n",
       "      <th>Name</th>\n",
       "      <th>Sex</th>\n",
       "      <th>Age</th>\n",
       "      <th>SibSp</th>\n",
       "      <th>Parch</th>\n",
       "      <th>Ticket</th>\n",
       "      <th>Fare</th>\n",
       "      <th>Cabin</th>\n",
       "      <th>Embarked</th>\n",
       "      <th>Appellation</th>\n",
       "    </tr>\n",
       "  </thead>\n",
       "  <tbody>\n",
       "    <tr>\n",
       "      <th>0</th>\n",
       "      <td>1</td>\n",
       "      <td>0.0</td>\n",
       "      <td>3</td>\n",
       "      <td>Braund, Mr. Owen Harris</td>\n",
       "      <td>male</td>\n",
       "      <td>22.0</td>\n",
       "      <td>1</td>\n",
       "      <td>0</td>\n",
       "      <td>A/5 21171</td>\n",
       "      <td>7.2500</td>\n",
       "      <td>NaN</td>\n",
       "      <td>S</td>\n",
       "      <td>Mr</td>\n",
       "    </tr>\n",
       "    <tr>\n",
       "      <th>1</th>\n",
       "      <td>2</td>\n",
       "      <td>1.0</td>\n",
       "      <td>1</td>\n",
       "      <td>Cumings, Mrs. John Bradley (Florence Briggs Th...</td>\n",
       "      <td>female</td>\n",
       "      <td>38.0</td>\n",
       "      <td>1</td>\n",
       "      <td>0</td>\n",
       "      <td>PC 17599</td>\n",
       "      <td>71.2833</td>\n",
       "      <td>C85</td>\n",
       "      <td>C</td>\n",
       "      <td>Mrs</td>\n",
       "    </tr>\n",
       "    <tr>\n",
       "      <th>2</th>\n",
       "      <td>3</td>\n",
       "      <td>1.0</td>\n",
       "      <td>3</td>\n",
       "      <td>Heikkinen, Miss. Laina</td>\n",
       "      <td>female</td>\n",
       "      <td>26.0</td>\n",
       "      <td>0</td>\n",
       "      <td>0</td>\n",
       "      <td>STON/O2. 3101282</td>\n",
       "      <td>7.9250</td>\n",
       "      <td>NaN</td>\n",
       "      <td>S</td>\n",
       "      <td>Miss</td>\n",
       "    </tr>\n",
       "    <tr>\n",
       "      <th>3</th>\n",
       "      <td>4</td>\n",
       "      <td>1.0</td>\n",
       "      <td>1</td>\n",
       "      <td>Futrelle, Mrs. Jacques Heath (Lily May Peel)</td>\n",
       "      <td>female</td>\n",
       "      <td>35.0</td>\n",
       "      <td>1</td>\n",
       "      <td>0</td>\n",
       "      <td>113803</td>\n",
       "      <td>53.1000</td>\n",
       "      <td>C123</td>\n",
       "      <td>S</td>\n",
       "      <td>Mrs</td>\n",
       "    </tr>\n",
       "    <tr>\n",
       "      <th>4</th>\n",
       "      <td>5</td>\n",
       "      <td>0.0</td>\n",
       "      <td>3</td>\n",
       "      <td>Allen, Mr. William Henry</td>\n",
       "      <td>male</td>\n",
       "      <td>35.0</td>\n",
       "      <td>0</td>\n",
       "      <td>0</td>\n",
       "      <td>373450</td>\n",
       "      <td>8.0500</td>\n",
       "      <td>NaN</td>\n",
       "      <td>S</td>\n",
       "      <td>Mr</td>\n",
       "    </tr>\n",
       "  </tbody>\n",
       "</table>\n",
       "</div>"
      ],
      "text/plain": [
       "   PassengerId  Survived  Pclass  \\\n",
       "0            1       0.0       3   \n",
       "1            2       1.0       1   \n",
       "2            3       1.0       3   \n",
       "3            4       1.0       1   \n",
       "4            5       0.0       3   \n",
       "\n",
       "                                                Name     Sex   Age  SibSp  \\\n",
       "0                            Braund, Mr. Owen Harris    male  22.0      1   \n",
       "1  Cumings, Mrs. John Bradley (Florence Briggs Th...  female  38.0      1   \n",
       "2                             Heikkinen, Miss. Laina  female  26.0      0   \n",
       "3       Futrelle, Mrs. Jacques Heath (Lily May Peel)  female  35.0      1   \n",
       "4                           Allen, Mr. William Henry    male  35.0      0   \n",
       "\n",
       "   Parch            Ticket     Fare Cabin Embarked Appellation  \n",
       "0      0         A/5 21171   7.2500   NaN        S          Mr  \n",
       "1      0          PC 17599  71.2833   C85        C         Mrs  \n",
       "2      0  STON/O2. 3101282   7.9250   NaN        S        Miss  \n",
       "3      0            113803  53.1000  C123        S         Mrs  \n",
       "4      0            373450   8.0500   NaN        S          Mr  "
      ]
     },
     "execution_count": 36,
     "metadata": {},
     "output_type": "execute_result"
    }
   ],
   "source": [
    "df.head(5)"
   ]
  },
  {
   "cell_type": "code",
   "execution_count": 37,
   "id": "pursuant-opinion",
   "metadata": {
    "execution": {
     "iopub.execute_input": "2021-06-02T14:38:01.204004Z",
     "iopub.status.busy": "2021-06-02T14:38:01.203268Z",
     "iopub.status.idle": "2021-06-02T14:38:01.218567Z",
     "shell.execute_reply": "2021-06-02T14:38:01.219002Z",
     "shell.execute_reply.started": "2021-06-02T14:35:45.546131Z"
    },
    "papermill": {
     "duration": 0.108516,
     "end_time": "2021-06-02T14:38:01.219170",
     "exception": false,
     "start_time": "2021-06-02T14:38:01.110654",
     "status": "completed"
    },
    "tags": []
   },
   "outputs": [
    {
     "data": {
      "text/html": [
       "<div>\n",
       "<style scoped>\n",
       "    .dataframe tbody tr th:only-of-type {\n",
       "        vertical-align: middle;\n",
       "    }\n",
       "\n",
       "    .dataframe tbody tr th {\n",
       "        vertical-align: top;\n",
       "    }\n",
       "\n",
       "    .dataframe thead th {\n",
       "        text-align: right;\n",
       "    }\n",
       "</style>\n",
       "<table border=\"1\" class=\"dataframe\">\n",
       "  <thead>\n",
       "    <tr style=\"text-align: right;\">\n",
       "      <th></th>\n",
       "      <th>Survived</th>\n",
       "      <th>Pclass</th>\n",
       "      <th>Sex</th>\n",
       "      <th>Age</th>\n",
       "      <th>SibSp</th>\n",
       "      <th>Parch</th>\n",
       "      <th>Fare</th>\n",
       "      <th>Embarked</th>\n",
       "      <th>Appellation</th>\n",
       "    </tr>\n",
       "  </thead>\n",
       "  <tbody>\n",
       "    <tr>\n",
       "      <th>0</th>\n",
       "      <td>0.0</td>\n",
       "      <td>3</td>\n",
       "      <td>male</td>\n",
       "      <td>22.0</td>\n",
       "      <td>1</td>\n",
       "      <td>0</td>\n",
       "      <td>7.2500</td>\n",
       "      <td>S</td>\n",
       "      <td>Mr</td>\n",
       "    </tr>\n",
       "    <tr>\n",
       "      <th>1</th>\n",
       "      <td>1.0</td>\n",
       "      <td>1</td>\n",
       "      <td>female</td>\n",
       "      <td>38.0</td>\n",
       "      <td>1</td>\n",
       "      <td>0</td>\n",
       "      <td>71.2833</td>\n",
       "      <td>C</td>\n",
       "      <td>Mrs</td>\n",
       "    </tr>\n",
       "    <tr>\n",
       "      <th>2</th>\n",
       "      <td>1.0</td>\n",
       "      <td>3</td>\n",
       "      <td>female</td>\n",
       "      <td>26.0</td>\n",
       "      <td>0</td>\n",
       "      <td>0</td>\n",
       "      <td>7.9250</td>\n",
       "      <td>S</td>\n",
       "      <td>Miss</td>\n",
       "    </tr>\n",
       "    <tr>\n",
       "      <th>3</th>\n",
       "      <td>1.0</td>\n",
       "      <td>1</td>\n",
       "      <td>female</td>\n",
       "      <td>35.0</td>\n",
       "      <td>1</td>\n",
       "      <td>0</td>\n",
       "      <td>53.1000</td>\n",
       "      <td>S</td>\n",
       "      <td>Mrs</td>\n",
       "    </tr>\n",
       "    <tr>\n",
       "      <th>4</th>\n",
       "      <td>0.0</td>\n",
       "      <td>3</td>\n",
       "      <td>male</td>\n",
       "      <td>35.0</td>\n",
       "      <td>0</td>\n",
       "      <td>0</td>\n",
       "      <td>8.0500</td>\n",
       "      <td>S</td>\n",
       "      <td>Mr</td>\n",
       "    </tr>\n",
       "  </tbody>\n",
       "</table>\n",
       "</div>"
      ],
      "text/plain": [
       "   Survived  Pclass     Sex   Age  SibSp  Parch     Fare Embarked Appellation\n",
       "0       0.0       3    male  22.0      1      0   7.2500        S          Mr\n",
       "1       1.0       1  female  38.0      1      0  71.2833        C         Mrs\n",
       "2       1.0       3  female  26.0      0      0   7.9250        S        Miss\n",
       "3       1.0       1  female  35.0      1      0  53.1000        S         Mrs\n",
       "4       0.0       3    male  35.0      0      0   8.0500        S          Mr"
      ]
     },
     "execution_count": 37,
     "metadata": {},
     "output_type": "execute_result"
    }
   ],
   "source": [
    "df = df.drop(['Name', \"PassengerId\", \"Ticket\", \"Cabin\"], axis=1)\n",
    "df.head()"
   ]
  },
  {
   "cell_type": "code",
   "execution_count": 38,
   "id": "random-bridal",
   "metadata": {
    "execution": {
     "iopub.execute_input": "2021-06-02T14:38:01.408205Z",
     "iopub.status.busy": "2021-06-02T14:38:01.407217Z",
     "iopub.status.idle": "2021-06-02T14:38:01.559881Z",
     "shell.execute_reply": "2021-06-02T14:38:01.559274Z",
     "shell.execute_reply.started": "2021-06-02T14:35:45.574562Z"
    },
    "papermill": {
     "duration": 0.249905,
     "end_time": "2021-06-02T14:38:01.560031",
     "exception": false,
     "start_time": "2021-06-02T14:38:01.310126",
     "status": "completed"
    },
    "tags": []
   },
   "outputs": [
    {
     "data": {
      "text/html": [
       "<div>\n",
       "<style scoped>\n",
       "    .dataframe tbody tr th:only-of-type {\n",
       "        vertical-align: middle;\n",
       "    }\n",
       "\n",
       "    .dataframe tbody tr th {\n",
       "        vertical-align: top;\n",
       "    }\n",
       "\n",
       "    .dataframe thead th {\n",
       "        text-align: right;\n",
       "    }\n",
       "</style>\n",
       "<table border=\"1\" class=\"dataframe\">\n",
       "  <thead>\n",
       "    <tr style=\"text-align: right;\">\n",
       "      <th></th>\n",
       "      <th>Survived</th>\n",
       "      <th>Pclass</th>\n",
       "      <th>Sex</th>\n",
       "      <th>Age</th>\n",
       "      <th>SibSp</th>\n",
       "      <th>Parch</th>\n",
       "      <th>Fare</th>\n",
       "      <th>Embarked</th>\n",
       "      <th>Appellation</th>\n",
       "    </tr>\n",
       "  </thead>\n",
       "  <tbody>\n",
       "    <tr>\n",
       "      <th>0</th>\n",
       "      <td>0.0</td>\n",
       "      <td>3</td>\n",
       "      <td>1</td>\n",
       "      <td>22.0</td>\n",
       "      <td>1</td>\n",
       "      <td>0</td>\n",
       "      <td>7.2500</td>\n",
       "      <td>2</td>\n",
       "      <td>2</td>\n",
       "    </tr>\n",
       "    <tr>\n",
       "      <th>1</th>\n",
       "      <td>1.0</td>\n",
       "      <td>1</td>\n",
       "      <td>0</td>\n",
       "      <td>38.0</td>\n",
       "      <td>1</td>\n",
       "      <td>0</td>\n",
       "      <td>71.2833</td>\n",
       "      <td>0</td>\n",
       "      <td>3</td>\n",
       "    </tr>\n",
       "    <tr>\n",
       "      <th>2</th>\n",
       "      <td>1.0</td>\n",
       "      <td>3</td>\n",
       "      <td>0</td>\n",
       "      <td>26.0</td>\n",
       "      <td>0</td>\n",
       "      <td>0</td>\n",
       "      <td>7.9250</td>\n",
       "      <td>2</td>\n",
       "      <td>1</td>\n",
       "    </tr>\n",
       "    <tr>\n",
       "      <th>3</th>\n",
       "      <td>1.0</td>\n",
       "      <td>1</td>\n",
       "      <td>0</td>\n",
       "      <td>35.0</td>\n",
       "      <td>1</td>\n",
       "      <td>0</td>\n",
       "      <td>53.1000</td>\n",
       "      <td>2</td>\n",
       "      <td>3</td>\n",
       "    </tr>\n",
       "    <tr>\n",
       "      <th>4</th>\n",
       "      <td>0.0</td>\n",
       "      <td>3</td>\n",
       "      <td>1</td>\n",
       "      <td>35.0</td>\n",
       "      <td>0</td>\n",
       "      <td>0</td>\n",
       "      <td>8.0500</td>\n",
       "      <td>2</td>\n",
       "      <td>2</td>\n",
       "    </tr>\n",
       "  </tbody>\n",
       "</table>\n",
       "</div>"
      ],
      "text/plain": [
       "   Survived  Pclass  Sex   Age  SibSp  Parch     Fare  Embarked  Appellation\n",
       "0       0.0       3    1  22.0      1      0   7.2500         2            2\n",
       "1       1.0       1    0  38.0      1      0  71.2833         0            3\n",
       "2       1.0       3    0  26.0      0      0   7.9250         2            1\n",
       "3       1.0       1    0  35.0      1      0  53.1000         2            3\n",
       "4       0.0       3    1  35.0      0      0   8.0500         2            2"
      ]
     },
     "execution_count": 38,
     "metadata": {},
     "output_type": "execute_result"
    }
   ],
   "source": [
    "from sklearn.preprocessing import LabelEncoder\n",
    "\n",
    "le = LabelEncoder()\n",
    "df['Sex'] = le.fit_transform(df[\"Sex\"])\n",
    "df['Embarked'] = le.fit_transform(df['Embarked'])\n",
    "df['Appellation'] = le.fit_transform(df[\"Appellation\"])\n",
    "df.head()"
   ]
  },
  {
   "cell_type": "markdown",
   "id": "reduced-florist",
   "metadata": {
    "papermill": {
     "duration": 0.109611,
     "end_time": "2021-06-02T14:38:01.767442",
     "exception": false,
     "start_time": "2021-06-02T14:38:01.657831",
     "status": "completed"
    },
    "tags": []
   },
   "source": [
    "<a id='19'></a><br>\n",
    "# Modeling"
   ]
  },
  {
   "cell_type": "code",
   "execution_count": 39,
   "id": "present-round",
   "metadata": {
    "execution": {
     "iopub.execute_input": "2021-06-02T14:38:01.954234Z",
     "iopub.status.busy": "2021-06-02T14:38:01.953501Z",
     "iopub.status.idle": "2021-06-02T14:38:02.240299Z",
     "shell.execute_reply": "2021-06-02T14:38:02.239688Z",
     "shell.execute_reply.started": "2021-06-02T14:35:45.597863Z"
    },
    "papermill": {
     "duration": 0.382575,
     "end_time": "2021-06-02T14:38:02.240482",
     "exception": false,
     "start_time": "2021-06-02T14:38:01.857907",
     "status": "completed"
    },
    "tags": []
   },
   "outputs": [],
   "source": [
    "from sklearn.model_selection import train_test_split, StratifiedKFold, GridSearchCV\n",
    "from sklearn.linear_model import LogisticRegression\n",
    "from sklearn.svm import SVC\n",
    "from sklearn.ensemble import RandomForestClassifier, VotingClassifier\n",
    "from sklearn.neighbors import KNeighborsClassifier\n",
    "from sklearn.tree import DecisionTreeClassifier\n",
    "from sklearn.naive_bayes import GaussianNB\n",
    "from sklearn.metrics import accuracy_score"
   ]
  },
  {
   "cell_type": "markdown",
   "id": "least-pearl",
   "metadata": {
    "papermill": {
     "duration": 0.090377,
     "end_time": "2021-06-02T14:38:02.423442",
     "exception": false,
     "start_time": "2021-06-02T14:38:02.333065",
     "status": "completed"
    },
    "tags": []
   },
   "source": [
    "### train_test_split"
   ]
  },
  {
   "cell_type": "code",
   "execution_count": 40,
   "id": "medical-monday",
   "metadata": {
    "execution": {
     "iopub.execute_input": "2021-06-02T14:38:02.615222Z",
     "iopub.status.busy": "2021-06-02T14:38:02.614321Z",
     "iopub.status.idle": "2021-06-02T14:38:02.617835Z",
     "shell.execute_reply": "2021-06-02T14:38:02.618261Z",
     "shell.execute_reply.started": "2021-06-02T14:35:45.610621Z"
    },
    "papermill": {
     "duration": 0.101295,
     "end_time": "2021-06-02T14:38:02.618440",
     "exception": false,
     "start_time": "2021-06-02T14:38:02.517145",
     "status": "completed"
    },
    "tags": []
   },
   "outputs": [
    {
     "data": {
      "text/plain": [
       "891"
      ]
     },
     "execution_count": 40,
     "metadata": {},
     "output_type": "execute_result"
    }
   ],
   "source": [
    "train_df_len"
   ]
  },
  {
   "cell_type": "code",
   "execution_count": 41,
   "id": "central-understanding",
   "metadata": {
    "execution": {
     "iopub.execute_input": "2021-06-02T14:38:02.809929Z",
     "iopub.status.busy": "2021-06-02T14:38:02.809063Z",
     "iopub.status.idle": "2021-06-02T14:38:02.812344Z",
     "shell.execute_reply": "2021-06-02T14:38:02.811841Z",
     "shell.execute_reply.started": "2021-06-02T14:35:45.625601Z"
    },
    "papermill": {
     "duration": 0.10196,
     "end_time": "2021-06-02T14:38:02.812509",
     "exception": false,
     "start_time": "2021-06-02T14:38:02.710549",
     "status": "completed"
    },
    "tags": []
   },
   "outputs": [],
   "source": [
    "test = df[train_df_len:]\n",
    "test.drop(labels = [\"Survived\"],axis = 1, inplace = True)"
   ]
  },
  {
   "cell_type": "code",
   "execution_count": 42,
   "id": "funded-nebraska",
   "metadata": {
    "execution": {
     "iopub.execute_input": "2021-06-02T14:38:03.009690Z",
     "iopub.status.busy": "2021-06-02T14:38:03.008745Z",
     "iopub.status.idle": "2021-06-02T14:38:03.012626Z",
     "shell.execute_reply": "2021-06-02T14:38:03.013063Z",
     "shell.execute_reply.started": "2021-06-02T14:35:45.642095Z"
    },
    "papermill": {
     "duration": 0.108558,
     "end_time": "2021-06-02T14:38:03.013234",
     "exception": false,
     "start_time": "2021-06-02T14:38:02.904676",
     "status": "completed"
    },
    "tags": []
   },
   "outputs": [
    {
     "data": {
      "text/html": [
       "<div>\n",
       "<style scoped>\n",
       "    .dataframe tbody tr th:only-of-type {\n",
       "        vertical-align: middle;\n",
       "    }\n",
       "\n",
       "    .dataframe tbody tr th {\n",
       "        vertical-align: top;\n",
       "    }\n",
       "\n",
       "    .dataframe thead th {\n",
       "        text-align: right;\n",
       "    }\n",
       "</style>\n",
       "<table border=\"1\" class=\"dataframe\">\n",
       "  <thead>\n",
       "    <tr style=\"text-align: right;\">\n",
       "      <th></th>\n",
       "      <th>Pclass</th>\n",
       "      <th>Sex</th>\n",
       "      <th>Age</th>\n",
       "      <th>SibSp</th>\n",
       "      <th>Parch</th>\n",
       "      <th>Fare</th>\n",
       "      <th>Embarked</th>\n",
       "      <th>Appellation</th>\n",
       "    </tr>\n",
       "  </thead>\n",
       "  <tbody>\n",
       "    <tr>\n",
       "      <th>891</th>\n",
       "      <td>3</td>\n",
       "      <td>1</td>\n",
       "      <td>34.5</td>\n",
       "      <td>0</td>\n",
       "      <td>0</td>\n",
       "      <td>7.8292</td>\n",
       "      <td>1</td>\n",
       "      <td>2</td>\n",
       "    </tr>\n",
       "    <tr>\n",
       "      <th>892</th>\n",
       "      <td>3</td>\n",
       "      <td>0</td>\n",
       "      <td>47.0</td>\n",
       "      <td>1</td>\n",
       "      <td>0</td>\n",
       "      <td>7.0000</td>\n",
       "      <td>2</td>\n",
       "      <td>3</td>\n",
       "    </tr>\n",
       "    <tr>\n",
       "      <th>893</th>\n",
       "      <td>2</td>\n",
       "      <td>1</td>\n",
       "      <td>62.0</td>\n",
       "      <td>0</td>\n",
       "      <td>0</td>\n",
       "      <td>9.6875</td>\n",
       "      <td>1</td>\n",
       "      <td>2</td>\n",
       "    </tr>\n",
       "    <tr>\n",
       "      <th>894</th>\n",
       "      <td>3</td>\n",
       "      <td>1</td>\n",
       "      <td>27.0</td>\n",
       "      <td>0</td>\n",
       "      <td>0</td>\n",
       "      <td>8.6625</td>\n",
       "      <td>2</td>\n",
       "      <td>2</td>\n",
       "    </tr>\n",
       "    <tr>\n",
       "      <th>895</th>\n",
       "      <td>3</td>\n",
       "      <td>0</td>\n",
       "      <td>22.0</td>\n",
       "      <td>1</td>\n",
       "      <td>1</td>\n",
       "      <td>12.2875</td>\n",
       "      <td>2</td>\n",
       "      <td>3</td>\n",
       "    </tr>\n",
       "  </tbody>\n",
       "</table>\n",
       "</div>"
      ],
      "text/plain": [
       "     Pclass  Sex   Age  SibSp  Parch     Fare  Embarked  Appellation\n",
       "891       3    1  34.5      0      0   7.8292         1            2\n",
       "892       3    0  47.0      1      0   7.0000         2            3\n",
       "893       2    1  62.0      0      0   9.6875         1            2\n",
       "894       3    1  27.0      0      0   8.6625         2            2\n",
       "895       3    0  22.0      1      1  12.2875         2            3"
      ]
     },
     "execution_count": 42,
     "metadata": {},
     "output_type": "execute_result"
    }
   ],
   "source": [
    "test.head()"
   ]
  },
  {
   "cell_type": "code",
   "execution_count": 43,
   "id": "critical-michael",
   "metadata": {
    "execution": {
     "iopub.execute_input": "2021-06-02T14:38:03.209655Z",
     "iopub.status.busy": "2021-06-02T14:38:03.208925Z",
     "iopub.status.idle": "2021-06-02T14:38:03.216701Z",
     "shell.execute_reply": "2021-06-02T14:38:03.216189Z",
     "shell.execute_reply.started": "2021-06-02T14:35:45.664826Z"
    },
    "papermill": {
     "duration": 0.109334,
     "end_time": "2021-06-02T14:38:03.216848",
     "exception": false,
     "start_time": "2021-06-02T14:38:03.107514",
     "status": "completed"
    },
    "tags": []
   },
   "outputs": [
    {
     "name": "stdout",
     "output_type": "stream",
     "text": [
      "x_train 757\n",
      "x_test 134\n",
      "y_train 757\n",
      "y_test 134\n",
      "test 418\n"
     ]
    }
   ],
   "source": [
    "train = df[:train_df_len]\n",
    "x = train.drop(labels = \"Survived\", axis = 1)\n",
    "y = train[\"Survived\"]\n",
    "x_train, x_test, y_train, y_test = train_test_split(x, y, test_size = 0.15, random_state = 42)\n",
    "print(\"x_train\",len(x_train))\n",
    "print(\"x_test\",len(x_test))\n",
    "print(\"y_train\",len(y_train))\n",
    "print(\"y_test\",len(y_test))\n",
    "print(\"test\",len(test))"
   ]
  },
  {
   "cell_type": "code",
   "execution_count": 44,
   "id": "correct-announcement",
   "metadata": {
    "execution": {
     "iopub.execute_input": "2021-06-02T14:38:03.408238Z",
     "iopub.status.busy": "2021-06-02T14:38:03.407520Z",
     "iopub.status.idle": "2021-06-02T14:38:03.409506Z",
     "shell.execute_reply": "2021-06-02T14:38:03.409957Z",
     "shell.execute_reply.started": "2021-06-02T14:35:45.683497Z"
    },
    "papermill": {
     "duration": 0.099699,
     "end_time": "2021-06-02T14:38:03.410122",
     "exception": false,
     "start_time": "2021-06-02T14:38:03.310423",
     "status": "completed"
    },
    "tags": []
   },
   "outputs": [],
   "source": [
    "result_dict = {}"
   ]
  },
  {
   "cell_type": "markdown",
   "id": "maritime-narrow",
   "metadata": {
    "papermill": {
     "duration": 0.091903,
     "end_time": "2021-06-02T14:38:03.596059",
     "exception": false,
     "start_time": "2021-06-02T14:38:03.504156",
     "status": "completed"
    },
    "tags": []
   },
   "source": [
    "### Logistic Regression"
   ]
  },
  {
   "cell_type": "code",
   "execution_count": 45,
   "id": "baking-manchester",
   "metadata": {
    "execution": {
     "iopub.execute_input": "2021-06-02T14:38:03.783366Z",
     "iopub.status.busy": "2021-06-02T14:38:03.782715Z",
     "iopub.status.idle": "2021-06-02T14:38:03.827175Z",
     "shell.execute_reply": "2021-06-02T14:38:03.827692Z",
     "shell.execute_reply.started": "2021-06-02T14:35:45.693393Z"
    },
    "papermill": {
     "duration": 0.139998,
     "end_time": "2021-06-02T14:38:03.827922",
     "exception": false,
     "start_time": "2021-06-02T14:38:03.687924",
     "status": "completed"
    },
    "tags": []
   },
   "outputs": [
    {
     "data": {
      "text/plain": [
       "0.8432835820895522"
      ]
     },
     "execution_count": 45,
     "metadata": {},
     "output_type": "execute_result"
    }
   ],
   "source": [
    "logreg = LogisticRegression(C=0.04)\n",
    "logreg.fit(x_train, y_train)\n",
    "\n",
    "result_dict[\"Logistic Regression\"] = logreg.score(x_test, y_test)\n",
    "\n",
    "logreg.score(x_test, y_test)"
   ]
  },
  {
   "cell_type": "markdown",
   "id": "defensive-layout",
   "metadata": {
    "papermill": {
     "duration": 0.093435,
     "end_time": "2021-06-02T14:38:04.013924",
     "exception": false,
     "start_time": "2021-06-02T14:38:03.920489",
     "status": "completed"
    },
    "tags": []
   },
   "source": [
    "### KNN Classification"
   ]
  },
  {
   "cell_type": "code",
   "execution_count": 46,
   "id": "random-skill",
   "metadata": {
    "execution": {
     "iopub.execute_input": "2021-06-02T14:38:04.203548Z",
     "iopub.status.busy": "2021-06-02T14:38:04.202870Z",
     "iopub.status.idle": "2021-06-02T14:38:04.229836Z",
     "shell.execute_reply": "2021-06-02T14:38:04.230306Z",
     "shell.execute_reply.started": "2021-06-02T14:35:45.743121Z"
    },
    "papermill": {
     "duration": 0.122788,
     "end_time": "2021-06-02T14:38:04.230507",
     "exception": false,
     "start_time": "2021-06-02T14:38:04.107719",
     "status": "completed"
    },
    "tags": []
   },
   "outputs": [
    {
     "data": {
      "text/plain": [
       "0.7835820895522388"
      ]
     },
     "execution_count": 46,
     "metadata": {},
     "output_type": "execute_result"
    }
   ],
   "source": [
    "knn = KNeighborsClassifier(n_neighbors=23)\n",
    "knn.fit(x_train, y_train)\n",
    "\n",
    "result_dict[\"KNN Classification\"] = knn.score(x_test, y_test)\n",
    "\n",
    "knn.score(x_test, y_test)"
   ]
  },
  {
   "cell_type": "markdown",
   "id": "loose-office",
   "metadata": {
    "papermill": {
     "duration": 0.093065,
     "end_time": "2021-06-02T14:38:04.417213",
     "exception": false,
     "start_time": "2021-06-02T14:38:04.324148",
     "status": "completed"
    },
    "tags": []
   },
   "source": [
    "### SVM Classification"
   ]
  },
  {
   "cell_type": "code",
   "execution_count": 47,
   "id": "delayed-lincoln",
   "metadata": {
    "execution": {
     "iopub.execute_input": "2021-06-02T14:38:04.608631Z",
     "iopub.status.busy": "2021-06-02T14:38:04.607975Z",
     "iopub.status.idle": "2021-06-02T14:38:04.658784Z",
     "shell.execute_reply": "2021-06-02T14:38:04.659250Z",
     "shell.execute_reply.started": "2021-06-02T14:35:45.770283Z"
    },
    "papermill": {
     "duration": 0.148949,
     "end_time": "2021-06-02T14:38:04.659420",
     "exception": false,
     "start_time": "2021-06-02T14:38:04.510471",
     "status": "completed"
    },
    "tags": []
   },
   "outputs": [
    {
     "data": {
      "text/plain": [
       "0.835820895522388"
      ]
     },
     "execution_count": 47,
     "metadata": {},
     "output_type": "execute_result"
    }
   ],
   "source": [
    "svm = SVC(random_state=1, gamma=0.006, C=11, kernel=\"rbf\")\n",
    "svm.fit(x_train, y_train)\n",
    "\n",
    "result_dict[\"SVM Classification\"] = svm.score(x_test, y_test)\n",
    "\n",
    "svm.score(x_test, y_test)"
   ]
  },
  {
   "cell_type": "markdown",
   "id": "lonely-membrane",
   "metadata": {
    "papermill": {
     "duration": 0.092876,
     "end_time": "2021-06-02T14:38:04.846035",
     "exception": false,
     "start_time": "2021-06-02T14:38:04.753159",
     "status": "completed"
    },
    "tags": []
   },
   "source": [
    "### Decision Tree Classification"
   ]
  },
  {
   "cell_type": "code",
   "execution_count": 48,
   "id": "seasonal-toyota",
   "metadata": {
    "execution": {
     "iopub.execute_input": "2021-06-02T14:38:05.037124Z",
     "iopub.status.busy": "2021-06-02T14:38:05.036409Z",
     "iopub.status.idle": "2021-06-02T14:38:05.052006Z",
     "shell.execute_reply": "2021-06-02T14:38:05.051356Z",
     "shell.execute_reply.started": "2021-06-02T14:35:45.826143Z"
    },
    "papermill": {
     "duration": 0.112489,
     "end_time": "2021-06-02T14:38:05.052143",
     "exception": false,
     "start_time": "2021-06-02T14:38:04.939654",
     "status": "completed"
    },
    "tags": []
   },
   "outputs": [
    {
     "data": {
      "text/plain": [
       "0.8507462686567164"
      ]
     },
     "execution_count": 48,
     "metadata": {},
     "output_type": "execute_result"
    }
   ],
   "source": [
    "d_tree = DecisionTreeClassifier(random_state=6, max_depth=10, min_samples_split=2)\n",
    "d_tree.fit(x_train, y_train)\n",
    "\n",
    "result_dict[\"Decision Tree Classification\"] = d_tree.score(x_test, y_test)\n",
    "\n",
    "d_tree.score(x_test, y_test)"
   ]
  },
  {
   "cell_type": "markdown",
   "id": "structural-anthony",
   "metadata": {
    "papermill": {
     "duration": 0.094474,
     "end_time": "2021-06-02T14:38:05.242616",
     "exception": false,
     "start_time": "2021-06-02T14:38:05.148142",
     "status": "completed"
    },
    "tags": []
   },
   "source": [
    "### Random Forest Classification"
   ]
  },
  {
   "cell_type": "code",
   "execution_count": 49,
   "id": "thermal-jackson",
   "metadata": {
    "execution": {
     "iopub.execute_input": "2021-06-02T14:38:05.440508Z",
     "iopub.status.busy": "2021-06-02T14:38:05.439791Z",
     "iopub.status.idle": "2021-06-02T14:38:07.191319Z",
     "shell.execute_reply": "2021-06-02T14:38:07.190742Z",
     "shell.execute_reply.started": "2021-06-02T14:35:45.844215Z"
    },
    "papermill": {
     "duration": 1.853671,
     "end_time": "2021-06-02T14:38:07.191486",
     "exception": false,
     "start_time": "2021-06-02T14:38:05.337815",
     "status": "completed"
    },
    "tags": []
   },
   "outputs": [
    {
     "data": {
      "text/plain": [
       "0.8582089552238806"
      ]
     },
     "execution_count": 49,
     "metadata": {},
     "output_type": "execute_result"
    }
   ],
   "source": [
    "rf = RandomForestClassifier(\n",
    "    max_features= 5, \n",
    "    min_samples_split= 6,\n",
    "    min_samples_leaf=1,\n",
    "    n_estimators= 700,\n",
    "    random_state=42\n",
    "    )\n",
    "\n",
    "rf.fit(x_train, y_train)\n",
    "\n",
    "result_dict[\"Random Forest Classification\"] = rf.score(x_test, y_test)\n",
    "\n",
    "rf.score(x_test, y_test)"
   ]
  },
  {
   "cell_type": "code",
   "execution_count": 50,
   "id": "modular-bullet",
   "metadata": {
    "execution": {
     "iopub.execute_input": "2021-06-02T14:38:07.440195Z",
     "iopub.status.busy": "2021-06-02T14:38:07.439442Z",
     "iopub.status.idle": "2021-06-02T14:38:07.443972Z",
     "shell.execute_reply": "2021-06-02T14:38:07.443449Z",
     "shell.execute_reply.started": "2021-06-02T14:35:47.249349Z"
    },
    "papermill": {
     "duration": 0.108589,
     "end_time": "2021-06-02T14:38:07.444112",
     "exception": false,
     "start_time": "2021-06-02T14:38:07.335523",
     "status": "completed"
    },
    "tags": []
   },
   "outputs": [
    {
     "data": {
      "text/html": [
       "<div>\n",
       "<style scoped>\n",
       "    .dataframe tbody tr th:only-of-type {\n",
       "        vertical-align: middle;\n",
       "    }\n",
       "\n",
       "    .dataframe tbody tr th {\n",
       "        vertical-align: top;\n",
       "    }\n",
       "\n",
       "    .dataframe thead th {\n",
       "        text-align: right;\n",
       "    }\n",
       "</style>\n",
       "<table border=\"1\" class=\"dataframe\">\n",
       "  <thead>\n",
       "    <tr style=\"text-align: right;\">\n",
       "      <th></th>\n",
       "      <th>accuracy score</th>\n",
       "    </tr>\n",
       "  </thead>\n",
       "  <tbody>\n",
       "    <tr>\n",
       "      <th>Random Forest Classification</th>\n",
       "      <td>0.858209</td>\n",
       "    </tr>\n",
       "    <tr>\n",
       "      <th>Decision Tree Classification</th>\n",
       "      <td>0.850746</td>\n",
       "    </tr>\n",
       "    <tr>\n",
       "      <th>Logistic Regression</th>\n",
       "      <td>0.843284</td>\n",
       "    </tr>\n",
       "    <tr>\n",
       "      <th>SVM Classification</th>\n",
       "      <td>0.835821</td>\n",
       "    </tr>\n",
       "    <tr>\n",
       "      <th>KNN Classification</th>\n",
       "      <td>0.783582</td>\n",
       "    </tr>\n",
       "  </tbody>\n",
       "</table>\n",
       "</div>"
      ],
      "text/plain": [
       "                              accuracy score\n",
       "Random Forest Classification        0.858209\n",
       "Decision Tree Classification        0.850746\n",
       "Logistic Regression                 0.843284\n",
       "SVM Classification                  0.835821\n",
       "KNN Classification                  0.783582"
      ]
     },
     "execution_count": 50,
     "metadata": {},
     "output_type": "execute_result"
    }
   ],
   "source": [
    "results_df = pd.DataFrame(data=result_dict.values(), index=result_dict.keys(), columns= [\"accuracy score\"])\n",
    "results_df.sort_values(by=\"accuracy score\", ascending=False)"
   ]
  },
  {
   "cell_type": "markdown",
   "id": "covered-background",
   "metadata": {
    "papermill": {
     "duration": 0.098655,
     "end_time": "2021-06-02T14:38:07.638885",
     "exception": false,
     "start_time": "2021-06-02T14:38:07.540230",
     "status": "completed"
    },
    "tags": []
   },
   "source": [
    "### Ensemble Modeling"
   ]
  },
  {
   "cell_type": "code",
   "execution_count": 51,
   "id": "missing-algorithm",
   "metadata": {
    "execution": {
     "iopub.execute_input": "2021-06-02T14:38:07.837184Z",
     "iopub.status.busy": "2021-06-02T14:38:07.836475Z",
     "iopub.status.idle": "2021-06-02T14:38:11.865088Z",
     "shell.execute_reply": "2021-06-02T14:38:11.864565Z",
     "shell.execute_reply.started": "2021-06-02T14:35:47.262497Z"
    },
    "papermill": {
     "duration": 4.129097,
     "end_time": "2021-06-02T14:38:11.865234",
     "exception": false,
     "start_time": "2021-06-02T14:38:07.736137",
     "status": "completed"
    },
    "tags": []
   },
   "outputs": [
    {
     "name": "stdout",
     "output_type": "stream",
     "text": [
      "0.8731343283582089\n"
     ]
    }
   ],
   "source": [
    "votingC = VotingClassifier(estimators = [(\"dt\",d_tree),\n",
    "                                        (\"rfc\",rf),\n",
    "                                        (\"lr\",logreg)],\n",
    "                                        voting = \"soft\", n_jobs = -1)\n",
    "votingC = votingC.fit(x_train, y_train)\n",
    "print(accuracy_score(votingC.predict(x_test),y_test))"
   ]
  },
  {
   "cell_type": "markdown",
   "id": "frequent-backing",
   "metadata": {
    "papermill": {
     "duration": 0.094902,
     "end_time": "2021-06-02T14:38:12.055240",
     "exception": false,
     "start_time": "2021-06-02T14:38:11.960338",
     "status": "completed"
    },
    "tags": []
   },
   "source": [
    "### Prediction and Submission"
   ]
  },
  {
   "cell_type": "code",
   "execution_count": 52,
   "id": "resistant-kennedy",
   "metadata": {
    "execution": {
     "iopub.execute_input": "2021-06-02T14:38:12.257375Z",
     "iopub.status.busy": "2021-06-02T14:38:12.254193Z",
     "iopub.status.idle": "2021-06-02T14:38:12.378041Z",
     "shell.execute_reply": "2021-06-02T14:38:12.377398Z",
     "shell.execute_reply.started": "2021-06-02T14:35:48.875129Z"
    },
    "papermill": {
     "duration": 0.22596,
     "end_time": "2021-06-02T14:38:12.378264",
     "exception": false,
     "start_time": "2021-06-02T14:38:12.152304",
     "status": "completed"
    },
    "tags": []
   },
   "outputs": [],
   "source": [
    "test_survived = pd.Series(votingC.predict(test), name = \"Survived\").astype(int)\n",
    "results = pd.concat([test_PassengerId, test_survived],axis = 1)\n",
    "results.to_csv(\"titanic.csv\", index = False)"
   ]
  }
 ],
 "metadata": {
  "kernelspec": {
   "display_name": "Python 3",
   "language": "python",
   "name": "python3"
  },
  "language_info": {
   "codemirror_mode": {
    "name": "ipython",
    "version": 3
   },
   "file_extension": ".py",
   "mimetype": "text/x-python",
   "name": "python",
   "nbconvert_exporter": "python",
   "pygments_lexer": "ipython3",
   "version": "3.7.10"
  },
  "papermill": {
   "default_parameters": {},
   "duration": 43.029999,
   "end_time": "2021-06-02T14:38:14.051686",
   "environment_variables": {},
   "exception": null,
   "input_path": "__notebook__.ipynb",
   "output_path": "__notebook__.ipynb",
   "parameters": {},
   "start_time": "2021-06-02T14:37:31.021687",
   "version": "2.3.3"
  }
 },
 "nbformat": 4,
 "nbformat_minor": 5
}
