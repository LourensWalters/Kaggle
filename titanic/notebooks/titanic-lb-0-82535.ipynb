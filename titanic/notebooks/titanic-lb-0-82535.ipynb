{
 "cells": [
  {
   "cell_type": "markdown",
   "id": "residential-pixel",
   "metadata": {
    "papermill": {
     "duration": 0.038264,
     "end_time": "2021-07-01T06:48:57.106473",
     "exception": false,
     "start_time": "2021-07-01T06:48:57.068209",
     "status": "completed"
    },
    "tags": []
   },
   "source": [
    "# Titanic - Machine Learning from Disaster\n",
    "## LB=0.82535 (Top 3%) \n",
    "\n",
    "This model is original from : Vitalii Mokin \n",
    "https://www.kaggle.com/vbmokin/titanic-0-83253-comparison-20-popular-models. \n",
    "\n",
    "Basen on original model and put some imporvment what I discovered to get LB=0.82296\n",
    "\n",
    "Update\n",
    "2021.07.01 : Using voting model from : LD Freeman \n",
    "https://www.kaggle.com/ldfreeman3/a-data-science-framework-to-achieve-99-accuracy. \n",
    "To get LB=0.82535"
   ]
  },
  {
   "cell_type": "markdown",
   "id": "endless-county",
   "metadata": {
    "papermill": {
     "duration": 0.037224,
     "end_time": "2021-07-01T06:48:57.181250",
     "exception": false,
     "start_time": "2021-07-01T06:48:57.144026",
     "status": "completed"
    },
    "tags": []
   },
   "source": [
    "# 1. Data Preparation"
   ]
  },
  {
   "cell_type": "code",
   "execution_count": 1,
   "id": "absolute-indonesia",
   "metadata": {
    "execution": {
     "iopub.execute_input": "2021-07-01T06:48:57.266681Z",
     "iopub.status.busy": "2021-07-01T06:48:57.263061Z",
     "iopub.status.idle": "2021-07-01T06:48:58.777102Z",
     "shell.execute_reply": "2021-07-01T06:48:58.777678Z",
     "shell.execute_reply.started": "2021-07-01T06:16:22.872509Z"
    },
    "papermill": {
     "duration": 1.55947,
     "end_time": "2021-07-01T06:48:58.777994",
     "exception": false,
     "start_time": "2021-07-01T06:48:57.218524",
     "status": "completed"
    },
    "tags": []
   },
   "outputs": [],
   "source": [
    "import pandas as pd\n",
    "import numpy as np \n",
    "import graphviz\n",
    "import seaborn as sns\n",
    "import matplotlib.pyplot as plt\n",
    "from sklearn.preprocessing import LabelEncoder\n",
    "from sklearn.model_selection import GridSearchCV\n",
    "from sklearn.tree import DecisionTreeClassifier, export_graphviz\n",
    "from sklearn.preprocessing import StandardScaler\n",
    "\n",
    "import warnings\n",
    "warnings.filterwarnings(\"ignore\")"
   ]
  },
  {
   "cell_type": "code",
   "execution_count": 2,
   "id": "applicable-senator",
   "metadata": {
    "execution": {
     "iopub.execute_input": "2021-07-01T06:48:58.857239Z",
     "iopub.status.busy": "2021-07-01T06:48:58.856531Z",
     "iopub.status.idle": "2021-07-01T06:48:58.905973Z",
     "shell.execute_reply": "2021-07-01T06:48:58.905355Z",
     "shell.execute_reply.started": "2021-07-01T06:16:24.22839Z"
    },
    "papermill": {
     "duration": 0.090997,
     "end_time": "2021-07-01T06:48:58.906150",
     "exception": false,
     "start_time": "2021-07-01T06:48:58.815153",
     "status": "completed"
    },
    "tags": []
   },
   "outputs": [],
   "source": [
    "# Download data and preparing to prediction\n",
    "traindf = pd.read_csv('../input/titanic/train.csv').set_index('PassengerId')\n",
    "testdf = pd.read_csv('../input/titanic/test.csv').set_index('PassengerId')\n",
    "df = pd.concat([traindf, testdf], axis=0, sort=False)"
   ]
  },
  {
   "cell_type": "markdown",
   "id": "classical-holocaust",
   "metadata": {
    "papermill": {
     "duration": 0.037625,
     "end_time": "2021-07-01T06:48:58.979967",
     "exception": false,
     "start_time": "2021-07-01T06:48:58.942342",
     "status": "completed"
    },
    "tags": []
   },
   "source": [
    "# 2. Features Engineering (FE)"
   ]
  },
  {
   "cell_type": "code",
   "execution_count": 3,
   "id": "tamil-implement",
   "metadata": {
    "execution": {
     "iopub.execute_input": "2021-07-01T06:48:59.070714Z",
     "iopub.status.busy": "2021-07-01T06:48:59.069736Z",
     "iopub.status.idle": "2021-07-01T06:48:59.074404Z",
     "shell.execute_reply": "2021-07-01T06:48:59.074945Z",
     "shell.execute_reply.started": "2021-07-01T06:16:24.282634Z"
    },
    "papermill": {
     "duration": 0.057087,
     "end_time": "2021-07-01T06:48:59.075126",
     "exception": false,
     "start_time": "2021-07-01T06:48:59.018039",
     "status": "completed"
    },
    "tags": []
   },
   "outputs": [
    {
     "data": {
      "text/plain": [
       "Survived     418\n",
       "Pclass         0\n",
       "Name           0\n",
       "Sex            0\n",
       "Age          263\n",
       "SibSp          0\n",
       "Parch          0\n",
       "Ticket         0\n",
       "Fare           1\n",
       "Cabin       1014\n",
       "Embarked       2\n",
       "dtype: int64"
      ]
     },
     "execution_count": 3,
     "metadata": {},
     "output_type": "execute_result"
    }
   ],
   "source": [
    "df.isna().sum()"
   ]
  },
  {
   "cell_type": "markdown",
   "id": "three-spider",
   "metadata": {
    "papermill": {
     "duration": 0.039129,
     "end_time": "2021-07-01T06:48:59.153973",
     "exception": false,
     "start_time": "2021-07-01T06:48:59.114844",
     "status": "completed"
    },
    "tags": []
   },
   "source": [
    "## 2.1 Title"
   ]
  },
  {
   "cell_type": "code",
   "execution_count": 4,
   "id": "employed-prague",
   "metadata": {
    "execution": {
     "iopub.execute_input": "2021-07-01T06:48:59.243211Z",
     "iopub.status.busy": "2021-07-01T06:48:59.240914Z",
     "iopub.status.idle": "2021-07-01T06:48:59.248823Z",
     "shell.execute_reply": "2021-07-01T06:48:59.248247Z",
     "shell.execute_reply.started": "2021-07-01T06:16:24.302007Z"
    },
    "papermill": {
     "duration": 0.057884,
     "end_time": "2021-07-01T06:48:59.248991",
     "exception": false,
     "start_time": "2021-07-01T06:48:59.191107",
     "status": "completed"
    },
    "tags": []
   },
   "outputs": [
    {
     "data": {
      "text/plain": [
       "array(['Mr', 'Mrs', 'Miss', 'Master', 'Royalty', 'Officer'], dtype=object)"
      ]
     },
     "execution_count": 4,
     "metadata": {},
     "output_type": "execute_result"
    }
   ],
   "source": [
    "newtitles={\n",
    "    \"Capt\":       \"Officer\",\n",
    "    \"Col\":        \"Officer\",\n",
    "    \"Major\":      \"Officer\",\n",
    "    \"Jonkheer\":   \"Royalty\",\n",
    "    \"Don\":        \"Royalty\",\n",
    "    \"Sir\" :       \"Royalty\",\n",
    "    \"Dr\":         \"Officer\",\n",
    "    \"Rev\":        \"Officer\",\n",
    "    \"the Countess\":\"Royalty\",\n",
    "    \"Dona\":       \"Royalty\",\n",
    "    \"Mme\":        \"Mrs\",\n",
    "    \"Mlle\":       \"Miss\",\n",
    "    \"Ms\":         \"Mrs\",\n",
    "    \"Mr\" :        \"Mr\",\n",
    "    \"Mrs\" :       \"Mrs\",\n",
    "    \"Miss\" :      \"Miss\",\n",
    "    \"Master\" :    \"Master\",\n",
    "    \"Lady\" :      \"Royalty\"}\n",
    "\n",
    "# Extract title from name column\n",
    "df['Title']=df.Name.apply(lambda x: x.split('.')[0].split(',')[1].strip())\n",
    "# Mapping new title\n",
    "df['Title']=df.Title.map(newtitles)\n",
    "df['Title'].unique()"
   ]
  },
  {
   "cell_type": "code",
   "execution_count": 5,
   "id": "defined-economy",
   "metadata": {
    "execution": {
     "iopub.execute_input": "2021-07-01T06:48:59.346520Z",
     "iopub.status.busy": "2021-07-01T06:48:59.337106Z",
     "iopub.status.idle": "2021-07-01T06:48:59.432181Z",
     "shell.execute_reply": "2021-07-01T06:48:59.431664Z",
     "shell.execute_reply.started": "2021-07-01T06:16:24.320171Z"
    },
    "papermill": {
     "duration": 0.14455,
     "end_time": "2021-07-01T06:48:59.432338",
     "exception": false,
     "start_time": "2021-07-01T06:48:59.287788",
     "status": "completed"
    },
    "tags": []
   },
   "outputs": [
    {
     "data": {
      "text/html": [
       "<style  type=\"text/css\" >\n",
       "#T_6be85_row0_col0,#T_6be85_row0_col1,#T_6be85_row0_col3,#T_6be85_row0_col5,#T_6be85_row1_col2,#T_6be85_row1_col4{\n",
       "            background-color:  #ffff66;\n",
       "            color:  #000000;\n",
       "        }#T_6be85_row0_col2,#T_6be85_row0_col4,#T_6be85_row1_col0,#T_6be85_row1_col1,#T_6be85_row1_col3,#T_6be85_row1_col5{\n",
       "            background-color:  #008066;\n",
       "            color:  #f1f1f1;\n",
       "        }</style><table id=\"T_6be85_\" ><thead>    <tr>        <th class=\"index_name level0\" >Title</th>        <th class=\"col_heading level0 col0\" >Master</th>        <th class=\"col_heading level0 col1\" >Miss</th>        <th class=\"col_heading level0 col2\" >Mr</th>        <th class=\"col_heading level0 col3\" >Mrs</th>        <th class=\"col_heading level0 col4\" >Officer</th>        <th class=\"col_heading level0 col5\" >Royalty</th>    </tr>    <tr>        <th class=\"index_name level0\" >Survived</th>        <th class=\"blank\" ></th>        <th class=\"blank\" ></th>        <th class=\"blank\" ></th>        <th class=\"blank\" ></th>        <th class=\"blank\" ></th>        <th class=\"blank\" ></th>    </tr></thead><tbody>\n",
       "                <tr>\n",
       "                        <th id=\"T_6be85_level0_row0\" class=\"row_heading level0 row0\" >0.0</th>\n",
       "                        <td id=\"T_6be85_row0_col0\" class=\"data row0 col0\" >17</td>\n",
       "                        <td id=\"T_6be85_row0_col1\" class=\"data row0 col1\" >55</td>\n",
       "                        <td id=\"T_6be85_row0_col2\" class=\"data row0 col2\" >436</td>\n",
       "                        <td id=\"T_6be85_row0_col3\" class=\"data row0 col3\" >26</td>\n",
       "                        <td id=\"T_6be85_row0_col4\" class=\"data row0 col4\" >13</td>\n",
       "                        <td id=\"T_6be85_row0_col5\" class=\"data row0 col5\" >2</td>\n",
       "            </tr>\n",
       "            <tr>\n",
       "                        <th id=\"T_6be85_level0_row1\" class=\"row_heading level0 row1\" >1.0</th>\n",
       "                        <td id=\"T_6be85_row1_col0\" class=\"data row1 col0\" >23</td>\n",
       "                        <td id=\"T_6be85_row1_col1\" class=\"data row1 col1\" >129</td>\n",
       "                        <td id=\"T_6be85_row1_col2\" class=\"data row1 col2\" >81</td>\n",
       "                        <td id=\"T_6be85_row1_col3\" class=\"data row1 col3\" >101</td>\n",
       "                        <td id=\"T_6be85_row1_col4\" class=\"data row1 col4\" >5</td>\n",
       "                        <td id=\"T_6be85_row1_col5\" class=\"data row1 col5\" >3</td>\n",
       "            </tr>\n",
       "    </tbody></table>"
      ],
      "text/plain": [
       "<pandas.io.formats.style.Styler at 0x7fef430034d0>"
      ]
     },
     "execution_count": 5,
     "metadata": {},
     "output_type": "execute_result"
    }
   ],
   "source": [
    "pd.crosstab(df['Title'],df['Survived']).T.style.background_gradient(cmap='summer_r')"
   ]
  },
  {
   "cell_type": "markdown",
   "id": "formed-merit",
   "metadata": {
    "papermill": {
     "duration": 0.039758,
     "end_time": "2021-07-01T06:48:59.509164",
     "exception": false,
     "start_time": "2021-07-01T06:48:59.469406",
     "status": "completed"
    },
    "tags": []
   },
   "source": [
    "## 2.2 Gender "
   ]
  },
  {
   "cell_type": "code",
   "execution_count": 6,
   "id": "computational-community",
   "metadata": {
    "execution": {
     "iopub.execute_input": "2021-07-01T06:48:59.593983Z",
     "iopub.status.busy": "2021-07-01T06:48:59.593169Z",
     "iopub.status.idle": "2021-07-01T06:48:59.616630Z",
     "shell.execute_reply": "2021-07-01T06:48:59.617129Z",
     "shell.execute_reply.started": "2021-07-01T06:16:24.42721Z"
    },
    "papermill": {
     "duration": 0.069392,
     "end_time": "2021-07-01T06:48:59.617361",
     "exception": false,
     "start_time": "2021-07-01T06:48:59.547969",
     "status": "completed"
    },
    "tags": []
   },
   "outputs": [],
   "source": [
    "# Created a new column : \"Gender\", to seperate male, femail and kid\n",
    "# Note : If create \"Gender\" column after \"Age\", it can only get LB=0.82057, because \"Age\" will fill missing value.\n",
    "\n",
    "def newgender (cols):\n",
    "    Sex=cols[0]\n",
    "    Age=cols[1]\n",
    "    if Age < 15:\n",
    "        return 'kid'\n",
    "    else:\n",
    "        return Sex\n",
    "    \n",
    "df['Gender'] = df[['Sex','Age']].apply(newgender, axis=1)"
   ]
  },
  {
   "cell_type": "markdown",
   "id": "personal-arrangement",
   "metadata": {
    "papermill": {
     "duration": 0.040202,
     "end_time": "2021-07-01T06:48:59.695293",
     "exception": false,
     "start_time": "2021-07-01T06:48:59.655091",
     "status": "completed"
    },
    "tags": []
   },
   "source": [
    "## 2.3 Age"
   ]
  },
  {
   "cell_type": "code",
   "execution_count": 7,
   "id": "selective-familiar",
   "metadata": {
    "execution": {
     "iopub.execute_input": "2021-07-01T06:48:59.773207Z",
     "iopub.status.busy": "2021-07-01T06:48:59.772524Z",
     "iopub.status.idle": "2021-07-01T06:48:59.783366Z",
     "shell.execute_reply": "2021-07-01T06:48:59.782619Z",
     "shell.execute_reply.started": "2021-07-01T06:16:24.457722Z"
    },
    "papermill": {
     "duration": 0.050533,
     "end_time": "2021-07-01T06:48:59.783516",
     "exception": false,
     "start_time": "2021-07-01T06:48:59.732983",
     "status": "completed"
    },
    "tags": []
   },
   "outputs": [
    {
     "data": {
      "text/plain": [
       "Title    Sex   \n",
       "Master   male       5.482642\n",
       "Miss     female    21.795236\n",
       "Mr       male      32.252151\n",
       "Mrs      female    36.866279\n",
       "Officer  female    49.000000\n",
       "         male      46.142857\n",
       "Royalty  female    40.000000\n",
       "         male      42.333333\n",
       "Name: Age, dtype: float64"
      ]
     },
     "execution_count": 7,
     "metadata": {},
     "output_type": "execute_result"
    }
   ],
   "source": [
    "df.groupby(['Title','Sex']).Age.mean()"
   ]
  },
  {
   "cell_type": "code",
   "execution_count": 8,
   "id": "super-receipt",
   "metadata": {
    "execution": {
     "iopub.execute_input": "2021-07-01T06:48:59.867081Z",
     "iopub.status.busy": "2021-07-01T06:48:59.866381Z",
     "iopub.status.idle": "2021-07-01T06:48:59.899370Z",
     "shell.execute_reply": "2021-07-01T06:48:59.899939Z",
     "shell.execute_reply.started": "2021-07-01T06:16:24.47228Z"
    },
    "papermill": {
     "duration": 0.078101,
     "end_time": "2021-07-01T06:48:59.900158",
     "exception": false,
     "start_time": "2021-07-01T06:48:59.822057",
     "status": "completed"
    },
    "tags": []
   },
   "outputs": [],
   "source": [
    "def newage (cols):\n",
    "    title=cols[0]\n",
    "    Sex=cols[1]\n",
    "    Age=cols[2]\n",
    "    if pd.isnull(Age):\n",
    "        if title=='Master' and Sex==\"male\":\n",
    "            return 5.48\n",
    "        elif title=='Miss' and Sex=='female':\n",
    "            return 21.79\n",
    "        elif title=='Mr' and Sex=='male': \n",
    "            return 32.25\n",
    "        elif title=='Mrs' and Sex=='female':\n",
    "            return 36.86\n",
    "        elif title=='Officer' and Sex=='female':\n",
    "            return 49\n",
    "        elif title=='Officer' and Sex=='male':\n",
    "            return 46.12\n",
    "        elif title=='Royalty' and Sex=='female':\n",
    "            return 40\n",
    "        else:\n",
    "            return 42.33\n",
    "    else:\n",
    "        return Age\n",
    "    \n",
    "df['Age']=df[['Title','Sex','Age']].apply(newage, axis=1)"
   ]
  },
  {
   "cell_type": "markdown",
   "id": "governmental-fifty",
   "metadata": {
    "papermill": {
     "duration": 0.039493,
     "end_time": "2021-07-01T06:48:59.978340",
     "exception": false,
     "start_time": "2021-07-01T06:48:59.938847",
     "status": "completed"
    },
    "tags": []
   },
   "source": [
    "## 2.4 IsWomanOrBoy & LastName"
   ]
  },
  {
   "cell_type": "code",
   "execution_count": 9,
   "id": "black-geography",
   "metadata": {
    "execution": {
     "iopub.execute_input": "2021-07-01T06:49:00.062209Z",
     "iopub.status.busy": "2021-07-01T06:49:00.061450Z",
     "iopub.status.idle": "2021-07-01T06:49:00.072916Z",
     "shell.execute_reply": "2021-07-01T06:49:00.072323Z",
     "shell.execute_reply.started": "2021-07-01T06:16:24.51076Z"
    },
    "papermill": {
     "duration": 0.053377,
     "end_time": "2021-07-01T06:49:00.073059",
     "exception": false,
     "start_time": "2021-07-01T06:49:00.019682",
     "status": "completed"
    },
    "tags": []
   },
   "outputs": [],
   "source": [
    "df['IsWomanOrBoy'] = ((df.Age < 15) | (df.Sex == 'female'))\n",
    "df['LastName'] = df.Name.str.split(',').str[0]"
   ]
  },
  {
   "cell_type": "markdown",
   "id": "adult-blend",
   "metadata": {
    "papermill": {
     "duration": 0.039741,
     "end_time": "2021-07-01T06:49:00.151168",
     "exception": false,
     "start_time": "2021-07-01T06:49:00.111427",
     "status": "completed"
    },
    "tags": []
   },
   "source": [
    "## 2.5 WomanOrBoySurvived By Last Name"
   ]
  },
  {
   "cell_type": "code",
   "execution_count": 10,
   "id": "latter-harvest",
   "metadata": {
    "execution": {
     "iopub.execute_input": "2021-07-01T06:49:00.240196Z",
     "iopub.status.busy": "2021-07-01T06:49:00.239336Z",
     "iopub.status.idle": "2021-07-01T06:49:01.804216Z",
     "shell.execute_reply": "2021-07-01T06:49:01.805185Z",
     "shell.execute_reply.started": "2021-07-01T06:16:24.524324Z"
    },
    "papermill": {
     "duration": 1.615962,
     "end_time": "2021-07-01T06:49:01.805383",
     "exception": false,
     "start_time": "2021-07-01T06:49:00.189421",
     "status": "completed"
    },
    "tags": []
   },
   "outputs": [],
   "source": [
    "# Calculate each family's female and kids survival rate by family's last name\n",
    "family = df.groupby(df.LastName).Survived\n",
    "df['F_TotalCount'] = family.transform(lambda s: s.count())\n",
    "df['F_WomanOrBoyCount'] = family.transform(lambda s: s[df.IsWomanOrBoy].fillna(0).count())\n",
    "df['F_WomanOrBoyCount'] = df.mask(df.IsWomanOrBoy, df.F_WomanOrBoyCount - 1, axis=0)\n",
    "df['F_FamilySurvivedCount'] = family.transform(lambda s: s[df.IsWomanOrBoy].fillna(0).sum())\n",
    "df['F_FamilySurvivedCount'] = df.mask(df.IsWomanOrBoy, df.F_FamilySurvivedCount - df.Survived.fillna(0), axis=0)\n",
    "df['F_WomanOrBoySurvived'] = df.F_FamilySurvivedCount / df.F_WomanOrBoyCount.replace(0, np.nan)\n",
    "df['F_WomanOrBoySurvived'] = df.F_WomanOrBoySurvived.fillna(0)\n",
    "df['F_Alone'] = (df.F_WomanOrBoyCount == 0)"
   ]
  },
  {
   "cell_type": "markdown",
   "id": "horizontal-wisconsin",
   "metadata": {
    "papermill": {
     "duration": 0.038255,
     "end_time": "2021-07-01T06:49:01.905977",
     "exception": false,
     "start_time": "2021-07-01T06:49:01.867722",
     "status": "completed"
    },
    "tags": []
   },
   "source": [
    "## 2.6 WomanOrBoySurvived By Ticket"
   ]
  },
  {
   "cell_type": "code",
   "execution_count": 11,
   "id": "legitimate-infrared",
   "metadata": {
    "execution": {
     "iopub.execute_input": "2021-07-01T06:49:02.004315Z",
     "iopub.status.busy": "2021-07-01T06:49:02.001184Z",
     "iopub.status.idle": "2021-07-01T06:49:03.571201Z",
     "shell.execute_reply": "2021-07-01T06:49:03.570263Z",
     "shell.execute_reply.started": "2021-07-01T06:16:25.994013Z"
    },
    "papermill": {
     "duration": 1.625905,
     "end_time": "2021-07-01T06:49:03.571363",
     "exception": false,
     "start_time": "2021-07-01T06:49:01.945458",
     "status": "completed"
    },
    "tags": []
   },
   "outputs": [],
   "source": [
    "# Calculate each family's female and kids survival rate by ticket number\n",
    "ticket = df.groupby(df.Ticket).Survived\n",
    "df['T_TotalCount'] = ticket.transform(lambda s: s.count())\n",
    "df['T_WomanOrBoyCount'] = ticket.transform(lambda s: s[df.IsWomanOrBoy].fillna(0).count())\n",
    "df['T_WomanOrBoyCount'] = df.mask(df.IsWomanOrBoy, df.T_WomanOrBoyCount - 1, axis=0)\n",
    "df['T_FamilySurvivedCount'] = ticket.transform(lambda s: s[df.IsWomanOrBoy].fillna(0).sum())\n",
    "df['T_FamilySurvivedCount'] = df.mask(df.IsWomanOrBoy, df.T_FamilySurvivedCount - df.Survived.fillna(0), axis=0)\n",
    "df['T_WomanOrBoySurvived'] = df.T_FamilySurvivedCount / df.T_WomanOrBoyCount.replace(0, np.nan)\n",
    "df['T_WomanOrBoySurvived'] = df.T_WomanOrBoySurvived.fillna(0)\n",
    "df['T_Alone'] = (df.T_WomanOrBoyCount == 0)"
   ]
  },
  {
   "cell_type": "markdown",
   "id": "neither-omaha",
   "metadata": {
    "papermill": {
     "duration": 0.038319,
     "end_time": "2021-07-01T06:49:03.646925",
     "exception": false,
     "start_time": "2021-07-01T06:49:03.608606",
     "status": "completed"
    },
    "tags": []
   },
   "source": [
    "## 2.7 WomanOrBoySurvived & Alone"
   ]
  },
  {
   "cell_type": "code",
   "execution_count": 12,
   "id": "temporal-saying",
   "metadata": {
    "execution": {
     "iopub.execute_input": "2021-07-01T06:49:03.731235Z",
     "iopub.status.busy": "2021-07-01T06:49:03.730164Z",
     "iopub.status.idle": "2021-07-01T06:49:03.738718Z",
     "shell.execute_reply": "2021-07-01T06:49:03.738106Z",
     "shell.execute_reply.started": "2021-07-01T06:16:27.43824Z"
    },
    "papermill": {
     "duration": 0.053167,
     "end_time": "2021-07-01T06:49:03.738895",
     "exception": false,
     "start_time": "2021-07-01T06:49:03.685728",
     "status": "completed"
    },
    "tags": []
   },
   "outputs": [],
   "source": [
    "df['WomanOrBoySurvived'] = df[['F_WomanOrBoySurvived','T_WomanOrBoySurvived']].max(axis=1)\n",
    "df['Alone'] = ((df.F_Alone) & (df.T_Alone))"
   ]
  },
  {
   "cell_type": "markdown",
   "id": "presidential-queens",
   "metadata": {
    "papermill": {
     "duration": 0.038983,
     "end_time": "2021-07-01T06:49:03.815860",
     "exception": false,
     "start_time": "2021-07-01T06:49:03.776877",
     "status": "completed"
    },
    "tags": []
   },
   "source": [
    "## 2.8 Fare"
   ]
  },
  {
   "cell_type": "code",
   "execution_count": 13,
   "id": "phantom-stress",
   "metadata": {
    "execution": {
     "iopub.execute_input": "2021-07-01T06:49:03.902939Z",
     "iopub.status.busy": "2021-07-01T06:49:03.897446Z",
     "iopub.status.idle": "2021-07-01T06:49:03.907231Z",
     "shell.execute_reply": "2021-07-01T06:49:03.906522Z",
     "shell.execute_reply.started": "2021-07-01T06:16:27.44973Z"
    },
    "papermill": {
     "duration": 0.054053,
     "end_time": "2021-07-01T06:49:03.907378",
     "exception": false,
     "start_time": "2021-07-01T06:49:03.853325",
     "status": "completed"
    },
    "tags": []
   },
   "outputs": [],
   "source": [
    "med_fare = df.groupby(['Pclass', 'Parch', 'SibSp']).Fare.median()[3][0][0]\n",
    "# Filling the missing value in Fare with the median Fare of 3rd class alone passenger\n",
    "df['Fare'] = df['Fare'].fillna(med_fare)"
   ]
  },
  {
   "cell_type": "markdown",
   "id": "cardiac-shoulder",
   "metadata": {
    "papermill": {
     "duration": 0.037184,
     "end_time": "2021-07-01T06:49:03.982283",
     "exception": false,
     "start_time": "2021-07-01T06:49:03.945099",
     "status": "completed"
    },
    "tags": []
   },
   "source": [
    "## 2.9 FareOne"
   ]
  },
  {
   "cell_type": "code",
   "execution_count": 14,
   "id": "funky-technique",
   "metadata": {
    "execution": {
     "iopub.execute_input": "2021-07-01T06:49:05.019286Z",
     "iopub.status.busy": "2021-07-01T06:49:04.079415Z",
     "iopub.status.idle": "2021-07-01T06:49:05.042145Z",
     "shell.execute_reply": "2021-07-01T06:49:05.041320Z",
     "shell.execute_reply.started": "2021-07-01T06:16:27.46841Z"
    },
    "papermill": {
     "duration": 1.021601,
     "end_time": "2021-07-01T06:49:05.042304",
     "exception": false,
     "start_time": "2021-07-01T06:49:04.020703",
     "status": "completed"
    },
    "tags": []
   },
   "outputs": [
    {
     "data": {
      "text/plain": [
       "PassengerId\n",
       "1235    128.082300\n",
       "259     128.082300\n",
       "738     128.082300\n",
       "680     128.082300\n",
       "300      82.506933\n",
       "Name: FareOne, dtype: float64"
      ]
     },
     "execution_count": 14,
     "metadata": {},
     "output_type": "execute_result"
    }
   ],
   "source": [
    "# Calculate fare for single person and assume fare free for age under 1\n",
    "fare = df.groupby(df.Ticket).Fare\n",
    "df['FareOne'] = fare.transform(lambda x: x.mean() / x[df.Age > 1].count())\n",
    "df.sort_values(by = 'FareOne', ascending = False)['FareOne'].head(5)"
   ]
  },
  {
   "cell_type": "code",
   "execution_count": 15,
   "id": "engaged-population",
   "metadata": {
    "execution": {
     "iopub.execute_input": "2021-07-01T06:49:05.133185Z",
     "iopub.status.busy": "2021-07-01T06:49:05.131781Z",
     "iopub.status.idle": "2021-07-01T06:49:05.164054Z",
     "shell.execute_reply": "2021-07-01T06:49:05.164625Z",
     "shell.execute_reply.started": "2021-07-01T06:16:28.374098Z"
    },
    "papermill": {
     "duration": 0.082827,
     "end_time": "2021-07-01T06:49:05.164849",
     "exception": false,
     "start_time": "2021-07-01T06:49:05.082022",
     "status": "completed"
    },
    "tags": []
   },
   "outputs": [
    {
     "data": {
      "text/html": [
       "<div>\n",
       "<style scoped>\n",
       "    .dataframe tbody tr th:only-of-type {\n",
       "        vertical-align: middle;\n",
       "    }\n",
       "\n",
       "    .dataframe tbody tr th {\n",
       "        vertical-align: top;\n",
       "    }\n",
       "\n",
       "    .dataframe thead th {\n",
       "        text-align: right;\n",
       "    }\n",
       "</style>\n",
       "<table border=\"1\" class=\"dataframe\">\n",
       "  <thead>\n",
       "    <tr style=\"text-align: right;\">\n",
       "      <th></th>\n",
       "      <th>Survived</th>\n",
       "      <th>Pclass</th>\n",
       "      <th>Name</th>\n",
       "      <th>Sex</th>\n",
       "      <th>Age</th>\n",
       "      <th>SibSp</th>\n",
       "      <th>Parch</th>\n",
       "      <th>Ticket</th>\n",
       "      <th>Fare</th>\n",
       "      <th>Cabin</th>\n",
       "      <th>...</th>\n",
       "      <th>F_WomanOrBoySurvived</th>\n",
       "      <th>F_Alone</th>\n",
       "      <th>T_TotalCount</th>\n",
       "      <th>T_WomanOrBoyCount</th>\n",
       "      <th>T_FamilySurvivedCount</th>\n",
       "      <th>T_WomanOrBoySurvived</th>\n",
       "      <th>T_Alone</th>\n",
       "      <th>WomanOrBoySurvived</th>\n",
       "      <th>Alone</th>\n",
       "      <th>FareOne</th>\n",
       "    </tr>\n",
       "    <tr>\n",
       "      <th>PassengerId</th>\n",
       "      <th></th>\n",
       "      <th></th>\n",
       "      <th></th>\n",
       "      <th></th>\n",
       "      <th></th>\n",
       "      <th></th>\n",
       "      <th></th>\n",
       "      <th></th>\n",
       "      <th></th>\n",
       "      <th></th>\n",
       "      <th></th>\n",
       "      <th></th>\n",
       "      <th></th>\n",
       "      <th></th>\n",
       "      <th></th>\n",
       "      <th></th>\n",
       "      <th></th>\n",
       "      <th></th>\n",
       "      <th></th>\n",
       "      <th></th>\n",
       "      <th></th>\n",
       "    </tr>\n",
       "  </thead>\n",
       "  <tbody>\n",
       "    <tr>\n",
       "      <th>11</th>\n",
       "      <td>1.0</td>\n",
       "      <td>3</td>\n",
       "      <td>Sandstrom, Miss. Marguerite Rut</td>\n",
       "      <td>female</td>\n",
       "      <td>4.0</td>\n",
       "      <td>1</td>\n",
       "      <td>1</td>\n",
       "      <td>PP 9549</td>\n",
       "      <td>16.7</td>\n",
       "      <td>G6</td>\n",
       "      <td>...</td>\n",
       "      <td>0.5</td>\n",
       "      <td>False</td>\n",
       "      <td>2</td>\n",
       "      <td>2.0</td>\n",
       "      <td>1.0</td>\n",
       "      <td>0.5</td>\n",
       "      <td>False</td>\n",
       "      <td>0.5</td>\n",
       "      <td>False</td>\n",
       "      <td>8.35</td>\n",
       "    </tr>\n",
       "    <tr>\n",
       "      <th>395</th>\n",
       "      <td>1.0</td>\n",
       "      <td>3</td>\n",
       "      <td>Sandstrom, Mrs. Hjalmar (Agnes Charlotta Bengt...</td>\n",
       "      <td>female</td>\n",
       "      <td>24.0</td>\n",
       "      <td>0</td>\n",
       "      <td>2</td>\n",
       "      <td>PP 9549</td>\n",
       "      <td>16.7</td>\n",
       "      <td>G6</td>\n",
       "      <td>...</td>\n",
       "      <td>0.5</td>\n",
       "      <td>False</td>\n",
       "      <td>2</td>\n",
       "      <td>2.0</td>\n",
       "      <td>1.0</td>\n",
       "      <td>0.5</td>\n",
       "      <td>False</td>\n",
       "      <td>0.5</td>\n",
       "      <td>False</td>\n",
       "      <td>8.35</td>\n",
       "    </tr>\n",
       "    <tr>\n",
       "      <th>1009</th>\n",
       "      <td>NaN</td>\n",
       "      <td>3</td>\n",
       "      <td>Sandstrom, Miss. Beatrice Irene</td>\n",
       "      <td>female</td>\n",
       "      <td>1.0</td>\n",
       "      <td>1</td>\n",
       "      <td>1</td>\n",
       "      <td>PP 9549</td>\n",
       "      <td>16.7</td>\n",
       "      <td>G6</td>\n",
       "      <td>...</td>\n",
       "      <td>1.0</td>\n",
       "      <td>False</td>\n",
       "      <td>2</td>\n",
       "      <td>2.0</td>\n",
       "      <td>2.0</td>\n",
       "      <td>1.0</td>\n",
       "      <td>False</td>\n",
       "      <td>1.0</td>\n",
       "      <td>False</td>\n",
       "      <td>8.35</td>\n",
       "    </tr>\n",
       "  </tbody>\n",
       "</table>\n",
       "<p>3 rows × 28 columns</p>\n",
       "</div>"
      ],
      "text/plain": [
       "             Survived  Pclass  \\\n",
       "PassengerId                     \n",
       "11                1.0       3   \n",
       "395               1.0       3   \n",
       "1009              NaN       3   \n",
       "\n",
       "                                                          Name     Sex   Age  \\\n",
       "PassengerId                                                                    \n",
       "11                             Sandstrom, Miss. Marguerite Rut  female   4.0   \n",
       "395          Sandstrom, Mrs. Hjalmar (Agnes Charlotta Bengt...  female  24.0   \n",
       "1009                           Sandstrom, Miss. Beatrice Irene  female   1.0   \n",
       "\n",
       "             SibSp  Parch   Ticket  Fare Cabin  ... F_WomanOrBoySurvived  \\\n",
       "PassengerId                                     ...                        \n",
       "11               1      1  PP 9549  16.7    G6  ...                  0.5   \n",
       "395              0      2  PP 9549  16.7    G6  ...                  0.5   \n",
       "1009             1      1  PP 9549  16.7    G6  ...                  1.0   \n",
       "\n",
       "            F_Alone T_TotalCount  T_WomanOrBoyCount T_FamilySurvivedCount  \\\n",
       "PassengerId                                                                 \n",
       "11            False            2                2.0                   1.0   \n",
       "395           False            2                2.0                   1.0   \n",
       "1009          False            2                2.0                   2.0   \n",
       "\n",
       "             T_WomanOrBoySurvived T_Alone WomanOrBoySurvived  Alone  FareOne  \n",
       "PassengerId                                                                   \n",
       "11                            0.5   False                0.5  False     8.35  \n",
       "395                           0.5   False                0.5  False     8.35  \n",
       "1009                          1.0   False                1.0  False     8.35  \n",
       "\n",
       "[3 rows x 28 columns]"
      ]
     },
     "execution_count": 15,
     "metadata": {},
     "output_type": "execute_result"
    }
   ],
   "source": [
    "df[df['LastName'] == \"Sandstrom\"]"
   ]
  },
  {
   "cell_type": "markdown",
   "id": "private-mentor",
   "metadata": {
    "papermill": {
     "duration": 0.041757,
     "end_time": "2021-07-01T06:49:05.245840",
     "exception": false,
     "start_time": "2021-07-01T06:49:05.204083",
     "status": "completed"
    },
    "tags": []
   },
   "source": [
    "## 2.10 Encoding : Gender, FareOne, Age"
   ]
  },
  {
   "cell_type": "code",
   "execution_count": 16,
   "id": "disabled-negative",
   "metadata": {
    "execution": {
     "iopub.execute_input": "2021-07-01T06:49:05.350367Z",
     "iopub.status.busy": "2021-07-01T06:49:05.342102Z",
     "iopub.status.idle": "2021-07-01T06:49:05.650905Z",
     "shell.execute_reply": "2021-07-01T06:49:05.650170Z",
     "shell.execute_reply.started": "2021-07-01T06:16:28.413605Z"
    },
    "papermill": {
     "duration": 0.365127,
     "end_time": "2021-07-01T06:49:05.651064",
     "exception": false,
     "start_time": "2021-07-01T06:49:05.285937",
     "status": "completed"
    },
    "tags": []
   },
   "outputs": [
    {
     "data": {
      "image/png": "[encoded data removed]",
      "text/plain": [
       "<Figure size 1080x360 with 1 Axes>"
      ]
     },
     "metadata": {
      "needs_background": "light"
     },
     "output_type": "display_data"
    }
   ],
   "source": [
    "auxfare = pd.cut(df['FareOne'],5)\n",
    "fig, axs = plt.subplots(figsize=(15, 5))\n",
    "sns.countplot(x=auxfare, hue='Survived', data=df).set_title(\"Fare One Bins\",fontdict= { 'fontsize': 20, 'fontweight':'bold'});\n",
    "sns.despine()"
   ]
  },
  {
   "cell_type": "code",
   "execution_count": 17,
   "id": "protecting-lawrence",
   "metadata": {
    "execution": {
     "iopub.execute_input": "2021-07-01T06:49:05.740312Z",
     "iopub.status.busy": "2021-07-01T06:49:05.738235Z",
     "iopub.status.idle": "2021-07-01T06:49:06.087135Z",
     "shell.execute_reply": "2021-07-01T06:49:06.086395Z",
     "shell.execute_reply.started": "2021-07-01T06:16:28.719634Z"
    },
    "papermill": {
     "duration": 0.395948,
     "end_time": "2021-07-01T06:49:06.087312",
     "exception": false,
     "start_time": "2021-07-01T06:49:05.691364",
     "status": "completed"
    },
    "tags": []
   },
   "outputs": [
    {
     "data": {
      "image/png": "[encoded data removed]",
      "text/plain": [
       "<Figure size 1080x360 with 1 Axes>"
      ]
     },
     "metadata": {
      "needs_background": "light"
     },
     "output_type": "display_data"
    }
   ],
   "source": [
    "auxage = pd.cut(df['Age'], 4)\n",
    "fig, axs = plt.subplots(figsize=(15, 5))\n",
    "sns.countplot(x=auxage, hue='Survived', data=df).set_title(\"Age Bins\",fontdict= { 'fontsize': 20, 'fontweight':'bold'});\n",
    "sns.despine()"
   ]
  },
  {
   "cell_type": "code",
   "execution_count": 18,
   "id": "scheduled-vintage",
   "metadata": {
    "execution": {
     "iopub.execute_input": "2021-07-01T06:49:06.184753Z",
     "iopub.status.busy": "2021-07-01T06:49:06.183741Z",
     "iopub.status.idle": "2021-07-01T06:49:06.198849Z",
     "shell.execute_reply": "2021-07-01T06:49:06.199335Z",
     "shell.execute_reply.started": "2021-07-01T06:16:28.948804Z"
    },
    "papermill": {
     "duration": 0.066578,
     "end_time": "2021-07-01T06:49:06.199534",
     "exception": false,
     "start_time": "2021-07-01T06:49:06.132956",
     "status": "completed"
    },
    "tags": []
   },
   "outputs": [],
   "source": [
    "df['Gender_Code'] = df.Gender.replace({'male': 0, 'female': 1, 'kid': 2})\n",
    "df['FareOne_Code'] = LabelEncoder().fit_transform(auxfare) \n",
    "df['Age_Code'] = LabelEncoder().fit_transform(auxage)"
   ]
  },
  {
   "cell_type": "code",
   "execution_count": 19,
   "id": "exterior-capability",
   "metadata": {
    "execution": {
     "iopub.execute_input": "2021-07-01T06:49:06.291611Z",
     "iopub.status.busy": "2021-07-01T06:49:06.290675Z",
     "iopub.status.idle": "2021-07-01T06:49:06.295315Z",
     "shell.execute_reply": "2021-07-01T06:49:06.294744Z",
     "shell.execute_reply.started": "2021-07-01T06:16:28.971779Z"
    },
    "papermill": {
     "duration": 0.053109,
     "end_time": "2021-07-01T06:49:06.295465",
     "exception": false,
     "start_time": "2021-07-01T06:49:06.242356",
     "status": "completed"
    },
    "tags": []
   },
   "outputs": [
    {
     "data": {
      "text/plain": [
       "Index(['Survived', 'Pclass', 'Name', 'Sex', 'Age', 'SibSp', 'Parch', 'Ticket',\n",
       "       'Fare', 'Cabin', 'Embarked', 'Title', 'Gender', 'IsWomanOrBoy',\n",
       "       'LastName', 'F_TotalCount', 'F_WomanOrBoyCount',\n",
       "       'F_FamilySurvivedCount', 'F_WomanOrBoySurvived', 'F_Alone',\n",
       "       'T_TotalCount', 'T_WomanOrBoyCount', 'T_FamilySurvivedCount',\n",
       "       'T_WomanOrBoySurvived', 'T_Alone', 'WomanOrBoySurvived', 'Alone',\n",
       "       'FareOne', 'Gender_Code', 'FareOne_Code', 'Age_Code'],\n",
       "      dtype='object')"
      ]
     },
     "execution_count": 19,
     "metadata": {},
     "output_type": "execute_result"
    }
   ],
   "source": [
    "df.columns"
   ]
  },
  {
   "cell_type": "markdown",
   "id": "suspected-travel",
   "metadata": {
    "papermill": {
     "duration": 0.042857,
     "end_time": "2021-07-01T06:49:06.379909",
     "exception": false,
     "start_time": "2021-07-01T06:49:06.337052",
     "status": "completed"
    },
    "tags": []
   },
   "source": [
    "# 3. Prepare for modeling"
   ]
  },
  {
   "cell_type": "code",
   "execution_count": 20,
   "id": "growing-shepherd",
   "metadata": {
    "execution": {
     "iopub.execute_input": "2021-07-01T06:49:06.498682Z",
     "iopub.status.busy": "2021-07-01T06:49:06.497881Z",
     "iopub.status.idle": "2021-07-01T06:49:06.529226Z",
     "shell.execute_reply": "2021-07-01T06:49:06.528426Z",
     "shell.execute_reply.started": "2021-07-01T06:16:28.989198Z"
    },
    "papermill": {
     "duration": 0.099301,
     "end_time": "2021-07-01T06:49:06.529386",
     "exception": false,
     "start_time": "2021-07-01T06:49:06.430085",
     "status": "completed"
    },
    "tags": []
   },
   "outputs": [
    {
     "data": {
      "text/html": [
       "<div>\n",
       "<style scoped>\n",
       "    .dataframe tbody tr th:only-of-type {\n",
       "        vertical-align: middle;\n",
       "    }\n",
       "\n",
       "    .dataframe tbody tr th {\n",
       "        vertical-align: top;\n",
       "    }\n",
       "\n",
       "    .dataframe thead th {\n",
       "        text-align: right;\n",
       "    }\n",
       "</style>\n",
       "<table border=\"1\" class=\"dataframe\">\n",
       "  <thead>\n",
       "    <tr style=\"text-align: right;\">\n",
       "      <th></th>\n",
       "      <th>WomanOrBoySurvived</th>\n",
       "      <th>Alone</th>\n",
       "      <th>Gender_Code</th>\n",
       "      <th>FareOne_Code</th>\n",
       "      <th>Age_Code</th>\n",
       "    </tr>\n",
       "    <tr>\n",
       "      <th>PassengerId</th>\n",
       "      <th></th>\n",
       "      <th></th>\n",
       "      <th></th>\n",
       "      <th></th>\n",
       "      <th></th>\n",
       "    </tr>\n",
       "  </thead>\n",
       "  <tbody>\n",
       "    <tr>\n",
       "      <th>1</th>\n",
       "      <td>0.0</td>\n",
       "      <td>True</td>\n",
       "      <td>0</td>\n",
       "      <td>0</td>\n",
       "      <td>1</td>\n",
       "    </tr>\n",
       "    <tr>\n",
       "      <th>541</th>\n",
       "      <td>0.0</td>\n",
       "      <td>False</td>\n",
       "      <td>1</td>\n",
       "      <td>1</td>\n",
       "      <td>1</td>\n",
       "    </tr>\n",
       "    <tr>\n",
       "      <th>545</th>\n",
       "      <td>0.0</td>\n",
       "      <td>True</td>\n",
       "      <td>0</td>\n",
       "      <td>1</td>\n",
       "      <td>2</td>\n",
       "    </tr>\n",
       "    <tr>\n",
       "      <th>546</th>\n",
       "      <td>0.0</td>\n",
       "      <td>True</td>\n",
       "      <td>0</td>\n",
       "      <td>1</td>\n",
       "      <td>3</td>\n",
       "    </tr>\n",
       "    <tr>\n",
       "      <th>547</th>\n",
       "      <td>0.0</td>\n",
       "      <td>True</td>\n",
       "      <td>1</td>\n",
       "      <td>0</td>\n",
       "      <td>0</td>\n",
       "    </tr>\n",
       "    <tr>\n",
       "      <th>549</th>\n",
       "      <td>0.0</td>\n",
       "      <td>True</td>\n",
       "      <td>0</td>\n",
       "      <td>0</td>\n",
       "      <td>1</td>\n",
       "    </tr>\n",
       "    <tr>\n",
       "      <th>550</th>\n",
       "      <td>0.0</td>\n",
       "      <td>False</td>\n",
       "      <td>2</td>\n",
       "      <td>0</td>\n",
       "      <td>0</td>\n",
       "    </tr>\n",
       "    <tr>\n",
       "      <th>552</th>\n",
       "      <td>0.0</td>\n",
       "      <td>True</td>\n",
       "      <td>0</td>\n",
       "      <td>0</td>\n",
       "      <td>1</td>\n",
       "    </tr>\n",
       "    <tr>\n",
       "      <th>553</th>\n",
       "      <td>0.0</td>\n",
       "      <td>True</td>\n",
       "      <td>0</td>\n",
       "      <td>0</td>\n",
       "      <td>1</td>\n",
       "    </tr>\n",
       "    <tr>\n",
       "      <th>555</th>\n",
       "      <td>0.0</td>\n",
       "      <td>True</td>\n",
       "      <td>1</td>\n",
       "      <td>0</td>\n",
       "      <td>1</td>\n",
       "    </tr>\n",
       "  </tbody>\n",
       "</table>\n",
       "</div>"
      ],
      "text/plain": [
       "             WomanOrBoySurvived  Alone  Gender_Code  FareOne_Code  Age_Code\n",
       "PassengerId                                                                \n",
       "1                           0.0   True            0             0         1\n",
       "541                         0.0  False            1             1         1\n",
       "545                         0.0   True            0             1         2\n",
       "546                         0.0   True            0             1         3\n",
       "547                         0.0   True            1             0         0\n",
       "549                         0.0   True            0             0         1\n",
       "550                         0.0  False            2             0         0\n",
       "552                         0.0   True            0             0         1\n",
       "553                         0.0   True            0             0         1\n",
       "555                         0.0   True            1             0         1"
      ]
     },
     "execution_count": 20,
     "metadata": {},
     "output_type": "execute_result"
    }
   ],
   "source": [
    "df2 = df[['Survived','WomanOrBoySurvived','Alone','Gender_Code','FareOne_Code','Age_Code']]\n",
    "\n",
    "train, test = df2.loc[traindf.index], df2.loc[testdf.index]\n",
    "\n",
    "train_x = train.drop(['Survived'], axis = 1)\n",
    "train_y = train[\"Survived\"]\n",
    "train_names = train_x.columns\n",
    "\n",
    "test_x = test.drop(['Survived'], axis = 1)\n",
    "train_x.sort_values(by = 'WomanOrBoySurvived', ascending = True).head(10)"
   ]
  },
  {
   "cell_type": "code",
   "execution_count": 21,
   "id": "numerous-daily",
   "metadata": {
    "execution": {
     "iopub.execute_input": "2021-07-01T06:49:06.617764Z",
     "iopub.status.busy": "2021-07-01T06:49:06.617053Z",
     "iopub.status.idle": "2021-07-01T06:49:09.483445Z",
     "shell.execute_reply": "2021-07-01T06:49:09.484450Z",
     "shell.execute_reply.started": "2021-07-01T06:16:29.020247Z"
    },
    "papermill": {
     "duration": 2.912415,
     "end_time": "2021-07-01T06:49:09.484738",
     "exception": false,
     "start_time": "2021-07-01T06:49:06.572323",
     "status": "completed"
    },
    "tags": []
   },
   "outputs": [
    {
     "name": "stdout",
     "output_type": "stream",
     "text": [
      "{'max_depth': 4, 'min_samples_leaf': 1}\n"
     ]
    }
   ],
   "source": [
    "# Tuning the DecisionTreeClassifier by the GridSearchCV\n",
    "parameters = {'max_depth' : np.arange(2, 9, dtype=int),\n",
    "              'min_samples_leaf' :  np.arange(1, 3, dtype=int)}\n",
    "classifier = DecisionTreeClassifier(random_state=1000)\n",
    "model = GridSearchCV(estimator=classifier, param_grid=parameters, scoring='accuracy', cv=10, n_jobs=-1)\n",
    "model.fit(train_x, train_y)\n",
    "best_parameters = model.best_params_\n",
    "print(best_parameters)"
   ]
  },
  {
   "cell_type": "code",
   "execution_count": 22,
   "id": "based-earth",
   "metadata": {
    "execution": {
     "iopub.execute_input": "2021-07-01T06:49:09.582471Z",
     "iopub.status.busy": "2021-07-01T06:49:09.581737Z",
     "iopub.status.idle": "2021-07-01T06:49:09.589699Z",
     "shell.execute_reply": "2021-07-01T06:49:09.590223Z",
     "shell.execute_reply.started": "2021-07-01T06:16:31.984168Z"
    },
    "papermill": {
     "duration": 0.060975,
     "end_time": "2021-07-01T06:49:09.590399",
     "exception": false,
     "start_time": "2021-07-01T06:49:09.529424",
     "status": "completed"
    },
    "tags": []
   },
   "outputs": [
    {
     "data": {
      "text/plain": [
       "DecisionTreeClassifier(max_depth=4, random_state=1118)"
      ]
     },
     "execution_count": 22,
     "metadata": {},
     "output_type": "execute_result"
    }
   ],
   "source": [
    "model=DecisionTreeClassifier(max_depth = best_parameters['max_depth'], \n",
    "                             min_samples_leaf = best_parameters['min_samples_leaf'], \n",
    "                             random_state = 1118)\n",
    "model.fit(train_x, train_y)"
   ]
  },
  {
   "cell_type": "code",
   "execution_count": 23,
   "id": "standing-london",
   "metadata": {
    "execution": {
     "iopub.execute_input": "2021-07-01T06:49:09.678214Z",
     "iopub.status.busy": "2021-07-01T06:49:09.677211Z",
     "iopub.status.idle": "2021-07-01T06:49:10.197787Z",
     "shell.execute_reply": "2021-07-01T06:49:10.197119Z",
     "shell.execute_reply.started": "2021-07-01T06:16:32.002908Z"
    },
    "papermill": {
     "duration": 0.565319,
     "end_time": "2021-07-01T06:49:10.197934",
     "exception": false,
     "start_time": "2021-07-01T06:49:09.632615",
     "status": "completed"
    },
    "tags": []
   },
   "outputs": [
    {
     "data": {
      "image/svg+xml": [
       "<?xml version=\"1.0\" encoding=\"UTF-8\" standalone=\"no\"?>\n",
       "<!DOCTYPE svg PUBLIC \"-//W3C//DTD SVG 1.1//EN\"\n",
       " \"http://www.w3.org/Graphics/SVG/1.1/DTD/svg11.dtd\">\n",
       "<!-- Generated by graphviz version 2.47.0 (20210327.0129)\n",
       " -->\n",
       "<!-- Title: Tree Pages: 1 -->\n",
       "<svg width=\"1250pt\" height=\"552pt\"\n",
       " viewBox=\"0.00 0.00 1249.50 552.00\" xmlns=\"http://www.w3.org/2000/svg\" xmlns:xlink=\"http://www.w3.org/1999/xlink\">\n",
       "<g id=\"graph0\" class=\"graph\" transform=\"scale(1 1) rotate(0) translate(4 548)\">\n",
       "<title>Tree</title>\n",
       "<polygon fill=\"white\" stroke=\"transparent\" points=\"-4,4 -4,-548 1245.5,-548 1245.5,4 -4,4\"/>\n",
       "<!-- 0 -->\n",
       "<g id=\"node1\" class=\"node\">\n",
       "<title>0</title>\n",
       "<polygon fill=\"#f5cfb4\" stroke=\"black\" points=\"664.5,-544 425.5,-544 425.5,-461 664.5,-461 664.5,-544\"/>\n",
       "<text text-anchor=\"start\" x=\"433.5\" y=\"-528.8\" font-family=\"Times-Roman\" font-size=\"14.00\">WomanOrBoySurvived ≤ 0.196</text>\n",
       "<text text-anchor=\"start\" x=\"501\" y=\"-513.8\" font-family=\"Times-Roman\" font-size=\"14.00\">gini = 0.473</text>\n",
       "<text text-anchor=\"start\" x=\"490.5\" y=\"-498.8\" font-family=\"Times-Roman\" font-size=\"14.00\">samples = 891</text>\n",
       "<text text-anchor=\"start\" x=\"478\" y=\"-483.8\" font-family=\"Times-Roman\" font-size=\"14.00\">value = [549, 342]</text>\n",
       "<text text-anchor=\"start\" x=\"512\" y=\"-468.8\" font-family=\"Times-Roman\" font-size=\"14.00\">class = 0</text>\n",
       "</g>\n",
       "<!-- 1 -->\n",
       "<g id=\"node2\" class=\"node\">\n",
       "<title>1</title>\n",
       "<polygon fill=\"#eca16b\" stroke=\"black\" points=\"516,-425 358,-425 358,-342 516,-342 516,-425\"/>\n",
       "<text text-anchor=\"start\" x=\"366\" y=\"-409.8\" font-family=\"Times-Roman\" font-size=\"14.00\">Gender_Code ≤ 0.5</text>\n",
       "<text text-anchor=\"start\" x=\"393\" y=\"-394.8\" font-family=\"Times-Roman\" font-size=\"14.00\">gini = 0.322</text>\n",
       "<text text-anchor=\"start\" x=\"382.5\" y=\"-379.8\" font-family=\"Times-Roman\" font-size=\"14.00\">samples = 683</text>\n",
       "<text text-anchor=\"start\" x=\"370\" y=\"-364.8\" font-family=\"Times-Roman\" font-size=\"14.00\">value = [545, 138]</text>\n",
       "<text text-anchor=\"start\" x=\"404\" y=\"-349.8\" font-family=\"Times-Roman\" font-size=\"14.00\">class = 0</text>\n",
       "</g>\n",
       "<!-- 0&#45;&gt;1 -->\n",
       "<g id=\"edge1\" class=\"edge\">\n",
       "<title>0&#45;&gt;1</title>\n",
       "<path fill=\"none\" stroke=\"black\" d=\"M507.53,-460.91C499.07,-451.74 490.01,-441.93 481.3,-432.49\"/>\n",
       "<polygon fill=\"black\" stroke=\"black\" points=\"483.76,-429.99 474.4,-425.02 478.61,-434.74 483.76,-429.99\"/>\n",
       "<text text-anchor=\"middle\" x=\"473.4\" y=\"-446.3\" font-family=\"Times-Roman\" font-size=\"14.00\">True</text>\n",
       "</g>\n",
       "<!-- 10 -->\n",
       "<g id=\"node11\" class=\"node\">\n",
       "<title>10</title>\n",
       "<polygon fill=\"#3d9fe6\" stroke=\"black\" points=\"789.5,-425 550.5,-425 550.5,-342 789.5,-342 789.5,-425\"/>\n",
       "<text text-anchor=\"start\" x=\"558.5\" y=\"-409.8\" font-family=\"Times-Roman\" font-size=\"14.00\">WomanOrBoySurvived ≤ 0.633</text>\n",
       "<text text-anchor=\"start\" x=\"626\" y=\"-394.8\" font-family=\"Times-Roman\" font-size=\"14.00\">gini = 0.038</text>\n",
       "<text text-anchor=\"start\" x=\"615.5\" y=\"-379.8\" font-family=\"Times-Roman\" font-size=\"14.00\">samples = 208</text>\n",
       "<text text-anchor=\"start\" x=\"612\" y=\"-364.8\" font-family=\"Times-Roman\" font-size=\"14.00\">value = [4, 204]</text>\n",
       "<text text-anchor=\"start\" x=\"637\" y=\"-349.8\" font-family=\"Times-Roman\" font-size=\"14.00\">class = 1</text>\n",
       "</g>\n",
       "<!-- 0&#45;&gt;10 -->\n",
       "<g id=\"edge10\" class=\"edge\">\n",
       "<title>0&#45;&gt;10</title>\n",
       "<path fill=\"none\" stroke=\"black\" d=\"M588.37,-460.91C598.35,-451.56 609.06,-441.54 619.33,-431.93\"/>\n",
       "<polygon fill=\"black\" stroke=\"black\" points=\"621.8,-434.41 626.71,-425.02 617.02,-429.3 621.8,-434.41\"/>\n",
       "<text text-anchor=\"middle\" x=\"625.88\" y=\"-446.31\" font-family=\"Times-Roman\" font-size=\"14.00\">False</text>\n",
       "</g>\n",
       "<!-- 2 -->\n",
       "<g id=\"node3\" class=\"node\">\n",
       "<title>2</title>\n",
       "<polygon fill=\"#e58139\" stroke=\"black\" points=\"348,-298.5 216,-298.5 216,-230.5 348,-230.5 348,-298.5\"/>\n",
       "<text text-anchor=\"start\" x=\"247\" y=\"-283.3\" font-family=\"Times-Roman\" font-size=\"14.00\">gini = 0.0</text>\n",
       "<text text-anchor=\"start\" x=\"227.5\" y=\"-268.3\" font-family=\"Times-Roman\" font-size=\"14.00\">samples = 450</text>\n",
       "<text text-anchor=\"start\" x=\"224\" y=\"-253.3\" font-family=\"Times-Roman\" font-size=\"14.00\">value = [450, 0]</text>\n",
       "<text text-anchor=\"start\" x=\"249\" y=\"-238.3\" font-family=\"Times-Roman\" font-size=\"14.00\">class = 0</text>\n",
       "</g>\n",
       "<!-- 1&#45;&gt;2 -->\n",
       "<g id=\"edge2\" class=\"edge\">\n",
       "<title>1&#45;&gt;2</title>\n",
       "<path fill=\"none\" stroke=\"black\" d=\"M383.22,-341.91C367.29,-329.88 349.87,-316.73 334.05,-304.79\"/>\n",
       "<polygon fill=\"black\" stroke=\"black\" points=\"336.03,-301.9 325.94,-298.67 331.81,-307.49 336.03,-301.9\"/>\n",
       "</g>\n",
       "<!-- 3 -->\n",
       "<g id=\"node4\" class=\"node\">\n",
       "<title>3</title>\n",
       "<polygon fill=\"#c1e0f7\" stroke=\"black\" points=\"507.5,-306 366.5,-306 366.5,-223 507.5,-223 507.5,-306\"/>\n",
       "<text text-anchor=\"start\" x=\"394.5\" y=\"-290.8\" font-family=\"Times-Roman\" font-size=\"14.00\">Alone ≤ 0.5</text>\n",
       "<text text-anchor=\"start\" x=\"393\" y=\"-275.8\" font-family=\"Times-Roman\" font-size=\"14.00\">gini = 0.483</text>\n",
       "<text text-anchor=\"start\" x=\"382.5\" y=\"-260.8\" font-family=\"Times-Roman\" font-size=\"14.00\">samples = 233</text>\n",
       "<text text-anchor=\"start\" x=\"374.5\" y=\"-245.8\" font-family=\"Times-Roman\" font-size=\"14.00\">value = [95, 138]</text>\n",
       "<text text-anchor=\"start\" x=\"404\" y=\"-230.8\" font-family=\"Times-Roman\" font-size=\"14.00\">class = 1</text>\n",
       "</g>\n",
       "<!-- 1&#45;&gt;3 -->\n",
       "<g id=\"edge3\" class=\"edge\">\n",
       "<title>1&#45;&gt;3</title>\n",
       "<path fill=\"none\" stroke=\"black\" d=\"M437,-341.91C437,-333.65 437,-324.86 437,-316.3\"/>\n",
       "<polygon fill=\"black\" stroke=\"black\" points=\"440.5,-316.02 437,-306.02 433.5,-316.02 440.5,-316.02\"/>\n",
       "</g>\n",
       "<!-- 4 -->\n",
       "<g id=\"node5\" class=\"node\">\n",
       "<title>4</title>\n",
       "<polygon fill=\"#f5ceb2\" stroke=\"black\" points=\"294,-187 130,-187 130,-104 294,-104 294,-187\"/>\n",
       "<text text-anchor=\"start\" x=\"138\" y=\"-171.8\" font-family=\"Times-Roman\" font-size=\"14.00\">FareOne_Code ≤ 0.5</text>\n",
       "<text text-anchor=\"start\" x=\"168\" y=\"-156.8\" font-family=\"Times-Roman\" font-size=\"14.00\">gini = 0.471</text>\n",
       "<text text-anchor=\"start\" x=\"157.5\" y=\"-141.8\" font-family=\"Times-Roman\" font-size=\"14.00\">samples = 100</text>\n",
       "<text text-anchor=\"start\" x=\"154\" y=\"-126.8\" font-family=\"Times-Roman\" font-size=\"14.00\">value = [62, 38]</text>\n",
       "<text text-anchor=\"start\" x=\"179\" y=\"-111.8\" font-family=\"Times-Roman\" font-size=\"14.00\">class = 0</text>\n",
       "</g>\n",
       "<!-- 3&#45;&gt;4 -->\n",
       "<g id=\"edge4\" class=\"edge\">\n",
       "<title>3&#45;&gt;4</title>\n",
       "<path fill=\"none\" stroke=\"black\" d=\"M366.43,-226.8C345.13,-215.73 321.5,-203.44 299.25,-191.87\"/>\n",
       "<polygon fill=\"black\" stroke=\"black\" points=\"300.63,-188.64 290.15,-187.14 297.4,-194.85 300.63,-188.64\"/>\n",
       "</g>\n",
       "<!-- 7 -->\n",
       "<g id=\"node8\" class=\"node\">\n",
       "<title>7</title>\n",
       "<polygon fill=\"#7abdee\" stroke=\"black\" points=\"519,-187 355,-187 355,-104 519,-104 519,-187\"/>\n",
       "<text text-anchor=\"start\" x=\"363\" y=\"-171.8\" font-family=\"Times-Roman\" font-size=\"14.00\">FareOne_Code ≤ 0.5</text>\n",
       "<text text-anchor=\"start\" x=\"393\" y=\"-156.8\" font-family=\"Times-Roman\" font-size=\"14.00\">gini = 0.373</text>\n",
       "<text text-anchor=\"start\" x=\"382.5\" y=\"-141.8\" font-family=\"Times-Roman\" font-size=\"14.00\">samples = 133</text>\n",
       "<text text-anchor=\"start\" x=\"374.5\" y=\"-126.8\" font-family=\"Times-Roman\" font-size=\"14.00\">value = [33, 100]</text>\n",
       "<text text-anchor=\"start\" x=\"404\" y=\"-111.8\" font-family=\"Times-Roman\" font-size=\"14.00\">class = 1</text>\n",
       "</g>\n",
       "<!-- 3&#45;&gt;7 -->\n",
       "<g id=\"edge7\" class=\"edge\">\n",
       "<title>3&#45;&gt;7</title>\n",
       "<path fill=\"none\" stroke=\"black\" d=\"M437,-222.91C437,-214.65 437,-205.86 437,-197.3\"/>\n",
       "<polygon fill=\"black\" stroke=\"black\" points=\"440.5,-197.02 437,-187.02 433.5,-197.02 440.5,-197.02\"/>\n",
       "</g>\n",
       "<!-- 5 -->\n",
       "<g id=\"node6\" class=\"node\">\n",
       "<title>5</title>\n",
       "<polygon fill=\"#f0b68c\" stroke=\"black\" points=\"132,-68 0,-68 0,0 132,0 132,-68\"/>\n",
       "<text text-anchor=\"start\" x=\"22\" y=\"-52.8\" font-family=\"Times-Roman\" font-size=\"14.00\">gini = 0.416</text>\n",
       "<text text-anchor=\"start\" x=\"16\" y=\"-37.8\" font-family=\"Times-Roman\" font-size=\"14.00\">samples = 88</text>\n",
       "<text text-anchor=\"start\" x=\"8\" y=\"-22.8\" font-family=\"Times-Roman\" font-size=\"14.00\">value = [62, 26]</text>\n",
       "<text text-anchor=\"start\" x=\"33\" y=\"-7.8\" font-family=\"Times-Roman\" font-size=\"14.00\">class = 0</text>\n",
       "</g>\n",
       "<!-- 4&#45;&gt;5 -->\n",
       "<g id=\"edge5\" class=\"edge\">\n",
       "<title>4&#45;&gt;5</title>\n",
       "<path fill=\"none\" stroke=\"black\" d=\"M157.63,-103.73C144.87,-94.15 131.28,-83.96 118.59,-74.44\"/>\n",
       "<polygon fill=\"black\" stroke=\"black\" points=\"120.5,-71.5 110.4,-68.3 116.3,-77.1 120.5,-71.5\"/>\n",
       "</g>\n",
       "<!-- 6 -->\n",
       "<g id=\"node7\" class=\"node\">\n",
       "<title>6</title>\n",
       "<polygon fill=\"#399de5\" stroke=\"black\" points=\"273.5,-68 150.5,-68 150.5,0 273.5,0 273.5,-68\"/>\n",
       "<text text-anchor=\"start\" x=\"177\" y=\"-52.8\" font-family=\"Times-Roman\" font-size=\"14.00\">gini = 0.0</text>\n",
       "<text text-anchor=\"start\" x=\"162\" y=\"-37.8\" font-family=\"Times-Roman\" font-size=\"14.00\">samples = 12</text>\n",
       "<text text-anchor=\"start\" x=\"158.5\" y=\"-22.8\" font-family=\"Times-Roman\" font-size=\"14.00\">value = [0, 12]</text>\n",
       "<text text-anchor=\"start\" x=\"179\" y=\"-7.8\" font-family=\"Times-Roman\" font-size=\"14.00\">class = 1</text>\n",
       "</g>\n",
       "<!-- 4&#45;&gt;6 -->\n",
       "<g id=\"edge6\" class=\"edge\">\n",
       "<title>4&#45;&gt;6</title>\n",
       "<path fill=\"none\" stroke=\"black\" d=\"M212,-103.73C212,-95.52 212,-86.86 212,-78.56\"/>\n",
       "<polygon fill=\"black\" stroke=\"black\" points=\"215.5,-78.3 212,-68.3 208.5,-78.3 215.5,-78.3\"/>\n",
       "</g>\n",
       "<!-- 8 -->\n",
       "<g id=\"node9\" class=\"node\">\n",
       "<title>8</title>\n",
       "<polygon fill=\"#8fc7f0\" stroke=\"black\" points=\"424,-68 292,-68 292,0 424,0 424,-68\"/>\n",
       "<text text-anchor=\"start\" x=\"314\" y=\"-52.8\" font-family=\"Times-Roman\" font-size=\"14.00\">gini = 0.422</text>\n",
       "<text text-anchor=\"start\" x=\"303.5\" y=\"-37.8\" font-family=\"Times-Roman\" font-size=\"14.00\">samples = 106</text>\n",
       "<text text-anchor=\"start\" x=\"300\" y=\"-22.8\" font-family=\"Times-Roman\" font-size=\"14.00\">value = [32, 74]</text>\n",
       "<text text-anchor=\"start\" x=\"325\" y=\"-7.8\" font-family=\"Times-Roman\" font-size=\"14.00\">class = 1</text>\n",
       "</g>\n",
       "<!-- 7&#45;&gt;8 -->\n",
       "<g id=\"edge8\" class=\"edge\">\n",
       "<title>7&#45;&gt;8</title>\n",
       "<path fill=\"none\" stroke=\"black\" d=\"M407.58,-103.73C401.2,-94.88 394.44,-85.51 388.03,-76.63\"/>\n",
       "<polygon fill=\"black\" stroke=\"black\" points=\"390.71,-74.36 382.02,-68.3 385.04,-78.46 390.71,-74.36\"/>\n",
       "</g>\n",
       "<!-- 9 -->\n",
       "<g id=\"node10\" class=\"node\">\n",
       "<title>9</title>\n",
       "<polygon fill=\"#41a1e6\" stroke=\"black\" points=\"565.5,-68 442.5,-68 442.5,0 565.5,0 565.5,-68\"/>\n",
       "<text text-anchor=\"start\" x=\"460\" y=\"-52.8\" font-family=\"Times-Roman\" font-size=\"14.00\">gini = 0.071</text>\n",
       "<text text-anchor=\"start\" x=\"454\" y=\"-37.8\" font-family=\"Times-Roman\" font-size=\"14.00\">samples = 27</text>\n",
       "<text text-anchor=\"start\" x=\"450.5\" y=\"-22.8\" font-family=\"Times-Roman\" font-size=\"14.00\">value = [1, 26]</text>\n",
       "<text text-anchor=\"start\" x=\"471\" y=\"-7.8\" font-family=\"Times-Roman\" font-size=\"14.00\">class = 1</text>\n",
       "</g>\n",
       "<!-- 7&#45;&gt;9 -->\n",
       "<g id=\"edge9\" class=\"edge\">\n",
       "<title>7&#45;&gt;9</title>\n",
       "<path fill=\"none\" stroke=\"black\" d=\"M461.95,-103.73C467.31,-94.97 472.98,-85.7 478.36,-76.91\"/>\n",
       "<polygon fill=\"black\" stroke=\"black\" points=\"481.39,-78.66 483.62,-68.3 475.42,-75 481.39,-78.66\"/>\n",
       "</g>\n",
       "<!-- 11 -->\n",
       "<g id=\"node12\" class=\"node\">\n",
       "<title>11</title>\n",
       "<polygon fill=\"#4aa5e7\" stroke=\"black\" points=\"785,-306 555,-306 555,-223 785,-223 785,-306\"/>\n",
       "<text text-anchor=\"start\" x=\"563\" y=\"-290.8\" font-family=\"Times-Roman\" font-size=\"14.00\">WomanOrBoySurvived ≤ 0.55</text>\n",
       "<text text-anchor=\"start\" x=\"626\" y=\"-275.8\" font-family=\"Times-Roman\" font-size=\"14.00\">gini = 0.145</text>\n",
       "<text text-anchor=\"start\" x=\"620\" y=\"-260.8\" font-family=\"Times-Roman\" font-size=\"14.00\">samples = 38</text>\n",
       "<text text-anchor=\"start\" x=\"616.5\" y=\"-245.8\" font-family=\"Times-Roman\" font-size=\"14.00\">value = [3, 35]</text>\n",
       "<text text-anchor=\"start\" x=\"637\" y=\"-230.8\" font-family=\"Times-Roman\" font-size=\"14.00\">class = 1</text>\n",
       "</g>\n",
       "<!-- 10&#45;&gt;11 -->\n",
       "<g id=\"edge11\" class=\"edge\">\n",
       "<title>10&#45;&gt;11</title>\n",
       "<path fill=\"none\" stroke=\"black\" d=\"M670,-341.91C670,-333.65 670,-324.86 670,-316.3\"/>\n",
       "<polygon fill=\"black\" stroke=\"black\" points=\"673.5,-316.02 670,-306.02 666.5,-316.02 673.5,-316.02\"/>\n",
       "</g>\n",
       "<!-- 16 -->\n",
       "<g id=\"node17\" class=\"node\">\n",
       "<title>16</title>\n",
       "<polygon fill=\"#3a9ee5\" stroke=\"black\" points=\"1009,-306 877,-306 877,-223 1009,-223 1009,-306\"/>\n",
       "<text text-anchor=\"start\" x=\"885\" y=\"-290.8\" font-family=\"Times-Roman\" font-size=\"14.00\">Age_Code ≤ 1.5</text>\n",
       "<text text-anchor=\"start\" x=\"899\" y=\"-275.8\" font-family=\"Times-Roman\" font-size=\"14.00\">gini = 0.012</text>\n",
       "<text text-anchor=\"start\" x=\"888.5\" y=\"-260.8\" font-family=\"Times-Roman\" font-size=\"14.00\">samples = 170</text>\n",
       "<text text-anchor=\"start\" x=\"885\" y=\"-245.8\" font-family=\"Times-Roman\" font-size=\"14.00\">value = [1, 169]</text>\n",
       "<text text-anchor=\"start\" x=\"910\" y=\"-230.8\" font-family=\"Times-Roman\" font-size=\"14.00\">class = 1</text>\n",
       "</g>\n",
       "<!-- 10&#45;&gt;16 -->\n",
       "<g id=\"edge16\" class=\"edge\">\n",
       "<title>10&#45;&gt;16</title>\n",
       "<path fill=\"none\" stroke=\"black\" d=\"M764.72,-341.91C798.36,-327.49 835.74,-311.47 867.56,-297.83\"/>\n",
       "<polygon fill=\"black\" stroke=\"black\" points=\"868.99,-301.03 876.81,-293.87 866.24,-294.59 868.99,-301.03\"/>\n",
       "</g>\n",
       "<!-- 12 -->\n",
       "<g id=\"node13\" class=\"node\">\n",
       "<title>12</title>\n",
       "<polygon fill=\"#44a3e6\" stroke=\"black\" points=\"727,-187 563,-187 563,-104 727,-104 727,-187\"/>\n",
       "<text text-anchor=\"start\" x=\"571\" y=\"-171.8\" font-family=\"Times-Roman\" font-size=\"14.00\">FareOne_Code ≤ 0.5</text>\n",
       "<text text-anchor=\"start\" x=\"601\" y=\"-156.8\" font-family=\"Times-Roman\" font-size=\"14.00\">gini = 0.102</text>\n",
       "<text text-anchor=\"start\" x=\"595\" y=\"-141.8\" font-family=\"Times-Roman\" font-size=\"14.00\">samples = 37</text>\n",
       "<text text-anchor=\"start\" x=\"591.5\" y=\"-126.8\" font-family=\"Times-Roman\" font-size=\"14.00\">value = [2, 35]</text>\n",
       "<text text-anchor=\"start\" x=\"612\" y=\"-111.8\" font-family=\"Times-Roman\" font-size=\"14.00\">class = 1</text>\n",
       "</g>\n",
       "<!-- 11&#45;&gt;12 -->\n",
       "<g id=\"edge12\" class=\"edge\">\n",
       "<title>11&#45;&gt;12</title>\n",
       "<path fill=\"none\" stroke=\"black\" d=\"M661.33,-222.91C659.54,-214.56 657.64,-205.67 655.79,-197.02\"/>\n",
       "<polygon fill=\"black\" stroke=\"black\" points=\"659.17,-196.07 653.66,-187.02 652.33,-197.53 659.17,-196.07\"/>\n",
       "</g>\n",
       "<!-- 15 -->\n",
       "<g id=\"node16\" class=\"node\">\n",
       "<title>15</title>\n",
       "<polygon fill=\"#e58139\" stroke=\"black\" points=\"859,-179.5 745,-179.5 745,-111.5 859,-111.5 859,-179.5\"/>\n",
       "<text text-anchor=\"start\" x=\"767\" y=\"-164.3\" font-family=\"Times-Roman\" font-size=\"14.00\">gini = 0.0</text>\n",
       "<text text-anchor=\"start\" x=\"756.5\" y=\"-149.3\" font-family=\"Times-Roman\" font-size=\"14.00\">samples = 1</text>\n",
       "<text text-anchor=\"start\" x=\"753\" y=\"-134.3\" font-family=\"Times-Roman\" font-size=\"14.00\">value = [1, 0]</text>\n",
       "<text text-anchor=\"start\" x=\"769\" y=\"-119.3\" font-family=\"Times-Roman\" font-size=\"14.00\">class = 0</text>\n",
       "</g>\n",
       "<!-- 11&#45;&gt;15 -->\n",
       "<g id=\"edge15\" class=\"edge\">\n",
       "<title>11&#45;&gt;15</title>\n",
       "<path fill=\"none\" stroke=\"black\" d=\"M715.8,-222.91C729.12,-211.1 743.65,-198.22 756.93,-186.45\"/>\n",
       "<polygon fill=\"black\" stroke=\"black\" points=\"759.42,-188.92 764.58,-179.67 754.78,-183.68 759.42,-188.92\"/>\n",
       "</g>\n",
       "<!-- 13 -->\n",
       "<g id=\"node14\" class=\"node\">\n",
       "<title>13</title>\n",
       "<polygon fill=\"#399de5\" stroke=\"black\" points=\"706.5,-68 583.5,-68 583.5,0 706.5,0 706.5,-68\"/>\n",
       "<text text-anchor=\"start\" x=\"610\" y=\"-52.8\" font-family=\"Times-Roman\" font-size=\"14.00\">gini = 0.0</text>\n",
       "<text text-anchor=\"start\" x=\"595\" y=\"-37.8\" font-family=\"Times-Roman\" font-size=\"14.00\">samples = 23</text>\n",
       "<text text-anchor=\"start\" x=\"591.5\" y=\"-22.8\" font-family=\"Times-Roman\" font-size=\"14.00\">value = [0, 23]</text>\n",
       "<text text-anchor=\"start\" x=\"612\" y=\"-7.8\" font-family=\"Times-Roman\" font-size=\"14.00\">class = 1</text>\n",
       "</g>\n",
       "<!-- 12&#45;&gt;13 -->\n",
       "<g id=\"edge13\" class=\"edge\">\n",
       "<title>12&#45;&gt;13</title>\n",
       "<path fill=\"none\" stroke=\"black\" d=\"M645,-103.73C645,-95.52 645,-86.86 645,-78.56\"/>\n",
       "<polygon fill=\"black\" stroke=\"black\" points=\"648.5,-78.3 645,-68.3 641.5,-78.3 648.5,-78.3\"/>\n",
       "</g>\n",
       "<!-- 14 -->\n",
       "<g id=\"node15\" class=\"node\">\n",
       "<title>14</title>\n",
       "<polygon fill=\"#5aade9\" stroke=\"black\" points=\"847.5,-68 724.5,-68 724.5,0 847.5,0 847.5,-68\"/>\n",
       "<text text-anchor=\"start\" x=\"742\" y=\"-52.8\" font-family=\"Times-Roman\" font-size=\"14.00\">gini = 0.245</text>\n",
       "<text text-anchor=\"start\" x=\"736\" y=\"-37.8\" font-family=\"Times-Roman\" font-size=\"14.00\">samples = 14</text>\n",
       "<text text-anchor=\"start\" x=\"732.5\" y=\"-22.8\" font-family=\"Times-Roman\" font-size=\"14.00\">value = [2, 12]</text>\n",
       "<text text-anchor=\"start\" x=\"753\" y=\"-7.8\" font-family=\"Times-Roman\" font-size=\"14.00\">class = 1</text>\n",
       "</g>\n",
       "<!-- 12&#45;&gt;14 -->\n",
       "<g id=\"edge14\" class=\"edge\">\n",
       "<title>12&#45;&gt;14</title>\n",
       "<path fill=\"none\" stroke=\"black\" d=\"M697.5,-103.73C709.84,-94.15 722.95,-83.96 735.21,-74.44\"/>\n",
       "<polygon fill=\"black\" stroke=\"black\" points=\"737.37,-77.2 743.12,-68.3 733.08,-71.67 737.37,-77.2\"/>\n",
       "</g>\n",
       "<!-- 17 -->\n",
       "<g id=\"node18\" class=\"node\">\n",
       "<title>17</title>\n",
       "<polygon fill=\"#399de5\" stroke=\"black\" points=\"1009,-179.5 877,-179.5 877,-111.5 1009,-111.5 1009,-179.5\"/>\n",
       "<text text-anchor=\"start\" x=\"908\" y=\"-164.3\" font-family=\"Times-Roman\" font-size=\"14.00\">gini = 0.0</text>\n",
       "<text text-anchor=\"start\" x=\"888.5\" y=\"-149.3\" font-family=\"Times-Roman\" font-size=\"14.00\">samples = 134</text>\n",
       "<text text-anchor=\"start\" x=\"885\" y=\"-134.3\" font-family=\"Times-Roman\" font-size=\"14.00\">value = [0, 134]</text>\n",
       "<text text-anchor=\"start\" x=\"910\" y=\"-119.3\" font-family=\"Times-Roman\" font-size=\"14.00\">class = 1</text>\n",
       "</g>\n",
       "<!-- 16&#45;&gt;17 -->\n",
       "<g id=\"edge17\" class=\"edge\">\n",
       "<title>16&#45;&gt;17</title>\n",
       "<path fill=\"none\" stroke=\"black\" d=\"M943,-222.91C943,-212.2 943,-200.62 943,-189.78\"/>\n",
       "<polygon fill=\"black\" stroke=\"black\" points=\"946.5,-189.67 943,-179.67 939.5,-189.67 946.5,-189.67\"/>\n",
       "</g>\n",
       "<!-- 18 -->\n",
       "<g id=\"node19\" class=\"node\">\n",
       "<title>18</title>\n",
       "<polygon fill=\"#3fa0e6\" stroke=\"black\" points=\"1191,-187 1027,-187 1027,-104 1191,-104 1191,-187\"/>\n",
       "<text text-anchor=\"start\" x=\"1035\" y=\"-171.8\" font-family=\"Times-Roman\" font-size=\"14.00\">FareOne_Code ≤ 0.5</text>\n",
       "<text text-anchor=\"start\" x=\"1065\" y=\"-156.8\" font-family=\"Times-Roman\" font-size=\"14.00\">gini = 0.054</text>\n",
       "<text text-anchor=\"start\" x=\"1059\" y=\"-141.8\" font-family=\"Times-Roman\" font-size=\"14.00\">samples = 36</text>\n",
       "<text text-anchor=\"start\" x=\"1055.5\" y=\"-126.8\" font-family=\"Times-Roman\" font-size=\"14.00\">value = [1, 35]</text>\n",
       "<text text-anchor=\"start\" x=\"1076\" y=\"-111.8\" font-family=\"Times-Roman\" font-size=\"14.00\">class = 1</text>\n",
       "</g>\n",
       "<!-- 16&#45;&gt;18 -->\n",
       "<g id=\"edge18\" class=\"edge\">\n",
       "<title>16&#45;&gt;18</title>\n",
       "<path fill=\"none\" stroke=\"black\" d=\"M1000.59,-222.91C1014.37,-213.2 1029.18,-202.76 1043.29,-192.81\"/>\n",
       "<polygon fill=\"black\" stroke=\"black\" points=\"1045.35,-195.64 1051.51,-187.02 1041.32,-189.92 1045.35,-195.64\"/>\n",
       "</g>\n",
       "<!-- 19 -->\n",
       "<g id=\"node20\" class=\"node\">\n",
       "<title>19</title>\n",
       "<polygon fill=\"#4ba6e7\" stroke=\"black\" points=\"1100.5,-68 977.5,-68 977.5,0 1100.5,0 1100.5,-68\"/>\n",
       "<text text-anchor=\"start\" x=\"995\" y=\"-52.8\" font-family=\"Times-Roman\" font-size=\"14.00\">gini = 0.153</text>\n",
       "<text text-anchor=\"start\" x=\"989\" y=\"-37.8\" font-family=\"Times-Roman\" font-size=\"14.00\">samples = 12</text>\n",
       "<text text-anchor=\"start\" x=\"985.5\" y=\"-22.8\" font-family=\"Times-Roman\" font-size=\"14.00\">value = [1, 11]</text>\n",
       "<text text-anchor=\"start\" x=\"1006\" y=\"-7.8\" font-family=\"Times-Roman\" font-size=\"14.00\">class = 1</text>\n",
       "</g>\n",
       "<!-- 18&#45;&gt;19 -->\n",
       "<g id=\"edge19\" class=\"edge\">\n",
       "<title>18&#45;&gt;19</title>\n",
       "<path fill=\"none\" stroke=\"black\" d=\"M1082.93,-103.73C1077.34,-94.97 1071.41,-85.7 1065.79,-76.91\"/>\n",
       "<polygon fill=\"black\" stroke=\"black\" points=\"1068.62,-74.84 1060.29,-68.3 1062.72,-78.61 1068.62,-74.84\"/>\n",
       "</g>\n",
       "<!-- 20 -->\n",
       "<g id=\"node21\" class=\"node\">\n",
       "<title>20</title>\n",
       "<polygon fill=\"#399de5\" stroke=\"black\" points=\"1241.5,-68 1118.5,-68 1118.5,0 1241.5,0 1241.5,-68\"/>\n",
       "<text text-anchor=\"start\" x=\"1145\" y=\"-52.8\" font-family=\"Times-Roman\" font-size=\"14.00\">gini = 0.0</text>\n",
       "<text text-anchor=\"start\" x=\"1130\" y=\"-37.8\" font-family=\"Times-Roman\" font-size=\"14.00\">samples = 24</text>\n",
       "<text text-anchor=\"start\" x=\"1126.5\" y=\"-22.8\" font-family=\"Times-Roman\" font-size=\"14.00\">value = [0, 24]</text>\n",
       "<text text-anchor=\"start\" x=\"1147\" y=\"-7.8\" font-family=\"Times-Roman\" font-size=\"14.00\">class = 1</text>\n",
       "</g>\n",
       "<!-- 18&#45;&gt;20 -->\n",
       "<g id=\"edge20\" class=\"edge\">\n",
       "<title>18&#45;&gt;20</title>\n",
       "<path fill=\"none\" stroke=\"black\" d=\"M1135.44,-103.73C1141.12,-94.97 1147.12,-85.7 1152.83,-76.91\"/>\n",
       "<polygon fill=\"black\" stroke=\"black\" points=\"1155.9,-78.59 1158.41,-68.3 1150.03,-74.79 1155.9,-78.59\"/>\n",
       "</g>\n",
       "</g>\n",
       "</svg>\n"
      ],
      "text/plain": [
       "<graphviz.files.Source at 0x7fef40418110>"
      ]
     },
     "execution_count": 23,
     "metadata": {},
     "output_type": "execute_result"
    }
   ],
   "source": [
    "# plot tree\n",
    "import os\n",
    "os.environ[\"PATH\"] += os.pathsep + 'C:/Program Files (x86)/Graphviz2.38/bin/'\n",
    "dot_data = export_graphviz(model, out_file=None, feature_names=train_names, class_names=['0', '1'], \n",
    "                           filled=True, rounded=False,special_characters=True) \n",
    "graph = graphviz.Source(dot_data)\n",
    "graph "
   ]
  },
  {
   "cell_type": "code",
   "execution_count": 24,
   "id": "early-spokesman",
   "metadata": {
    "execution": {
     "iopub.execute_input": "2021-07-01T06:49:10.302757Z",
     "iopub.status.busy": "2021-07-01T06:49:10.301682Z",
     "iopub.status.idle": "2021-07-01T06:49:10.307860Z",
     "shell.execute_reply": "2021-07-01T06:49:10.307243Z",
     "shell.execute_reply.started": "2021-07-01T06:16:32.458647Z"
    },
    "papermill": {
     "duration": 0.065523,
     "end_time": "2021-07-01T06:49:10.308008",
     "exception": false,
     "start_time": "2021-07-01T06:49:10.242485",
     "status": "completed"
    },
    "tags": []
   },
   "outputs": [
    {
     "name": "stdout",
     "output_type": "stream",
     "text": [
      "Accuracy of the model:  93.04\n"
     ]
    }
   ],
   "source": [
    "# Prediction by the DecisionTreeClassifier\n",
    "y_pred = model.predict(test_x).astype(int)\n",
    "print(\"Accuracy of the model: \",round(model.score(train_x, train_y) * 100, 2))"
   ]
  },
  {
   "cell_type": "code",
   "execution_count": 25,
   "id": "indie-divide",
   "metadata": {
    "execution": {
     "iopub.execute_input": "2021-07-01T06:49:10.446590Z",
     "iopub.status.busy": "2021-07-01T06:49:10.432157Z",
     "iopub.status.idle": "2021-07-01T06:49:10.579905Z",
     "shell.execute_reply": "2021-07-01T06:49:10.579322Z",
     "shell.execute_reply.started": "2021-07-01T06:16:32.476322Z"
    },
    "papermill": {
     "duration": 0.228365,
     "end_time": "2021-07-01T06:49:10.580094",
     "exception": false,
     "start_time": "2021-07-01T06:49:10.351729",
     "status": "completed"
    },
    "tags": []
   },
   "outputs": [
    {
     "data": {
      "image/png": "[encoded data removed]",
      "text/plain": [
       "<Figure size 576x360 with 1 Axes>"
      ]
     },
     "metadata": {
      "needs_background": "light"
     },
     "output_type": "display_data"
    }
   ],
   "source": [
    "import seaborn as sns\n",
    "import matplotlib.pyplot as plt\n",
    "\n",
    "importances = pd.DataFrame(model.feature_importances_, index = train_names)\n",
    "importances.sort_values(by = 0, inplace=True, ascending = False)\n",
    "importances = importances.iloc[0:6,:] \n",
    "\n",
    "plt.figure(figsize=(8, 5)) \n",
    "sns.barplot(x=0, y=importances.index, data=importances,palette=\"deep\").set_title(\"Feature Importances\",\n",
    "                                                                                 fontdict= { 'fontsize': 20,\n",
    "                                                                                            'fontweight':'bold'});\n",
    "sns.despine()"
   ]
  },
  {
   "cell_type": "markdown",
   "id": "secondary-senior",
   "metadata": {
    "papermill": {
     "duration": 0.045357,
     "end_time": "2021-07-01T06:49:10.671991",
     "exception": false,
     "start_time": "2021-07-01T06:49:10.626634",
     "status": "completed"
    },
    "tags": []
   },
   "source": [
    "# 4. Voting Classifier\n",
    "This voting model is original from : LD Freeman \n",
    "https://www.kaggle.com/ldfreeman3/a-data-science-framework-to-achieve-99-accuracy. "
   ]
  },
  {
   "cell_type": "code",
   "execution_count": 26,
   "id": "answering-contractor",
   "metadata": {
    "execution": {
     "iopub.execute_input": "2021-07-01T06:49:10.774671Z",
     "iopub.status.busy": "2021-07-01T06:49:10.773474Z",
     "iopub.status.idle": "2021-07-01T06:49:10.793263Z",
     "shell.execute_reply": "2021-07-01T06:49:10.792676Z",
     "shell.execute_reply.started": "2021-07-01T06:16:32.652324Z"
    },
    "papermill": {
     "duration": 0.075358,
     "end_time": "2021-07-01T06:49:10.793441",
     "exception": false,
     "start_time": "2021-07-01T06:49:10.718083",
     "status": "completed"
    },
    "tags": []
   },
   "outputs": [
    {
     "data": {
      "text/plain": [
       "Index(['WomanOrBoySurvived', 'Alone', 'Age', 'Gender_0', 'Gender_1',\n",
       "       'Gender_2', 'Fare_1', 'Fare_2', 'Fare_3', 'Fare_4', 'Survived'],\n",
       "      dtype='object')"
      ]
     },
     "execution_count": 26,
     "metadata": {},
     "output_type": "execute_result"
    }
   ],
   "source": [
    "df5 = pd.get_dummies(df, columns=['Gender_Code','FareOne_Code'])\n",
    "df5 = df5[['WomanOrBoySurvived', 'Alone', 'Age_Code', \\\n",
    "           'Gender_Code_0', 'Gender_Code_1', 'Gender_Code_2', \\\n",
    "#            'FareOne_Code_0', 'FareOne_Code_1', 'FareOne_Code_2', 'FareOne_Code_3', 'FareOne_Code_4', \\\n",
    "           'FareOne_Code_1', 'FareOne_Code_2', 'FareOne_Code_3', 'FareOne_Code_4', \\\n",
    "           'Survived']]\n",
    "df5.rename(columns = {'Age_Code':'Age'}, inplace = True)\n",
    "df5.rename(columns = {'Gender_Code_0':'Gender_0','Gender_Code_1':'Gender_1', 'Gender_Code_2':'Gender_2'}, inplace = True)\n",
    "df5.rename(columns = {'FareOne_Code_1':'Fare_1', 'FareOne_Code_2':'Fare_2'}, inplace = True)\n",
    "df5.rename(columns = {'FareOne_Code_3':'Fare_3', 'FareOne_Code_4':'Fare_4'}, inplace = True)\n",
    "# df5.rename(columns = {'FareOne_Code_0':'Fare_0'}, inplace = True)\n",
    "df5.columns"
   ]
  },
  {
   "cell_type": "code",
   "execution_count": 27,
   "id": "effective-booking",
   "metadata": {
    "execution": {
     "iopub.execute_input": "2021-07-01T06:49:10.905517Z",
     "iopub.status.busy": "2021-07-01T06:49:10.890203Z",
     "iopub.status.idle": "2021-07-01T06:49:10.911108Z",
     "shell.execute_reply": "2021-07-01T06:49:10.910348Z",
     "shell.execute_reply.started": "2021-07-01T06:16:32.679684Z"
    },
    "papermill": {
     "duration": 0.071555,
     "end_time": "2021-07-01T06:49:10.911305",
     "exception": false,
     "start_time": "2021-07-01T06:49:10.839750",
     "status": "completed"
    },
    "tags": []
   },
   "outputs": [
    {
     "data": {
      "text/html": [
       "<div>\n",
       "<style scoped>\n",
       "    .dataframe tbody tr th:only-of-type {\n",
       "        vertical-align: middle;\n",
       "    }\n",
       "\n",
       "    .dataframe tbody tr th {\n",
       "        vertical-align: top;\n",
       "    }\n",
       "\n",
       "    .dataframe thead th {\n",
       "        text-align: right;\n",
       "    }\n",
       "</style>\n",
       "<table border=\"1\" class=\"dataframe\">\n",
       "  <thead>\n",
       "    <tr style=\"text-align: right;\">\n",
       "      <th></th>\n",
       "      <th>WomanOrBoySurvived</th>\n",
       "      <th>Alone</th>\n",
       "      <th>Age</th>\n",
       "      <th>Gender_0</th>\n",
       "      <th>Gender_1</th>\n",
       "      <th>Gender_2</th>\n",
       "      <th>Fare_1</th>\n",
       "      <th>Fare_2</th>\n",
       "      <th>Fare_3</th>\n",
       "      <th>Fare_4</th>\n",
       "      <th>Survived</th>\n",
       "    </tr>\n",
       "    <tr>\n",
       "      <th>PassengerId</th>\n",
       "      <th></th>\n",
       "      <th></th>\n",
       "      <th></th>\n",
       "      <th></th>\n",
       "      <th></th>\n",
       "      <th></th>\n",
       "      <th></th>\n",
       "      <th></th>\n",
       "      <th></th>\n",
       "      <th></th>\n",
       "      <th></th>\n",
       "    </tr>\n",
       "  </thead>\n",
       "  <tbody>\n",
       "    <tr>\n",
       "      <th>1</th>\n",
       "      <td>0.0</td>\n",
       "      <td>True</td>\n",
       "      <td>1</td>\n",
       "      <td>1</td>\n",
       "      <td>0</td>\n",
       "      <td>0</td>\n",
       "      <td>0</td>\n",
       "      <td>0</td>\n",
       "      <td>0</td>\n",
       "      <td>0</td>\n",
       "      <td>0.0</td>\n",
       "    </tr>\n",
       "    <tr>\n",
       "      <th>2</th>\n",
       "      <td>0.0</td>\n",
       "      <td>True</td>\n",
       "      <td>1</td>\n",
       "      <td>0</td>\n",
       "      <td>1</td>\n",
       "      <td>0</td>\n",
       "      <td>1</td>\n",
       "      <td>0</td>\n",
       "      <td>0</td>\n",
       "      <td>0</td>\n",
       "      <td>1.0</td>\n",
       "    </tr>\n",
       "    <tr>\n",
       "      <th>3</th>\n",
       "      <td>0.0</td>\n",
       "      <td>True</td>\n",
       "      <td>1</td>\n",
       "      <td>0</td>\n",
       "      <td>1</td>\n",
       "      <td>0</td>\n",
       "      <td>0</td>\n",
       "      <td>0</td>\n",
       "      <td>0</td>\n",
       "      <td>0</td>\n",
       "      <td>1.0</td>\n",
       "    </tr>\n",
       "    <tr>\n",
       "      <th>4</th>\n",
       "      <td>0.0</td>\n",
       "      <td>True</td>\n",
       "      <td>1</td>\n",
       "      <td>0</td>\n",
       "      <td>1</td>\n",
       "      <td>0</td>\n",
       "      <td>1</td>\n",
       "      <td>0</td>\n",
       "      <td>0</td>\n",
       "      <td>0</td>\n",
       "      <td>1.0</td>\n",
       "    </tr>\n",
       "    <tr>\n",
       "      <th>5</th>\n",
       "      <td>0.0</td>\n",
       "      <td>True</td>\n",
       "      <td>1</td>\n",
       "      <td>1</td>\n",
       "      <td>0</td>\n",
       "      <td>0</td>\n",
       "      <td>0</td>\n",
       "      <td>0</td>\n",
       "      <td>0</td>\n",
       "      <td>0</td>\n",
       "      <td>0.0</td>\n",
       "    </tr>\n",
       "  </tbody>\n",
       "</table>\n",
       "</div>"
      ],
      "text/plain": [
       "             WomanOrBoySurvived  Alone  Age  Gender_0  Gender_1  Gender_2  \\\n",
       "PassengerId                                                                 \n",
       "1                           0.0   True    1         1         0         0   \n",
       "2                           0.0   True    1         0         1         0   \n",
       "3                           0.0   True    1         0         1         0   \n",
       "4                           0.0   True    1         0         1         0   \n",
       "5                           0.0   True    1         1         0         0   \n",
       "\n",
       "             Fare_1  Fare_2  Fare_3  Fare_4  Survived  \n",
       "PassengerId                                            \n",
       "1                 0       0       0       0       0.0  \n",
       "2                 1       0       0       0       1.0  \n",
       "3                 0       0       0       0       1.0  \n",
       "4                 1       0       0       0       1.0  \n",
       "5                 0       0       0       0       0.0  "
      ]
     },
     "execution_count": 27,
     "metadata": {},
     "output_type": "execute_result"
    }
   ],
   "source": [
    "train, test = df5.loc[traindf.index], df5.loc[testdf.index]\n",
    "\n",
    "train_x = train.drop(['Survived'], axis = 1)\n",
    "train_y = train[\"Survived\"]\n",
    "train_names = train_x.columns\n",
    "\n",
    "test_x = test.drop(['Survived'], axis = 1)\n",
    "train.head(5)"
   ]
  },
  {
   "cell_type": "code",
   "execution_count": 28,
   "id": "possible-desert",
   "metadata": {
    "execution": {
     "iopub.execute_input": "2021-07-01T06:49:11.017365Z",
     "iopub.status.busy": "2021-07-01T06:49:11.010995Z",
     "iopub.status.idle": "2021-07-01T06:49:11.022145Z",
     "shell.execute_reply": "2021-07-01T06:49:11.021435Z",
     "shell.execute_reply.started": "2021-07-01T06:16:32.703147Z"
    },
    "papermill": {
     "duration": 0.064986,
     "end_time": "2021-07-01T06:49:11.022300",
     "exception": false,
     "start_time": "2021-07-01T06:49:10.957314",
     "status": "completed"
    },
    "tags": []
   },
   "outputs": [],
   "source": [
    "from sklearn.preprocessing import StandardScaler\n",
    "\n",
    "scaler = StandardScaler()\n",
    "train_x = scaler.fit_transform(train_x)\n",
    "test_x = scaler.transform(test_x)"
   ]
  },
  {
   "cell_type": "code",
   "execution_count": 29,
   "id": "rotary-bottle",
   "metadata": {
    "execution": {
     "iopub.execute_input": "2021-07-01T06:49:11.120548Z",
     "iopub.status.busy": "2021-07-01T06:49:11.119196Z",
     "iopub.status.idle": "2021-07-01T06:49:11.155991Z",
     "shell.execute_reply": "2021-07-01T06:49:11.154703Z",
     "shell.execute_reply.started": "2021-07-01T06:16:32.730956Z"
    },
    "papermill": {
     "duration": 0.08707,
     "end_time": "2021-07-01T06:49:11.156192",
     "exception": false,
     "start_time": "2021-07-01T06:49:11.069122",
     "status": "completed"
    },
    "tags": []
   },
   "outputs": [],
   "source": [
    "#Common Model Algorithms\n",
    "from sklearn import tree, ensemble\n",
    "\n",
    "#why choose one model, when you can pick them all with voting classifier\n",
    "#http://scikit-learn.org/stable/modules/generated/sklearn.ensemble.VotingClassifier.html\n",
    "#removed models w/o attribute 'predict_proba' required for vote classifier and models with a 1.0 correlation to another model\n",
    "vote_est = [\n",
    "    #Ensemble Methods: http://scikit-learn.org/stable/modules/ensemble.html\n",
    "    ('etc',ensemble.ExtraTreesClassifier()),\n",
    "    ('rfc', ensemble.RandomForestClassifier()),\n",
    "\n",
    "    #Decision Tree: https://scikit-learn.org/stable/modules/generated/sklearn.tree.DecisionTreeClassifier.html\n",
    "    ('dtc', tree.DecisionTreeClassifier())\n",
    "]"
   ]
  },
  {
   "cell_type": "code",
   "execution_count": 30,
   "id": "handed-enhancement",
   "metadata": {
    "execution": {
     "iopub.execute_input": "2021-07-01T06:49:11.262141Z",
     "iopub.status.busy": "2021-07-01T06:49:11.261404Z",
     "iopub.status.idle": "2021-07-01T06:49:20.048822Z",
     "shell.execute_reply": "2021-07-01T06:49:20.049494Z",
     "shell.execute_reply.started": "2021-07-01T06:16:32.901546Z"
    },
    "papermill": {
     "duration": 8.847249,
     "end_time": "2021-07-01T06:49:20.049794",
     "exception": false,
     "start_time": "2021-07-01T06:49:11.202545",
     "status": "completed"
    },
    "tags": []
   },
   "outputs": [
    {
     "name": "stdout",
     "output_type": "stream",
     "text": [
      "Hard Voting Training w/bin score mean: 93.18\n",
      "Hard Voting Test w/bin score mean: 92.01\n",
      "Hard Voting Test w/bin score 3*std: +/- 4.83\n",
      "----------\n",
      "Soft Voting Training w/bin score mean: 93.18\n",
      "Soft Voting Test w/bin score mean: 92.16\n",
      "Soft Voting Test w/bin score 3*std: +/- 4.45\n",
      "----------\n"
     ]
    }
   ],
   "source": [
    "from sklearn import model_selection\n",
    "\n",
    "#split dataset in cross-validation with this splitter class: \n",
    "#http://scikit-learn.org/stable/modules/generated/sklearn.model_selection.ShuffleSplit.html#sklearn.model_selection.ShuffleSplit\n",
    "#note: this is an alternative to train_test_split\n",
    "# run model 10x with 60/30 split intentionally leaving out 10%\n",
    "cv_split = model_selection.ShuffleSplit(n_splits = 10, test_size = .3, train_size = .6, random_state = 0 ) \n",
    "\n",
    "#Hard Vote or majority rules\n",
    "vote_hard = ensemble.VotingClassifier(estimators = vote_est , voting = 'hard')\n",
    "vote_hard_cv = model_selection.cross_validate(vote_hard, train_x, train_y, cv=cv_split, return_train_score=True)\n",
    "vote_hard.fit(train_x, train_y)\n",
    "\n",
    "print(\"Hard Voting Training w/bin score mean: {:.2f}\". format(vote_hard_cv['train_score'].mean()*100)) \n",
    "print(\"Hard Voting Test w/bin score mean: {:.2f}\". format(vote_hard_cv['test_score'].mean()*100))\n",
    "print(\"Hard Voting Test w/bin score 3*std: +/- {:.2f}\". format(vote_hard_cv['test_score'].std()*100*3))\n",
    "print('-'*10)\n",
    "\n",
    "#Soft Vote or weighted probabilities\n",
    "vote_soft = ensemble.VotingClassifier(estimators = vote_est , voting = 'soft')\n",
    "vote_soft_cv = model_selection.cross_validate(vote_soft, train_x, train_y, cv=cv_split, return_train_score=True)\n",
    "vote_soft.fit(train_x, train_y)\n",
    "\n",
    "print(\"Soft Voting Training w/bin score mean: {:.2f}\". format(vote_soft_cv['train_score'].mean()*100)) \n",
    "print(\"Soft Voting Test w/bin score mean: {:.2f}\". format(vote_soft_cv['test_score'].mean()*100))\n",
    "print(\"Soft Voting Test w/bin score 3*std: +/- {:.2f}\". format(vote_soft_cv['test_score'].std()*100*3))\n",
    "print('-'*10)"
   ]
  },
  {
   "cell_type": "markdown",
   "id": "narrative-wilderness",
   "metadata": {
    "papermill": {
     "duration": 0.049341,
     "end_time": "2021-07-01T06:49:20.150186",
     "exception": false,
     "start_time": "2021-07-01T06:49:20.100845",
     "status": "completed"
    },
    "tags": []
   },
   "source": [
    "### Each of these three model(ExtraTreesClassifier, RandomForestClassifier, DecisionTreeClassifier) can get LB=0.82296"
   ]
  },
  {
   "cell_type": "code",
   "execution_count": 31,
   "id": "psychological-netscape",
   "metadata": {
    "execution": {
     "iopub.execute_input": "2021-07-01T06:49:20.260645Z",
     "iopub.status.busy": "2021-07-01T06:49:20.259416Z",
     "iopub.status.idle": "2021-07-01T06:49:23.027139Z",
     "shell.execute_reply": "2021-07-01T06:49:23.026418Z",
     "shell.execute_reply.started": "2021-07-01T06:16:41.257692Z"
    },
    "papermill": {
     "duration": 2.829394,
     "end_time": "2021-07-01T06:49:23.027302",
     "exception": false,
     "start_time": "2021-07-01T06:49:20.197908",
     "status": "completed"
    },
    "tags": []
   },
   "outputs": [
    {
     "name": "stdout",
     "output_type": "stream",
     "text": [
      "The best parameter for ExtraTreesClassifier is {'criterion': 'gini', 'max_depth': 9, 'n_estimators': 10, 'random_state': 42} with a runtime of 0.24 seconds.\n",
      "The best parameter for RandomForestClassifier is {'criterion': 'gini', 'max_depth': 12, 'n_estimators': 100, 'random_state': 42} with a runtime of 2.48 seconds.\n",
      "The best parameter for DecisionTreeClassifier is {'max_depth': 4, 'min_samples_leaf': 1, 'random_state': 42} with a runtime of 0.05 seconds.\n",
      "Total optimization time was 0.05 minutes.\n",
      "----------\n"
     ]
    }
   ],
   "source": [
    "import time\n",
    "\n",
    "#WARNING: Running is very computational intensive and time expensive.\n",
    "#Code is written for experimental/developmental purposes and not production ready!\n",
    "\n",
    "#Hyperparameter Tune with GridSearchCV: http://scikit-learn.org/stable/modules/generated/sklearn.model_selection.GridSearchCV.html\n",
    "grid_seed = [42]\n",
    "\n",
    "grid_param = [      \n",
    "    [{\n",
    "        #ExtraTreesClassifier - http://scikit-learn.org/stable/modules/generated/sklearn.ensemble.ExtraTreesClassifier.html#sklearn.ensemble.ExtraTreesClassifier\n",
    "        'n_estimators': [10], #default=10\n",
    "        'criterion': ['gini'], #default=”gini”\n",
    "        'max_depth': [9], #default=None\n",
    "        'random_state': grid_seed\n",
    "    }],\n",
    "\n",
    "    [{\n",
    "        #RandomForestClassifier - http://scikit-learn.org/stable/modules/generated/sklearn.ensemble.RandomForestClassifier.html#sklearn.ensemble.RandomForestClassifier\n",
    "        'n_estimators': [100], #default=10\n",
    "        'criterion': ['gini'], #default=”gini”\n",
    "        'max_depth': [12], #default=None\n",
    "        'random_state': grid_seed\n",
    "    }],\n",
    "    \n",
    "    [{\n",
    "        #DecisionTreeClassifier: https://scikit-learn.org/stable/modules/generated/sklearn.tree.DecisionTreeClassifier.html\n",
    "        'max_depth': [4], #default=None\n",
    "        'min_samples_leaf': [1],\n",
    "        'random_state': grid_seed\n",
    "    }] \n",
    "]\n",
    "\n",
    "start_total = time.perf_counter() #https://docs.python.org/3/library/time.html#time.perf_counter\n",
    "for clf, param in zip (vote_est, grid_param): #https://docs.python.org/3/library/functions.html#zip\n",
    "    \n",
    "    start = time.perf_counter()        \n",
    "    best_search = model_selection.GridSearchCV(estimator = clf[1], param_grid = param, cv = cv_split, scoring = 'roc_auc')\n",
    "    best_search.fit(train_x, train_y)\n",
    "    run = time.perf_counter() - start\n",
    "\n",
    "    best_param = best_search.best_params_\n",
    "    print('The best parameter for {} is {} with a runtime of {:.2f} seconds.'.format(clf[1].__class__.__name__, best_param, run))\n",
    "    clf[1].set_params(**best_param) \n",
    "\n",
    "run_total = time.perf_counter() - start_total\n",
    "print('Total optimization time was {:.2f} minutes.'.format(run_total/60))\n",
    "\n",
    "print('-'*10)"
   ]
  },
  {
   "cell_type": "code",
   "execution_count": 32,
   "id": "confident-scratch",
   "metadata": {
    "execution": {
     "iopub.execute_input": "2021-07-01T06:49:23.142248Z",
     "iopub.status.busy": "2021-07-01T06:49:23.140020Z",
     "iopub.status.idle": "2021-07-01T06:49:28.799539Z",
     "shell.execute_reply": "2021-07-01T06:49:28.800500Z",
     "shell.execute_reply.started": "2021-07-01T06:16:43.706189Z"
    },
    "papermill": {
     "duration": 5.722937,
     "end_time": "2021-07-01T06:49:28.800790",
     "exception": false,
     "start_time": "2021-07-01T06:49:23.077853",
     "status": "completed"
    },
    "tags": []
   },
   "outputs": [
    {
     "name": "stdout",
     "output_type": "stream",
     "text": [
      "Hard Voting w/Tuned Hyperparameters Training w/bin score mean: 93.18\n",
      "Hard Voting w/Tuned Hyperparameters Test w/bin score mean: 92.20\n",
      "Hard Voting w/Tuned Hyperparameters Test w/bin score 3*std: +/- 4.38\n",
      "----------\n",
      "Soft Voting w/Tuned Hyperparameters Training w/bin score mean: 93.16\n",
      "Soft Voting w/Tuned Hyperparameters Test w/bin score mean: 92.24\n",
      "Soft Voting w/Tuned Hyperparameters Test w/bin score 3*std: +/- 4.33\n",
      "----------\n"
     ]
    }
   ],
   "source": [
    "#Hard Vote or majority rules w/Tuned Hyperparameters\n",
    "grid_hard = ensemble.VotingClassifier(estimators = vote_est , voting = 'hard')\n",
    "grid_hard_cv = model_selection.cross_validate(grid_hard, train_x, train_y, cv  = cv_split, return_train_score=True)\n",
    "grid_hard.fit(train_x, train_y)\n",
    "\n",
    "print(\"Hard Voting w/Tuned Hyperparameters Training w/bin score mean: {:.2f}\". format(grid_hard_cv['train_score'].mean()*100)) \n",
    "print(\"Hard Voting w/Tuned Hyperparameters Test w/bin score mean: {:.2f}\". format(grid_hard_cv['test_score'].mean()*100))\n",
    "print(\"Hard Voting w/Tuned Hyperparameters Test w/bin score 3*std: +/- {:.2f}\". format(grid_hard_cv['test_score'].std()*100*3))\n",
    "print('-'*10)\n",
    "\n",
    "#Soft Vote or weighted probabilities w/Tuned Hyperparameters\n",
    "grid_soft = ensemble.VotingClassifier(estimators = vote_est , voting = 'soft')\n",
    "grid_soft_cv = model_selection.cross_validate(grid_soft, train_x, train_y, cv  = cv_split, return_train_score=True)\n",
    "grid_soft.fit(train_x, train_y)\n",
    "\n",
    "print(\"Soft Voting w/Tuned Hyperparameters Training w/bin score mean: {:.2f}\". format(grid_soft_cv['train_score'].mean()*100)) \n",
    "print(\"Soft Voting w/Tuned Hyperparameters Test w/bin score mean: {:.2f}\". format(grid_soft_cv['test_score'].mean()*100))\n",
    "print(\"Soft Voting w/Tuned Hyperparameters Test w/bin score 3*std: +/- {:.2f}\". format(grid_soft_cv['test_score'].std()*100*3))\n",
    "print('-'*10)"
   ]
  },
  {
   "cell_type": "code",
   "execution_count": 33,
   "id": "negative-hydrogen",
   "metadata": {
    "execution": {
     "iopub.execute_input": "2021-07-01T06:49:28.906224Z",
     "iopub.status.busy": "2021-07-01T06:49:28.905337Z",
     "iopub.status.idle": "2021-07-01T06:49:28.966607Z",
     "shell.execute_reply": "2021-07-01T06:49:28.967195Z",
     "shell.execute_reply.started": "2021-07-01T06:19:05.493092Z"
    },
    "papermill": {
     "duration": 0.116313,
     "end_time": "2021-07-01T06:49:28.967368",
     "exception": false,
     "start_time": "2021-07-01T06:49:28.851055",
     "status": "completed"
    },
    "tags": []
   },
   "outputs": [
    {
     "name": "stdout",
     "output_type": "stream",
     "text": [
      "Accuracy of the model:  93.27\n"
     ]
    }
   ],
   "source": [
    "# Prediction by the VotingClassifier\n",
    "y_pred = grid_hard.predict(test_x).astype(int)\n",
    "print(\"Accuracy of the model: \",round(grid_hard.score(train_x, train_y) * 100, 2))"
   ]
  },
  {
   "cell_type": "code",
   "execution_count": 34,
   "id": "verified-harris",
   "metadata": {
    "execution": {
     "iopub.execute_input": "2021-07-01T06:49:29.078491Z",
     "iopub.status.busy": "2021-07-01T06:49:29.077689Z",
     "iopub.status.idle": "2021-07-01T06:49:29.087205Z",
     "shell.execute_reply": "2021-07-01T06:49:29.086438Z",
     "shell.execute_reply.started": "2021-07-01T06:19:09.022679Z"
    },
    "papermill": {
     "duration": 0.068076,
     "end_time": "2021-07-01T06:49:29.087356",
     "exception": false,
     "start_time": "2021-07-01T06:49:29.019280",
     "status": "completed"
    },
    "tags": []
   },
   "outputs": [],
   "source": [
    "# Saving the result\n",
    "pd.DataFrame({'Survived': y_pred}, index=testdf.index).reset_index().to_csv('submission_SimonWCC.csv', index=False)"
   ]
  },
  {
   "cell_type": "code",
   "execution_count": null,
   "id": "cutting-learning",
   "metadata": {
    "papermill": {
     "duration": 0.051231,
     "end_time": "2021-07-01T06:49:29.187300",
     "exception": false,
     "start_time": "2021-07-01T06:49:29.136069",
     "status": "completed"
    },
    "tags": []
   },
   "outputs": [],
   "source": []
  }
 ],
 "metadata": {
  "kernelspec": {
   "display_name": "Python 3",
   "language": "python",
   "name": "python3"
  },
  "language_info": {
   "codemirror_mode": {
    "name": "ipython",
    "version": 3
   },
   "file_extension": ".py",
   "mimetype": "text/x-python",
   "name": "python",
   "nbconvert_exporter": "python",
   "pygments_lexer": "ipython3",
   "version": "3.7.10"
  },
  "papermill": {
   "default_parameters": {},
   "duration": 44.105837,
   "end_time": "2021-07-01T06:49:30.501705",
   "environment_variables": {},
   "exception": null,
   "input_path": "__notebook__.ipynb",
   "output_path": "__notebook__.ipynb",
   "parameters": {},
   "start_time": "2021-07-01T06:48:46.395868",
   "version": "2.3.3"
  }
 },
 "nbformat": 4,
 "nbformat_minor": 5
}
