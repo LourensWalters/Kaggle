{
 "cells": [
  {
   "cell_type": "markdown",
   "metadata": {
    "collapsed": true,
    "pycharm": {
     "name": "#%% md\n"
    }
   },
   "source": [
    "# Titanic Exploratory Data Analysis\n",
    "### Prediction of survival rate using 9 variables"
   ]
  },
  {
   "cell_type": "markdown",
   "metadata": {},
   "source": [
    "For this analysis we use the <b>Titanic Kaggle Competition</b> dataset found on the Kaggle Data\n",
    "Repository at the following location:\n",
    "\n",
    "<a href=https://www.kaggle.com/c/titanic/data>Titanic Kaggle Competition Dataset</a>\n",
    "\n",
    "The objective of the analysis is to classify passengers on the Titanic during the disaster\n",
    "of 1912 according to survival\n",
    "\n",
    "We aim to achieve this by following the ML pipeline approach of deploying a variety of ML\n",
    "techniques to build a final predictive model with the highest possible accuracy. This\n",
    "particular analysis comprises 4 notebooks as follows:\n",
    "\n",
    " 1. <i>titanic_baseline</i> - Baseline predictive models (quick and dirty) to\n",
    " compare later results against\n",
    " 2. <i>titanic_eda</i> - <b>This notebook</b>, Exploratory Descriptive Analysis (EDA)\n",
    " 3. <i>titanic_features</i> - Perform feature engineering\n",
    " 4. <i>titanic_final_model</i> - Final model\n",
    "\n",
    "We hope to gain valuable insights by following this process. The various steps in the\n",
    "process can be elaborated on as follows (the various notebooks will focus on different parts\n",
    " of the process as indicated):\n",
    "\n",
    "- Load data (<i>all notebooks</i>)\n",
    "- Prepare data\n",
    "    - Clean data (<i>notebook 2</i>)\n",
    "        - Missing values\n",
    "        - Outliers\n",
    "        - Erroneous values\n",
    "    - Explore data (<i>notebook 2</i>)\n",
    "        - Exploratory descriptive analysis (EDA)\n",
    "        - Correlation analysis\n",
    "        - Variable cluster analysis\n",
    "    - Transform Data (<i>notebook 3</i>)\n",
    "        - Engineer features\n",
    "        - Encode data\n",
    "        - Scale & normalise data\n",
    "        - Impute data (if not done in previous steps)\n",
    "        - Feature selection/ importance analysis\n",
    "- Build model (<i>notebooks 1 & 4</i>)\n",
    "    - Model selection\n",
    "    - Data sampling (validation strategy, imbalanced classification)\n",
    "    - Hyperparameter optimisation\n",
    "- Validate model (<i>notebooks 1 & 4</i>)\n",
    "    - Accuracy testing\n",
    "- Analysis of results (<i>notebook 1 & 4</i>)\n",
    "    - Response curves\n",
    "    - Accuracy analysis\n",
    "    - Commentary\n",
    "\n",
    "The data dictionary for this dataset is as follows:\n",
    "\n",
    "| Variable | Definition | Key |\n",
    "|----------|------------|-----|\n",
    "| survival | Survival\t| 0 = No, 1 = Yes |\n",
    "| pclass   | Ticket class |\t1 = 1st, 2 = 2nd, 3 = 3rd |\n",
    "|sex | Sex | male, female |\n",
    "|Age | Age in years | Continuous |\n",
    "|sibsp | # of siblings / spouses aboard the Titanic | 0, 1, 2, ..|\n",
    "|parch | # of parents / children aboard the Titanic | 0, 1, 2 ..|\n",
    "|ticket | Ticket number | PC 17599, STON/O2. 3101282, 330877 |\n",
    "|fare | Passenger fare | Continuous |\n",
    "|cabin | Cabin number | C123, C85, E46 |\n",
    "|embarked | Port of Embarkation\t| C = Cherbourg, Q = Queenstown, S = Southampton |\n",
    "\n",
    "Let us start the analysis for <b>notebook 2</b>!\n",
    "\n",
    "This notebook follows on the previous notebook. We previously concluded that there is a very\n",
    " strong signal in the data, even without any pre-processing. We also found that\n",
    " several variables have potential for improving the model if pre-processed. The analysis\n",
    " also suggests that improvement could be gained by feature engineering. In this notebook we\n",
    " will gain an understanding of the data and consider ways of improving our existing score by\n",
    "  re-doing our missing data imputation and performing feature engineering.\n",
    "\n",
    "We will also learn more about the domain i.e. the events surrounding the accident.\n",
    "\n",
    "We will perform an analysis on the entire training dataset i.e. 891 records. We will sense\n",
    "check our findings against the test set to ensure the two are aligned. We will then make\n",
    "some high level improvements to our models based on our findings and see if our accuracy\n",
    "improves.\n",
    "\n",
    "We start by discussing the data with domain experts, to build up an intuition about the data\n",
    ". In my case I consulted the most knowledgeable person in our household regarding the matter\n",
    " i.e. my daughter whom has watched the movie several times. On asking her the question as to\n",
    "  who the most likely people to survive the Titanic accident she came up with the following\n",
    "  (without any hesitation or thought):\n",
    "\n",
    "- The wealthier passengers, as they would have cabins on the higher decks, closer to the\n",
    "lifeboats.\n",
    "- Woman, children and older passengers, as at the time chivalry still existed, and it is\n",
    "likely that able-bodied younger men would have assisted these passengers with evacuation\n",
    "(which is not the case anymore today she however added :( ).\n",
    "- She also stated that individuals working on the Titanic staying on the lower decks\n",
    "were less likely to survive (which prompted me to think that these individuals probably also\n",
    " did not pay a fare, or at least a very low fare...).\n",
    "\n",
    "This is a nice place to start! Let us see what the data says."
   ]
  },
  {
   "cell_type": "code",
   "execution_count": 77,
   "metadata": {
    "pycharm": {
     "name": "#%%\n"
    }
   },
   "outputs": [],
   "source": [
    "# Import libraries\n",
    "from subprocess import call\n",
    "\n",
    "import pandas as pd\n",
    "import matplotlib.pyplot as plt\n",
    "import seaborn as sns\n",
    "import numpy as np\n",
    "from IPython.core.display import Image\n",
    "from numpy import isnan\n",
    "from sklearn.feature_selection import SelectKBest, f_classif\n",
    "from sklearn.impute import KNNImputer\n",
    "from sklearn.impute._iterative import IterativeImputer\n",
    "from sklearn.linear_model import LogisticRegression\n",
    "from src.visualization.visualize_titanic import plot_confusion_matrix, plot_roc_curve, \\\n",
    "    plotVar, plotAge, plot_feature_importance, plot_feature_importance_dec\n",
    "from sklearn.ensemble import RandomForestClassifier\n",
    "from sklearn.tree import DecisionTreeClassifier, export_graphviz\n",
    "from sklearn.preprocessing import OneHotEncoder, LabelEncoder\n",
    "from sklearn.preprocessing import StandardScaler\n",
    "from sklearn.neural_network import MLPClassifier\n",
    "from sklearn.model_selection import train_test_split, cross_val_score\n",
    "from sklearn.metrics import accuracy_score, confusion_matrix, roc_curve\n",
    "from IPython.core.interactiveshell import InteractiveShell\n",
    "InteractiveShell.ast_node_interactivity = \"all\"\n",
    "from scipy.stats import chi2_contingency\n",
    "from scipy.stats import chi2\n",
    "from pandasql import sqldf\n",
    "from mlxtend.feature_selection import ExhaustiveFeatureSelector as EFS"
   ]
  },
  {
   "cell_type": "markdown",
   "metadata": {},
   "source": [
    "<div class=\"alert alert-block alert-info\">\n",
    "<b>Load data</b>\n",
    "</div>"
   ]
  },
  {
   "cell_type": "code",
   "execution_count": 78,
   "metadata": {
    "pycharm": {
     "name": "#%%\n"
    }
   },
   "outputs": [],
   "source": [
    "# Import data\n",
    "df_train = pd.read_csv('../data/external/train.csv', header = None,\n",
    "                       names = ['passenger_id', 'survived', 'p_class', 'name', 'sex', 'age',\n",
    "                                'sib_sp', 'parch', 'ticket', 'fare', 'cabin', 'embarked'],\n",
    "                       index_col=False, usecols = [0, 1, 2, 3, 4, 5, 6, 7, 8, 9, 10, 11],\n",
    "                       skiprows=1, sep=',', skipinitialspace=True)"
   ]
  },
  {
   "cell_type": "markdown",
   "metadata": {},
   "source": [
    "#### Train Data"
   ]
  },
  {
   "cell_type": "code",
   "execution_count": 79,
   "metadata": {
    "pycharm": {
     "name": "#%%\n"
    }
   },
   "outputs": [
    {
     "data": {
      "text/plain": "    passenger_id  survived  p_class  \\\n0              1         0        3   \n1              2         1        1   \n2              3         1        3   \n3              4         1        1   \n4              5         0        3   \n5              6         0        3   \n6              7         0        1   \n7              8         0        3   \n8              9         1        3   \n9             10         1        2   \n10            11         1        3   \n11            12         1        1   \n12            13         0        3   \n13            14         0        3   \n14            15         0        3   \n15            16         1        2   \n16            17         0        3   \n17            18         1        2   \n18            19         0        3   \n19            20         1        3   \n\n                                                 name     sex   age  sib_sp  \\\n0                             Braund, Mr. Owen Harris    male  22.0       1   \n1   Cumings, Mrs. John Bradley (Florence Briggs Th...  female  38.0       1   \n2                              Heikkinen, Miss. Laina  female  26.0       0   \n3        Futrelle, Mrs. Jacques Heath (Lily May Peel)  female  35.0       1   \n4                            Allen, Mr. William Henry    male  35.0       0   \n5                                    Moran, Mr. James    male   NaN       0   \n6                             McCarthy, Mr. Timothy J    male  54.0       0   \n7                      Palsson, Master. Gosta Leonard    male   2.0       3   \n8   Johnson, Mrs. Oscar W (Elisabeth Vilhelmina Berg)  female  27.0       0   \n9                 Nasser, Mrs. Nicholas (Adele Achem)  female  14.0       1   \n10                    Sandstrom, Miss. Marguerite Rut  female   4.0       1   \n11                           Bonnell, Miss. Elizabeth  female  58.0       0   \n12                     Saundercock, Mr. William Henry    male  20.0       0   \n13                        Andersson, Mr. Anders Johan    male  39.0       1   \n14               Vestrom, Miss. Hulda Amanda Adolfina  female  14.0       0   \n15                   Hewlett, Mrs. (Mary D Kingcome)   female  55.0       0   \n16                               Rice, Master. Eugene    male   2.0       4   \n17                       Williams, Mr. Charles Eugene    male   NaN       0   \n18  Vander Planke, Mrs. Julius (Emelia Maria Vande...  female  31.0       1   \n19                            Masselmani, Mrs. Fatima  female   NaN       0   \n\n    parch            ticket     fare cabin embarked  \n0       0         A/5 21171   7.2500   NaN        S  \n1       0          PC 17599  71.2833   C85        C  \n2       0  STON/O2. 3101282   7.9250   NaN        S  \n3       0            113803  53.1000  C123        S  \n4       0            373450   8.0500   NaN        S  \n5       0            330877   8.4583   NaN        Q  \n6       0             17463  51.8625   E46        S  \n7       1            349909  21.0750   NaN        S  \n8       2            347742  11.1333   NaN        S  \n9       0            237736  30.0708   NaN        C  \n10      1           PP 9549  16.7000    G6        S  \n11      0            113783  26.5500  C103        S  \n12      0         A/5. 2151   8.0500   NaN        S  \n13      5            347082  31.2750   NaN        S  \n14      0            350406   7.8542   NaN        S  \n15      0            248706  16.0000   NaN        S  \n16      1            382652  29.1250   NaN        Q  \n17      0            244373  13.0000   NaN        S  \n18      0            345763  18.0000   NaN        S  \n19      0              2649   7.2250   NaN        C  ",
      "text/html": "<div>\n<style scoped>\n    .dataframe tbody tr th:only-of-type {\n        vertical-align: middle;\n    }\n\n    .dataframe tbody tr th {\n        vertical-align: top;\n    }\n\n    .dataframe thead th {\n        text-align: right;\n    }\n</style>\n<table border=\"1\" class=\"dataframe\">\n  <thead>\n    <tr style=\"text-align: right;\">\n      <th></th>\n      <th>passenger_id</th>\n      <th>survived</th>\n      <th>p_class</th>\n      <th>name</th>\n      <th>sex</th>\n      <th>age</th>\n      <th>sib_sp</th>\n      <th>parch</th>\n      <th>ticket</th>\n      <th>fare</th>\n      <th>cabin</th>\n      <th>embarked</th>\n    </tr>\n  </thead>\n  <tbody>\n    <tr>\n      <th>0</th>\n      <td>1</td>\n      <td>0</td>\n      <td>3</td>\n      <td>Braund, Mr. Owen Harris</td>\n      <td>male</td>\n      <td>22.0</td>\n      <td>1</td>\n      <td>0</td>\n      <td>A/5 21171</td>\n      <td>7.2500</td>\n      <td>NaN</td>\n      <td>S</td>\n    </tr>\n    <tr>\n      <th>1</th>\n      <td>2</td>\n      <td>1</td>\n      <td>1</td>\n      <td>Cumings, Mrs. John Bradley (Florence Briggs Th...</td>\n      <td>female</td>\n      <td>38.0</td>\n      <td>1</td>\n      <td>0</td>\n      <td>PC 17599</td>\n      <td>71.2833</td>\n      <td>C85</td>\n      <td>C</td>\n    </tr>\n    <tr>\n      <th>2</th>\n      <td>3</td>\n      <td>1</td>\n      <td>3</td>\n      <td>Heikkinen, Miss. Laina</td>\n      <td>female</td>\n      <td>26.0</td>\n      <td>0</td>\n      <td>0</td>\n      <td>STON/O2. 3101282</td>\n      <td>7.9250</td>\n      <td>NaN</td>\n      <td>S</td>\n    </tr>\n    <tr>\n      <th>3</th>\n      <td>4</td>\n      <td>1</td>\n      <td>1</td>\n      <td>Futrelle, Mrs. Jacques Heath (Lily May Peel)</td>\n      <td>female</td>\n      <td>35.0</td>\n      <td>1</td>\n      <td>0</td>\n      <td>113803</td>\n      <td>53.1000</td>\n      <td>C123</td>\n      <td>S</td>\n    </tr>\n    <tr>\n      <th>4</th>\n      <td>5</td>\n      <td>0</td>\n      <td>3</td>\n      <td>Allen, Mr. William Henry</td>\n      <td>male</td>\n      <td>35.0</td>\n      <td>0</td>\n      <td>0</td>\n      <td>373450</td>\n      <td>8.0500</td>\n      <td>NaN</td>\n      <td>S</td>\n    </tr>\n    <tr>\n      <th>5</th>\n      <td>6</td>\n      <td>0</td>\n      <td>3</td>\n      <td>Moran, Mr. James</td>\n      <td>male</td>\n      <td>NaN</td>\n      <td>0</td>\n      <td>0</td>\n      <td>330877</td>\n      <td>8.4583</td>\n      <td>NaN</td>\n      <td>Q</td>\n    </tr>\n    <tr>\n      <th>6</th>\n      <td>7</td>\n      <td>0</td>\n      <td>1</td>\n      <td>McCarthy, Mr. Timothy J</td>\n      <td>male</td>\n      <td>54.0</td>\n      <td>0</td>\n      <td>0</td>\n      <td>17463</td>\n      <td>51.8625</td>\n      <td>E46</td>\n      <td>S</td>\n    </tr>\n    <tr>\n      <th>7</th>\n      <td>8</td>\n      <td>0</td>\n      <td>3</td>\n      <td>Palsson, Master. Gosta Leonard</td>\n      <td>male</td>\n      <td>2.0</td>\n      <td>3</td>\n      <td>1</td>\n      <td>349909</td>\n      <td>21.0750</td>\n      <td>NaN</td>\n      <td>S</td>\n    </tr>\n    <tr>\n      <th>8</th>\n      <td>9</td>\n      <td>1</td>\n      <td>3</td>\n      <td>Johnson, Mrs. Oscar W (Elisabeth Vilhelmina Berg)</td>\n      <td>female</td>\n      <td>27.0</td>\n      <td>0</td>\n      <td>2</td>\n      <td>347742</td>\n      <td>11.1333</td>\n      <td>NaN</td>\n      <td>S</td>\n    </tr>\n    <tr>\n      <th>9</th>\n      <td>10</td>\n      <td>1</td>\n      <td>2</td>\n      <td>Nasser, Mrs. Nicholas (Adele Achem)</td>\n      <td>female</td>\n      <td>14.0</td>\n      <td>1</td>\n      <td>0</td>\n      <td>237736</td>\n      <td>30.0708</td>\n      <td>NaN</td>\n      <td>C</td>\n    </tr>\n    <tr>\n      <th>10</th>\n      <td>11</td>\n      <td>1</td>\n      <td>3</td>\n      <td>Sandstrom, Miss. Marguerite Rut</td>\n      <td>female</td>\n      <td>4.0</td>\n      <td>1</td>\n      <td>1</td>\n      <td>PP 9549</td>\n      <td>16.7000</td>\n      <td>G6</td>\n      <td>S</td>\n    </tr>\n    <tr>\n      <th>11</th>\n      <td>12</td>\n      <td>1</td>\n      <td>1</td>\n      <td>Bonnell, Miss. Elizabeth</td>\n      <td>female</td>\n      <td>58.0</td>\n      <td>0</td>\n      <td>0</td>\n      <td>113783</td>\n      <td>26.5500</td>\n      <td>C103</td>\n      <td>S</td>\n    </tr>\n    <tr>\n      <th>12</th>\n      <td>13</td>\n      <td>0</td>\n      <td>3</td>\n      <td>Saundercock, Mr. William Henry</td>\n      <td>male</td>\n      <td>20.0</td>\n      <td>0</td>\n      <td>0</td>\n      <td>A/5. 2151</td>\n      <td>8.0500</td>\n      <td>NaN</td>\n      <td>S</td>\n    </tr>\n    <tr>\n      <th>13</th>\n      <td>14</td>\n      <td>0</td>\n      <td>3</td>\n      <td>Andersson, Mr. Anders Johan</td>\n      <td>male</td>\n      <td>39.0</td>\n      <td>1</td>\n      <td>5</td>\n      <td>347082</td>\n      <td>31.2750</td>\n      <td>NaN</td>\n      <td>S</td>\n    </tr>\n    <tr>\n      <th>14</th>\n      <td>15</td>\n      <td>0</td>\n      <td>3</td>\n      <td>Vestrom, Miss. Hulda Amanda Adolfina</td>\n      <td>female</td>\n      <td>14.0</td>\n      <td>0</td>\n      <td>0</td>\n      <td>350406</td>\n      <td>7.8542</td>\n      <td>NaN</td>\n      <td>S</td>\n    </tr>\n    <tr>\n      <th>15</th>\n      <td>16</td>\n      <td>1</td>\n      <td>2</td>\n      <td>Hewlett, Mrs. (Mary D Kingcome)</td>\n      <td>female</td>\n      <td>55.0</td>\n      <td>0</td>\n      <td>0</td>\n      <td>248706</td>\n      <td>16.0000</td>\n      <td>NaN</td>\n      <td>S</td>\n    </tr>\n    <tr>\n      <th>16</th>\n      <td>17</td>\n      <td>0</td>\n      <td>3</td>\n      <td>Rice, Master. Eugene</td>\n      <td>male</td>\n      <td>2.0</td>\n      <td>4</td>\n      <td>1</td>\n      <td>382652</td>\n      <td>29.1250</td>\n      <td>NaN</td>\n      <td>Q</td>\n    </tr>\n    <tr>\n      <th>17</th>\n      <td>18</td>\n      <td>1</td>\n      <td>2</td>\n      <td>Williams, Mr. Charles Eugene</td>\n      <td>male</td>\n      <td>NaN</td>\n      <td>0</td>\n      <td>0</td>\n      <td>244373</td>\n      <td>13.0000</td>\n      <td>NaN</td>\n      <td>S</td>\n    </tr>\n    <tr>\n      <th>18</th>\n      <td>19</td>\n      <td>0</td>\n      <td>3</td>\n      <td>Vander Planke, Mrs. Julius (Emelia Maria Vande...</td>\n      <td>female</td>\n      <td>31.0</td>\n      <td>1</td>\n      <td>0</td>\n      <td>345763</td>\n      <td>18.0000</td>\n      <td>NaN</td>\n      <td>S</td>\n    </tr>\n    <tr>\n      <th>19</th>\n      <td>20</td>\n      <td>1</td>\n      <td>3</td>\n      <td>Masselmani, Mrs. Fatima</td>\n      <td>female</td>\n      <td>NaN</td>\n      <td>0</td>\n      <td>0</td>\n      <td>2649</td>\n      <td>7.2250</td>\n      <td>NaN</td>\n      <td>C</td>\n    </tr>\n  </tbody>\n</table>\n</div>"
     },
     "execution_count": 79,
     "metadata": {},
     "output_type": "execute_result"
    },
    {
     "name": "stdout",
     "output_type": "stream",
     "text": [
      "(891, 12)\n"
     ]
    }
   ],
   "source": [
    "df_train.head(20)\n",
    "print(df_train.shape)\n"
   ]
  },
  {
   "cell_type": "code",
   "execution_count": 80,
   "metadata": {
    "pycharm": {
     "name": "#%%\n"
    }
   },
   "outputs": [],
   "source": [
    "# Import data\n",
    "df_test = pd.read_csv('../data/external/test.csv', header = None,\n",
    "                      names = ['passenger_id', 'p_class', 'name', 'sex', 'age', 'sib_sp',\n",
    "                               'parch', 'ticket', 'fare', 'cabin', 'embarked'],\n",
    "                      index_col=False, usecols = [0, 1, 2, 3, 4, 5, 6, 7, 8, 9, 10],\n",
    "                      skiprows=1, sep=',', skipinitialspace=True)"
   ]
  },
  {
   "cell_type": "markdown",
   "metadata": {},
   "source": [
    "#### Test Data"
   ]
  },
  {
   "cell_type": "code",
   "execution_count": 81,
   "metadata": {
    "pycharm": {
     "name": "#%%\n"
    }
   },
   "outputs": [
    {
     "data": {
      "text/plain": "    passenger_id  p_class                                               name  \\\n0            892        3                                   Kelly, Mr. James   \n1            893        3                   Wilkes, Mrs. James (Ellen Needs)   \n2            894        2                          Myles, Mr. Thomas Francis   \n3            895        3                                   Wirz, Mr. Albert   \n4            896        3       Hirvonen, Mrs. Alexander (Helga E Lindqvist)   \n5            897        3                         Svensson, Mr. Johan Cervin   \n6            898        3                               Connolly, Miss. Kate   \n7            899        2                       Caldwell, Mr. Albert Francis   \n8            900        3          Abrahim, Mrs. Joseph (Sophie Halaut Easu)   \n9            901        3                            Davies, Mr. John Samuel   \n10           902        3                                   Ilieff, Mr. Ylio   \n11           903        1                         Jones, Mr. Charles Cresson   \n12           904        1      Snyder, Mrs. John Pillsbury (Nelle Stevenson)   \n13           905        2                               Howard, Mr. Benjamin   \n14           906        1  Chaffee, Mrs. Herbert Fuller (Carrie Constance...   \n15           907        2      del Carlo, Mrs. Sebastiano (Argenia Genovesi)   \n16           908        2                                  Keane, Mr. Daniel   \n17           909        3                                  Assaf, Mr. Gerios   \n18           910        3                       Ilmakangas, Miss. Ida Livija   \n19           911        3              Assaf Khalil, Mrs. Mariana (Miriam\")\"   \n\n       sex   age  sib_sp  parch            ticket     fare cabin embarked  \n0     male  34.5       0      0            330911   7.8292   NaN        Q  \n1   female  47.0       1      0            363272   7.0000   NaN        S  \n2     male  62.0       0      0            240276   9.6875   NaN        Q  \n3     male  27.0       0      0            315154   8.6625   NaN        S  \n4   female  22.0       1      1           3101298  12.2875   NaN        S  \n5     male  14.0       0      0              7538   9.2250   NaN        S  \n6   female  30.0       0      0            330972   7.6292   NaN        Q  \n7     male  26.0       1      1            248738  29.0000   NaN        S  \n8   female  18.0       0      0              2657   7.2292   NaN        C  \n9     male  21.0       2      0         A/4 48871  24.1500   NaN        S  \n10    male   NaN       0      0            349220   7.8958   NaN        S  \n11    male  46.0       0      0               694  26.0000   NaN        S  \n12  female  23.0       1      0             21228  82.2667   B45        S  \n13    male  63.0       1      0             24065  26.0000   NaN        S  \n14  female  47.0       1      0       W.E.P. 5734  61.1750   E31        S  \n15  female  24.0       1      0     SC/PARIS 2167  27.7208   NaN        C  \n16    male  35.0       0      0            233734  12.3500   NaN        Q  \n17    male  21.0       0      0              2692   7.2250   NaN        C  \n18  female  27.0       1      0  STON/O2. 3101270   7.9250   NaN        S  \n19  female  45.0       0      0              2696   7.2250   NaN        C  ",
      "text/html": "<div>\n<style scoped>\n    .dataframe tbody tr th:only-of-type {\n        vertical-align: middle;\n    }\n\n    .dataframe tbody tr th {\n        vertical-align: top;\n    }\n\n    .dataframe thead th {\n        text-align: right;\n    }\n</style>\n<table border=\"1\" class=\"dataframe\">\n  <thead>\n    <tr style=\"text-align: right;\">\n      <th></th>\n      <th>passenger_id</th>\n      <th>p_class</th>\n      <th>name</th>\n      <th>sex</th>\n      <th>age</th>\n      <th>sib_sp</th>\n      <th>parch</th>\n      <th>ticket</th>\n      <th>fare</th>\n      <th>cabin</th>\n      <th>embarked</th>\n    </tr>\n  </thead>\n  <tbody>\n    <tr>\n      <th>0</th>\n      <td>892</td>\n      <td>3</td>\n      <td>Kelly, Mr. James</td>\n      <td>male</td>\n      <td>34.5</td>\n      <td>0</td>\n      <td>0</td>\n      <td>330911</td>\n      <td>7.8292</td>\n      <td>NaN</td>\n      <td>Q</td>\n    </tr>\n    <tr>\n      <th>1</th>\n      <td>893</td>\n      <td>3</td>\n      <td>Wilkes, Mrs. James (Ellen Needs)</td>\n      <td>female</td>\n      <td>47.0</td>\n      <td>1</td>\n      <td>0</td>\n      <td>363272</td>\n      <td>7.0000</td>\n      <td>NaN</td>\n      <td>S</td>\n    </tr>\n    <tr>\n      <th>2</th>\n      <td>894</td>\n      <td>2</td>\n      <td>Myles, Mr. Thomas Francis</td>\n      <td>male</td>\n      <td>62.0</td>\n      <td>0</td>\n      <td>0</td>\n      <td>240276</td>\n      <td>9.6875</td>\n      <td>NaN</td>\n      <td>Q</td>\n    </tr>\n    <tr>\n      <th>3</th>\n      <td>895</td>\n      <td>3</td>\n      <td>Wirz, Mr. Albert</td>\n      <td>male</td>\n      <td>27.0</td>\n      <td>0</td>\n      <td>0</td>\n      <td>315154</td>\n      <td>8.6625</td>\n      <td>NaN</td>\n      <td>S</td>\n    </tr>\n    <tr>\n      <th>4</th>\n      <td>896</td>\n      <td>3</td>\n      <td>Hirvonen, Mrs. Alexander (Helga E Lindqvist)</td>\n      <td>female</td>\n      <td>22.0</td>\n      <td>1</td>\n      <td>1</td>\n      <td>3101298</td>\n      <td>12.2875</td>\n      <td>NaN</td>\n      <td>S</td>\n    </tr>\n    <tr>\n      <th>5</th>\n      <td>897</td>\n      <td>3</td>\n      <td>Svensson, Mr. Johan Cervin</td>\n      <td>male</td>\n      <td>14.0</td>\n      <td>0</td>\n      <td>0</td>\n      <td>7538</td>\n      <td>9.2250</td>\n      <td>NaN</td>\n      <td>S</td>\n    </tr>\n    <tr>\n      <th>6</th>\n      <td>898</td>\n      <td>3</td>\n      <td>Connolly, Miss. Kate</td>\n      <td>female</td>\n      <td>30.0</td>\n      <td>0</td>\n      <td>0</td>\n      <td>330972</td>\n      <td>7.6292</td>\n      <td>NaN</td>\n      <td>Q</td>\n    </tr>\n    <tr>\n      <th>7</th>\n      <td>899</td>\n      <td>2</td>\n      <td>Caldwell, Mr. Albert Francis</td>\n      <td>male</td>\n      <td>26.0</td>\n      <td>1</td>\n      <td>1</td>\n      <td>248738</td>\n      <td>29.0000</td>\n      <td>NaN</td>\n      <td>S</td>\n    </tr>\n    <tr>\n      <th>8</th>\n      <td>900</td>\n      <td>3</td>\n      <td>Abrahim, Mrs. Joseph (Sophie Halaut Easu)</td>\n      <td>female</td>\n      <td>18.0</td>\n      <td>0</td>\n      <td>0</td>\n      <td>2657</td>\n      <td>7.2292</td>\n      <td>NaN</td>\n      <td>C</td>\n    </tr>\n    <tr>\n      <th>9</th>\n      <td>901</td>\n      <td>3</td>\n      <td>Davies, Mr. John Samuel</td>\n      <td>male</td>\n      <td>21.0</td>\n      <td>2</td>\n      <td>0</td>\n      <td>A/4 48871</td>\n      <td>24.1500</td>\n      <td>NaN</td>\n      <td>S</td>\n    </tr>\n    <tr>\n      <th>10</th>\n      <td>902</td>\n      <td>3</td>\n      <td>Ilieff, Mr. Ylio</td>\n      <td>male</td>\n      <td>NaN</td>\n      <td>0</td>\n      <td>0</td>\n      <td>349220</td>\n      <td>7.8958</td>\n      <td>NaN</td>\n      <td>S</td>\n    </tr>\n    <tr>\n      <th>11</th>\n      <td>903</td>\n      <td>1</td>\n      <td>Jones, Mr. Charles Cresson</td>\n      <td>male</td>\n      <td>46.0</td>\n      <td>0</td>\n      <td>0</td>\n      <td>694</td>\n      <td>26.0000</td>\n      <td>NaN</td>\n      <td>S</td>\n    </tr>\n    <tr>\n      <th>12</th>\n      <td>904</td>\n      <td>1</td>\n      <td>Snyder, Mrs. John Pillsbury (Nelle Stevenson)</td>\n      <td>female</td>\n      <td>23.0</td>\n      <td>1</td>\n      <td>0</td>\n      <td>21228</td>\n      <td>82.2667</td>\n      <td>B45</td>\n      <td>S</td>\n    </tr>\n    <tr>\n      <th>13</th>\n      <td>905</td>\n      <td>2</td>\n      <td>Howard, Mr. Benjamin</td>\n      <td>male</td>\n      <td>63.0</td>\n      <td>1</td>\n      <td>0</td>\n      <td>24065</td>\n      <td>26.0000</td>\n      <td>NaN</td>\n      <td>S</td>\n    </tr>\n    <tr>\n      <th>14</th>\n      <td>906</td>\n      <td>1</td>\n      <td>Chaffee, Mrs. Herbert Fuller (Carrie Constance...</td>\n      <td>female</td>\n      <td>47.0</td>\n      <td>1</td>\n      <td>0</td>\n      <td>W.E.P. 5734</td>\n      <td>61.1750</td>\n      <td>E31</td>\n      <td>S</td>\n    </tr>\n    <tr>\n      <th>15</th>\n      <td>907</td>\n      <td>2</td>\n      <td>del Carlo, Mrs. Sebastiano (Argenia Genovesi)</td>\n      <td>female</td>\n      <td>24.0</td>\n      <td>1</td>\n      <td>0</td>\n      <td>SC/PARIS 2167</td>\n      <td>27.7208</td>\n      <td>NaN</td>\n      <td>C</td>\n    </tr>\n    <tr>\n      <th>16</th>\n      <td>908</td>\n      <td>2</td>\n      <td>Keane, Mr. Daniel</td>\n      <td>male</td>\n      <td>35.0</td>\n      <td>0</td>\n      <td>0</td>\n      <td>233734</td>\n      <td>12.3500</td>\n      <td>NaN</td>\n      <td>Q</td>\n    </tr>\n    <tr>\n      <th>17</th>\n      <td>909</td>\n      <td>3</td>\n      <td>Assaf, Mr. Gerios</td>\n      <td>male</td>\n      <td>21.0</td>\n      <td>0</td>\n      <td>0</td>\n      <td>2692</td>\n      <td>7.2250</td>\n      <td>NaN</td>\n      <td>C</td>\n    </tr>\n    <tr>\n      <th>18</th>\n      <td>910</td>\n      <td>3</td>\n      <td>Ilmakangas, Miss. Ida Livija</td>\n      <td>female</td>\n      <td>27.0</td>\n      <td>1</td>\n      <td>0</td>\n      <td>STON/O2. 3101270</td>\n      <td>7.9250</td>\n      <td>NaN</td>\n      <td>S</td>\n    </tr>\n    <tr>\n      <th>19</th>\n      <td>911</td>\n      <td>3</td>\n      <td>Assaf Khalil, Mrs. Mariana (Miriam\")\"</td>\n      <td>female</td>\n      <td>45.0</td>\n      <td>0</td>\n      <td>0</td>\n      <td>2696</td>\n      <td>7.2250</td>\n      <td>NaN</td>\n      <td>C</td>\n    </tr>\n  </tbody>\n</table>\n</div>"
     },
     "execution_count": 81,
     "metadata": {},
     "output_type": "execute_result"
    },
    {
     "name": "stdout",
     "output_type": "stream",
     "text": [
      "(418, 11)\n"
     ]
    }
   ],
   "source": [
    "df_test.head(20)\n",
    "print(df_test.shape)\n",
    "df_orig = df_test.copy()"
   ]
  },
  {
   "cell_type": "markdown",
   "metadata": {
    "pycharm": {
     "name": "#%% md\n"
    }
   },
   "source": [
    "We will peform our analysis as follows:\n",
    "\n",
    "- Missing data checks.\n",
    "- Model accuracy check.\n",
    "- EDA (without missing data replacement).\n",
    "- Variable adjustments & missing value imputation.\n",
    "- Model accuracy check\n",
    "\n",
    "First thing we will attend to is to bring the data we ignored in the first round, back into our\n",
    "dataset i.e. name, ticket and cabin."
   ]
  },
  {
   "cell_type": "markdown",
   "metadata": {},
   "source": [
    "<div class=\"alert alert-block alert-info\">\n",
    "<b>Missing values</b>\n",
    "</div>"
   ]
  },
  {
   "cell_type": "code",
   "execution_count": 82,
   "metadata": {
    "pycharm": {
     "name": "#%%\n"
    }
   },
   "outputs": [],
   "source": [
    "# We use will use all of the variables from here onwards.\n",
    "df_train = df_train.loc[:, ['survived', 'p_class', 'name', 'sex', 'age', 'sib_sp', 'parch',\n",
    "                            'ticket', 'fare', 'cabin', 'embarked']]"
   ]
  },
  {
   "cell_type": "code",
   "execution_count": 83,
   "metadata": {
    "pycharm": {
     "name": "#%%\n"
    }
   },
   "outputs": [],
   "source": [
    "df_test = df_test.loc[:, ['p_class', 'name', 'sex', 'age', 'sib_sp', 'parch', 'ticket',\n",
    "                          'fare', 'cabin', 'embarked']]"
   ]
  },
  {
   "cell_type": "markdown",
   "metadata": {},
   "source": [
    "We previously noted that there are missing values in the following fields: age, fare and\n",
    "embarked.\n",
    "\n",
    "We quantify the exact number of missing values in the training set:"
   ]
  },
  {
   "cell_type": "code",
   "execution_count": 84,
   "metadata": {
    "pycharm": {
     "name": "#%%\n"
    }
   },
   "outputs": [
    {
     "name": "stdout",
     "output_type": "stream",
     "text": [
      "For \"age\" the number of missing values are: 177 (20%)\n",
      "For \"cabin\" the number of missing values are: 687 (77%)\n",
      "For \"embarked\" the number of missing values are: 2 (0%)\n"
     ]
    }
   ],
   "source": [
    "# Check for null values\n",
    "missing_values_train = df_train.isnull().sum()\n",
    "missing_values_train = missing_values_train.to_frame(name='num_missing')\n",
    "missing_values_train['perc_missing'] = (missing_values_train['num_missing']/df_train.shape[0])*100\n",
    "for index, row in missing_values_train.iterrows():\n",
    "    if (row['num_missing'] > 0):\n",
    "        print (\"For \\\"%s\\\" the number of missing values are: %d (%.0f%%)\" %  (index,\n",
    "                                                                     row['num_missing'],\n",
    "                                                                    row['perc_missing']))"
   ]
  },
  {
   "cell_type": "markdown",
   "metadata": {},
   "source": [
    "Consider a sample of missing values from the training set:\n"
   ]
  },
  {
   "cell_type": "code",
   "execution_count": 85,
   "metadata": {
    "pycharm": {
     "name": "#%%\n"
    }
   },
   "outputs": [
    {
     "data": {
      "text/plain": "     survived  p_class                                      name     sex  \\\n0           0        3                   Braund, Mr. Owen Harris    male   \n2           1        3                    Heikkinen, Miss. Laina  female   \n4           0        3                  Allen, Mr. William Henry    male   \n5           0        3                          Moran, Mr. James    male   \n7           0        3            Palsson, Master. Gosta Leonard    male   \n..        ...      ...                                       ...     ...   \n884         0        3                    Sutehall, Mr. Henry Jr    male   \n885         0        3      Rice, Mrs. William (Margaret Norton)  female   \n886         0        2                     Montvila, Rev. Juozas    male   \n888         0        3  Johnston, Miss. Catherine Helen \"Carrie\"  female   \n890         0        3                       Dooley, Mr. Patrick    male   \n\n      age  sib_sp  parch            ticket     fare cabin embarked  \n0    22.0       1      0         A/5 21171   7.2500   NaN        S  \n2    26.0       0      0  STON/O2. 3101282   7.9250   NaN        S  \n4    35.0       0      0            373450   8.0500   NaN        S  \n5     NaN       0      0            330877   8.4583   NaN        Q  \n7     2.0       3      1            349909  21.0750   NaN        S  \n..    ...     ...    ...               ...      ...   ...      ...  \n884  25.0       0      0   SOTON/OQ 392076   7.0500   NaN        S  \n885  39.0       0      5            382652  29.1250   NaN        Q  \n886  27.0       0      0            211536  13.0000   NaN        S  \n888   NaN       1      2        W./C. 6607  23.4500   NaN        S  \n890  32.0       0      0            370376   7.7500   NaN        Q  \n\n[708 rows x 11 columns]",
      "text/html": "<div>\n<style scoped>\n    .dataframe tbody tr th:only-of-type {\n        vertical-align: middle;\n    }\n\n    .dataframe tbody tr th {\n        vertical-align: top;\n    }\n\n    .dataframe thead th {\n        text-align: right;\n    }\n</style>\n<table border=\"1\" class=\"dataframe\">\n  <thead>\n    <tr style=\"text-align: right;\">\n      <th></th>\n      <th>survived</th>\n      <th>p_class</th>\n      <th>name</th>\n      <th>sex</th>\n      <th>age</th>\n      <th>sib_sp</th>\n      <th>parch</th>\n      <th>ticket</th>\n      <th>fare</th>\n      <th>cabin</th>\n      <th>embarked</th>\n    </tr>\n  </thead>\n  <tbody>\n    <tr>\n      <th>0</th>\n      <td>0</td>\n      <td>3</td>\n      <td>Braund, Mr. Owen Harris</td>\n      <td>male</td>\n      <td>22.0</td>\n      <td>1</td>\n      <td>0</td>\n      <td>A/5 21171</td>\n      <td>7.2500</td>\n      <td>NaN</td>\n      <td>S</td>\n    </tr>\n    <tr>\n      <th>2</th>\n      <td>1</td>\n      <td>3</td>\n      <td>Heikkinen, Miss. Laina</td>\n      <td>female</td>\n      <td>26.0</td>\n      <td>0</td>\n      <td>0</td>\n      <td>STON/O2. 3101282</td>\n      <td>7.9250</td>\n      <td>NaN</td>\n      <td>S</td>\n    </tr>\n    <tr>\n      <th>4</th>\n      <td>0</td>\n      <td>3</td>\n      <td>Allen, Mr. William Henry</td>\n      <td>male</td>\n      <td>35.0</td>\n      <td>0</td>\n      <td>0</td>\n      <td>373450</td>\n      <td>8.0500</td>\n      <td>NaN</td>\n      <td>S</td>\n    </tr>\n    <tr>\n      <th>5</th>\n      <td>0</td>\n      <td>3</td>\n      <td>Moran, Mr. James</td>\n      <td>male</td>\n      <td>NaN</td>\n      <td>0</td>\n      <td>0</td>\n      <td>330877</td>\n      <td>8.4583</td>\n      <td>NaN</td>\n      <td>Q</td>\n    </tr>\n    <tr>\n      <th>7</th>\n      <td>0</td>\n      <td>3</td>\n      <td>Palsson, Master. Gosta Leonard</td>\n      <td>male</td>\n      <td>2.0</td>\n      <td>3</td>\n      <td>1</td>\n      <td>349909</td>\n      <td>21.0750</td>\n      <td>NaN</td>\n      <td>S</td>\n    </tr>\n    <tr>\n      <th>...</th>\n      <td>...</td>\n      <td>...</td>\n      <td>...</td>\n      <td>...</td>\n      <td>...</td>\n      <td>...</td>\n      <td>...</td>\n      <td>...</td>\n      <td>...</td>\n      <td>...</td>\n      <td>...</td>\n    </tr>\n    <tr>\n      <th>884</th>\n      <td>0</td>\n      <td>3</td>\n      <td>Sutehall, Mr. Henry Jr</td>\n      <td>male</td>\n      <td>25.0</td>\n      <td>0</td>\n      <td>0</td>\n      <td>SOTON/OQ 392076</td>\n      <td>7.0500</td>\n      <td>NaN</td>\n      <td>S</td>\n    </tr>\n    <tr>\n      <th>885</th>\n      <td>0</td>\n      <td>3</td>\n      <td>Rice, Mrs. William (Margaret Norton)</td>\n      <td>female</td>\n      <td>39.0</td>\n      <td>0</td>\n      <td>5</td>\n      <td>382652</td>\n      <td>29.1250</td>\n      <td>NaN</td>\n      <td>Q</td>\n    </tr>\n    <tr>\n      <th>886</th>\n      <td>0</td>\n      <td>2</td>\n      <td>Montvila, Rev. Juozas</td>\n      <td>male</td>\n      <td>27.0</td>\n      <td>0</td>\n      <td>0</td>\n      <td>211536</td>\n      <td>13.0000</td>\n      <td>NaN</td>\n      <td>S</td>\n    </tr>\n    <tr>\n      <th>888</th>\n      <td>0</td>\n      <td>3</td>\n      <td>Johnston, Miss. Catherine Helen \"Carrie\"</td>\n      <td>female</td>\n      <td>NaN</td>\n      <td>1</td>\n      <td>2</td>\n      <td>W./C. 6607</td>\n      <td>23.4500</td>\n      <td>NaN</td>\n      <td>S</td>\n    </tr>\n    <tr>\n      <th>890</th>\n      <td>0</td>\n      <td>3</td>\n      <td>Dooley, Mr. Patrick</td>\n      <td>male</td>\n      <td>32.0</td>\n      <td>0</td>\n      <td>0</td>\n      <td>370376</td>\n      <td>7.7500</td>\n      <td>NaN</td>\n      <td>Q</td>\n    </tr>\n  </tbody>\n</table>\n<p>708 rows × 11 columns</p>\n</div>"
     },
     "execution_count": 85,
     "metadata": {},
     "output_type": "execute_result"
    }
   ],
   "source": [
    "df_train[df_train.isnull().any(axis=1)]\n"
   ]
  },
  {
   "cell_type": "markdown",
   "metadata": {
    "pycharm": {
     "name": "#%% md\n"
    }
   },
   "source": [
    "Quantify the exact number of missing values in the test set:"
   ]
  },
  {
   "cell_type": "code",
   "execution_count": 86,
   "metadata": {
    "pycharm": {
     "name": "#%%\n"
    }
   },
   "outputs": [
    {
     "name": "stdout",
     "output_type": "stream",
     "text": [
      "For \"age\" the number of missing values are: 86 (21%)\n",
      "For \"fare\" the number of missing values are: 1 (0%)\n",
      "For \"cabin\" the number of missing values are: 327 (78%)\n"
     ]
    }
   ],
   "source": [
    "# Check for null values\n",
    "missing_values_test = df_test.isnull().sum()\n",
    "missing_values_test = missing_values_test.to_frame(name='num_missing')\n",
    "missing_values_test['perc_missing'] = (missing_values_test['num_missing']/df_test.shape[0])*100\n",
    "for index, row in missing_values_test.iterrows():\n",
    "    if (row['num_missing'] > 0):\n",
    "        print (\"For \\\"%s\\\" the number of missing values are: %d (%.0f%%)\" %  (index,\n",
    "                                                                     row['num_missing'],\n",
    "                                                                    row['perc_missing']))\n"
   ]
  },
  {
   "cell_type": "markdown",
   "metadata": {
    "pycharm": {
     "name": "#%% md\n"
    }
   },
   "source": [
    "Consider a sample of missing values from the test set:"
   ]
  },
  {
   "cell_type": "code",
   "execution_count": 87,
   "metadata": {
    "pycharm": {
     "name": "#%%\n"
    }
   },
   "outputs": [
    {
     "data": {
      "text/plain": "     p_class                                          name     sex   age  \\\n0          3                              Kelly, Mr. James    male  34.5   \n1          3              Wilkes, Mrs. James (Ellen Needs)  female  47.0   \n2          2                     Myles, Mr. Thomas Francis    male  62.0   \n3          3                              Wirz, Mr. Albert    male  27.0   \n4          3  Hirvonen, Mrs. Alexander (Helga E Lindqvist)  female  22.0   \n..       ...                                           ...     ...   ...   \n412        3                Henriksson, Miss. Jenny Lovisa  female  28.0   \n413        3                            Spector, Mr. Woolf    male   NaN   \n415        3                  Saether, Mr. Simon Sivertsen    male  38.5   \n416        3                           Ware, Mr. Frederick    male   NaN   \n417        3                      Peter, Master. Michael J    male   NaN   \n\n     sib_sp  parch              ticket     fare cabin embarked  \n0         0      0              330911   7.8292   NaN        Q  \n1         1      0              363272   7.0000   NaN        S  \n2         0      0              240276   9.6875   NaN        Q  \n3         0      0              315154   8.6625   NaN        S  \n4         1      1             3101298  12.2875   NaN        S  \n..      ...    ...                 ...      ...   ...      ...  \n412       0      0              347086   7.7750   NaN        S  \n413       0      0           A.5. 3236   8.0500   NaN        S  \n415       0      0  SOTON/O.Q. 3101262   7.2500   NaN        S  \n416       0      0              359309   8.0500   NaN        S  \n417       1      1                2668  22.3583   NaN        C  \n\n[331 rows x 10 columns]",
      "text/html": "<div>\n<style scoped>\n    .dataframe tbody tr th:only-of-type {\n        vertical-align: middle;\n    }\n\n    .dataframe tbody tr th {\n        vertical-align: top;\n    }\n\n    .dataframe thead th {\n        text-align: right;\n    }\n</style>\n<table border=\"1\" class=\"dataframe\">\n  <thead>\n    <tr style=\"text-align: right;\">\n      <th></th>\n      <th>p_class</th>\n      <th>name</th>\n      <th>sex</th>\n      <th>age</th>\n      <th>sib_sp</th>\n      <th>parch</th>\n      <th>ticket</th>\n      <th>fare</th>\n      <th>cabin</th>\n      <th>embarked</th>\n    </tr>\n  </thead>\n  <tbody>\n    <tr>\n      <th>0</th>\n      <td>3</td>\n      <td>Kelly, Mr. James</td>\n      <td>male</td>\n      <td>34.5</td>\n      <td>0</td>\n      <td>0</td>\n      <td>330911</td>\n      <td>7.8292</td>\n      <td>NaN</td>\n      <td>Q</td>\n    </tr>\n    <tr>\n      <th>1</th>\n      <td>3</td>\n      <td>Wilkes, Mrs. James (Ellen Needs)</td>\n      <td>female</td>\n      <td>47.0</td>\n      <td>1</td>\n      <td>0</td>\n      <td>363272</td>\n      <td>7.0000</td>\n      <td>NaN</td>\n      <td>S</td>\n    </tr>\n    <tr>\n      <th>2</th>\n      <td>2</td>\n      <td>Myles, Mr. Thomas Francis</td>\n      <td>male</td>\n      <td>62.0</td>\n      <td>0</td>\n      <td>0</td>\n      <td>240276</td>\n      <td>9.6875</td>\n      <td>NaN</td>\n      <td>Q</td>\n    </tr>\n    <tr>\n      <th>3</th>\n      <td>3</td>\n      <td>Wirz, Mr. Albert</td>\n      <td>male</td>\n      <td>27.0</td>\n      <td>0</td>\n      <td>0</td>\n      <td>315154</td>\n      <td>8.6625</td>\n      <td>NaN</td>\n      <td>S</td>\n    </tr>\n    <tr>\n      <th>4</th>\n      <td>3</td>\n      <td>Hirvonen, Mrs. Alexander (Helga E Lindqvist)</td>\n      <td>female</td>\n      <td>22.0</td>\n      <td>1</td>\n      <td>1</td>\n      <td>3101298</td>\n      <td>12.2875</td>\n      <td>NaN</td>\n      <td>S</td>\n    </tr>\n    <tr>\n      <th>...</th>\n      <td>...</td>\n      <td>...</td>\n      <td>...</td>\n      <td>...</td>\n      <td>...</td>\n      <td>...</td>\n      <td>...</td>\n      <td>...</td>\n      <td>...</td>\n      <td>...</td>\n    </tr>\n    <tr>\n      <th>412</th>\n      <td>3</td>\n      <td>Henriksson, Miss. Jenny Lovisa</td>\n      <td>female</td>\n      <td>28.0</td>\n      <td>0</td>\n      <td>0</td>\n      <td>347086</td>\n      <td>7.7750</td>\n      <td>NaN</td>\n      <td>S</td>\n    </tr>\n    <tr>\n      <th>413</th>\n      <td>3</td>\n      <td>Spector, Mr. Woolf</td>\n      <td>male</td>\n      <td>NaN</td>\n      <td>0</td>\n      <td>0</td>\n      <td>A.5. 3236</td>\n      <td>8.0500</td>\n      <td>NaN</td>\n      <td>S</td>\n    </tr>\n    <tr>\n      <th>415</th>\n      <td>3</td>\n      <td>Saether, Mr. Simon Sivertsen</td>\n      <td>male</td>\n      <td>38.5</td>\n      <td>0</td>\n      <td>0</td>\n      <td>SOTON/O.Q. 3101262</td>\n      <td>7.2500</td>\n      <td>NaN</td>\n      <td>S</td>\n    </tr>\n    <tr>\n      <th>416</th>\n      <td>3</td>\n      <td>Ware, Mr. Frederick</td>\n      <td>male</td>\n      <td>NaN</td>\n      <td>0</td>\n      <td>0</td>\n      <td>359309</td>\n      <td>8.0500</td>\n      <td>NaN</td>\n      <td>S</td>\n    </tr>\n    <tr>\n      <th>417</th>\n      <td>3</td>\n      <td>Peter, Master. Michael J</td>\n      <td>male</td>\n      <td>NaN</td>\n      <td>1</td>\n      <td>1</td>\n      <td>2668</td>\n      <td>22.3583</td>\n      <td>NaN</td>\n      <td>C</td>\n    </tr>\n  </tbody>\n</table>\n<p>331 rows × 10 columns</p>\n</div>"
     },
     "execution_count": 87,
     "metadata": {},
     "output_type": "execute_result"
    }
   ],
   "source": [
    "# Actual null values\n",
    "df_test[df_test.isnull().any(axis=1)]"
   ]
  },
  {
   "cell_type": "markdown",
   "metadata": {},
   "source": [
    "We observed 177 (20%) null values for <i>age</i>, 687 (77%) for <i>cabin</i> and 2 (0%) for\n",
    "<i>embarked</i> for <i>training data</i> and 86 (21%) null values for <i>age</i>, 327 (78%)\n",
    " for <i>cabin</i> and 1 (0%) for <i>fare</i> for <i>testing data</i>.\n",
    "\n",
    "The visualised missing values look as follows for the training set:"
   ]
  },
  {
   "cell_type": "code",
   "source": [
    "#%matplotlib inline\n",
    "_ = plt.figure(figsize=(20, 10))\n",
    "\n",
    "# cubehelix palette is a part of seaborn that produces a colormap\n",
    "cmap = sns.cubehelix_palette(light=1, as_cmap=True, reverse=True)\n",
    "_ = sns.heatmap(df_train.isnull(), cmap=cmap)"
   ],
   "metadata": {
    "collapsed": false,
    "pycharm": {
     "name": "#%%\n"
    }
   },
   "execution_count": 88,
   "outputs": [
    {
     "data": {
      "text/plain": "<Figure size 1440x720 with 2 Axes>",
      "image/png": "[encoded data removed]"
     },
     "metadata": {},
     "output_type": "display_data"
    }
   ]
  },
  {
   "cell_type": "markdown",
   "source": [
    "And as follows for the testing set:"
   ],
   "metadata": {
    "collapsed": false
   }
  },
  {
   "cell_type": "code",
   "execution_count": 89,
   "outputs": [
    {
     "data": {
      "text/plain": "<Figure size 1440x720 with 2 Axes>",
      "image/png": "[encoded data removed]"
     },
     "metadata": {},
     "output_type": "display_data"
    }
   ],
   "source": [
    "#%matplotlib inline\n",
    "_ = plt.figure(figsize=(20, 10))\n",
    "\n",
    "# cubehelix palette is a part of seaborn that produces a colormap\n",
    "cmap = sns.cubehelix_palette(light=1, as_cmap=True, reverse=True)\n",
    "_ = sns.heatmap(df_test.isnull(), cmap=cmap)\n",
    "\n"
   ],
   "metadata": {
    "collapsed": false,
    "pycharm": {
     "name": "#%%\n"
    }
   }
  },
  {
   "cell_type": "markdown",
   "source": [
    "From the evidence we have thus far we can conclude the following:\n",
    "\n",
    "- The age (continuous) and cabin (categorical) variables have a significant number of missing\n",
    "values.\n",
    "- The cabin variable has in excess of 70% missing entries, which is substantive.\n",
    "- The missing values for these variables seem to be randomly scattered throughout the data.\n",
    "Without more information it is difficult to tell whether these variables are missing at\n",
    "random or for some systemic reason. We will do some more analysis to try and ascertain this.\n",
    "\n",
    "It is important for us to decide on a missing value replacement strategy for age and cabin.\n",
    "The other variables have an insignficant number of missing values and hence simple\n",
    "imputation will be performed.\n",
    "\n",
    "We will start by analysing the distributions for age first to get a feel for the data."
   ],
   "metadata": {
    "collapsed": false,
    "pycharm": {
     "name": "#%% md\n"
    }
   }
  },
  {
   "cell_type": "code",
   "execution_count": 90,
   "metadata": {
    "pycharm": {
     "name": "#%%\n"
    }
   },
   "outputs": [
    {
     "data": {
      "text/plain": "<Figure size 1080x864 with 1 Axes>",
      "image/png": "[encoded data removed]"
     },
     "metadata": {},
     "output_type": "display_data"
    }
   ],
   "source": [
    "# Continuous density plot\n",
    "fig_missing, axes = plt.subplots(1, 1, figsize=(15, 12))\n",
    "\n",
    "# Plot frequency plot/ histogram\n",
    "_ = sns.histplot(x=\"age\", kde=True, data=df_train, ax=axes, bins=40);\n",
    "_ = axes.set(xlabel=\"Age\", ylabel='Density');\n",
    "axes.xaxis.label.set_size(24)\n",
    "axes.yaxis.label.set_size(24)\n",
    "axes.tick_params('y', labelsize = 20);\n",
    "axes.tick_params('x', labelsize = 20);\n",
    "\n",
    "## Continuous density plot\n",
    "#fig_missing, axes = plt.subplots(1, 1, figsize=(15, 12))\n",
    "#\n",
    "## Plot frequency plot/ histogram\n",
    "#_ = sns.histplot(x=\"age\", kde=True, data=df_test, ax=axes, bins=40);\n",
    "#_ = axes.set(xlabel=\"Age\", ylabel='Density');\n",
    "#axes.xaxis.label.set_size(24)\n",
    "#axes.yaxis.label.set_size(24)\n",
    "#axes.tick_params('y', labelsize = 20);\n",
    "#axes.tick_params('x', labelsize = 20);\n",
    "#"
   ]
  },
  {
   "cell_type": "code",
   "execution_count": 91,
   "outputs": [
    {
     "name": "stdout",
     "output_type": "stream",
     "text": [
      "Age summary statistics (training set):\n",
      "\n",
      "count    714.000000\n",
      "mean      29.699118\n",
      "std       14.526497\n",
      "min        0.420000\n",
      "25%       20.125000\n",
      "50%       28.000000\n",
      "75%       38.000000\n",
      "max       80.000000\n",
      "Name: age, dtype: float64\n",
      "\n",
      "Age summary statistics (testing set):\n",
      "\n",
      "count    332.000000\n",
      "mean      30.272590\n",
      "std       14.181209\n",
      "min        0.170000\n",
      "25%       21.000000\n",
      "50%       27.000000\n",
      "75%       39.000000\n",
      "max       76.000000\n",
      "Name: age, dtype: float64\n"
     ]
    }
   ],
   "source": [
    "print(\"Age summary statistics (training set):\\n\")\n",
    "print(df_train['age'].describe())\n",
    "print(\"\\nAge summary statistics (testing set):\\n\")\n",
    "print(df_test['age'].describe())"
   ],
   "metadata": {
    "collapsed": false,
    "pycharm": {
     "name": "#%%\n"
    }
   }
  },
  {
   "cell_type": "markdown",
   "source": [
    "The age variable is similarly distributed for both the training and test set i.e. there is a\n",
    " skew to the right with a slight bump on the left for lower ages. Maximum age was 80 and\n",
    " minimum age was around 2 months.\n",
    "\n",
    "High level analysis does not seem to show any specific problematic values within either set\n",
    "of data.\n",
    "\n",
    "Next we consider whether there is correlation between missing age values and the outcome\n",
    "variable i.e. survival. There are a significant number of missing age values, and if the\n",
    "missing values are correlated with the outcome we should consider a more complex mechanism\n",
    "for missing value substitution such as multiple imputation."
   ],
   "metadata": {
    "collapsed": false
   }
  },
  {
   "cell_type": "code",
   "execution_count": 92,
   "outputs": [
    {
     "data": {
      "text/plain": "<Figure size 720x576 with 1 Axes>",
      "image/png": "[encoded data removed]"
     },
     "metadata": {},
     "output_type": "display_data"
    }
   ],
   "source": [
    "fig_age, axes = plt.subplots(nrows=1, ncols=1, figsize=(10, 8), squeeze=False)\n",
    "legend_labels = ['Died', 'Survived']\n",
    "colors = [\"lightslategrey\", \"#1F77B4\"]\n",
    "\n",
    "df_train['age_missing'] = df_train.apply(lambda row: 1 if np.isnan(row['age']) else 0, axis=1)\n",
    "\n",
    "age_missing_stacked = df_train.loc[:, [\"survived\", \"age_missing\"]]\n",
    "age_missing_stacked.index.name = \"passenger_num\"\n",
    "ctable_survival_missing = pd.crosstab(age_missing_stacked.survived, age_missing_stacked\n",
    "                         .age_missing, colnames=[\"Missing Age\"], rownames=[\"Survived\"])\n",
    "ctable_survival_missing_perc = pd.crosstab(age_missing_stacked.survived, age_missing_stacked\n",
    "                         .age_missing, colnames=[\"Missing Age\"], rownames=[\"Survived\"],\n",
    "                                           normalize=\"index\")\n",
    "\n",
    "#ctable_survival_missing.columns = [\"Not Missing\", \"Missing\"]\n",
    "#ctable_survival_missing[\"Survived\"] = [\"Died\", \"Survived\"]\n",
    "#ctable_survival_missing = ctable_survival_missing.set_index(\"Survived\")\n",
    "#print(ctable_survival_missing)\n",
    "\n",
    "ctable_survival_missing_perc.columns = [\"Not Missing\", \"Missing\"]\n",
    "ctable_survival_missing_perc[\"Survived\"] = [\"Died\", \"Survived\"]\n",
    "ctable_survival_missing_perc = ctable_survival_missing_perc.set_index(\"Survived\")\n",
    "\n",
    "axs = plt.gca()\n",
    "axs.set_frame_on(False)\n",
    "#age_miss_stack = ctable_survival_missing.plot.bar(stacked=True, ax=axs, color=colors)\n",
    "age_miss_stack = ctable_survival_missing_perc.plot.bar(stacked=True, ax=axs, color=colors)\n",
    "_ = plt.xlabel('Survival class', fontsize=20)\n",
    "#_ = plt.ylabel('Percentage Missing', fontsize=20)\n",
    "_ = plt.xticks([0, 1], legend_labels, fontsize=15, alpha=0.8)\n",
    "_ = plt.xticks(fontsize=20)\n",
    "#_ = plt.yticks(fontsize=20)\n",
    "\n",
    "# remove all the ticks (both axes), and tick labels on the Y axis\n",
    "plt.tick_params(top=False, bottom=False, left=False, right=False, labelleft=False,\n",
    "                labelbottom=True)\n",
    "\n",
    "# Bit of a hack - TODO, clean up here.\n",
    "#totals = ctable_survival_missing.iloc[:,0] + ctable_survival_missing_.iloc[:,1]\n",
    "totals = ctable_survival_missing_perc.iloc[:,0] + ctable_survival_missing_perc.iloc[:,1]\n",
    "#tot_arr = totals.to_numpy()\n",
    "\n",
    "for i, rec in enumerate(age_miss_stack.patches):\n",
    "    height = rec.get_height()\n",
    "    j = i//2\n",
    "    _ = age_miss_stack.text(rec.get_x() + rec.get_width() / 2,\n",
    "              rec.get_y() + height / 2,\n",
    "              \"{:.0f}%\".format(height/totals[j]*100),\n",
    "              ha='center',\n",
    "              va='bottom',\n",
    "              color=\"w\",\n",
    "              fontsize = 15)\n",
    "\n",
    "plt.tight_layout()"
   ],
   "metadata": {
    "collapsed": false,
    "pycharm": {
     "name": "#%%\n"
    }
   }
  },
  {
   "cell_type": "markdown",
   "source": [
    "We observe that there is a larger proportion of missing values in the group of individuals\n",
    "that died compared to the survival group, which suggests correlation between the\n",
    "missing values and outcome variable (survival).\n",
    "\n",
    "We will now perform a Chi-Squared test for independence to determine whether there is\n",
    "correlation between missing age values and survival."
   ],
   "metadata": {
    "collapsed": false,
    "pycharm": {
     "name": "#%% md\n"
    }
   }
  },
  {
   "cell_type": "code",
   "execution_count": 93,
   "outputs": [
    {
     "name": "stdout",
     "output_type": "stream",
     "text": [
      "Missing Age    0    1\n",
      "Survived             \n",
      "0            424  125\n",
      "1            290   52\n",
      "dof=1\n",
      "[[439.93939394 109.06060606]\n",
      " [274.06060606  67.93939394]]\n",
      "probability=0.950, critical=3.841, stat=7.106\n",
      "Dependent (reject H0)\n",
      "significance=0.050, p=0.008\n",
      "Dependent (reject H0)\n"
     ]
    }
   ],
   "source": [
    "survived = df_train.loc[df_train[\"survived\"] == 1,:]\n",
    "died = df_train.loc[df_train[\"survived\"] == 0,:]\n",
    "\n",
    "survived_cont = survived[\"age_missing\"].value_counts(normalize=False)\n",
    "died_cont = died[\"age_missing\"].value_counts(normalize=False)\n",
    "\n",
    "_ = survived_cont.rename(\"survived\", inplace=True)\n",
    "_ = died_cont.rename(\"died\", inplace=True)\n",
    "\n",
    "#cont_table = pd.concat([survived_cont, died_cont], axis=1)\n",
    "\n",
    "print(ctable_survival_missing)\n",
    "\n",
    "#stat, p, dof, expected = chi2_contingency(cont_table)\n",
    "stat, p, dof, expected = chi2_contingency(ctable_survival_missing)\n",
    "print('dof=%d' % dof)\n",
    "print(expected)\n",
    "# interpret test-statistic\n",
    "prob = 0.95\n",
    "critical = chi2.ppf(prob, dof)\n",
    "print('probability=%.3f, critical=%.3f, stat=%.3f' % (prob, critical, stat))\n",
    "if abs(stat) >= critical:\n",
    "\tprint('Dependent (reject H0)')\n",
    "else:\n",
    "\tprint('Independent (fail to reject H0)')\n",
    "# interpret p-value\n",
    "alpha = 1.0 - prob\n",
    "print('significance=%.3f, p=%.3f' % (alpha, p))\n",
    "if p <= alpha:\n",
    "\tprint('Dependent (reject H0)')\n",
    "else:\n",
    "\tprint('Independent (fail to reject H0)')\n",
    "\n"
   ],
   "metadata": {
    "collapsed": false,
    "pycharm": {
     "name": "#%%\n"
    }
   }
  },
  {
   "cell_type": "markdown",
   "source": [
    "We can see from the results of the Chi-Squared test that the missing values in the age data\n",
    "is strongly correlated with the outcome of survival (p=0.008).\n",
    "\n",
    "This suggests strongly that we will have to take care when imputing values for age i.e.\n",
    "inaccurate imputation might lead to an adverse effect on model accuracy. It is therefore\n",
    "important to ensure that missing values are imputed as accurately as possible, especially\n",
    "taking other variables into account i.e. missing values in particular groupings of values\n",
    "might have strong correlation with the response. An advance technique such as multiple\n",
    "imputation (MICE) or another predictive model such as K-Nearest Neighbour (KNN) is required\n",
    "to ensure age is imputed correctly for these sub-groupings of values.\n",
    "\n",
    "This also indicates that we could use the missing values later during feature engineering\n",
    "and assess possibility of improved model performance based on additional variables built\n",
    "using the missing value information.\n",
    "\n",
    "Next we will look at the distribution of missing age values in relation to the other\n",
    "variables to gain more insight into the missing values. We start with the continuous variables\n",
    "and therefore we consider the fare variable first. We start with some simple distribution\n",
    "plots (histograms)."
   ],
   "metadata": {
    "collapsed": false,
    "pycharm": {
     "name": "#%% md\n"
    }
   }
  },
  {
   "cell_type": "code",
   "execution_count": 94,
   "outputs": [
    {
     "data": {
      "text/plain": "<Figure size 1440x864 with 1 Axes>",
      "image/png": "[encoded data removed]"
     },
     "metadata": {},
     "output_type": "display_data"
    }
   ],
   "source": [
    "fig_age, axes = plt.subplots(nrows=1, ncols=1, figsize=(20, 12), squeeze=False)\n",
    "\n",
    "ax1 = sns.histplot(data = df_train, x = \"fare\", hue = \"age_missing\", ax=axes[0][0],\n",
    "                   legend=True)\n",
    "\n",
    "_ = plt.xlabel('Fare', fontsize=20)\n",
    "_ = plt.ylabel('Count', fontsize=20)\n",
    "_ = plt.xticks(fontsize=20)\n",
    "_ = plt.yticks(fontsize=20)\n",
    "#ax1.legend.set_title(\"Missing Age\")\n",
    "\n",
    "plt.tight_layout()"
   ],
   "metadata": {
    "collapsed": false,
    "pycharm": {
     "name": "#%%\n"
    }
   }
  },
  {
   "cell_type": "code",
   "execution_count": 95,
   "outputs": [
    {
     "data": {
      "text/plain": "<Figure size 1440x864 with 1 Axes>",
      "image/png": "[encoded data removed]"
     },
     "metadata": {},
     "output_type": "display_data"
    }
   ],
   "source": [
    "fig_age, axes = plt.subplots(nrows=1, ncols=1, figsize=(20, 12), squeeze=False)\n",
    "\n",
    "df_test['age_missing'] = df_test.apply(lambda row: 1 if np.isnan(row['age']) else 0, axis=1)\n",
    "_ = sns.histplot(data = df_test, x = \"fare\", hue = \"age_missing\", ax=axes[0][0])\n",
    "\n",
    "_ = plt.xlabel('Fare', fontsize=20)\n",
    "_ = plt.ylabel('Count', fontsize=20)\n",
    "_ = plt.xticks(fontsize=20)\n",
    "_ = plt.yticks(fontsize=20)\n",
    "plt.tight_layout()"
   ],
   "metadata": {
    "collapsed": false,
    "pycharm": {
     "name": "#%%\n"
    }
   }
  },
  {
   "cell_type": "markdown",
   "source": [
    "It is evident by inspection that the number of missing age values is higher for lower fares\n",
    "in both the testing and training datasets. We now look at the same data plotted on\n",
    "histograms to further explore the relationship between missing values and fare. We now\n",
    "however add another dimension in that we also consider survival rate as an additional factor."
   ],
   "metadata": {
    "collapsed": false,
    "pycharm": {
     "name": "#%% md\n"
    }
   }
  },
  {
   "cell_type": "code",
   "execution_count": 96,
   "outputs": [
    {
     "data": {
      "text/plain": "<Figure size 540x360 with 1 Axes>",
      "image/png": "[encoded data removed]"
     },
     "metadata": {},
     "output_type": "display_data"
    }
   ],
   "source": [
    "sns.set_style(\"white\")\n",
    "ax = sns.catplot(x=\"survived\", y=\"fare\", hue=\"age_missing\", kind=\"box\", data=df_train,\n",
    "                 height = 5, aspect = 1.5, legend=False)\n",
    "_ = ax.set(ylim=(0, 300))\n",
    "_ = plt.xlabel('Survived', fontsize=20)\n",
    "_ = plt.ylabel('Fare', fontsize=20)\n",
    "_ = plt.legend(title='Missing Age')\n",
    "plt.show()"
   ],
   "metadata": {
    "collapsed": false,
    "pycharm": {
     "name": "#%%\n"
    }
   }
  },
  {
   "cell_type": "markdown",
   "source": [
    "It must be noted that we adapted the y-axis to cut off outlier values above 300. There were\n",
    "a few values clustered at approximately 500.\n",
    "\n",
    "The boxplots shows the same pattern we observed when considering the histograms i.e. the\n",
    "distribution of fare values is different for the missing and non-missing (age) groups. For the\n",
    "missing age group values are concentrated around smaller fare values.\n",
    "\n",
    "Additionally and interestingly this plot also shows that when taking survival into account\n",
    "the effect is enlarged i.e. for those who survived and paid higher fares age is typically\n",
    "not missing.\n",
    "\n",
    "At this point we could do a correlation test between missing values and fare by means of\n",
    "using a logistic regression. We however leave as a later exercise as we have enough evidence\n",
    "to include fare in any imputation method used to impute missing values.\n",
    "\n",
    "Next we look at the categorical variables. We start with passenger class travelled first."
   ],
   "metadata": {
    "collapsed": false,
    "pycharm": {
     "name": "#%% md\n"
    }
   }
  },
  {
   "cell_type": "code",
   "execution_count": 97,
   "outputs": [
    {
     "name": "stdout",
     "output_type": "stream",
     "text": [
      "Missing Age        0    1\n",
      "Passenger Class          \n",
      "1                186   30\n",
      "2                173   11\n",
      "3                355  136\n"
     ]
    },
    {
     "data": {
      "text/plain": "<Figure size 720x576 with 1 Axes>",
      "image/png": "[encoded data removed]"
     },
     "metadata": {},
     "output_type": "display_data"
    }
   ],
   "source": [
    "sns.set_style(\"white\")\n",
    "fig_age, axes = plt.subplots(nrows=1, ncols=1, figsize=(10, 8), squeeze=False)\n",
    "legend_labels = ['Third', 'First', 'Second']\n",
    "colors = [\"lightslategrey\", \"#1F77B4\"]\n",
    "\n",
    "age_pclass_stacked = df_train.loc[:, [\"p_class\", \"age_missing\"]]\n",
    "age_pclass_stacked.index.name = \"passenger_num\"\n",
    "ctable_pclass_missing = pd.crosstab(age_pclass_stacked.p_class, age_pclass_stacked\n",
    "                         .age_missing, colnames=[\"Missing Age\"], rownames=[\"Passenger Class\"])\n",
    "ctable_pclass_missing_perc = pd.crosstab(age_pclass_stacked.p_class, age_pclass_stacked\n",
    "                         .age_missing, colnames=[\"Missing Age\"], rownames=[\"Passenger Class\"],\n",
    "                                           normalize=\"index\")\n",
    "\n",
    "#ctable_pclass_missing.columns = [\"Not Missing\", \"Missing\"]\n",
    "#ctable_pclass_missing[\"Passenger Class\"] = [\"First\", \"Second\", \"Third\"]\n",
    "#ctable_pclass_missing = ctable_pclass_missing.set_index(\"Passenger Class\")\n",
    "#ctable_pclass_missing = ctable_pclass_missing.sort_values(by= 'Missing', axis=0,\n",
    "#                                                          ascending=False)\n",
    "print(ctable_pclass_missing)\n",
    "\n",
    "ctable_pclass_missing_perc.columns = [\"Not Missing\", \"Missing\"]\n",
    "ctable_pclass_missing_perc[\"Passenger Class\"] = [\"First\", \"Second\", \"Third\"]\n",
    "ctable_pclass_missing_perc = ctable_pclass_missing_perc.set_index(\"Passenger Class\")\n",
    "ctable_pclass_missing_perc = ctable_pclass_missing_perc.sort_values(by= 'Missing', axis=0,\n",
    "                                                          ascending=False)\n",
    "\n",
    "axs = plt.gca()\n",
    "axs.set_frame_on(False)\n",
    "\n",
    "age_pclass_stack = ctable_pclass_missing_perc.plot.bar(stacked=True, ax=axs, color=colors)\n",
    "_ = plt.xlabel('Passenger Class', fontsize=20)\n",
    "#_ = plt.ylabel('Percentage Missing', fontsize=20)\n",
    "_ = plt.xticks([0, 1, 2], legend_labels, fontsize=15, alpha=0.8)\n",
    "_ = plt.xticks(fontsize=20)\n",
    "#_ = plt.yticks(fontsize=20)\n",
    "\n",
    "# remove all the ticks (both axes), and tick labels on the Y axis\n",
    "plt.tick_params(top=False, bottom=False, left=False, right=False, labelleft=False,\n",
    "                labelbottom=True)\n",
    "\n",
    "# Bit of a hack - TODO, clean up here.\n",
    "totals = [ctable_pclass_missing_perc.iloc[0,:].sum(), ctable_pclass_missing_perc.iloc[1,:].sum(),\n",
    "          pd.Series(ctable_pclass_missing_perc.iloc[2,:]).sum()]\n",
    "\n",
    "for i, rec in enumerate(age_pclass_stack.patches):\n",
    "    height = rec.get_height()\n",
    "    j = i%3\n",
    "    bar_height = height/totals[j]*100\n",
    "    #print (\"Debug\\n j: {}\\nheight: {}\\ntotals: {}\\n\".format(j, height, totals[j]))\n",
    "    _ = age_pclass_stack.text(rec.get_x() + rec.get_width()/2,\n",
    "              rec.get_y() + height/2,\n",
    "              \"{:.0f}%\".format(bar_height),\n",
    "              ha='center',\n",
    "              va='bottom',\n",
    "              color=\"w\",\n",
    "              fontsize = 15)\n",
    "\n",
    "plt.tight_layout()"
   ],
   "metadata": {
    "collapsed": false,
    "pycharm": {
     "name": "#%%\n"
    }
   }
  },
  {
   "cell_type": "markdown",
   "source": [
    "It is evident by inspection that the number of missing age values is higher in the third\n",
    "passenger class than the other two classes.\n",
    "\n",
    "Next we perform a Chi-Squared test of correlation."
   ],
   "metadata": {
    "collapsed": false
   }
  },
  {
   "cell_type": "code",
   "execution_count": 98,
   "outputs": [
    {
     "name": "stdout",
     "output_type": "stream",
     "text": [
      "dof=2\n",
      "[[173.09090909  42.90909091]\n",
      " [147.44781145  36.55218855]\n",
      " [393.46127946  97.53872054]]\n",
      "probability=0.950, critical=5.991, stat=46.063\n",
      "Dependent (reject H0)\n",
      "significance=0.050, p=0.000\n",
      "Dependent (reject H0)\n"
     ]
    }
   ],
   "source": [
    "#stat, p, dof, expected = chi2_contingency(cont_table)\n",
    "stat, p, dof, expected = chi2_contingency(ctable_pclass_missing)\n",
    "print('dof=%d' % dof)\n",
    "print(expected)\n",
    "# interpret test-statistic\n",
    "prob = 0.95\n",
    "critical = chi2.ppf(prob, dof)\n",
    "print('probability=%.3f, critical=%.3f, stat=%.3f' % (prob, critical, stat))\n",
    "if abs(stat) >= critical:\n",
    "\tprint('Dependent (reject H0)')\n",
    "else:\n",
    "\tprint('Independent (fail to reject H0)')\n",
    "# interpret p-value\n",
    "alpha = 1.0 - prob\n",
    "print('significance=%.3f, p=%.3f' % (alpha, p))\n",
    "if p <= alpha:\n",
    "\tprint('Dependent (reject H0)')\n",
    "else:\n",
    "\tprint('Independent (fail to reject H0)')\n",
    "\n"
   ],
   "metadata": {
    "collapsed": false,
    "pycharm": {
     "name": "#%%\n"
    }
   }
  },
  {
   "cell_type": "markdown",
   "metadata": {
    "pycharm": {
     "name": "#%% md\n"
    }
   },
   "source": [
    "We can see from the results of the Chi-Squared test that passenger class is strongly\n",
    "correlated with a value being missing (p=0.000).\n",
    "\n",
    "At this point we can conclude that missing values are correlated with several key variables,\n",
    "which leads us to conclude that replacing missing values by using predictive model is\n",
    "necessary. We will use KNN imputation as it is frequently used for this type of substitution.\n",
    "We won't use MICE as we will impute one variable only i.e. age. MICE is overkill in this\n",
    "instance as its utility derives from the ability to impute several values concurrently. The\n",
    "other missing variables in our dataset we will deal with manually.\n",
    "\n",
    "We will impute missing values later in this analysis at the time when we split the datasets\n",
    "into training and testing sets in order to avoid data leakage between training and testing\n",
    "sets. For now, we will continue with our EDA.\n",
    "\n"
   ]
  },
  {
   "cell_type": "markdown",
   "metadata": {
    "pycharm": {
     "name": "#%% md\n"
    }
   },
   "source": [
    "The number of null values after missing values have been replaced in the test set is:"
   ]
  },
  {
   "cell_type": "code",
   "execution_count": 99,
   "metadata": {
    "pycharm": {
     "name": "#%%\n"
    }
   },
   "outputs": [
    {
     "name": "stdout",
     "output_type": "stream",
     "text": [
      "Number of null values in age column: 0\n",
      "Number of null values in fare column: 0\n",
      "Dataframe dimension: (418, 11)\n"
     ]
    }
   ],
   "source": [
    "# Replace missing values for test set\n",
    "df_test = df_test.copy()\n",
    "median = df_test['age'].median()\n",
    "df_test['age'].fillna(median, inplace=True)\n",
    "print(\"Number of null values in age column: {}\".format(df_test['age'].isnull().sum()))\n",
    "\n",
    "median = df_test['fare'].median()\n",
    "df_test['fare'].fillna(median, inplace=True)\n",
    "print(\"Number of null values in fare column: {}\".format(df_test['fare'].isnull().sum()))\n",
    "print(\"Dataframe dimension: {}\".format(df_test.shape))\n",
    "df_test = df_test.copy()"
   ]
  },
  {
   "cell_type": "markdown",
   "metadata": {},
   "source": [
    "We observe that the null values have been removed. We now have a dataset ready for further analysis -\n",
    "albeit a bit of a black box hack :) We will now do some very limited EDA just to get a feel for the data\n",
    "as previously discussed."
   ]
  },
  {
   "cell_type": "markdown",
   "metadata": {},
   "source": [
    "<div class=\"alert alert-block alert-info\">\n",
    "<b>Exploration of data</b>\n",
    "</div>"
   ]
  },
  {
   "cell_type": "markdown",
   "metadata": {},
   "source": [
    "We start by looking at the number of unique records per variable."
   ]
  },
  {
   "cell_type": "code",
   "execution_count": 100,
   "metadata": {
    "pycharm": {
     "name": "#%%\n"
    }
   },
   "outputs": [
    {
     "name": "stdout",
     "output_type": "stream",
     "text": [
      "survived         2\n",
      "p_class          3\n",
      "name           891\n",
      "sex              2\n",
      "age             88\n",
      "sib_sp           7\n",
      "parch            7\n",
      "ticket         681\n",
      "fare           248\n",
      "cabin          147\n",
      "embarked         3\n",
      "age_missing      2\n",
      "dtype: int64\n"
     ]
    }
   ],
   "source": [
    "print(df_train.nunique())"
   ]
  },
  {
   "cell_type": "markdown",
   "metadata": {},
   "source": [
    "There are no columns with only one value. We therefore retain all columns for ML purposes as there is\n",
    "enough variability to warrant using the data. There are many variables with fewer than 10 levels which\n",
    "could be considered as categorical. Based on our initial assessment of the data we will work with\n",
    "levels of measurement for the data as follows:\n",
    "\n",
    "- p_class (ordinal) - we will revisit type of encoding later\n",
    "- sex (binary) - recode (female - yes or no)\n",
    "- age (continuous)\n",
    "- sib_sp (ordinal) - check correlation - revisit encoding\n",
    "- parch (ordinal) - check correlation - revisit encoding\n",
    "- fare (continuous)\n",
    "- embarked (nominal) - recode (one hot encode) - probably categorical\n",
    "\n",
    "We start by separating continuous and categorical variables for further high level analysis."
   ]
  },
  {
   "cell_type": "code",
   "execution_count": 101,
   "metadata": {
    "pycharm": {
     "name": "#%%\n"
    }
   },
   "outputs": [],
   "source": [
    "# We will use datasets for this analysis as follows:\n",
    "# df_train, df_test:                Original data, supplemented with extra fields e.g.\n",
    "#                                   missing values.\n",
    "# df_train_con*, df_train_cat*:     Datasets used for plotting continuous and categorical\n",
    "#                                   variables.\n",
    "# df_train_trans*, df_test_trans*:  Transformed data, as result of enrichment/ wrangling/\n",
    "#                                   feature engineering.\n",
    "# X, y, X_train, X_test:            Training and testing sets.\n",
    "\n",
    "# Separate continuous and categorical variables\n",
    "names_con = ('fare', 'age')\n",
    "names_con_plot = ('survived', 'fare', 'age')\n",
    "names_cat = ('survived', 'p_class', 'sex', 'sib_sp', 'parch', 'embarked')\n",
    "names_cat_test = ('p_class', 'sex', 'sib_sp', 'parch', 'embarked')\n",
    "names_all_orig = ('survived', 'p_class', 'sex', 'sib_sp', 'parch', 'embarked', 'fare', 'age')\n",
    "\n",
    "df_train_con = df_train.loc[:, names_con]\n",
    "df_train_con_plot = df_train.loc[:, names_con_plot]\n",
    "df_train_cat = df_train.loc[:, names_cat]\n",
    "\n",
    "df_test_con = df_test.loc[:, names_con]\n",
    "df_test_cat = df_test.loc[:, names_cat_test]\n",
    "\n",
    "# Plotting label dictionary\n",
    "plot_con = [('fare', 'Fare'),\n",
    "            ('age', 'Age')]\n",
    "plot_con_plot = [('survived', 'Survived'),\n",
    "            ('fare', 'Fare'),\n",
    "            ('age', 'Age')]\n",
    "plot_cat = {'survived': ['Died', 'Survived'],\n",
    "            'p_class': ['3rd', '1st', '2nd'],\n",
    "            'sex': ['Male', 'Female'],\n",
    "            'sib_sp': ['0', '1', '2', '4', '3', '8', '5'],\n",
    "            'parch': ['0', '1', '2', '3', '5', '4', '6'],\n",
    "            'embarked': ['Southampton', 'Cherbourg', 'Queenstown']}\n",
    "plot_cat_plot = {'survived': 'Survival Rate',\n",
    "            'p_class': 'Passenger Class Travelled',\n",
    "            'sex': 'Gender',\n",
    "            'sib_sp': '# Siblings or spouses',\n",
    "            'parch': '# Parents or children',\n",
    "            'embarked': 'Port of Embarkation'}"
   ]
  },
  {
   "cell_type": "markdown",
   "metadata": {},
   "source": [
    "### High level overview\n"
   ]
  },
  {
   "cell_type": "markdown",
   "metadata": {
    "pycharm": {
     "name": "#%% md\n"
    }
   },
   "source": [
    "We observe that we have two candidates for continuous variables here (age and fare). With all the\n",
    "categorical variables present, it is likely that a tree model would be better suited to this problem\n",
    "unless significant feature engineering on categorical features is performed to ensure features are\n",
    "optimally encoded, transformed and scaled for a linear model or neural network.\n",
    "\n",
    "Let's continue with the high level analysis.\n",
    "\n",
    "The overall survival rate was as follows (based on the training dataset):"
   ]
  },
  {
   "cell_type": "code",
   "execution_count": 102,
   "metadata": {
    "pycharm": {
     "name": "#%%\n"
    }
   },
   "outputs": [
    {
     "data": {
      "text/plain": "<Figure size 432x288 with 1 Axes>",
      "image/png": "[encoded data removed]"
     },
     "metadata": {},
     "output_type": "display_data"
    }
   ],
   "source": [
    "_ = plt.figure()\n",
    "\n",
    "# Plot outcome counts.a\n",
    "outcome_counts = df_train_cat['survived'].value_counts(normalize = True)\n",
    "legend_labels = ['Died', 'Survived']\n",
    "\n",
    "# change the background bar colors to be light grey\n",
    "bars = plt.bar(outcome_counts.index, outcome_counts.values, align='center', linewidth=0,\n",
    "               color='lightslategrey')\n",
    "# make one bar, the survived bar, a contrasting color\n",
    "bars[1].set_color('#1F77B4')\n",
    "\n",
    "# soften all labels by turning grey\n",
    "_ = plt.xticks(outcome_counts.index, legend_labels, fontsize=15, alpha=0.8)\n",
    "_ = plt.title('Survival Rate', fontsize=15, pad=30, alpha=0.8)\n",
    "\n",
    "# remove all the ticks (both axes), and tick labels on the Y axis\n",
    "plt.tick_params(top=False, bottom=False, left=False, right=False, labelleft=False,\n",
    "                labelbottom=True)\n",
    "\n",
    "# Remove the frame - my method\n",
    "ax = plt.gca()\n",
    "ax.set_frame_on(False)\n",
    "\n",
    "# Remove the frame of the chart - instructor's method\n",
    "#for spine in plt.gca().spines.values():\n",
    "#    spine.set_visible(False)\n",
    "\n",
    "# direct label each bar with Y axis values\n",
    "for bar in bars:\n",
    "    _ = plt.gca().text(bar.get_x() + bar.get_width()/2, bar.get_height() - 0.05,\n",
    "                       str(round((bar.get_height()*100))) + '%', ha='center', color='w',\n",
    "                       fontsize=15)\n",
    "\n",
    "plt.show()"
   ]
  },
  {
   "cell_type": "markdown",
   "metadata": {
    "pycharm": {
     "name": "#%% md\n"
    }
   },
   "source": [
    "The survival statistics are as follows:\n"
   ]
  },
  {
   "cell_type": "code",
   "execution_count": 103,
   "metadata": {
    "pycharm": {
     "name": "#%%\n"
    }
   },
   "outputs": [
    {
     "name": "stdout",
     "output_type": "stream",
     "text": [
      "0    549\n",
      "1    342\n",
      "Name: survived, dtype: int64\n",
      "\n",
      "\n"
     ]
    }
   ],
   "source": [
    "print(df_train_cat['survived'].value_counts())\n",
    "print(\"\\n\")\n",
    "\n",
    "#print(df_train_cat['survived'].value_counts(normalize = True).mul(100).round(1).astype(str) + '%')\n",
    "#print(\"\\n\")\n",
    "#"
   ]
  },
  {
   "cell_type": "markdown",
   "metadata": {
    "pycharm": {
     "name": "#%% md\n"
    }
   },
   "source": [
    "We observe that 38% of passengers survived and 62% died. These statistics correspond with the narrative on survival\n",
    "rate quoted in the background information on Kaggle. There it is quoted that around 32% survived and 68% died. The\n",
    "sample we are working with is thus representative of the overall population, which is important to note.\n",
    "\n",
    "We observe that the target variable contains unbalanced classes. We need to consider revisiting the unbalanced\n",
    "classes at a later stage - depending on the accuracy of our models. For now, we will forge ahead.\n",
    "\n",
    "Next we will consider class level counts for categorical variables."
   ]
  },
  {
   "cell_type": "markdown",
   "metadata": {},
   "source": [
    "#### Categorical variable overview\n",
    "\n",
    "Class percentages:"
   ]
  },
  {
   "cell_type": "code",
   "execution_count": 104,
   "metadata": {
    "pycharm": {
     "name": "#%%\n"
    }
   },
   "outputs": [
    {
     "data": {
      "text/plain": "<Figure size 1440x1080 with 6 Axes>",
      "image/png": "[encoded data removed]"
     },
     "metadata": {},
     "output_type": "display_data"
    }
   ],
   "source": [
    "# Bar chart plot of categorical variables.\n",
    "fig, ax = plt.subplots(2, 3, figsize=(20, 15));\n",
    "base_color = '#1F77B4'\n",
    "for variable, subplot in zip(names_cat, ax.flatten()):\n",
    "    subplot.xaxis.label.set_size(24)\n",
    "    subplot.yaxis.label.set_size(24)\n",
    "    subplot.tick_params('y', labelsize = 20);\n",
    "    subplot.tick_params('x', labelsize = 20);\n",
    "    subplot.tick_params(top=False, bottom=False, left=False, right=False, labelleft=False,\n",
    "                        labelbottom=True)\n",
    "    subplot.set_frame_on(False)\n",
    "\n",
    "    outcome_counts = df_train_cat[variable].value_counts(normalize=True)\n",
    "    bars = subplot.bar(outcome_counts.index.sort_values(), outcome_counts.values, align='center',\n",
    "                       linewidth=0,\n",
    "               color='lightslategrey')\n",
    "    # make one bar, the highest value bar, a contrasting color\n",
    "    bars[0].set_color('#1F77B4')\n",
    "\n",
    "    plt.sca(subplot)\n",
    "    _ = plt.xticks(outcome_counts.index.sort_values(), plot_cat[variable], fontsize=15, alpha=0.8)\n",
    "    _ = plt.title(plot_cat_plot[variable], fontsize=15, pad=30, alpha=0.8)\n",
    "\n",
    "    # direct label each bar with Y axis values\n",
    "    for bar in bars:\n",
    "        _ = plt.gca().text(bar.get_x() + bar.get_width()/2, bar.get_height() - 0.05,\n",
    "                           str(round((bar.get_height()*100))) + '%', ha='center', color='w',\n",
    "                           fontsize=15)\n",
    "\n",
    "    plt.tight_layout()\n"
   ]
  },
  {
   "cell_type": "markdown",
   "metadata": {
    "pycharm": {
     "name": "#%% md\n"
    }
   },
   "source": [
    "Class counts:"
   ]
  },
  {
   "cell_type": "code",
   "execution_count": 105,
   "metadata": {
    "pycharm": {
     "name": "#%%\n"
    }
   },
   "outputs": [
    {
     "name": "stdout",
     "output_type": "stream",
     "text": [
      "0    549\n",
      "1    342\n",
      "Name: survived, dtype: int64\n",
      "\n",
      "\n",
      "3    491\n",
      "1    216\n",
      "2    184\n",
      "Name: p_class, dtype: int64\n",
      "\n",
      "\n",
      "male      577\n",
      "female    314\n",
      "Name: sex, dtype: int64\n",
      "\n",
      "\n",
      "0    608\n",
      "1    209\n",
      "2     28\n",
      "4     18\n",
      "3     16\n",
      "8      7\n",
      "5      5\n",
      "Name: sib_sp, dtype: int64\n",
      "\n",
      "\n",
      "0    678\n",
      "1    118\n",
      "2     80\n",
      "5      5\n",
      "3      5\n",
      "4      4\n",
      "6      1\n",
      "Name: parch, dtype: int64\n",
      "\n",
      "\n",
      "S    644\n",
      "C    168\n",
      "Q     77\n",
      "Name: embarked, dtype: int64\n",
      "\n",
      "\n"
     ]
    }
   ],
   "source": [
    "# Class level counts for categorical variables.\n",
    "for variable in names_cat:\n",
    "    #print(df_train_cat[variable].value_counts(normalize = True).mul(100).round(1).astype(str) +\n",
    "    # '%')\n",
    "    print(df_train_cat[variable].value_counts())\n",
    "    print(\"\\n\")"
   ]
  },
  {
   "cell_type": "markdown",
   "metadata": {
    "pycharm": {
     "name": "#%% md\n"
    }
   },
   "source": [
    "From the categorical variables we observe that there were approximately twice as many passengers in class 3 than either\n",
    "class 1 or 2. We also observe that there were nearly twice as many males as females on the Titanic. We also observe\n",
    "that more than two thirds of passengers did not have any siblings on board. Likewise we observe that more than two\n",
    "thirds did not have a father or child on board.\n",
    "\n",
    "It is therefore fair to say that the majority of passengers were either couples or single travellers without children\n",
    ". In the case where families did travel, the majority of families had one or two children. Very few families with\n",
    "more children were on board the Titanic.\n",
    "\n",
    "We also see that more than two thirds of passengers departed from Southampton.\n",
    "\n",
    "Many of these variables could contribute o correlation with survival at face value e.g. it stands to reason that\n",
    "preference would have been given in lifeboats to women and children, and that more affluent travellers would have had\n",
    "access to better lifeboats. We will however test these hypotheses in this analysis."
   ]
  },
  {
   "cell_type": "markdown",
   "metadata": {
    "pycharm": {
     "name": "#%% md\n"
    }
   },
   "source": [
    "#### Continuous variable overview\n",
    "\n",
    "We start by considering the age distribution of the passengers. At this point we do some limited\n",
    "EDA in that we will consider the age profiles of those who survived vs. those who died. As with\n",
    "many natural phenomena we expect age to have some influence on mortality."
   ]
  },
  {
   "cell_type": "code",
   "execution_count": 106,
   "metadata": {
    "pycharm": {
     "name": "#%%\n"
    }
   },
   "outputs": [
    {
     "data": {
      "text/plain": "<Figure size 720x432 with 1 Axes>",
      "image/png": "[encoded data removed]"
     },
     "metadata": {},
     "output_type": "display_data"
    }
   ],
   "source": [
    "fig_age, axes = plt.subplots(nrows=1, ncols=1, figsize=(10, 6), squeeze=False)\n",
    "\n",
    "_ = sns.kdeplot(data=df_train_con_plot.loc[(df_train_con_plot['survived'] == 0), 'age'], shade =\n",
    "True, label = 'Died')\n",
    "_ = sns.kdeplot(data=df_train_con_plot.loc[(df_train_con_plot['survived'] == 1), 'age'], shade =\n",
    "True, label = 'Survived')\n",
    "_ = plt.xlabel('Age', fontsize=20)\n",
    "_ = plt.ylabel('Density', fontsize=20)\n",
    "_ = plt.xticks(fontsize=20)\n",
    "_ = plt.yticks(fontsize=20)\n",
    "_ = plt.legend(fontsize=15)\n",
    "plt.show()\n"
   ]
  },
  {
   "cell_type": "markdown",
   "metadata": {
    "pycharm": {
     "name": "#%% md\n"
    }
   },
   "source": [
    "From the age distribution plot we can see that more children under the age of 15 survived than\n",
    "died in the incident. We can see that more individuals between the ages of 20 and 40 died than\n",
    "survived. We can also see that more individuals above the age of 80 survived compared to dying.\n",
    "\n",
    "We can also see that the majority of individuals on the cruise were between the ages of 20 to 40.\n",
    "There were fewer teenagers compared to children under 10. There were comparatively fewer elderly\n",
    "people on board i.e. above 60."
   ]
  },
  {
   "cell_type": "code",
   "execution_count": 107,
   "metadata": {
    "pycharm": {
     "name": "#%%\n"
    }
   },
   "outputs": [
    {
     "data": {
      "text/plain": "             fare         age\ncount  891.000000  714.000000\nmean    32.204208   29.699118\nstd     49.693429   14.526497\nmin      0.000000    0.420000\n25%      7.910400   20.125000\n50%     14.454200   28.000000\n75%     31.000000   38.000000\nmax    512.329200   80.000000",
      "text/html": "<div>\n<style scoped>\n    .dataframe tbody tr th:only-of-type {\n        vertical-align: middle;\n    }\n\n    .dataframe tbody tr th {\n        vertical-align: top;\n    }\n\n    .dataframe thead th {\n        text-align: right;\n    }\n</style>\n<table border=\"1\" class=\"dataframe\">\n  <thead>\n    <tr style=\"text-align: right;\">\n      <th></th>\n      <th>fare</th>\n      <th>age</th>\n    </tr>\n  </thead>\n  <tbody>\n    <tr>\n      <th>count</th>\n      <td>891.000000</td>\n      <td>714.000000</td>\n    </tr>\n    <tr>\n      <th>mean</th>\n      <td>32.204208</td>\n      <td>29.699118</td>\n    </tr>\n    <tr>\n      <th>std</th>\n      <td>49.693429</td>\n      <td>14.526497</td>\n    </tr>\n    <tr>\n      <th>min</th>\n      <td>0.000000</td>\n      <td>0.420000</td>\n    </tr>\n    <tr>\n      <th>25%</th>\n      <td>7.910400</td>\n      <td>20.125000</td>\n    </tr>\n    <tr>\n      <th>50%</th>\n      <td>14.454200</td>\n      <td>28.000000</td>\n    </tr>\n    <tr>\n      <th>75%</th>\n      <td>31.000000</td>\n      <td>38.000000</td>\n    </tr>\n    <tr>\n      <th>max</th>\n      <td>512.329200</td>\n      <td>80.000000</td>\n    </tr>\n  </tbody>\n</table>\n</div>"
     },
     "execution_count": 107,
     "metadata": {},
     "output_type": "execute_result"
    }
   ],
   "source": [
    "# 5 number summary.\n",
    "df_train_con.describe()\n"
   ]
  },
  {
   "cell_type": "markdown",
   "metadata": {
    "pycharm": {
     "name": "#%% md\n"
    }
   },
   "source": [
    "We now consider the fare distribution too. As with age, our assumption would be that fare has a\n",
    "correlation with mortality too.\n",
    "\n",
    "The fare distribution is severely skewed to the right. The kurtosis of the plot is very high with\n",
    " most values clustered closely around the median value of 14. There was a non-significant but\n",
    " relatively smaller number of fares spread between teh values of 30 and 500.\n",
    "\n",
    "The age distribution was as previously discussed, with a minimum of 6 months and maximum of 80\n",
    "years old. The distribution is fairly symmetrical with a slight skew to the right. There is a\n",
    "young child bump to the left of the distribution.\n",
    "\n",
    "We now do a more in depth visual analysis of the correlation between survival and fare and age\n",
    "respectively. We do this by creating a set of Violin plots."
   ]
  },
  {
   "cell_type": "code",
   "execution_count": 108,
   "metadata": {
    "pycharm": {
     "name": "#%%\n"
    }
   },
   "outputs": [
    {
     "data": {
      "text/plain": "<Figure size 1080x864 with 4 Axes>",
      "image/png": "[encoded data removed]"
     },
     "metadata": {},
     "output_type": "display_data"
    }
   ],
   "source": [
    "# Continuous density plot\n",
    "fig_continuous, axes = plt.subplots(nrows=len(names_con_plot)-1, ncols=2, figsize=(15, 12))\n",
    "\n",
    "# Plot frequency plot/ histogram\n",
    "_ = sns.histplot(x=plot_con[0][0], kde=True, data=df_train_con_plot, ax=axes[0][0], bins=40);\n",
    "_ = axes[0][0].set(xlabel=plot_con[0][1], ylabel='Density');\n",
    "axes[0][0].xaxis.label.set_size(24)\n",
    "axes[0][0].yaxis.label.set_size(24)\n",
    "axes[0][0].tick_params('y', labelsize = 20);\n",
    "axes[0][0].tick_params('x', labelsize = 20);\n",
    "\n",
    "# Plot violin plot\n",
    "_ = sns.violinplot(x='survived', y=plot_con[0][0], data=df_train_con_plot, ax=axes[0][1]);\n",
    "_ = axes[0][1].set(xlabel='', ylabel=plot_con[0][1]);\n",
    "axes[0][1].xaxis.label.set_size(24)\n",
    "axes[0][1].yaxis.label.set_size(24)\n",
    "axes[0][1].tick_params('y', labelsize = 20);\n",
    "axes[0][1].tick_params('x', labelsize = 20);\n",
    "_ = axes[0][1].set_xticklabels(['Died', 'Survived'])\n",
    "\n",
    "# Plot frequency plot/ histogram\n",
    "_ = sns.histplot(x=plot_con[1][0], kde=True, data=df_train_con_plot, ax=axes[1][0], bins=40);\n",
    "_ = axes[1][0].set(xlabel=plot_con[1][1], ylabel='Density');\n",
    "axes[1][0].xaxis.label.set_size(24)\n",
    "axes[1][0].yaxis.label.set_size(24)\n",
    "axes[1][0].tick_params('y', labelsize = 20);\n",
    "axes[1][0].tick_params('x', labelsize = 20);\n",
    "\n",
    "# Plot violin plot\n",
    "_ = sns.violinplot(x='survived', y=plot_con[1][0], data=df_train_con_plot, ax=axes[1][1]);\n",
    "_ = axes[1][1].set(ylabel=plot_con[1][1], xlabel='');\n",
    "axes[1][1].xaxis.label.set_size(24)\n",
    "axes[1][1].yaxis.label.set_size(24)\n",
    "axes[1][1].tick_params('y', labelsize = 20);\n",
    "axes[1][1].tick_params('x', labelsize = 20);\n",
    "_ = axes[1][1].set_xticklabels(['Died', 'Survived'])\n",
    "\n",
    "plt.tight_layout()\n",
    "\n"
   ]
  },
  {
   "cell_type": "markdown",
   "metadata": {
    "pycharm": {
     "name": "#%% md\n"
    }
   },
   "source": [
    "The violin plot for <i>fare</i> indicates that there is correlation between fare and survival as\n",
    "more people paying a low fare died and chances of survival increased for higher fares, as well as\n",
    " lower fares close to zero (possibly for children travelling at very low cost).\n",
    "\n",
    "The plot for <i>age</i> indicates a similar pattern with higher survival for children below 10\n",
    "and higher mortality between ages of 20 and 40. The relative likelihood of survival increases\n",
    "again around 40 years of age as you go into the older ages.\n",
    "\n",
    "We will investigate these observations in more detail in our next Notebook.\n",
    "\n",
    "Lastly we will look at the Box plots for both age and fare. We do this to get a better feel for\n",
    "the spread of the data and the possibility of outliers. This will be important for us to consider\n",
    " whether further analysis and possible processing of variables are required in later stages."
   ]
  },
  {
   "cell_type": "code",
   "execution_count": 109,
   "metadata": {
    "pycharm": {
     "name": "#%%\n"
    }
   },
   "outputs": [
    {
     "data": {
      "text/plain": "<Figure size 1440x576 with 2 Axes>",
      "image/png": "[encoded data removed]"
     },
     "metadata": {},
     "output_type": "display_data"
    }
   ],
   "source": [
    "# Boxplot of continuous variables\n",
    "medianprops = {'color': 'magenta', 'linewidth': 2}\n",
    "boxprops = {'color': 'black', 'linestyle': '-', 'linewidth': 2}\n",
    "whiskerprops = {'color': 'black', 'linestyle': '-', 'linewidth': 2}\n",
    "capprops = {'color': 'black', 'linestyle': '-', 'linewidth': 2}\n",
    "flierprops = {'color': 'black', 'marker': 'x', 'markersize': 20}\n",
    "\n",
    "_ = df_train_con.plot(kind='box', subplots=True, figsize=(20, 8), layout=(1,2), fontsize = 20,\n",
    "                      medianprops=medianprops, boxprops=boxprops, whiskerprops=whiskerprops,\n",
    "                      capprops=capprops, flierprops=flierprops);\n",
    "_ = plt.tight_layout();\n",
    "_ = plt.show();\n"
   ]
  },
  {
   "cell_type": "markdown",
   "metadata": {
    "pycharm": {
     "name": "#%% md\n"
    }
   },
   "source": [
    "The distributions of the <i>fare</i> and <i>age</i> variables show that fare is skewed heavily to\n",
    " the right, with the median skewed to the left of the distribution as expected. The values in the\n",
    "  final quintile are spread over wide area with quite a few outliers. This distribution is heavy\n",
    "  tailed, as can be expected of many financial distributions. We observe that there are zero\n",
    "  values, and there is a large peak in the bin containing zero. We will need to investigate this\n",
    "  group of travellers as they could be different from the general population. The heavy tail and\n",
    "  many outliers are also good candidates for further processing.\n",
    "\n",
    "The <i>age</i> distribution is fairly symmetrical, with a few outliers to the right, but nothing\n",
    "out of the ordinary. Most of the values are bundled symmetrically around the median of 28, which\n",
    "is quite a young age for the average traveller. The large spike in ages at this interval is also\n",
    "concerning and seems out of place. This will need to be further investigated."
   ]
  },
  {
   "cell_type": "markdown",
   "source": [
    "### Correlation Analysis"
   ],
   "metadata": {
    "collapsed": false,
    "pycharm": {
     "name": "#%% md\n"
    }
   }
  },
  {
   "cell_type": "markdown",
   "source": [
    "At this point we have learnt the following about the data:\n",
    "\n",
    "- Ascertained best missing value strategy based on data characteristics:\n",
    "    - Use KNN imputation for age variable due to strong correlation between missing age\n",
    "    variables and outcome variable.\n",
    "    - Use median and mode substitution for remaining missing values, as there are few\n",
    "    missing values and more complicated methods are hence not warranted.\n",
    "    - Missing values in cabin have to be assessed given a transformation to the variable\n",
    "    which we must still decide on.\n",
    "- Analysis to date (Decision Tree feature strength) and the fact that a gender only model has\n",
    " an accuracy of 77% has shown that gender is very strongly correlated with survival rate.\n",
    "- There are many other data elements correlated with survival rate as well as with each other.\n",
    "- The majority of variables are categorical.\n",
    "- The best performing models are those that have been adjusted for overfitting e.g. MLP\n",
    "models with regularisation parameters. Given the small dataset, many correlated variables\n",
    "and overpowering effect of a few strongly correlated variables the models created to date\n",
    "are very prone to overfitting.\n",
    "\n",
    "The next step in our analysis is to better understand correlation with the response as well\n",
    "as between feature variables. This analysis will enable to decide how to best engineer\n",
    "better features that capture the correlation without overfitting. The problem we face is\n",
    "that the strong correlation between gender and survival is in effect eclipsing all other\n",
    "correlations and hence reducing their effect. We need to find a way to combine variables to\n",
    "create a more balanced representation of the correlations.\n",
    "\n",
    "As we have a binary response variable, Pearson's Correlation will be of no use here as it\n",
    "assumes a normal distribution and Homoscedasticity which is clearly not the case (I have\n",
    "noticed that many of the Titanic analyses here on Kaggle use Pearson's correlation heatmap\n",
    "as implemented by the Pandas <i>corr()</i> function, which has no value or relevance in this\n",
    "setting).\n",
    "\n",
    "We will perform correlation analysis as follows:\n",
    "\n",
    "- Univariate Logistic Regression to measure correlation between categorical response and\n",
    "continuous feature variables (age, fare)\n",
    "- Chi-Squared test for association for correlation between categorical response and\n",
    "categorical feature variables (ticket class, ticket number, # siblings, # parents, fare, cabin\n",
    "number, port of embarkation).\n",
    "\n",
    "We start by first performing some transformations on our dataset to get the data into a\n",
    "format enabling further analysis e.g. encode categorical variables for numeric analysis."
   ],
   "metadata": {
    "collapsed": false,
    "pycharm": {
     "name": "#%% md\n"
    }
   }
  },
  {
   "cell_type": "code",
   "execution_count": 110,
   "outputs": [],
   "source": [
    "# We will now transform some variables by grouping categories together based on our EDA\n",
    "# analysis. We also encode categorical variables to numeric values in order to do the ML\n",
    "# analysis.\n",
    "# These transformations would not result in data leakage, and can hence be done before we\n",
    "# split the data into training and testing sets.\n",
    "\n",
    "# Make a copy of original dataset before imputation - we need the original for further\n",
    "# analysis.\n",
    "df_train_trans = df_train.copy()\n",
    "df_test_trans = df_test.copy()\n",
    "\n",
    "# Creating Deck field from the first letter of the cabin field (we create a new category for\n",
    "# missing, which is called M). As this is a categorical variable we will leave the missing\n",
    "# value field as is.\n",
    "df_train_trans['deck'] = df_train_trans['cabin'].apply(lambda s: s[0] if pd.notnull(s) else 'M')\n",
    "df_test_trans['deck'] = df_test_trans['cabin'].apply(lambda s: s[0] if pd.notnull(s) else 'M')"
   ],
   "metadata": {
    "collapsed": false,
    "pycharm": {
     "name": "#%%\n"
    }
   }
  },
  {
   "cell_type": "code",
   "execution_count": 111,
   "outputs": [
    {
     "data": {
      "text/plain": "M    687\nC     59\nB     47\nD     33\nE     32\nA     15\nF     13\nG      4\nT      1\nName: deck, dtype: int64"
     },
     "execution_count": 111,
     "metadata": {},
     "output_type": "execute_result"
    }
   ],
   "source": [
    "df_train_trans['deck'].value_counts()\n"
   ],
   "metadata": {
    "collapsed": false,
    "pycharm": {
     "name": "#%%\n"
    }
   }
  },
  {
   "cell_type": "code",
   "execution_count": 118,
   "outputs": [],
   "source": [
    "# There is only one passenger on deck T and the test set has no values for deck T.\n",
    "# The closest category is deck 'A' (checking on deck arrangements image found via Google), so\n",
    "# we change all occurrences of T to A.\n",
    "idx = df_train_trans[df_train_trans['deck'] == 'T'].index\n",
    "df_train_trans.loc[idx, 'deck'] = 'ABC'\n",
    "\n",
    "# Some of the classes have very few values, we group adjacent classes together.\n",
    "df_train_trans['deck'] = df_train_trans['deck'].replace(['A', 'B'], 'ABC')\n",
    "df_train_trans['deck'] = df_train_trans['deck'].replace(['D', 'E'], 'DE')\n",
    "df_train_trans['deck'] = df_train_trans['deck'].replace(['F', 'G'], 'FG')\n",
    "\n",
    "df_test_trans['deck'] = df_test_trans['deck'].replace(['A', 'B', 'C'], 'ABC')\n",
    "df_test_trans['deck'] = df_test_trans['deck'].replace(['D', 'E'], 'DE')\n",
    "df_test_trans['deck'] = df_test_trans['deck'].replace(['F', 'G'], 'FG')"
   ],
   "metadata": {
    "collapsed": false,
    "pycharm": {
     "name": "#%%\n"
    }
   }
  },
  {
   "cell_type": "code",
   "execution_count": 119,
   "outputs": [
    {
     "data": {
      "text/plain": "M      687\nABC    122\nDE      65\nFG      17\nName: deck, dtype: int64"
     },
     "execution_count": 119,
     "metadata": {},
     "output_type": "execute_result"
    },
    {
     "data": {
      "text/plain": "deck\nABC    0.631148\nDE     0.753846\nFG     0.588235\nM      0.299854\nName: survived, dtype: float64"
     },
     "execution_count": 119,
     "metadata": {},
     "output_type": "execute_result"
    }
   ],
   "source": [
    "df_train_trans['deck'].value_counts()\n",
    "df_train_trans.groupby('deck').survived.mean()"
   ],
   "metadata": {
    "collapsed": false,
    "pycharm": {
     "name": "#%%\n"
    }
   }
  },
  {
   "cell_type": "code",
   "execution_count": 120,
   "outputs": [
    {
     "data": {
      "text/plain": "<Figure size 432x288 with 1 Axes>",
      "image/png": "[encoded data removed]"
     },
     "metadata": {},
     "output_type": "display_data"
    }
   ],
   "source": [
    "_ = plt.title('Survival rate by Deck')\n",
    "ax = sns.barplot(x='deck', y='survived', data=df_train_trans).set_ylabel ('Survival Rate')\n",
    "_ = plt.xlabel('Deck')\n"
   ],
   "metadata": {
    "collapsed": false,
    "pycharm": {
     "name": "#%%\n"
    }
   }
  },
  {
   "cell_type": "markdown",
   "source": [
    "Not a great split, most of the value comes from the missing value category. For now will do,\n",
    " but have to investigate this more."
   ],
   "metadata": {
    "collapsed": false,
    "pycharm": {
     "name": "#%% md\n"
    }
   }
  },
  {
   "cell_type": "code",
   "execution_count": 121,
   "outputs": [],
   "source": [
    "# Next we extract the title variable from the name field\n",
    "df_train_trans['title'] = df_train_trans['name'].str.split(', ', expand=True)[1].str.split('.',\n",
    "                                                                            expand=True)[0]\n",
    "# Next we extract the title variable from the name field\n",
    "df_test_trans['title'] = df_test_trans['name'].str.split(', ', expand=True)[1].str.split('.',\n",
    "                                                                            expand=True)[0]\n"
   ],
   "metadata": {
    "collapsed": false,
    "pycharm": {
     "name": "#%%\n"
    }
   }
  },
  {
   "cell_type": "code",
   "execution_count": 122,
   "outputs": [
    {
     "data": {
      "text/plain": "Mr              517\nMiss            182\nMrs             125\nMaster           40\nDr                7\nRev               6\nMajor             2\nMlle              2\nCol               2\nLady              1\nJonkheer          1\nMs                1\nMme               1\nCapt              1\nDon               1\nSir               1\nthe Countess      1\nName: title, dtype: int64"
     },
     "execution_count": 122,
     "metadata": {},
     "output_type": "execute_result"
    }
   ],
   "source": [
    "df_train_trans['title'].value_counts()\n"
   ],
   "metadata": {
    "collapsed": false,
    "pycharm": {
     "name": "#%%\n"
    }
   }
  },
  {
   "cell_type": "code",
   "execution_count": 123,
   "outputs": [],
   "source": [
    "df_train_trans['title'].replace(['Mme', 'Ms', 'Lady', 'Mlle', 'the Countess', 'Dona'], 'Miss', inplace=True)\n",
    "df_test_trans['title'].replace(['Mme', 'Ms', 'Lady', 'Mlle', 'the Countess', 'Dona'], 'Miss', inplace=True)\n",
    "\n",
    "df_train_trans['title'].replace(['Major', 'Col', 'Capt', 'Don', 'Sir', 'Jonkheer', 'Rev',\n",
    "                                 'Dr'], 'Mr', inplace=True)\n",
    "df_test_trans['title'].replace(['Major', 'Col', 'Capt', 'Don', 'Sir', 'Jonkheer', 'Rev',\n",
    "                                'Dr'], 'Mr', inplace=True)\n"
   ],
   "metadata": {
    "collapsed": false,
    "pycharm": {
     "name": "#%%\n"
    }
   }
  },
  {
   "cell_type": "code",
   "execution_count": 124,
   "outputs": [
    {
     "data": {
      "text/plain": "Mr        538\nMiss      188\nMrs       125\nMaster     40\nName: title, dtype: int64"
     },
     "execution_count": 124,
     "metadata": {},
     "output_type": "execute_result"
    },
    {
     "data": {
      "text/plain": "title\nMaster    0.575000\nMiss      0.707447\nMr        0.161710\nMrs       0.792000\nName: survived, dtype: float64"
     },
     "execution_count": 124,
     "metadata": {},
     "output_type": "execute_result"
    }
   ],
   "source": [
    "df_train_trans['title'].value_counts()\n",
    "df_train_trans.groupby('title').survived.mean()"
   ],
   "metadata": {
    "collapsed": false,
    "pycharm": {
     "name": "#%%\n"
    }
   }
  },
  {
   "cell_type": "code",
   "execution_count": 125,
   "outputs": [
    {
     "data": {
      "text/plain": "<Figure size 432x288 with 1 Axes>",
      "image/png": "[encoded data removed]"
     },
     "metadata": {},
     "output_type": "display_data"
    }
   ],
   "source": [
    "_ = plt.title('Survival rate by Title')\n",
    "ax = sns.barplot(x='title', y='survived', data=df_train_trans).set_ylabel ('Survival Rate')\n",
    "_ = plt.xlabel('Title')"
   ],
   "metadata": {
    "collapsed": false,
    "pycharm": {
     "name": "#%%\n"
    }
   }
  },
  {
   "cell_type": "code",
   "execution_count": 39,
   "outputs": [
    {
     "data": {
      "text/plain": "               survived                                               name  \\\npassenger_num                                                                \n0                     0                            Braund, Mr. Owen Harris   \n1                     1  Cumings, Mrs. John Bradley (Florence Briggs Th...   \n2                     1                             Heikkinen, Miss. Laina   \n3                     1       Futrelle, Mrs. Jacques Heath (Lily May Peel)   \n4                     0                           Allen, Mr. William Henry   \n\n               sex   age  sib_sp  parch            ticket     fare cabin  \\\npassenger_num                                                              \n0                0  22.0       1      0         A/5 21171   7.2500   NaN   \n1                1  38.0       1      0          PC 17599  71.2833   C85   \n2                1  26.0       0      0  STON/O2. 3101282   7.9250   NaN   \n3                1  35.0       1      0            113803  53.1000  C123   \n4                0  35.0       0      0            373450   8.0500   NaN   \n\n               age_missing  ...  embarked_S  deck_DE  deck_FG  deck_M  \\\npassenger_num               ...                                         \n0                        0  ...           1        0        0       1   \n1                        0  ...           0        0        0       0   \n2                        0  ...           1        0        0       1   \n3                        0  ...           1        0        0       0   \n4                        0  ...           1        0        0       1   \n\n               title_Miss  title_Mr  title_Mrs  p_class_2  p_class_3  \\\npassenger_num                                                          \n0                       0         1          0          0          1   \n1                       0         0          1          0          0   \n2                       1         0          0          0          1   \n3                       0         0          1          0          0   \n4                       0         1          0          0          1   \n\n               ticket_freq  \npassenger_num               \n0                        1  \n1                        1  \n2                        1  \n3                        2  \n4                        1  \n\n[5 rows x 21 columns]",
      "text/html": "<div>\n<style scoped>\n    .dataframe tbody tr th:only-of-type {\n        vertical-align: middle;\n    }\n\n    .dataframe tbody tr th {\n        vertical-align: top;\n    }\n\n    .dataframe thead th {\n        text-align: right;\n    }\n</style>\n<table border=\"1\" class=\"dataframe\">\n  <thead>\n    <tr style=\"text-align: right;\">\n      <th></th>\n      <th>survived</th>\n      <th>name</th>\n      <th>sex</th>\n      <th>age</th>\n      <th>sib_sp</th>\n      <th>parch</th>\n      <th>ticket</th>\n      <th>fare</th>\n      <th>cabin</th>\n      <th>age_missing</th>\n      <th>...</th>\n      <th>embarked_S</th>\n      <th>deck_DE</th>\n      <th>deck_FG</th>\n      <th>deck_M</th>\n      <th>title_Miss</th>\n      <th>title_Mr</th>\n      <th>title_Mrs</th>\n      <th>p_class_2</th>\n      <th>p_class_3</th>\n      <th>ticket_freq</th>\n    </tr>\n    <tr>\n      <th>passenger_num</th>\n      <th></th>\n      <th></th>\n      <th></th>\n      <th></th>\n      <th></th>\n      <th></th>\n      <th></th>\n      <th></th>\n      <th></th>\n      <th></th>\n      <th></th>\n      <th></th>\n      <th></th>\n      <th></th>\n      <th></th>\n      <th></th>\n      <th></th>\n      <th></th>\n      <th></th>\n      <th></th>\n      <th></th>\n    </tr>\n  </thead>\n  <tbody>\n    <tr>\n      <th>0</th>\n      <td>0</td>\n      <td>Braund, Mr. Owen Harris</td>\n      <td>0</td>\n      <td>22.0</td>\n      <td>1</td>\n      <td>0</td>\n      <td>A/5 21171</td>\n      <td>7.2500</td>\n      <td>NaN</td>\n      <td>0</td>\n      <td>...</td>\n      <td>1</td>\n      <td>0</td>\n      <td>0</td>\n      <td>1</td>\n      <td>0</td>\n      <td>1</td>\n      <td>0</td>\n      <td>0</td>\n      <td>1</td>\n      <td>1</td>\n    </tr>\n    <tr>\n      <th>1</th>\n      <td>1</td>\n      <td>Cumings, Mrs. John Bradley (Florence Briggs Th...</td>\n      <td>1</td>\n      <td>38.0</td>\n      <td>1</td>\n      <td>0</td>\n      <td>PC 17599</td>\n      <td>71.2833</td>\n      <td>C85</td>\n      <td>0</td>\n      <td>...</td>\n      <td>0</td>\n      <td>0</td>\n      <td>0</td>\n      <td>0</td>\n      <td>0</td>\n      <td>0</td>\n      <td>1</td>\n      <td>0</td>\n      <td>0</td>\n      <td>1</td>\n    </tr>\n    <tr>\n      <th>2</th>\n      <td>1</td>\n      <td>Heikkinen, Miss. Laina</td>\n      <td>1</td>\n      <td>26.0</td>\n      <td>0</td>\n      <td>0</td>\n      <td>STON/O2. 3101282</td>\n      <td>7.9250</td>\n      <td>NaN</td>\n      <td>0</td>\n      <td>...</td>\n      <td>1</td>\n      <td>0</td>\n      <td>0</td>\n      <td>1</td>\n      <td>1</td>\n      <td>0</td>\n      <td>0</td>\n      <td>0</td>\n      <td>1</td>\n      <td>1</td>\n    </tr>\n    <tr>\n      <th>3</th>\n      <td>1</td>\n      <td>Futrelle, Mrs. Jacques Heath (Lily May Peel)</td>\n      <td>1</td>\n      <td>35.0</td>\n      <td>1</td>\n      <td>0</td>\n      <td>113803</td>\n      <td>53.1000</td>\n      <td>C123</td>\n      <td>0</td>\n      <td>...</td>\n      <td>1</td>\n      <td>0</td>\n      <td>0</td>\n      <td>0</td>\n      <td>0</td>\n      <td>0</td>\n      <td>1</td>\n      <td>0</td>\n      <td>0</td>\n      <td>2</td>\n    </tr>\n    <tr>\n      <th>4</th>\n      <td>0</td>\n      <td>Allen, Mr. William Henry</td>\n      <td>0</td>\n      <td>35.0</td>\n      <td>0</td>\n      <td>0</td>\n      <td>373450</td>\n      <td>8.0500</td>\n      <td>NaN</td>\n      <td>0</td>\n      <td>...</td>\n      <td>1</td>\n      <td>0</td>\n      <td>0</td>\n      <td>1</td>\n      <td>0</td>\n      <td>1</td>\n      <td>0</td>\n      <td>0</td>\n      <td>1</td>\n      <td>1</td>\n    </tr>\n  </tbody>\n</table>\n<p>5 rows × 21 columns</p>\n</div>"
     },
     "execution_count": 39,
     "metadata": {},
     "output_type": "execute_result"
    }
   ],
   "source": [
    "#df_train_trans['title'] = df_train_trans['title'].replace(['Miss', 'Mrs',\n",
    "#                  'Ms', 'Mlle', 'Lady', 'Mme', 'the Countess', 'Dona'], 'female')\n",
    "#df_train_trans['title'] = df_train_trans['title'].replace(['Dr', 'Col',\n",
    "#                  'Major', 'Jonkheer', 'Capt', 'Sir', 'Don', 'Rev'], 'titled_male')\n",
    "\n",
    "# Debugging. TODO: Remove\n",
    "#df_test_trans['deck'].value_counts()\n",
    "#df_train_trans['deck'].value_counts()\n",
    "\n",
    "\n",
    "\n",
    "#df_test_trans['title'] = df_test_trans['title'].replace(['Miss', 'Mrs',\n",
    "#                  'Ms', 'Mlle', 'Lady', 'Mme', 'the Countess', 'Dona'], 'female')\n",
    "#df_test_trans['title'] = df_test_trans['title'].replace(['Dr', 'Col',\n",
    "#                  'Major', 'Jonkheer', 'Capt', 'Sir', 'Don', 'Rev'], 'titled_male')\n",
    "\n",
    "# Transform sex variable - don't need one hot encoding as variable is binary\n",
    "df_train_trans['sex'] = df_train_trans['sex'].apply(lambda x: 1 if x == 'female' else 0)\n",
    "\n",
    "# Same transformation for test set - don't need one hot encoding as variable is binary\n",
    "df_test_trans['sex'] = df_test_trans['sex'].apply(lambda x: 1 if x == 'female' else 0)\n",
    "\n",
    "# Replace embarked with mode training set - no values missing in test set, so not required\n",
    "# to further impute. Some leakage takes place here, but only one value so not important -\n",
    "# TODO: fix this, just as a matter of principle.\n",
    "train_emb_mode = df_train_trans['embarked'].mode()\n",
    "df_train_trans['embarked'].fillna(train_emb_mode.iloc[0], inplace=True)\n",
    "\n",
    "\n",
    "# Transform embarked and deck variables for training set\n",
    "categorical_cols = ['embarked', 'deck', 'title', 'p_class']\n",
    "df_train_trans = pd.get_dummies(df_train_trans, columns = categorical_cols, drop_first=True)\n",
    "#df_train_trans.head()\n",
    "\n",
    "# Transform embarked and deck variables for test set\n",
    "df_test_trans = pd.get_dummies(df_test_trans, columns = categorical_cols, drop_first=True)\n",
    "#df_test_trans.head()\n",
    "\n",
    "df_train_trans['ticket_freq'] = df_train_trans.groupby('ticket')['ticket'].transform('count')\n",
    "df_test_trans['ticket_freq'] = df_train_trans.groupby('ticket')['ticket'].transform('count')\n",
    "\n",
    "#df_train_trans.head()\n",
    "\n",
    "# And now we drop the name and ticket fields\n",
    "#df_train_trans = df_train_trans.loc[:,['survived', 'sex', 'age', 'sib_sp', 'parch',\n",
    "#'ticket_freq', 'fare', 'p_class_2', 'p_class_3', 'title_titled_male', 'title_female',\n",
    "#'title_Mr', 'embarked_Q', 'embarked_S', 'deck_DE', 'deck_FG', 'deck_M']]\n",
    "\n",
    "# And now we drop the name, cabin and ticket fields\n",
    "#df_test_trans = df_test_trans.loc[:,['sex', 'age', 'sib_sp', 'parch',\n",
    "#'ticket_freq', 'fare', 'p_class_2', 'p_class_3', 'title_titled_male', 'title_female',\n",
    "#'title_Mr', 'embarked_Q', 'embarked_S', 'deck_DE', 'deck_FG', 'deck_M']]\n",
    "\n",
    "# Drop cabin field as we have transformed to deck.\n",
    "#df_train_trans = df_train_trans.loc[:,['survived', 'p_class', 'name', 'sex',\n",
    "# 'age', 'sib_sp', 'parch', 'ticket', 'fare', 'embarked', 'deck']]\n",
    "\n",
    "df_train_trans.head()\n",
    "\n",
    "\n",
    "\n",
    "\n",
    "\n",
    "\n",
    "\n",
    "\n",
    "\n",
    "\n",
    "\n"
   ],
   "metadata": {
    "collapsed": false,
    "pycharm": {
     "name": "#%%\n"
    }
   }
  },
  {
   "cell_type": "code",
   "execution_count": 40,
   "outputs": [],
   "source": [
    "# Update dataframe fieldname values\n",
    "names_con = ('fare', 'age')\n",
    "names_con_plot = ('survived', 'fare', 'age')\n",
    "names_cat = ('sex', 'sib_sp', 'parch', 'ticket_freq', 'p_class_2', 'p_class_3',\n",
    "'title_titled_male', 'title_female', 'title_Mr', 'embarked_Q', 'embarked_S', 'deck_DE',\n",
    "'deck_FG', 'deck_M')\n",
    "names_cat_plot = ('survived', 'sex', 'sib_sp', 'parch', 'ticket_freq', 'p_class_2', 'p_class_3',\n",
    "'title_titled_male', 'title_female', 'title_Mr', 'embarked_Q', 'embarked_S', 'deck_DE',\n",
    "'deck_FG', 'deck_M')\n",
    "\n",
    "names_all = ('sex', 'sib_sp', 'parch', 'ticket_freq', 'p_class_2', 'p_class_3',\n",
    "'title_titled_male', 'title_female', 'title_Mr', 'embarked_Q', 'embarked_S', 'deck_DE',\n",
    "'deck_FG', 'deck_M', 'fare', 'age')"
   ],
   "metadata": {
    "collapsed": false,
    "pycharm": {
     "name": "#%%\n"
    }
   }
  },
  {
   "cell_type": "markdown",
   "source": [
    "Next we run a uni-variate Logistic regression for each categorical variable on its own and\n",
    "record the accuracy scores obtained."
   ],
   "metadata": {
    "collapsed": false,
    "pycharm": {
     "name": "#%% md\n"
    }
   }
  },
  {
   "cell_type": "code",
   "execution_count": 41,
   "outputs": [
    {
     "ename": "KeyError",
     "evalue": "\"Passing list-likes to .loc or [] with any missing labels is no longer supported. The following labels were missing: Index(['title_titled_male', 'title_female'], dtype='object'). See https://pandas.pydata.org/pandas-docs/stable/user_guide/indexing.html#deprecate-loc-reindex-listlike\"",
     "output_type": "error",
     "traceback": [
      "\u001B[1;31m---------------------------------------------------------------------------\u001B[0m",
      "\u001B[1;31mKeyError\u001B[0m                                  Traceback (most recent call last)",
      "\u001B[1;32m<ipython-input-41-7b86c813d843>\u001B[0m in \u001B[0;36m<module>\u001B[1;34m\u001B[0m\n\u001B[1;32m----> 1\u001B[1;33m \u001B[0mX_train\u001B[0m \u001B[1;33m=\u001B[0m \u001B[0mdf_train_trans\u001B[0m\u001B[1;33m.\u001B[0m\u001B[0mloc\u001B[0m\u001B[1;33m[\u001B[0m\u001B[1;33m:\u001B[0m\u001B[1;33m,\u001B[0m \u001B[0mnames_cat\u001B[0m\u001B[1;33m]\u001B[0m\u001B[1;33m\u001B[0m\u001B[1;33m\u001B[0m\u001B[0m\n\u001B[0m\u001B[0;32m      2\u001B[0m \u001B[0my_train\u001B[0m \u001B[1;33m=\u001B[0m \u001B[0mdf_train_trans\u001B[0m\u001B[1;33m.\u001B[0m\u001B[0mloc\u001B[0m\u001B[1;33m[\u001B[0m\u001B[1;33m:\u001B[0m\u001B[1;33m,\u001B[0m \u001B[1;34m\"survived\"\u001B[0m\u001B[1;33m]\u001B[0m\u001B[1;33m\u001B[0m\u001B[1;33m\u001B[0m\u001B[0m\n\u001B[0;32m      3\u001B[0m \u001B[1;33m\u001B[0m\u001B[0m\n\u001B[0;32m      4\u001B[0m \u001B[0mlogval\u001B[0m \u001B[1;33m=\u001B[0m \u001B[0mLogisticRegression\u001B[0m\u001B[1;33m(\u001B[0m\u001B[0mfit_intercept\u001B[0m \u001B[1;33m=\u001B[0m \u001B[1;32mFalse\u001B[0m\u001B[1;33m)\u001B[0m\u001B[1;33m\u001B[0m\u001B[1;33m\u001B[0m\u001B[0m\n\u001B[0;32m      5\u001B[0m \u001B[1;33m\u001B[0m\u001B[0m\n",
      "\u001B[1;32m~\\AppData\\Local\\Programs\\Python\\Python38\\Lib\\site-packages\\pandas\\core\\indexing.py\u001B[0m in \u001B[0;36m__getitem__\u001B[1;34m(self, key)\u001B[0m\n\u001B[0;32m    871\u001B[0m                     \u001B[1;31m# AttributeError for IntervalTree get_value\u001B[0m\u001B[1;33m\u001B[0m\u001B[1;33m\u001B[0m\u001B[1;33m\u001B[0m\u001B[0m\n\u001B[0;32m    872\u001B[0m                     \u001B[1;32mpass\u001B[0m\u001B[1;33m\u001B[0m\u001B[1;33m\u001B[0m\u001B[0m\n\u001B[1;32m--> 873\u001B[1;33m             \u001B[1;32mreturn\u001B[0m \u001B[0mself\u001B[0m\u001B[1;33m.\u001B[0m\u001B[0m_getitem_tuple\u001B[0m\u001B[1;33m(\u001B[0m\u001B[0mkey\u001B[0m\u001B[1;33m)\u001B[0m\u001B[1;33m\u001B[0m\u001B[1;33m\u001B[0m\u001B[0m\n\u001B[0m\u001B[0;32m    874\u001B[0m         \u001B[1;32melse\u001B[0m\u001B[1;33m:\u001B[0m\u001B[1;33m\u001B[0m\u001B[1;33m\u001B[0m\u001B[0m\n\u001B[0;32m    875\u001B[0m             \u001B[1;31m# we by definition only have the 0th axis\u001B[0m\u001B[1;33m\u001B[0m\u001B[1;33m\u001B[0m\u001B[1;33m\u001B[0m\u001B[0m\n",
      "\u001B[1;32m~\\AppData\\Local\\Programs\\Python\\Python38\\Lib\\site-packages\\pandas\\core\\indexing.py\u001B[0m in \u001B[0;36m_getitem_tuple\u001B[1;34m(self, tup)\u001B[0m\n\u001B[0;32m   1053\u001B[0m             \u001B[1;32mreturn\u001B[0m \u001B[0mself\u001B[0m\u001B[1;33m.\u001B[0m\u001B[0m_multi_take\u001B[0m\u001B[1;33m(\u001B[0m\u001B[0mtup\u001B[0m\u001B[1;33m)\u001B[0m\u001B[1;33m\u001B[0m\u001B[1;33m\u001B[0m\u001B[0m\n\u001B[0;32m   1054\u001B[0m \u001B[1;33m\u001B[0m\u001B[0m\n\u001B[1;32m-> 1055\u001B[1;33m         \u001B[1;32mreturn\u001B[0m \u001B[0mself\u001B[0m\u001B[1;33m.\u001B[0m\u001B[0m_getitem_tuple_same_dim\u001B[0m\u001B[1;33m(\u001B[0m\u001B[0mtup\u001B[0m\u001B[1;33m)\u001B[0m\u001B[1;33m\u001B[0m\u001B[1;33m\u001B[0m\u001B[0m\n\u001B[0m\u001B[0;32m   1056\u001B[0m \u001B[1;33m\u001B[0m\u001B[0m\n\u001B[0;32m   1057\u001B[0m     \u001B[1;32mdef\u001B[0m \u001B[0m_get_label\u001B[0m\u001B[1;33m(\u001B[0m\u001B[0mself\u001B[0m\u001B[1;33m,\u001B[0m \u001B[0mlabel\u001B[0m\u001B[1;33m,\u001B[0m \u001B[0maxis\u001B[0m\u001B[1;33m:\u001B[0m \u001B[0mint\u001B[0m\u001B[1;33m)\u001B[0m\u001B[1;33m:\u001B[0m\u001B[1;33m\u001B[0m\u001B[1;33m\u001B[0m\u001B[0m\n",
      "\u001B[1;32m~\\AppData\\Local\\Programs\\Python\\Python38\\Lib\\site-packages\\pandas\\core\\indexing.py\u001B[0m in \u001B[0;36m_getitem_tuple_same_dim\u001B[1;34m(self, tup)\u001B[0m\n\u001B[0;32m    748\u001B[0m                 \u001B[1;32mcontinue\u001B[0m\u001B[1;33m\u001B[0m\u001B[1;33m\u001B[0m\u001B[0m\n\u001B[0;32m    749\u001B[0m \u001B[1;33m\u001B[0m\u001B[0m\n\u001B[1;32m--> 750\u001B[1;33m             \u001B[0mretval\u001B[0m \u001B[1;33m=\u001B[0m \u001B[0mgetattr\u001B[0m\u001B[1;33m(\u001B[0m\u001B[0mretval\u001B[0m\u001B[1;33m,\u001B[0m \u001B[0mself\u001B[0m\u001B[1;33m.\u001B[0m\u001B[0mname\u001B[0m\u001B[1;33m)\u001B[0m\u001B[1;33m.\u001B[0m\u001B[0m_getitem_axis\u001B[0m\u001B[1;33m(\u001B[0m\u001B[0mkey\u001B[0m\u001B[1;33m,\u001B[0m \u001B[0maxis\u001B[0m\u001B[1;33m=\u001B[0m\u001B[0mi\u001B[0m\u001B[1;33m)\u001B[0m\u001B[1;33m\u001B[0m\u001B[1;33m\u001B[0m\u001B[0m\n\u001B[0m\u001B[0;32m    751\u001B[0m             \u001B[1;31m# We should never have retval.ndim < self.ndim, as that should\u001B[0m\u001B[1;33m\u001B[0m\u001B[1;33m\u001B[0m\u001B[1;33m\u001B[0m\u001B[0m\n\u001B[0;32m    752\u001B[0m             \u001B[1;31m#  be handled by the _getitem_lowerdim call above.\u001B[0m\u001B[1;33m\u001B[0m\u001B[1;33m\u001B[0m\u001B[1;33m\u001B[0m\u001B[0m\n",
      "\u001B[1;32m~\\AppData\\Local\\Programs\\Python\\Python38\\Lib\\site-packages\\pandas\\core\\indexing.py\u001B[0m in \u001B[0;36m_getitem_axis\u001B[1;34m(self, key, axis)\u001B[0m\n\u001B[0;32m   1097\u001B[0m                     \u001B[1;32mraise\u001B[0m \u001B[0mValueError\u001B[0m\u001B[1;33m(\u001B[0m\u001B[1;34m\"Cannot index with multidimensional key\"\u001B[0m\u001B[1;33m)\u001B[0m\u001B[1;33m\u001B[0m\u001B[1;33m\u001B[0m\u001B[0m\n\u001B[0;32m   1098\u001B[0m \u001B[1;33m\u001B[0m\u001B[0m\n\u001B[1;32m-> 1099\u001B[1;33m                 \u001B[1;32mreturn\u001B[0m \u001B[0mself\u001B[0m\u001B[1;33m.\u001B[0m\u001B[0m_getitem_iterable\u001B[0m\u001B[1;33m(\u001B[0m\u001B[0mkey\u001B[0m\u001B[1;33m,\u001B[0m \u001B[0maxis\u001B[0m\u001B[1;33m=\u001B[0m\u001B[0maxis\u001B[0m\u001B[1;33m)\u001B[0m\u001B[1;33m\u001B[0m\u001B[1;33m\u001B[0m\u001B[0m\n\u001B[0m\u001B[0;32m   1100\u001B[0m \u001B[1;33m\u001B[0m\u001B[0m\n\u001B[0;32m   1101\u001B[0m             \u001B[1;31m# nested tuple slicing\u001B[0m\u001B[1;33m\u001B[0m\u001B[1;33m\u001B[0m\u001B[1;33m\u001B[0m\u001B[0m\n",
      "\u001B[1;32m~\\AppData\\Local\\Programs\\Python\\Python38\\Lib\\site-packages\\pandas\\core\\indexing.py\u001B[0m in \u001B[0;36m_getitem_iterable\u001B[1;34m(self, key, axis)\u001B[0m\n\u001B[0;32m   1035\u001B[0m \u001B[1;33m\u001B[0m\u001B[0m\n\u001B[0;32m   1036\u001B[0m         \u001B[1;31m# A collection of keys\u001B[0m\u001B[1;33m\u001B[0m\u001B[1;33m\u001B[0m\u001B[1;33m\u001B[0m\u001B[0m\n\u001B[1;32m-> 1037\u001B[1;33m         \u001B[0mkeyarr\u001B[0m\u001B[1;33m,\u001B[0m \u001B[0mindexer\u001B[0m \u001B[1;33m=\u001B[0m \u001B[0mself\u001B[0m\u001B[1;33m.\u001B[0m\u001B[0m_get_listlike_indexer\u001B[0m\u001B[1;33m(\u001B[0m\u001B[0mkey\u001B[0m\u001B[1;33m,\u001B[0m \u001B[0maxis\u001B[0m\u001B[1;33m,\u001B[0m \u001B[0mraise_missing\u001B[0m\u001B[1;33m=\u001B[0m\u001B[1;32mFalse\u001B[0m\u001B[1;33m)\u001B[0m\u001B[1;33m\u001B[0m\u001B[1;33m\u001B[0m\u001B[0m\n\u001B[0m\u001B[0;32m   1038\u001B[0m         return self.obj._reindex_with_indexers(\n\u001B[0;32m   1039\u001B[0m             \u001B[1;33m{\u001B[0m\u001B[0maxis\u001B[0m\u001B[1;33m:\u001B[0m \u001B[1;33m[\u001B[0m\u001B[0mkeyarr\u001B[0m\u001B[1;33m,\u001B[0m \u001B[0mindexer\u001B[0m\u001B[1;33m]\u001B[0m\u001B[1;33m}\u001B[0m\u001B[1;33m,\u001B[0m \u001B[0mcopy\u001B[0m\u001B[1;33m=\u001B[0m\u001B[1;32mTrue\u001B[0m\u001B[1;33m,\u001B[0m \u001B[0mallow_dups\u001B[0m\u001B[1;33m=\u001B[0m\u001B[1;32mTrue\u001B[0m\u001B[1;33m\u001B[0m\u001B[1;33m\u001B[0m\u001B[0m\n",
      "\u001B[1;32m~\\AppData\\Local\\Programs\\Python\\Python38\\Lib\\site-packages\\pandas\\core\\indexing.py\u001B[0m in \u001B[0;36m_get_listlike_indexer\u001B[1;34m(self, key, axis, raise_missing)\u001B[0m\n\u001B[0;32m   1252\u001B[0m             \u001B[0mkeyarr\u001B[0m\u001B[1;33m,\u001B[0m \u001B[0mindexer\u001B[0m\u001B[1;33m,\u001B[0m \u001B[0mnew_indexer\u001B[0m \u001B[1;33m=\u001B[0m \u001B[0max\u001B[0m\u001B[1;33m.\u001B[0m\u001B[0m_reindex_non_unique\u001B[0m\u001B[1;33m(\u001B[0m\u001B[0mkeyarr\u001B[0m\u001B[1;33m)\u001B[0m\u001B[1;33m\u001B[0m\u001B[1;33m\u001B[0m\u001B[0m\n\u001B[0;32m   1253\u001B[0m \u001B[1;33m\u001B[0m\u001B[0m\n\u001B[1;32m-> 1254\u001B[1;33m         \u001B[0mself\u001B[0m\u001B[1;33m.\u001B[0m\u001B[0m_validate_read_indexer\u001B[0m\u001B[1;33m(\u001B[0m\u001B[0mkeyarr\u001B[0m\u001B[1;33m,\u001B[0m \u001B[0mindexer\u001B[0m\u001B[1;33m,\u001B[0m \u001B[0maxis\u001B[0m\u001B[1;33m,\u001B[0m \u001B[0mraise_missing\u001B[0m\u001B[1;33m=\u001B[0m\u001B[0mraise_missing\u001B[0m\u001B[1;33m)\u001B[0m\u001B[1;33m\u001B[0m\u001B[1;33m\u001B[0m\u001B[0m\n\u001B[0m\u001B[0;32m   1255\u001B[0m         \u001B[1;32mreturn\u001B[0m \u001B[0mkeyarr\u001B[0m\u001B[1;33m,\u001B[0m \u001B[0mindexer\u001B[0m\u001B[1;33m\u001B[0m\u001B[1;33m\u001B[0m\u001B[0m\n\u001B[0;32m   1256\u001B[0m \u001B[1;33m\u001B[0m\u001B[0m\n",
      "\u001B[1;32m~\\AppData\\Local\\Programs\\Python\\Python38\\Lib\\site-packages\\pandas\\core\\indexing.py\u001B[0m in \u001B[0;36m_validate_read_indexer\u001B[1;34m(self, key, indexer, axis, raise_missing)\u001B[0m\n\u001B[0;32m   1313\u001B[0m \u001B[1;33m\u001B[0m\u001B[0m\n\u001B[0;32m   1314\u001B[0m                 \u001B[1;32mwith\u001B[0m \u001B[0moption_context\u001B[0m\u001B[1;33m(\u001B[0m\u001B[1;34m\"display.max_seq_items\"\u001B[0m\u001B[1;33m,\u001B[0m \u001B[1;36m10\u001B[0m\u001B[1;33m,\u001B[0m \u001B[1;34m\"display.width\"\u001B[0m\u001B[1;33m,\u001B[0m \u001B[1;36m80\u001B[0m\u001B[1;33m)\u001B[0m\u001B[1;33m:\u001B[0m\u001B[1;33m\u001B[0m\u001B[1;33m\u001B[0m\u001B[0m\n\u001B[1;32m-> 1315\u001B[1;33m                     raise KeyError(\n\u001B[0m\u001B[0;32m   1316\u001B[0m                         \u001B[1;34m\"Passing list-likes to .loc or [] with any missing labels \"\u001B[0m\u001B[1;33m\u001B[0m\u001B[1;33m\u001B[0m\u001B[0m\n\u001B[0;32m   1317\u001B[0m                         \u001B[1;34m\"is no longer supported. \"\u001B[0m\u001B[1;33m\u001B[0m\u001B[1;33m\u001B[0m\u001B[0m\n",
      "\u001B[1;31mKeyError\u001B[0m: \"Passing list-likes to .loc or [] with any missing labels is no longer supported. The following labels were missing: Index(['title_titled_male', 'title_female'], dtype='object'). See https://pandas.pydata.org/pandas-docs/stable/user_guide/indexing.html#deprecate-loc-reindex-listlike\""
     ]
    }
   ],
   "source": [
    "X_train = df_train_trans.loc[:, names_cat]\n",
    "y_train = df_train_trans.loc[:, \"survived\"]\n",
    "\n",
    "logval = LogisticRegression(fit_intercept = False)\n",
    "\n",
    "efs1 = EFS(logval,\n",
    "           min_features=1,\n",
    "           max_features=1,\n",
    "           scoring='accuracy',\n",
    "           print_progress=True,\n",
    "           cv=5)\n",
    "\n",
    "efs1 = efs1.fit(X_train, y_train, custom_feature_names=names_cat)\n",
    "\n",
    "print('Best accuracy score: %.2f' % efs1.best_score_)\n",
    "print('Best subset (indices):', efs1.best_idx_)\n",
    "print('Best subset (corresponding names):', efs1.best_feature_names_)\n",
    "\n",
    "#efs1 = efs1.fit(X, y, custom_feature_names=feature_names)\n",
    "\n",
    "df_efs = pd.DataFrame.from_dict(efs1.get_metric_dict()).T\n",
    "df_efs.sort_values('avg_score', inplace=True, ascending=False)\n",
    "\n",
    "metric_dict = efs1.get_metric_dict()\n",
    "\n",
    "fig = plt.figure()\n",
    "k_feat = sorted(metric_dict.keys())\n",
    "avg = [metric_dict[k]['avg_score'] for k in k_feat]\n",
    "\n",
    "upper, lower = [], []\n",
    "for k in k_feat:\n",
    "    upper.append(metric_dict[k]['avg_score'] +\n",
    "                 metric_dict[k]['std_dev'])\n",
    "    lower.append(metric_dict[k]['avg_score'] -\n",
    "                 metric_dict[k]['std_dev'])\n",
    "\n",
    "plt.fill_between(k_feat,\n",
    "                 upper,\n",
    "                 lower,\n",
    "                 alpha=0.2,\n",
    "                 color='blue',\n",
    "                 lw=1)\n",
    "\n",
    "_ = plt.plot(k_feat, avg, color='blue', marker='o');\n",
    "_ = plt.ylabel('Accuracy +/- Standard Deviation', size = 15)\n",
    "_ = plt.xlabel('Feature', size = 15)\n",
    "feature_min = len(metric_dict[k_feat[0]]['feature_idx'])\n",
    "feature_max = len(metric_dict[k_feat[-1]]['feature_idx'])\n",
    "_ = plt.xticks(k_feat,\n",
    "           [str(metric_dict[k]['feature_names']) for k in k_feat],\n",
    "           rotation=90, size = 15)\n",
    "_ = plt.yticks(size = 15)\n",
    "plt.show();\n",
    "\n",
    "df_efs\n",
    "\n",
    "#eda_all = pd.concat([df_train, df_test], sort=True).reset_index(drop=True)\n",
    "\n",
    "#sns.pairplot(df_train, vars=names_all, hue='survived', plot_kws = {'alpha': 0.6, 's': 40,\n",
    "# 'edgecolor': 'k'}, palette=sns.color_palette(\"hls\", 2), size=8)\n",
    "\n"
   ],
   "metadata": {
    "collapsed": false,
    "pycharm": {
     "name": "#%%\n"
    }
   }
  },
  {
   "cell_type": "markdown",
   "source": [
    "We already knew that gender was going to be the winner here. Again it is useful to reflect\n",
    "on just how strongly this variable is correlated with the outcome. Gender by itself\n",
    "obtaining an accuracy of 79% is noteworthy.\n",
    "\n",
    "Our newly generated title variable does not seem to be adding much to the party here, it\n",
    "comes in second but is likely to contain the same information as gender. We can probably\n",
    "drop this variable, or alternatively attempt to improve gender with information contained in\n",
    " the title variable.\n",
    "\n",
    "All the other variables show strong correlation with the outcome variable. We will have\n",
    " to carefully consider variable interactions to find combinations of some variables\n",
    " that avoid multi-collinearity and hence maximises the signal in the data.\n",
    "\n",
    "Next we will consider correlation between the continuous variables and the response. We have\n",
    "two continuous variables, <i>age</i> and <i>fare</i>."
   ],
   "metadata": {
    "collapsed": false,
    "pycharm": {
     "name": "#%% md\n"
    }
   }
  },
  {
   "cell_type": "code",
   "execution_count": null,
   "outputs": [],
   "source": [
    "X_train = df_train_trans.loc[:, names_con]\n",
    "y_train = df_train_trans.loc[:, \"survived\"]\n",
    "\n",
    "# Replace missing values for continuous variables - else we cannot compute correlation\n",
    "# statistics.\n",
    "\n",
    "# Replace fare in test set with median from train set - to prevent data leakage.\n",
    "median_fare = X_train['fare'].median()\n",
    "X_train['fare'].fillna(median_fare, inplace=True)\n",
    "\n",
    "# Replace missing values for training set\n",
    "#print(\"Number of null values in age column: {}\".format(X_train['age'].isnull().sum()))\n",
    "\n",
    "# Define imputer\n",
    "imputer = KNNImputer()\n",
    "# fit on the dataset\n",
    "_ = imputer.fit(X_train)\n",
    "# transform the dataset\n",
    "X_train_array = imputer.transform(X_train)\n",
    "X_train = pd.DataFrame(X_train_array, columns=names_con)\n",
    "# summarize total missing\n",
    "#print('Missing: %d' % sum(isnan(X_train).flatten()))\n",
    "\n",
    "# Feature extraction set to retain all - we want to see scores for all variables.\n",
    "test = SelectKBest(score_func=f_classif, k='all')\n",
    "fit_kbest = test.fit(X_train, y_train)\n",
    "features_kbest = np.array(names_con)\n",
    "plot_feature_importance(fit = fit_kbest, features = features_kbest)"
   ],
   "metadata": {
    "collapsed": false,
    "pycharm": {
     "name": "#%%\n"
    }
   }
  },
  {
   "cell_type": "markdown",
   "source": [
    "It is clear from the output of the Chi-Squared test that fare has a higher correlation with\n",
    "survival rate than age.\n",
    "\n",
    "In order to see how feature importances amongst all the variables stack up (categorical and\n",
    "continuous) we will now analyse correlation and feature importance by considering the output\n",
    " of a Random Forest model which deals with categorical and continuous variables in the same\n",
    " manner.\n"
   ],
   "metadata": {
    "collapsed": false,
    "pycharm": {
     "name": "#%% md\n"
    }
   }
  },
  {
   "cell_type": "code",
   "execution_count": null,
   "outputs": [],
   "source": [
    "X_train = df_train_trans.loc[:, names_all]\n",
    "y_train = df_train_trans.loc[:, \"survived\"]\n",
    "\n",
    "# Replace fare in test set with median from train set - to prevent data leakage.\n",
    "median_fare = X_train['fare'].median()\n",
    "X_train['fare'].fillna(median_fare, inplace=True)\n",
    "\n",
    "# Replace missing values for training set\n",
    "#print(\"Number of null values in age column: {}\".format(X_train['age'].isnull().sum()))\n",
    "\n",
    "# Define imputer\n",
    "imputer = KNNImputer()\n",
    "# fit on the dataset\n",
    "_ = imputer.fit(X_train)\n",
    "# transform the dataset\n",
    "X_train_array = imputer.transform(X_train)\n",
    "X_train = pd.DataFrame(X_train_array, columns=names_all)\n",
    "# summarize total missing\n",
    "#print('Missing: %d' % sum(isnan(X_train).flatten()))\n",
    "\n",
    "rand_forest = RandomForestClassifier(max_features=0.25, n_estimators=1000, criterion= 'gini',\n",
    "                                     random_state=0)\n",
    "rand_forest.fit(X_train, y_train)"
   ],
   "metadata": {
    "collapsed": false,
    "pycharm": {
     "name": "#%%\n"
    }
   }
  },
  {
   "cell_type": "code",
   "execution_count": null,
   "outputs": [],
   "source": [
    "importances = np.array(rand_forest.feature_importances_)\n",
    "feature_list = np.array(X_train.columns)\n",
    "plot_feature_importance_dec(fit = importances, features = feature_list)"
   ],
   "metadata": {
    "collapsed": false,
    "pycharm": {
     "name": "#%%\n"
    }
   }
  },
  {
   "cell_type": "markdown",
   "source": [
    "This is really interesting. Even though Chi-square ranks fare higher than age in terms of\n",
    "importance, the Random Forest ranks age as the most important feature in this analysis. From\n",
    " this we can deduce that age has significant interactions with other variables that result\n",
    " survival being classified more accurately.\n",
    "\n",
    "We can use this information to engineer more meaningful feature variables.\n",
    "\n",
    "Next we will analyse the results of the actual Decision Tree."
   ],
   "metadata": {
    "collapsed": false,
    "pycharm": {
     "name": "#%% md\n"
    }
   }
  },
  {
   "cell_type": "code",
   "execution_count": null,
   "outputs": [],
   "source": [
    "estimator = rand_forest.estimators_[1]\n",
    "\n",
    "# Show the first few levels of the tree\n",
    "_ = export_graphviz(estimator, out_file='tree.dot',\n",
    "                feature_names = X_train.columns,\n",
    "                max_depth = 6,\n",
    "                class_names = ['Died', 'Survived'],\n",
    "                rounded = True, proportion = True,\n",
    "                label='root',\n",
    "                precision = 2, filled = True);"
   ],
   "metadata": {
    "collapsed": false,
    "pycharm": {
     "name": "#%%\n"
    }
   }
  },
  {
   "cell_type": "code",
   "execution_count": null,
   "outputs": [],
   "source": [
    "_ = call(['dot', '-Tpng', 'tree.dot', '-o', 'tree.png', '-Gdpi=600'])\n",
    "#_ = call(['dot', '-Tsvg', 'tree.dot', '-o tree.svg', 'tree.svg', '-Gdpi=600'])\n",
    "Image(filename = 'tree.png')\n",
    "#plt.show()\n"
   ],
   "metadata": {
    "collapsed": false,
    "pycharm": {
     "name": "#%%\n"
    }
   }
  },
  {
   "cell_type": "markdown",
   "source": [
    "From the Decision Tree output we can observe many interesting variable interactions\n",
    "(combinations of branches that result in clear distinctions of survival or death) such as the\n",
    "following:\n",
    "\n",
    "- gender and age (first 3 levels of splits are mainly on gender and age)\n",
    "- gender and deck\n",
    "- fare and p_class\n",
    "- fare and age\n",
    "- fare and embarked\n",
    "\n",
    "Further investigation is warranted as there are many meaningful interactions. Let us look at a\n",
    "few more graphs illustrating these interactions."
   ],
   "metadata": {
    "collapsed": false,
    "pycharm": {
     "name": "#%% md\n"
    }
   }
  },
  {
   "cell_type": "code",
   "execution_count": null,
   "outputs": [],
   "source": [
    "chivalry = sns.FacetGrid(df_train, col = 'embarked')\n",
    "_ = chivalry.map(sns.pointplot, 'p_class', 'survived', 'sex', ci=95.0, palette = 'deep',\n",
    "                 order = [1,2,3], hue_order = ['male','female'])\n",
    "_ = chivalry.add_legend()\n"
   ],
   "metadata": {
    "collapsed": false,
    "pycharm": {
     "name": "#%%\n"
    }
   }
  },
  {
   "cell_type": "markdown",
   "metadata": {},
   "source": [
    "<div class=\"alert alert-block alert-info\">\n",
    "<b>Transform variables</b>\n",
    "</div>"
   ]
  },
  {
   "cell_type": "markdown",
   "source": [
    "It is clear from all our analyses that there are many categorical variables strongly\n",
    "correlated with survival. It is also clear that there are many strong variable interactions\n",
    "in the data.\n",
    "\n",
    "It therefore makes sense to experiment with binning of the two continuous variables i.e. age\n",
    " and fare and to manually perform some interactions modelling to see if we can obtain more\n",
    " consistent results with our predictive models.\n",
    "\n",
    "We have already looked at the age variable in detail before, let's have another look at the\n",
    "fare variable:"
   ],
   "metadata": {
    "collapsed": false
   }
  },
  {
   "cell_type": "code",
   "execution_count": null,
   "outputs": [],
   "source": [
    "fig_fare, axes = plt.subplots(nrows=1, ncols=1, figsize=(10, 6), squeeze=False)\n",
    "\n",
    "_ = sns.kdeplot(data=df_train_con_plot.loc[(df_train_con_plot['survived'] == 0), 'fare'],\n",
    "                shade = True, label = 'Died')\n",
    "_ = sns.kdeplot(data=df_train_con_plot.loc[(df_train_con_plot['survived'] == 1), 'fare'],\n",
    "                shade = True, label = 'Survived')\n",
    "_ = plt.xlabel('Fare', fontsize=20)\n",
    "_ = plt.ylabel('Density', fontsize=20)\n",
    "_ = plt.xticks(fontsize=20)\n",
    "_ = plt.yticks(fontsize=20)\n",
    "_ = plt.legend(fontsize=15)\n",
    "plt.show()\n"
   ],
   "metadata": {
    "collapsed": false,
    "pycharm": {
     "name": "#%%\n"
    }
   }
  },
  {
   "cell_type": "markdown",
   "metadata": {},
   "source": [
    "We can bin this variable quite easily.\n",
    "\n",
    "As age and fare have missing values, we need to impute this at time of model building to\n",
    "avoid data leakage. We will therefore go ahead with the model building process and bin these\n",
    " variables after missing values have been replaced.\n",
    "\n",
    "We will now build the following models as previously discussed:\n",
    "\n",
    " 1. Logistic regression\n",
    " 2. Multi-layer Perceptron (MLP)\n",
    " 3. Decision Tree\n",
    " 4. Random Forest\n",
    "\n",
    "Our strategy is to build our own <i>validation strategy</i> based on the training set for which\n",
    "we have labels. We will do this by splitting this set into training and testing sets according to\n",
    "a 75%/ 25% split. Any hyper-parameter optimisation will be done by using <i>cross validation</i>\n",
    "on the 75% test set. The 25% testing set will be used for our final test before we apply the\n",
    "results to the provided test set for submission.\n",
    "\n",
    "We therefore now start by splitting the response and features for the training set as previously\n",
    "discussed.\n",
    "\n",
    "We will be using this dataset for all our models from here onwards. We also perform minor\n",
    "transformations such as encoding the <i>sex</i> variable for test and training sets. We also One\n",
    "Hot Encode the <i>embarked</i> variable. We drop one of the categories for embarked to avoid\n",
    "multi-collinearity (dummy variable trap).\n",
    "\n"
   ]
  },
  {
   "cell_type": "code",
   "execution_count": null,
   "metadata": {
    "pycharm": {
     "name": "#%%\n"
    }
   },
   "outputs": [],
   "source": [
    "cols = df_train_trans.columns.to_list()\n",
    "#print(cols)\n",
    "cols.remove('survived')\n",
    "#print(cols)\n",
    "cols_train = cols\n",
    "\n",
    "# Group response values to form binary response\n",
    "y = df_train_trans.loc[:, 'survived']\n",
    "\n",
    "# Split data into features (X) and response (y)\n",
    "X = df_train_trans.loc[:, cols]\n",
    "df_test_trans = df_test_trans.loc[:, cols]\n",
    "\n",
    "# Put the response y into an array\n",
    "y = np.ravel(y)\n"
   ]
  },
  {
   "cell_type": "markdown",
   "metadata": {
    "pycharm": {
     "name": "#%% md\n"
    }
   },
   "source": [
    "#### Split and scale the data"
   ]
  },
  {
   "cell_type": "markdown",
   "metadata": {
    "pycharm": {
     "name": "#%% md\n"
    }
   },
   "source": [
    "We now split the data into training and test sets according to a 75/ 25% split. We then scale the\n",
    " data by using the Standard Scaler to account for the differences between continuous and \n",
    " categorical variable scales of measurement. We will refine this process in our next Notebook. \n",
    " We also scale the final test set provided for submission of our results. "
   ]
  },
  {
   "cell_type": "code",
   "execution_count": null,
   "metadata": {
    "pycharm": {
     "name": "#%%\n"
    }
   },
   "outputs": [],
   "source": [
    "X_train, X_test, y_train, y_test = train_test_split(X, y, random_state=0)\n",
    "#print('Percentage holdout data: {}%'.format(round(100*(len(X_test)/len(X)),0)))\n",
    "names_train = X.columns\n",
    "\n",
    "# Replace fare in test set with median from train set - to prevent data leakage.\n",
    "median_fare = X_train['fare'].median()\n",
    "df_test_trans['fare'].fillna(median_fare, inplace=True)\n",
    "\n",
    "# Replace missing values for training set\n",
    "print(\"Number of null values in age column: {}\".format(X_train['age'].isnull().sum()))\n",
    "\n",
    "# Define imputer\n",
    "imputer = KNNImputer()\n",
    "# fit on the dataset\n",
    "imputer.fit(X_train)\n",
    "# transform the dataset\n",
    "X_train_array = imputer.transform(X_train)\n",
    "# summarize total missing\n",
    "#print('Missing: %d' % sum(isnan(X_train).flatten()))\n",
    "X_train = pd.DataFrame(X_train_array, columns=names_train)\n",
    "\n",
    "\n",
    "X_test_array = imputer.transform(X_test)\n",
    "# summarize total missing\n",
    "#print('Missing: %d' % sum(isnan(X_test).flatten()))\n",
    "X_test = pd.DataFrame(X_test_array, columns=names_train)\n",
    "\n",
    "## Scale data\n",
    "#scaler = StandardScaler()\n",
    "#\n",
    "## Fit on training data set\n",
    "#_ = scaler.fit(X_train)\n",
    "#X_train = scaler.transform(X_train)\n",
    "#\n",
    "## Apply to test data (training)\n",
    "#X_test = scaler.transform(X_test)\n",
    "\n",
    "# Now we fit and transform for the final model.\n",
    "# Fit and apply to the final dataset: TODO: Test whether rebuilding model on complete set\n",
    "#  performs better\n",
    "#imputer.fit(X)\n",
    "X_array = imputer.transform(X)\n",
    "X = pd.DataFrame(X_array, columns=names_train)\n",
    "\n",
    "# summarize total missing\n",
    "#print('Missing: %d' % sum(isnan(X).flatten()))\n",
    "df_test_trans_array = imputer.transform(df_test_trans)\n",
    "# summarize total missing\n",
    "#print('Missing: %d' % sum(isnan(df_test_trans).flatten()))\n",
    "df_test_trans = pd.DataFrame(df_test_trans_array, columns=names_train)"
   ]
  },
  {
   "cell_type": "code",
   "execution_count": null,
   "outputs": [],
   "source": [
    "# Binning fare\n",
    "fare_bins= [0, 8, 15, 30, 100, 300, 520]\n",
    "labels = ['very_low', 'low', 'average', 'above_average', 'high', 'very_high']\n",
    "#df_train['fare_bin'] = pd.cut(df_train['fare'], bins=fare_bins, labels=labels, right=False)\n",
    "#df_train_trans['fare_bin'] = pd.cut(df_train_trans['fare'], bins=fare_bins, labels=labels,\n",
    "#                                    right=False)\n",
    "X_train['fare_bin'] = pd.cut(X_train['fare'], bins=fare_bins, labels=labels, right=False)\n",
    "X_test['fare_bin'] = pd.cut(X_test['fare'], bins=fare_bins, labels=labels,\n",
    "                                    right=False)\n",
    "df_test_trans['fare_bin'] = pd.cut(df_test_trans['fare'], bins=fare_bins, labels=labels,\n",
    "                                   right=False)\n",
    "\n",
    "#Binning age\n",
    "bins= [0, 4, 13, 20, 40, 60, 110]\n",
    "labels = ['infant','child','teen','adult', 'middle_aged', 'elderly']\n",
    "#df_train['age_bin'] = pd.cut(df_train['age'], bins=bins, labels=labels, right=False)\n",
    "#df_train_trans['age_bin'] = pd.cut(df_train_trans['age'], bins=bins, labels=labels, right=False)\n",
    "X_train['age_bin'] = pd.cut(X_train['age'], bins=bins, labels=labels, right=False)\n",
    "X_test['age_bin'] = pd.cut(X_test['age'], bins=bins, labels=labels, right=False)\n",
    "df_test_trans['age_bin'] = pd.cut(df_test_trans['age'], bins=bins, labels=labels, right=False)\n",
    "\n",
    "# Transform embarked and deck variables for training set\n",
    "binning_cols = ['fare_bin', 'age_bin']\n",
    "X_train = pd.get_dummies(X_train, columns = binning_cols, drop_first=True)\n",
    "\n",
    "# Transform embarked and deck variables for training set\n",
    "binning_cols = ['fare_bin', 'age_bin']\n",
    "X_test = pd.get_dummies(X_test, columns = binning_cols, drop_first=True)\n",
    "\n",
    "# Transform embarked and deck variables for test set\n",
    "df_test_trans = pd.get_dummies(df_test_trans, columns = binning_cols, drop_first=True)\n",
    "\n",
    "# And now we drop the name and ticket fields TODO - check why fare_bin_very_low and\n",
    "#  age_bin_infant do not appear in data.\n",
    "X_train = X_train.loc[:,['sex', 'sib_sp', 'parch',\n",
    "'ticket_freq', 'p_class_2', 'p_class_3', 'title_titled_male', 'title_female',\n",
    "'title_Mr', 'embarked_Q', 'embarked_S', 'deck_DE', 'deck_FG', 'deck_M',\n",
    "'fare_bin_low', 'fare_bin_average', 'fare_bin_above_average', 'fare_bin_high',\n",
    "'fare_bin_very_high', 'age_bin_child','age_bin_teen','age_bin_adult',\n",
    "'age_bin_middle_aged', 'age_bin_elderly']]\n",
    "\n",
    "# And now we drop the name, cabin and ticket fields\n",
    "X_test = X_test.loc[:,['sex', 'sib_sp', 'parch',\n",
    "'ticket_freq', 'p_class_2', 'p_class_3', 'title_titled_male', 'title_female',\n",
    "'title_Mr', 'embarked_Q', 'embarked_S', 'deck_DE', 'deck_FG', 'deck_M',\n",
    "'fare_bin_low', 'fare_bin_average', 'fare_bin_above_average', 'fare_bin_high',\n",
    "'fare_bin_very_high', 'age_bin_child','age_bin_teen','age_bin_adult',\n",
    "'age_bin_middle_aged', 'age_bin_elderly']]\n",
    "\n",
    "# And now we drop the name, cabin and ticket fields\n",
    "df_test_trans = df_test_trans.loc[:,['sex', 'sib_sp', 'parch',\n",
    "                       'ticket_freq', 'p_class_2', 'p_class_3', 'title_titled_male', 'title_female',\n",
    "                       'title_Mr', 'embarked_Q', 'embarked_S', 'deck_DE', 'deck_FG', 'deck_M',\n",
    "                       'fare_bin_low', 'fare_bin_average', 'fare_bin_above_average', 'fare_bin_high',\n",
    "                       'fare_bin_very_high', 'age_bin_child','age_bin_teen','age_bin_adult',\n",
    "                       'age_bin_middle_aged', 'age_bin_elderly']]\n",
    "\n",
    "X_train.head()\n",
    "\n",
    "#_ = scaler.fit(X)\n",
    "#X = scaler.transform(X)\n",
    "#X = pd.DataFrame(X, columns=cols)\n",
    "\n",
    "##%%\n",
    "#\n",
    "## Binning fare\n",
    "#fare_bins= [0, 8, 15, 30, 100, 300, 520]\n",
    "#labels = ['very_low', 'low', 'average', 'above_average', 'high', 'very_high']\n",
    "#df_train['fare_bin'] = pd.cut(df_train['fare'], bins=fare_bins, labels=labels, right=False)\n",
    "#df_train_trans['fare_bin'] = pd.cut(df_train_trans['fare'], bins=fare_bins, labels=labels,\n",
    "#                                    right=False)\n",
    "#df_test_trans['fare_bin'] = pd.cut(df_test_trans['fare'], bins=fare_bins, labels=labels,\n",
    "#                                   right=False)\n",
    "#\n",
    "##Binning age\n",
    "#bins= [0, 4, 13, 20, 40, 60, 110]\n",
    "#labels = ['infant','child','teen','adult', 'middle_aged', 'elderly']\n",
    "#df_train['age_bin'] = pd.cut(df_train['age'], bins=bins, labels=labels, right=False)\n",
    "#df_train_trans['age_bin'] = pd.cut(df_train_trans['age'], bins=bins, labels=labels, right=False)\n",
    "#df_test_trans['age_bin'] = pd.cut(df_test_trans['age'], bins=bins, labels=labels, right=False)\n",
    "#\n",
    "## Transform embarked and deck variables for training set\n",
    "#binning_cols = ['fare_bin', 'age_bin']\n",
    "#df_train_trans = pd.get_dummies(df_train_trans, columns = binning_cols, drop_first=True)\n",
    "#\n",
    "## Transform embarked and deck variables for test set\n",
    "#df_test_trans = pd.get_dummies(df_test_trans, columns = binning_cols, drop_first=True)\n",
    "#\n",
    "## And now we drop the name and ticket fields TODO - check why fare_bin_very_low and\n",
    "##  age_bin_infant do not appear in data.\n",
    "#df_train_trans = df_train_trans.loc[:,['survived', 'sex', 'sib_sp', 'parch',\n",
    "#'ticket_freq', 'p_class_2', 'p_class_3', 'title_titled_male', 'title_female',\n",
    "#'title_Mr', 'embarked_Q', 'embarked_S', 'deck_DE', 'deck_FG', 'deck_M',\n",
    "#'fare_bin_low', 'fare_bin_average', 'fare_bin_above_average', 'fare_bin_high',\n",
    "#'fare_bin_very_high', 'age_bin_child','age_bin_teen','age_bin_adult',\n",
    "#'age_bin_middle_aged', 'age_bin_elderly']]\n",
    "#\n",
    "## And now we drop the name, cabin and ticket fields\n",
    "#df_test_trans = df_test_trans.loc[:,['sex', 'sib_sp', 'parch',\n",
    "#'ticket_freq', 'p_class_2', 'p_class_3', 'title_titled_male', 'title_female',\n",
    "#'title_Mr', 'embarked_Q', 'embarked_S', 'deck_DE', 'deck_FG', 'deck_M',\n",
    "#'fare_bin_low', 'fare_bin_average', 'fare_bin_above_average', 'fare_bin_high',\n",
    "#'fare_bin_very_high', 'age_bin_child','age_bin_teen','age_bin_adult',\n",
    "#'age_bin_middle_aged', 'age_bin_elderly']]\n",
    "#\n",
    "#df_train_trans.head()\n",
    "#\n",
    "# Apply to final test data\n",
    "#df_test_trans = scaler.transform(df_test_trans)"
   ],
   "metadata": {
    "collapsed": false,
    "pycharm": {
     "name": "#%%\n"
    }
   }
  },
  {
   "cell_type": "markdown",
   "metadata": {},
   "source": [
    "<div class=\"alert alert-block alert-info\">\n",
    "<b>Build models</b>\n",
    "</div>"
   ]
  },
  {
   "cell_type": "markdown",
   "metadata": {},
   "source": [
    "We can now start building our first model, yay! We build and test a naive logistic regression \n",
    "model - without any transformations or optimisations.\n",
    "\n",
    "The objective is to ascertain the strength of association between features and responses on \n",
    "unprocessed data. "
   ]
  },
  {
   "cell_type": "markdown",
   "metadata": {},
   "source": [
    "#### Naive Logistic Regression"
   ]
  },
  {
   "cell_type": "code",
   "execution_count": null,
   "metadata": {
    "pycharm": {
     "name": "#%%\n"
    }
   },
   "outputs": [],
   "source": [
    "# Initial model\n",
    "log_reg = LogisticRegression(max_iter=2000000, fit_intercept = False)\n",
    "\n",
    "# Probability scores for test set\n",
    "y_score_init = log_reg.fit(X_train, y_train).decision_function(X_test)\n",
    "\n",
    "# False positive Rate and true positive rate\n",
    "fpr_roc, tpr_roc, thresholds = roc_curve(y_test, y_score_init)\n",
    "\n",
    "plot_roc_curve(fpr = fpr_roc, tpr = tpr_roc)"
   ]
  },
  {
   "cell_type": "code",
   "execution_count": null,
   "metadata": {
    "pycharm": {
     "name": "#%%\n"
    }
   },
   "outputs": [],
   "source": [
    "y_pred = log_reg.predict(X_test)\n",
    "# Accuracy before model parameter optimisation\n",
    "cnf_matrix = confusion_matrix(y_pred, y_test)\n",
    "plot_confusion_matrix(cnf_matrix, classes=[0,1], normalize=True)"
   ]
  },
  {
   "cell_type": "markdown",
   "metadata": {},
   "source": [
    "As can be seen from the accuracy measurements the baseline model performs marginally better\n",
    "than our baseline models. A C-statistic (Area Under the Curve - AUC) of 88% compared to 86%\n",
    "for the baseline model.\n",
    "\n",
    "The model has a precision of 86% which is also higher than the previously obtained 83%.\n",
    "\n",
    "The sensitivity of 74% is up from 68% which means more survivors are being picked up with\n",
    "this model. Specificity us up to 88% from 86% which means the increase in accuracy is not at\n",
    "the expense of false negatives."
   ]
  },
  {
   "cell_type": "markdown",
   "metadata": {
    "pycharm": {
     "name": "#%% md\n"
    }
   },
   "source": [
    "#### Naive MLP"
   ]
  },
  {
   "cell_type": "code",
   "execution_count": null,
   "metadata": {
    "pycharm": {
     "name": "#%%\n"
    }
   },
   "outputs": [],
   "source": [
    "# Fit and check MSE before regularisation\n",
    "mlp_reg = MLPClassifier(max_iter=50000, solver=\"adam\", activation=\"tanh\", hidden_layer_sizes=(5, 5),\n",
    "                    random_state=1)\n",
    "mlp_reg = mlp_reg.fit(X_train, y_train)\n",
    "\n",
    "# Predict\n",
    "y_pred = mlp_reg.predict(X_test)\n",
    "\n",
    "# Accuracy before model parameter optimisation\n",
    "print (\"Accuracy Score: %0.5f\" % accuracy_score(y_pred,y_test))\n",
    "\n",
    "# False positive Rate and true positive rate\n",
    "fpr_roc, tpr_roc, thresholds = roc_curve(y_test, y_pred)\n",
    "\n",
    "plot_roc_curve(fpr = fpr_roc, tpr = tpr_roc)\n",
    "\n",
    "# Accuracy before model parameter optimisation\n",
    "cnf_matrix = confusion_matrix(y_pred, y_test)\n",
    "plot_confusion_matrix(cnf_matrix, classes=[0,1], normalize=True)"
   ]
  },
  {
   "cell_type": "markdown",
   "metadata": {},
   "source": [
    "The naive MLP has an AUC score of 82% which is higher than the previous score of\n",
    "Regression of 79%."
   ]
  },
  {
   "cell_type": "code",
   "execution_count": null,
   "metadata": {
    "pycharm": {
     "name": "#%%\n"
    }
   },
   "outputs": [],
   "source": [
    "# Optimise numbers of nodes on both layers\n",
    "validation_scores = {}\n",
    "print(\"Nodes |Validation\")\n",
    "print(\"      | score\")\n",
    "\n",
    "for hidden_layer_size in [(i,j) for i in range(2,6) for j in range(2,6)]:\n",
    "\n",
    "    reg = MLPClassifier(max_iter=1000000, hidden_layer_sizes=hidden_layer_size, random_state=1)\n",
    "\n",
    "    score = cross_val_score(estimator=reg, X=X_train, y=y_train, cv=2)\n",
    "    validation_scores[hidden_layer_size] = score.mean()\n",
    "    print(hidden_layer_size, \": %0.5f\" % validation_scores[hidden_layer_size])"
   ]
  },
  {
   "cell_type": "code",
   "execution_count": null,
   "metadata": {
    "pycharm": {
     "name": "#%%\n"
    }
   },
   "outputs": [],
   "source": [
    "# Check scores\n",
    "print(\"The highest validation score is: %0.4f\" % max(validation_scores.values()))\n",
    "optimal_hidden_layer_size = [name for name, score in validation_scores.items()\n",
    "                              if score==max(validation_scores.values())][0]\n",
    "print(\"This corresponds to nodes\", optimal_hidden_layer_size )\n"
   ]
  },
  {
   "cell_type": "markdown",
   "metadata": {
    "pycharm": {
     "name": "#%% md\n"
    }
   },
   "source": [
    "Now we optimise the neural network regularisation parameter."
   ]
  },
  {
   "cell_type": "code",
   "execution_count": null,
   "metadata": {
    "pycharm": {
     "name": "#%%\n"
    }
   },
   "outputs": [],
   "source": [
    "# Select range over which to find regularisation parameter - exponential used for even\n",
    "# distribution of values\n",
    "reg_par = [np.e**n for n in np.arange(-2,4,0.5)]\n",
    "\n",
    "validation_scores = {}\n",
    "print(\" alpha  |  Accuracy\")\n",
    "for param in reg_par:\n",
    "    reg = MLPClassifier(max_iter=1000000, solver=\"adam\", activation=\"tanh\",\n",
    "                        hidden_layer_sizes=optimal_hidden_layer_size, alpha=param, random_state=1)\n",
    "    score = cross_val_score(estimator=reg, X=X_train, y=y_train, cv=2, scoring=\"accuracy\")\n",
    "    validation_scores[param] = score.mean()\n",
    "    print(\"%0.5f |  %s\" % (param, score.mean()))\n",
    "\n",
    "# Plot the accuracy function against regularisation parameter\n",
    "plt.plot([np.log(i) for i in validation_scores.keys()], list(validation_scores.values()));\n",
    "plt.xlabel(\"Ln of alpha\");\n",
    "plt.ylabel(\"Accuracy\");"
   ]
  },
  {
   "cell_type": "markdown",
   "metadata": {},
   "source": [
    "The highest cross-validation accuracy score and hence the value to use for the `alpha` parameter\n",
    "is as follows."
   ]
  },
  {
   "cell_type": "code",
   "execution_count": null,
   "metadata": {
    "pycharm": {
     "name": "#%%\n"
    }
   },
   "outputs": [],
   "source": [
    "max_score = ([np.log(name) for name, score in validation_scores.items() if score==max\n",
    "(validation_scores.values())][0])\n",
    "# Find lowest value.\n",
    "print(\"The highest accuracy score is: %s\" % (max(validation_scores.values())))\n",
    "print(\"This corresponds to regularisation parameter e**%s\" % max_score)"
   ]
  },
  {
   "cell_type": "markdown",
   "metadata": {},
   "source": [
    "#### MSE after regularisation"
   ]
  },
  {
   "cell_type": "code",
   "execution_count": null,
   "metadata": {
    "pycharm": {
     "name": "#%%\n"
    }
   },
   "outputs": [],
   "source": [
    "# Fit data with the best parameter\n",
    "mlp_reg_optim = MLPClassifier(max_iter=1000000, solver=\"adam\", activation=\"tanh\",\n",
    "                    hidden_layer_sizes=optimal_hidden_layer_size, alpha=np.e**(max_score),\n",
    "                              random_state=1)\n",
    "\n",
    "mlp_reg_optim.fit(X_train, y_train)\n",
    "\n",
    "# Predict\n",
    "y_pred = mlp_reg_optim.predict(X_test)\n",
    "\n",
    "# Accuracy after model parameter optimisation\n",
    "accuracy_score(y_pred,y_test)"
   ]
  },
  {
   "cell_type": "markdown",
   "metadata": {},
   "source": [
    "#### Accuracy analysis"
   ]
  },
  {
   "cell_type": "code",
   "execution_count": null,
   "metadata": {
    "pycharm": {
     "name": "#%%\n"
    }
   },
   "outputs": [],
   "source": [
    "# False positive Rate and true positive rate\n",
    "fpr_roc, tpr_roc, thresholds = roc_curve(y_test, y_pred)\n",
    "plot_roc_curve(fpr = fpr_roc, tpr = tpr_roc)\n",
    "\n",
    "cnf_matrix = confusion_matrix(y_pred, y_test)\n",
    "plot_confusion_matrix(cnf_matrix, classes=[0,1], normalize=True)"
   ]
  },
  {
   "cell_type": "markdown",
   "metadata": {},
   "source": [
    "The optimised MLP has an AUC score of 81% which is higher than the previous score of\n",
    "of 77%. This is encouraging as this was also the model that fared best on the public data."
   ]
  },
  {
   "cell_type": "markdown",
   "metadata": {},
   "source": [
    "#### Naive Decision Tree\n",
    "\n",
    "We now build a naive Decision Tree to see it performs against the previous models. We also use\n",
    "the Decision Tree to calculate feature importance. This will provide us with a better feeling for\n",
    " strength of association between features and the response."
   ]
  },
  {
   "cell_type": "code",
   "execution_count": null,
   "metadata": {
    "pycharm": {
     "name": "#%%\n"
    }
   },
   "outputs": [],
   "source": [
    "# Fit a Decision Tree to data\n",
    "samples = [sample for sample in range(1,30)]\n",
    "validation_scores = []\n",
    "for sample in samples:\n",
    "    classifier1 = DecisionTreeClassifier(random_state=1, min_samples_leaf=sample)\n",
    "    score = cross_val_score(estimator=classifier1, X=X_train, y=y_train, cv=5)\n",
    "    validation_scores.append(score.mean())\n",
    "\n",
    "# Obtain the minimum leaf samples with the highest validation score\n",
    "samples_optimum = samples[validation_scores.index(max(validation_scores))]\n",
    "print(samples_optimum)\n",
    "\n",
    "classifier2 = DecisionTreeClassifier(random_state=0, min_samples_leaf=samples_optimum)\n",
    "classifier2.fit(X_train, y_train)"
   ]
  },
  {
   "cell_type": "markdown",
   "metadata": {
    "pycharm": {
     "name": "#%% md\n"
    }
   },
   "source": [
    "Feature importances for the Decision Tree is as follows:"
   ]
  },
  {
   "cell_type": "code",
   "execution_count": null,
   "metadata": {
    "pycharm": {
     "name": "#%%\n"
    }
   },
   "outputs": [],
   "source": [
    "cols_model = X_train.columns.to_list()\n",
    "\n",
    "importances = np.array(classifier2.feature_importances_)\n",
    "feature_list = np.array(cols_model)\n",
    "\n",
    "# summarize feature importance\n",
    "for i,v in enumerate(importances):\n",
    "\tprint('Feature: %10s\\tScore:\\t%.5f' % (feature_list[i],v))\n",
    "# plot feature importance\n",
    "sorted_ID=np.array(np.argsort(importances)[::-1])\n",
    "plt.figure(figsize=[10,10])\n",
    "plt.xticks(rotation='vertical')\n",
    "_ = plt.bar(feature_list[sorted_ID], importances[sorted_ID]);\n",
    "plt.show();"
   ]
  },
  {
   "cell_type": "markdown",
   "metadata": {
    "pycharm": {
     "name": "#%% md\n"
    }
   },
   "source": [
    "Here we have an interesting turn of events.\n",
    "\n",
    "The previously most important features was sex, but has now been replaced by title_Mr.\n",
    "\n",
    "Passenger class and fare however remain in 2nd and 3rd places. The categorical variables\n",
    "then follow, but at much lower importances. This dilution of effect caused by the\n",
    "categorical variables could cause the Decision Tree algorithms to fare slightly worse than\n",
    "before."
   ]
  },
  {
   "cell_type": "markdown",
   "metadata": {},
   "source": [
    "#### Accuracy analysis"
   ]
  },
  {
   "cell_type": "code",
   "execution_count": null,
   "metadata": {
    "pycharm": {
     "name": "#%%\n"
    }
   },
   "outputs": [],
   "source": [
    "# Probability scores for test set\n",
    "y_pred = classifier2.predict(X_test)\n",
    "\n",
    "accuracy_score(y_pred,y_test)\n",
    "\n",
    "# False positive Rate and true positive rate\n",
    "fpr_roc, tpr_roc, thresholds = roc_curve(y_test, y_pred)\n",
    "plot_roc_curve(fpr = fpr_roc, tpr = tpr_roc)\n",
    "\n",
    "cnf_matrix = confusion_matrix(y_pred, y_test)\n",
    "plot_confusion_matrix(cnf_matrix, classes=[0,1], normalize=True)\n"
   ]
  },
  {
   "cell_type": "markdown",
   "metadata": {
    "pycharm": {
     "name": "#%% md\n"
    }
   },
   "source": [
    "The Decision Tree obtained an AUC score of 79% which is higher than the previous score of\n",
    "77%.\n"
   ]
  },
  {
   "cell_type": "markdown",
   "metadata": {},
   "source": [
    "#### Naive Random Forest\n",
    "Now we build a Random Forest and see what happens!"
   ]
  },
  {
   "cell_type": "code",
   "execution_count": null,
   "metadata": {
    "pycharm": {
     "name": "#%%\n"
    }
   },
   "outputs": [],
   "source": [
    "rand_forest = RandomForestClassifier(criterion= 'gini', random_state=0)\n",
    "rand_forest.fit(X_train, y_train)\n",
    "\n",
    "# Probability scores for test set\n",
    "y_pred = rand_forest.predict(X_test)\n",
    "\n",
    "accuracy_score(y_pred,y_test)"
   ]
  },
  {
   "cell_type": "code",
   "execution_count": null,
   "metadata": {
    "pycharm": {
     "name": "#%%\n"
    }
   },
   "outputs": [],
   "source": [
    "# Final prediction - MLP\n",
    "#y_pred = mlp_reg_optim.predict(df_test)\n",
    "\n",
    "# Final prediction - Random Forest\n",
    "#y_pred = rand_forest.predict(X_test)"
   ]
  },
  {
   "cell_type": "markdown",
   "metadata": {},
   "source": [
    "#### Accuracy analysis"
   ]
  },
  {
   "cell_type": "code",
   "execution_count": null,
   "metadata": {
    "pycharm": {
     "name": "#%%\n"
    }
   },
   "outputs": [],
   "source": [
    "# False positive Rate and true positive rate\n",
    "fpr_roc, tpr_roc, thresholds = roc_curve(y_test, y_pred)\n",
    "plot_roc_curve(fpr = fpr_roc, tpr = tpr_roc)\n",
    "\n",
    "cnf_matrix = confusion_matrix(y_pred, y_test)\n",
    "plot_confusion_matrix(cnf_matrix, classes=[0,1], normalize=True)\n",
    "\n"
   ]
  },
  {
   "cell_type": "markdown",
   "metadata": {
    "pycharm": {
     "name": "#%% md\n"
    }
   },
   "source": [
    "The Random Forest obtained an AUC score of 82% which is the same as the previous score\n",
    "obtained."
   ]
  },
  {
   "cell_type": "markdown",
   "metadata": {},
   "source": [
    "<div class=\"alert alert-block alert-info\">\n",
    "<b>Conclusion</b>\n",
    "</div>\n"
   ]
  },
  {
   "cell_type": "markdown",
   "metadata": {
    "pycharm": {
     "name": "#%% md\n"
    }
   },
   "source": [
    "For submission to Kaggle we chose the optimised (regularised) MLP, as Kaggle assesses performance\n",
    " based on overall <i>accuracy</i>, not the C-Statistic. This is a crude measure but\n",
    " understandably the easiest way to assess performance when clear model objectives do not exist.\n",
    " The MLP scored best on <i>accuracy</i> according to the Kaggle validator.\n",
    "\n",
    "It obtained an 0.78 on\n",
    " the test set when submitted to the leaderboard, which is in the top 24% and corresponds more or\n",
    " less with our validation scores, so looks sensible! Not bad for a model with absolutely no\n",
    " fine-tuning.\n",
    "\n",
    "Let us see if we can improve on this!\n",
    "\n",
    "On to the next notebook on feature engineering!"
   ]
  },
  {
   "cell_type": "code",
   "execution_count": null,
   "metadata": {
    "pycharm": {
     "name": "#%%\n"
    }
   },
   "outputs": [],
   "source": [
    "# Gender submission - Score: 0.77\n",
    "\n",
    "# Final prediction - Random Forest - Score:  0.77272\n",
    "y_pred = rand_forest.predict(df_test_trans)\n",
    "\n",
    "#Prepare submission code\n",
    "my_submission = pd.DataFrame({'PassengerId': df_orig.passenger_id, 'Survived': y_pred})\n",
    "# you could use any filename. We choose submission here\n",
    "my_submission.to_csv('submission_rand_forest.csv', index=False)\n",
    "\n",
    "# Final prediction - MLP (optimised) - Score:  0.76555\n",
    "#mlp_reg_optim.fit(X, y)\n",
    "y_pred = mlp_reg_optim.predict(df_test_trans)\n",
    "\n",
    "#Prepare submission code\n",
    "my_submission = pd.DataFrame({'PassengerId': df_orig.passenger_id, 'Survived': y_pred})\n",
    "# you could use any filename. We choose submission here\n",
    "my_submission.to_csv('submission_mlp_optim.csv', index=False)\n",
    "\n",
    "# TODO: Final prediction - MLP (non-optimised) - Score: 0.77\n",
    "y_pred = mlp_reg.predict(df_test_trans)\n",
    "\n",
    "#Prepare submission code\n",
    "my_submission = pd.DataFrame({'PassengerId': df_orig.passenger_id, 'Survived': y_pred})\n",
    "# you could use any filename. We choose submission here\n",
    "my_submission.to_csv('submission_mlp.csv', index=False)\n",
    "\n",
    "# Final prediction - Logistic Regression - Score: 0.74\n",
    "y_pred = log_reg.predict(df_test_trans)\n",
    "\n",
    "#Prepare submission code\n",
    "my_submission = pd.DataFrame({'PassengerId': df_orig.passenger_id, 'Survived': y_pred})\n",
    "# you could use any filename. We choose submission here\n",
    "my_submission.to_csv('submission_logreg.csv', index=False)\n",
    "\n",
    "# Final prediction - Decision Tree - Score: 0.78\n",
    "y_pred = classifier2.predict(df_test_trans)\n",
    "\n",
    "#Prepare submission code\n",
    "my_submission = pd.DataFrame({'PassengerId': df_orig.passenger_id, 'Survived': y_pred})\n",
    "# you could use any filename. We choose submission here\n",
    "my_submission.to_csv('submission_dec_tree.csv', index=False)\n"
   ]
  }
 ],
 "metadata": {
  "kernelspec": {
   "name": "pycharm-23af598f",
   "language": "python",
   "display_name": "PyCharm (kaggle_01_titanic)"
  },
  "language_info": {
   "codemirror_mode": {
    "name": "ipython",
    "version": 3
   },
   "file_extension": ".py",
   "mimetype": "text/x-python",
   "name": "python",
   "nbconvert_exporter": "python",
   "pygments_lexer": "ipython3",
   "version": "3.8.1"
  }
 },
 "nbformat": 4,
 "nbformat_minor": 1
}