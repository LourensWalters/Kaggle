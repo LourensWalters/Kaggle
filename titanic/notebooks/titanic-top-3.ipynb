{
 "cells": [
  {
   "cell_type": "markdown",
   "id": "separated-rebel",
   "metadata": {
    "papermill": {
     "duration": 0.050152,
     "end_time": "2021-05-07T16:41:38.732447",
     "exception": false,
     "start_time": "2021-05-07T16:41:38.682295",
     "status": "completed"
    },
    "tags": []
   },
   "source": [
    "# Titanic Disaster\n",
    "## Improve your score to 82.78% (Top 3%) \n",
    "\n",
    "In this work I have used some basic techniques to process of the easy way Titanic dataset. \n",
    "\n",
    "### by Javier Vallejos"
   ]
  },
  {
   "cell_type": "markdown",
   "id": "pressing-place",
   "metadata": {
    "papermill": {
     "duration": 0.046424,
     "end_time": "2021-05-07T16:41:38.826939",
     "exception": false,
     "start_time": "2021-05-07T16:41:38.780515",
     "status": "completed"
    },
    "tags": []
   },
   "source": [
    "# 1. Preprocessing and EDA"
   ]
  },
  {
   "cell_type": "markdown",
   "id": "cooked-heaven",
   "metadata": {
    "papermill": {
     "duration": 0.046638,
     "end_time": "2021-05-07T16:41:38.920643",
     "exception": false,
     "start_time": "2021-05-07T16:41:38.874005",
     "status": "completed"
    },
    "tags": []
   },
   "source": [
    "Here, I reviewed the variables, impute missing values, found patterns and watched relationship between columns."
   ]
  },
  {
   "cell_type": "markdown",
   "id": "extraordinary-exploration",
   "metadata": {
    "papermill": {
     "duration": 0.047692,
     "end_time": "2021-05-07T16:41:39.015494",
     "exception": false,
     "start_time": "2021-05-07T16:41:38.967802",
     "status": "completed"
    },
    "tags": []
   },
   "source": [
    "### 1.1. Missing Values"
   ]
  },
  {
   "cell_type": "markdown",
   "id": "comic-point",
   "metadata": {
    "papermill": {
     "duration": 0.047666,
     "end_time": "2021-05-07T16:41:39.111706",
     "exception": false,
     "start_time": "2021-05-07T16:41:39.064040",
     "status": "completed"
    },
    "tags": []
   },
   "source": [
    "Reading the dataset and merging Train and Test to get better results."
   ]
  },
  {
   "cell_type": "code",
   "execution_count": 1,
   "id": "liked-hotel",
   "metadata": {
    "execution": {
     "iopub.execute_input": "2021-05-07T16:41:39.210271Z",
     "iopub.status.busy": "2021-05-07T16:41:39.209130Z",
     "iopub.status.idle": "2021-05-07T16:41:40.582000Z",
     "shell.execute_reply": "2021-05-07T16:41:40.580473Z"
    },
    "papermill": {
     "duration": 1.423184,
     "end_time": "2021-05-07T16:41:40.582210",
     "exception": false,
     "start_time": "2021-05-07T16:41:39.159026",
     "status": "completed"
    },
    "tags": []
   },
   "outputs": [],
   "source": [
    "# Libraries used\n",
    "\n",
    "import numpy as np \n",
    "import pandas as pd \n",
    "import seaborn as sns\n",
    "import matplotlib.pyplot as plt\n",
    "\n",
    "from sklearn.preprocessing import LabelEncoder, OneHotEncoder\n",
    "from sklearn.tree import DecisionTreeClassifier\n",
    "from sklearn.preprocessing import StandardScaler\n",
    "\n",
    "from numpy.random import seed\n",
    "\n",
    "seed(11111)"
   ]
  },
  {
   "cell_type": "code",
   "execution_count": 2,
   "id": "corresponding-galaxy",
   "metadata": {
    "execution": {
     "iopub.execute_input": "2021-05-07T16:41:40.684369Z",
     "iopub.status.busy": "2021-05-07T16:41:40.683584Z",
     "iopub.status.idle": "2021-05-07T16:41:40.858183Z",
     "shell.execute_reply": "2021-05-07T16:41:40.857606Z"
    },
    "papermill": {
     "duration": 0.228471,
     "end_time": "2021-05-07T16:41:40.858353",
     "exception": false,
     "start_time": "2021-05-07T16:41:40.629882",
     "status": "completed"
    },
    "tags": []
   },
   "outputs": [
    {
     "data": {
      "text/html": [
       "<div>\n",
       "<style scoped>\n",
       "    .dataframe tbody tr th:only-of-type {\n",
       "        vertical-align: middle;\n",
       "    }\n",
       "\n",
       "    .dataframe tbody tr th {\n",
       "        vertical-align: top;\n",
       "    }\n",
       "\n",
       "    .dataframe thead th {\n",
       "        text-align: right;\n",
       "    }\n",
       "</style>\n",
       "<table border=\"1\" class=\"dataframe\">\n",
       "  <thead>\n",
       "    <tr style=\"text-align: right;\">\n",
       "      <th></th>\n",
       "      <th>Survived</th>\n",
       "      <th>Pclass</th>\n",
       "      <th>Name</th>\n",
       "      <th>Sex</th>\n",
       "      <th>Age</th>\n",
       "      <th>SibSp</th>\n",
       "      <th>Parch</th>\n",
       "      <th>Ticket</th>\n",
       "      <th>Fare</th>\n",
       "      <th>Cabin</th>\n",
       "      <th>Embarked</th>\n",
       "    </tr>\n",
       "    <tr>\n",
       "      <th>PassengerId</th>\n",
       "      <th></th>\n",
       "      <th></th>\n",
       "      <th></th>\n",
       "      <th></th>\n",
       "      <th></th>\n",
       "      <th></th>\n",
       "      <th></th>\n",
       "      <th></th>\n",
       "      <th></th>\n",
       "      <th></th>\n",
       "      <th></th>\n",
       "    </tr>\n",
       "  </thead>\n",
       "  <tbody>\n",
       "    <tr>\n",
       "      <th>1</th>\n",
       "      <td>0.0</td>\n",
       "      <td>3</td>\n",
       "      <td>Braund, Mr. Owen Harris</td>\n",
       "      <td>male</td>\n",
       "      <td>22.0</td>\n",
       "      <td>1</td>\n",
       "      <td>0</td>\n",
       "      <td>A/5 21171</td>\n",
       "      <td>7.2500</td>\n",
       "      <td>NaN</td>\n",
       "      <td>S</td>\n",
       "    </tr>\n",
       "    <tr>\n",
       "      <th>2</th>\n",
       "      <td>1.0</td>\n",
       "      <td>1</td>\n",
       "      <td>Cumings, Mrs. John Bradley (Florence Briggs Th...</td>\n",
       "      <td>female</td>\n",
       "      <td>38.0</td>\n",
       "      <td>1</td>\n",
       "      <td>0</td>\n",
       "      <td>PC 17599</td>\n",
       "      <td>71.2833</td>\n",
       "      <td>C85</td>\n",
       "      <td>C</td>\n",
       "    </tr>\n",
       "    <tr>\n",
       "      <th>3</th>\n",
       "      <td>1.0</td>\n",
       "      <td>3</td>\n",
       "      <td>Heikkinen, Miss. Laina</td>\n",
       "      <td>female</td>\n",
       "      <td>26.0</td>\n",
       "      <td>0</td>\n",
       "      <td>0</td>\n",
       "      <td>STON/O2. 3101282</td>\n",
       "      <td>7.9250</td>\n",
       "      <td>NaN</td>\n",
       "      <td>S</td>\n",
       "    </tr>\n",
       "    <tr>\n",
       "      <th>4</th>\n",
       "      <td>1.0</td>\n",
       "      <td>1</td>\n",
       "      <td>Futrelle, Mrs. Jacques Heath (Lily May Peel)</td>\n",
       "      <td>female</td>\n",
       "      <td>35.0</td>\n",
       "      <td>1</td>\n",
       "      <td>0</td>\n",
       "      <td>113803</td>\n",
       "      <td>53.1000</td>\n",
       "      <td>C123</td>\n",
       "      <td>S</td>\n",
       "    </tr>\n",
       "    <tr>\n",
       "      <th>5</th>\n",
       "      <td>0.0</td>\n",
       "      <td>3</td>\n",
       "      <td>Allen, Mr. William Henry</td>\n",
       "      <td>male</td>\n",
       "      <td>35.0</td>\n",
       "      <td>0</td>\n",
       "      <td>0</td>\n",
       "      <td>373450</td>\n",
       "      <td>8.0500</td>\n",
       "      <td>NaN</td>\n",
       "      <td>S</td>\n",
       "    </tr>\n",
       "    <tr>\n",
       "      <th>...</th>\n",
       "      <td>...</td>\n",
       "      <td>...</td>\n",
       "      <td>...</td>\n",
       "      <td>...</td>\n",
       "      <td>...</td>\n",
       "      <td>...</td>\n",
       "      <td>...</td>\n",
       "      <td>...</td>\n",
       "      <td>...</td>\n",
       "      <td>...</td>\n",
       "      <td>...</td>\n",
       "    </tr>\n",
       "    <tr>\n",
       "      <th>1305</th>\n",
       "      <td>NaN</td>\n",
       "      <td>3</td>\n",
       "      <td>Spector, Mr. Woolf</td>\n",
       "      <td>male</td>\n",
       "      <td>NaN</td>\n",
       "      <td>0</td>\n",
       "      <td>0</td>\n",
       "      <td>A.5. 3236</td>\n",
       "      <td>8.0500</td>\n",
       "      <td>NaN</td>\n",
       "      <td>S</td>\n",
       "    </tr>\n",
       "    <tr>\n",
       "      <th>1306</th>\n",
       "      <td>NaN</td>\n",
       "      <td>1</td>\n",
       "      <td>Oliva y Ocana, Dona. Fermina</td>\n",
       "      <td>female</td>\n",
       "      <td>39.0</td>\n",
       "      <td>0</td>\n",
       "      <td>0</td>\n",
       "      <td>PC 17758</td>\n",
       "      <td>108.9000</td>\n",
       "      <td>C105</td>\n",
       "      <td>C</td>\n",
       "    </tr>\n",
       "    <tr>\n",
       "      <th>1307</th>\n",
       "      <td>NaN</td>\n",
       "      <td>3</td>\n",
       "      <td>Saether, Mr. Simon Sivertsen</td>\n",
       "      <td>male</td>\n",
       "      <td>38.5</td>\n",
       "      <td>0</td>\n",
       "      <td>0</td>\n",
       "      <td>SOTON/O.Q. 3101262</td>\n",
       "      <td>7.2500</td>\n",
       "      <td>NaN</td>\n",
       "      <td>S</td>\n",
       "    </tr>\n",
       "    <tr>\n",
       "      <th>1308</th>\n",
       "      <td>NaN</td>\n",
       "      <td>3</td>\n",
       "      <td>Ware, Mr. Frederick</td>\n",
       "      <td>male</td>\n",
       "      <td>NaN</td>\n",
       "      <td>0</td>\n",
       "      <td>0</td>\n",
       "      <td>359309</td>\n",
       "      <td>8.0500</td>\n",
       "      <td>NaN</td>\n",
       "      <td>S</td>\n",
       "    </tr>\n",
       "    <tr>\n",
       "      <th>1309</th>\n",
       "      <td>NaN</td>\n",
       "      <td>3</td>\n",
       "      <td>Peter, Master. Michael J</td>\n",
       "      <td>male</td>\n",
       "      <td>NaN</td>\n",
       "      <td>1</td>\n",
       "      <td>1</td>\n",
       "      <td>2668</td>\n",
       "      <td>22.3583</td>\n",
       "      <td>NaN</td>\n",
       "      <td>C</td>\n",
       "    </tr>\n",
       "  </tbody>\n",
       "</table>\n",
       "<p>1309 rows × 11 columns</p>\n",
       "</div>"
      ],
      "text/plain": [
       "             Survived  Pclass  \\\n",
       "PassengerId                     \n",
       "1                 0.0       3   \n",
       "2                 1.0       1   \n",
       "3                 1.0       3   \n",
       "4                 1.0       1   \n",
       "5                 0.0       3   \n",
       "...               ...     ...   \n",
       "1305              NaN       3   \n",
       "1306              NaN       1   \n",
       "1307              NaN       3   \n",
       "1308              NaN       3   \n",
       "1309              NaN       3   \n",
       "\n",
       "                                                          Name     Sex   Age  \\\n",
       "PassengerId                                                                    \n",
       "1                                      Braund, Mr. Owen Harris    male  22.0   \n",
       "2            Cumings, Mrs. John Bradley (Florence Briggs Th...  female  38.0   \n",
       "3                                       Heikkinen, Miss. Laina  female  26.0   \n",
       "4                 Futrelle, Mrs. Jacques Heath (Lily May Peel)  female  35.0   \n",
       "5                                     Allen, Mr. William Henry    male  35.0   \n",
       "...                                                        ...     ...   ...   \n",
       "1305                                        Spector, Mr. Woolf    male   NaN   \n",
       "1306                              Oliva y Ocana, Dona. Fermina  female  39.0   \n",
       "1307                              Saether, Mr. Simon Sivertsen    male  38.5   \n",
       "1308                                       Ware, Mr. Frederick    male   NaN   \n",
       "1309                                  Peter, Master. Michael J    male   NaN   \n",
       "\n",
       "             SibSp  Parch              Ticket      Fare Cabin Embarked  \n",
       "PassengerId                                                             \n",
       "1                1      0           A/5 21171    7.2500   NaN        S  \n",
       "2                1      0            PC 17599   71.2833   C85        C  \n",
       "3                0      0    STON/O2. 3101282    7.9250   NaN        S  \n",
       "4                1      0              113803   53.1000  C123        S  \n",
       "5                0      0              373450    8.0500   NaN        S  \n",
       "...            ...    ...                 ...       ...   ...      ...  \n",
       "1305             0      0           A.5. 3236    8.0500   NaN        S  \n",
       "1306             0      0            PC 17758  108.9000  C105        C  \n",
       "1307             0      0  SOTON/O.Q. 3101262    7.2500   NaN        S  \n",
       "1308             0      0              359309    8.0500   NaN        S  \n",
       "1309             1      1                2668   22.3583   NaN        C  \n",
       "\n",
       "[1309 rows x 11 columns]"
      ]
     },
     "execution_count": 2,
     "metadata": {},
     "output_type": "execute_result"
    }
   ],
   "source": [
    "# Reading\n",
    "train = pd.read_csv(\"../input/titanic/train.csv\")\n",
    "test = pd.read_csv(\"../input/titanic/test.csv\")\n",
    "\n",
    "# Putting on index to each dataset before split it\n",
    "train = train.set_index(\"PassengerId\")\n",
    "test = test.set_index(\"PassengerId\")\n",
    "\n",
    "# dataframe \n",
    "df = pd.concat([train, test], axis=0, sort=False)\n",
    "\n",
    "df"
   ]
  },
  {
   "cell_type": "markdown",
   "id": "arctic-fleet",
   "metadata": {
    "papermill": {
     "duration": 0.048124,
     "end_time": "2021-05-07T16:41:40.955035",
     "exception": false,
     "start_time": "2021-05-07T16:41:40.906911",
     "status": "completed"
    },
    "tags": []
   },
   "source": [
    "As you can see Name, Sex, Ticket, Cabin, and Embarked column are objects, before processing each column we should know if there are NAs or missing values."
   ]
  },
  {
   "cell_type": "code",
   "execution_count": 3,
   "id": "increasing-plane",
   "metadata": {
    "execution": {
     "iopub.execute_input": "2021-05-07T16:41:41.065793Z",
     "iopub.status.busy": "2021-05-07T16:41:41.065076Z",
     "iopub.status.idle": "2021-05-07T16:41:41.080272Z",
     "shell.execute_reply": "2021-05-07T16:41:41.080917Z"
    },
    "papermill": {
     "duration": 0.077828,
     "end_time": "2021-05-07T16:41:41.081234",
     "exception": false,
     "start_time": "2021-05-07T16:41:41.003406",
     "status": "completed"
    },
    "tags": []
   },
   "outputs": [
    {
     "name": "stdout",
     "output_type": "stream",
     "text": [
      "<class 'pandas.core.frame.DataFrame'>\n",
      "Int64Index: 1309 entries, 1 to 1309\n",
      "Data columns (total 11 columns):\n",
      " #   Column    Non-Null Count  Dtype  \n",
      "---  ------    --------------  -----  \n",
      " 0   Survived  891 non-null    float64\n",
      " 1   Pclass    1309 non-null   int64  \n",
      " 2   Name      1309 non-null   object \n",
      " 3   Sex       1309 non-null   object \n",
      " 4   Age       1046 non-null   float64\n",
      " 5   SibSp     1309 non-null   int64  \n",
      " 6   Parch     1309 non-null   int64  \n",
      " 7   Ticket    1309 non-null   object \n",
      " 8   Fare      1308 non-null   float64\n",
      " 9   Cabin     295 non-null    object \n",
      " 10  Embarked  1307 non-null   object \n",
      "dtypes: float64(3), int64(3), object(5)\n",
      "memory usage: 122.7+ KB\n"
     ]
    }
   ],
   "source": [
    "df.info()"
   ]
  },
  {
   "cell_type": "markdown",
   "id": "subtle-republican",
   "metadata": {
    "papermill": {
     "duration": 0.050229,
     "end_time": "2021-05-07T16:41:41.182411",
     "exception": false,
     "start_time": "2021-05-07T16:41:41.132182",
     "status": "completed"
    },
    "tags": []
   },
   "source": [
    "There are three columns with missing values (Age, Fare and Cabin) and Survived column has NaNs because the Test dataset doesn't have that information.   "
   ]
  },
  {
   "cell_type": "code",
   "execution_count": 4,
   "id": "instrumental-front",
   "metadata": {
    "execution": {
     "iopub.execute_input": "2021-05-07T16:41:41.284356Z",
     "iopub.status.busy": "2021-05-07T16:41:41.283649Z",
     "iopub.status.idle": "2021-05-07T16:41:41.294073Z",
     "shell.execute_reply": "2021-05-07T16:41:41.293365Z"
    },
    "papermill": {
     "duration": 0.063293,
     "end_time": "2021-05-07T16:41:41.294240",
     "exception": false,
     "start_time": "2021-05-07T16:41:41.230947",
     "status": "completed"
    },
    "tags": []
   },
   "outputs": [
    {
     "data": {
      "text/plain": [
       "Survived     418\n",
       "Pclass         0\n",
       "Name           0\n",
       "Sex            0\n",
       "Age          263\n",
       "SibSp          0\n",
       "Parch          0\n",
       "Ticket         0\n",
       "Fare           1\n",
       "Cabin       1014\n",
       "Embarked       2\n",
       "dtype: int64"
      ]
     },
     "execution_count": 4,
     "metadata": {},
     "output_type": "execute_result"
    }
   ],
   "source": [
    "df.isna().sum()"
   ]
  },
  {
   "cell_type": "markdown",
   "id": "marine-click",
   "metadata": {
    "papermill": {
     "duration": 0.04846,
     "end_time": "2021-05-07T16:41:41.391780",
     "exception": false,
     "start_time": "2021-05-07T16:41:41.343320",
     "status": "completed"
    },
    "tags": []
   },
   "source": [
    "To visualize better the columns we will transform the Sex and Embarked columns to numeric. Sex column only has two categories Female and Male, Embarked column has tree labels S, C and Q."
   ]
  },
  {
   "cell_type": "code",
   "execution_count": 5,
   "id": "shared-crash",
   "metadata": {
    "execution": {
     "iopub.execute_input": "2021-05-07T16:41:41.493557Z",
     "iopub.status.busy": "2021-05-07T16:41:41.492902Z",
     "iopub.status.idle": "2021-05-07T16:41:41.501247Z",
     "shell.execute_reply": "2021-05-07T16:41:41.501810Z"
    },
    "papermill": {
     "duration": 0.061027,
     "end_time": "2021-05-07T16:41:41.502007",
     "exception": false,
     "start_time": "2021-05-07T16:41:41.440980",
     "status": "completed"
    },
    "tags": []
   },
   "outputs": [],
   "source": [
    "# Sex\n",
    "change = {'female':0,'male':1}\n",
    "df.Sex = df.Sex.map(change)\n",
    "\n",
    "# Embarked\n",
    "change = {'S':0,'C':1,'Q':2}\n",
    "df.Embarked = df.Embarked.map(change)"
   ]
  },
  {
   "cell_type": "markdown",
   "id": "offshore-fruit",
   "metadata": {
    "papermill": {
     "duration": 0.049425,
     "end_time": "2021-05-07T16:41:41.600937",
     "exception": false,
     "start_time": "2021-05-07T16:41:41.551512",
     "status": "completed"
    },
    "tags": []
   },
   "source": [
    "The following figure show us numeric columns vs Survived column to know the behavior. In the last fig (3,3) you can see that we are working with unbalanced dataset. "
   ]
  },
  {
   "cell_type": "code",
   "execution_count": 6,
   "id": "correct-campus",
   "metadata": {
    "execution": {
     "iopub.execute_input": "2021-05-07T16:41:41.704770Z",
     "iopub.status.busy": "2021-05-07T16:41:41.703916Z",
     "iopub.status.idle": "2021-05-07T16:41:42.835073Z",
     "shell.execute_reply": "2021-05-07T16:41:42.834251Z"
    },
    "papermill": {
     "duration": 1.184529,
     "end_time": "2021-05-07T16:41:42.835264",
     "exception": false,
     "start_time": "2021-05-07T16:41:41.650735",
     "status": "completed"
    },
    "tags": []
   },
   "outputs": [
    {
     "data": {
      "image/png": "[encoded data removed]",
      "text/plain": [
       "<Figure size 1152x1008 with 6 Axes>"
      ]
     },
     "metadata": {
      "needs_background": "light"
     },
     "output_type": "display_data"
    }
   ],
   "source": [
    "columns = ['Pclass', 'Sex','Embarked','SibSp', 'Parch','Survived']\n",
    "\n",
    "plt.figure(figsize=(16, 14))\n",
    "sns.set(font_scale= 1.2)\n",
    "sns.set_style('ticks')\n",
    "\n",
    "for i, feature in enumerate(columns):\n",
    "    plt.subplot(3, 3, i+1)\n",
    "    sns.countplot(data=df, x=feature, hue='Survived', palette='Paired')\n",
    "    \n",
    "sns.despine()"
   ]
  },
  {
   "cell_type": "code",
   "execution_count": 7,
   "id": "ignored-essex",
   "metadata": {
    "execution": {
     "iopub.execute_input": "2021-05-07T16:41:42.963924Z",
     "iopub.status.busy": "2021-05-07T16:41:42.963228Z",
     "iopub.status.idle": "2021-05-07T16:41:43.851665Z",
     "shell.execute_reply": "2021-05-07T16:41:43.852244Z"
    },
    "papermill": {
     "duration": 0.965728,
     "end_time": "2021-05-07T16:41:43.852446",
     "exception": false,
     "start_time": "2021-05-07T16:41:42.886718",
     "status": "completed"
    },
    "tags": []
   },
   "outputs": [
    {
     "data": {
      "image/png": "[encoded data removed]",
      "text/plain": [
       "<Figure size 1152x1008 with 6 Axes>"
      ]
     },
     "metadata": {},
     "output_type": "display_data"
    }
   ],
   "source": [
    "columns = ['Pclass', 'Sex','Embarked','SibSp', 'Parch','Survived']\n",
    "\n",
    "plt.figure(figsize=(16, 14))\n",
    "sns.set(font_scale= 1.2)\n",
    "sns.set_style('ticks')\n",
    "\n",
    "for i, feature in enumerate(columns):\n",
    "    plt.subplot(3, 3, i+1)\n",
    "    sns.countplot(data=df, x=feature, hue='Sex', palette='BrBG')\n",
    "    \n",
    "sns.despine()"
   ]
  },
  {
   "cell_type": "markdown",
   "id": "latest-mainstream",
   "metadata": {
    "papermill": {
     "duration": 0.054556,
     "end_time": "2021-05-07T16:41:43.960773",
     "exception": false,
     "start_time": "2021-05-07T16:41:43.906217",
     "status": "completed"
    },
    "tags": []
   },
   "source": [
    "### 1.2. Age column"
   ]
  },
  {
   "cell_type": "markdown",
   "id": "dried-magic",
   "metadata": {
    "papermill": {
     "duration": 0.053998,
     "end_time": "2021-05-07T16:41:44.069465",
     "exception": false,
     "start_time": "2021-05-07T16:41:44.015467",
     "status": "completed"
    },
    "tags": []
   },
   "source": [
    "The easy way to impute the missing values is with mean or median on base its correlation with other columns. Below you can see the correlation beetwen variables, Pclass has a good correlation with Age, but I also added Sex column to impute missing values."
   ]
  },
  {
   "cell_type": "code",
   "execution_count": 8,
   "id": "official-cambridge",
   "metadata": {
    "execution": {
     "iopub.execute_input": "2021-05-07T16:41:44.189511Z",
     "iopub.status.busy": "2021-05-07T16:41:44.188499Z",
     "iopub.status.idle": "2021-05-07T16:41:44.496366Z",
     "shell.execute_reply": "2021-05-07T16:41:44.495789Z"
    },
    "papermill": {
     "duration": 0.371142,
     "end_time": "2021-05-07T16:41:44.496532",
     "exception": false,
     "start_time": "2021-05-07T16:41:44.125390",
     "status": "completed"
    },
    "tags": []
   },
   "outputs": [
    {
     "data": {
      "image/png": "[encoded data removed]",
      "text/plain": [
       "<Figure size 576x432 with 2 Axes>"
      ]
     },
     "metadata": {},
     "output_type": "display_data"
    }
   ],
   "source": [
    "corr_df = df.corr()\n",
    "fig, axs = plt.subplots(figsize=(8, 6))\n",
    "sns.heatmap(corr_df).set_title(\"Correlation Map\",fontdict= { 'fontsize': 20, 'fontweight':'bold'});"
   ]
  },
  {
   "cell_type": "code",
   "execution_count": 9,
   "id": "objective-press",
   "metadata": {
    "execution": {
     "iopub.execute_input": "2021-05-07T16:41:44.613702Z",
     "iopub.status.busy": "2021-05-07T16:41:44.613011Z",
     "iopub.status.idle": "2021-05-07T16:41:44.630393Z",
     "shell.execute_reply": "2021-05-07T16:41:44.629739Z"
    },
    "papermill": {
     "duration": 0.078622,
     "end_time": "2021-05-07T16:41:44.630562",
     "exception": false,
     "start_time": "2021-05-07T16:41:44.551940",
     "status": "completed"
    },
    "tags": []
   },
   "outputs": [
    {
     "data": {
      "text/plain": [
       "Pclass  Sex  Survived\n",
       "1       0    0.0         25.0\n",
       "             1.0         35.0\n",
       "        1    0.0         45.5\n",
       "             1.0         36.0\n",
       "2       0    0.0         32.5\n",
       "             1.0         28.0\n",
       "        1    0.0         30.5\n",
       "             1.0          3.0\n",
       "3       0    0.0         22.0\n",
       "             1.0         19.0\n",
       "        1    0.0         25.0\n",
       "             1.0         25.0\n",
       "Name: Age, dtype: float64"
      ]
     },
     "execution_count": 9,
     "metadata": {},
     "output_type": "execute_result"
    }
   ],
   "source": [
    "df.groupby(['Pclass','Sex','Survived'])['Age'].median()"
   ]
  },
  {
   "cell_type": "code",
   "execution_count": 10,
   "id": "precious-mississippi",
   "metadata": {
    "execution": {
     "iopub.execute_input": "2021-05-07T16:41:44.745662Z",
     "iopub.status.busy": "2021-05-07T16:41:44.744608Z",
     "iopub.status.idle": "2021-05-07T16:41:44.753033Z",
     "shell.execute_reply": "2021-05-07T16:41:44.753581Z"
    },
    "papermill": {
     "duration": 0.068151,
     "end_time": "2021-05-07T16:41:44.753778",
     "exception": false,
     "start_time": "2021-05-07T16:41:44.685627",
     "status": "completed"
    },
    "tags": []
   },
   "outputs": [],
   "source": [
    "#Filling the missing values with mean of Pclass and Sex.\n",
    "df[\"Age\"].fillna(df.groupby(['Pclass','Sex'])['Age'].transform(\"mean\"), inplace=True)"
   ]
  },
  {
   "cell_type": "code",
   "execution_count": 11,
   "id": "greater-halifax",
   "metadata": {
    "execution": {
     "iopub.execute_input": "2021-05-07T16:41:44.868452Z",
     "iopub.status.busy": "2021-05-07T16:41:44.867424Z",
     "iopub.status.idle": "2021-05-07T16:41:45.118277Z",
     "shell.execute_reply": "2021-05-07T16:41:45.117618Z"
    },
    "papermill": {
     "duration": 0.309671,
     "end_time": "2021-05-07T16:41:45.118443",
     "exception": false,
     "start_time": "2021-05-07T16:41:44.808772",
     "status": "completed"
    },
    "tags": []
   },
   "outputs": [
    {
     "data": {
      "image/png": "[encoded data removed]",
      "text/plain": [
       "<Figure size 720x360 with 1 Axes>"
      ]
     },
     "metadata": {},
     "output_type": "display_data"
    }
   ],
   "source": [
    "fig, axs = plt.subplots(figsize=(10, 5))\n",
    "sns.histplot(data=df, x='Age').set_title(\"Age distribution\",fontdict= { 'fontsize': 20, 'fontweight':'bold'});\n",
    "sns.despine()"
   ]
  },
  {
   "cell_type": "markdown",
   "id": "dynamic-seven",
   "metadata": {
    "papermill": {
     "duration": 0.056446,
     "end_time": "2021-05-07T16:41:45.230976",
     "exception": false,
     "start_time": "2021-05-07T16:41:45.174530",
     "status": "completed"
    },
    "tags": []
   },
   "source": [
    "Let's binning the columns to process it the best way."
   ]
  },
  {
   "cell_type": "code",
   "execution_count": 12,
   "id": "finnish-travel",
   "metadata": {
    "execution": {
     "iopub.execute_input": "2021-05-07T16:41:45.352265Z",
     "iopub.status.busy": "2021-05-07T16:41:45.351521Z",
     "iopub.status.idle": "2021-05-07T16:41:45.590222Z",
     "shell.execute_reply": "2021-05-07T16:41:45.590714Z"
    },
    "papermill": {
     "duration": 0.303037,
     "end_time": "2021-05-07T16:41:45.590924",
     "exception": false,
     "start_time": "2021-05-07T16:41:45.287887",
     "status": "completed"
    },
    "tags": []
   },
   "outputs": [
    {
     "data": {
      "image/png": "[encoded data removed]",
      "text/plain": [
       "<Figure size 1080x360 with 1 Axes>"
      ]
     },
     "metadata": {},
     "output_type": "display_data"
    }
   ],
   "source": [
    "auxage = pd.cut(df['Age'], 4)\n",
    "fig, axs = plt.subplots(figsize=(15, 5))\n",
    "sns.countplot(x=auxage, hue='Survived', data=df).set_title(\"Age Bins\",fontdict= { 'fontsize': 20, 'fontweight':'bold'});\n",
    "sns.despine()"
   ]
  },
  {
   "cell_type": "code",
   "execution_count": 13,
   "id": "separated-clerk",
   "metadata": {
    "execution": {
     "iopub.execute_input": "2021-05-07T16:41:45.718024Z",
     "iopub.status.busy": "2021-05-07T16:41:45.711220Z",
     "iopub.status.idle": "2021-05-07T16:41:45.721922Z",
     "shell.execute_reply": "2021-05-07T16:41:45.721334Z"
    },
    "papermill": {
     "duration": 0.073203,
     "end_time": "2021-05-07T16:41:45.722094",
     "exception": false,
     "start_time": "2021-05-07T16:41:45.648891",
     "status": "completed"
    },
    "tags": []
   },
   "outputs": [],
   "source": [
    "# converting to categorical\n",
    "df['Age'] = LabelEncoder().fit_transform(auxage) "
   ]
  },
  {
   "cell_type": "code",
   "execution_count": 14,
   "id": "progressive-senator",
   "metadata": {
    "execution": {
     "iopub.execute_input": "2021-05-07T16:41:45.845460Z",
     "iopub.status.busy": "2021-05-07T16:41:45.844751Z",
     "iopub.status.idle": "2021-05-07T16:41:45.872005Z",
     "shell.execute_reply": "2021-05-07T16:41:45.872681Z"
    },
    "papermill": {
     "duration": 0.093616,
     "end_time": "2021-05-07T16:41:45.872962",
     "exception": false,
     "start_time": "2021-05-07T16:41:45.779346",
     "status": "completed"
    },
    "tags": []
   },
   "outputs": [
    {
     "data": {
      "text/html": [
       "<div>\n",
       "<style scoped>\n",
       "    .dataframe tbody tr th:only-of-type {\n",
       "        vertical-align: middle;\n",
       "    }\n",
       "\n",
       "    .dataframe tbody tr th {\n",
       "        vertical-align: top;\n",
       "    }\n",
       "\n",
       "    .dataframe thead th {\n",
       "        text-align: right;\n",
       "    }\n",
       "</style>\n",
       "<table border=\"1\" class=\"dataframe\">\n",
       "  <thead>\n",
       "    <tr style=\"text-align: right;\">\n",
       "      <th>Survived</th>\n",
       "      <th>0.0</th>\n",
       "      <th>1.0</th>\n",
       "    </tr>\n",
       "    <tr>\n",
       "      <th>Age</th>\n",
       "      <th></th>\n",
       "      <th></th>\n",
       "    </tr>\n",
       "  </thead>\n",
       "  <tbody>\n",
       "    <tr>\n",
       "      <th>0</th>\n",
       "      <td>97</td>\n",
       "      <td>82</td>\n",
       "    </tr>\n",
       "    <tr>\n",
       "      <th>1</th>\n",
       "      <td>341</td>\n",
       "      <td>200</td>\n",
       "    </tr>\n",
       "    <tr>\n",
       "      <th>2</th>\n",
       "      <td>94</td>\n",
       "      <td>55</td>\n",
       "    </tr>\n",
       "    <tr>\n",
       "      <th>3</th>\n",
       "      <td>17</td>\n",
       "      <td>5</td>\n",
       "    </tr>\n",
       "  </tbody>\n",
       "</table>\n",
       "</div>"
      ],
      "text/plain": [
       "Survived  0.0  1.0\n",
       "Age               \n",
       "0          97   82\n",
       "1         341  200\n",
       "2          94   55\n",
       "3          17    5"
      ]
     },
     "execution_count": 14,
     "metadata": {},
     "output_type": "execute_result"
    }
   ],
   "source": [
    "pd.crosstab(df['Age'], df['Survived'])"
   ]
  },
  {
   "cell_type": "markdown",
   "id": "understood-terry",
   "metadata": {
    "papermill": {
     "duration": 0.057781,
     "end_time": "2021-05-07T16:41:45.989181",
     "exception": false,
     "start_time": "2021-05-07T16:41:45.931400",
     "status": "completed"
    },
    "tags": []
   },
   "source": [
    "### 1.3. Fare column"
   ]
  },
  {
   "cell_type": "markdown",
   "id": "threatened-torture",
   "metadata": {
    "papermill": {
     "duration": 0.060482,
     "end_time": "2021-05-07T16:41:46.112295",
     "exception": false,
     "start_time": "2021-05-07T16:41:46.051813",
     "status": "completed"
    },
    "tags": []
   },
   "source": [
    "Fare has only one missing value and I imputed with the median or moda"
   ]
  },
  {
   "cell_type": "code",
   "execution_count": 15,
   "id": "dramatic-shock",
   "metadata": {
    "execution": {
     "iopub.execute_input": "2021-05-07T16:41:46.233001Z",
     "iopub.status.busy": "2021-05-07T16:41:46.231988Z",
     "iopub.status.idle": "2021-05-07T16:41:46.240061Z",
     "shell.execute_reply": "2021-05-07T16:41:46.240550Z"
    },
    "papermill": {
     "duration": 0.070198,
     "end_time": "2021-05-07T16:41:46.240754",
     "exception": false,
     "start_time": "2021-05-07T16:41:46.170556",
     "status": "completed"
    },
    "tags": []
   },
   "outputs": [],
   "source": [
    "df[\"Fare\"].fillna(df.groupby(['Pclass', 'Sex'])['Fare'].transform(\"median\"), inplace=True)"
   ]
  },
  {
   "cell_type": "code",
   "execution_count": 16,
   "id": "according-quarter",
   "metadata": {
    "execution": {
     "iopub.execute_input": "2021-05-07T16:41:46.360929Z",
     "iopub.status.busy": "2021-05-07T16:41:46.359941Z",
     "iopub.status.idle": "2021-05-07T16:41:46.596481Z",
     "shell.execute_reply": "2021-05-07T16:41:46.596950Z"
    },
    "papermill": {
     "duration": 0.298356,
     "end_time": "2021-05-07T16:41:46.597168",
     "exception": false,
     "start_time": "2021-05-07T16:41:46.298812",
     "status": "completed"
    },
    "tags": []
   },
   "outputs": [
    {
     "data": {
      "image/png": "[encoded data removed]",
      "text/plain": [
       "<Figure size 1080x360 with 1 Axes>"
      ]
     },
     "metadata": {},
     "output_type": "display_data"
    }
   ],
   "source": [
    "auxfare = pd.cut(df['Fare'],5)\n",
    "fig, axs = plt.subplots(figsize=(15, 5))\n",
    "sns.countplot(x=auxfare, hue='Survived', data=df).set_title(\"Fare Bins\",fontdict= { 'fontsize': 20, 'fontweight':'bold'});\n",
    "sns.despine()"
   ]
  },
  {
   "cell_type": "code",
   "execution_count": 17,
   "id": "insured-promotion",
   "metadata": {
    "execution": {
     "iopub.execute_input": "2021-05-07T16:41:46.719981Z",
     "iopub.status.busy": "2021-05-07T16:41:46.718975Z",
     "iopub.status.idle": "2021-05-07T16:41:46.729678Z",
     "shell.execute_reply": "2021-05-07T16:41:46.730195Z"
    },
    "papermill": {
     "duration": 0.07438,
     "end_time": "2021-05-07T16:41:46.730420",
     "exception": false,
     "start_time": "2021-05-07T16:41:46.656040",
     "status": "completed"
    },
    "tags": []
   },
   "outputs": [],
   "source": [
    "df['Fare'] = LabelEncoder().fit_transform(auxfare) "
   ]
  },
  {
   "cell_type": "code",
   "execution_count": 18,
   "id": "approximate-freeware",
   "metadata": {
    "execution": {
     "iopub.execute_input": "2021-05-07T16:41:46.854038Z",
     "iopub.status.busy": "2021-05-07T16:41:46.853029Z",
     "iopub.status.idle": "2021-05-07T16:41:46.877271Z",
     "shell.execute_reply": "2021-05-07T16:41:46.877738Z"
    },
    "papermill": {
     "duration": 0.087514,
     "end_time": "2021-05-07T16:41:46.877933",
     "exception": false,
     "start_time": "2021-05-07T16:41:46.790419",
     "status": "completed"
    },
    "tags": []
   },
   "outputs": [
    {
     "data": {
      "text/html": [
       "<div>\n",
       "<style scoped>\n",
       "    .dataframe tbody tr th:only-of-type {\n",
       "        vertical-align: middle;\n",
       "    }\n",
       "\n",
       "    .dataframe tbody tr th {\n",
       "        vertical-align: top;\n",
       "    }\n",
       "\n",
       "    .dataframe thead th {\n",
       "        text-align: right;\n",
       "    }\n",
       "</style>\n",
       "<table border=\"1\" class=\"dataframe\">\n",
       "  <thead>\n",
       "    <tr style=\"text-align: right;\">\n",
       "      <th>Survived</th>\n",
       "      <th>0.0</th>\n",
       "      <th>1.0</th>\n",
       "    </tr>\n",
       "    <tr>\n",
       "      <th>Fare</th>\n",
       "      <th></th>\n",
       "      <th></th>\n",
       "    </tr>\n",
       "  </thead>\n",
       "  <tbody>\n",
       "    <tr>\n",
       "      <th>0</th>\n",
       "      <td>535</td>\n",
       "      <td>303</td>\n",
       "    </tr>\n",
       "    <tr>\n",
       "      <th>1</th>\n",
       "      <td>8</td>\n",
       "      <td>25</td>\n",
       "    </tr>\n",
       "    <tr>\n",
       "      <th>2</th>\n",
       "      <td>6</td>\n",
       "      <td>11</td>\n",
       "    </tr>\n",
       "    <tr>\n",
       "      <th>3</th>\n",
       "      <td>0</td>\n",
       "      <td>3</td>\n",
       "    </tr>\n",
       "  </tbody>\n",
       "</table>\n",
       "</div>"
      ],
      "text/plain": [
       "Survived  0.0  1.0\n",
       "Fare              \n",
       "0         535  303\n",
       "1           8   25\n",
       "2           6   11\n",
       "3           0    3"
      ]
     },
     "execution_count": 18,
     "metadata": {},
     "output_type": "execute_result"
    }
   ],
   "source": [
    "pd.crosstab(df['Fare'], df['Survived'])"
   ]
  },
  {
   "cell_type": "markdown",
   "id": "modular-athens",
   "metadata": {
    "papermill": {
     "duration": 0.060335,
     "end_time": "2021-05-07T16:41:46.999625",
     "exception": false,
     "start_time": "2021-05-07T16:41:46.939290",
     "status": "completed"
    },
    "tags": []
   },
   "source": [
    "### 1.4. Embarked column"
   ]
  },
  {
   "cell_type": "markdown",
   "id": "prospective-japanese",
   "metadata": {
    "papermill": {
     "duration": 0.060906,
     "end_time": "2021-05-07T16:41:47.122862",
     "exception": false,
     "start_time": "2021-05-07T16:41:47.061956",
     "status": "completed"
    },
    "tags": []
   },
   "source": [
    "Has two missing values."
   ]
  },
  {
   "cell_type": "code",
   "execution_count": 19,
   "id": "tight-assets",
   "metadata": {
    "execution": {
     "iopub.execute_input": "2021-05-07T16:41:47.248385Z",
     "iopub.status.busy": "2021-05-07T16:41:47.247408Z",
     "iopub.status.idle": "2021-05-07T16:41:47.255319Z",
     "shell.execute_reply": "2021-05-07T16:41:47.255830Z"
    },
    "papermill": {
     "duration": 0.072158,
     "end_time": "2021-05-07T16:41:47.256026",
     "exception": false,
     "start_time": "2021-05-07T16:41:47.183868",
     "status": "completed"
    },
    "tags": []
   },
   "outputs": [
    {
     "name": "stdout",
     "output_type": "stream",
     "text": [
      "mean of embarked 0.0\n"
     ]
    }
   ],
   "source": [
    "print(\"mean of embarked\",df.Embarked.median())\n",
    "\n",
    "df.Embarked.fillna(df.Embarked.median(), inplace = True)"
   ]
  },
  {
   "cell_type": "markdown",
   "id": "realistic-easter",
   "metadata": {
    "papermill": {
     "duration": 0.060225,
     "end_time": "2021-05-07T16:41:47.376400",
     "exception": false,
     "start_time": "2021-05-07T16:41:47.316175",
     "status": "completed"
    },
    "tags": []
   },
   "source": [
    "### 1.5. Cabin column"
   ]
  },
  {
   "cell_type": "markdown",
   "id": "skilled-relay",
   "metadata": {
    "papermill": {
     "duration": 0.060668,
     "end_time": "2021-05-07T16:41:47.497897",
     "exception": false,
     "start_time": "2021-05-07T16:41:47.437229",
     "status": "completed"
    },
    "tags": []
   },
   "source": [
    "This column has many missing values and thats the reason I dropped it."
   ]
  },
  {
   "cell_type": "code",
   "execution_count": 20,
   "id": "unable-holly",
   "metadata": {
    "execution": {
     "iopub.execute_input": "2021-05-07T16:41:47.625329Z",
     "iopub.status.busy": "2021-05-07T16:41:47.624283Z",
     "iopub.status.idle": "2021-05-07T16:41:47.631556Z",
     "shell.execute_reply": "2021-05-07T16:41:47.632162Z"
    },
    "papermill": {
     "duration": 0.073671,
     "end_time": "2021-05-07T16:41:47.632380",
     "exception": false,
     "start_time": "2021-05-07T16:41:47.558709",
     "status": "completed"
    },
    "tags": []
   },
   "outputs": [
    {
     "name": "stdout",
     "output_type": "stream",
     "text": [
      "Percentage of missing values in the Cabin column : 77.46\n"
     ]
    }
   ],
   "source": [
    "print(\"Percentage of missing values in the Cabin column :\" ,round(df.Cabin.isna().sum()/ len(df.Cabin)*100,2))"
   ]
  },
  {
   "cell_type": "code",
   "execution_count": 21,
   "id": "durable-housing",
   "metadata": {
    "execution": {
     "iopub.execute_input": "2021-05-07T16:41:47.760252Z",
     "iopub.status.busy": "2021-05-07T16:41:47.759524Z",
     "iopub.status.idle": "2021-05-07T16:41:47.765539Z",
     "shell.execute_reply": "2021-05-07T16:41:47.766068Z"
    },
    "papermill": {
     "duration": 0.072583,
     "end_time": "2021-05-07T16:41:47.766267",
     "exception": false,
     "start_time": "2021-05-07T16:41:47.693684",
     "status": "completed"
    },
    "tags": []
   },
   "outputs": [],
   "source": [
    "df.drop(['Cabin'], axis = 1, inplace = True)"
   ]
  },
  {
   "cell_type": "markdown",
   "id": "everyday-answer",
   "metadata": {
    "papermill": {
     "duration": 0.060452,
     "end_time": "2021-05-07T16:41:47.887332",
     "exception": false,
     "start_time": "2021-05-07T16:41:47.826880",
     "status": "completed"
    },
    "tags": []
   },
   "source": [
    "# 2. Feature Extraction"
   ]
  },
  {
   "cell_type": "markdown",
   "id": "indian-theta",
   "metadata": {
    "papermill": {
     "duration": 0.062858,
     "end_time": "2021-05-07T16:41:48.012488",
     "exception": false,
     "start_time": "2021-05-07T16:41:47.949630",
     "status": "completed"
    },
    "tags": []
   },
   "source": [
    "In this part I have used the Name column to extract the Title of each person."
   ]
  },
  {
   "cell_type": "code",
   "execution_count": 22,
   "id": "bright-missile",
   "metadata": {
    "execution": {
     "iopub.execute_input": "2021-05-07T16:41:48.139346Z",
     "iopub.status.busy": "2021-05-07T16:41:48.138495Z",
     "iopub.status.idle": "2021-05-07T16:41:48.149953Z",
     "shell.execute_reply": "2021-05-07T16:41:48.150520Z"
    },
    "papermill": {
     "duration": 0.076265,
     "end_time": "2021-05-07T16:41:48.150729",
     "exception": false,
     "start_time": "2021-05-07T16:41:48.074464",
     "status": "completed"
    },
    "tags": []
   },
   "outputs": [],
   "source": [
    "df['Title'] = df.Name.str.extract('([A-Za-z]+)\\.', expand = False)"
   ]
  },
  {
   "cell_type": "code",
   "execution_count": 23,
   "id": "endless-abraham",
   "metadata": {
    "execution": {
     "iopub.execute_input": "2021-05-07T16:41:48.282882Z",
     "iopub.status.busy": "2021-05-07T16:41:48.282221Z",
     "iopub.status.idle": "2021-05-07T16:41:48.289521Z",
     "shell.execute_reply": "2021-05-07T16:41:48.289994Z"
    },
    "papermill": {
     "duration": 0.077604,
     "end_time": "2021-05-07T16:41:48.290226",
     "exception": false,
     "start_time": "2021-05-07T16:41:48.212622",
     "status": "completed"
    },
    "tags": []
   },
   "outputs": [
    {
     "data": {
      "text/plain": [
       "Mr          757\n",
       "Miss        260\n",
       "Mrs         197\n",
       "Master       61\n",
       "Rev           8\n",
       "Dr            8\n",
       "Col           4\n",
       "Ms            2\n",
       "Major         2\n",
       "Mlle          2\n",
       "Jonkheer      1\n",
       "Dona          1\n",
       "Lady          1\n",
       "Mme           1\n",
       "Sir           1\n",
       "Capt          1\n",
       "Don           1\n",
       "Countess      1\n",
       "Name: Title, dtype: int64"
      ]
     },
     "execution_count": 23,
     "metadata": {},
     "output_type": "execute_result"
    }
   ],
   "source": [
    "df.Title.value_counts()"
   ]
  },
  {
   "cell_type": "markdown",
   "id": "fantastic-fancy",
   "metadata": {
    "papermill": {
     "duration": 0.06152,
     "end_time": "2021-05-07T16:41:48.414191",
     "exception": false,
     "start_time": "2021-05-07T16:41:48.352671",
     "status": "completed"
    },
    "tags": []
   },
   "source": [
    "The four titles most ocurring are Mr, Miss, Mrs and Master. "
   ]
  },
  {
   "cell_type": "code",
   "execution_count": 24,
   "id": "affecting-melbourne",
   "metadata": {
    "execution": {
     "iopub.execute_input": "2021-05-07T16:41:48.550903Z",
     "iopub.status.busy": "2021-05-07T16:41:48.546621Z",
     "iopub.status.idle": "2021-05-07T16:41:48.559957Z",
     "shell.execute_reply": "2021-05-07T16:41:48.560469Z"
    },
    "papermill": {
     "duration": 0.084229,
     "end_time": "2021-05-07T16:41:48.560679",
     "exception": false,
     "start_time": "2021-05-07T16:41:48.476450",
     "status": "completed"
    },
    "tags": []
   },
   "outputs": [
    {
     "data": {
      "text/plain": [
       "array(['Mr', 'Mrs', 'Miss', 'Master', 'Rare'], dtype=object)"
      ]
     },
     "execution_count": 24,
     "metadata": {},
     "output_type": "execute_result"
    }
   ],
   "source": [
    "least_occuring = ['Rev','Dr','Major', 'Col', 'Capt','Jonkheer','Countess']\n",
    "\n",
    "df.Title = df.Title.replace(['Ms', 'Mlle','Mme','Lady'], 'Miss')\n",
    "df.Title = df.Title.replace(['Countess','Dona'], 'Mrs')\n",
    "df.Title = df.Title.replace(['Don','Sir'], 'Mr')\n",
    "\n",
    "df.Title = df.Title.replace(least_occuring,'Rare')\n",
    "\n",
    "df.Title.unique()"
   ]
  },
  {
   "cell_type": "code",
   "execution_count": 25,
   "id": "executed-collective",
   "metadata": {
    "execution": {
     "iopub.execute_input": "2021-05-07T16:41:48.693332Z",
     "iopub.status.busy": "2021-05-07T16:41:48.692544Z",
     "iopub.status.idle": "2021-05-07T16:41:48.713535Z",
     "shell.execute_reply": "2021-05-07T16:41:48.712954Z"
    },
    "papermill": {
     "duration": 0.09033,
     "end_time": "2021-05-07T16:41:48.713689",
     "exception": false,
     "start_time": "2021-05-07T16:41:48.623359",
     "status": "completed"
    },
    "tags": []
   },
   "outputs": [
    {
     "data": {
      "text/html": [
       "<div>\n",
       "<style scoped>\n",
       "    .dataframe tbody tr th:only-of-type {\n",
       "        vertical-align: middle;\n",
       "    }\n",
       "\n",
       "    .dataframe tbody tr th {\n",
       "        vertical-align: top;\n",
       "    }\n",
       "\n",
       "    .dataframe thead th {\n",
       "        text-align: right;\n",
       "    }\n",
       "</style>\n",
       "<table border=\"1\" class=\"dataframe\">\n",
       "  <thead>\n",
       "    <tr style=\"text-align: right;\">\n",
       "      <th>Survived</th>\n",
       "      <th>0.0</th>\n",
       "      <th>1.0</th>\n",
       "    </tr>\n",
       "    <tr>\n",
       "      <th>Title</th>\n",
       "      <th></th>\n",
       "      <th></th>\n",
       "    </tr>\n",
       "  </thead>\n",
       "  <tbody>\n",
       "    <tr>\n",
       "      <th>Master</th>\n",
       "      <td>17</td>\n",
       "      <td>23</td>\n",
       "    </tr>\n",
       "    <tr>\n",
       "      <th>Miss</th>\n",
       "      <td>55</td>\n",
       "      <td>132</td>\n",
       "    </tr>\n",
       "    <tr>\n",
       "      <th>Mr</th>\n",
       "      <td>437</td>\n",
       "      <td>82</td>\n",
       "    </tr>\n",
       "    <tr>\n",
       "      <th>Mrs</th>\n",
       "      <td>26</td>\n",
       "      <td>100</td>\n",
       "    </tr>\n",
       "    <tr>\n",
       "      <th>Rare</th>\n",
       "      <td>14</td>\n",
       "      <td>5</td>\n",
       "    </tr>\n",
       "  </tbody>\n",
       "</table>\n",
       "</div>"
      ],
      "text/plain": [
       "Survived  0.0  1.0\n",
       "Title             \n",
       "Master     17   23\n",
       "Miss       55  132\n",
       "Mr        437   82\n",
       "Mrs        26  100\n",
       "Rare       14    5"
      ]
     },
     "execution_count": 25,
     "metadata": {},
     "output_type": "execute_result"
    }
   ],
   "source": [
    "pd.crosstab(df['Title'], df['Survived'])"
   ]
  },
  {
   "cell_type": "code",
   "execution_count": 26,
   "id": "saving-freedom",
   "metadata": {
    "execution": {
     "iopub.execute_input": "2021-05-07T16:41:48.847613Z",
     "iopub.status.busy": "2021-05-07T16:41:48.846950Z",
     "iopub.status.idle": "2021-05-07T16:41:48.850636Z",
     "shell.execute_reply": "2021-05-07T16:41:48.851152Z"
    },
    "papermill": {
     "duration": 0.073344,
     "end_time": "2021-05-07T16:41:48.851370",
     "exception": false,
     "start_time": "2021-05-07T16:41:48.778026",
     "status": "completed"
    },
    "tags": []
   },
   "outputs": [],
   "source": [
    "df['Title'] = LabelEncoder().fit_transform(df['Title']) "
   ]
  },
  {
   "cell_type": "markdown",
   "id": "flexible-seattle",
   "metadata": {
    "papermill": {
     "duration": 0.063396,
     "end_time": "2021-05-07T16:41:48.978386",
     "exception": false,
     "start_time": "2021-05-07T16:41:48.914990",
     "status": "completed"
    },
    "tags": []
   },
   "source": [
    "## 2.1. SibSp and Parch column"
   ]
  },
  {
   "cell_type": "code",
   "execution_count": 27,
   "id": "blocked-frost",
   "metadata": {
    "execution": {
     "iopub.execute_input": "2021-05-07T16:41:49.145816Z",
     "iopub.status.busy": "2021-05-07T16:41:49.145085Z",
     "iopub.status.idle": "2021-05-07T16:41:49.150721Z",
     "shell.execute_reply": "2021-05-07T16:41:49.150013Z"
    },
    "papermill": {
     "duration": 0.099076,
     "end_time": "2021-05-07T16:41:49.150890",
     "exception": false,
     "start_time": "2021-05-07T16:41:49.051814",
     "status": "completed"
    },
    "tags": []
   },
   "outputs": [],
   "source": [
    "# I got the total number of each family adding SibSp and Parch. (1) is the same passenger.\n",
    "df['FamilySize'] = df['SibSp'] + df['Parch']+1\n",
    "df.drop(['SibSp','Parch'], axis = 1, inplace = True)"
   ]
  },
  {
   "cell_type": "code",
   "execution_count": 28,
   "id": "cooked-appliance",
   "metadata": {
    "execution": {
     "iopub.execute_input": "2021-05-07T16:41:49.312031Z",
     "iopub.status.busy": "2021-05-07T16:41:49.287246Z",
     "iopub.status.idle": "2021-05-07T16:41:49.554861Z",
     "shell.execute_reply": "2021-05-07T16:41:49.554306Z"
    },
    "papermill": {
     "duration": 0.338896,
     "end_time": "2021-05-07T16:41:49.555011",
     "exception": false,
     "start_time": "2021-05-07T16:41:49.216115",
     "status": "completed"
    },
    "tags": []
   },
   "outputs": [
    {
     "data": {
      "image/png": "[encoded data removed]",
      "text/plain": [
       "<Figure size 1080x360 with 1 Axes>"
      ]
     },
     "metadata": {},
     "output_type": "display_data"
    }
   ],
   "source": [
    "fig, axs = plt.subplots(figsize=(15, 5))\n",
    "sns.countplot(x='FamilySize', hue='Survived', data=df).set_title(\"Raw Column\",fontdict= { 'fontsize': 20, 'fontweight':'bold'});\n",
    "sns.despine()"
   ]
  },
  {
   "cell_type": "code",
   "execution_count": 29,
   "id": "human-diagnosis",
   "metadata": {
    "execution": {
     "iopub.execute_input": "2021-05-07T16:41:49.696087Z",
     "iopub.status.busy": "2021-05-07T16:41:49.694983Z",
     "iopub.status.idle": "2021-05-07T16:41:49.698616Z",
     "shell.execute_reply": "2021-05-07T16:41:49.698072Z"
    },
    "papermill": {
     "duration": 0.079599,
     "end_time": "2021-05-07T16:41:49.698761",
     "exception": false,
     "start_time": "2021-05-07T16:41:49.619162",
     "status": "completed"
    },
    "tags": []
   },
   "outputs": [],
   "source": [
    "# Binning FamilySize column\n",
    "df.loc[ df['FamilySize'] == 1, 'FamilySize'] = 0                            # Alone\n",
    "df.loc[(df['FamilySize'] > 1) & (df['FamilySize'] <= 4), 'FamilySize'] = 1  # Small Family \n",
    "df.loc[(df['FamilySize'] > 4) & (df['FamilySize'] <= 6), 'FamilySize'] = 2  # Medium Family\n",
    "df.loc[df['FamilySize']  > 6, 'FamilySize'] = 3                             # Large Family "
   ]
  },
  {
   "cell_type": "code",
   "execution_count": 30,
   "id": "different-scientist",
   "metadata": {
    "execution": {
     "iopub.execute_input": "2021-05-07T16:41:49.859999Z",
     "iopub.status.busy": "2021-05-07T16:41:49.854177Z",
     "iopub.status.idle": "2021-05-07T16:41:50.032890Z",
     "shell.execute_reply": "2021-05-07T16:41:50.032238Z"
    },
    "papermill": {
     "duration": 0.268875,
     "end_time": "2021-05-07T16:41:50.033076",
     "exception": false,
     "start_time": "2021-05-07T16:41:49.764201",
     "status": "completed"
    },
    "tags": []
   },
   "outputs": [
    {
     "data": {
      "image/png": "[encoded data removed]",
      "text/plain": [
       "<Figure size 1080x360 with 1 Axes>"
      ]
     },
     "metadata": {},
     "output_type": "display_data"
    }
   ],
   "source": [
    "fig, axs = plt.subplots(figsize=(15, 5))\n",
    "sns.countplot(x='FamilySize', hue='Survived', data=df).set_title(\"Variable Bined\",fontdict= { 'fontsize': 20, 'fontweight':'bold'});\n",
    "sns.despine()"
   ]
  },
  {
   "cell_type": "markdown",
   "id": "floral-charity",
   "metadata": {
    "papermill": {
     "duration": 0.065602,
     "end_time": "2021-05-07T16:41:50.164610",
     "exception": false,
     "start_time": "2021-05-07T16:41:50.099008",
     "status": "completed"
    },
    "tags": []
   },
   "source": [
    "### 2.2. Ticket column"
   ]
  },
  {
   "cell_type": "markdown",
   "id": "amber-evidence",
   "metadata": {
    "papermill": {
     "duration": 0.065148,
     "end_time": "2021-05-07T16:41:50.295123",
     "exception": false,
     "start_time": "2021-05-07T16:41:50.229975",
     "status": "completed"
    },
    "tags": []
   },
   "source": [
    "With the following lambda function I got the ticket's number and I changed the LINE ticket to zero."
   ]
  },
  {
   "cell_type": "code",
   "execution_count": 31,
   "id": "dominican-colony",
   "metadata": {
    "execution": {
     "iopub.execute_input": "2021-05-07T16:41:50.436133Z",
     "iopub.status.busy": "2021-05-07T16:41:50.435121Z",
     "iopub.status.idle": "2021-05-07T16:41:50.438086Z",
     "shell.execute_reply": "2021-05-07T16:41:50.437444Z"
    },
    "papermill": {
     "duration": 0.077755,
     "end_time": "2021-05-07T16:41:50.438243",
     "exception": false,
     "start_time": "2021-05-07T16:41:50.360488",
     "status": "completed"
    },
    "tags": []
   },
   "outputs": [],
   "source": [
    "df['Ticket'] = df.Ticket.str.split().apply(lambda x : 0 if x[:][-1] == 'LINE' else x[:][-1])"
   ]
  },
  {
   "cell_type": "code",
   "execution_count": 32,
   "id": "another-international",
   "metadata": {
    "execution": {
     "iopub.execute_input": "2021-05-07T16:41:50.575475Z",
     "iopub.status.busy": "2021-05-07T16:41:50.574804Z",
     "iopub.status.idle": "2021-05-07T16:41:50.578912Z",
     "shell.execute_reply": "2021-05-07T16:41:50.578239Z"
    },
    "papermill": {
     "duration": 0.075661,
     "end_time": "2021-05-07T16:41:50.579084",
     "exception": false,
     "start_time": "2021-05-07T16:41:50.503423",
     "status": "completed"
    },
    "tags": []
   },
   "outputs": [],
   "source": [
    "df.Ticket = df.Ticket.values.astype('int64')"
   ]
  },
  {
   "cell_type": "markdown",
   "id": "composite-actress",
   "metadata": {
    "papermill": {
     "duration": 0.065691,
     "end_time": "2021-05-07T16:41:50.710561",
     "exception": false,
     "start_time": "2021-05-07T16:41:50.644870",
     "status": "completed"
    },
    "tags": []
   },
   "source": [
    "### 2.3. Name Column"
   ]
  },
  {
   "cell_type": "markdown",
   "id": "electronic-courage",
   "metadata": {
    "papermill": {
     "duration": 0.066224,
     "end_time": "2021-05-07T16:41:50.843470",
     "exception": false,
     "start_time": "2021-05-07T16:41:50.777246",
     "status": "completed"
    },
    "tags": []
   },
   "source": [
    "To get a better model,I got the Last Name of each passenger."
   ]
  },
  {
   "cell_type": "code",
   "execution_count": 33,
   "id": "annoying-constitutional",
   "metadata": {
    "execution": {
     "iopub.execute_input": "2021-05-07T16:41:50.987210Z",
     "iopub.status.busy": "2021-05-07T16:41:50.986520Z",
     "iopub.status.idle": "2021-05-07T16:41:50.990135Z",
     "shell.execute_reply": "2021-05-07T16:41:50.989540Z"
    },
    "papermill": {
     "duration": 0.081109,
     "end_time": "2021-05-07T16:41:50.990300",
     "exception": false,
     "start_time": "2021-05-07T16:41:50.909191",
     "status": "completed"
    },
    "tags": []
   },
   "outputs": [],
   "source": [
    "df['LastName'] = last= df.Name.str.extract('^(.+?),', expand = False)"
   ]
  },
  {
   "cell_type": "markdown",
   "id": "protective-harbor",
   "metadata": {
    "papermill": {
     "duration": 0.065772,
     "end_time": "2021-05-07T16:41:51.123008",
     "exception": false,
     "start_time": "2021-05-07T16:41:51.057236",
     "status": "completed"
    },
    "tags": []
   },
   "source": [
    "### 2.4. Woman or Child column"
   ]
  },
  {
   "cell_type": "markdown",
   "id": "regular-ratio",
   "metadata": {
    "papermill": {
     "duration": 0.065625,
     "end_time": "2021-05-07T16:41:51.254906",
     "exception": false,
     "start_time": "2021-05-07T16:41:51.189281",
     "status": "completed"
    },
    "tags": []
   },
   "source": [
    "Here, I created a new column to know if the passenger is woman a child, I selected the Title parameter because most of children less than 16 years have the master title."
   ]
  },
  {
   "cell_type": "code",
   "execution_count": 34,
   "id": "possible-colonial",
   "metadata": {
    "execution": {
     "iopub.execute_input": "2021-05-07T16:41:51.393344Z",
     "iopub.status.busy": "2021-05-07T16:41:51.392680Z",
     "iopub.status.idle": "2021-05-07T16:41:51.396032Z",
     "shell.execute_reply": "2021-05-07T16:41:51.396571Z"
    },
    "papermill": {
     "duration": 0.075976,
     "end_time": "2021-05-07T16:41:51.396759",
     "exception": false,
     "start_time": "2021-05-07T16:41:51.320783",
     "status": "completed"
    },
    "tags": []
   },
   "outputs": [],
   "source": [
    "df['WomChi'] = ((df.Title == 0) | (df.Sex == 0))"
   ]
  },
  {
   "cell_type": "markdown",
   "id": "gentle-license",
   "metadata": {
    "papermill": {
     "duration": 0.066921,
     "end_time": "2021-05-07T16:41:51.529892",
     "exception": false,
     "start_time": "2021-05-07T16:41:51.462971",
     "status": "completed"
    },
    "tags": []
   },
   "source": [
    "### 2.4 Family Survived Rate column"
   ]
  },
  {
   "cell_type": "markdown",
   "id": "integral-mexico",
   "metadata": {
    "papermill": {
     "duration": 0.065996,
     "end_time": "2021-05-07T16:41:51.662074",
     "exception": false,
     "start_time": "2021-05-07T16:41:51.596078",
     "status": "completed"
    },
    "tags": []
   },
   "source": [
    "In this part I created three new columns FTotalCount, FSurviviedCount and FSurvivalRate, the F is of Family.  FTotalCount uses a lambda function to count of the WomChi column on base of LastName, PClass and Ticked  detect families and then subtract the same passanger with a boolean process the passenger is woman or child. FSurvivedCount also uses a lambda function to sum WomChi column and then with mask function filters if the passenger is woman o child subtract the state of survival, and the last FSurvivalRate only divide FSurvivedCount and FTotalCount.\n"
   ]
  },
  {
   "cell_type": "code",
   "execution_count": 35,
   "id": "elementary-wonder",
   "metadata": {
    "execution": {
     "iopub.execute_input": "2021-05-07T16:41:51.799971Z",
     "iopub.status.busy": "2021-05-07T16:41:51.799303Z",
     "iopub.status.idle": "2021-05-07T16:41:53.538450Z",
     "shell.execute_reply": "2021-05-07T16:41:53.538968Z"
    },
    "papermill": {
     "duration": 1.810527,
     "end_time": "2021-05-07T16:41:53.539184",
     "exception": false,
     "start_time": "2021-05-07T16:41:51.728657",
     "status": "completed"
    },
    "tags": []
   },
   "outputs": [],
   "source": [
    "family = df.groupby([df.LastName, df.Pclass, df.Ticket]).Survived\n",
    "\n",
    "df['FTotalCount'] = family.transform(lambda s: s[df.WomChi].fillna(0).count())\n",
    "df['FTotalCount'] = df.mask(df.WomChi, (df.FTotalCount - 1), axis=0)\n",
    "\n",
    "df['FSurvivedCount'] = family.transform(lambda s: s[df.WomChi].fillna(0).sum())\n",
    "df['FSurvivedCount'] = df.mask(df.WomChi, df.FSurvivedCount - df.Survived.fillna(0), axis=0)\n",
    "\n",
    "df['FSurvivalRate'] = (df.FSurvivedCount / df.FTotalCount.replace(0, np.nan))"
   ]
  },
  {
   "cell_type": "code",
   "execution_count": 36,
   "id": "outdoor-brick",
   "metadata": {
    "execution": {
     "iopub.execute_input": "2021-05-07T16:41:53.678179Z",
     "iopub.status.busy": "2021-05-07T16:41:53.677233Z",
     "iopub.status.idle": "2021-05-07T16:41:53.687596Z",
     "shell.execute_reply": "2021-05-07T16:41:53.688160Z"
    },
    "papermill": {
     "duration": 0.082338,
     "end_time": "2021-05-07T16:41:53.688374",
     "exception": false,
     "start_time": "2021-05-07T16:41:53.606036",
     "status": "completed"
    },
    "tags": []
   },
   "outputs": [
    {
     "data": {
      "text/plain": [
       "Survived           418\n",
       "Pclass               0\n",
       "Name                 0\n",
       "Sex                  0\n",
       "Age                  0\n",
       "Ticket               0\n",
       "Fare                 0\n",
       "Embarked             0\n",
       "Title                0\n",
       "FamilySize           0\n",
       "LastName             0\n",
       "WomChi               0\n",
       "FTotalCount        245\n",
       "FSurvivedCount     245\n",
       "FSurvivalRate     1014\n",
       "dtype: int64"
      ]
     },
     "execution_count": 36,
     "metadata": {},
     "output_type": "execute_result"
    }
   ],
   "source": [
    "df.isna().sum()"
   ]
  },
  {
   "cell_type": "code",
   "execution_count": 37,
   "id": "monetary-bacteria",
   "metadata": {
    "execution": {
     "iopub.execute_input": "2021-05-07T16:41:53.827913Z",
     "iopub.status.busy": "2021-05-07T16:41:53.827274Z",
     "iopub.status.idle": "2021-05-07T16:41:53.835380Z",
     "shell.execute_reply": "2021-05-07T16:41:53.835933Z"
    },
    "papermill": {
     "duration": 0.080406,
     "end_time": "2021-05-07T16:41:53.836147",
     "exception": false,
     "start_time": "2021-05-07T16:41:53.755741",
     "status": "completed"
    },
    "tags": []
   },
   "outputs": [],
   "source": [
    "# filling the missing values\n",
    "df.FSurvivalRate.fillna(0, inplace = True)\n",
    "df.FTotalCount.fillna(0, inplace = True)\n",
    "df.FSurvivedCount.fillna(0, inplace = True)"
   ]
  },
  {
   "cell_type": "code",
   "execution_count": 38,
   "id": "hungry-circular",
   "metadata": {
    "execution": {
     "iopub.execute_input": "2021-05-07T16:41:53.973426Z",
     "iopub.status.busy": "2021-05-07T16:41:53.972691Z",
     "iopub.status.idle": "2021-05-07T16:41:53.997547Z",
     "shell.execute_reply": "2021-05-07T16:41:53.996931Z"
    },
    "papermill": {
     "duration": 0.094904,
     "end_time": "2021-05-07T16:41:53.997701",
     "exception": false,
     "start_time": "2021-05-07T16:41:53.902797",
     "status": "completed"
    },
    "tags": []
   },
   "outputs": [
    {
     "data": {
      "text/html": [
       "<div>\n",
       "<style scoped>\n",
       "    .dataframe tbody tr th:only-of-type {\n",
       "        vertical-align: middle;\n",
       "    }\n",
       "\n",
       "    .dataframe tbody tr th {\n",
       "        vertical-align: top;\n",
       "    }\n",
       "\n",
       "    .dataframe thead th {\n",
       "        text-align: right;\n",
       "    }\n",
       "</style>\n",
       "<table border=\"1\" class=\"dataframe\">\n",
       "  <thead>\n",
       "    <tr style=\"text-align: right;\">\n",
       "      <th></th>\n",
       "      <th>Survived</th>\n",
       "      <th>Pclass</th>\n",
       "      <th>Name</th>\n",
       "      <th>Sex</th>\n",
       "      <th>Age</th>\n",
       "      <th>Ticket</th>\n",
       "      <th>Fare</th>\n",
       "      <th>Embarked</th>\n",
       "      <th>Title</th>\n",
       "      <th>FamilySize</th>\n",
       "      <th>LastName</th>\n",
       "      <th>WomChi</th>\n",
       "      <th>FTotalCount</th>\n",
       "      <th>FSurvivedCount</th>\n",
       "      <th>FSurvivalRate</th>\n",
       "    </tr>\n",
       "    <tr>\n",
       "      <th>PassengerId</th>\n",
       "      <th></th>\n",
       "      <th></th>\n",
       "      <th></th>\n",
       "      <th></th>\n",
       "      <th></th>\n",
       "      <th></th>\n",
       "      <th></th>\n",
       "      <th></th>\n",
       "      <th></th>\n",
       "      <th></th>\n",
       "      <th></th>\n",
       "      <th></th>\n",
       "      <th></th>\n",
       "      <th></th>\n",
       "      <th></th>\n",
       "    </tr>\n",
       "  </thead>\n",
       "  <tbody>\n",
       "    <tr>\n",
       "      <th>94</th>\n",
       "      <td>0.0</td>\n",
       "      <td>3</td>\n",
       "      <td>Dean, Mr. Bertram Frank</td>\n",
       "      <td>1</td>\n",
       "      <td>1</td>\n",
       "      <td>2315</td>\n",
       "      <td>0</td>\n",
       "      <td>0.0</td>\n",
       "      <td>2</td>\n",
       "      <td>1</td>\n",
       "      <td>Dean</td>\n",
       "      <td>False</td>\n",
       "      <td>0.0</td>\n",
       "      <td>0.0</td>\n",
       "      <td>0.0</td>\n",
       "    </tr>\n",
       "    <tr>\n",
       "      <th>789</th>\n",
       "      <td>1.0</td>\n",
       "      <td>3</td>\n",
       "      <td>Dean, Master. Bertram Vere</td>\n",
       "      <td>1</td>\n",
       "      <td>0</td>\n",
       "      <td>2315</td>\n",
       "      <td>0</td>\n",
       "      <td>0.0</td>\n",
       "      <td>0</td>\n",
       "      <td>1</td>\n",
       "      <td>Dean</td>\n",
       "      <td>True</td>\n",
       "      <td>2.0</td>\n",
       "      <td>0.0</td>\n",
       "      <td>0.0</td>\n",
       "    </tr>\n",
       "    <tr>\n",
       "      <th>924</th>\n",
       "      <td>NaN</td>\n",
       "      <td>3</td>\n",
       "      <td>Dean, Mrs. Bertram (Eva Georgetta Light)</td>\n",
       "      <td>0</td>\n",
       "      <td>1</td>\n",
       "      <td>2315</td>\n",
       "      <td>0</td>\n",
       "      <td>0.0</td>\n",
       "      <td>3</td>\n",
       "      <td>1</td>\n",
       "      <td>Dean</td>\n",
       "      <td>True</td>\n",
       "      <td>2.0</td>\n",
       "      <td>1.0</td>\n",
       "      <td>0.5</td>\n",
       "    </tr>\n",
       "    <tr>\n",
       "      <th>1246</th>\n",
       "      <td>NaN</td>\n",
       "      <td>3</td>\n",
       "      <td>Dean, Miss. Elizabeth Gladys Millvina\"\"</td>\n",
       "      <td>0</td>\n",
       "      <td>0</td>\n",
       "      <td>2315</td>\n",
       "      <td>0</td>\n",
       "      <td>0.0</td>\n",
       "      <td>1</td>\n",
       "      <td>1</td>\n",
       "      <td>Dean</td>\n",
       "      <td>True</td>\n",
       "      <td>2.0</td>\n",
       "      <td>1.0</td>\n",
       "      <td>0.5</td>\n",
       "    </tr>\n",
       "  </tbody>\n",
       "</table>\n",
       "</div>"
      ],
      "text/plain": [
       "             Survived  Pclass                                      Name  Sex  \\\n",
       "PassengerId                                                                    \n",
       "94                0.0       3                   Dean, Mr. Bertram Frank    1   \n",
       "789               1.0       3                Dean, Master. Bertram Vere    1   \n",
       "924               NaN       3  Dean, Mrs. Bertram (Eva Georgetta Light)    0   \n",
       "1246              NaN       3   Dean, Miss. Elizabeth Gladys Millvina\"\"    0   \n",
       "\n",
       "             Age  Ticket  Fare  Embarked  Title  FamilySize LastName  WomChi  \\\n",
       "PassengerId                                                                    \n",
       "94             1    2315     0       0.0      2           1     Dean   False   \n",
       "789            0    2315     0       0.0      0           1     Dean    True   \n",
       "924            1    2315     0       0.0      3           1     Dean    True   \n",
       "1246           0    2315     0       0.0      1           1     Dean    True   \n",
       "\n",
       "             FTotalCount  FSurvivedCount  FSurvivalRate  \n",
       "PassengerId                                              \n",
       "94                   0.0             0.0            0.0  \n",
       "789                  2.0             0.0            0.0  \n",
       "924                  2.0             1.0            0.5  \n",
       "1246                 2.0             1.0            0.5  "
      ]
     },
     "execution_count": 38,
     "metadata": {},
     "output_type": "execute_result"
    }
   ],
   "source": [
    "# You can review the result Family Survival Rate with these Families Heikkinen, Braund, Rice, Andersson,\n",
    "# Fortune, Asplund, Spector,Ryerson, Allison, Carter, Vander, Planke\n",
    "\n",
    "df[df['LastName'] == \"Dean\"]"
   ]
  },
  {
   "cell_type": "markdown",
   "id": "private-radar",
   "metadata": {
    "papermill": {
     "duration": 0.068236,
     "end_time": "2021-05-07T16:41:54.135263",
     "exception": false,
     "start_time": "2021-05-07T16:41:54.067027",
     "status": "completed"
    },
    "tags": []
   },
   "source": [
    "# 3. Modeling"
   ]
  },
  {
   "cell_type": "code",
   "execution_count": 39,
   "id": "polar-singles",
   "metadata": {
    "execution": {
     "iopub.execute_input": "2021-05-07T16:41:54.276922Z",
     "iopub.status.busy": "2021-05-07T16:41:54.276259Z",
     "iopub.status.idle": "2021-05-07T16:41:54.278376Z",
     "shell.execute_reply": "2021-05-07T16:41:54.278857Z"
    },
    "papermill": {
     "duration": 0.076143,
     "end_time": "2021-05-07T16:41:54.279153",
     "exception": false,
     "start_time": "2021-05-07T16:41:54.203010",
     "status": "completed"
    },
    "tags": []
   },
   "outputs": [],
   "source": [
    "df['PassengerId'] = df.index"
   ]
  },
  {
   "cell_type": "code",
   "execution_count": 40,
   "id": "incorporate-atlanta",
   "metadata": {
    "execution": {
     "iopub.execute_input": "2021-05-07T16:41:54.419871Z",
     "iopub.status.busy": "2021-05-07T16:41:54.418894Z",
     "iopub.status.idle": "2021-05-07T16:41:54.432307Z",
     "shell.execute_reply": "2021-05-07T16:41:54.431519Z"
    },
    "papermill": {
     "duration": 0.084891,
     "end_time": "2021-05-07T16:41:54.432469",
     "exception": false,
     "start_time": "2021-05-07T16:41:54.347578",
     "status": "completed"
    },
    "tags": []
   },
   "outputs": [],
   "source": [
    "df = pd.get_dummies(df, columns=['Sex','Fare','Pclass'])"
   ]
  },
  {
   "cell_type": "code",
   "execution_count": 41,
   "id": "gentle-republican",
   "metadata": {
    "execution": {
     "iopub.execute_input": "2021-05-07T16:41:54.576249Z",
     "iopub.status.busy": "2021-05-07T16:41:54.575539Z",
     "iopub.status.idle": "2021-05-07T16:41:54.581331Z",
     "shell.execute_reply": "2021-05-07T16:41:54.580657Z"
    },
    "papermill": {
     "duration": 0.079783,
     "end_time": "2021-05-07T16:41:54.581501",
     "exception": false,
     "start_time": "2021-05-07T16:41:54.501718",
     "status": "completed"
    },
    "tags": []
   },
   "outputs": [],
   "source": [
    "df.drop(['Name','LastName','WomChi','FTotalCount','FSurvivedCount','Embarked','Title'], axis = 1, inplace = True)"
   ]
  },
  {
   "cell_type": "code",
   "execution_count": 42,
   "id": "statistical-device",
   "metadata": {
    "execution": {
     "iopub.execute_input": "2021-05-07T16:41:54.723918Z",
     "iopub.status.busy": "2021-05-07T16:41:54.723227Z",
     "iopub.status.idle": "2021-05-07T16:41:54.728697Z",
     "shell.execute_reply": "2021-05-07T16:41:54.728069Z"
    },
    "papermill": {
     "duration": 0.078874,
     "end_time": "2021-05-07T16:41:54.728847",
     "exception": false,
     "start_time": "2021-05-07T16:41:54.649973",
     "status": "completed"
    },
    "tags": []
   },
   "outputs": [
    {
     "data": {
      "text/plain": [
       "Index(['Survived', 'Age', 'Ticket', 'FamilySize', 'FSurvivalRate',\n",
       "       'PassengerId', 'Sex_0', 'Sex_1', 'Fare_0', 'Fare_1', 'Fare_2', 'Fare_3',\n",
       "       'Pclass_1', 'Pclass_2', 'Pclass_3'],\n",
       "      dtype='object')"
      ]
     },
     "execution_count": 42,
     "metadata": {},
     "output_type": "execute_result"
    }
   ],
   "source": [
    "df.columns"
   ]
  },
  {
   "cell_type": "code",
   "execution_count": 43,
   "id": "nuclear-jurisdiction",
   "metadata": {
    "execution": {
     "iopub.execute_input": "2021-05-07T16:41:54.874741Z",
     "iopub.status.busy": "2021-05-07T16:41:54.873706Z",
     "iopub.status.idle": "2021-05-07T16:41:54.881212Z",
     "shell.execute_reply": "2021-05-07T16:41:54.880609Z"
    },
    "papermill": {
     "duration": 0.083396,
     "end_time": "2021-05-07T16:41:54.881373",
     "exception": false,
     "start_time": "2021-05-07T16:41:54.797977",
     "status": "completed"
    },
    "tags": []
   },
   "outputs": [],
   "source": [
    "# I splitted df to train and test\n",
    "train, test = df.loc[train.index], df.loc[test.index]\n",
    "\n",
    "X_train = train.drop(['PassengerId','Survived'], axis = 1)\n",
    "Y_train = train[\"Survived\"]\n",
    "train_names = X_train.columns\n",
    "\n",
    "X_test = test.drop(['PassengerId','Survived'], axis = 1)"
   ]
  },
  {
   "cell_type": "code",
   "execution_count": 44,
   "id": "infrared-dublin",
   "metadata": {
    "execution": {
     "iopub.execute_input": "2021-05-07T16:41:55.027477Z",
     "iopub.status.busy": "2021-05-07T16:41:55.026461Z",
     "iopub.status.idle": "2021-05-07T16:41:55.410682Z",
     "shell.execute_reply": "2021-05-07T16:41:55.410124Z"
    },
    "papermill": {
     "duration": 0.459006,
     "end_time": "2021-05-07T16:41:55.410922",
     "exception": false,
     "start_time": "2021-05-07T16:41:54.951916",
     "status": "completed"
    },
    "tags": []
   },
   "outputs": [
    {
     "data": {
      "image/png": "[encoded data removed]",
      "text/plain": [
       "<Figure size 720x576 with 2 Axes>"
      ]
     },
     "metadata": {},
     "output_type": "display_data"
    }
   ],
   "source": [
    "corr_train = X_train.corr()\n",
    "fig, axs = plt.subplots(figsize=(10, 8))\n",
    "sns.heatmap(corr_train).set_title(\"Correlation Map\",fontdict= { 'fontsize': 20, 'fontweight':'bold'});\n",
    "plt.show()"
   ]
  },
  {
   "cell_type": "code",
   "execution_count": 45,
   "id": "operating-future",
   "metadata": {
    "execution": {
     "iopub.execute_input": "2021-05-07T16:41:55.560145Z",
     "iopub.status.busy": "2021-05-07T16:41:55.559368Z",
     "iopub.status.idle": "2021-05-07T16:41:55.570925Z",
     "shell.execute_reply": "2021-05-07T16:41:55.570352Z"
    },
    "papermill": {
     "duration": 0.089372,
     "end_time": "2021-05-07T16:41:55.571106",
     "exception": false,
     "start_time": "2021-05-07T16:41:55.481734",
     "status": "completed"
    },
    "tags": []
   },
   "outputs": [],
   "source": [
    "# Scaler\n",
    "X_train = StandardScaler().fit_transform(X_train)\n",
    "X_test = StandardScaler().fit_transform(X_test)"
   ]
  },
  {
   "cell_type": "code",
   "execution_count": 46,
   "id": "rapid-bryan",
   "metadata": {
    "execution": {
     "iopub.execute_input": "2021-05-07T16:41:55.719218Z",
     "iopub.status.busy": "2021-05-07T16:41:55.718528Z",
     "iopub.status.idle": "2021-05-07T16:41:55.726518Z",
     "shell.execute_reply": "2021-05-07T16:41:55.725938Z"
    },
    "papermill": {
     "duration": 0.08487,
     "end_time": "2021-05-07T16:41:55.726674",
     "exception": false,
     "start_time": "2021-05-07T16:41:55.641804",
     "status": "completed"
    },
    "tags": []
   },
   "outputs": [
    {
     "name": "stdout",
     "output_type": "stream",
     "text": [
      "Accuracy of the model:  99.89\n"
     ]
    }
   ],
   "source": [
    "decision_tree = DecisionTreeClassifier()\n",
    "decision_tree.fit(X_train, Y_train)\n",
    "Y_predDT = decision_tree.predict(X_test)\n",
    "\n",
    "print(\"Accuracy of the model: \",round(decision_tree.score(X_train, Y_train) * 100, 2))"
   ]
  },
  {
   "cell_type": "code",
   "execution_count": 47,
   "id": "unexpected-symphony",
   "metadata": {
    "execution": {
     "iopub.execute_input": "2021-05-07T16:41:55.905829Z",
     "iopub.status.busy": "2021-05-07T16:41:55.905061Z",
     "iopub.status.idle": "2021-05-07T16:41:56.065668Z",
     "shell.execute_reply": "2021-05-07T16:41:56.063888Z"
    },
    "papermill": {
     "duration": 0.266587,
     "end_time": "2021-05-07T16:41:56.065866",
     "exception": false,
     "start_time": "2021-05-07T16:41:55.799279",
     "status": "completed"
    },
    "tags": []
   },
   "outputs": [
    {
     "data": {
      "image/png": "[encoded data removed]",
      "text/plain": [
       "<Figure size 576x360 with 1 Axes>"
      ]
     },
     "metadata": {},
     "output_type": "display_data"
    }
   ],
   "source": [
    "importances = pd.DataFrame(decision_tree.feature_importances_, index = train_names)\n",
    "importances.sort_values(by = 0, inplace=True, ascending = False)\n",
    "importances = importances.iloc[0:6,:] \n",
    "\n",
    "plt.figure(figsize=(8, 5)) \n",
    "sns.barplot(x=0, y=importances.index, data=importances,palette=\"deep\").set_title(\"Feature Importances\",\n",
    "                                                                                 fontdict= { 'fontsize': 20,\n",
    "                                                                                            'fontweight':'bold'});\n",
    "sns.despine()"
   ]
  },
  {
   "cell_type": "code",
   "execution_count": 48,
   "id": "everyday-volume",
   "metadata": {
    "execution": {
     "iopub.execute_input": "2021-05-07T16:41:56.225545Z",
     "iopub.status.busy": "2021-05-07T16:41:56.224864Z",
     "iopub.status.idle": "2021-05-07T16:41:56.233650Z",
     "shell.execute_reply": "2021-05-07T16:41:56.233087Z"
    },
    "papermill": {
     "duration": 0.090468,
     "end_time": "2021-05-07T16:41:56.233812",
     "exception": false,
     "start_time": "2021-05-07T16:41:56.143344",
     "status": "completed"
    },
    "tags": []
   },
   "outputs": [],
   "source": [
    "submit = pd.DataFrame({\"PassengerId\":test.PassengerId, 'Survived':Y_predDT.astype(int).ravel()})\n",
    "submit.to_csv(\"submissionJavier_Vallejos.csv\",index = False)"
   ]
  },
  {
   "cell_type": "markdown",
   "id": "special-festival",
   "metadata": {
    "papermill": {
     "duration": 0.072562,
     "end_time": "2021-05-07T16:41:56.378745",
     "exception": false,
     "start_time": "2021-05-07T16:41:56.306183",
     "status": "completed"
    },
    "tags": []
   },
   "source": [
    "# 4. Conclutions"
   ]
  },
  {
   "cell_type": "markdown",
   "id": "actual-following",
   "metadata": {
    "papermill": {
     "duration": 0.07168,
     "end_time": "2021-05-07T16:41:56.523384",
     "exception": false,
     "start_time": "2021-05-07T16:41:56.451704",
     "status": "completed"
    },
    "tags": []
   },
   "source": [
    "This report is part of a bootcamp of Data Science, and as you can see I achieved to be on the Top 3%. In the fist part I did an analysis to visualize each column and impute their missing values. After that I applied feature engineering to extract the title, last name of the Name column and Family Size is the adding of SibSp and Parch plus one that means the same passenger. Age and Fare columns have been Binning to get better results. To get Family Survival Rate is base on two rules:\n",
    "\n",
    "1. All males die except boys in families where all females and boys live.\n",
    "2. All females live except those in families where all females and boys die.\n",
    "\n",
    "With rules above you can get an score near to 81% but if you add the ticket number and other changes that I did you can improve it to 82.78% on Kaggle leaderboard.\n",
    "\n",
    "To the model part I used only Desicion tree because is the easy way to getting this score.\n",
    "\n",
    "Finally, if you want to increase your score, then I suggest you read this [work](https://www.kaggle.com/cdeotte/titanic-wcg-xgboost-0-84688). and like Chris Deotte said in his [post](https://www.kaggle.com/c/titanic/discussion/57447) this is the fist step to improve your score. \n",
    "\n"
   ]
  },
  {
   "cell_type": "markdown",
   "id": "together-bunny",
   "metadata": {
    "papermill": {
     "duration": 0.072112,
     "end_time": "2021-05-07T16:41:56.667831",
     "exception": false,
     "start_time": "2021-05-07T16:41:56.595719",
     "status": "completed"
    },
    "tags": []
   },
   "source": [
    "# 5. References"
   ]
  },
  {
   "cell_type": "markdown",
   "id": "affected-revolution",
   "metadata": {
    "papermill": {
     "duration": 0.075029,
     "end_time": "2021-05-07T16:41:56.814654",
     "exception": false,
     "start_time": "2021-05-07T16:41:56.739625",
     "status": "completed"
    },
    "tags": []
   },
   "source": [
    "* [Advanced Feature Engineering Tutorial](https://www.kaggle.com/gunesevitan/titanic-advanced-feature-engineering-tutorial)\n",
    "* [Top 5% Titanic: Machine Learning from Disaster](https://www.kaggle.com/kpacocha/top-5-titanic-machine-learning-from-disaster)\n",
    "* [Titanic - Top score : one line of the prediction](https://www.kaggle.com/vbmokin/titanic-top-score-one-line-of-the-prediction?scriptVersionId=42197143&select=survived.csv)\n",
    "* [Titanic survival prediction from Name and Sex](https://www.kaggle.com/mauricef/titanic)\n",
    "* [Titanic Dive Through: Feature scaling and outliers](https://www.kaggle.com/allunia/titanic-dive-through-feature-scaling-and-outliers)\n",
    "* [Titanic (Top 20%) with ensemble VotingClassifier](https://www.kaggle.com/amiiiney/titanic-top-20-with-ensemble-votingclassifier#5--Machine-Learning)\n",
    "* [Titanic Survival Rate](https://www.kaggle.com/prakharrathi25/titanic-survival-rate#Titanic-Survival-Prediction)\n"
   ]
  }
 ],
 "metadata": {
  "kernelspec": {
   "display_name": "Python 3",
   "language": "python",
   "name": "python3"
  },
  "language_info": {
   "codemirror_mode": {
    "name": "ipython",
    "version": 3
   },
   "file_extension": ".py",
   "mimetype": "text/x-python",
   "name": "python",
   "nbconvert_exporter": "python",
   "pygments_lexer": "ipython3",
   "version": "3.7.10"
  },
  "papermill": {
   "default_parameters": {},
   "duration": 28.112247,
   "end_time": "2021-05-07T16:41:57.799678",
   "environment_variables": {},
   "exception": null,
   "input_path": "__notebook__.ipynb",
   "output_path": "__notebook__.ipynb",
   "parameters": {},
   "start_time": "2021-05-07T16:41:29.687431",
   "version": "2.3.3"
  }
 },
 "nbformat": 4,
 "nbformat_minor": 5
}
